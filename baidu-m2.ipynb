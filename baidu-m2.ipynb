{
 "cells": [
  {
   "cell_type": "code",
   "execution_count": 1,
   "metadata": {},
   "outputs": [
    {
     "name": "stderr",
     "output_type": "stream",
     "text": [
      "WARNING (theano.sandbox.cuda): The cuda backend is deprecated and will be removed in the next release (v0.10).  Please switch to the gpuarray backend. You can get more information about how to switch at this URL:\n",
      " https://github.com/Theano/Theano/wiki/Converting-to-the-new-gpu-back-end%28gpuarray%29\n",
      "\n",
      "Using gpu device 0: GeForce GTX 760 (CNMeM is disabled, cuDNN 5103)\n",
      "Using Theano backend.\n"
     ]
    }
   ],
   "source": [
    "%matplotlib inline\n",
    "from __future__ import print_function, division\n",
    "path = \"data/baidu/\"\n",
    "#path = \"data/state/sample/\"\n",
    "import utils; reload(utils)\n",
    "from utils import *\n",
    "from IPython.display import FileLink"
   ]
  },
  {
   "cell_type": "code",
   "execution_count": 2,
   "metadata": {
    "collapsed": true
   },
   "outputs": [],
   "source": [
    "gen = image.ImageDataGenerator()"
   ]
  },
  {
   "cell_type": "code",
   "execution_count": 3,
   "metadata": {},
   "outputs": [
    {
     "name": "stdout",
     "output_type": "stream",
     "text": [
      "Found 100000 images belonging to 1 classes.\n"
     ]
    }
   ],
   "source": [
    "batches = gen.flow_from_directory(path+'/image_contest_level_1', \n",
    "                                  batch_size=1, \n",
    "                                  target_size=(30,90),\n",
    "                                  shuffle=False,\n",
    "                                  class_mode=None,\n",
    "                                  color_mode='grayscale'\n",
    "                                 )"
   ]
  },
  {
   "cell_type": "code",
   "execution_count": 5,
   "metadata": {},
   "outputs": [],
   "source": [
    "imgs = np.concatenate([batches.next() for i in range(batches.nb_sample)])"
   ]
  },
  {
   "cell_type": "code",
   "execution_count": 35,
   "metadata": {},
   "outputs": [],
   "source": [
    "save_array(path+'imgs.dat', path)"
   ]
  },
  {
   "cell_type": "code",
   "execution_count": null,
   "metadata": {
    "collapsed": true
   },
   "outputs": [],
   "source": [
    "imgs = load_array(path+'imgs.dat')"
   ]
  },
  {
   "cell_type": "code",
   "execution_count": 6,
   "metadata": {
    "collapsed": true
   },
   "outputs": [],
   "source": [
    "x2label_idx = [int(f[8:][:-4]) for f in batches.filenames]"
   ]
  },
  {
   "cell_type": "code",
   "execution_count": 7,
   "metadata": {},
   "outputs": [
    {
     "data": {
      "text/plain": [
       "[81314, 42703, 94273, 72552, 17141, 50750, 48773, 94926, 47470, 13306]"
      ]
     },
     "execution_count": 7,
     "metadata": {},
     "output_type": "execute_result"
    }
   ],
   "source": [
    "x2label_idx[:10]"
   ]
  },
  {
   "cell_type": "code",
   "execution_count": 8,
   "metadata": {
    "collapsed": true
   },
   "outputs": [],
   "source": [
    "label_texts = []\n",
    "lines = []\n",
    "with open(path+'labels.txt') as f:\n",
    "    lines = f.readlines()\n",
    "label_texts = [l.strip().split()[0] for l in lines]"
   ]
  },
  {
   "cell_type": "code",
   "execution_count": 9,
   "metadata": {},
   "outputs": [
    {
     "data": {
      "text/plain": [
       "['(4*8)+8',\n",
       " '7+3*0',\n",
       " '5+(5+2)',\n",
       " '(8-0)-8',\n",
       " '0+(0+2)',\n",
       " '(2*5)+0',\n",
       " '0+(1+8)',\n",
       " '2+(4+9)',\n",
       " '7*2+4',\n",
       " '0-(7*1)']"
      ]
     },
     "execution_count": 9,
     "metadata": {},
     "output_type": "execute_result"
    }
   ],
   "source": [
    "label_texts[:10]"
   ]
  },
  {
   "cell_type": "code",
   "execution_count": 10,
   "metadata": {
    "collapsed": true
   },
   "outputs": [],
   "source": [
    "tokens = ['0','1','2', '3','4','5','6','7','8','9', \n",
    "          '+', '-', '*',\n",
    "         '(0', '(1', '(2', '(3', '(4', '(5', '(6', '(7', '(8', '(9',\n",
    "         '0)', '1)', '2)', '3)', '4)', '5)', '6)', '7)', '8)', '9)']"
   ]
  },
  {
   "cell_type": "code",
   "execution_count": 11,
   "metadata": {},
   "outputs": [
    {
     "data": {
      "text/plain": [
       "33"
      ]
     },
     "execution_count": 11,
     "metadata": {},
     "output_type": "execute_result"
    }
   ],
   "source": [
    "len(tokens)"
   ]
  },
  {
   "cell_type": "code",
   "execution_count": 13,
   "metadata": {},
   "outputs": [],
   "source": [
    "token2idx={char:i for i, char in enumerate(tokens)}"
   ]
  },
  {
   "cell_type": "code",
   "execution_count": 14,
   "metadata": {},
   "outputs": [],
   "source": [
    "labels = []\n",
    "for ts in label_texts:\n",
    "    cursor = 0\n",
    "    l = []\n",
    "    while cursor < len(ts):\n",
    "        c = ts[cursor]\n",
    "        if c == '(':\n",
    "            l.append(token2idx[c + ts[cursor+1]])\n",
    "            cursor = cursor + 2\n",
    "        elif cursor+1 < len(ts) and ts[cursor+1] == ')':\n",
    "            l.append(token2idx[c + ts[cursor+1]])\n",
    "            cursor = cursor + 2\n",
    "        else:\n",
    "            l.append(token2idx[c])\n",
    "            cursor = cursor + 1\n",
    "\n",
    "    labels.append(l)\n",
    "labels = np.array(labels)"
   ]
  },
  {
   "cell_type": "code",
   "execution_count": 16,
   "metadata": {},
   "outputs": [
    {
     "data": {
      "text/plain": [
       "(33, 5)"
      ]
     },
     "execution_count": 16,
     "metadata": {},
     "output_type": "execute_result"
    }
   ],
   "source": [
    "token_size, seq_len = len(tokens), len(labels[0])\n",
    "token_size, seq_len"
   ]
  },
  {
   "cell_type": "code",
   "execution_count": 17,
   "metadata": {},
   "outputs": [
    {
     "data": {
      "text/plain": [
       "(100000, 5)"
      ]
     },
     "execution_count": 17,
     "metadata": {},
     "output_type": "execute_result"
    }
   ],
   "source": [
    "labels.shape"
   ]
  },
  {
   "cell_type": "code",
   "execution_count": 18,
   "metadata": {},
   "outputs": [],
   "source": [
    "idxs = np.random.permutation(imgs.shape[0])\n",
    "mask = np.random.rand(len(imgs)) < 0.8\n",
    "trn_idxs = idxs[mask]\n",
    "val_idxs = idxs[~mask]"
   ]
  },
  {
   "cell_type": "code",
   "execution_count": 19,
   "metadata": {},
   "outputs": [
    {
     "data": {
      "text/plain": [
       "(80044, 19956)"
      ]
     },
     "execution_count": 19,
     "metadata": {},
     "output_type": "execute_result"
    }
   ],
   "source": [
    "len(trn_idxs), len(val_idxs)"
   ]
  },
  {
   "cell_type": "code",
   "execution_count": 20,
   "metadata": {
    "collapsed": true
   },
   "outputs": [],
   "source": [
    "x_trn = imgs[trn_idxs]\n",
    "y_trn_m = labels[np.array(x2label_idx)[trn_idxs]]\n",
    "\n",
    "y_trn = np.expand_dims(np.stack(y_trn_m, axis=0), -1)"
   ]
  },
  {
   "cell_type": "code",
   "execution_count": 21,
   "metadata": {},
   "outputs": [
    {
     "data": {
      "text/plain": [
       "((80044, 1, 30, 90), (80044, 5, 1))"
      ]
     },
     "execution_count": 21,
     "metadata": {},
     "output_type": "execute_result"
    }
   ],
   "source": [
    "x_trn.shape, y_trn.shape"
   ]
  },
  {
   "cell_type": "code",
   "execution_count": 22,
   "metadata": {},
   "outputs": [
    {
     "data": {
      "text/plain": [
       "(80044, 5, 1)"
      ]
     },
     "execution_count": 22,
     "metadata": {},
     "output_type": "execute_result"
    }
   ],
   "source": [
    "y_trn.shape"
   ]
  },
  {
   "cell_type": "code",
   "execution_count": 23,
   "metadata": {
    "collapsed": true
   },
   "outputs": [],
   "source": [
    "x_val = imgs[val_idxs]\n",
    "y_val_m = labels[np.array(x2label_idx)[val_idxs]]\n",
    "y_val = np.expand_dims(np.stack(y_val_m, axis=0), -1)"
   ]
  },
  {
   "cell_type": "code",
   "execution_count": 24,
   "metadata": {},
   "outputs": [
    {
     "data": {
      "text/plain": [
       "((19956, 1, 30, 90), (19956, 5, 1))"
      ]
     },
     "execution_count": 24,
     "metadata": {},
     "output_type": "execute_result"
    }
   ],
   "source": [
    "x_val.shape, y_val.shape"
   ]
  },
  {
   "cell_type": "code",
   "execution_count": 24,
   "metadata": {},
   "outputs": [
    {
     "data": {
      "text/plain": [
       "array(['1+4+8NN'], \n",
       "      dtype='|S7')"
      ]
     },
     "execution_count": 24,
     "metadata": {},
     "output_type": "execute_result"
    }
   ],
   "source": [
    "np.array(label_texts)[np.array(x2label_idx)[[0]]]"
   ]
  },
  {
   "cell_type": "code",
   "execution_count": 57,
   "metadata": {},
   "outputs": [
    {
     "data": {
      "image/png": "[encoded data removed]",
      "text/plain": [
       "<matplotlib.figure.Figure at 0x7f8f33c8c5d0>"
      ]
     },
     "metadata": {},
     "output_type": "display_data"
    }
   ],
   "source": [
    "plots([image.load_img(path + 'image_contest_level_1/'+batches.filenames[13419])], titles=None)"
   ]
  },
  {
   "cell_type": "code",
   "execution_count": 58,
   "metadata": {},
   "outputs": [
    {
     "data": {
      "text/plain": [
       "'1-(8+4)'"
      ]
     },
     "execution_count": 58,
     "metadata": {},
     "output_type": "execute_result"
    }
   ],
   "source": [
    "val_idxs[0]"
   ]
  },
  {
   "cell_type": "code",
   "execution_count": 25,
   "metadata": {
    "collapsed": true
   },
   "outputs": [],
   "source": [
    "mean_px = x_trn.mean().astype(np.float32)\n",
    "std_px = x_trn.std().astype(np.float32)"
   ]
  },
  {
   "cell_type": "code",
   "execution_count": 26,
   "metadata": {
    "collapsed": true
   },
   "outputs": [],
   "source": [
    "def norm_input(x): return (x-mean_px)/std_px"
   ]
  },
  {
   "cell_type": "markdown",
   "metadata": {},
   "source": [
    "# Single dense layer"
   ]
  },
  {
   "cell_type": "code",
   "execution_count": 117,
   "metadata": {},
   "outputs": [
    {
     "name": "stderr",
     "output_type": "stream",
     "text": [
      "/home/viiv/anaconda2/lib/python2.7/site-packages/keras/layers/core.py:622: UserWarning: `output_shape` argument not specified for layer lambda_15 and cannot be automatically inferred with the Theano backend. Defaulting to output shape `(None, 1, 60, 180)` (same as input shape). If the expected output shape is different, specify it via the `output_shape` argument.\n",
      "  .format(self.name, input_shape))\n"
     ]
    }
   ],
   "source": [
    "model = Sequential([\n",
    "    Lambda(norm_input, input_shape=(1,60,180)),\n",
    "    Flatten(),\n",
    "    Dense(70, activation='relu'),\n",
    "    Reshape((7, 10)),\n",
    "    TimeDistributed(Dense(17, activation='softmax'))\n",
    "])"
   ]
  },
  {
   "cell_type": "code",
   "execution_count": 118,
   "metadata": {},
   "outputs": [
    {
     "name": "stdout",
     "output_type": "stream",
     "text": [
      "____________________________________________________________________________________________________\n",
      "Layer (type)                     Output Shape          Param #     Connected to                     \n",
      "====================================================================================================\n",
      "lambda_15 (Lambda)               (None, 1, 60, 180)    0           lambda_input_14[0][0]            \n",
      "____________________________________________________________________________________________________\n",
      "flatten_15 (Flatten)             (None, 10800)         0           lambda_15[0][0]                  \n",
      "____________________________________________________________________________________________________\n",
      "dense_32 (Dense)                 (None, 70)            756070      flatten_15[0][0]                 \n",
      "____________________________________________________________________________________________________\n",
      "reshape_10 (Reshape)             (None, 7, 10)         0           dense_32[0][0]                   \n",
      "____________________________________________________________________________________________________\n",
      "timedistributed_14 (TimeDistribu (None, 7, 17)         187         reshape_10[0][0]                 \n",
      "====================================================================================================\n",
      "Total params: 756,257\n",
      "Trainable params: 756,257\n",
      "Non-trainable params: 0\n",
      "____________________________________________________________________________________________________\n"
     ]
    }
   ],
   "source": [
    "model.summary()"
   ]
  },
  {
   "cell_type": "code",
   "execution_count": 133,
   "metadata": {
    "collapsed": true
   },
   "outputs": [],
   "source": [
    "model.compile(Adam(), loss='sparse_categorical_crossentropy', metrics=['accuracy'])"
   ]
  },
  {
   "cell_type": "code",
   "execution_count": 140,
   "metadata": {},
   "outputs": [
    {
     "name": "stdout",
     "output_type": "stream",
     "text": [
      "Train on 7939 samples, validate on 2061 samples\n",
      "Epoch 1/1\n",
      "7939/7939 [==============================] - 1s - loss: 0.9430 - acc: 0.6604 - val_loss: 1.0708 - val_acc: 0.6259\n"
     ]
    },
    {
     "data": {
      "text/plain": [
       "<keras.callbacks.History at 0x7f36aaddc950>"
      ]
     },
     "execution_count": 140,
     "metadata": {},
     "output_type": "execute_result"
    }
   ],
   "source": [
    "model.fit(x_trn, y_trn, batch_size=64, nb_epoch=1, validation_data=(x_val, y_val))"
   ]
  },
  {
   "cell_type": "markdown",
   "metadata": {},
   "source": [
    "# Basic Vgg style "
   ]
  },
  {
   "cell_type": "code",
   "execution_count": 141,
   "metadata": {},
   "outputs": [
    {
     "name": "stderr",
     "output_type": "stream",
     "text": [
      "/home/viiv/anaconda2/lib/python2.7/site-packages/keras/layers/core.py:622: UserWarning: `output_shape` argument not specified for layer lambda_16 and cannot be automatically inferred with the Theano backend. Defaulting to output shape `(None, 1, 60, 180)` (same as input shape). If the expected output shape is different, specify it via the `output_shape` argument.\n",
      "  .format(self.name, input_shape))\n"
     ]
    }
   ],
   "source": [
    "model = Sequential([\n",
    "    Lambda(norm_input, input_shape=(1,30,90)),\n",
    "    Convolution2D(32,3,3, activation='relu'),\n",
    "    Convolution2D(32,3,3, activation='relu'),\n",
    "    MaxPooling2D(),\n",
    "    Convolution2D(64,3,3, activation='relu'),\n",
    "    Convolution2D(64,3,3, activation='relu'),\n",
    "    MaxPooling2D(),\n",
    "    Flatten(),\n",
    "    Dense(seq_len*10, activation='relu'),\n",
    "    Reshape((seq_len, 10)),\n",
    "    TimeDistributed(Dense(token_size, activation='softmax'))\n",
    "])"
   ]
  },
  {
   "cell_type": "code",
   "execution_count": 142,
   "metadata": {
    "collapsed": true
   },
   "outputs": [],
   "source": [
    "model.compile(Adam(), loss='sparse_categorical_crossentropy', metrics=['accuracy'])"
   ]
  },
  {
   "cell_type": "code",
   "execution_count": 143,
   "metadata": {},
   "outputs": [
    {
     "name": "stdout",
     "output_type": "stream",
     "text": [
      "Train on 7939 samples, validate on 2061 samples\n",
      "Epoch 1/2\n",
      "7939/7939 [==============================] - 28s - loss: 1.7933 - acc: 0.3787 - val_loss: 1.4461 - val_acc: 0.5168\n",
      "Epoch 2/2\n",
      "7939/7939 [==============================] - 28s - loss: 1.2494 - acc: 0.5891 - val_loss: 1.1649 - val_acc: 0.6127\n"
     ]
    },
    {
     "data": {
      "text/plain": [
       "<keras.callbacks.History at 0x7f3697c46890>"
      ]
     },
     "execution_count": 143,
     "metadata": {},
     "output_type": "execute_result"
    }
   ],
   "source": [
    "model.fit(x_trn, y_trn, batch_size=64, nb_epoch=2, validation_data=(x_val, y_val))"
   ]
  },
  {
   "cell_type": "code",
   "execution_count": 144,
   "metadata": {},
   "outputs": [
    {
     "name": "stdout",
     "output_type": "stream",
     "text": [
      "Train on 7939 samples, validate on 2061 samples\n",
      "Epoch 1/2\n",
      "7939/7939 [==============================] - 28s - loss: 1.0651 - acc: 0.6478 - val_loss: 1.0614 - val_acc: 0.6546\n",
      "Epoch 2/2\n",
      "7939/7939 [==============================] - 28s - loss: 0.9381 - acc: 0.6866 - val_loss: 0.9928 - val_acc: 0.6744\n"
     ]
    },
    {
     "data": {
      "text/plain": [
       "<keras.callbacks.History at 0x7f3697c46b50>"
      ]
     },
     "execution_count": 144,
     "metadata": {},
     "output_type": "execute_result"
    }
   ],
   "source": [
    "model.fit(x_trn, y_trn, batch_size=64, nb_epoch=2, validation_data=(x_val, y_val))"
   ]
  },
  {
   "cell_type": "code",
   "execution_count": 145,
   "metadata": {},
   "outputs": [
    {
     "name": "stdout",
     "output_type": "stream",
     "text": [
      "Train on 7939 samples, validate on 2061 samples\n",
      "Epoch 1/2\n",
      "7939/7939 [==============================] - 28s - loss: 0.8705 - acc: 0.7040 - val_loss: 0.9370 - val_acc: 0.6873\n",
      "Epoch 2/2\n",
      "7939/7939 [==============================] - 28s - loss: 0.8052 - acc: 0.7193 - val_loss: 0.9007 - val_acc: 0.6938\n"
     ]
    },
    {
     "data": {
      "text/plain": [
       "<keras.callbacks.History at 0x7f3697c46b10>"
      ]
     },
     "execution_count": 145,
     "metadata": {},
     "output_type": "execute_result"
    }
   ],
   "source": [
    "model.fit(x_trn, y_trn, batch_size=64, nb_epoch=2, validation_data=(x_val, y_val))"
   ]
  },
  {
   "cell_type": "markdown",
   "metadata": {},
   "source": [
    "# Batchnorm"
   ]
  },
  {
   "cell_type": "code",
   "execution_count": 38,
   "metadata": {},
   "outputs": [
    {
     "name": "stderr",
     "output_type": "stream",
     "text": [
      "/home/viiv/anaconda2/lib/python2.7/site-packages/keras/layers/core.py:622: UserWarning: `output_shape` argument not specified for layer lambda_4 and cannot be automatically inferred with the Theano backend. Defaulting to output shape `(None, 1, 30, 90)` (same as input shape). If the expected output shape is different, specify it via the `output_shape` argument.\n",
      "  .format(self.name, input_shape))\n"
     ]
    }
   ],
   "source": [
    "model = Sequential([\n",
    "    Lambda(norm_input, input_shape=(1,30,90)),\n",
    "    Convolution2D(32,3,3, activation='relu'),\n",
    "    BatchNormalization(axis=1),\n",
    "    Convolution2D(32,3,3, activation='relu'),\n",
    "    BatchNormalization(axis=1),\n",
    "    MaxPooling2D(),\n",
    "    Convolution2D(64,3,3, activation='relu'),\n",
    "    BatchNormalization(axis=1),\n",
    "    Convolution2D(64,3,3, activation='relu'),\n",
    "    BatchNormalization(axis=1),\n",
    "    MaxPooling2D(),\n",
    "    \n",
    "    Flatten(),\n",
    "    BatchNormalization(),\n",
    "    Dense(seq_len*20, activation='relu'),\n",
    "    BatchNormalization(),\n",
    "    Reshape((seq_len, 20)),\n",
    "    TimeDistributed(Dense(token_size, activation='softmax'))\n",
    "])"
   ]
  },
  {
   "cell_type": "code",
   "execution_count": 57,
   "metadata": {
    "collapsed": true
   },
   "outputs": [
    {
     "name": "stdout",
     "output_type": "stream",
     "text": [
      "____________________________________________________________________________________________________\n",
      "Layer (type)                     Output Shape          Param #     Connected to                     \n",
      "====================================================================================================\n",
      "lambda_1 (Lambda)                (None, 1, 30, 90)     0           lambda_input_1[0][0]             \n",
      "____________________________________________________________________________________________________\n",
      "convolution2d_1 (Convolution2D)  (None, 32, 28, 88)    320         lambda_1[0][0]                   \n",
      "____________________________________________________________________________________________________\n",
      "batchnormalization_1 (BatchNorma (None, 32, 28, 88)    128         convolution2d_1[0][0]            \n",
      "____________________________________________________________________________________________________\n",
      "convolution2d_2 (Convolution2D)  (None, 32, 26, 86)    9248        batchnormalization_1[0][0]       \n",
      "____________________________________________________________________________________________________\n",
      "batchnormalization_2 (BatchNorma (None, 32, 26, 86)    128         convolution2d_2[0][0]            \n",
      "____________________________________________________________________________________________________\n",
      "maxpooling2d_1 (MaxPooling2D)    (None, 32, 13, 43)    0           batchnormalization_2[0][0]       \n",
      "____________________________________________________________________________________________________\n",
      "convolution2d_3 (Convolution2D)  (None, 64, 11, 41)    18496       maxpooling2d_1[0][0]             \n",
      "____________________________________________________________________________________________________\n",
      "batchnormalization_3 (BatchNorma (None, 64, 11, 41)    256         convolution2d_3[0][0]            \n",
      "____________________________________________________________________________________________________\n",
      "convolution2d_4 (Convolution2D)  (None, 64, 9, 39)     36928       batchnormalization_3[0][0]       \n",
      "____________________________________________________________________________________________________\n",
      "batchnormalization_4 (BatchNorma (None, 64, 9, 39)     256         convolution2d_4[0][0]            \n",
      "____________________________________________________________________________________________________\n",
      "maxpooling2d_2 (MaxPooling2D)    (None, 64, 4, 19)     0           batchnormalization_4[0][0]       \n",
      "____________________________________________________________________________________________________\n",
      "flatten_1 (Flatten)              (None, 4864)          0           maxpooling2d_2[0][0]             \n",
      "____________________________________________________________________________________________________\n",
      "batchnormalization_5 (BatchNorma (None, 4864)          19456       flatten_1[0][0]                  \n",
      "____________________________________________________________________________________________________\n",
      "dense_1 (Dense)                  (None, 50)            243250      batchnormalization_5[0][0]       \n",
      "____________________________________________________________________________________________________\n",
      "batchnormalization_6 (BatchNorma (None, 50)            200         dense_1[0][0]                    \n",
      "____________________________________________________________________________________________________\n",
      "reshape_1 (Reshape)              (None, 5, 10)         0           batchnormalization_6[0][0]       \n",
      "____________________________________________________________________________________________________\n",
      "timedistributed_1 (TimeDistribut (None, 5, 34)         374         reshape_1[0][0]                  \n",
      "====================================================================================================\n",
      "Total params: 329,040\n",
      "Trainable params: 318,828\n",
      "Non-trainable params: 10,212\n",
      "____________________________________________________________________________________________________\n"
     ]
    }
   ],
   "source": [
    "model.summary()"
   ]
  },
  {
   "cell_type": "code",
   "execution_count": 39,
   "metadata": {
    "collapsed": true
   },
   "outputs": [],
   "source": [
    "model.compile(Adam(lr=0.1), loss='sparse_categorical_crossentropy', metrics=['accuracy'])"
   ]
  },
  {
   "cell_type": "code",
   "execution_count": 40,
   "metadata": {},
   "outputs": [
    {
     "name": "stdout",
     "output_type": "stream",
     "text": [
      "Train on 80044 samples, validate on 19956 samples\n",
      "Epoch 1/2\n",
      "80044/80044 [==============================] - 90s - loss: 0.1720 - acc: 0.9423 - val_loss: 0.2768 - val_acc: 0.9298\n",
      "Epoch 2/2\n",
      "80044/80044 [==============================] - 90s - loss: 0.0573 - acc: 0.9862 - val_loss: 0.5573 - val_acc: 0.9245\n"
     ]
    },
    {
     "data": {
      "text/plain": [
       "<keras.callbacks.History at 0x7fd7699176d0>"
      ]
     },
     "execution_count": 40,
     "metadata": {},
     "output_type": "execute_result"
    }
   ],
   "source": [
    "model.fit(x_trn, y_trn, batch_size=64, nb_epoch=2, validation_data=(x_val, y_val))"
   ]
  },
  {
   "cell_type": "code",
   "execution_count": 35,
   "metadata": {},
   "outputs": [
    {
     "data": {
      "text/plain": [
       "(1, 7, 17)"
      ]
     },
     "execution_count": 35,
     "metadata": {},
     "output_type": "execute_result"
    }
   ],
   "source": [
    "model.predict(x_val[:1]).shape"
   ]
  },
  {
   "cell_type": "code",
   "execution_count": 54,
   "metadata": {
    "collapsed": true
   },
   "outputs": [],
   "source": [
    "def predict(x):\n",
    "    ps = model.predict(x)\n",
    "    print([''.join([tokens[np.argmax(i)] for i in p]) for p in ps])"
   ]
  },
  {
   "cell_type": "code",
   "execution_count": 63,
   "metadata": {},
   "outputs": [
    {
     "name": "stdout",
     "output_type": "stream",
     "text": [
      "['(4+2)-9']\n"
     ]
    }
   ],
   "source": [
    "predict(x_val[:1])"
   ]
  },
  {
   "cell_type": "code",
   "execution_count": 50,
   "metadata": {},
   "outputs": [
    {
     "data": {
      "text/plain": [
       "'5-5*1NN'"
      ]
     },
     "execution_count": 50,
     "metadata": {},
     "output_type": "execute_result"
    }
   ],
   "source": [
    "tokens"
   ]
  },
  {
   "cell_type": "code",
   "execution_count": 80,
   "metadata": {
    "collapsed": true
   },
   "outputs": [],
   "source": [
    "model.optimizer.lr=0.01"
   ]
  },
  {
   "cell_type": "code",
   "execution_count": 81,
   "metadata": {},
   "outputs": [
    {
     "name": "stdout",
     "output_type": "stream",
     "text": [
      "Train on 79860 samples, validate on 20140 samples\n",
      "Epoch 1/1\n",
      "79860/79860 [==============================] - 91s - loss: 0.0753 - acc: 0.9889 - val_loss: 0.2449 - val_acc: 0.9757\n"
     ]
    },
    {
     "data": {
      "text/plain": [
       "<keras.callbacks.History at 0x7f8f1d4f2350>"
      ]
     },
     "execution_count": 81,
     "metadata": {},
     "output_type": "execute_result"
    }
   ],
   "source": [
    "model.fit(x_trn, y_trn, batch_size=64, nb_epoch=1, validation_data=(x_val, y_val))"
   ]
  },
  {
   "cell_type": "code",
   "execution_count": null,
   "metadata": {
    "collapsed": true
   },
   "outputs": [],
   "source": [
    "model.optimizer.lr=0.001"
   ]
  },
  {
   "cell_type": "code",
   "execution_count": 38,
   "metadata": {},
   "outputs": [
    {
     "name": "stdout",
     "output_type": "stream",
     "text": [
      "Train on 8038 samples, validate on 1962 samples\n",
      "Epoch 1/4\n",
      "8038/8038 [==============================] - 9s - loss: 0.0413 - acc: 0.9878 - val_loss: 1.5496 - val_acc: 0.8078\n",
      "Epoch 2/4\n",
      "8038/8038 [==============================] - 9s - loss: 0.0438 - acc: 0.9870 - val_loss: 0.1985 - val_acc: 0.9568\n",
      "Epoch 3/4\n",
      "8038/8038 [==============================] - 9s - loss: 0.0343 - acc: 0.9897 - val_loss: 0.2150 - val_acc: 0.9503\n",
      "Epoch 4/4\n",
      "8038/8038 [==============================] - 9s - loss: 0.0300 - acc: 0.9909 - val_loss: 0.5148 - val_acc: 0.9139\n"
     ]
    },
    {
     "data": {
      "text/plain": [
       "<keras.callbacks.History at 0x7f40ac9e1d10>"
      ]
     },
     "execution_count": 38,
     "metadata": {},
     "output_type": "execute_result"
    }
   ],
   "source": [
    "model.fit(x_trn, y_trn, batch_size=64, nb_epoch=4, validation_data=(x_val, y_val))"
   ]
  },
  {
   "cell_type": "markdown",
   "metadata": {},
   "source": [
    "# dropout"
   ]
  },
  {
   "cell_type": "code",
   "execution_count": 38,
   "metadata": {},
   "outputs": [
    {
     "name": "stderr",
     "output_type": "stream",
     "text": [
      "/home/viiv/anaconda2/lib/python2.7/site-packages/keras/layers/core.py:622: UserWarning: `output_shape` argument not specified for layer lambda_4 and cannot be automatically inferred with the Theano backend. Defaulting to output shape `(None, 1, 30, 90)` (same as input shape). If the expected output shape is different, specify it via the `output_shape` argument.\n",
      "  .format(self.name, input_shape))\n"
     ]
    }
   ],
   "source": [
    "model = Sequential([\n",
    "    Lambda(norm_input, input_shape=(1,30,90)),\n",
    "    Convolution2D(32,3,3, activation='relu'),\n",
    "    BatchNormalization(axis=1),\n",
    "    Convolution2D(32,3,3, activation='relu'),\n",
    "    BatchNormalization(axis=1),\n",
    "    MaxPooling2D(),\n",
    "    Convolution2D(64,3,3, activation='relu'),\n",
    "    BatchNormalization(axis=1),\n",
    "    Convolution2D(64,3,3, activation='relu'),\n",
    "    BatchNormalization(axis=1),\n",
    "    MaxPooling2D(),\n",
    "    Flatten(),\n",
    "    BatchNormalization(),\n",
    "    Dense(700, activation='relu'),\n",
    "    BatchNormalization(),\n",
    "    Dropout(0.5),\n",
    "    Reshape((7, 100)),\n",
    "    TimeDistributed(Dense(17, activation='softmax'))\n",
    "])"
   ]
  },
  {
   "cell_type": "code",
   "execution_count": 40,
   "metadata": {
    "collapsed": true
   },
   "outputs": [],
   "source": [
    "model.compile(Adam(lr=0.1), loss='sparse_categorical_crossentropy', metrics=['accuracy'])"
   ]
  },
  {
   "cell_type": "code",
   "execution_count": 41,
   "metadata": {
    "scrolled": true
   },
   "outputs": [
    {
     "name": "stdout",
     "output_type": "stream",
     "text": [
      "____________________________________________________________________________________________________\n",
      "Layer (type)                     Output Shape          Param #     Connected to                     \n",
      "====================================================================================================\n",
      "lambda_4 (Lambda)                (None, 1, 30, 90)     0           lambda_input_4[0][0]             \n",
      "____________________________________________________________________________________________________\n",
      "convolution2d_13 (Convolution2D) (None, 32, 28, 88)    320         lambda_4[0][0]                   \n",
      "____________________________________________________________________________________________________\n",
      "batchnormalization_19 (BatchNorm (None, 32, 28, 88)    128         convolution2d_13[0][0]           \n",
      "____________________________________________________________________________________________________\n",
      "convolution2d_14 (Convolution2D) (None, 32, 26, 86)    9248        batchnormalization_19[0][0]      \n",
      "____________________________________________________________________________________________________\n",
      "batchnormalization_20 (BatchNorm (None, 32, 26, 86)    128         convolution2d_14[0][0]           \n",
      "____________________________________________________________________________________________________\n",
      "maxpooling2d_7 (MaxPooling2D)    (None, 32, 13, 43)    0           batchnormalization_20[0][0]      \n",
      "____________________________________________________________________________________________________\n",
      "convolution2d_15 (Convolution2D) (None, 64, 11, 41)    18496       maxpooling2d_7[0][0]             \n",
      "____________________________________________________________________________________________________\n",
      "batchnormalization_21 (BatchNorm (None, 64, 11, 41)    256         convolution2d_15[0][0]           \n",
      "____________________________________________________________________________________________________\n",
      "convolution2d_16 (Convolution2D) (None, 64, 9, 39)     36928       batchnormalization_21[0][0]      \n",
      "____________________________________________________________________________________________________\n",
      "batchnormalization_22 (BatchNorm (None, 64, 9, 39)     256         convolution2d_16[0][0]           \n",
      "____________________________________________________________________________________________________\n",
      "maxpooling2d_8 (MaxPooling2D)    (None, 64, 4, 19)     0           batchnormalization_22[0][0]      \n",
      "____________________________________________________________________________________________________\n",
      "flatten_4 (Flatten)              (None, 4864)          0           maxpooling2d_8[0][0]             \n",
      "____________________________________________________________________________________________________\n",
      "batchnormalization_23 (BatchNorm (None, 4864)          19456       flatten_4[0][0]                  \n",
      "____________________________________________________________________________________________________\n",
      "dense_7 (Dense)                  (None, 700)           3405500     batchnormalization_23[0][0]      \n",
      "____________________________________________________________________________________________________\n",
      "batchnormalization_24 (BatchNorm (None, 700)           2800        dense_7[0][0]                    \n",
      "____________________________________________________________________________________________________\n",
      "dropout_4 (Dropout)              (None, 700)           0           batchnormalization_24[0][0]      \n",
      "____________________________________________________________________________________________________\n",
      "reshape_4 (Reshape)              (None, 7, 100)        0           dropout_4[0][0]                  \n",
      "____________________________________________________________________________________________________\n",
      "timedistributed_4 (TimeDistribut (None, 7, 17)         1717        reshape_4[0][0]                  \n",
      "====================================================================================================\n",
      "Total params: 3,495,233\n",
      "Trainable params: 3,483,721\n",
      "Non-trainable params: 11,512\n",
      "____________________________________________________________________________________________________\n"
     ]
    }
   ],
   "source": [
    "model.summary()"
   ]
  },
  {
   "cell_type": "code",
   "execution_count": 42,
   "metadata": {},
   "outputs": [
    {
     "name": "stdout",
     "output_type": "stream",
     "text": [
      "Train on 79839 samples, validate on 20161 samples\n",
      "Epoch 1/4\n",
      "79839/79839 [==============================] - 94s - loss: 0.7562 - acc: 0.8354 - val_loss: 2.5885 - val_acc: 0.8192\n",
      "Epoch 2/4\n",
      "79839/79839 [==============================] - 94s - loss: 1.7542 - acc: 0.8816 - val_loss: 5.8716 - val_acc: 0.6307\n",
      "Epoch 3/4\n",
      "79839/79839 [==============================] - 94s - loss: 1.9176 - acc: 0.8775 - val_loss: 11.6499 - val_acc: 0.2765\n",
      "Epoch 4/4\n",
      "79839/79839 [==============================] - 94s - loss: 2.0450 - acc: 0.8707 - val_loss: 14.3950 - val_acc: 0.1068\n"
     ]
    },
    {
     "data": {
      "text/plain": [
       "<keras.callbacks.History at 0x7fe81f13e150>"
      ]
     },
     "execution_count": 42,
     "metadata": {},
     "output_type": "execute_result"
    }
   ],
   "source": [
    "model.fit(x_trn, y_trn, batch_size=64, nb_epoch=4, validation_data=(x_val, y_val))"
   ]
  },
  {
   "cell_type": "code",
   "execution_count": 29,
   "metadata": {
    "collapsed": true
   },
   "outputs": [],
   "source": [
    "model.optimizer.lr=0.01"
   ]
  },
  {
   "cell_type": "code",
   "execution_count": 30,
   "metadata": {},
   "outputs": [
    {
     "name": "stdout",
     "output_type": "stream",
     "text": [
      "Train on 79839 samples, validate on 20161 samples\n",
      "Epoch 1/4\n",
      "79839/79839 [==============================] - 89s - loss: 0.3963 - acc: 0.8363 - val_loss: 0.8403 - val_acc: 0.8315\n",
      "Epoch 2/4\n",
      "79839/79839 [==============================] - 89s - loss: 0.3875 - acc: 0.8404 - val_loss: 3.3851 - val_acc: 0.6475 1s - loss: 0.38\n",
      "Epoch 3/4\n",
      "79839/79839 [==============================] - 89s - loss: 0.3835 - acc: 0.8417 - val_loss: 6.5607 - val_acc: 0.4533\n",
      "Epoch 4/4\n",
      "79839/79839 [==============================] - 89s - loss: 0.3713 - acc: 0.8450 - val_loss: 2.1141 - val_acc: 0.8101\n"
     ]
    },
    {
     "data": {
      "text/plain": [
       "<keras.callbacks.History at 0x7fe8371ef290>"
      ]
     },
     "execution_count": 30,
     "metadata": {},
     "output_type": "execute_result"
    }
   ],
   "source": [
    "model.fit(x_trn, y_trn, batch_size=64, nb_epoch=4, validation_data=(x_val, y_val))"
   ]
  },
  {
   "cell_type": "code",
   "execution_count": 31,
   "metadata": {},
   "outputs": [
    {
     "name": "stdout",
     "output_type": "stream",
     "text": [
      "Train on 79839 samples, validate on 20161 samples\n",
      "Epoch 1/4\n",
      "79839/79839 [==============================] - 89s - loss: 0.3769 - acc: 0.8441 - val_loss: 2.9895 - val_acc: 0.6867\n",
      "Epoch 2/4\n",
      "79839/79839 [==============================] - 89s - loss: 0.3579 - acc: 0.8507 - val_loss: 3.0588 - val_acc: 0.6825\n",
      "Epoch 3/4\n",
      "79839/79839 [==============================] - 89s - loss: 0.3675 - acc: 0.8478 - val_loss: 5.7585 - val_acc: 0.5478\n",
      "Epoch 4/4\n",
      "79839/79839 [==============================] - 89s - loss: 0.3513 - acc: 0.8528 - val_loss: 2.4509 - val_acc: 0.6909\n"
     ]
    },
    {
     "data": {
      "text/plain": [
       "<keras.callbacks.History at 0x7fe875cec850>"
      ]
     },
     "execution_count": 31,
     "metadata": {},
     "output_type": "execute_result"
    }
   ],
   "source": [
    "model.optimizer.lr=0.001\n",
    "model.fit(x_trn, y_trn, batch_size=64, nb_epoch=4, validation_data=(x_val, y_val))"
   ]
  },
  {
   "cell_type": "code",
   "execution_count": 56,
   "metadata": {},
   "outputs": [
    {
     "name": "stdout",
     "output_type": "stream",
     "text": [
      "Train on 8038 samples, validate on 1962 samples\n",
      "Epoch 1/4\n",
      "8038/8038 [==============================] - 9s - loss: 0.5158 - acc: 0.7775 - val_loss: 0.1391 - val_acc: 0.9531\n",
      "Epoch 2/4\n",
      "8038/8038 [==============================] - 9s - loss: 0.5123 - acc: 0.7785 - val_loss: 0.1634 - val_acc: 0.9352\n",
      "Epoch 3/4\n",
      "8038/8038 [==============================] - 9s - loss: 0.5007 - acc: 0.7837 - val_loss: 0.1569 - val_acc: 0.9380\n",
      "Epoch 4/4\n",
      "8038/8038 [==============================] - 9s - loss: 0.4903 - acc: 0.7907 - val_loss: 0.1245 - val_acc: 0.9543\n"
     ]
    },
    {
     "data": {
      "text/plain": [
       "<keras.callbacks.History at 0x7f4090ed0390>"
      ]
     },
     "execution_count": 56,
     "metadata": {},
     "output_type": "execute_result"
    }
   ],
   "source": [
    "model.fit(x_trn, y_trn, batch_size=64, nb_epoch=4, validation_data=(x_val, y_val))"
   ]
  },
  {
   "cell_type": "code",
   "execution_count": 57,
   "metadata": {},
   "outputs": [
    {
     "name": "stdout",
     "output_type": "stream",
     "text": [
      "Train on 8038 samples, validate on 1962 samples\n",
      "Epoch 1/4\n",
      "8038/8038 [==============================] - 9s - loss: 0.4862 - acc: 0.7901 - val_loss: 0.2018 - val_acc: 0.9251\n",
      "Epoch 2/4\n",
      "8038/8038 [==============================] - 9s - loss: 0.4848 - acc: 0.7899 - val_loss: 0.1457 - val_acc: 0.9459\n",
      "Epoch 3/4\n",
      "8038/8038 [==============================] - 9s - loss: 0.4692 - acc: 0.8000 - val_loss: 0.2247 - val_acc: 0.9250\n",
      "Epoch 4/4\n",
      "8038/8038 [==============================] - 9s - loss: 0.4854 - acc: 0.7940 - val_loss: 0.1235 - val_acc: 0.9567\n"
     ]
    },
    {
     "data": {
      "text/plain": [
       "<keras.callbacks.History at 0x7f40946b2d90>"
      ]
     },
     "execution_count": 57,
     "metadata": {},
     "output_type": "execute_result"
    }
   ],
   "source": [
    "model.fit(x_trn, y_trn, batch_size=64, nb_epoch=4, validation_data=(x_val, y_val))"
   ]
  },
  {
   "cell_type": "code",
   "execution_count": null,
   "metadata": {
    "collapsed": true
   },
   "outputs": [],
   "source": []
  }
 ],
 "metadata": {
  "kernelspec": {
   "display_name": "Python [conda root]",
   "language": "python",
   "name": "conda-root-py"
  },
  "language_info": {
   "codemirror_mode": {
    "name": "ipython",
    "version": 2
   },
   "file_extension": ".py",
   "mimetype": "text/x-python",
   "name": "python",
   "nbconvert_exporter": "python",
   "pygments_lexer": "ipython2",
   "version": "2.7.13"
  }
 },
 "nbformat": 4,
 "nbformat_minor": 2
}
