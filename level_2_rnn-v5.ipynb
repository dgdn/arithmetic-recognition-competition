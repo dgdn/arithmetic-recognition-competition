{
 "cells": [
  {
   "cell_type": "code",
   "execution_count": 1,
   "metadata": {},
   "outputs": [
    {
     "name": "stdout",
     "output_type": "stream",
     "text": [
      "[name: \"/cpu:0\"\n",
      "device_type: \"CPU\"\n",
      "memory_limit: 268435456\n",
      "bus_adjacency: BUS_ANY\n",
      "incarnation: 8734273270852534584\n",
      ", name: \"/gpu:0\"\n",
      "device_type: \"GPU\"\n",
      "memory_limit: 10976981812\n",
      "incarnation: 8017436019073483502\n",
      "physical_device_desc: \"device: 0, name: GeForce GTX 1080 Ti, pci bus id: 0000:02:00.0\"\n",
      "]\n"
     ]
    }
   ],
   "source": [
    "import os\n",
    "os.environ[\"CUDA_DEVICE_ORDER\"]=\"PCI_BUS_ID\"   # see issue #152\n",
    "os.environ[\"CUDA_VISIBLE_DEVICES\"]=\"1\"\n",
    "from tensorflow.python.client import device_lib\n",
    "print(device_lib.list_local_devices())"
   ]
  },
  {
   "cell_type": "code",
   "execution_count": 2,
   "metadata": {},
   "outputs": [
    {
     "name": "stderr",
     "output_type": "stream",
     "text": [
      "Using TensorFlow backend.\n"
     ]
    }
   ],
   "source": [
    "%matplotlib inline\n",
    "from __future__ import print_function, division\n",
    "path = \"data/baidu/\"\n",
    "#path = \"data/state/sample/\"\n",
    "import utils; reload(utils)\n",
    "from utils import *\n",
    "from IPython.display import FileLink\n",
    "import cv2\n",
    "config = tf.ConfigProto()\n",
    "config.gpu_options.allow_growth=True\n",
    "sess = tf.Session(config=config)\n",
    "K.set_session(sess)"
   ]
  },
  {
   "cell_type": "code",
   "execution_count": 3,
   "metadata": {
    "collapsed": true
   },
   "outputs": [],
   "source": [
    "train_path = 'data/baidu/image_contest_level_2_processed/'\n",
    "label_exp_count = load_array('data/baidu/label_exp_num.data')"
   ]
  },
  {
   "cell_type": "code",
   "execution_count": 4,
   "metadata": {
    "collapsed": true
   },
   "outputs": [],
   "source": [
    "label_exp_files = []\n",
    "for i, cnt in enumerate(label_exp_count):\n",
    "    for c in range(cnt):\n",
    "        label_exp_files.append('{}-{}-{}.png'.format(i, cnt-c, cnt))"
   ]
  },
  {
   "cell_type": "code",
   "execution_count": 5,
   "metadata": {
    "collapsed": true
   },
   "outputs": [],
   "source": [
    "label_path = 'data/baidu/level2_labels.txt'\n",
    "raw_label_list = []\n",
    "with open(label_path) as f:\n",
    "    raw_label_list = f.readlines()\n",
    "raw_label_list = [x.strip() for x in raw_label_list]\n",
    "label_exp_num_length= []\n",
    "exp_labels = []\n",
    "exp_lens =[]\n",
    "for line in raw_label_list:\n",
    "    parts = line.split(' ')\n",
    "    exprs = parts[0]\n",
    "    result = parts[1]\n",
    "    label_exp_num_length.append(len(exprs.split(';')))\n",
    "    for exp in exprs.split(';'):\n",
    "        exp_labels.append(exp.decode('utf8'))\n",
    "        exp_lens.append(len(exp.decode('utf8')))"
   ]
  },
  {
   "cell_type": "code",
   "execution_count": 6,
   "metadata": {
    "collapsed": true
   },
   "outputs": [],
   "source": [
    "short_idxs = []\n",
    "long_idxs = []\n",
    "cursor = 0\n",
    "for cnt in label_exp_count:\n",
    "    for i in range(cnt):\n",
    "        if i==cnt-1:\n",
    "            long_idxs.append(cursor+i)\n",
    "        else: \n",
    "            short_idxs.append(cursor+i)\n",
    "    cursor = cursor + cnt\n",
    "short_idxs = np.asarray(short_idxs)\n",
    "long_idxs = np.asarray(long_idxs)"
   ]
  },
  {
   "cell_type": "code",
   "execution_count": null,
   "metadata": {
    "collapsed": true
   },
   "outputs": [],
   "source": []
  },
  {
   "cell_type": "code",
   "execution_count": 7,
   "metadata": {
    "collapsed": true
   },
   "outputs": [],
   "source": [
    "class DataGenator(keras.callbacks.Callback):\n",
    "    \n",
    "    def __init__(self, idxs, width, height):\n",
    "        self.width = width\n",
    "        self.height = height\n",
    "        self.idxs = idxs\n",
    "        self.label_length = max(np.asarray(exp_lens)[self.idxs])\n",
    "\n",
    "        mask = np.random.rand(len(self.idxs)) < 0.9\n",
    "        self.trn_idxs = self.idxs[mask]\n",
    "        self.val_idxs = self.idxs[~mask]\n",
    "        \n",
    "        self.token_counts = {}\n",
    "        for exp in np.asarray(exp_labels)[self.idxs]:\n",
    "            for c in exp:\n",
    "                if c in self.token_counts:\n",
    "                    self.token_counts[c] += 1\n",
    "                else:\n",
    "                    self.token_counts[c] = 1\n",
    "        self.tokens = sorted(self.token_counts.keys()) + ['N']\n",
    "        self.zero_idx = len(self.tokens)-1\n",
    "        \n",
    "        \n",
    "        self.token_idxs = dict()\n",
    "        for i,token in enumerate(self.tokens):\n",
    "            self.token_idxs[token] = i\n",
    "            \n",
    "        #所有的label都转化  但不会全部用上  用不上的为空\n",
    "        self.actual_labels = np.full((len(exp_labels), self.label_length), self.zero_idx)\n",
    "        for idx in idxs:\n",
    "            for i, token in enumerate(exp_labels[idx]):\n",
    "                self.actual_labels[idx][i] = self.token_idxs[token]\n",
    "            \n",
    "    def get_batch(self, batch_size, idxs, shuffle=True):\n",
    "        if shuffle:  \n",
    "            idxs = np.random.permutation(idxs)\n",
    "        cur = 0\n",
    "        idxs_len = len(idxs)\n",
    "        while True:\n",
    "            out = []\n",
    "            next_cur = cur + batch_size\n",
    "            if next_cur < idxs_len:\n",
    "                out = idxs[cur: next_cur]\n",
    "                cur = next_cur\n",
    "            else:\n",
    "                exceed = next_cur - idxs_len\n",
    "                out = idxs[cur: idxs_len]\n",
    "                if shuffle:  idxs = np.random.permutation(idxs)\n",
    "                out = np.concatenate([out, idxs[0: exceed]]) \n",
    "                cur = exceed\n",
    "            yield self.fetch_img_by_idxs(out), np.asarray(self.actual_labels)[out]\n",
    "        \n",
    "    def fetch_img_by_idxs(self, idxs):\n",
    "        imgs = []\n",
    "        for f in np.array(label_exp_files)[idxs]:\n",
    "            img = cv2.imread(train_path+f)\n",
    "            img = cv2.resize(img, (self.width, self.height), interpolation = cv2.INTER_LINEAR)\n",
    "            #img = cv2.cvtColor(img, cv2.COLOR_BGR2GRAY)\n",
    "            #img= np.expand_dims(img, axis=-1)\n",
    "            img = np.transpose(np.asarray(img), (1, 0, 2))\n",
    "            imgs.append(img)\n",
    "        return np.array(imgs)\n",
    "    \n",
    "    \n",
    "    def to_pretty_label(self, label):\n",
    "        l = label.flatten().astype('int')\n",
    "        s =''\n",
    "        for token in l:\n",
    "            if token != self.zero_idx:\n",
    "                 s = s+self.tokens[token]\n",
    "        return s    "
   ]
  },
  {
   "cell_type": "code",
   "execution_count": 26,
   "metadata": {},
   "outputs": [
    {
     "data": {
      "text/plain": [
       "<matplotlib.image.AxesImage at 0x7fdc683e2c10>"
      ]
     },
     "execution_count": 26,
     "metadata": {},
     "output_type": "execute_result"
    },
    {
     "data": {
      "image/png": "[encoded data removed]",
      "text/plain": [
       "<matplotlib.figure.Figure at 0x7fdd1ea76c10>"
      ]
     },
     "metadata": {},
     "output_type": "display_data"
    }
   ],
   "source": [
    "img_gen = DataGenator(idxs=using_idxs, width=img_w, height=img_h)\n",
    "test_imgs = np.transpose(img_gen.fetch_img_by_idxs([1,2,4,5]), (0, 2, 1, 3)).reshape(-1, 60, 400)\n",
    "\n",
    "f = plt.figure(figsize=(10,10), frameon=True)\n",
    "plt.imshow(test_imgs[3])"
   ]
  },
  {
   "cell_type": "code",
   "execution_count": 8,
   "metadata": {
    "collapsed": true
   },
   "outputs": [],
   "source": [
    "### 决定使用什么类型的数据\n",
    "using_idxs = long_idxs\n",
    "img_label_data_prefix = 'all_long_2_3'\n",
    "data_path = 'data/baidu/all-long-400-60/'\n",
    "\n",
    "img_w = 400\n",
    "img_h = 60\n",
    "\n",
    "img_gen = DataGenator(idxs=using_idxs, width=img_w, height=img_h)"
   ]
  },
  {
   "cell_type": "code",
   "execution_count": 8,
   "metadata": {
    "collapsed": true
   },
   "outputs": [],
   "source": [
    "def save_raw_data():\n",
    "    da = img_gen.get_batch(len(using_idxs), using_idxs, shuffle=False)\n",
    "    imgs, labels = next(da)\n",
    "    save_array('data/baidu/{}_imgs.dat'.format(img_label_data_prefix),  imgs)\n",
    "    save_array('data/baidu/{}_labels.dat'.format(img_label_data_prefix), labels)\n",
    "\n",
    "def load_raw_data():\n",
    "    imgs = load_array('data/baidu/{}_imgs.dat'.format(img_label_data_prefix))\n",
    "    labels = load_array('data/baidu/{}_labels.dat'.format(img_label_data_prefix))\n",
    "    return (imgs, labels)\n",
    "    \n",
    "def save_split_data(x_trn, y_trn, x_val, y_val):\n",
    "\n",
    "    save_array(data_path+\"x_trn\", x_trn)\n",
    "    save_array(data_path+\"y_trn\", y_trn)\n",
    "\n",
    "\n",
    "    save_array(data_path+\"x_val\", x_val)\n",
    "    save_array(data_path+\"y_val\", y_val)\n",
    "\n",
    "def load_split_data():\n",
    "\n",
    "    x_trn = load_array(data_path+\"x_trn\")\n",
    "    y_trn = load_array(data_path+\"y_trn\")\n",
    "\n",
    "    x_val = load_array(data_path+\"x_val\")\n",
    "    y_val = load_array(data_path+\"y_val\")\n",
    "    \n",
    "    return (x_trn, y_trn, x_val, y_val)"
   ]
  },
  {
   "cell_type": "code",
   "execution_count": 11,
   "metadata": {
    "collapsed": true
   },
   "outputs": [],
   "source": [
    "#save_raw_data()\n",
    "imgs, labels = load_raw_data()"
   ]
  },
  {
   "cell_type": "code",
   "execution_count": 12,
   "metadata": {
    "collapsed": true
   },
   "outputs": [],
   "source": [
    "mask = np.random.rand(len(using_idxs)) < 0.9\n",
    "idxs = np.random.permutation(len(using_idxs))\n",
    "trn_idxs = idxs[mask]\n",
    "val_idxs = idxs[~mask]\n",
    "\n",
    "\n",
    "#da = img_gen.get_batch(len(using_idxs), using_idxs, shuffle=False)\n",
    "#imgs, labels = next(da)\n",
    "\n",
    "x_trn = imgs[trn_idxs]\n",
    "y_trn = labels[trn_idxs]\n",
    "\n",
    "x_val = imgs[val_idxs]\n",
    "y_val = labels[val_idxs]"
   ]
  },
  {
   "cell_type": "code",
   "execution_count": 9,
   "metadata": {
    "collapsed": true
   },
   "outputs": [],
   "source": [
    "#save_split_data(x_trn, y_trn, x_val, y_val)\n",
    "x_trn, y_trn, x_val, y_val = load_split_data()"
   ]
  },
  {
   "cell_type": "code",
   "execution_count": 10,
   "metadata": {},
   "outputs": [
    {
     "data": {
      "text/plain": [
       "((90059, 600, 90, 3), (90059, 30), (9941, 600, 90, 3), (9941, 30))"
      ]
     },
     "execution_count": 10,
     "metadata": {},
     "output_type": "execute_result"
    }
   ],
   "source": [
    "x_trn.shape, y_trn.shape, x_val.shape, y_val.shape"
   ]
  },
  {
   "cell_type": "code",
   "execution_count": 9,
   "metadata": {
    "collapsed": true
   },
   "outputs": [],
   "source": [
    "def show_data(x, y):  \n",
    "    for i in range(len(x)):\n",
    "        print(img_gen.to_pretty_label(y[i]))\n",
    "        plots(np.expand_dims(x[i], axis=0))"
   ]
  },
  {
   "cell_type": "code",
   "execution_count": 10,
   "metadata": {
    "collapsed": true
   },
   "outputs": [],
   "source": [
    "def gen_label_length(labels):\n",
    "    label_lengths = np.zeros((len(labels), 1))\n",
    "    for i in range(len(labels)):\n",
    "        label_lengths[i] = len(np.where(np.array(labels[i]) != img_gen.zero_idx)[0])\n",
    "    return label_lengths.astype('uint8')"
   ]
  },
  {
   "cell_type": "code",
   "execution_count": 11,
   "metadata": {
    "collapsed": true
   },
   "outputs": [],
   "source": [
    "def map2seq(x):\n",
    "    return K.reshape(K.permute_dimensions(x, (0, 3, 2, 1)), (x.shape[0], x.shape[-1], -1))"
   ]
  },
  {
   "cell_type": "code",
   "execution_count": 12,
   "metadata": {
    "collapsed": true
   },
   "outputs": [],
   "source": [
    "def map2seq_output_shape(input_shape):\n",
    "    shape = list(input_shape)\n",
    "    assert len(shape) == 4  # only valid for 4D tensors\n",
    "    return (shape[0], shape[-1], shape[1]*shape[2])"
   ]
  },
  {
   "cell_type": "code",
   "execution_count": 13,
   "metadata": {
    "collapsed": true
   },
   "outputs": [],
   "source": [
    "def ctc_lambda_func(args):\n",
    "    y_pred, labels, input_length, label_length = args\n",
    "    # the 2 is critical here since the first couple outputs of the RNN\n",
    "    # tend to be garbage:\n",
    "    y_pred = y_pred[:, 2:, :]\n",
    "    return K.ctc_batch_cost(labels, y_pred, input_length, label_length)"
   ]
  },
  {
   "cell_type": "markdown",
   "metadata": {
    "collapsed": true
   },
   "source": [
    " zoom_range=0.05, shear_range=0.05, channel_shift_range=20,\n",
    "                             rotation_range=5, height_shift_range=0.03, width_shift_range=0.03"
   ]
  },
  {
   "cell_type": "code",
   "execution_count": 14,
   "metadata": {
    "collapsed": true
   },
   "outputs": [],
   "source": [
    "batch_size = 64\n",
    "da = image.ImageDataGenerator(zoom_range=0.05, shear_range=0.05,\n",
    "                             channel_shift_range=20, rotation_range=5, \n",
    "                             height_shift_range=0.03, width_shift_range=0.03)\n",
    "#da = image.ImageDataGenerator()\n",
    "#x_trn_len = len(x_trn)//batch_size*batch_size\n",
    "#trn_batches = da.flow(x_trn[:x_trn_len], y_trn[:x_trn_len], batch_size=batch_size, shuffle=True)"
   ]
  },
  {
   "cell_type": "code",
   "execution_count": 15,
   "metadata": {
    "collapsed": true
   },
   "outputs": [],
   "source": [
    "def trn_gen():\n",
    "    trn_batches = img_gen.get_batch(batch_size, img_gen.trn_idxs, shuffle=False)\n",
    "    #减2是因为进入ctc时  已经丢弃了2帧\n",
    "    input_length = np.zeros([batch_size, 1]) + 91\n",
    "    while True:\n",
    "        x, y = next(trn_batches)\n",
    "        x_tranformed = np.zeros(x.shape)\n",
    "        for i, img in enumerate(x):            \n",
    "            x_tranformed[i] = da.random_transform(img)\n",
    "        label_length = gen_label_length(y)\n",
    "        y[np.where(y==img_gen.zero_idx)] = 0\n",
    "        yield [x_tranformed, y, input_length, label_length], np.zeros([batch_size])"
   ]
  },
  {
   "cell_type": "code",
   "execution_count": 16,
   "metadata": {
    "collapsed": true
   },
   "outputs": [],
   "source": [
    "val_data_batches = img_gen.get_batch(len(img_gen.val_idxs), img_gen.val_idxs, shuffle=False)\n",
    "x_val, y_val = next(val_data_batches)\n",
    "size = len(x_val)\n",
    "#减2是因为进入ctc时  已经丢弃了2帧\n",
    "x_val_input_length = np.zeros([size, 1]) + 91\n",
    "y_val_label_length = gen_label_length(y_val)\n",
    "def val_data():\n",
    "    return [x_val, y_val, x_val_input_length, y_val_label_length], np.zeros([size])"
   ]
  },
  {
   "cell_type": "code",
   "execution_count": 61,
   "metadata": {
    "collapsed": true
   },
   "outputs": [],
   "source": [
    "batches = trn_gen()\n",
    "def inspect_trn_data():\n",
    "    batch = next(batches)[0]\n",
    "    img = batch[0][0]\n",
    "    label = batch[1][0]\n",
    "    il =batch[2][0]\n",
    "    ll  =batch[3][0]\n",
    "    print(img.shape)\n",
    "    plots(np.expand_dims(np.transpose(img, (1,0,2)), axis=0))\n",
    "    print(label)\n",
    "    print(img_gen.to_pretty_label(label))\n",
    "    print(il)\n",
    "    print(ll)\n",
    "def inspect_val_data():\n",
    "    batch = val_data()[0]\n",
    "    img = batch[0][0]\n",
    "    label = batch[1][0]\n",
    "    il =batch[2][0]\n",
    "    ll  =batch[3][0]\n",
    "    print(img.shape)\n",
    "    plots(np.expand_dims(np.transpose(img, (1,0,2)), axis=0))\n",
    "    print(label)\n",
    "    print(img_gen.to_pretty_label(label))\n",
    "    print(il)\n",
    "    print(ll)"
   ]
  },
  {
   "cell_type": "code",
   "execution_count": 18,
   "metadata": {
    "scrolled": true
   },
   "outputs": [
    {
     "name": "stdout",
     "output_type": "stream",
     "text": [
      "(400, 60, 1)\n"
     ]
    },
    {
     "ename": "TypeError",
     "evalue": "Invalid dimensions for image data",
     "output_type": "error",
     "traceback": [
      "\u001b[0;31m---------------------------------------------------------------------------\u001b[0m",
      "\u001b[0;31mTypeError\u001b[0m                                 Traceback (most recent call last)",
      "\u001b[0;32m<ipython-input-18-61f3bf131308>\u001b[0m in \u001b[0;36m<module>\u001b[0;34m()\u001b[0m\n\u001b[0;32m----> 1\u001b[0;31m \u001b[0minspect_trn_data\u001b[0m\u001b[0;34m(\u001b[0m\u001b[0;34m)\u001b[0m\u001b[0;34m\u001b[0m\u001b[0m\n\u001b[0m\u001b[1;32m      2\u001b[0m \u001b[0minspect_val_data\u001b[0m\u001b[0;34m(\u001b[0m\u001b[0;34m)\u001b[0m\u001b[0;34m\u001b[0m\u001b[0m\n",
      "\u001b[0;32m<ipython-input-17-b6c9a7c5fde2>\u001b[0m in \u001b[0;36minspect_trn_data\u001b[0;34m()\u001b[0m\n\u001b[1;32m      7\u001b[0m     \u001b[0mll\u001b[0m  \u001b[0;34m=\u001b[0m\u001b[0mbatch\u001b[0m\u001b[0;34m[\u001b[0m\u001b[0;36m3\u001b[0m\u001b[0;34m]\u001b[0m\u001b[0;34m[\u001b[0m\u001b[0;36m0\u001b[0m\u001b[0;34m]\u001b[0m\u001b[0;34m\u001b[0m\u001b[0m\n\u001b[1;32m      8\u001b[0m     \u001b[0;32mprint\u001b[0m\u001b[0;34m(\u001b[0m\u001b[0mimg\u001b[0m\u001b[0;34m.\u001b[0m\u001b[0mshape\u001b[0m\u001b[0;34m)\u001b[0m\u001b[0;34m\u001b[0m\u001b[0m\n\u001b[0;32m----> 9\u001b[0;31m     \u001b[0mplots\u001b[0m\u001b[0;34m(\u001b[0m\u001b[0mnp\u001b[0m\u001b[0;34m.\u001b[0m\u001b[0mexpand_dims\u001b[0m\u001b[0;34m(\u001b[0m\u001b[0mnp\u001b[0m\u001b[0;34m.\u001b[0m\u001b[0mtranspose\u001b[0m\u001b[0;34m(\u001b[0m\u001b[0mimg\u001b[0m\u001b[0;34m,\u001b[0m \u001b[0;34m(\u001b[0m\u001b[0;36m1\u001b[0m\u001b[0;34m,\u001b[0m\u001b[0;36m0\u001b[0m\u001b[0;34m,\u001b[0m\u001b[0;36m2\u001b[0m\u001b[0;34m)\u001b[0m\u001b[0;34m)\u001b[0m\u001b[0;34m,\u001b[0m \u001b[0maxis\u001b[0m\u001b[0;34m=\u001b[0m\u001b[0;36m0\u001b[0m\u001b[0;34m)\u001b[0m\u001b[0;34m)\u001b[0m\u001b[0;34m\u001b[0m\u001b[0m\n\u001b[0m\u001b[1;32m     10\u001b[0m     \u001b[0;32mprint\u001b[0m\u001b[0;34m(\u001b[0m\u001b[0mlabel\u001b[0m\u001b[0;34m)\u001b[0m\u001b[0;34m\u001b[0m\u001b[0m\n\u001b[1;32m     11\u001b[0m     \u001b[0;32mprint\u001b[0m\u001b[0;34m(\u001b[0m\u001b[0mimg_gen\u001b[0m\u001b[0;34m.\u001b[0m\u001b[0mto_pretty_label\u001b[0m\u001b[0;34m(\u001b[0m\u001b[0mlabel\u001b[0m\u001b[0;34m)\u001b[0m\u001b[0;34m)\u001b[0m\u001b[0;34m\u001b[0m\u001b[0m\n",
      "\u001b[0;32m<ipython-input-2-def34cadf765>\u001b[0m in \u001b[0;36mplots\u001b[0;34m(ims, interp, titles)\u001b[0m\n\u001b[1;32m      6\u001b[0m         \u001b[0msp\u001b[0m\u001b[0;34m=\u001b[0m\u001b[0mf\u001b[0m\u001b[0;34m.\u001b[0m\u001b[0madd_subplot\u001b[0m\u001b[0;34m(\u001b[0m\u001b[0;36m1\u001b[0m\u001b[0;34m,\u001b[0m \u001b[0mlen\u001b[0m\u001b[0;34m(\u001b[0m\u001b[0mims\u001b[0m\u001b[0;34m)\u001b[0m\u001b[0;34m,\u001b[0m \u001b[0mi\u001b[0m\u001b[0;34m+\u001b[0m\u001b[0;36m1\u001b[0m\u001b[0;34m)\u001b[0m\u001b[0;34m\u001b[0m\u001b[0m\n\u001b[1;32m      7\u001b[0m         \u001b[0;32mif\u001b[0m \u001b[0;32mnot\u001b[0m \u001b[0mtitles\u001b[0m \u001b[0;32mis\u001b[0m \u001b[0mNone\u001b[0m\u001b[0;34m:\u001b[0m \u001b[0msp\u001b[0m\u001b[0;34m.\u001b[0m\u001b[0mset_title\u001b[0m\u001b[0;34m(\u001b[0m\u001b[0mtitles\u001b[0m\u001b[0;34m[\u001b[0m\u001b[0mi\u001b[0m\u001b[0;34m]\u001b[0m\u001b[0;34m,\u001b[0m \u001b[0mfontsize\u001b[0m\u001b[0;34m=\u001b[0m\u001b[0;36m18\u001b[0m\u001b[0;34m)\u001b[0m\u001b[0;34m\u001b[0m\u001b[0m\n\u001b[0;32m----> 8\u001b[0;31m         \u001b[0mplt\u001b[0m\u001b[0;34m.\u001b[0m\u001b[0mimshow\u001b[0m\u001b[0;34m(\u001b[0m\u001b[0mims\u001b[0m\u001b[0;34m[\u001b[0m\u001b[0mi\u001b[0m\u001b[0;34m]\u001b[0m\u001b[0;34m,\u001b[0m \u001b[0minterpolation\u001b[0m\u001b[0;34m=\u001b[0m\u001b[0mNone\u001b[0m \u001b[0;32mif\u001b[0m \u001b[0minterp\u001b[0m \u001b[0;32melse\u001b[0m \u001b[0;34m'none'\u001b[0m\u001b[0;34m,\u001b[0m \u001b[0mvmin\u001b[0m\u001b[0;34m=\u001b[0m\u001b[0mmn\u001b[0m\u001b[0;34m,\u001b[0m\u001b[0mvmax\u001b[0m\u001b[0;34m=\u001b[0m\u001b[0mmx\u001b[0m\u001b[0;34m)\u001b[0m\u001b[0;34m\u001b[0m\u001b[0m\n\u001b[0m\u001b[1;32m      9\u001b[0m \u001b[0;34m\u001b[0m\u001b[0m\n\u001b[1;32m     10\u001b[0m \u001b[0;32mdef\u001b[0m \u001b[0mplot\u001b[0m\u001b[0;34m(\u001b[0m\u001b[0mim\u001b[0m\u001b[0;34m,\u001b[0m \u001b[0minterp\u001b[0m\u001b[0;34m=\u001b[0m\u001b[0mFalse\u001b[0m\u001b[0;34m)\u001b[0m\u001b[0;34m:\u001b[0m\u001b[0;34m\u001b[0m\u001b[0m\n",
      "\u001b[0;32m/home/viiv/anaconda2/lib/python2.7/site-packages/matplotlib/pyplot.pyc\u001b[0m in \u001b[0;36mimshow\u001b[0;34m(X, cmap, norm, aspect, interpolation, alpha, vmin, vmax, origin, extent, shape, filternorm, filterrad, imlim, resample, url, hold, data, **kwargs)\u001b[0m\n\u001b[1;32m   3155\u001b[0m                         \u001b[0mfilternorm\u001b[0m\u001b[0;34m=\u001b[0m\u001b[0mfilternorm\u001b[0m\u001b[0;34m,\u001b[0m \u001b[0mfilterrad\u001b[0m\u001b[0;34m=\u001b[0m\u001b[0mfilterrad\u001b[0m\u001b[0;34m,\u001b[0m\u001b[0;34m\u001b[0m\u001b[0m\n\u001b[1;32m   3156\u001b[0m                         \u001b[0mimlim\u001b[0m\u001b[0;34m=\u001b[0m\u001b[0mimlim\u001b[0m\u001b[0;34m,\u001b[0m \u001b[0mresample\u001b[0m\u001b[0;34m=\u001b[0m\u001b[0mresample\u001b[0m\u001b[0;34m,\u001b[0m \u001b[0murl\u001b[0m\u001b[0;34m=\u001b[0m\u001b[0murl\u001b[0m\u001b[0;34m,\u001b[0m \u001b[0mdata\u001b[0m\u001b[0;34m=\u001b[0m\u001b[0mdata\u001b[0m\u001b[0;34m,\u001b[0m\u001b[0;34m\u001b[0m\u001b[0m\n\u001b[0;32m-> 3157\u001b[0;31m                         **kwargs)\n\u001b[0m\u001b[1;32m   3158\u001b[0m     \u001b[0;32mfinally\u001b[0m\u001b[0;34m:\u001b[0m\u001b[0;34m\u001b[0m\u001b[0m\n\u001b[1;32m   3159\u001b[0m         \u001b[0max\u001b[0m\u001b[0;34m.\u001b[0m\u001b[0m_hold\u001b[0m \u001b[0;34m=\u001b[0m \u001b[0mwashold\u001b[0m\u001b[0;34m\u001b[0m\u001b[0m\n",
      "\u001b[0;32m/home/viiv/anaconda2/lib/python2.7/site-packages/matplotlib/__init__.pyc\u001b[0m in \u001b[0;36minner\u001b[0;34m(ax, *args, **kwargs)\u001b[0m\n\u001b[1;32m   1896\u001b[0m                     warnings.warn(msg % (label_namer, func.__name__),\n\u001b[1;32m   1897\u001b[0m                                   RuntimeWarning, stacklevel=2)\n\u001b[0;32m-> 1898\u001b[0;31m             \u001b[0;32mreturn\u001b[0m \u001b[0mfunc\u001b[0m\u001b[0;34m(\u001b[0m\u001b[0max\u001b[0m\u001b[0;34m,\u001b[0m \u001b[0;34m*\u001b[0m\u001b[0margs\u001b[0m\u001b[0;34m,\u001b[0m \u001b[0;34m**\u001b[0m\u001b[0mkwargs\u001b[0m\u001b[0;34m)\u001b[0m\u001b[0;34m\u001b[0m\u001b[0m\n\u001b[0m\u001b[1;32m   1899\u001b[0m         \u001b[0mpre_doc\u001b[0m \u001b[0;34m=\u001b[0m \u001b[0minner\u001b[0m\u001b[0;34m.\u001b[0m\u001b[0m__doc__\u001b[0m\u001b[0;34m\u001b[0m\u001b[0m\n\u001b[1;32m   1900\u001b[0m         \u001b[0;32mif\u001b[0m \u001b[0mpre_doc\u001b[0m \u001b[0;32mis\u001b[0m \u001b[0mNone\u001b[0m\u001b[0;34m:\u001b[0m\u001b[0;34m\u001b[0m\u001b[0m\n",
      "\u001b[0;32m/home/viiv/anaconda2/lib/python2.7/site-packages/matplotlib/axes/_axes.pyc\u001b[0m in \u001b[0;36mimshow\u001b[0;34m(self, X, cmap, norm, aspect, interpolation, alpha, vmin, vmax, origin, extent, shape, filternorm, filterrad, imlim, resample, url, **kwargs)\u001b[0m\n\u001b[1;32m   5122\u001b[0m                               resample=resample, **kwargs)\n\u001b[1;32m   5123\u001b[0m \u001b[0;34m\u001b[0m\u001b[0m\n\u001b[0;32m-> 5124\u001b[0;31m         \u001b[0mim\u001b[0m\u001b[0;34m.\u001b[0m\u001b[0mset_data\u001b[0m\u001b[0;34m(\u001b[0m\u001b[0mX\u001b[0m\u001b[0;34m)\u001b[0m\u001b[0;34m\u001b[0m\u001b[0m\n\u001b[0m\u001b[1;32m   5125\u001b[0m         \u001b[0mim\u001b[0m\u001b[0;34m.\u001b[0m\u001b[0mset_alpha\u001b[0m\u001b[0;34m(\u001b[0m\u001b[0malpha\u001b[0m\u001b[0;34m)\u001b[0m\u001b[0;34m\u001b[0m\u001b[0m\n\u001b[1;32m   5126\u001b[0m         \u001b[0;32mif\u001b[0m \u001b[0mim\u001b[0m\u001b[0;34m.\u001b[0m\u001b[0mget_clip_path\u001b[0m\u001b[0;34m(\u001b[0m\u001b[0;34m)\u001b[0m \u001b[0;32mis\u001b[0m \u001b[0mNone\u001b[0m\u001b[0;34m:\u001b[0m\u001b[0;34m\u001b[0m\u001b[0m\n",
      "\u001b[0;32m/home/viiv/anaconda2/lib/python2.7/site-packages/matplotlib/image.pyc\u001b[0m in \u001b[0;36mset_data\u001b[0;34m(self, A)\u001b[0m\n\u001b[1;32m    598\u001b[0m         if (self._A.ndim not in (2, 3) or\n\u001b[1;32m    599\u001b[0m                 (self._A.ndim == 3 and self._A.shape[-1] not in (3, 4))):\n\u001b[0;32m--> 600\u001b[0;31m             \u001b[0;32mraise\u001b[0m \u001b[0mTypeError\u001b[0m\u001b[0;34m(\u001b[0m\u001b[0;34m\"Invalid dimensions for image data\"\u001b[0m\u001b[0;34m)\u001b[0m\u001b[0;34m\u001b[0m\u001b[0m\n\u001b[0m\u001b[1;32m    601\u001b[0m \u001b[0;34m\u001b[0m\u001b[0m\n\u001b[1;32m    602\u001b[0m         \u001b[0mself\u001b[0m\u001b[0;34m.\u001b[0m\u001b[0m_imcache\u001b[0m \u001b[0;34m=\u001b[0m \u001b[0mNone\u001b[0m\u001b[0;34m\u001b[0m\u001b[0m\n",
      "\u001b[0;31mTypeError\u001b[0m: Invalid dimensions for image data"
     ]
    },
    {
     "data": {
      "image/png": "[encoded data removed]",
      "text/plain": [
       "<matplotlib.figure.Figure at 0x7fddaec26850>"
      ]
     },
     "metadata": {},
     "output_type": "display_data"
    }
   ],
   "source": [
    "inspect_trn_data()\n",
    "inspect_val_data()"
   ]
  },
  {
   "cell_type": "code",
   "execution_count": 37,
   "metadata": {
    "collapsed": true
   },
   "outputs": [],
   "source": [
    "def is_long_label(label):\n",
    "    return not(len(np.where(label > 0)[0]) < 10)"
   ]
  },
  {
   "cell_type": "code",
   "execution_count": 17,
   "metadata": {
    "collapsed": true
   },
   "outputs": [],
   "source": [
    "def evaluate(base_model, batch_num=None):\n",
    "    [X_test, y_test, _, label_length], _  = val_data()\n",
    "    if batch_num is None: batch_num = len(X_test)\n",
    "    pred = base_model.predict(X_test[:batch_num])\n",
    "    correct_number = 0\n",
    "    correct_long_n = 0\n",
    "    total_long_n = 0\n",
    "    correct_short_n = 0\n",
    "    total_short_n = 0\n",
    "    \n",
    "    shape = pred[:,2:,:].shape\n",
    "    out = K.get_value(K.ctc_decode(pred[:,2:,:], input_length=np.ones(shape[0])*shape[1])[0][0])\n",
    "    \n",
    "    for j in range(out.shape[0]):\n",
    "        \n",
    "        #-1 是ctc返回的  代表empty\n",
    "        l = out[j][np.where(out[j] != -1)[0]]\n",
    "        equal =  label_length[j] == len(l) and np.array_equal(l, y_test[j][:label_length[j][0]])\n",
    "        \n",
    "        is_long = is_long_label(y_test[j])\n",
    "        if is_long:\n",
    "            total_long_n=total_long_n+1\n",
    "        else:\n",
    "            total_short_n=total_short_n+1\n",
    "        if equal:\n",
    "            correct_number = correct_number+1\n",
    "            if is_long:\n",
    "                correct_long_n=correct_long_n+1\n",
    "            else:\n",
    "                correct_short_n=correct_short_n+1\n",
    "    l = 0\n",
    "    s = 0\n",
    "    if total_long_n>0: l=correct_long_n/total_long_n\n",
    "    if total_short_n>0: s=correct_short_n/total_short_n\n",
    "    \n",
    "    return correct_number/batch_num, s, l"
   ]
  },
  {
   "cell_type": "code",
   "execution_count": 25,
   "metadata": {
    "collapsed": true
   },
   "outputs": [],
   "source": [
    "from keras.callbacks import *\n",
    "\n",
    "class Evaluate(Callback):\n",
    "    def __init__(self):\n",
    "        self.accs = []\n",
    "    \n",
    "    def on_train_end(self, logs=None):\n",
    "        acc, s, l = evaluate(base_model)\n",
    "        self.accs.append(acc)\n",
    "        acc = acc *100\n",
    "        s = s * 100\n",
    "        l = l * 100\n",
    "        print(' acc: {}% long: {}% short: {}%'.format(acc, s, l))\n",
    "        \n",
    "class LossHistory(keras.callbacks.Callback):\n",
    "    def on_train_begin(self, logs={}):\n",
    "        self.losses = []\n",
    "\n",
    "    def on_batch_end(self, batch, logs={}):\n",
    "        self.losses.append(logs.get('loss'))\n"
   ]
  },
  {
   "cell_type": "code",
   "execution_count": 32,
   "metadata": {},
   "outputs": [
    {
     "name": "stdout",
     "output_type": "stream",
     "text": [
      "____________________________________________________________________________________________________\n",
      "Layer (type)                     Output Shape          Param #     Connected to                     \n",
      "====================================================================================================\n",
      "the_input (InputLayer)           (None, 400, 60, 3)    0                                            \n",
      "____________________________________________________________________________________________________\n",
      "batchnormalization_41 (BatchNorm (None, 400, 60, 3)    12          the_input[0][0]                  \n",
      "____________________________________________________________________________________________________\n",
      "convolution2d_29 (Convolution2D) (None, 398, 58, 64)   1792        batchnormalization_41[0][0]      \n",
      "____________________________________________________________________________________________________\n",
      "batchnormalization_42 (BatchNorm (None, 398, 58, 64)   256         convolution2d_29[0][0]           \n",
      "____________________________________________________________________________________________________\n",
      "maxpooling2d_17 (MaxPooling2D)   (None, 199, 29, 64)   0           batchnormalization_42[0][0]      \n",
      "____________________________________________________________________________________________________\n",
      "convolution2d_30 (Convolution2D) (None, 197, 27, 128)  73856       maxpooling2d_17[0][0]            \n",
      "____________________________________________________________________________________________________\n",
      "batchnormalization_43 (BatchNorm (None, 197, 27, 128)  512         convolution2d_30[0][0]           \n",
      "____________________________________________________________________________________________________\n",
      "maxpooling2d_18 (MaxPooling2D)   (None, 98, 13, 128)   0           batchnormalization_43[0][0]      \n",
      "____________________________________________________________________________________________________\n",
      "convolution2d_31 (Convolution2D) (None, 96, 11, 256)   295168      maxpooling2d_18[0][0]            \n",
      "____________________________________________________________________________________________________\n",
      "batchnormalization_44 (BatchNorm (None, 96, 11, 256)   1024        convolution2d_31[0][0]           \n",
      "____________________________________________________________________________________________________\n",
      "convolution2d_32 (Convolution2D) (None, 94, 9, 256)    590080      batchnormalization_44[0][0]      \n",
      "____________________________________________________________________________________________________\n",
      "batchnormalization_45 (BatchNorm (None, 94, 9, 256)    1024        convolution2d_32[0][0]           \n",
      "____________________________________________________________________________________________________\n",
      "maxpooling2d_19 (MaxPooling2D)   (None, 94, 4, 256)    0           batchnormalization_45[0][0]      \n",
      "____________________________________________________________________________________________________\n",
      "convolution2d_33 (Convolution2D) (None, 94, 4, 512)    1180160     maxpooling2d_19[0][0]            \n",
      "____________________________________________________________________________________________________\n",
      "batchnormalization_46 (BatchNorm (None, 94, 4, 512)    2048        convolution2d_33[0][0]           \n",
      "____________________________________________________________________________________________________\n",
      "convolution2d_34 (Convolution2D) (None, 94, 4, 512)    2359808     batchnormalization_46[0][0]      \n",
      "____________________________________________________________________________________________________\n",
      "batchnormalization_47 (BatchNorm (None, 94, 4, 512)    2048        convolution2d_34[0][0]           \n",
      "____________________________________________________________________________________________________\n",
      "maxpooling2d_20 (MaxPooling2D)   (None, 94, 2, 512)    0           batchnormalization_47[0][0]      \n",
      "____________________________________________________________________________________________________\n",
      "convolution2d_35 (Convolution2D) (None, 93, 1, 512)    1049088     maxpooling2d_20[0][0]            \n",
      "____________________________________________________________________________________________________\n",
      "batchnormalization_48 (BatchNorm (None, 93, 1, 512)    2048        convolution2d_35[0][0]           \n",
      "____________________________________________________________________________________________________\n",
      "reshape_5 (Reshape)              (None, 93, 512)       0           batchnormalization_48[0][0]      \n",
      "____________________________________________________________________________________________________\n",
      "bidirectional_9 (Bidirectional)  (None, 93, 256)       1574912     reshape_5[0][0]                  \n",
      "____________________________________________________________________________________________________\n",
      "batchnormalization_49 (BatchNorm (None, 93, 256)       1024        bidirectional_9[0][0]            \n",
      "____________________________________________________________________________________________________\n",
      "bidirectional_10 (Bidirectional) (None, 93, 512)       1050624     batchnormalization_49[0][0]      \n",
      "____________________________________________________________________________________________________\n",
      "batchnormalization_50 (BatchNorm (None, 93, 512)       2048        bidirectional_10[0][0]           \n",
      "____________________________________________________________________________________________________\n",
      "dense_5 (Dense)                  (None, 93, 43)        22059       batchnormalization_50[0][0]      \n",
      "____________________________________________________________________________________________________\n",
      "the_labels (InputLayer)          (None, 30)            0                                            \n",
      "____________________________________________________________________________________________________\n",
      "input_length (InputLayer)        (None, 1)             0                                            \n",
      "____________________________________________________________________________________________________\n",
      "label_length (InputLayer)        (None, 1)             0                                            \n",
      "____________________________________________________________________________________________________\n",
      "ctc (Lambda)                     (None, 1)             0           dense_5[0][0]                    \n",
      "                                                                   the_labels[0][0]                 \n",
      "                                                                   input_length[0][0]               \n",
      "                                                                   label_length[0][0]               \n",
      "====================================================================================================\n",
      "Total params: 8,209,591\n",
      "Trainable params: 8,203,569\n",
      "Non-trainable params: 6,022\n",
      "____________________________________________________________________________________________________\n"
     ]
    }
   ],
   "source": [
    "\n",
    "input_shape=(img_gen.width, img_gen.height, 3)\n",
    "input_data = Input(name='the_input', shape=input_shape, dtype='float32')\n",
    "inner = BatchNormalization()(input_data)\n",
    "\n",
    "inner = Convolution2D(64, 3, 3)(inner)\n",
    "inner = BatchNormalization()(inner)\n",
    "inner = MaxPooling2D()(inner)\n",
    "\n",
    "inner = Convolution2D(128, 3, 3)(inner)\n",
    "inner = BatchNormalization()(inner)\n",
    "inner = MaxPooling2D()(inner)\n",
    "\n",
    "inner = Convolution2D(256, 3, 3)(inner)\n",
    "inner = BatchNormalization()(inner)\n",
    "inner = Convolution2D(256, 3, 3)(inner)\n",
    "inner = BatchNormalization()(inner)\n",
    "inner = MaxPooling2D((1,2))(inner)\n",
    "\n",
    "inner = Convolution2D(512, 3, 3, border_mode='same')(inner)\n",
    "inner = BatchNormalization()(inner)\n",
    "inner = Convolution2D(512, 3, 3,  border_mode='same')(inner)\n",
    "inner = BatchNormalization()(inner)\n",
    "inner = MaxPooling2D((1,2))(inner)\n",
    "\n",
    "inner = Convolution2D(512, 2, 2)(inner)\n",
    "inner = BatchNormalization()(inner)\n",
    "\n",
    "\n",
    "ctc_time_lenght = 93\n",
    "inner = Reshape((ctc_time_lenght, -1))(inner)\n",
    "\n",
    "inner = Bidirectional(LSTM(256, return_sequences=True, inner_init='identity', dropout_W=0.5, dropout_U=0.5), merge_mode='sum')(inner)\n",
    "inner = BatchNormalization()(inner)\n",
    "\n",
    "inner = Bidirectional(LSTM(256, return_sequences=True, inner_init='identity', dropout_W=0.5, dropout_U=0.5), merge_mode='concat')(inner)\n",
    "inner = BatchNormalization()(inner)\n",
    "\n",
    "\n",
    "y_pred = Dense(len(img_gen.tokens), activation='softmax')(inner)\n",
    "\n",
    "base_model = Model(input=input_data, output=y_pred)\n",
    "\n",
    "labels = Input(name='the_labels', shape=(img_gen.label_length,), dtype='float32')\n",
    "input_length = Input(name='input_length', shape=(1,), dtype='int64')\n",
    "label_length = Input(name='label_length', shape=(1,), dtype='int64') \n",
    "\n",
    "loss_out = Lambda(ctc_lambda_func, output_shape=(1,), name='ctc')([y_pred, labels, input_length, label_length])\n",
    "\n",
    "model = Model([input_data, labels, input_length, label_length], loss_out)\n",
    "    \n",
    "\n",
    "\n",
    "model.summary()"
   ]
  },
  {
   "cell_type": "code",
   "execution_count": 29,
   "metadata": {
    "collapsed": true
   },
   "outputs": [],
   "source": [
    "#x_trn_len = ((len(img_gen.trn_idxs)//batch_size)/10) * batch_size\n",
    "#x_val_len = ((len(img_gen.val_idxs)//batch_size)/10) * batch_size * 2\n",
    "x_trn_len = len(img_gen.trn_idxs)//batch_size * batch_size\n",
    "x_val_len = len(img_gen.val_idxs)//batch_size* batch_size"
   ]
  },
  {
   "cell_type": "markdown",
   "metadata": {},
   "source": [
    "# 9-cnn 1-512-rnn full data 400*60 paper "
   ]
  },
  {
   "cell_type": "code",
   "execution_count": 33,
   "metadata": {},
   "outputs": [],
   "source": [
    "evaluator = Evaluate()\n",
    "reduce_lr = ReduceLROnPlateau(monitor='val_loss', factor=0.1, patience=5, cooldown=2, mode='min')\n",
    "checkpointer = ModelCheckpoint(filepath='v5/weights.hdf5', verbose=1, save_best_only=True)\n",
    "history = LossHistory()"
   ]
  },
  {
   "cell_type": "code",
   "execution_count": 34,
   "metadata": {
    "collapsed": true
   },
   "outputs": [],
   "source": [
    "model.compile(loss={'ctc': lambda y_true, y_pred: y_pred}, optimizer='rmsprop')"
   ]
  },
  {
   "cell_type": "code",
   "execution_count": null,
   "metadata": {},
   "outputs": [
    {
     "name": "stdout",
     "output_type": "stream",
     "text": [
      "Epoch 1/30\n",
      "89920/89920 [==============================] - 1371s - loss: 43.7043 - val_loss: 8.5670\n",
      "Epoch 2/30\n",
      "89920/89920 [==============================] - 1376s - loss: 3.8418 - val_loss: 1.3709\n",
      "Epoch 5/30\n",
      "89920/89920 [==============================] - 1359s - loss: 3.3235 - val_loss: 1.1321\n",
      "Epoch 6/30\n",
      "89920/89920 [==============================] - 1337s - loss: 2.9864 - val_loss: 1.2436\n",
      "Epoch 7/30\n",
      "89920/89920 [==============================] - 1331s - loss: 2.7151 - val_loss: 0.8628\n",
      "Epoch 8/30\n",
      "89920/89920 [==============================] - 1319s - loss: 2.5802 - val_loss: 0.8113\n",
      "Epoch 9/30\n",
      "89920/89920 [==============================] - 1333s - loss: 2.4141 - val_loss: 0.8778\n",
      "Epoch 10/30\n",
      "89920/89920 [==============================] - 1321s - loss: 2.2964 - val_loss: 0.7334\n",
      "Epoch 11/30\n",
      "89920/89920 [==============================] - 1334s - loss: 2.1955 - val_loss: 0.7441\n",
      "Epoch 12/30\n",
      "89920/89920 [==============================] - 1323s - loss: 2.1222 - val_loss: 0.5910\n",
      "Epoch 13/30\n",
      "89920/89920 [==============================] - 1321s - loss: 2.0243 - val_loss: 0.6546\n",
      "Epoch 14/30\n",
      "89920/89920 [==============================] - 1332s - loss: 1.9658 - val_loss: 0.5665\n",
      "Epoch 15/30\n",
      "89920/89920 [==============================] - 1324s - loss: 1.9430 - val_loss: 0.5801\n",
      "Epoch 16/30\n",
      "89920/89920 [==============================] - 1333s - loss: 1.8638 - val_loss: 0.5316\n",
      "Epoch 17/30\n",
      "89920/89920 [==============================] - 1321s - loss: 1.8106 - val_loss: 0.4985\n",
      "Epoch 18/30\n",
      "89920/89920 [==============================] - 1336s - loss: 1.7905 - val_loss: 0.5240\n",
      "Epoch 19/30\n",
      "89920/89920 [==============================] - 1323s - loss: 1.7542 - val_loss: 0.4491\n",
      "Epoch 20/30\n",
      "89920/89920 [==============================] - 1334s - loss: 1.7244 - val_loss: 0.4738\n",
      "Epoch 21/30\n",
      "89920/89920 [==============================] - 1254s - loss: 1.6738 - val_loss: 0.4463\n",
      "Epoch 22/30\n",
      "89920/89920 [==============================] - 1295s - loss: 1.6537 - val_loss: 0.4505\n",
      "Epoch 23/30\n",
      "89920/89920 [==============================] - 1323s - loss: 1.6150 - val_loss: 0.4106\n",
      "Epoch 24/30\n",
      "89920/89920 [==============================] - 1333s - loss: 1.5067 - val_loss: 0.3698\n"
     ]
    }
   ],
   "source": [
    "history2 = model.fit_generator(trn_gen(), x_trn_len, nb_epoch=30, callbacks=[evaluator, reduce_lr, checkpointer, history],\n",
    "                    validation_data=val_data(), nb_val_samples=x_val_len)"
   ]
  },
  {
   "cell_type": "code",
   "execution_count": 38,
   "metadata": {},
   "outputs": [
    {
     "name": "stdout",
     "output_type": "stream",
     "text": [
      " acc: 91.2432755529% long: 0% short: 91.2432755529%\n"
     ]
    }
   ],
   "source": [
    "evaluator.on_train_end()"
   ]
  },
  {
   "cell_type": "code",
   "execution_count": null,
   "metadata": {
    "collapsed": true
   },
   "outputs": [
    {
     "name": "stdout",
     "output_type": "stream",
     "text": [
      "Epoch 1/30\n",
      "89856/89920 [============================>.] - ETA: 1s - loss: 1.4837Epoch 00000: val_loss improved from inf to 0.37593, saving model to v5/weights.hdf5\n",
      "89920/89920 [==============================] - 1503s - loss: 1.4833 - val_loss: 0.3759\n",
      "Epoch 2/30\n",
      "89856/89920 [============================>.] - ETA: 1s - loss: 1.4650Epoch 00001: val_loss improved from 0.37593 to 0.35364, saving model to v5/weights.hdf5\n",
      "89920/89920 [==============================] - 1982s - loss: 1.4652 - val_loss: 0.3536\n",
      "Epoch 3/30\n",
      "89856/89920 [============================>.] - ETA: 1s - loss: 1.4698Epoch 00002: val_loss did not improve\n",
      "89920/89920 [==============================] - 1983s - loss: 1.4700 - val_loss: 0.4435\n",
      "Epoch 4/30\n",
      "89856/89920 [============================>.] - ETA: 1s - loss: 1.4664Epoch 00003: val_loss did not improve\n",
      "89920/89920 [==============================] - 1993s - loss: 1.4664 - val_loss: 0.3610\n",
      "Epoch 5/30\n",
      "43648/89920 [=============>................] - ETA: 1002s - loss: 1.4579"
     ]
    },
    {
     "ename": "KeyboardInterrupt",
     "evalue": "",
     "output_type": "error",
     "traceback": [
      "\u001b[0;31m---------------------------------------------------------------------------\u001b[0m",
      "\u001b[0;31mKeyboardInterrupt\u001b[0m                         Traceback (most recent call last)",
      "\u001b[0;32m<ipython-input-39-fd1e3d249b83>\u001b[0m in \u001b[0;36m<module>\u001b[0;34m()\u001b[0m\n\u001b[1;32m      1\u001b[0m history2 = model.fit_generator(trn_gen(), x_trn_len, nb_epoch=30, callbacks=[evaluator, reduce_lr, checkpointer, history],\n\u001b[0;32m----> 2\u001b[0;31m                     validation_data=val_data(), nb_val_samples=x_val_len)\n\u001b[0m",
      "\u001b[0;32m/home/viiv/anaconda2/lib/python2.7/site-packages/keras/engine/training.pyc\u001b[0m in \u001b[0;36mfit_generator\u001b[0;34m(self, generator, samples_per_epoch, nb_epoch, verbose, callbacks, validation_data, nb_val_samples, class_weight, max_q_size, nb_worker, pickle_safe, initial_epoch)\u001b[0m\n\u001b[1;32m   1555\u001b[0m                     outs = self.train_on_batch(x, y,\n\u001b[1;32m   1556\u001b[0m                                                \u001b[0msample_weight\u001b[0m\u001b[0;34m=\u001b[0m\u001b[0msample_weight\u001b[0m\u001b[0;34m,\u001b[0m\u001b[0;34m\u001b[0m\u001b[0m\n\u001b[0;32m-> 1557\u001b[0;31m                                                class_weight=class_weight)\n\u001b[0m\u001b[1;32m   1558\u001b[0m \u001b[0;34m\u001b[0m\u001b[0m\n\u001b[1;32m   1559\u001b[0m                     \u001b[0;32mif\u001b[0m \u001b[0;32mnot\u001b[0m \u001b[0misinstance\u001b[0m\u001b[0;34m(\u001b[0m\u001b[0mouts\u001b[0m\u001b[0;34m,\u001b[0m \u001b[0mlist\u001b[0m\u001b[0;34m)\u001b[0m\u001b[0;34m:\u001b[0m\u001b[0;34m\u001b[0m\u001b[0m\n",
      "\u001b[0;32m/home/viiv/anaconda2/lib/python2.7/site-packages/keras/engine/training.pyc\u001b[0m in \u001b[0;36mtrain_on_batch\u001b[0;34m(self, x, y, sample_weight, class_weight)\u001b[0m\n\u001b[1;32m   1318\u001b[0m             \u001b[0mins\u001b[0m \u001b[0;34m=\u001b[0m \u001b[0mx\u001b[0m \u001b[0;34m+\u001b[0m \u001b[0my\u001b[0m \u001b[0;34m+\u001b[0m \u001b[0msample_weights\u001b[0m\u001b[0;34m\u001b[0m\u001b[0m\n\u001b[1;32m   1319\u001b[0m         \u001b[0mself\u001b[0m\u001b[0;34m.\u001b[0m\u001b[0m_make_train_function\u001b[0m\u001b[0;34m(\u001b[0m\u001b[0;34m)\u001b[0m\u001b[0;34m\u001b[0m\u001b[0m\n\u001b[0;32m-> 1320\u001b[0;31m         \u001b[0moutputs\u001b[0m \u001b[0;34m=\u001b[0m \u001b[0mself\u001b[0m\u001b[0;34m.\u001b[0m\u001b[0mtrain_function\u001b[0m\u001b[0;34m(\u001b[0m\u001b[0mins\u001b[0m\u001b[0;34m)\u001b[0m\u001b[0;34m\u001b[0m\u001b[0m\n\u001b[0m\u001b[1;32m   1321\u001b[0m         \u001b[0;32mif\u001b[0m \u001b[0mlen\u001b[0m\u001b[0;34m(\u001b[0m\u001b[0moutputs\u001b[0m\u001b[0;34m)\u001b[0m \u001b[0;34m==\u001b[0m \u001b[0;36m1\u001b[0m\u001b[0;34m:\u001b[0m\u001b[0;34m\u001b[0m\u001b[0m\n\u001b[1;32m   1322\u001b[0m             \u001b[0;32mreturn\u001b[0m \u001b[0moutputs\u001b[0m\u001b[0;34m[\u001b[0m\u001b[0;36m0\u001b[0m\u001b[0;34m]\u001b[0m\u001b[0;34m\u001b[0m\u001b[0m\n",
      "\u001b[0;32m/home/viiv/anaconda2/lib/python2.7/site-packages/keras/backend/tensorflow_backend.pyc\u001b[0m in \u001b[0;36m__call__\u001b[0;34m(self, inputs)\u001b[0m\n\u001b[1;32m   1941\u001b[0m         \u001b[0msession\u001b[0m \u001b[0;34m=\u001b[0m \u001b[0mget_session\u001b[0m\u001b[0;34m(\u001b[0m\u001b[0;34m)\u001b[0m\u001b[0;34m\u001b[0m\u001b[0m\n\u001b[1;32m   1942\u001b[0m         updated = session.run(self.outputs + [self.updates_op],\n\u001b[0;32m-> 1943\u001b[0;31m                               feed_dict=feed_dict)\n\u001b[0m\u001b[1;32m   1944\u001b[0m         \u001b[0;32mreturn\u001b[0m \u001b[0mupdated\u001b[0m\u001b[0;34m[\u001b[0m\u001b[0;34m:\u001b[0m\u001b[0mlen\u001b[0m\u001b[0;34m(\u001b[0m\u001b[0mself\u001b[0m\u001b[0;34m.\u001b[0m\u001b[0moutputs\u001b[0m\u001b[0;34m)\u001b[0m\u001b[0;34m]\u001b[0m\u001b[0;34m\u001b[0m\u001b[0m\n\u001b[1;32m   1945\u001b[0m \u001b[0;34m\u001b[0m\u001b[0m\n",
      "\u001b[0;32m/home/viiv/anaconda2/lib/python2.7/site-packages/tensorflow/python/client/session.pyc\u001b[0m in \u001b[0;36mrun\u001b[0;34m(self, fetches, feed_dict, options, run_metadata)\u001b[0m\n\u001b[1;32m    715\u001b[0m     \u001b[0;32mtry\u001b[0m\u001b[0;34m:\u001b[0m\u001b[0;34m\u001b[0m\u001b[0m\n\u001b[1;32m    716\u001b[0m       result = self._run(None, fetches, feed_dict, options_ptr,\n\u001b[0;32m--> 717\u001b[0;31m                          run_metadata_ptr)\n\u001b[0m\u001b[1;32m    718\u001b[0m       \u001b[0;32mif\u001b[0m \u001b[0mrun_metadata\u001b[0m\u001b[0;34m:\u001b[0m\u001b[0;34m\u001b[0m\u001b[0m\n\u001b[1;32m    719\u001b[0m         \u001b[0mproto_data\u001b[0m \u001b[0;34m=\u001b[0m \u001b[0mtf_session\u001b[0m\u001b[0;34m.\u001b[0m\u001b[0mTF_GetBuffer\u001b[0m\u001b[0;34m(\u001b[0m\u001b[0mrun_metadata_ptr\u001b[0m\u001b[0;34m)\u001b[0m\u001b[0;34m\u001b[0m\u001b[0m\n",
      "\u001b[0;32m/home/viiv/anaconda2/lib/python2.7/site-packages/tensorflow/python/client/session.pyc\u001b[0m in \u001b[0;36m_run\u001b[0;34m(self, handle, fetches, feed_dict, options, run_metadata)\u001b[0m\n\u001b[1;32m    913\u001b[0m     \u001b[0;32mif\u001b[0m \u001b[0mfinal_fetches\u001b[0m \u001b[0;32mor\u001b[0m \u001b[0mfinal_targets\u001b[0m\u001b[0;34m:\u001b[0m\u001b[0;34m\u001b[0m\u001b[0m\n\u001b[1;32m    914\u001b[0m       results = self._do_run(handle, final_targets, final_fetches,\n\u001b[0;32m--> 915\u001b[0;31m                              feed_dict_string, options, run_metadata)\n\u001b[0m\u001b[1;32m    916\u001b[0m     \u001b[0;32melse\u001b[0m\u001b[0;34m:\u001b[0m\u001b[0;34m\u001b[0m\u001b[0m\n\u001b[1;32m    917\u001b[0m       \u001b[0mresults\u001b[0m \u001b[0;34m=\u001b[0m \u001b[0;34m[\u001b[0m\u001b[0;34m]\u001b[0m\u001b[0;34m\u001b[0m\u001b[0m\n",
      "\u001b[0;32m/home/viiv/anaconda2/lib/python2.7/site-packages/tensorflow/python/client/session.pyc\u001b[0m in \u001b[0;36m_do_run\u001b[0;34m(self, handle, target_list, fetch_list, feed_dict, options, run_metadata)\u001b[0m\n\u001b[1;32m    963\u001b[0m     \u001b[0;32mif\u001b[0m \u001b[0mhandle\u001b[0m \u001b[0;32mis\u001b[0m \u001b[0mNone\u001b[0m\u001b[0;34m:\u001b[0m\u001b[0;34m\u001b[0m\u001b[0m\n\u001b[1;32m    964\u001b[0m       return self._do_call(_run_fn, self._session, feed_dict, fetch_list,\n\u001b[0;32m--> 965\u001b[0;31m                            target_list, options, run_metadata)\n\u001b[0m\u001b[1;32m    966\u001b[0m     \u001b[0;32melse\u001b[0m\u001b[0;34m:\u001b[0m\u001b[0;34m\u001b[0m\u001b[0m\n\u001b[1;32m    967\u001b[0m       return self._do_call(_prun_fn, self._session, handle, feed_dict,\n",
      "\u001b[0;32m/home/viiv/anaconda2/lib/python2.7/site-packages/tensorflow/python/client/session.pyc\u001b[0m in \u001b[0;36m_do_call\u001b[0;34m(self, fn, *args)\u001b[0m\n\u001b[1;32m    970\u001b[0m   \u001b[0;32mdef\u001b[0m \u001b[0m_do_call\u001b[0m\u001b[0;34m(\u001b[0m\u001b[0mself\u001b[0m\u001b[0;34m,\u001b[0m \u001b[0mfn\u001b[0m\u001b[0;34m,\u001b[0m \u001b[0;34m*\u001b[0m\u001b[0margs\u001b[0m\u001b[0;34m)\u001b[0m\u001b[0;34m:\u001b[0m\u001b[0;34m\u001b[0m\u001b[0m\n\u001b[1;32m    971\u001b[0m     \u001b[0;32mtry\u001b[0m\u001b[0;34m:\u001b[0m\u001b[0;34m\u001b[0m\u001b[0m\n\u001b[0;32m--> 972\u001b[0;31m       \u001b[0;32mreturn\u001b[0m \u001b[0mfn\u001b[0m\u001b[0;34m(\u001b[0m\u001b[0;34m*\u001b[0m\u001b[0margs\u001b[0m\u001b[0;34m)\u001b[0m\u001b[0;34m\u001b[0m\u001b[0m\n\u001b[0m\u001b[1;32m    973\u001b[0m     \u001b[0;32mexcept\u001b[0m \u001b[0merrors\u001b[0m\u001b[0;34m.\u001b[0m\u001b[0mOpError\u001b[0m \u001b[0;32mas\u001b[0m \u001b[0me\u001b[0m\u001b[0;34m:\u001b[0m\u001b[0;34m\u001b[0m\u001b[0m\n\u001b[1;32m    974\u001b[0m       \u001b[0mmessage\u001b[0m \u001b[0;34m=\u001b[0m \u001b[0mcompat\u001b[0m\u001b[0;34m.\u001b[0m\u001b[0mas_text\u001b[0m\u001b[0;34m(\u001b[0m\u001b[0me\u001b[0m\u001b[0;34m.\u001b[0m\u001b[0mmessage\u001b[0m\u001b[0;34m)\u001b[0m\u001b[0;34m\u001b[0m\u001b[0m\n",
      "\u001b[0;32m/home/viiv/anaconda2/lib/python2.7/site-packages/tensorflow/python/client/session.pyc\u001b[0m in \u001b[0;36m_run_fn\u001b[0;34m(session, feed_dict, fetch_list, target_list, options, run_metadata)\u001b[0m\n\u001b[1;32m    952\u001b[0m         return tf_session.TF_Run(session, options,\n\u001b[1;32m    953\u001b[0m                                  \u001b[0mfeed_dict\u001b[0m\u001b[0;34m,\u001b[0m \u001b[0mfetch_list\u001b[0m\u001b[0;34m,\u001b[0m \u001b[0mtarget_list\u001b[0m\u001b[0;34m,\u001b[0m\u001b[0;34m\u001b[0m\u001b[0m\n\u001b[0;32m--> 954\u001b[0;31m                                  status, run_metadata)\n\u001b[0m\u001b[1;32m    955\u001b[0m \u001b[0;34m\u001b[0m\u001b[0m\n\u001b[1;32m    956\u001b[0m     \u001b[0;32mdef\u001b[0m \u001b[0m_prun_fn\u001b[0m\u001b[0;34m(\u001b[0m\u001b[0msession\u001b[0m\u001b[0;34m,\u001b[0m \u001b[0mhandle\u001b[0m\u001b[0;34m,\u001b[0m \u001b[0mfeed_dict\u001b[0m\u001b[0;34m,\u001b[0m \u001b[0mfetch_list\u001b[0m\u001b[0;34m)\u001b[0m\u001b[0;34m:\u001b[0m\u001b[0;34m\u001b[0m\u001b[0m\n",
      "\u001b[0;31mKeyboardInterrupt\u001b[0m: "
     ]
    }
   ],
   "source": [
    "history2 = model.fit_generator(trn_gen(), x_trn_len, nb_epoch=30, callbacks=[evaluator, reduce_lr, checkpointer, history],\n",
    "                    validation_data=val_data(), nb_val_samples=x_val_len)"
   ]
  },
  {
   "cell_type": "code",
   "execution_count": null,
   "metadata": {
    "collapsed": true
   },
   "outputs": [],
   "source": [
    "evaluator.on_train_end()"
   ]
  },
  {
   "cell_type": "code",
   "execution_count": 26,
   "metadata": {
    "collapsed": true
   },
   "outputs": [],
   "source": [
    "model.save_weights('94.16.wgt')"
   ]
  },
  {
   "cell_type": "code",
   "execution_count": 35,
   "metadata": {
    "collapsed": true
   },
   "outputs": [],
   "source": [
    "checkpointer = ModelCheckpoint(filepath='v2/weights.hdf5', verbose=1, save_best_only=True)\n"
   ]
  },
  {
   "cell_type": "code",
   "execution_count": 39,
   "metadata": {
    "collapsed": true
   },
   "outputs": [],
   "source": [
    "reduce_lr = ReduceLROnPlateau(monitor='val_loss', factor=0.1, patience=5, cooldown=2, mode='min')"
   ]
  },
  {
   "cell_type": "code",
   "execution_count": 37,
   "metadata": {
    "scrolled": true
   },
   "outputs": [
    {
     "name": "stdout",
     "output_type": "stream",
     "text": [
      "Epoch 1/30\n",
      "89920/89984 [============================>.] - ETA: 0s - loss: 0.7739Epoch 00000: val_loss improved from inf to 0.26458, saving model to v2/weights.hdf5\n",
      "89984/89984 [==============================] - 865s - loss: 0.7738 - val_loss: 0.2646\n",
      "Epoch 2/30\n",
      "89920/89984 [============================>.] - ETA: 0s - loss: 0.7661Epoch 00001: val_loss improved from 0.26458 to 0.25552, saving model to v2/weights.hdf5\n",
      "89984/89984 [==============================] - 862s - loss: 0.7660 - val_loss: 0.2555\n",
      "Epoch 3/30\n",
      "89920/89984 [============================>.] - ETA: 0s - loss: 0.7674Epoch 00002: val_loss improved from 0.25552 to 0.23917, saving model to v2/weights.hdf5\n",
      "89984/89984 [==============================] - 861s - loss: 0.7675 - val_loss: 0.2392\n",
      "Epoch 4/30\n",
      "89920/89984 [============================>.] - ETA: 0s - loss: 0.7610Epoch 00003: val_loss improved from 0.23917 to 0.22781, saving model to v2/weights.hdf5\n",
      "89984/89984 [==============================] - 862s - loss: 0.7610 - val_loss: 0.2278\n",
      "Epoch 5/30\n",
      "89920/89984 [============================>.] - ETA: 0s - loss: 0.7508Epoch 00004: val_loss did not improve\n",
      "89984/89984 [==============================] - 864s - loss: 0.7509 - val_loss: 0.2466\n",
      "Epoch 6/30\n",
      "89920/89984 [============================>.] - ETA: 0s - loss: 0.7528Epoch 00005: val_loss did not improve\n",
      "89984/89984 [==============================] - 863s - loss: 0.7527 - val_loss: 0.2477\n",
      "Epoch 7/30\n",
      "89920/89984 [============================>.] - ETA: 0s - loss: 0.7466Epoch 00006: val_loss did not improve\n",
      "89984/89984 [==============================] - 840s - loss: 0.7467 - val_loss: 0.2383\n",
      "Epoch 8/30\n",
      " 9856/89984 [==>...........................] - ETA: 672s - loss: 0.7433"
     ]
    },
    {
     "ename": "KeyboardInterrupt",
     "evalue": "",
     "output_type": "error",
     "traceback": [
      "\u001b[0;31m---------------------------------------------------------------------------\u001b[0m",
      "\u001b[0;31mKeyboardInterrupt\u001b[0m                         Traceback (most recent call last)",
      "\u001b[0;32m<ipython-input-37-51027b0527f7>\u001b[0m in \u001b[0;36m<module>\u001b[0;34m()\u001b[0m\n\u001b[1;32m      1\u001b[0m history2 = model.fit_generator(trn_gen(), x_trn_len, nb_epoch=30,callbacks=[EarlyStopping(patience=10), checkpointer],\n\u001b[0;32m----> 2\u001b[0;31m                     validation_data=val_data(), nb_val_samples=x_val_len)\n\u001b[0m\u001b[1;32m      3\u001b[0m \u001b[0mevaluator\u001b[0m\u001b[0;34m.\u001b[0m\u001b[0mon_epoch_end\u001b[0m\u001b[0;34m(\u001b[0m\u001b[0;36m30\u001b[0m\u001b[0;34m)\u001b[0m\u001b[0;34m\u001b[0m\u001b[0m\n",
      "\u001b[0;32m/home/viiv/anaconda2/lib/python2.7/site-packages/keras/engine/training.pyc\u001b[0m in \u001b[0;36mfit_generator\u001b[0;34m(self, generator, samples_per_epoch, nb_epoch, verbose, callbacks, validation_data, nb_val_samples, class_weight, max_q_size, nb_worker, pickle_safe, initial_epoch)\u001b[0m\n\u001b[1;32m   1555\u001b[0m                     outs = self.train_on_batch(x, y,\n\u001b[1;32m   1556\u001b[0m                                                \u001b[0msample_weight\u001b[0m\u001b[0;34m=\u001b[0m\u001b[0msample_weight\u001b[0m\u001b[0;34m,\u001b[0m\u001b[0;34m\u001b[0m\u001b[0m\n\u001b[0;32m-> 1557\u001b[0;31m                                                class_weight=class_weight)\n\u001b[0m\u001b[1;32m   1558\u001b[0m \u001b[0;34m\u001b[0m\u001b[0m\n\u001b[1;32m   1559\u001b[0m                     \u001b[0;32mif\u001b[0m \u001b[0;32mnot\u001b[0m \u001b[0misinstance\u001b[0m\u001b[0;34m(\u001b[0m\u001b[0mouts\u001b[0m\u001b[0;34m,\u001b[0m \u001b[0mlist\u001b[0m\u001b[0;34m)\u001b[0m\u001b[0;34m:\u001b[0m\u001b[0;34m\u001b[0m\u001b[0m\n",
      "\u001b[0;32m/home/viiv/anaconda2/lib/python2.7/site-packages/keras/engine/training.pyc\u001b[0m in \u001b[0;36mtrain_on_batch\u001b[0;34m(self, x, y, sample_weight, class_weight)\u001b[0m\n\u001b[1;32m   1318\u001b[0m             \u001b[0mins\u001b[0m \u001b[0;34m=\u001b[0m \u001b[0mx\u001b[0m \u001b[0;34m+\u001b[0m \u001b[0my\u001b[0m \u001b[0;34m+\u001b[0m \u001b[0msample_weights\u001b[0m\u001b[0;34m\u001b[0m\u001b[0m\n\u001b[1;32m   1319\u001b[0m         \u001b[0mself\u001b[0m\u001b[0;34m.\u001b[0m\u001b[0m_make_train_function\u001b[0m\u001b[0;34m(\u001b[0m\u001b[0;34m)\u001b[0m\u001b[0;34m\u001b[0m\u001b[0m\n\u001b[0;32m-> 1320\u001b[0;31m         \u001b[0moutputs\u001b[0m \u001b[0;34m=\u001b[0m \u001b[0mself\u001b[0m\u001b[0;34m.\u001b[0m\u001b[0mtrain_function\u001b[0m\u001b[0;34m(\u001b[0m\u001b[0mins\u001b[0m\u001b[0;34m)\u001b[0m\u001b[0;34m\u001b[0m\u001b[0m\n\u001b[0m\u001b[1;32m   1321\u001b[0m         \u001b[0;32mif\u001b[0m \u001b[0mlen\u001b[0m\u001b[0;34m(\u001b[0m\u001b[0moutputs\u001b[0m\u001b[0;34m)\u001b[0m \u001b[0;34m==\u001b[0m \u001b[0;36m1\u001b[0m\u001b[0;34m:\u001b[0m\u001b[0;34m\u001b[0m\u001b[0m\n\u001b[1;32m   1322\u001b[0m             \u001b[0;32mreturn\u001b[0m \u001b[0moutputs\u001b[0m\u001b[0;34m[\u001b[0m\u001b[0;36m0\u001b[0m\u001b[0;34m]\u001b[0m\u001b[0;34m\u001b[0m\u001b[0m\n",
      "\u001b[0;32m/home/viiv/anaconda2/lib/python2.7/site-packages/keras/backend/tensorflow_backend.pyc\u001b[0m in \u001b[0;36m__call__\u001b[0;34m(self, inputs)\u001b[0m\n\u001b[1;32m   1941\u001b[0m         \u001b[0msession\u001b[0m \u001b[0;34m=\u001b[0m \u001b[0mget_session\u001b[0m\u001b[0;34m(\u001b[0m\u001b[0;34m)\u001b[0m\u001b[0;34m\u001b[0m\u001b[0m\n\u001b[1;32m   1942\u001b[0m         updated = session.run(self.outputs + [self.updates_op],\n\u001b[0;32m-> 1943\u001b[0;31m                               feed_dict=feed_dict)\n\u001b[0m\u001b[1;32m   1944\u001b[0m         \u001b[0;32mreturn\u001b[0m \u001b[0mupdated\u001b[0m\u001b[0;34m[\u001b[0m\u001b[0;34m:\u001b[0m\u001b[0mlen\u001b[0m\u001b[0;34m(\u001b[0m\u001b[0mself\u001b[0m\u001b[0;34m.\u001b[0m\u001b[0moutputs\u001b[0m\u001b[0;34m)\u001b[0m\u001b[0;34m]\u001b[0m\u001b[0;34m\u001b[0m\u001b[0m\n\u001b[1;32m   1945\u001b[0m \u001b[0;34m\u001b[0m\u001b[0m\n",
      "\u001b[0;32m/home/viiv/anaconda2/lib/python2.7/site-packages/tensorflow/python/client/session.pyc\u001b[0m in \u001b[0;36mrun\u001b[0;34m(self, fetches, feed_dict, options, run_metadata)\u001b[0m\n\u001b[1;32m    715\u001b[0m     \u001b[0;32mtry\u001b[0m\u001b[0;34m:\u001b[0m\u001b[0;34m\u001b[0m\u001b[0m\n\u001b[1;32m    716\u001b[0m       result = self._run(None, fetches, feed_dict, options_ptr,\n\u001b[0;32m--> 717\u001b[0;31m                          run_metadata_ptr)\n\u001b[0m\u001b[1;32m    718\u001b[0m       \u001b[0;32mif\u001b[0m \u001b[0mrun_metadata\u001b[0m\u001b[0;34m:\u001b[0m\u001b[0;34m\u001b[0m\u001b[0m\n\u001b[1;32m    719\u001b[0m         \u001b[0mproto_data\u001b[0m \u001b[0;34m=\u001b[0m \u001b[0mtf_session\u001b[0m\u001b[0;34m.\u001b[0m\u001b[0mTF_GetBuffer\u001b[0m\u001b[0;34m(\u001b[0m\u001b[0mrun_metadata_ptr\u001b[0m\u001b[0;34m)\u001b[0m\u001b[0;34m\u001b[0m\u001b[0m\n",
      "\u001b[0;32m/home/viiv/anaconda2/lib/python2.7/site-packages/tensorflow/python/client/session.pyc\u001b[0m in \u001b[0;36m_run\u001b[0;34m(self, handle, fetches, feed_dict, options, run_metadata)\u001b[0m\n\u001b[1;32m    913\u001b[0m     \u001b[0;32mif\u001b[0m \u001b[0mfinal_fetches\u001b[0m \u001b[0;32mor\u001b[0m \u001b[0mfinal_targets\u001b[0m\u001b[0;34m:\u001b[0m\u001b[0;34m\u001b[0m\u001b[0m\n\u001b[1;32m    914\u001b[0m       results = self._do_run(handle, final_targets, final_fetches,\n\u001b[0;32m--> 915\u001b[0;31m                              feed_dict_string, options, run_metadata)\n\u001b[0m\u001b[1;32m    916\u001b[0m     \u001b[0;32melse\u001b[0m\u001b[0;34m:\u001b[0m\u001b[0;34m\u001b[0m\u001b[0m\n\u001b[1;32m    917\u001b[0m       \u001b[0mresults\u001b[0m \u001b[0;34m=\u001b[0m \u001b[0;34m[\u001b[0m\u001b[0;34m]\u001b[0m\u001b[0;34m\u001b[0m\u001b[0m\n",
      "\u001b[0;32m/home/viiv/anaconda2/lib/python2.7/site-packages/tensorflow/python/client/session.pyc\u001b[0m in \u001b[0;36m_do_run\u001b[0;34m(self, handle, target_list, fetch_list, feed_dict, options, run_metadata)\u001b[0m\n\u001b[1;32m    963\u001b[0m     \u001b[0;32mif\u001b[0m \u001b[0mhandle\u001b[0m \u001b[0;32mis\u001b[0m \u001b[0mNone\u001b[0m\u001b[0;34m:\u001b[0m\u001b[0;34m\u001b[0m\u001b[0m\n\u001b[1;32m    964\u001b[0m       return self._do_call(_run_fn, self._session, feed_dict, fetch_list,\n\u001b[0;32m--> 965\u001b[0;31m                            target_list, options, run_metadata)\n\u001b[0m\u001b[1;32m    966\u001b[0m     \u001b[0;32melse\u001b[0m\u001b[0;34m:\u001b[0m\u001b[0;34m\u001b[0m\u001b[0m\n\u001b[1;32m    967\u001b[0m       return self._do_call(_prun_fn, self._session, handle, feed_dict,\n",
      "\u001b[0;32m/home/viiv/anaconda2/lib/python2.7/site-packages/tensorflow/python/client/session.pyc\u001b[0m in \u001b[0;36m_do_call\u001b[0;34m(self, fn, *args)\u001b[0m\n\u001b[1;32m    970\u001b[0m   \u001b[0;32mdef\u001b[0m \u001b[0m_do_call\u001b[0m\u001b[0;34m(\u001b[0m\u001b[0mself\u001b[0m\u001b[0;34m,\u001b[0m \u001b[0mfn\u001b[0m\u001b[0;34m,\u001b[0m \u001b[0;34m*\u001b[0m\u001b[0margs\u001b[0m\u001b[0;34m)\u001b[0m\u001b[0;34m:\u001b[0m\u001b[0;34m\u001b[0m\u001b[0m\n\u001b[1;32m    971\u001b[0m     \u001b[0;32mtry\u001b[0m\u001b[0;34m:\u001b[0m\u001b[0;34m\u001b[0m\u001b[0m\n\u001b[0;32m--> 972\u001b[0;31m       \u001b[0;32mreturn\u001b[0m \u001b[0mfn\u001b[0m\u001b[0;34m(\u001b[0m\u001b[0;34m*\u001b[0m\u001b[0margs\u001b[0m\u001b[0;34m)\u001b[0m\u001b[0;34m\u001b[0m\u001b[0m\n\u001b[0m\u001b[1;32m    973\u001b[0m     \u001b[0;32mexcept\u001b[0m \u001b[0merrors\u001b[0m\u001b[0;34m.\u001b[0m\u001b[0mOpError\u001b[0m \u001b[0;32mas\u001b[0m \u001b[0me\u001b[0m\u001b[0;34m:\u001b[0m\u001b[0;34m\u001b[0m\u001b[0m\n\u001b[1;32m    974\u001b[0m       \u001b[0mmessage\u001b[0m \u001b[0;34m=\u001b[0m \u001b[0mcompat\u001b[0m\u001b[0;34m.\u001b[0m\u001b[0mas_text\u001b[0m\u001b[0;34m(\u001b[0m\u001b[0me\u001b[0m\u001b[0;34m.\u001b[0m\u001b[0mmessage\u001b[0m\u001b[0;34m)\u001b[0m\u001b[0;34m\u001b[0m\u001b[0m\n",
      "\u001b[0;32m/home/viiv/anaconda2/lib/python2.7/site-packages/tensorflow/python/client/session.pyc\u001b[0m in \u001b[0;36m_run_fn\u001b[0;34m(session, feed_dict, fetch_list, target_list, options, run_metadata)\u001b[0m\n\u001b[1;32m    952\u001b[0m         return tf_session.TF_Run(session, options,\n\u001b[1;32m    953\u001b[0m                                  \u001b[0mfeed_dict\u001b[0m\u001b[0;34m,\u001b[0m \u001b[0mfetch_list\u001b[0m\u001b[0;34m,\u001b[0m \u001b[0mtarget_list\u001b[0m\u001b[0;34m,\u001b[0m\u001b[0;34m\u001b[0m\u001b[0m\n\u001b[0;32m--> 954\u001b[0;31m                                  status, run_metadata)\n\u001b[0m\u001b[1;32m    955\u001b[0m \u001b[0;34m\u001b[0m\u001b[0m\n\u001b[1;32m    956\u001b[0m     \u001b[0;32mdef\u001b[0m \u001b[0m_prun_fn\u001b[0m\u001b[0;34m(\u001b[0m\u001b[0msession\u001b[0m\u001b[0;34m,\u001b[0m \u001b[0mhandle\u001b[0m\u001b[0;34m,\u001b[0m \u001b[0mfeed_dict\u001b[0m\u001b[0;34m,\u001b[0m \u001b[0mfetch_list\u001b[0m\u001b[0;34m)\u001b[0m\u001b[0;34m:\u001b[0m\u001b[0;34m\u001b[0m\u001b[0m\n",
      "\u001b[0;31mKeyboardInterrupt\u001b[0m: "
     ]
    }
   ],
   "source": [
    "history2 = model.fit_generator(trn_gen(), x_trn_len, nb_epoch=30,callbacks=[EarlyStopping(patience=10), checkpointer],\n",
    "                    validation_data=val_data(), nb_val_samples=x_val_len)\n",
    "evaluator.on_epoch_end(30)"
   ]
  },
  {
   "cell_type": "code",
   "execution_count": 38,
   "metadata": {},
   "outputs": [
    {
     "name": "stdout",
     "output_type": "stream",
     "text": [
      " acc: 94.1866292473% long: 0% short: 94.1866292473%\n"
     ]
    }
   ],
   "source": [
    "evaluator.on_epoch_end(30)"
   ]
  },
  {
   "cell_type": "code",
   "execution_count": null,
   "metadata": {},
   "outputs": [
    {
     "name": "stdout",
     "output_type": "stream",
     "text": [
      "Epoch 1/30\n",
      "89920/89984 [============================>.] - ETA: 0s - loss: 0.7490Epoch 00000: val_loss improved from 0.22781 to 0.21248, saving model to v2/weights.hdf5\n",
      "89984/89984 [==============================] - 778s - loss: 0.7487 - val_loss: 0.2125\n",
      "Epoch 2/30\n",
      "89920/89984 [============================>.] - ETA: 0s - loss: 0.7406Epoch 00001: val_loss improved from 0.21248 to 0.20760, saving model to v2/weights.hdf5\n",
      "89984/89984 [==============================] - 807s - loss: 0.7405 - val_loss: 0.2076\n",
      "Epoch 3/30\n",
      "89920/89984 [============================>.] - ETA: 0s - loss: 0.7471Epoch 00002: val_loss did not improve\n",
      "89984/89984 [==============================] - 890s - loss: 0.7473 - val_loss: 0.2161\n",
      "Epoch 4/30\n",
      "89920/89984 [============================>.] - ETA: 0s - loss: 0.7421Epoch 00003: val_loss did not improve\n",
      "89984/89984 [==============================] - 887s - loss: 0.7420 - val_loss: 0.2464\n",
      "Epoch 5/30\n",
      "62848/89984 [===================>..........] - ETA: 258s - loss: 0.7467Epoch 00004: val_loss did not improve\n",
      "89984/89984 [==============================] - 881s - loss: 0.7436 - val_loss: 0.2291\n",
      "Epoch 6/30\n",
      "89920/89984 [============================>.] - ETA: 0s - loss: 0.7290Epoch 00005: val_loss did not improve\n",
      "89984/89984 [==============================] - 862s - loss: 0.7292 - val_loss: 0.2168\n",
      "Epoch 7/30\n",
      "89920/89984 [============================>.] - ETA: 0s - loss: 0.7372Epoch 00006: val_loss did not improve\n",
      "89984/89984 [==============================] - 781s - loss: 0.7372 - val_loss: 0.2224\n",
      "Epoch 8/30\n",
      "89920/89984 [============================>.] - ETA: 0s - loss: 0.7393Epoch 00007: val_loss did not improve\n",
      "89984/89984 [==============================] - 781s - loss: 0.7392 - val_loss: 0.2100\n",
      "Epoch 9/30\n",
      "89920/89984 [============================>.] - ETA: 0s - loss: 0.6160Epoch 00008: val_loss improved from 0.20760 to 0.16386, saving model to v2/weights.hdf5\n",
      "89984/89984 [==============================] - 825s - loss: 0.6158 - val_loss: 0.1639\n",
      "Epoch 10/30\n",
      "89920/89984 [============================>.] - ETA: 0s - loss: 0.5120Epoch 00016: val_loss did not improve\n",
      "89984/89984 [==============================] - 779s - loss: 0.5121 - val_loss: 0.1394\n",
      "Epoch 18/30\n",
      "89920/89984 [============================>.] - ETA: 0s - loss: 0.5175Epoch 00017: val_loss improved from 0.13880 to 0.13682, saving model to v2/weights.hdf5\n",
      "89984/89984 [==============================] - 862s - loss: 0.5173 - val_loss: 0.1368\n",
      "Epoch 19/30\n",
      "89920/89984 [============================>.] - ETA: 0s - loss: 0.5042Epoch 00018: val_loss improved from 0.13682 to 0.13630, saving model to v2/weights.hdf5\n",
      "89984/89984 [==============================] - 877s - loss: 0.5043 - val_loss: 0.1363\n",
      "Epoch 20/30\n",
      "89920/89984 [============================>.] - ETA: 0s - loss: 0.5033Epoch 00019: val_loss improved from 0.13630 to 0.13547, saving model to v2/weights.hdf5\n",
      "89984/89984 [==============================] - 871s - loss: 0.5030 - val_loss: 0.1355\n",
      "Epoch 21/30\n",
      "89920/89984 [============================>.] - ETA: 0s - loss: 0.5000Epoch 00020: val_loss improved from 0.13547 to 0.13462, saving model to v2/weights.hdf5\n",
      "89984/89984 [==============================] - 877s - loss: 0.5002 - val_loss: 0.1346\n",
      "Epoch 22/30\n",
      "89920/89984 [============================>.] - ETA: 0s - loss: 0.5024Epoch 00021: val_loss improved from 0.13462 to 0.13308, saving model to v2/weights.hdf5\n",
      "89984/89984 [==============================] - 877s - loss: 0.5023 - val_loss: 0.1331\n",
      "Epoch 23/30\n",
      "89920/89984 [============================>.] - ETA: 0s - loss: 0.4987Epoch 00022: val_loss did not improve\n",
      "89984/89984 [==============================] - 871s - loss: 0.4987 - val_loss: 0.1353\n",
      "Epoch 24/30\n",
      "89920/89984 [============================>.] - ETA: 0s - loss: 0.4942Epoch 00023: val_loss did not improve\n",
      "89984/89984 [==============================] - 877s - loss: 0.4940 - val_loss: 0.1346\n",
      "Epoch 25/30\n",
      "89920/89984 [============================>.] - ETA: 0s - loss: 0.4949Epoch 00024: val_loss did not improve\n",
      "89984/89984 [==============================] - 876s - loss: 0.4949 - val_loss: 0.1344\n",
      "Epoch 26/30\n",
      "89920/89984 [============================>.] - ETA: 0s - loss: 0.4852Epoch 00025: val_loss did not improve\n",
      "89984/89984 [==============================] - 871s - loss: 0.4851 - val_loss: 0.1364\n",
      "Epoch 27/30\n",
      "89920/89984 [============================>.] - ETA: 0s - loss: 0.4856Epoch 00026: val_loss did not improve\n",
      "89984/89984 [==============================] - 878s - loss: 0.4857 - val_loss: 0.1343\n",
      "Epoch 28/30\n",
      "89920/89984 [============================>.] - ETA: 0s - loss: 0.4885Epoch 00027: val_loss did not improve\n",
      "89984/89984 [==============================] - 873s - loss: 0.4884 - val_loss: 0.1363\n",
      "Epoch 29/30\n",
      "89920/89984 [============================>.] - ETA: 0s - loss: 0.4710Epoch 00028: val_loss improved from 0.13308 to 0.13250, saving model to v2/weights.hdf5\n",
      "89984/89984 [==============================] - 881s - loss: 0.4712 - val_loss: 0.1325\n",
      "Epoch 30/30\n",
      "89920/89984 [============================>.] - ETA: 0s - loss: 0.4778Epoch 00029: val_loss improved from 0.13250 to 0.13127, saving model to v2/weights.hdf5\n",
      "89984/89984 [==============================] - 879s - loss: 0.4776 - val_loss: 0.1313\n",
      " acc: 96.3816778591% long: 0% short: 96.3816778591%\n"
     ]
    }
   ],
   "source": [
    "history2 = model.fit_generator(trn_gen(), x_trn_len, nb_epoch=30,callbacks=[EarlyStopping(patience=10), checkpointer, reduce_lr],\n",
    "                    validation_data=val_data(), nb_val_samples=x_val_len)\n",
    "evaluator.on_epoch_end(30)"
   ]
  },
  {
   "cell_type": "code",
   "execution_count": 43,
   "metadata": {},
   "outputs": [
    {
     "name": "stdout",
     "output_type": "stream",
     "text": [
      "Epoch 1/30\n",
      "89920/89984 [============================>.] - ETA: 0s - loss: 0.4789Epoch 00000: val_loss did not improve\n",
      "89984/89984 [==============================] - 877s - loss: 0.4788 - val_loss: 0.1318\n",
      "Epoch 2/30\n",
      "89920/89984 [============================>.] - ETA: 0s - loss: 0.4773Epoch 00001: val_loss improved from 0.13127 to 0.13014, saving model to v2/weights.hdf5\n",
      "89984/89984 [==============================] - 877s - loss: 0.4773 - val_loss: 0.1301\n",
      "Epoch 3/30\n",
      "89920/89984 [============================>.] - ETA: 0s - loss: 0.4688Epoch 00002: val_loss did not improve\n",
      "89984/89984 [==============================] - 871s - loss: 0.4687 - val_loss: 0.1303\n",
      "Epoch 4/30\n",
      "89920/89984 [============================>.] - ETA: 0s - loss: 0.4666Epoch 00003: val_loss improved from 0.13014 to 0.12996, saving model to v2/weights.hdf5\n",
      "89984/89984 [==============================] - 880s - loss: 0.4666 - val_loss: 0.1300\n",
      "Epoch 5/30\n",
      "89920/89984 [============================>.] - ETA: 0s - loss: 0.4768Epoch 00004: val_loss improved from 0.12996 to 0.12946, saving model to v2/weights.hdf5\n",
      "89984/89984 [==============================] - 878s - loss: 0.4769 - val_loss: 0.1295\n",
      "Epoch 6/30\n",
      "89920/89984 [============================>.] - ETA: 0s - loss: 0.4779Epoch 00005: val_loss did not improve\n",
      "89984/89984 [==============================] - 874s - loss: 0.4777 - val_loss: 0.1298\n",
      "Epoch 7/30\n",
      "89920/89984 [============================>.] - ETA: 0s - loss: 0.4698Epoch 00006: val_loss did not improve\n",
      "89984/89984 [==============================] - 879s - loss: 0.4700 - val_loss: 0.1298\n",
      "Epoch 8/30\n",
      "89920/89984 [============================>.] - ETA: 0s - loss: 0.4693Epoch 00007: val_loss did not improve\n",
      "89984/89984 [==============================] - 875s - loss: 0.4692 - val_loss: 0.1296\n",
      "Epoch 9/30\n",
      "89920/89984 [============================>.] - ETA: 0s - loss: 0.4726Epoch 00008: val_loss improved from 0.12946 to 0.12940, saving model to v2/weights.hdf5\n",
      "89984/89984 [==============================] - 877s - loss: 0.4724 - val_loss: 0.1294\n",
      "Epoch 10/30\n",
      "89920/89984 [============================>.] - ETA: 0s - loss: 0.4775Epoch 00009: val_loss did not improve\n",
      "89984/89984 [==============================] - 878s - loss: 0.4775 - val_loss: 0.1302\n",
      "Epoch 11/30\n",
      "89920/89984 [============================>.] - ETA: 0s - loss: 0.4694Epoch 00010: val_loss did not improve\n",
      "89984/89984 [==============================] - 874s - loss: 0.4692 - val_loss: 0.1296\n",
      "Epoch 12/30\n",
      "89920/89984 [============================>.] - ETA: 0s - loss: 0.4670Epoch 00011: val_loss did not improve\n",
      "89984/89984 [==============================] - 878s - loss: 0.4669 - val_loss: 0.1299\n",
      "Epoch 13/30\n",
      "89920/89984 [============================>.] - ETA: 0s - loss: 0.4641Epoch 00012: val_loss did not improve\n",
      "89984/89984 [==============================] - 878s - loss: 0.4644 - val_loss: 0.1297\n",
      "Epoch 14/30\n",
      "89920/89984 [============================>.] - ETA: 0s - loss: 0.4698Epoch 00013: val_loss improved from 0.12940 to 0.12938, saving model to v2/weights.hdf5\n",
      "89984/89984 [==============================] - 871s - loss: 0.4698 - val_loss: 0.1294\n",
      "Epoch 15/30\n",
      "89920/89984 [============================>.] - ETA: 0s - loss: 0.4696Epoch 00014: val_loss improved from 0.12938 to 0.12938, saving model to v2/weights.hdf5\n",
      "89984/89984 [==============================] - 878s - loss: 0.4695 - val_loss: 0.1294\n",
      "Epoch 16/30\n",
      "89920/89984 [============================>.] - ETA: 0s - loss: 0.4632Epoch 00015: val_loss improved from 0.12938 to 0.12924, saving model to v2/weights.hdf5\n",
      "89984/89984 [==============================] - 875s - loss: 0.4633 - val_loss: 0.1292\n",
      "Epoch 17/30\n",
      "89920/89984 [============================>.] - ETA: 0s - loss: 0.4683Epoch 00016: val_loss improved from 0.12924 to 0.12912, saving model to v2/weights.hdf5\n",
      "89984/89984 [==============================] - 877s - loss: 0.4683 - val_loss: 0.1291\n",
      "Epoch 18/30\n",
      "89920/89984 [============================>.] - ETA: 0s - loss: 0.4771Epoch 00017: val_loss improved from 0.12912 to 0.12909, saving model to v2/weights.hdf5\n",
      "89984/89984 [==============================] - 879s - loss: 0.4771 - val_loss: 0.1291\n",
      "Epoch 19/30\n",
      "89920/89984 [============================>.] - ETA: 0s - loss: 0.4630Epoch 00018: val_loss improved from 0.12909 to 0.12903, saving model to v2/weights.hdf5\n",
      "89984/89984 [==============================] - 871s - loss: 0.4632 - val_loss: 0.1290\n",
      "Epoch 20/30\n",
      "89920/89984 [============================>.] - ETA: 0s - loss: 0.4600Epoch 00019: val_loss did not improve\n",
      "89984/89984 [==============================] - 879s - loss: 0.4599 - val_loss: 0.1291\n",
      "Epoch 21/30\n",
      "89920/89984 [============================>.] - ETA: 0s - loss: 0.4659Epoch 00020: val_loss improved from 0.12903 to 0.12886, saving model to v2/weights.hdf5\n",
      "89984/89984 [==============================] - 880s - loss: 0.4658 - val_loss: 0.1289\n",
      "Epoch 22/30\n",
      "89920/89984 [============================>.] - ETA: 0s - loss: 0.4722Epoch 00021: val_loss improved from 0.12886 to 0.12886, saving model to v2/weights.hdf5\n",
      "89984/89984 [==============================] - 873s - loss: 0.4722 - val_loss: 0.1289\n",
      "Epoch 23/30\n",
      "89920/89984 [============================>.] - ETA: 0s - loss: 0.4670Epoch 00022: val_loss did not improve\n",
      "89984/89984 [==============================] - 879s - loss: 0.4668 - val_loss: 0.1291\n",
      "Epoch 24/30\n",
      "89920/89984 [============================>.] - ETA: 0s - loss: 0.4671Epoch 00023: val_loss did not improve\n",
      "89984/89984 [==============================] - 873s - loss: 0.4669 - val_loss: 0.1292\n",
      "Epoch 25/30\n",
      "89920/89984 [============================>.] - ETA: 0s - loss: 0.4691Epoch 00024: val_loss did not improve\n",
      "89984/89984 [==============================] - 881s - loss: 0.4691 - val_loss: 0.1290\n",
      "Epoch 26/30\n",
      "89920/89984 [============================>.] - ETA: 0s - loss: 0.4714Epoch 00025: val_loss did not improve\n",
      "89984/89984 [==============================] - 880s - loss: 0.4714 - val_loss: 0.1290\n",
      "Epoch 27/30\n",
      "89920/89984 [============================>.] - ETA: 0s - loss: 0.4679Epoch 00026: val_loss did not improve\n",
      "89984/89984 [==============================] - 843s - loss: 0.4679 - val_loss: 0.1290\n",
      "Epoch 28/30\n",
      "89920/89984 [============================>.] - ETA: 0s - loss: 0.4657Epoch 00027: val_loss did not improve\n",
      "89984/89984 [==============================] - 779s - loss: 0.4658 - val_loss: 0.1290\n",
      "Epoch 29/30\n",
      "89920/89984 [============================>.] - ETA: 0s - loss: 0.4657Epoch 00028: val_loss did not improve\n",
      "89984/89984 [==============================] - 782s - loss: 0.4658 - val_loss: 0.1289\n",
      "Epoch 30/30\n",
      "89920/89984 [============================>.] - ETA: 0s - loss: 0.4674Epoch 00029: val_loss did not improve\n",
      "89984/89984 [==============================] - 780s - loss: 0.4675 - val_loss: 0.1289\n",
      " acc: 96.4819083893% long: 0% short: 96.4819083893%\n"
     ]
    }
   ],
   "source": [
    "history2 = model.fit_generator(trn_gen(), x_trn_len, nb_epoch=30,callbacks=[EarlyStopping(patience=10), checkpointer, reduce_lr],\n",
    "                    validation_data=val_data(), nb_val_samples=x_val_len)\n",
    "evaluator.on_epoch_end(30)"
   ]
  },
  {
   "cell_type": "code",
   "execution_count": 44,
   "metadata": {},
   "outputs": [
    {
     "data": {
      "text/plain": [
       "{'loss': [0.47881941097771291,\n",
       "  0.47733066914600464,\n",
       "  0.46873428511458476,\n",
       "  0.46655659818727718,\n",
       "  0.47688581182450523,\n",
       "  0.47768510806017883,\n",
       "  0.46999965576855079,\n",
       "  0.46920735073960779,\n",
       "  0.47240240493548202,\n",
       "  0.47745041576231356,\n",
       "  0.46924679491610649,\n",
       "  0.46692189306635434,\n",
       "  0.46436610388679489,\n",
       "  0.46984775564706172,\n",
       "  0.46945625805371516,\n",
       "  0.46332385501483853,\n",
       "  0.4682869573957042,\n",
       "  0.47705970005069992,\n",
       "  0.46316691144113858,\n",
       "  0.45992542615168297,\n",
       "  0.46575617375565032,\n",
       "  0.47223377855465476,\n",
       "  0.46675152511231249,\n",
       "  0.46692577441081212,\n",
       "  0.46909082942187869,\n",
       "  0.471380668251138,\n",
       "  0.4679029435714227,\n",
       "  0.4657828657600398,\n",
       "  0.46575249609130714,\n",
       "  0.46745961757739779],\n",
       " 'lr': [1.0000001e-05,\n",
       "  1.0000001e-05,\n",
       "  1.0000001e-05,\n",
       "  1.0000001e-05,\n",
       "  1.0000001e-05,\n",
       "  1.0000001e-05,\n",
       "  1.0000001e-05,\n",
       "  1.0000001e-05,\n",
       "  1.0000001e-05,\n",
       "  1.0000001e-05,\n",
       "  1.0000001e-05,\n",
       "  1.0000001e-06,\n",
       "  1.0000001e-06,\n",
       "  1.0000001e-06,\n",
       "  1.0000001e-06,\n",
       "  1.0000001e-06,\n",
       "  1.0000001e-06,\n",
       "  1.0000001e-06,\n",
       "  1.0000001e-06,\n",
       "  1.0000001e-06,\n",
       "  1.0000001e-06,\n",
       "  1.0000001e-06,\n",
       "  1.0000001e-06,\n",
       "  1.0000001e-06,\n",
       "  1.0000001e-06,\n",
       "  1.0000001e-06,\n",
       "  1.0000001e-06,\n",
       "  1.0000001e-07,\n",
       "  1.0000001e-07,\n",
       "  1.0000001e-07],\n",
       " 'val_loss': [0.1318075524039482,\n",
       "  0.13014495390844188,\n",
       "  0.13030874808613421,\n",
       "  0.12996296865916557,\n",
       "  0.12946496685837844,\n",
       "  0.12982230260034738,\n",
       "  0.1297915924071274,\n",
       "  0.12963198156278907,\n",
       "  0.12939902425030375,\n",
       "  0.13021999175621199,\n",
       "  0.12963409341817222,\n",
       "  0.12987156508053019,\n",
       "  0.12966372625534694,\n",
       "  0.12938347903992378,\n",
       "  0.12937864980239291,\n",
       "  0.12923943958493242,\n",
       "  0.12912281920971536,\n",
       "  0.12909364384879352,\n",
       "  0.12902600444846585,\n",
       "  0.1290530681847582,\n",
       "  0.12885563860926394,\n",
       "  0.12885510062984992,\n",
       "  0.12905412908709574,\n",
       "  0.12915468896254995,\n",
       "  0.12904485445098096,\n",
       "  0.12904445467434822,\n",
       "  0.12897801058103844,\n",
       "  0.12896908456145062,\n",
       "  0.12893593859965879,\n",
       "  0.12892955222737518]}"
      ]
     },
     "execution_count": 44,
     "metadata": {},
     "output_type": "execute_result"
    }
   ],
   "source": [
    "history2.history"
   ]
  },
  {
   "cell_type": "markdown",
   "metadata": {},
   "source": [
    "# 9-cnn-64-512 + 1-512-rnn\n"
   ]
  },
  {
   "cell_type": "code",
   "execution_count": 30,
   "metadata": {
    "collapsed": true
   },
   "outputs": [
    {
     "name": "stdout",
     "output_type": "stream",
     "text": [
      "Epoch 1/15\n",
      "9024/8992 [==============================] - 107s - loss: 99.3167   \n",
      "Epoch 2/15\n",
      "9024/8992 [==============================] - 104s - loss: 61.1107   \n",
      "Epoch 3/15\n",
      "9024/8992 [==============================] - 91s - loss: 33.2440    \n",
      "Epoch 4/15\n",
      "9024/8992 [==============================] - 100s - loss: 19.1650   \n",
      "Epoch 5/15\n",
      "9024/8992 [==============================] - 104s - loss: 13.3167   \n",
      "Epoch 6/15\n",
      "9024/8992 [==============================] - 104s - loss: 10.6179   \n",
      "Epoch 7/15\n",
      "9024/8992 [==============================] - 104s - loss: 8.7041   \n",
      "Epoch 8/15\n",
      "9024/8992 [==============================] - 104s - loss: 7.6173   \n",
      "Epoch 9/15\n",
      "9024/8992 [==============================] - 105s - loss: 6.7920   \n",
      "Epoch 10/15\n",
      "9024/8992 [==============================] - 104s - loss: 6.2848   \n",
      "Epoch 11/15\n",
      "9024/8992 [==============================] - 104s - loss: 5.7416   \n",
      "Epoch 12/15\n",
      "9024/8992 [==============================] - 104s - loss: 5.5035   \n",
      "Epoch 13/15\n",
      "9024/8992 [==============================] - 104s - loss: 5.1285   \n",
      "Epoch 14/15\n",
      "9024/8992 [==============================] - 103s - loss: 4.6756   \n",
      "Epoch 15/15\n",
      "9024/8992 [==============================] - 104s - loss: 4.7367   \n"
     ]
    }
   ],
   "source": [
    "model.compile(loss={'ctc': lambda y_true, y_pred: y_pred}, optimizer='rmsprop')\n",
    "history1 = model.fit_generator(trn_gen(), x_trn_len, nb_epoch=15)"
   ]
  },
  {
   "cell_type": "code",
   "execution_count": 32,
   "metadata": {},
   "outputs": [
    {
     "name": "stdout",
     "output_type": "stream",
     "text": [
      "10050/10050 [==============================] - 28s    \n",
      "2.69755276039\n"
     ]
    }
   ],
   "source": [
    "vx, vy = val_data()\n"
   ]
  },
  {
   "cell_type": "code",
   "execution_count": 33,
   "metadata": {},
   "outputs": [
    {
     "name": "stdout",
     "output_type": "stream",
     "text": [
      "Epoch 1/15\n",
      "9024/8992 [==============================] - 96s - loss: 4.3617    \n",
      "Epoch 2/15\n",
      "9024/8992 [==============================] - 105s - loss: 4.2062   \n",
      "Epoch 3/15\n",
      "9024/8992 [==============================] - 104s - loss: 4.1070   \n",
      "Epoch 4/15\n",
      "9024/8992 [==============================] - 105s - loss: 3.8300   \n",
      "Epoch 5/15\n",
      "9024/8992 [==============================] - 105s - loss: 3.8514   \n",
      "Epoch 6/15\n",
      "9024/8992 [==============================] - 104s - loss: 3.7601   \n",
      "Epoch 7/15\n",
      "9024/8992 [==============================] - 104s - loss: 3.6524   \n",
      "Epoch 8/15\n",
      "9024/8992 [==============================] - 104s - loss: 3.4756   \n",
      "Epoch 9/15\n",
      "9024/8992 [==============================] - 104s - loss: 3.4506   \n",
      "Epoch 10/15\n",
      "9024/8992 [==============================] - 105s - loss: 3.3230   \n",
      "Epoch 11/15\n",
      "9024/8992 [==============================] - 103s - loss: 3.2562   \n",
      "Epoch 12/15\n",
      "9024/8992 [==============================] - 104s - loss: 3.2516   \n",
      "Epoch 13/15\n",
      "9024/8992 [==============================] - 99s - loss: 3.2828    \n",
      "Epoch 14/15\n",
      "9024/8992 [==============================] - 86s - loss: 3.0228    \n",
      "Epoch 15/15\n",
      "9024/8992 [==============================] - 86s - loss: 3.0921    \n",
      "10048/10050 [============================>.] - ETA: 0s1.28005039838\n",
      " acc: 71.5223880597% long: 0% short: 71.5223880597%\n"
     ]
    }
   ],
   "source": [
    "history1 = model.fit_generator(trn_gen(), x_trn_len, nb_epoch=15)\n",
    "print(model.evaluate(vx, vy))\n",
    "evaluator.on_epoch_end(30)"
   ]
  },
  {
   "cell_type": "code",
   "execution_count": 34,
   "metadata": {},
   "outputs": [
    {
     "name": "stdout",
     "output_type": "stream",
     "text": [
      "Epoch 1/15\n",
      "9024/8992 [==============================] - 87s - loss: 2.9196    \n",
      "Epoch 2/15\n",
      "9024/8992 [==============================] - 85s - loss: 2.8707    \n",
      "Epoch 3/15\n",
      "9024/8992 [==============================] - 86s - loss: 2.9501    \n",
      "Epoch 4/15\n",
      "9024/8992 [==============================] - 91s - loss: 2.8118    \n",
      "Epoch 5/15\n",
      "9024/8992 [==============================] - 103s - loss: 2.8828   \n",
      "Epoch 6/15\n",
      "9024/8992 [==============================] - 103s - loss: 2.7026   \n",
      "Epoch 7/15\n",
      "9024/8992 [==============================] - 103s - loss: 2.7355   \n",
      "Epoch 8/15\n",
      "9024/8992 [==============================] - 103s - loss: 2.7039   \n",
      "Epoch 9/15\n",
      "9024/8992 [==============================] - 101s - loss: 2.5210   \n",
      "Epoch 10/15\n",
      "9024/8992 [==============================] - 102s - loss: 2.5388   \n",
      "Epoch 11/15\n",
      "9024/8992 [==============================] - 101s - loss: 2.6025   \n",
      "Epoch 12/15\n",
      "9024/8992 [==============================] - 102s - loss: 2.5981   \n",
      "Epoch 13/15\n",
      "9024/8992 [==============================] - 102s - loss: 2.5831   \n",
      "Epoch 14/15\n",
      "9024/8992 [==============================] - 103s - loss: 2.3517   \n",
      "Epoch 15/15\n",
      "9024/8992 [==============================] - 103s - loss: 2.4972   \n",
      "10048/10050 [============================>.] - ETA: 0s0.969224557285\n",
      " acc: 77.92039801% long: 0% short: 77.92039801%\n"
     ]
    }
   ],
   "source": [
    "history1 = model.fit_generator(trn_gen(), x_trn_len, nb_epoch=15)\n",
    "print(model.evaluate(vx, vy))\n",
    "evaluator.on_epoch_end(30)"
   ]
  },
  {
   "cell_type": "code",
   "execution_count": 35,
   "metadata": {},
   "outputs": [
    {
     "name": "stdout",
     "output_type": "stream",
     "text": [
      "Epoch 1/15\n",
      "9024/8992 [==============================] - 87s - loss: 2.3386    \n",
      "Epoch 2/15\n",
      "9024/8992 [==============================] - 102s - loss: 2.3883   \n",
      "Epoch 3/15\n",
      "9024/8992 [==============================] - 103s - loss: 2.4335   \n",
      "Epoch 4/15\n",
      "9024/8992 [==============================] - 102s - loss: 2.2574   \n",
      "Epoch 5/15\n",
      "9024/8992 [==============================] - 102s - loss: 2.4010   \n",
      "Epoch 6/15\n",
      "9024/8992 [==============================] - 103s - loss: 2.3340   \n",
      "Epoch 7/15\n",
      "9024/8992 [==============================] - 102s - loss: 2.3046   \n",
      "Epoch 8/15\n",
      "9024/8992 [==============================] - 101s - loss: 2.3595   \n",
      "Epoch 9/15\n",
      "9024/8992 [==============================] - 102s - loss: 2.2396   \n",
      "Epoch 10/15\n",
      "9024/8992 [==============================] - 102s - loss: 2.2418   \n",
      "Epoch 11/15\n",
      "9024/8992 [==============================] - 102s - loss: 2.2625   \n",
      "Epoch 12/15\n",
      "9024/8992 [==============================] - 102s - loss: 2.1715   \n",
      "Epoch 13/15\n",
      "9024/8992 [==============================] - 102s - loss: 2.2395   \n",
      "Epoch 14/15\n",
      "9024/8992 [==============================] - 95s - loss: 2.0522    \n",
      "Epoch 15/15\n",
      "9024/8992 [==============================] - 85s - loss: 2.2113    \n",
      "10048/10050 [============================>.] - ETA: 0s0.781223580041\n",
      " acc: 81.2437810945% long: 0% short: 81.2437810945%\n"
     ]
    }
   ],
   "source": [
    "history1 = model.fit_generator(trn_gen(), x_trn_len, nb_epoch=15)\n",
    "print(model.evaluate(vx, vy))\n",
    "evaluator.on_epoch_end(30)"
   ]
  },
  {
   "cell_type": "markdown",
   "metadata": {},
   "source": [
    "#  9-cnn-64-512    2-256-rnn"
   ]
  },
  {
   "cell_type": "code",
   "execution_count": null,
   "metadata": {
    "collapsed": true
   },
   "outputs": [
    {
     "name": "stdout",
     "output_type": "stream",
     "text": [
      "Epoch 1/30\n",
      "9024/8992 [==============================] - 127s - loss: 99.9664    \n",
      "Epoch 2/30\n",
      "9024/8992 [==============================] - 128s - loss: 59.6732   \n",
      "Epoch 3/30\n",
      "9024/8992 [==============================] - 128s - loss: 35.7162   \n",
      "Epoch 4/30\n",
      "9024/8992 [==============================] - 152s - loss: 21.3635   \n",
      "Epoch 5/30\n",
      "9024/8992 [==============================] - 152s - loss: 14.8342   \n",
      "Epoch 6/30\n",
      "9024/8992 [==============================] - 152s - loss: 11.5182   \n",
      "Epoch 7/30\n",
      "9024/8992 [==============================] - 152s - loss: 9.4364   \n",
      "Epoch 8/30\n",
      "9024/8992 [==============================] - 152s - loss: 8.3076   \n",
      "Epoch 9/30\n",
      "9024/8992 [==============================] - 151s - loss: 7.2707   \n",
      "Epoch 10/30\n",
      "9024/8992 [==============================] - 151s - loss: 6.6296   \n",
      "Epoch 11/30\n",
      "9024/8992 [==============================] - 137s - loss: 5.9807   \n",
      "Epoch 12/30\n",
      "9024/8992 [==============================] - 125s - loss: 5.5614   \n",
      "Epoch 13/30\n",
      "9024/8992 [==============================] - 140s - loss: 5.2613   \n",
      "Epoch 14/30\n",
      "9024/8992 [==============================] - 151s - loss: 4.9297   \n",
      "Epoch 15/30\n",
      "9024/8992 [==============================] - 152s - loss: 4.7416   \n",
      "Epoch 16/30\n",
      "9024/8992 [==============================] - 151s - loss: 4.4721   \n",
      "Epoch 17/30\n",
      "9024/8992 [==============================] - 152s - loss: 4.2036   \n",
      "Epoch 18/30\n",
      "9024/8992 [==============================] - 153s - loss: 4.0959   \n",
      "Epoch 19/30\n",
      "9024/8992 [==============================] - 152s - loss: 4.0682   \n",
      "Epoch 20/30\n",
      "9024/8992 [==============================] - 151s - loss: 3.8370   \n",
      "Epoch 21/30\n",
      "9024/8992 [==============================] - 126s - loss: 3.7335   \n",
      "Epoch 22/30\n",
      "9024/8992 [==============================] - 124s - loss: 3.6450   \n",
      "Epoch 23/30\n",
      "9024/8992 [==============================] - 134s - loss: 3.5841   \n",
      "Epoch 24/30\n",
      "9024/8992 [==============================] - 152s - loss: 3.3820   \n",
      "Epoch 25/30\n",
      "9024/8992 [==============================] - 152s - loss: 3.2895   \n",
      "Epoch 26/30\n",
      "9024/8992 [==============================] - 152s - loss: 3.1785   \n",
      "Epoch 27/30\n",
      "9024/8992 [==============================] - 152s - loss: 3.2055   \n",
      "Epoch 28/30\n",
      "9024/8992 [==============================] - 151s - loss: 3.0904   \n",
      "Epoch 29/30\n",
      "9024/8992 [==============================] - 151s - loss: 3.0554   \n",
      "Epoch 30/30\n",
      "9024/8992 [==============================] - 152s - loss: 2.9381   \n"
     ]
    },
    {
     "ename": "NameError",
     "evalue": "name 'xy' is not defined",
     "output_type": "error",
     "traceback": [
      "\u001b[0;31m---------------------------------------------------------------------------\u001b[0m",
      "\u001b[0;31mNameError\u001b[0m                                 Traceback (most recent call last)",
      "\u001b[0;32m<ipython-input-37-9c2cb802c9bb>\u001b[0m in \u001b[0;36m<module>\u001b[0;34m()\u001b[0m\n\u001b[1;32m      2\u001b[0m \u001b[0mhistory1\u001b[0m \u001b[0;34m=\u001b[0m \u001b[0mmodel\u001b[0m\u001b[0;34m.\u001b[0m\u001b[0mfit_generator\u001b[0m\u001b[0;34m(\u001b[0m\u001b[0mtrn_gen\u001b[0m\u001b[0;34m(\u001b[0m\u001b[0;34m)\u001b[0m\u001b[0;34m,\u001b[0m \u001b[0mx_trn_len\u001b[0m\u001b[0;34m,\u001b[0m \u001b[0mnb_epoch\u001b[0m\u001b[0;34m=\u001b[0m\u001b[0;36m30\u001b[0m\u001b[0;34m)\u001b[0m\u001b[0;34m\u001b[0m\u001b[0m\n\u001b[1;32m      3\u001b[0m \u001b[0;34m\u001b[0m\u001b[0m\n\u001b[0;32m----> 4\u001b[0;31m \u001b[0;32mprint\u001b[0m\u001b[0;34m(\u001b[0m\u001b[0mmodel\u001b[0m\u001b[0;34m.\u001b[0m\u001b[0mevaluate\u001b[0m\u001b[0;34m(\u001b[0m\u001b[0mvx\u001b[0m\u001b[0;34m,\u001b[0m \u001b[0mxy\u001b[0m\u001b[0;34m)\u001b[0m\u001b[0;34m)\u001b[0m\u001b[0;34m\u001b[0m\u001b[0m\n\u001b[0m\u001b[1;32m      5\u001b[0m \u001b[0mevaluator\u001b[0m\u001b[0;34m.\u001b[0m\u001b[0mon_epoch_end\u001b[0m\u001b[0;34m(\u001b[0m\u001b[0;36m10\u001b[0m\u001b[0;34m)\u001b[0m\u001b[0;34m\u001b[0m\u001b[0m\n",
      "\u001b[0;31mNameError\u001b[0m: name 'xy' is not defined"
     ]
    }
   ],
   "source": [
    "model.compile(loss={'ctc': lambda y_true, y_pred: y_pred}, optimizer='rmsprop')\n",
    "history1 = model.fit_generator(trn_gen(), x_trn_len, nb_epoch=30)\n",
    "\n"
   ]
  },
  {
   "cell_type": "code",
   "execution_count": 39,
   "metadata": {},
   "outputs": [
    {
     "name": "stdout",
     "output_type": "stream",
     "text": [
      "10050/10050 [==============================] - 46s    \n",
      "1.35222773166\n",
      " acc: 68.447761194% long: 0% short: 68.447761194%\n"
     ]
    }
   ],
   "source": [
    "print(model.evaluate(vx, vy))\n",
    "evaluator.on_epoch_end(10)"
   ]
  },
  {
   "cell_type": "markdown",
   "metadata": {},
   "source": [
    "# 9-cnn-64-512 1-512-rnn    no-data-augamentation"
   ]
  },
  {
   "cell_type": "code",
   "execution_count": 42,
   "metadata": {},
   "outputs": [
    {
     "name": "stdout",
     "output_type": "stream",
     "text": [
      "Epoch 1/15\n",
      "9024/8992 [==============================] - 107s - loss: 76.5256   \n",
      "Epoch 2/15\n",
      "9024/8992 [==============================] - 104s - loss: 30.1881   \n",
      "Epoch 3/15\n",
      "9024/8992 [==============================] - 104s - loss: 20.0389   \n",
      "Epoch 4/15\n",
      "9024/8992 [==============================] - 104s - loss: 16.0240   \n",
      "Epoch 5/15\n",
      "9024/8992 [==============================] - 104s - loss: 13.0939   \n",
      "Epoch 6/15\n",
      "9024/8992 [==============================] - 103s - loss: 9.7932   \n",
      "Epoch 7/15\n",
      "9024/8992 [==============================] - 104s - loss: 7.1038   \n",
      "Epoch 8/15\n",
      "9024/8992 [==============================] - 103s - loss: 5.3637   \n",
      "Epoch 9/15\n",
      "9024/8992 [==============================] - 103s - loss: 4.0550   \n",
      "Epoch 10/15\n",
      "9024/8992 [==============================] - 104s - loss: 3.3188   \n",
      "Epoch 11/15\n",
      "9024/8992 [==============================] - 98s - loss: 2.9263    \n",
      "Epoch 12/15\n",
      "9024/8992 [==============================] - 102s - loss: 2.7580   \n",
      "Epoch 13/15\n",
      "9024/8992 [==============================] - 104s - loss: 2.4773   \n",
      "Epoch 14/15\n",
      "9024/8992 [==============================] - 104s - loss: 2.2620   \n",
      "Epoch 15/15\n",
      "9024/8992 [==============================] - 103s - loss: 2.2760   \n",
      "10050/10050 [==============================] - 32s    \n",
      "3.63168031567\n",
      " acc: 39.2338308458% long: 0% short: 39.2338308458%\n"
     ]
    }
   ],
   "source": [
    "model.compile(loss={'ctc': lambda y_true, y_pred: y_pred}, optimizer='rmsprop')\n",
    "history1 = model.fit_generator(trn_gen(), x_trn_len, nb_epoch=15)\n",
    "print(model.evaluate(vx, vy))\n",
    "evaluator.on_epoch_end(10)"
   ]
  },
  {
   "cell_type": "markdown",
   "metadata": {},
   "source": [
    "# 9-cnn-64-512 1-512-rnn  no-data-augamentation  dropout 0.2"
   ]
  },
  {
   "cell_type": "code",
   "execution_count": null,
   "metadata": {},
   "outputs": [
    {
     "name": "stdout",
     "output_type": "stream",
     "text": [
      "Epoch 1/15\n",
      "9024/8992 [==============================] - 108s - loss: 82.1191   \n",
      "Epoch 2/15\n",
      "9024/8992 [==============================] - 93s - loss: 31.4453    \n",
      "Epoch 3/15\n",
      "9024/8992 [==============================] - 86s - loss: 20.4815    \n",
      "Epoch 4/15\n",
      "9024/8992 [==============================] - 86s - loss: 16.7978    \n",
      "Epoch 5/15\n",
      "9024/8992 [==============================] - 86s - loss: 14.2901    \n",
      "Epoch 6/15\n",
      "6784/8992 [=====================>........] - ETA: 21s - loss: 11.9260"
     ]
    }
   ],
   "source": [
    "model.compile(loss={'ctc': lambda y_true, y_pred: y_pred}, optimizer='rmsprop')\n",
    "history1 = model.fit_generator(trn_gen(), x_trn_len, nb_epoch=15)\n",
    "print(model.evaluate(vx, vy))\n",
    "evaluator.on_epoch_end(10)"
   ]
  },
  {
   "cell_type": "code",
   "execution_count": 47,
   "metadata": {},
   "outputs": [
    {
     "data": {
      "text/plain": [
       "{'loss': [82.119107672508733,\n",
       "  31.44530929403102,\n",
       "  20.481513084249293,\n",
       "  16.79782994588216,\n",
       "  14.290107030395076,\n",
       "  11.504723589471046,\n",
       "  8.7697446227919134,\n",
       "  6.4063071934043938,\n",
       "  5.1893428893799474,\n",
       "  3.971756120100089,\n",
       "  3.2877366001724351,\n",
       "  3.044551298973408,\n",
       "  2.7796175530616272,\n",
       "  2.4218144788809703,\n",
       "  2.5285970623611558]}"
      ]
     },
     "execution_count": 47,
     "metadata": {},
     "output_type": "execute_result"
    }
   ],
   "source": [
    "history1.history"
   ]
  },
  {
   "cell_type": "code",
   "execution_count": 48,
   "metadata": {},
   "outputs": [
    {
     "name": "stdout",
     "output_type": "stream",
     "text": [
      "10048/10050 [============================>.] - ETA: 0s2.43480613743\n",
      " acc: 52.7462686567% long: 0% short: 52.7462686567%\n"
     ]
    }
   ],
   "source": [
    "print(model.evaluate(vx, vy))\n",
    "evaluator.on_epoch_end(10)"
   ]
  },
  {
   "cell_type": "code",
   "execution_count": 49,
   "metadata": {
    "collapsed": true
   },
   "outputs": [
    {
     "name": "stdout",
     "output_type": "stream",
     "text": [
      "Epoch 1/30\n",
      "9024/8992 [==============================] - 105s - loss: 2.0761   \n",
      "Epoch 2/30\n",
      "9024/8992 [==============================] - 104s - loss: 2.0007   \n",
      "Epoch 3/30\n",
      "9024/8992 [==============================] - 104s - loss: 1.8460   \n",
      "Epoch 4/30\n",
      "9024/8992 [==============================] - 104s - loss: 1.7150   \n",
      "Epoch 5/30\n",
      "9024/8992 [==============================] - 105s - loss: 1.7219   \n",
      "Epoch 6/30\n",
      "9024/8992 [==============================] - 104s - loss: 1.7782   \n",
      "Epoch 7/30\n",
      "9024/8992 [==============================] - 105s - loss: 1.6543   \n",
      "Epoch 8/30\n",
      "9024/8992 [==============================] - 105s - loss: 1.6461   \n",
      "Epoch 9/30\n",
      "9024/8992 [==============================] - 104s - loss: 1.5105   \n",
      "Epoch 10/30\n",
      "9024/8992 [==============================] - 104s - loss: 1.4885   \n",
      "Epoch 11/30\n",
      "9024/8992 [==============================] - 94s - loss: 1.3563    \n",
      "Epoch 12/30\n",
      "9024/8992 [==============================] - 86s - loss: 1.3986    \n",
      "Epoch 13/30\n",
      "9024/8992 [==============================] - 86s - loss: 1.3152    \n",
      "Epoch 14/30\n",
      "9024/8992 [==============================] - 85s - loss: 1.2403    \n",
      "Epoch 15/30\n",
      " 960/8992 [==>...........................] - ETA: 76s - loss: 1.1605"
     ]
    },
    {
     "ename": "KeyboardInterrupt",
     "evalue": "",
     "output_type": "error",
     "traceback": [
      "\u001b[0;31m---------------------------------------------------------------------------\u001b[0m",
      "\u001b[0;31mKeyboardInterrupt\u001b[0m                         Traceback (most recent call last)",
      "\u001b[0;32m<ipython-input-49-0cec9cc17ea1>\u001b[0m in \u001b[0;36m<module>\u001b[0;34m()\u001b[0m\n\u001b[0;32m----> 1\u001b[0;31m \u001b[0mhistory1\u001b[0m \u001b[0;34m=\u001b[0m \u001b[0mmodel\u001b[0m\u001b[0;34m.\u001b[0m\u001b[0mfit_generator\u001b[0m\u001b[0;34m(\u001b[0m\u001b[0mtrn_gen\u001b[0m\u001b[0;34m(\u001b[0m\u001b[0;34m)\u001b[0m\u001b[0;34m,\u001b[0m \u001b[0mx_trn_len\u001b[0m\u001b[0;34m,\u001b[0m \u001b[0mnb_epoch\u001b[0m\u001b[0;34m=\u001b[0m\u001b[0;36m30\u001b[0m\u001b[0;34m)\u001b[0m\u001b[0;34m\u001b[0m\u001b[0m\n\u001b[0m\u001b[1;32m      2\u001b[0m \u001b[0;32mprint\u001b[0m\u001b[0;34m(\u001b[0m\u001b[0mmodel\u001b[0m\u001b[0;34m.\u001b[0m\u001b[0mevaluate\u001b[0m\u001b[0;34m(\u001b[0m\u001b[0mvx\u001b[0m\u001b[0;34m,\u001b[0m \u001b[0mvy\u001b[0m\u001b[0;34m)\u001b[0m\u001b[0;34m)\u001b[0m\u001b[0;34m\u001b[0m\u001b[0m\n\u001b[1;32m      3\u001b[0m \u001b[0mevaluator\u001b[0m\u001b[0;34m.\u001b[0m\u001b[0mon_epoch_end\u001b[0m\u001b[0;34m(\u001b[0m\u001b[0;36m10\u001b[0m\u001b[0;34m)\u001b[0m\u001b[0;34m\u001b[0m\u001b[0m\n",
      "\u001b[0;32m/home/viiv/anaconda2/lib/python2.7/site-packages/keras/engine/training.pyc\u001b[0m in \u001b[0;36mfit_generator\u001b[0;34m(self, generator, samples_per_epoch, nb_epoch, verbose, callbacks, validation_data, nb_val_samples, class_weight, max_q_size, nb_worker, pickle_safe, initial_epoch)\u001b[0m\n\u001b[1;32m   1555\u001b[0m                     outs = self.train_on_batch(x, y,\n\u001b[1;32m   1556\u001b[0m                                                \u001b[0msample_weight\u001b[0m\u001b[0;34m=\u001b[0m\u001b[0msample_weight\u001b[0m\u001b[0;34m,\u001b[0m\u001b[0;34m\u001b[0m\u001b[0m\n\u001b[0;32m-> 1557\u001b[0;31m                                                class_weight=class_weight)\n\u001b[0m\u001b[1;32m   1558\u001b[0m \u001b[0;34m\u001b[0m\u001b[0m\n\u001b[1;32m   1559\u001b[0m                     \u001b[0;32mif\u001b[0m \u001b[0;32mnot\u001b[0m \u001b[0misinstance\u001b[0m\u001b[0;34m(\u001b[0m\u001b[0mouts\u001b[0m\u001b[0;34m,\u001b[0m \u001b[0mlist\u001b[0m\u001b[0;34m)\u001b[0m\u001b[0;34m:\u001b[0m\u001b[0;34m\u001b[0m\u001b[0m\n",
      "\u001b[0;32m/home/viiv/anaconda2/lib/python2.7/site-packages/keras/engine/training.pyc\u001b[0m in \u001b[0;36mtrain_on_batch\u001b[0;34m(self, x, y, sample_weight, class_weight)\u001b[0m\n\u001b[1;32m   1318\u001b[0m             \u001b[0mins\u001b[0m \u001b[0;34m=\u001b[0m \u001b[0mx\u001b[0m \u001b[0;34m+\u001b[0m \u001b[0my\u001b[0m \u001b[0;34m+\u001b[0m \u001b[0msample_weights\u001b[0m\u001b[0;34m\u001b[0m\u001b[0m\n\u001b[1;32m   1319\u001b[0m         \u001b[0mself\u001b[0m\u001b[0;34m.\u001b[0m\u001b[0m_make_train_function\u001b[0m\u001b[0;34m(\u001b[0m\u001b[0;34m)\u001b[0m\u001b[0;34m\u001b[0m\u001b[0m\n\u001b[0;32m-> 1320\u001b[0;31m         \u001b[0moutputs\u001b[0m \u001b[0;34m=\u001b[0m \u001b[0mself\u001b[0m\u001b[0;34m.\u001b[0m\u001b[0mtrain_function\u001b[0m\u001b[0;34m(\u001b[0m\u001b[0mins\u001b[0m\u001b[0;34m)\u001b[0m\u001b[0;34m\u001b[0m\u001b[0m\n\u001b[0m\u001b[1;32m   1321\u001b[0m         \u001b[0;32mif\u001b[0m \u001b[0mlen\u001b[0m\u001b[0;34m(\u001b[0m\u001b[0moutputs\u001b[0m\u001b[0;34m)\u001b[0m \u001b[0;34m==\u001b[0m \u001b[0;36m1\u001b[0m\u001b[0;34m:\u001b[0m\u001b[0;34m\u001b[0m\u001b[0m\n\u001b[1;32m   1322\u001b[0m             \u001b[0;32mreturn\u001b[0m \u001b[0moutputs\u001b[0m\u001b[0;34m[\u001b[0m\u001b[0;36m0\u001b[0m\u001b[0;34m]\u001b[0m\u001b[0;34m\u001b[0m\u001b[0m\n",
      "\u001b[0;32m/home/viiv/anaconda2/lib/python2.7/site-packages/keras/backend/tensorflow_backend.pyc\u001b[0m in \u001b[0;36m__call__\u001b[0;34m(self, inputs)\u001b[0m\n\u001b[1;32m   1941\u001b[0m         \u001b[0msession\u001b[0m \u001b[0;34m=\u001b[0m \u001b[0mget_session\u001b[0m\u001b[0;34m(\u001b[0m\u001b[0;34m)\u001b[0m\u001b[0;34m\u001b[0m\u001b[0m\n\u001b[1;32m   1942\u001b[0m         updated = session.run(self.outputs + [self.updates_op],\n\u001b[0;32m-> 1943\u001b[0;31m                               feed_dict=feed_dict)\n\u001b[0m\u001b[1;32m   1944\u001b[0m         \u001b[0;32mreturn\u001b[0m \u001b[0mupdated\u001b[0m\u001b[0;34m[\u001b[0m\u001b[0;34m:\u001b[0m\u001b[0mlen\u001b[0m\u001b[0;34m(\u001b[0m\u001b[0mself\u001b[0m\u001b[0;34m.\u001b[0m\u001b[0moutputs\u001b[0m\u001b[0;34m)\u001b[0m\u001b[0;34m]\u001b[0m\u001b[0;34m\u001b[0m\u001b[0m\n\u001b[1;32m   1945\u001b[0m \u001b[0;34m\u001b[0m\u001b[0m\n",
      "\u001b[0;32m/home/viiv/anaconda2/lib/python2.7/site-packages/tensorflow/python/client/session.pyc\u001b[0m in \u001b[0;36mrun\u001b[0;34m(self, fetches, feed_dict, options, run_metadata)\u001b[0m\n\u001b[1;32m    715\u001b[0m     \u001b[0;32mtry\u001b[0m\u001b[0;34m:\u001b[0m\u001b[0;34m\u001b[0m\u001b[0m\n\u001b[1;32m    716\u001b[0m       result = self._run(None, fetches, feed_dict, options_ptr,\n\u001b[0;32m--> 717\u001b[0;31m                          run_metadata_ptr)\n\u001b[0m\u001b[1;32m    718\u001b[0m       \u001b[0;32mif\u001b[0m \u001b[0mrun_metadata\u001b[0m\u001b[0;34m:\u001b[0m\u001b[0;34m\u001b[0m\u001b[0m\n\u001b[1;32m    719\u001b[0m         \u001b[0mproto_data\u001b[0m \u001b[0;34m=\u001b[0m \u001b[0mtf_session\u001b[0m\u001b[0;34m.\u001b[0m\u001b[0mTF_GetBuffer\u001b[0m\u001b[0;34m(\u001b[0m\u001b[0mrun_metadata_ptr\u001b[0m\u001b[0;34m)\u001b[0m\u001b[0;34m\u001b[0m\u001b[0m\n",
      "\u001b[0;32m/home/viiv/anaconda2/lib/python2.7/site-packages/tensorflow/python/client/session.pyc\u001b[0m in \u001b[0;36m_run\u001b[0;34m(self, handle, fetches, feed_dict, options, run_metadata)\u001b[0m\n\u001b[1;32m    913\u001b[0m     \u001b[0;32mif\u001b[0m \u001b[0mfinal_fetches\u001b[0m \u001b[0;32mor\u001b[0m \u001b[0mfinal_targets\u001b[0m\u001b[0;34m:\u001b[0m\u001b[0;34m\u001b[0m\u001b[0m\n\u001b[1;32m    914\u001b[0m       results = self._do_run(handle, final_targets, final_fetches,\n\u001b[0;32m--> 915\u001b[0;31m                              feed_dict_string, options, run_metadata)\n\u001b[0m\u001b[1;32m    916\u001b[0m     \u001b[0;32melse\u001b[0m\u001b[0;34m:\u001b[0m\u001b[0;34m\u001b[0m\u001b[0m\n\u001b[1;32m    917\u001b[0m       \u001b[0mresults\u001b[0m \u001b[0;34m=\u001b[0m \u001b[0;34m[\u001b[0m\u001b[0;34m]\u001b[0m\u001b[0;34m\u001b[0m\u001b[0m\n",
      "\u001b[0;32m/home/viiv/anaconda2/lib/python2.7/site-packages/tensorflow/python/client/session.pyc\u001b[0m in \u001b[0;36m_do_run\u001b[0;34m(self, handle, target_list, fetch_list, feed_dict, options, run_metadata)\u001b[0m\n\u001b[1;32m    963\u001b[0m     \u001b[0;32mif\u001b[0m \u001b[0mhandle\u001b[0m \u001b[0;32mis\u001b[0m \u001b[0mNone\u001b[0m\u001b[0;34m:\u001b[0m\u001b[0;34m\u001b[0m\u001b[0m\n\u001b[1;32m    964\u001b[0m       return self._do_call(_run_fn, self._session, feed_dict, fetch_list,\n\u001b[0;32m--> 965\u001b[0;31m                            target_list, options, run_metadata)\n\u001b[0m\u001b[1;32m    966\u001b[0m     \u001b[0;32melse\u001b[0m\u001b[0;34m:\u001b[0m\u001b[0;34m\u001b[0m\u001b[0m\n\u001b[1;32m    967\u001b[0m       return self._do_call(_prun_fn, self._session, handle, feed_dict,\n",
      "\u001b[0;32m/home/viiv/anaconda2/lib/python2.7/site-packages/tensorflow/python/client/session.pyc\u001b[0m in \u001b[0;36m_do_call\u001b[0;34m(self, fn, *args)\u001b[0m\n\u001b[1;32m    970\u001b[0m   \u001b[0;32mdef\u001b[0m \u001b[0m_do_call\u001b[0m\u001b[0;34m(\u001b[0m\u001b[0mself\u001b[0m\u001b[0;34m,\u001b[0m \u001b[0mfn\u001b[0m\u001b[0;34m,\u001b[0m \u001b[0;34m*\u001b[0m\u001b[0margs\u001b[0m\u001b[0;34m)\u001b[0m\u001b[0;34m:\u001b[0m\u001b[0;34m\u001b[0m\u001b[0m\n\u001b[1;32m    971\u001b[0m     \u001b[0;32mtry\u001b[0m\u001b[0;34m:\u001b[0m\u001b[0;34m\u001b[0m\u001b[0m\n\u001b[0;32m--> 972\u001b[0;31m       \u001b[0;32mreturn\u001b[0m \u001b[0mfn\u001b[0m\u001b[0;34m(\u001b[0m\u001b[0;34m*\u001b[0m\u001b[0margs\u001b[0m\u001b[0;34m)\u001b[0m\u001b[0;34m\u001b[0m\u001b[0m\n\u001b[0m\u001b[1;32m    973\u001b[0m     \u001b[0;32mexcept\u001b[0m \u001b[0merrors\u001b[0m\u001b[0;34m.\u001b[0m\u001b[0mOpError\u001b[0m \u001b[0;32mas\u001b[0m \u001b[0me\u001b[0m\u001b[0;34m:\u001b[0m\u001b[0;34m\u001b[0m\u001b[0m\n\u001b[1;32m    974\u001b[0m       \u001b[0mmessage\u001b[0m \u001b[0;34m=\u001b[0m \u001b[0mcompat\u001b[0m\u001b[0;34m.\u001b[0m\u001b[0mas_text\u001b[0m\u001b[0;34m(\u001b[0m\u001b[0me\u001b[0m\u001b[0;34m.\u001b[0m\u001b[0mmessage\u001b[0m\u001b[0;34m)\u001b[0m\u001b[0;34m\u001b[0m\u001b[0m\n",
      "\u001b[0;32m/home/viiv/anaconda2/lib/python2.7/site-packages/tensorflow/python/client/session.pyc\u001b[0m in \u001b[0;36m_run_fn\u001b[0;34m(session, feed_dict, fetch_list, target_list, options, run_metadata)\u001b[0m\n\u001b[1;32m    952\u001b[0m         return tf_session.TF_Run(session, options,\n\u001b[1;32m    953\u001b[0m                                  \u001b[0mfeed_dict\u001b[0m\u001b[0;34m,\u001b[0m \u001b[0mfetch_list\u001b[0m\u001b[0;34m,\u001b[0m \u001b[0mtarget_list\u001b[0m\u001b[0;34m,\u001b[0m\u001b[0;34m\u001b[0m\u001b[0m\n\u001b[0;32m--> 954\u001b[0;31m                                  status, run_metadata)\n\u001b[0m\u001b[1;32m    955\u001b[0m \u001b[0;34m\u001b[0m\u001b[0m\n\u001b[1;32m    956\u001b[0m     \u001b[0;32mdef\u001b[0m \u001b[0m_prun_fn\u001b[0m\u001b[0;34m(\u001b[0m\u001b[0msession\u001b[0m\u001b[0;34m,\u001b[0m \u001b[0mhandle\u001b[0m\u001b[0;34m,\u001b[0m \u001b[0mfeed_dict\u001b[0m\u001b[0;34m,\u001b[0m \u001b[0mfetch_list\u001b[0m\u001b[0;34m)\u001b[0m\u001b[0;34m:\u001b[0m\u001b[0;34m\u001b[0m\u001b[0m\n",
      "\u001b[0;31mKeyboardInterrupt\u001b[0m: "
     ]
    }
   ],
   "source": [
    "history1 = model.fit_generator(trn_gen(), x_trn_len, nb_epoch=30)\n",
    "print(model.evaluate(vx, vy))\n",
    "evaluator.on_epoch_end(10)"
   ]
  },
  {
   "cell_type": "code",
   "execution_count": 50,
   "metadata": {},
   "outputs": [
    {
     "name": "stdout",
     "output_type": "stream",
     "text": [
      "10048/10050 [============================>.] - ETA: 0s1.55165211453\n",
      " acc: 68.6268656716% long: 0% short: 68.6268656716%\n"
     ]
    }
   ],
   "source": [
    "print(model.evaluate(vx, vy))\n",
    "evaluator.on_epoch_end(10)"
   ]
  },
  {
   "cell_type": "markdown",
   "metadata": {},
   "source": [
    "# 9-cnn-64-512 1-512-rnn  no-data-augamentation  dropout 0.5"
   ]
  },
  {
   "cell_type": "code",
   "execution_count": 53,
   "metadata": {},
   "outputs": [
    {
     "name": "stdout",
     "output_type": "stream",
     "text": [
      "Epoch 1/15\n",
      "9024/8992 [==============================] - 108s - loss: 83.2673   \n",
      "Epoch 2/15\n",
      "9024/8992 [==============================] - 105s - loss: 37.8248   \n",
      "Epoch 3/15\n",
      "9024/8992 [==============================] - 106s - loss: 22.3476   \n",
      "Epoch 4/15\n",
      "9024/8992 [==============================] - 105s - loss: 18.5904   \n",
      "Epoch 5/15\n",
      "9024/8992 [==============================] - 105s - loss: 16.1836   \n",
      "Epoch 6/15\n",
      "9024/8992 [==============================] - 104s - loss: 13.8324   \n",
      "Epoch 7/15\n",
      "9024/8992 [==============================] - 104s - loss: 11.4701   \n",
      "Epoch 8/15\n",
      "9024/8992 [==============================] - 86s - loss: 9.3513    \n",
      "Epoch 9/15\n",
      "9024/8992 [==============================] - 86s - loss: 7.4384    \n",
      "Epoch 10/15\n",
      "9024/8992 [==============================] - 86s - loss: 6.4672    \n",
      "Epoch 11/15\n",
      "9024/8992 [==============================] - 86s - loss: 5.1457    \n",
      "Epoch 12/15\n",
      "9024/8992 [==============================] - 86s - loss: 4.6310    \n",
      "Epoch 13/15\n",
      "9024/8992 [==============================] - 86s - loss: 3.8553    \n",
      "Epoch 14/15\n",
      "9024/8992 [==============================] - 101s - loss: 3.4920   \n",
      "Epoch 15/15\n",
      "9024/8992 [==============================] - 106s - loss: 3.3529   \n",
      "10050/10050 [==============================] - 33s    \n",
      "3.54989006379\n",
      " acc: 42.5273631841% long: 0% short: 42.5273631841%\n"
     ]
    }
   ],
   "source": [
    "model.compile(loss={'ctc': lambda y_true, y_pred: y_pred}, optimizer='rmsprop')\n",
    "history1 = model.fit_generator(trn_gen(), x_trn_len, nb_epoch=15)\n",
    "print(model.evaluate(vx, vy))\n",
    "evaluator.on_epoch_end(10)"
   ]
  },
  {
   "cell_type": "code",
   "execution_count": 66,
   "metadata": {
    "scrolled": true
   },
   "outputs": [
    {
     "data": {
      "image/png": "[encoded data removed]",
      "text/plain": [
       "<matplotlib.figure.Figure at 0x7f7a8ffe3e10>"
      ]
     },
     "metadata": {},
     "output_type": "display_data"
    }
   ],
   "source": [
    "loss = history1.history['loss']\n",
    "val_loss = history1.history['val_loss']\n",
    "\n",
    "epochs = range(len(loss))\n",
    "plt.plot(epochs, loss, 'bo')\n",
    "plt.plot(epochs, val_loss, 'b')\n",
    "\n",
    "plt.show()\n"
   ]
  },
  {
   "cell_type": "code",
   "execution_count": null,
   "metadata": {
    "collapsed": true
   },
   "outputs": [
    {
     "name": "stdout",
     "output_type": "stream",
     "text": [
      "Epoch 1/20\n",
      "215488/215552 [============================>.] - ETA: 0s - loss: 2.5804[ 0 39  5 13 13  7 12  9  2  0  0  8  7  7 14 11  2  8  6 10 11 15  1  1  2 11 14  6 11 11  1]\n",
      "[ 0 14 10 13 15  8  2  0  0 10  8 14  9 14  4 39  5 11  9  6  8  6  1  1  4  1 14  9 10 10  1]\n",
      " acc: 69.959228%\n",
      " short: 91.786268%\n",
      " l: 33.765363%\n",
      "215552/215552 [==============================] - 824s - loss: 2.5802 - val_loss: 1.9581\n",
      "Epoch 2/20\n",
      "215488/215552 [============================>.] - ETA: 0s - loss: 3.6731[ 0 19  5 13 13  7 12 15  2  0  0  8  7  7 14 11  2  8  6 10 11 15  1  1  2 11 14  6 11 11  1]\n",
      "[ 0  9 11 10 13  8  2  7 15 14  7 15  1  4  0  9 13 14 14 13  1  2 25  5 13  7 10  6 13 15  1]\n",
      "[ 0  9  7  7 12  6  6  3  0 27  5 13  7  6  6 12  2 11  6  7 14  6  1  1  4 12 10  7 13  8  1]\n",
      " acc: 71.535455%\n",
      " short: 90.802507%\n",
      " l: 39.586592%\n",
      "215552/215552 [==============================] - 825s - loss: 3.6725 - val_loss: 1.6757\n",
      "Epoch 3/20\n",
      "215488/215552 [============================>.] - ETA: 0s - loss: 2.2219 acc: 74.074230%\n",
      " short: 93.106933%\n",
      " l: 42.513966%\n",
      "215552/215552 [==============================] - 820s - loss: 2.2216 - val_loss: 1.4904\n",
      "Epoch 4/20\n",
      "215488/215552 [============================>.] - ETA: 0s - loss: 2.4418[ 0  0 35  5  9  7  7 13  6  3  8  9 15  6 15  1  1  4  7  6 12 13  6 10  1  2 12 13 15  9 15]\n",
      " acc: 73.498382%\n",
      " short: 93.140624%\n",
      " l: 40.927374%\n",
      "215552/215552 [==============================] - 822s - loss: 2.4415 - val_loss: 1.5915\n",
      "Epoch 5/20\n",
      "215488/215552 [============================>.] - ETA: 0s - loss: 1.6839[27  5  9  7 14  8 11  2  0  2  0  0  9  9 10 15 15  4 11 10  9 12  8  1  3  7 11 12 10 14  1]\n",
      "[28  5  8  9 12 15 15  4  0  4  0  0 10 15 10  8 11  4 13 10  6 15 12  1  3 15 10 14 11 14  1]\n",
      " acc: 75.545374%\n",
      " short: 93.349505%\n",
      " l: 46.022346%\n",
      "215552/215552 [==============================] - 823s - loss: 1.6837 - val_loss: 1.3611\n",
      "Epoch 6/20\n",
      "215488/215552 [============================>.] - ETA: 0s - loss: 1.7104 acc: 77.857173%\n",
      " short: 94.340004%\n",
      " l: 50.525140%\n",
      "215552/215552 [==============================] - 822s - loss: 1.7102 - val_loss: 1.1833\n",
      "Epoch 9/20\n",
      "215488/215552 [============================>.] - ETA: 0s - loss: 1.1746 acc: 79.530074%\n",
      " short: 94.737551%\n",
      " l: 54.312849%\n",
      "215552/215552 [==============================] - 822s - loss: 1.1745 - val_loss: 1.0704\n",
      "Epoch 10/20\n",
      " 19520/215552 [=>............................] - ETA: 688s - loss: 3.7150"
     ]
    },
    {
     "ename": "KeyboardInterrupt",
     "evalue": "",
     "output_type": "error",
     "traceback": [
      "\u001b[0;31m---------------------------------------------------------------------------\u001b[0m",
      "\u001b[0;31mKeyboardInterrupt\u001b[0m                         Traceback (most recent call last)",
      "\u001b[0;32m<ipython-input-51-d59d41f693c7>\u001b[0m in \u001b[0;36m<module>\u001b[0;34m()\u001b[0m\n\u001b[1;32m      1\u001b[0m \u001b[0mmodel\u001b[0m\u001b[0;34m.\u001b[0m\u001b[0moptimizer\u001b[0m\u001b[0;34m.\u001b[0m\u001b[0mlr\u001b[0m\u001b[0;34m=\u001b[0m\u001b[0;36m0.00001\u001b[0m\u001b[0;34m\u001b[0m\u001b[0m\n\u001b[1;32m      2\u001b[0m history3 = model.fit_generator(trn_gen(), x_trn_len, nb_epoch=20, callbacks=[evaluator],\n\u001b[0;32m----> 3\u001b[0;31m                     validation_data=val_data(), nb_val_samples=x_val_len)\n\u001b[0m",
      "\u001b[0;32m/home/viiv/anaconda2/lib/python2.7/site-packages/keras/engine/training.pyc\u001b[0m in \u001b[0;36mfit_generator\u001b[0;34m(self, generator, samples_per_epoch, nb_epoch, verbose, callbacks, validation_data, nb_val_samples, class_weight, max_q_size, nb_worker, pickle_safe, initial_epoch)\u001b[0m\n\u001b[1;32m   1555\u001b[0m                     outs = self.train_on_batch(x, y,\n\u001b[1;32m   1556\u001b[0m                                                \u001b[0msample_weight\u001b[0m\u001b[0;34m=\u001b[0m\u001b[0msample_weight\u001b[0m\u001b[0;34m,\u001b[0m\u001b[0;34m\u001b[0m\u001b[0m\n\u001b[0;32m-> 1557\u001b[0;31m                                                class_weight=class_weight)\n\u001b[0m\u001b[1;32m   1558\u001b[0m \u001b[0;34m\u001b[0m\u001b[0m\n\u001b[1;32m   1559\u001b[0m                     \u001b[0;32mif\u001b[0m \u001b[0;32mnot\u001b[0m \u001b[0misinstance\u001b[0m\u001b[0;34m(\u001b[0m\u001b[0mouts\u001b[0m\u001b[0;34m,\u001b[0m \u001b[0mlist\u001b[0m\u001b[0;34m)\u001b[0m\u001b[0;34m:\u001b[0m\u001b[0;34m\u001b[0m\u001b[0m\n",
      "\u001b[0;32m/home/viiv/anaconda2/lib/python2.7/site-packages/keras/engine/training.pyc\u001b[0m in \u001b[0;36mtrain_on_batch\u001b[0;34m(self, x, y, sample_weight, class_weight)\u001b[0m\n\u001b[1;32m   1318\u001b[0m             \u001b[0mins\u001b[0m \u001b[0;34m=\u001b[0m \u001b[0mx\u001b[0m \u001b[0;34m+\u001b[0m \u001b[0my\u001b[0m \u001b[0;34m+\u001b[0m \u001b[0msample_weights\u001b[0m\u001b[0;34m\u001b[0m\u001b[0m\n\u001b[1;32m   1319\u001b[0m         \u001b[0mself\u001b[0m\u001b[0;34m.\u001b[0m\u001b[0m_make_train_function\u001b[0m\u001b[0;34m(\u001b[0m\u001b[0;34m)\u001b[0m\u001b[0;34m\u001b[0m\u001b[0m\n\u001b[0;32m-> 1320\u001b[0;31m         \u001b[0moutputs\u001b[0m \u001b[0;34m=\u001b[0m \u001b[0mself\u001b[0m\u001b[0;34m.\u001b[0m\u001b[0mtrain_function\u001b[0m\u001b[0;34m(\u001b[0m\u001b[0mins\u001b[0m\u001b[0;34m)\u001b[0m\u001b[0;34m\u001b[0m\u001b[0m\n\u001b[0m\u001b[1;32m   1321\u001b[0m         \u001b[0;32mif\u001b[0m \u001b[0mlen\u001b[0m\u001b[0;34m(\u001b[0m\u001b[0moutputs\u001b[0m\u001b[0;34m)\u001b[0m \u001b[0;34m==\u001b[0m \u001b[0;36m1\u001b[0m\u001b[0;34m:\u001b[0m\u001b[0;34m\u001b[0m\u001b[0m\n\u001b[1;32m   1322\u001b[0m             \u001b[0;32mreturn\u001b[0m \u001b[0moutputs\u001b[0m\u001b[0;34m[\u001b[0m\u001b[0;36m0\u001b[0m\u001b[0;34m]\u001b[0m\u001b[0;34m\u001b[0m\u001b[0m\n",
      "\u001b[0;32m/home/viiv/anaconda2/lib/python2.7/site-packages/keras/backend/tensorflow_backend.pyc\u001b[0m in \u001b[0;36m__call__\u001b[0;34m(self, inputs)\u001b[0m\n\u001b[1;32m   1941\u001b[0m         \u001b[0msession\u001b[0m \u001b[0;34m=\u001b[0m \u001b[0mget_session\u001b[0m\u001b[0;34m(\u001b[0m\u001b[0;34m)\u001b[0m\u001b[0;34m\u001b[0m\u001b[0m\n\u001b[1;32m   1942\u001b[0m         updated = session.run(self.outputs + [self.updates_op],\n\u001b[0;32m-> 1943\u001b[0;31m                               feed_dict=feed_dict)\n\u001b[0m\u001b[1;32m   1944\u001b[0m         \u001b[0;32mreturn\u001b[0m \u001b[0mupdated\u001b[0m\u001b[0;34m[\u001b[0m\u001b[0;34m:\u001b[0m\u001b[0mlen\u001b[0m\u001b[0;34m(\u001b[0m\u001b[0mself\u001b[0m\u001b[0;34m.\u001b[0m\u001b[0moutputs\u001b[0m\u001b[0;34m)\u001b[0m\u001b[0;34m]\u001b[0m\u001b[0;34m\u001b[0m\u001b[0m\n\u001b[1;32m   1945\u001b[0m \u001b[0;34m\u001b[0m\u001b[0m\n",
      "\u001b[0;32m/home/viiv/anaconda2/lib/python2.7/site-packages/tensorflow/python/client/session.pyc\u001b[0m in \u001b[0;36mrun\u001b[0;34m(self, fetches, feed_dict, options, run_metadata)\u001b[0m\n\u001b[1;32m    715\u001b[0m     \u001b[0;32mtry\u001b[0m\u001b[0;34m:\u001b[0m\u001b[0;34m\u001b[0m\u001b[0m\n\u001b[1;32m    716\u001b[0m       result = self._run(None, fetches, feed_dict, options_ptr,\n\u001b[0;32m--> 717\u001b[0;31m                          run_metadata_ptr)\n\u001b[0m\u001b[1;32m    718\u001b[0m       \u001b[0;32mif\u001b[0m \u001b[0mrun_metadata\u001b[0m\u001b[0;34m:\u001b[0m\u001b[0;34m\u001b[0m\u001b[0m\n\u001b[1;32m    719\u001b[0m         \u001b[0mproto_data\u001b[0m \u001b[0;34m=\u001b[0m \u001b[0mtf_session\u001b[0m\u001b[0;34m.\u001b[0m\u001b[0mTF_GetBuffer\u001b[0m\u001b[0;34m(\u001b[0m\u001b[0mrun_metadata_ptr\u001b[0m\u001b[0;34m)\u001b[0m\u001b[0;34m\u001b[0m\u001b[0m\n",
      "\u001b[0;32m/home/viiv/anaconda2/lib/python2.7/site-packages/tensorflow/python/client/session.pyc\u001b[0m in \u001b[0;36m_run\u001b[0;34m(self, handle, fetches, feed_dict, options, run_metadata)\u001b[0m\n\u001b[1;32m    913\u001b[0m     \u001b[0;32mif\u001b[0m \u001b[0mfinal_fetches\u001b[0m \u001b[0;32mor\u001b[0m \u001b[0mfinal_targets\u001b[0m\u001b[0;34m:\u001b[0m\u001b[0;34m\u001b[0m\u001b[0m\n\u001b[1;32m    914\u001b[0m       results = self._do_run(handle, final_targets, final_fetches,\n\u001b[0;32m--> 915\u001b[0;31m                              feed_dict_string, options, run_metadata)\n\u001b[0m\u001b[1;32m    916\u001b[0m     \u001b[0;32melse\u001b[0m\u001b[0;34m:\u001b[0m\u001b[0;34m\u001b[0m\u001b[0m\n\u001b[1;32m    917\u001b[0m       \u001b[0mresults\u001b[0m \u001b[0;34m=\u001b[0m \u001b[0;34m[\u001b[0m\u001b[0;34m]\u001b[0m\u001b[0;34m\u001b[0m\u001b[0m\n",
      "\u001b[0;32m/home/viiv/anaconda2/lib/python2.7/site-packages/tensorflow/python/client/session.pyc\u001b[0m in \u001b[0;36m_do_run\u001b[0;34m(self, handle, target_list, fetch_list, feed_dict, options, run_metadata)\u001b[0m\n\u001b[1;32m    963\u001b[0m     \u001b[0;32mif\u001b[0m \u001b[0mhandle\u001b[0m \u001b[0;32mis\u001b[0m \u001b[0mNone\u001b[0m\u001b[0;34m:\u001b[0m\u001b[0;34m\u001b[0m\u001b[0m\n\u001b[1;32m    964\u001b[0m       return self._do_call(_run_fn, self._session, feed_dict, fetch_list,\n\u001b[0;32m--> 965\u001b[0;31m                            target_list, options, run_metadata)\n\u001b[0m\u001b[1;32m    966\u001b[0m     \u001b[0;32melse\u001b[0m\u001b[0;34m:\u001b[0m\u001b[0;34m\u001b[0m\u001b[0m\n\u001b[1;32m    967\u001b[0m       return self._do_call(_prun_fn, self._session, handle, feed_dict,\n",
      "\u001b[0;32m/home/viiv/anaconda2/lib/python2.7/site-packages/tensorflow/python/client/session.pyc\u001b[0m in \u001b[0;36m_do_call\u001b[0;34m(self, fn, *args)\u001b[0m\n\u001b[1;32m    970\u001b[0m   \u001b[0;32mdef\u001b[0m \u001b[0m_do_call\u001b[0m\u001b[0;34m(\u001b[0m\u001b[0mself\u001b[0m\u001b[0;34m,\u001b[0m \u001b[0mfn\u001b[0m\u001b[0;34m,\u001b[0m \u001b[0;34m*\u001b[0m\u001b[0margs\u001b[0m\u001b[0;34m)\u001b[0m\u001b[0;34m:\u001b[0m\u001b[0;34m\u001b[0m\u001b[0m\n\u001b[1;32m    971\u001b[0m     \u001b[0;32mtry\u001b[0m\u001b[0;34m:\u001b[0m\u001b[0;34m\u001b[0m\u001b[0m\n\u001b[0;32m--> 972\u001b[0;31m       \u001b[0;32mreturn\u001b[0m \u001b[0mfn\u001b[0m\u001b[0;34m(\u001b[0m\u001b[0;34m*\u001b[0m\u001b[0margs\u001b[0m\u001b[0;34m)\u001b[0m\u001b[0;34m\u001b[0m\u001b[0m\n\u001b[0m\u001b[1;32m    973\u001b[0m     \u001b[0;32mexcept\u001b[0m \u001b[0merrors\u001b[0m\u001b[0;34m.\u001b[0m\u001b[0mOpError\u001b[0m \u001b[0;32mas\u001b[0m \u001b[0me\u001b[0m\u001b[0;34m:\u001b[0m\u001b[0;34m\u001b[0m\u001b[0m\n\u001b[1;32m    974\u001b[0m       \u001b[0mmessage\u001b[0m \u001b[0;34m=\u001b[0m \u001b[0mcompat\u001b[0m\u001b[0;34m.\u001b[0m\u001b[0mas_text\u001b[0m\u001b[0;34m(\u001b[0m\u001b[0me\u001b[0m\u001b[0;34m.\u001b[0m\u001b[0mmessage\u001b[0m\u001b[0;34m)\u001b[0m\u001b[0;34m\u001b[0m\u001b[0m\n",
      "\u001b[0;32m/home/viiv/anaconda2/lib/python2.7/site-packages/tensorflow/python/client/session.pyc\u001b[0m in \u001b[0;36m_run_fn\u001b[0;34m(session, feed_dict, fetch_list, target_list, options, run_metadata)\u001b[0m\n\u001b[1;32m    952\u001b[0m         return tf_session.TF_Run(session, options,\n\u001b[1;32m    953\u001b[0m                                  \u001b[0mfeed_dict\u001b[0m\u001b[0;34m,\u001b[0m \u001b[0mfetch_list\u001b[0m\u001b[0;34m,\u001b[0m \u001b[0mtarget_list\u001b[0m\u001b[0;34m,\u001b[0m\u001b[0;34m\u001b[0m\u001b[0m\n\u001b[0;32m--> 954\u001b[0;31m                                  status, run_metadata)\n\u001b[0m\u001b[1;32m    955\u001b[0m \u001b[0;34m\u001b[0m\u001b[0m\n\u001b[1;32m    956\u001b[0m     \u001b[0;32mdef\u001b[0m \u001b[0m_prun_fn\u001b[0m\u001b[0;34m(\u001b[0m\u001b[0msession\u001b[0m\u001b[0;34m,\u001b[0m \u001b[0mhandle\u001b[0m\u001b[0;34m,\u001b[0m \u001b[0mfeed_dict\u001b[0m\u001b[0;34m,\u001b[0m \u001b[0mfetch_list\u001b[0m\u001b[0;34m)\u001b[0m\u001b[0;34m:\u001b[0m\u001b[0;34m\u001b[0m\u001b[0m\n",
      "\u001b[0;31mKeyboardInterrupt\u001b[0m: "
     ]
    }
   ],
   "source": [
    "model.optimizer.lr=0.00001\n",
    "history3 = model.fit_generator(trn_gen(), x_trn_len, nb_epoch=20, callbacks=[evaluator],\n",
    "                    validation_data=val_data(), nb_val_samples=x_val_len)"
   ]
  },
  {
   "cell_type": "code",
   "execution_count": 26,
   "metadata": {
    "collapsed": true
   },
   "outputs": [],
   "source": [
    "def show_result(base_model, batch_num=None):\n",
    "    [X_test, y_test, _, _], _  = val_data()\n",
    "    if batch_num is None: batch_num = len(X_test)\n",
    "    out = base_model.predict(X_test[:batch_num])\n",
    "    correct_number = 0\n",
    "    for j in range(out.shape[0]):\n",
    "        out_best = list(np.argmax(out[j, 2:], 1))\n",
    "        out_best = np.array([k for k, g in itertools.groupby(out_best)])\n",
    "        l = out_best[np.where(out_best != img_gen.zero_idx)[0]]\n",
    "        \n",
    "        print(img_gen.to_pretty_label(l))\n",
    "        plots(np.expand_dims(np.transpose(X_test[j], (1,0,2)), axis=0))\n",
    "    "
   ]
  },
  {
   "cell_type": "code",
   "execution_count": 28,
   "metadata": {
    "collapsed": true
   },
   "outputs": [],
   "source": [
    "def show_wrong_result(base_model, batch_num=None):\n",
    "    [X_test, y_test, _, label_length], _  = val_data()\n",
    "    if batch_num is None: batch_num = len(X_test)\n",
    "    pred = base_model.predict(X_test[:batch_num])\n",
    "    correct_number = 0\n",
    "    \n",
    "    shape = pred[:,2:,:].shape\n",
    "    out = K.get_value(K.ctc_decode(pred[:,2:,:], input_length=np.ones(shape[0])*shape[1])[0][0])\n",
    "    \n",
    "    for j in range(out.shape[0]):\n",
    "        l = out[j][np.where(out[j] != -1)[0]]\n",
    "        \n",
    "        if label_length[j] != len(l) or not np.array_equal(l, y_test[j][:label_length[j][0]]):\n",
    "            print(u'{}  {}'.format(img_gen.to_pretty_label(l), img_gen.to_pretty_label(y_test[j])))\n",
    "            plt.figure(figsize=(10,60), frameon=True)\n",
    "            plt.imshow(X_test[j].transpose(1,0,2).reshape(60,400,3))\n",
    "            #plots(np.expand_dims(np.transpose(X_test[j], (1,0,2)), axis=0))\n",
    "            \n",
    "    "
   ]
  },
  {
   "cell_type": "code",
   "execution_count": 70,
   "metadata": {
    "collapsed": true
   },
   "outputs": [
    {
     "name": "stdout",
     "output_type": "stream",
     "text": [
      "柳=29839\n",
      "柳=6075\n",
      "91656+(82642-(回/46950+8842))\n",
      "锁=67574\n",
      "塘*(复/85814-77494-43109)\n",
      "柳-(65454*(奔/26836-7834))\n",
      "水=22871\n",
      "锁=35473\n",
      "深=44448\n",
      "((81984+27327)-烧)*奔/43062\n"
     ]
    },
    {
     "data": {
      "image/png": "[encoded data removed]",
      "text/plain": [
       "<matplotlib.figure.Figure at 0x7f66603dcdd0>"
      ]
     },
     "metadata": {},
     "output_type": "display_data"
    },
    {
     "data": {
      "image/png": "[encoded data removed]",
      "text/plain": [
       "<matplotlib.figure.Figure at 0x7f66603dc510>"
      ]
     },
     "metadata": {},
     "output_type": "display_data"
    },
    {
     "data": {
      "image/png": "[encoded data removed]",
      "text/plain": [
       "<matplotlib.figure.Figure at 0x7f66603dc3d0>"
      ]
     },
     "metadata": {},
     "output_type": "display_data"
    },
    {
     "data": {
      "image/png": "[encoded data removed]",
      "text/plain": [
       "<matplotlib.figure.Figure at 0x7f66605d93d0>"
      ]
     },
     "metadata": {},
     "output_type": "display_data"
    },
    {
     "data": {
      "image/png": "[encoded data removed]",
      "text/plain": [
       "<matplotlib.figure.Figure at 0x7f70f5ab1150>"
      ]
     },
     "metadata": {},
     "output_type": "display_data"
    },
    {
     "data": {
      "image/png": "[encoded data removed]",
      "text/plain": [
       "<matplotlib.figure.Figure at 0x7f66845034d0>"
      ]
     },
     "metadata": {},
     "output_type": "display_data"
    },
    {
     "data": {
      "image/png": "[encoded data removed]",
      "text/plain": [
       "<matplotlib.figure.Figure at 0x7f70f7dd84d0>"
      ]
     },
     "metadata": {},
     "output_type": "display_data"
    },
    {
     "data": {
      "image/png": "[encoded data removed]",
      "text/plain": [
       "<matplotlib.figure.Figure at 0x7f668c2d4fd0>"
      ]
     },
     "metadata": {},
     "output_type": "display_data"
    },
    {
     "data": {
      "image/png": "[encoded data removed]",
      "text/plain": [
       "<matplotlib.figure.Figure at 0x7f70f5c08690>"
      ]
     },
     "metadata": {},
     "output_type": "display_data"
    },
    {
     "data": {
      "image/png": "[encoded data removed]",
      "text/plain": [
       "<matplotlib.figure.Figure at 0x7f666051b250>"
      ]
     },
     "metadata": {},
     "output_type": "display_data"
    }
   ],
   "source": [
    "show_result(base_model, 10)"
   ]
  },
  {
   "cell_type": "code",
   "execution_count": 48,
   "metadata": {},
   "outputs": [
    {
     "name": "stdout",
     "output_type": "stream",
     "text": [
      "((55122+复/52430)-17935)-23594  ((55122+复/52430)-17935)-23593\n",
      "((68927*43371)-见/79017)*391  ((68927*43371)-见/79017)*39118\n",
      "69997*(塘-(1266+复/60084))  69997*(塘-(1266+复/30084))\n",
      "75147-黄/74828-(池-76664)  75147-黄/74328-(池-76664)\n",
      "((50669+45163)+69249)*君/747713  ((50669+45163)+69249)*君/74712\n",
      "7739*((67907-天/40613)-10058)  7739*((67907-天/40513)-10058)\n",
      "((45670+96196)*河/89461)+11393  ((45670+96196)*河/89461)+11399\n"
     ]
    },
    {
     "data": {
      "image/png": "[encoded data removed]",
      "text/plain": [
       "<matplotlib.figure.Figure at 0x7ff8b45f5050>"
      ]
     },
     "metadata": {},
     "output_type": "display_data"
    },
    {
     "data": {
      "image/png": "[encoded data removed]",
      "text/plain": [
       "<matplotlib.figure.Figure at 0x7ff8847c8d90>"
      ]
     },
     "metadata": {},
     "output_type": "display_data"
    },
    {
     "data": {
      "image/png": "[encoded data removed]",
      "text/plain": [
       "<matplotlib.figure.Figure at 0x7ff8846e5b10>"
      ]
     },
     "metadata": {},
     "output_type": "display_data"
    },
    {
     "data": {
      "image/png": "[encoded data removed]",
      "text/plain": [
       "<matplotlib.figure.Figure at 0x7ff8b41464d0>"
      ]
     },
     "metadata": {},
     "output_type": "display_data"
    },
    {
     "data": {
      "image/png": "[encoded data removed]",
      "text/plain": [
       "<matplotlib.figure.Figure at 0x7ff87c197590>"
      ]
     },
     "metadata": {},
     "output_type": "display_data"
    },
    {
     "data": {
      "image/png": "[encoded data removed]",
      "text/plain": [
       "<matplotlib.figure.Figure at 0x7ff8b8508ad0>"
      ]
     },
     "metadata": {},
     "output_type": "display_data"
    },
    {
     "data": {
      "image/png": "[encoded data removed]",
      "text/plain": [
       "<matplotlib.figure.Figure at 0x7ff8b7ef5910>"
      ]
     },
     "metadata": {},
     "output_type": "display_data"
    }
   ],
   "source": [
    "show_wrong_result(base_model, 300)"
   ]
  },
  {
   "cell_type": "code",
   "execution_count": 61,
   "metadata": {
    "collapsed": true
   },
   "outputs": [],
   "source": [
    "model.save_weights('l2_first_54.wgt')"
   ]
  },
  {
   "cell_type": "code",
   "execution_count": 92,
   "metadata": {
    "collapsed": true
   },
   "outputs": [],
   "source": [
    "model.load_weights('l2_first_54.wgt')"
   ]
  },
  {
   "cell_type": "code",
   "execution_count": 95,
   "metadata": {
    "collapsed": true
   },
   "outputs": [],
   "source": [
    "model.save('l2_first_54.h5')"
   ]
  },
  {
   "cell_type": "code",
   "execution_count": 59,
   "metadata": {
    "collapsed": true
   },
   "outputs": [],
   "source": [
    "model.save_weights('xxx.wgt')"
   ]
  },
  {
   "cell_type": "code",
   "execution_count": 22,
   "metadata": {
    "collapsed": true
   },
   "outputs": [],
   "source": [
    "model.load_weights('xxx.wgt')"
   ]
  },
  {
   "cell_type": "code",
   "execution_count": null,
   "metadata": {
    "collapsed": true
   },
   "outputs": [],
   "source": [
    "model"
   ]
  }
 ],
 "metadata": {
  "kernelspec": {
   "display_name": "Python [conda root]",
   "language": "python",
   "name": "conda-root-py"
  },
  "language_info": {
   "codemirror_mode": {
    "name": "ipython",
    "version": 2
   },
   "file_extension": ".py",
   "mimetype": "text/x-python",
   "name": "python",
   "nbconvert_exporter": "python",
   "pygments_lexer": "ipython2",
   "version": "2.7.13"
  }
 },
 "nbformat": 4,
 "nbformat_minor": 2
}
