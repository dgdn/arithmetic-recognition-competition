{
 "cells": [
  {
   "cell_type": "code",
   "execution_count": 5,
   "metadata": {},
   "outputs": [
    {
     "name": "stdout",
     "output_type": "stream",
     "text": [
      "[name: \"/cpu:0\"\n",
      "device_type: \"CPU\"\n",
      "memory_limit: 268435456\n",
      "bus_adjacency: BUS_ANY\n",
      "incarnation: 17707024940352591689\n",
      ", name: \"/gpu:0\"\n",
      "device_type: \"GPU\"\n",
      "memory_limit: 347275264\n",
      "incarnation: 13621273238960714995\n",
      "physical_device_desc: \"device: 0, name: GeForce GTX 1080 Ti, pci bus id: 0000:01:00.0\"\n",
      "]\n"
     ]
    }
   ],
   "source": [
    "import os\n",
    "os.environ[\"CUDA_DEVICE_ORDER\"]=\"PCI_BUS_ID\"   # see issue #152\n",
    "os.environ[\"CUDA_VISIBLE_DEVICES\"]=\"0\"\n",
    "from tensorflow.python.client import device_lib\n",
    "print(device_lib.list_local_devices())"
   ]
  },
  {
   "cell_type": "code",
   "execution_count": 6,
   "metadata": {},
   "outputs": [],
   "source": [
    "%matplotlib inline\n",
    "from __future__ import print_function, division\n",
    "path = \"data/baidu/\"\n",
    "#path = \"data/state/sample/\"\n",
    "import utils; reload(utils)\n",
    "from utils import *\n",
    "from IPython.display import FileLink\n",
    "import cv2\n",
    "config = tf.ConfigProto()\n",
    "config.gpu_options.allow_growth=True\n",
    "sess = tf.Session(config=config)\n",
    "K.set_session(sess)"
   ]
  },
  {
   "cell_type": "code",
   "execution_count": 7,
   "metadata": {
    "collapsed": true
   },
   "outputs": [],
   "source": [
    "train_path = 'data/baidu/image_contest_level_2_processed/'\n",
    "label_exp_count = load_array('data/baidu/label_exp_num.data')"
   ]
  },
  {
   "cell_type": "code",
   "execution_count": 8,
   "metadata": {
    "collapsed": true
   },
   "outputs": [],
   "source": [
    "label_exp_files = []\n",
    "for i, cnt in enumerate(label_exp_count):\n",
    "    for c in range(cnt):\n",
    "        label_exp_files.append('{}-{}-{}.png'.format(i, cnt-c, cnt))"
   ]
  },
  {
   "cell_type": "code",
   "execution_count": 9,
   "metadata": {
    "collapsed": true
   },
   "outputs": [],
   "source": [
    "label_path = 'data/baidu/level2_labels.txt'\n",
    "raw_label_list = []\n",
    "with open(label_path) as f:\n",
    "    raw_label_list = f.readlines()\n",
    "raw_label_list = [x.strip() for x in raw_label_list]\n",
    "label_exp_num_length= []\n",
    "exp_labels = []\n",
    "exp_lens =[]\n",
    "for line in raw_label_list:\n",
    "    parts = line.split(' ')\n",
    "    exprs = parts[0]\n",
    "    result = parts[1]\n",
    "    label_exp_num_length.append(len(exprs.split(';')))\n",
    "    for exp in exprs.split(';'):\n",
    "        exp_labels.append(exp.decode('utf8'))\n",
    "        exp_lens.append(len(exp.decode('utf8')))"
   ]
  },
  {
   "cell_type": "code",
   "execution_count": 10,
   "metadata": {
    "collapsed": true
   },
   "outputs": [],
   "source": [
    "short_idxs = []\n",
    "long_idxs = []\n",
    "cursor = 0\n",
    "for cnt in label_exp_count:\n",
    "    for i in range(cnt):\n",
    "        if i==cnt-1:\n",
    "            long_idxs.append(cursor+i)\n",
    "        else: \n",
    "            short_idxs.append(cursor+i)\n",
    "    cursor = cursor + cnt\n",
    "short_idxs = np.asarray(short_idxs)\n",
    "long_idxs = np.asarray(long_idxs)"
   ]
  },
  {
   "cell_type": "code",
   "execution_count": null,
   "metadata": {
    "collapsed": true
   },
   "outputs": [],
   "source": []
  },
  {
   "cell_type": "code",
   "execution_count": 36,
   "metadata": {
    "collapsed": true
   },
   "outputs": [],
   "source": [
    "class DataGenator(keras.callbacks.Callback):\n",
    "    \n",
    "    def __init__(self, idxs, width, height):\n",
    "        self.width = width\n",
    "        self.height = height\n",
    "        self.idxs = idxs\n",
    "        self.label_length = max(np.asarray(exp_lens)[self.idxs])\n",
    "\n",
    "        mask = np.random.rand(len(self.idxs)) < 0.9\n",
    "        self.trn_idxs = self.idxs[mask]\n",
    "        self.val_idxs = self.idxs[~mask]\n",
    "        \n",
    "        self.token_counts = {}\n",
    "        for exp in np.asarray(exp_labels)[self.idxs]:\n",
    "            for c in exp:\n",
    "                if c in self.token_counts:\n",
    "                    self.token_counts[c] += 1\n",
    "                else:\n",
    "                    self.token_counts[c] = 1\n",
    "        self.tokens = sorted(self.token_counts.keys()) + ['N']\n",
    "        self.zero_idx = len(self.tokens)-1\n",
    "        \n",
    "        \n",
    "        self.token_idxs = dict()\n",
    "        for i,token in enumerate(self.tokens):\n",
    "            self.token_idxs[token] = i\n",
    "            \n",
    "        #所有的label都转化  但不会全部用上  用不上的为空\n",
    "        self.actual_labels = np.full((len(exp_labels), self.label_length), self.zero_idx)\n",
    "        for idx in idxs:\n",
    "            for i, token in enumerate(exp_labels[idx]):\n",
    "                self.actual_labels[idx][i] = self.token_idxs[token]\n",
    "            \n",
    "    def get_batch(self, batch_size, idxs, shuffle=True):\n",
    "        if shuffle:  \n",
    "            idxs = np.random.permutation(idxs)\n",
    "        cur = 0\n",
    "        idxs_len = len(idxs)\n",
    "        while True:\n",
    "            out = []\n",
    "            next_cur = cur + batch_size\n",
    "            if next_cur < idxs_len:\n",
    "                out = idxs[cur: next_cur]\n",
    "                cur = next_cur\n",
    "            else:\n",
    "                exceed = next_cur - idxs_len\n",
    "                out = idxs[cur: idxs_len]\n",
    "                if shuffle:  idxs = np.random.permutation(idxs)\n",
    "                out = np.concatenate([out, idxs[0: exceed]]) \n",
    "                cur = exceed\n",
    "            yield self.fetch_img_by_idxs(out), np.asarray(self.actual_labels)[out]\n",
    "        \n",
    "    def fetch_img_by_idxs(self, idxs):\n",
    "        imgs = []\n",
    "        for f in np.array(label_exp_files)[idxs]:\n",
    "            img = cv2.imread(train_path+f)\n",
    "            img = cv2.resize(img, (self.width, self.height), interpolation = cv2.INTER_LINEAR)\n",
    "            #img = cv2.cvtColor(img, cv2.COLOR_BGR2GRAY)\n",
    "            #img= np.expand_dims(img, axis=-1)\n",
    "            img = np.transpose(np.asarray(img), (1, 0, 2))\n",
    "            imgs.append(img)\n",
    "        return np.array(imgs)\n",
    "    \n",
    "    \n",
    "    def to_pretty_label(self, label):\n",
    "        l = label.flatten().astype('int')\n",
    "        s =''\n",
    "        for token in l:\n",
    "            if token != self.zero_idx:\n",
    "                 s = s+self.tokens[token]\n",
    "        return s    "
   ]
  },
  {
   "cell_type": "code",
   "execution_count": 26,
   "metadata": {},
   "outputs": [
    {
     "data": {
      "text/plain": [
       "<matplotlib.image.AxesImage at 0x7fdc683e2c10>"
      ]
     },
     "execution_count": 26,
     "metadata": {},
     "output_type": "execute_result"
    },
    {
     "data": {
      "image/png": "[encoded data removed]",
      "text/plain": [
       "<matplotlib.figure.Figure at 0x7fdd1ea76c10>"
      ]
     },
     "metadata": {},
     "output_type": "display_data"
    }
   ],
   "source": [
    "img_gen = DataGenator(idxs=using_idxs, width=img_w, height=img_h)\n",
    "test_imgs = np.transpose(img_gen.fetch_img_by_idxs([1,2,4,5]), (0, 2, 1, 3)).reshape(-1, 60, 400)\n",
    "\n",
    "f = plt.figure(figsize=(10,10), frameon=True)\n",
    "plt.imshow(test_imgs[3])"
   ]
  },
  {
   "cell_type": "code",
   "execution_count": 37,
   "metadata": {
    "collapsed": true
   },
   "outputs": [],
   "source": [
    "### 决定使用什么类型的数据\n",
    "using_idxs = long_idxs\n",
    "img_label_data_prefix = 'all_long_2_3'\n",
    "data_path = 'data/baidu/all-long-400-60/'\n",
    "\n",
    "img_w = 400\n",
    "img_h = 60\n",
    "\n",
    "img_gen = DataGenator(idxs=using_idxs, width=img_w, height=img_h)"
   ]
  },
  {
   "cell_type": "code",
   "execution_count": 8,
   "metadata": {
    "collapsed": true
   },
   "outputs": [],
   "source": [
    "def save_raw_data():\n",
    "    da = img_gen.get_batch(len(using_idxs), using_idxs, shuffle=False)\n",
    "    imgs, labels = next(da)\n",
    "    save_array('data/baidu/{}_imgs.dat'.format(img_label_data_prefix),  imgs)\n",
    "    save_array('data/baidu/{}_labels.dat'.format(img_label_data_prefix), labels)\n",
    "\n",
    "def load_raw_data():\n",
    "    imgs = load_array('data/baidu/{}_imgs.dat'.format(img_label_data_prefix))\n",
    "    labels = load_array('data/baidu/{}_labels.dat'.format(img_label_data_prefix))\n",
    "    return (imgs, labels)\n",
    "    \n",
    "def save_split_data(x_trn, y_trn, x_val, y_val):\n",
    "\n",
    "    save_array(data_path+\"x_trn\", x_trn)\n",
    "    save_array(data_path+\"y_trn\", y_trn)\n",
    "\n",
    "\n",
    "    save_array(data_path+\"x_val\", x_val)\n",
    "    save_array(data_path+\"y_val\", y_val)\n",
    "\n",
    "def load_split_data():\n",
    "\n",
    "    x_trn = load_array(data_path+\"x_trn\")\n",
    "    y_trn = load_array(data_path+\"y_trn\")\n",
    "\n",
    "    x_val = load_array(data_path+\"x_val\")\n",
    "    y_val = load_array(data_path+\"y_val\")\n",
    "    \n",
    "    return (x_trn, y_trn, x_val, y_val)"
   ]
  },
  {
   "cell_type": "code",
   "execution_count": 11,
   "metadata": {
    "collapsed": true
   },
   "outputs": [],
   "source": [
    "#save_raw_data()\n",
    "imgs, labels = load_raw_data()"
   ]
  },
  {
   "cell_type": "code",
   "execution_count": 12,
   "metadata": {
    "collapsed": true
   },
   "outputs": [],
   "source": [
    "mask = np.random.rand(len(using_idxs)) < 0.9\n",
    "idxs = np.random.permutation(len(using_idxs))\n",
    "trn_idxs = idxs[mask]\n",
    "val_idxs = idxs[~mask]\n",
    "\n",
    "\n",
    "#da = img_gen.get_batch(len(using_idxs), using_idxs, shuffle=False)\n",
    "#imgs, labels = next(da)\n",
    "\n",
    "x_trn = imgs[trn_idxs]\n",
    "y_trn = labels[trn_idxs]\n",
    "\n",
    "x_val = imgs[val_idxs]\n",
    "y_val = labels[val_idxs]"
   ]
  },
  {
   "cell_type": "code",
   "execution_count": 9,
   "metadata": {
    "collapsed": true
   },
   "outputs": [],
   "source": [
    "#save_split_data(x_trn, y_trn, x_val, y_val)\n",
    "x_trn, y_trn, x_val, y_val = load_split_data()"
   ]
  },
  {
   "cell_type": "code",
   "execution_count": 10,
   "metadata": {},
   "outputs": [
    {
     "data": {
      "text/plain": [
       "((90059, 600, 90, 3), (90059, 30), (9941, 600, 90, 3), (9941, 30))"
      ]
     },
     "execution_count": 10,
     "metadata": {},
     "output_type": "execute_result"
    }
   ],
   "source": [
    "x_trn.shape, y_trn.shape, x_val.shape, y_val.shape"
   ]
  },
  {
   "cell_type": "code",
   "execution_count": 13,
   "metadata": {
    "collapsed": true
   },
   "outputs": [],
   "source": [
    "def show_data(x, y):  \n",
    "    for i in range(len(x)):\n",
    "        print(img_gen.to_pretty_label(y[i]))\n",
    "        plots(np.expand_dims(x[i], axis=0))"
   ]
  },
  {
   "cell_type": "code",
   "execution_count": 14,
   "metadata": {
    "collapsed": true
   },
   "outputs": [],
   "source": [
    "def gen_label_length(labels):\n",
    "    label_lengths = np.zeros((len(labels), 1))\n",
    "    for i in range(len(labels)):\n",
    "        label_lengths[i] = len(np.where(np.array(labels[i]) != img_gen.zero_idx)[0])\n",
    "    return label_lengths.astype('uint8')"
   ]
  },
  {
   "cell_type": "code",
   "execution_count": 15,
   "metadata": {
    "collapsed": true
   },
   "outputs": [],
   "source": [
    "def map2seq(x):\n",
    "    return K.reshape(K.permute_dimensions(x, (0, 3, 2, 1)), (x.shape[0], x.shape[-1], -1))"
   ]
  },
  {
   "cell_type": "code",
   "execution_count": 16,
   "metadata": {
    "collapsed": true
   },
   "outputs": [],
   "source": [
    "def map2seq_output_shape(input_shape):\n",
    "    shape = list(input_shape)\n",
    "    assert len(shape) == 4  # only valid for 4D tensors\n",
    "    return (shape[0], shape[-1], shape[1]*shape[2])"
   ]
  },
  {
   "cell_type": "code",
   "execution_count": 17,
   "metadata": {
    "collapsed": true
   },
   "outputs": [],
   "source": [
    "def ctc_lambda_func(args):\n",
    "    y_pred, labels, input_length, label_length = args\n",
    "    # the 2 is critical here since the first couple outputs of the RNN\n",
    "    # tend to be garbage:\n",
    "    y_pred = y_pred[:, 2:, :]\n",
    "    return K.ctc_batch_cost(labels, y_pred, input_length, label_length)"
   ]
  },
  {
   "cell_type": "markdown",
   "metadata": {
    "collapsed": true
   },
   "source": [
    " zoom_range=0.05, shear_range=0.05, channel_shift_range=20,\n",
    "                             rotation_range=5, height_shift_range=0.03, width_shift_range=0.03"
   ]
  },
  {
   "cell_type": "code",
   "execution_count": 18,
   "metadata": {
    "collapsed": true
   },
   "outputs": [],
   "source": [
    "batch_size = 64\n",
    "da = image.ImageDataGenerator(zoom_range=0.05, shear_range=0.05,\n",
    "                              channel_shift_range=20, rotation_range=5, \n",
    "                              height_shift_range=0.03, width_shift_range=0.03)\n",
    "#x_trn_len = len(x_trn)//batch_size*batch_size\n",
    "#trn_batches = da.flow(x_trn[:x_trn_len], y_trn[:x_trn_len], batch_size=batch_size, shuffle=True)"
   ]
  },
  {
   "cell_type": "code",
   "execution_count": 19,
   "metadata": {
    "collapsed": true
   },
   "outputs": [],
   "source": [
    "def trn_gen():\n",
    "    trn_batches = img_gen.get_batch(batch_size, img_gen.trn_idxs, shuffle=False)\n",
    "    #减2是因为进入ctc时  已经丢弃了2帧\n",
    "    input_length = np.zeros([batch_size, 1]) + 91\n",
    "    while True:\n",
    "        x, y = next(trn_batches)\n",
    "        x_tranformed = np.zeros(x.shape)\n",
    "        for i, img in enumerate(x):            \n",
    "            x_tranformed[i] = da.random_transform(img)\n",
    "        label_length = gen_label_length(y)\n",
    "        y[np.where(y==img_gen.zero_idx)] = 0\n",
    "        yield [x_tranformed, y, input_length, label_length], np.zeros([batch_size])"
   ]
  },
  {
   "cell_type": "code",
   "execution_count": 38,
   "metadata": {
    "collapsed": true
   },
   "outputs": [],
   "source": [
    "val_data_batches = img_gen.get_batch(len(img_gen.val_idxs), img_gen.val_idxs, shuffle=False)\n",
    "x_val, y_val = next(val_data_batches)\n",
    "size = len(x_val)\n",
    "#减2是因为进入ctc时  已经丢弃了2帧\n",
    "x_val_input_length = np.zeros([size, 1]) + 91\n",
    "y_val_label_length = gen_label_length(y_val)\n",
    "def val_data():\n",
    "    return [x_val, y_val, x_val_input_length, y_val_label_length], np.zeros([size])"
   ]
  },
  {
   "cell_type": "code",
   "execution_count": 61,
   "metadata": {
    "collapsed": true
   },
   "outputs": [],
   "source": [
    "batches = trn_gen()\n",
    "def inspect_trn_data():\n",
    "    batch = next(batches)[0]\n",
    "    img = batch[0][0]\n",
    "    label = batch[1][0]\n",
    "    il =batch[2][0]\n",
    "    ll  =batch[3][0]\n",
    "    print(img.shape)\n",
    "    plots(np.expand_dims(np.transpose(img, (1,0,2)), axis=0))\n",
    "    print(label)\n",
    "    print(img_gen.to_pretty_label(label))\n",
    "    print(il)\n",
    "    print(ll)\n",
    "def inspect_val_data():\n",
    "    batch = val_data()[0]\n",
    "    img = batch[0][0]\n",
    "    label = batch[1][0]\n",
    "    il =batch[2][0]\n",
    "    ll  =batch[3][0]\n",
    "    print(img.shape)\n",
    "    plots(np.expand_dims(np.transpose(img, (1,0,2)), axis=0))\n",
    "    print(label)\n",
    "    print(img_gen.to_pretty_label(label))\n",
    "    print(il)\n",
    "    print(ll)"
   ]
  },
  {
   "cell_type": "code",
   "execution_count": 18,
   "metadata": {
    "collapsed": true
   },
   "outputs": [
    {
     "name": "stdout",
     "output_type": "stream",
     "text": [
      "(400, 60, 1)\n"
     ]
    },
    {
     "ename": "TypeError",
     "evalue": "Invalid dimensions for image data",
     "output_type": "error",
     "traceback": [
      "\u001b[0;31m---------------------------------------------------------------------------\u001b[0m",
      "\u001b[0;31mTypeError\u001b[0m                                 Traceback (most recent call last)",
      "\u001b[0;32m<ipython-input-18-61f3bf131308>\u001b[0m in \u001b[0;36m<module>\u001b[0;34m()\u001b[0m\n\u001b[0;32m----> 1\u001b[0;31m \u001b[0minspect_trn_data\u001b[0m\u001b[0;34m(\u001b[0m\u001b[0;34m)\u001b[0m\u001b[0;34m\u001b[0m\u001b[0m\n\u001b[0m\u001b[1;32m      2\u001b[0m \u001b[0minspect_val_data\u001b[0m\u001b[0;34m(\u001b[0m\u001b[0;34m)\u001b[0m\u001b[0;34m\u001b[0m\u001b[0m\n",
      "\u001b[0;32m<ipython-input-17-b6c9a7c5fde2>\u001b[0m in \u001b[0;36minspect_trn_data\u001b[0;34m()\u001b[0m\n\u001b[1;32m      7\u001b[0m     \u001b[0mll\u001b[0m  \u001b[0;34m=\u001b[0m\u001b[0mbatch\u001b[0m\u001b[0;34m[\u001b[0m\u001b[0;36m3\u001b[0m\u001b[0;34m]\u001b[0m\u001b[0;34m[\u001b[0m\u001b[0;36m0\u001b[0m\u001b[0;34m]\u001b[0m\u001b[0;34m\u001b[0m\u001b[0m\n\u001b[1;32m      8\u001b[0m     \u001b[0;32mprint\u001b[0m\u001b[0;34m(\u001b[0m\u001b[0mimg\u001b[0m\u001b[0;34m.\u001b[0m\u001b[0mshape\u001b[0m\u001b[0;34m)\u001b[0m\u001b[0;34m\u001b[0m\u001b[0m\n\u001b[0;32m----> 9\u001b[0;31m     \u001b[0mplots\u001b[0m\u001b[0;34m(\u001b[0m\u001b[0mnp\u001b[0m\u001b[0;34m.\u001b[0m\u001b[0mexpand_dims\u001b[0m\u001b[0;34m(\u001b[0m\u001b[0mnp\u001b[0m\u001b[0;34m.\u001b[0m\u001b[0mtranspose\u001b[0m\u001b[0;34m(\u001b[0m\u001b[0mimg\u001b[0m\u001b[0;34m,\u001b[0m \u001b[0;34m(\u001b[0m\u001b[0;36m1\u001b[0m\u001b[0;34m,\u001b[0m\u001b[0;36m0\u001b[0m\u001b[0;34m,\u001b[0m\u001b[0;36m2\u001b[0m\u001b[0;34m)\u001b[0m\u001b[0;34m)\u001b[0m\u001b[0;34m,\u001b[0m \u001b[0maxis\u001b[0m\u001b[0;34m=\u001b[0m\u001b[0;36m0\u001b[0m\u001b[0;34m)\u001b[0m\u001b[0;34m)\u001b[0m\u001b[0;34m\u001b[0m\u001b[0m\n\u001b[0m\u001b[1;32m     10\u001b[0m     \u001b[0;32mprint\u001b[0m\u001b[0;34m(\u001b[0m\u001b[0mlabel\u001b[0m\u001b[0;34m)\u001b[0m\u001b[0;34m\u001b[0m\u001b[0m\n\u001b[1;32m     11\u001b[0m     \u001b[0;32mprint\u001b[0m\u001b[0;34m(\u001b[0m\u001b[0mimg_gen\u001b[0m\u001b[0;34m.\u001b[0m\u001b[0mto_pretty_label\u001b[0m\u001b[0;34m(\u001b[0m\u001b[0mlabel\u001b[0m\u001b[0;34m)\u001b[0m\u001b[0;34m)\u001b[0m\u001b[0;34m\u001b[0m\u001b[0m\n",
      "\u001b[0;32m<ipython-input-2-def34cadf765>\u001b[0m in \u001b[0;36mplots\u001b[0;34m(ims, interp, titles)\u001b[0m\n\u001b[1;32m      6\u001b[0m         \u001b[0msp\u001b[0m\u001b[0;34m=\u001b[0m\u001b[0mf\u001b[0m\u001b[0;34m.\u001b[0m\u001b[0madd_subplot\u001b[0m\u001b[0;34m(\u001b[0m\u001b[0;36m1\u001b[0m\u001b[0;34m,\u001b[0m \u001b[0mlen\u001b[0m\u001b[0;34m(\u001b[0m\u001b[0mims\u001b[0m\u001b[0;34m)\u001b[0m\u001b[0;34m,\u001b[0m \u001b[0mi\u001b[0m\u001b[0;34m+\u001b[0m\u001b[0;36m1\u001b[0m\u001b[0;34m)\u001b[0m\u001b[0;34m\u001b[0m\u001b[0m\n\u001b[1;32m      7\u001b[0m         \u001b[0;32mif\u001b[0m \u001b[0;32mnot\u001b[0m \u001b[0mtitles\u001b[0m \u001b[0;32mis\u001b[0m \u001b[0mNone\u001b[0m\u001b[0;34m:\u001b[0m \u001b[0msp\u001b[0m\u001b[0;34m.\u001b[0m\u001b[0mset_title\u001b[0m\u001b[0;34m(\u001b[0m\u001b[0mtitles\u001b[0m\u001b[0;34m[\u001b[0m\u001b[0mi\u001b[0m\u001b[0;34m]\u001b[0m\u001b[0;34m,\u001b[0m \u001b[0mfontsize\u001b[0m\u001b[0;34m=\u001b[0m\u001b[0;36m18\u001b[0m\u001b[0;34m)\u001b[0m\u001b[0;34m\u001b[0m\u001b[0m\n\u001b[0;32m----> 8\u001b[0;31m         \u001b[0mplt\u001b[0m\u001b[0;34m.\u001b[0m\u001b[0mimshow\u001b[0m\u001b[0;34m(\u001b[0m\u001b[0mims\u001b[0m\u001b[0;34m[\u001b[0m\u001b[0mi\u001b[0m\u001b[0;34m]\u001b[0m\u001b[0;34m,\u001b[0m \u001b[0minterpolation\u001b[0m\u001b[0;34m=\u001b[0m\u001b[0mNone\u001b[0m \u001b[0;32mif\u001b[0m \u001b[0minterp\u001b[0m \u001b[0;32melse\u001b[0m \u001b[0;34m'none'\u001b[0m\u001b[0;34m,\u001b[0m \u001b[0mvmin\u001b[0m\u001b[0;34m=\u001b[0m\u001b[0mmn\u001b[0m\u001b[0;34m,\u001b[0m\u001b[0mvmax\u001b[0m\u001b[0;34m=\u001b[0m\u001b[0mmx\u001b[0m\u001b[0;34m)\u001b[0m\u001b[0;34m\u001b[0m\u001b[0m\n\u001b[0m\u001b[1;32m      9\u001b[0m \u001b[0;34m\u001b[0m\u001b[0m\n\u001b[1;32m     10\u001b[0m \u001b[0;32mdef\u001b[0m \u001b[0mplot\u001b[0m\u001b[0;34m(\u001b[0m\u001b[0mim\u001b[0m\u001b[0;34m,\u001b[0m \u001b[0minterp\u001b[0m\u001b[0;34m=\u001b[0m\u001b[0mFalse\u001b[0m\u001b[0;34m)\u001b[0m\u001b[0;34m:\u001b[0m\u001b[0;34m\u001b[0m\u001b[0m\n",
      "\u001b[0;32m/home/viiv/anaconda2/lib/python2.7/site-packages/matplotlib/pyplot.pyc\u001b[0m in \u001b[0;36mimshow\u001b[0;34m(X, cmap, norm, aspect, interpolation, alpha, vmin, vmax, origin, extent, shape, filternorm, filterrad, imlim, resample, url, hold, data, **kwargs)\u001b[0m\n\u001b[1;32m   3155\u001b[0m                         \u001b[0mfilternorm\u001b[0m\u001b[0;34m=\u001b[0m\u001b[0mfilternorm\u001b[0m\u001b[0;34m,\u001b[0m \u001b[0mfilterrad\u001b[0m\u001b[0;34m=\u001b[0m\u001b[0mfilterrad\u001b[0m\u001b[0;34m,\u001b[0m\u001b[0;34m\u001b[0m\u001b[0m\n\u001b[1;32m   3156\u001b[0m                         \u001b[0mimlim\u001b[0m\u001b[0;34m=\u001b[0m\u001b[0mimlim\u001b[0m\u001b[0;34m,\u001b[0m \u001b[0mresample\u001b[0m\u001b[0;34m=\u001b[0m\u001b[0mresample\u001b[0m\u001b[0;34m,\u001b[0m \u001b[0murl\u001b[0m\u001b[0;34m=\u001b[0m\u001b[0murl\u001b[0m\u001b[0;34m,\u001b[0m \u001b[0mdata\u001b[0m\u001b[0;34m=\u001b[0m\u001b[0mdata\u001b[0m\u001b[0;34m,\u001b[0m\u001b[0;34m\u001b[0m\u001b[0m\n\u001b[0;32m-> 3157\u001b[0;31m                         **kwargs)\n\u001b[0m\u001b[1;32m   3158\u001b[0m     \u001b[0;32mfinally\u001b[0m\u001b[0;34m:\u001b[0m\u001b[0;34m\u001b[0m\u001b[0m\n\u001b[1;32m   3159\u001b[0m         \u001b[0max\u001b[0m\u001b[0;34m.\u001b[0m\u001b[0m_hold\u001b[0m \u001b[0;34m=\u001b[0m \u001b[0mwashold\u001b[0m\u001b[0;34m\u001b[0m\u001b[0m\n",
      "\u001b[0;32m/home/viiv/anaconda2/lib/python2.7/site-packages/matplotlib/__init__.pyc\u001b[0m in \u001b[0;36minner\u001b[0;34m(ax, *args, **kwargs)\u001b[0m\n\u001b[1;32m   1896\u001b[0m                     warnings.warn(msg % (label_namer, func.__name__),\n\u001b[1;32m   1897\u001b[0m                                   RuntimeWarning, stacklevel=2)\n\u001b[0;32m-> 1898\u001b[0;31m             \u001b[0;32mreturn\u001b[0m \u001b[0mfunc\u001b[0m\u001b[0;34m(\u001b[0m\u001b[0max\u001b[0m\u001b[0;34m,\u001b[0m \u001b[0;34m*\u001b[0m\u001b[0margs\u001b[0m\u001b[0;34m,\u001b[0m \u001b[0;34m**\u001b[0m\u001b[0mkwargs\u001b[0m\u001b[0;34m)\u001b[0m\u001b[0;34m\u001b[0m\u001b[0m\n\u001b[0m\u001b[1;32m   1899\u001b[0m         \u001b[0mpre_doc\u001b[0m \u001b[0;34m=\u001b[0m \u001b[0minner\u001b[0m\u001b[0;34m.\u001b[0m\u001b[0m__doc__\u001b[0m\u001b[0;34m\u001b[0m\u001b[0m\n\u001b[1;32m   1900\u001b[0m         \u001b[0;32mif\u001b[0m \u001b[0mpre_doc\u001b[0m \u001b[0;32mis\u001b[0m \u001b[0mNone\u001b[0m\u001b[0;34m:\u001b[0m\u001b[0;34m\u001b[0m\u001b[0m\n",
      "\u001b[0;32m/home/viiv/anaconda2/lib/python2.7/site-packages/matplotlib/axes/_axes.pyc\u001b[0m in \u001b[0;36mimshow\u001b[0;34m(self, X, cmap, norm, aspect, interpolation, alpha, vmin, vmax, origin, extent, shape, filternorm, filterrad, imlim, resample, url, **kwargs)\u001b[0m\n\u001b[1;32m   5122\u001b[0m                               resample=resample, **kwargs)\n\u001b[1;32m   5123\u001b[0m \u001b[0;34m\u001b[0m\u001b[0m\n\u001b[0;32m-> 5124\u001b[0;31m         \u001b[0mim\u001b[0m\u001b[0;34m.\u001b[0m\u001b[0mset_data\u001b[0m\u001b[0;34m(\u001b[0m\u001b[0mX\u001b[0m\u001b[0;34m)\u001b[0m\u001b[0;34m\u001b[0m\u001b[0m\n\u001b[0m\u001b[1;32m   5125\u001b[0m         \u001b[0mim\u001b[0m\u001b[0;34m.\u001b[0m\u001b[0mset_alpha\u001b[0m\u001b[0;34m(\u001b[0m\u001b[0malpha\u001b[0m\u001b[0;34m)\u001b[0m\u001b[0;34m\u001b[0m\u001b[0m\n\u001b[1;32m   5126\u001b[0m         \u001b[0;32mif\u001b[0m \u001b[0mim\u001b[0m\u001b[0;34m.\u001b[0m\u001b[0mget_clip_path\u001b[0m\u001b[0;34m(\u001b[0m\u001b[0;34m)\u001b[0m \u001b[0;32mis\u001b[0m \u001b[0mNone\u001b[0m\u001b[0;34m:\u001b[0m\u001b[0;34m\u001b[0m\u001b[0m\n",
      "\u001b[0;32m/home/viiv/anaconda2/lib/python2.7/site-packages/matplotlib/image.pyc\u001b[0m in \u001b[0;36mset_data\u001b[0;34m(self, A)\u001b[0m\n\u001b[1;32m    598\u001b[0m         if (self._A.ndim not in (2, 3) or\n\u001b[1;32m    599\u001b[0m                 (self._A.ndim == 3 and self._A.shape[-1] not in (3, 4))):\n\u001b[0;32m--> 600\u001b[0;31m             \u001b[0;32mraise\u001b[0m \u001b[0mTypeError\u001b[0m\u001b[0;34m(\u001b[0m\u001b[0;34m\"Invalid dimensions for image data\"\u001b[0m\u001b[0;34m)\u001b[0m\u001b[0;34m\u001b[0m\u001b[0m\n\u001b[0m\u001b[1;32m    601\u001b[0m \u001b[0;34m\u001b[0m\u001b[0m\n\u001b[1;32m    602\u001b[0m         \u001b[0mself\u001b[0m\u001b[0;34m.\u001b[0m\u001b[0m_imcache\u001b[0m \u001b[0;34m=\u001b[0m \u001b[0mNone\u001b[0m\u001b[0;34m\u001b[0m\u001b[0m\n",
      "\u001b[0;31mTypeError\u001b[0m: Invalid dimensions for image data"
     ]
    },
    {
     "data": {
      "image/png": "[encoded data removed]",
      "text/plain": [
       "<matplotlib.figure.Figure at 0x7fddaec26850>"
      ]
     },
     "metadata": {},
     "output_type": "display_data"
    }
   ],
   "source": [
    "inspect_trn_data()\n",
    "inspect_val_data()"
   ]
  },
  {
   "cell_type": "code",
   "execution_count": 21,
   "metadata": {
    "collapsed": true
   },
   "outputs": [],
   "source": [
    "def is_long_label(label):\n",
    "    return not(len(np.where(label > 0)[0]) < 10)"
   ]
  },
  {
   "cell_type": "code",
   "execution_count": 22,
   "metadata": {
    "collapsed": true
   },
   "outputs": [],
   "source": [
    "def evaluate(base_model, batch_num=None):\n",
    "    [X_test, y_test, _, label_length], _  = val_data()\n",
    "    if batch_num is None: batch_num = len(X_test)\n",
    "    pred = base_model.predict(X_test[:batch_num])\n",
    "    correct_number = 0\n",
    "    correct_long_n = 0\n",
    "    total_long_n = 0\n",
    "    correct_short_n = 0\n",
    "    total_short_n = 0\n",
    "    \n",
    "    shape = pred[:,2:,:].shape\n",
    "    out = K.get_value(K.ctc_decode(pred[:,2:,:], input_length=np.ones(shape[0])*shape[1])[0][0])\n",
    "    \n",
    "    for j in range(out.shape[0]):\n",
    "        \n",
    "        #-1 是ctc返回的  代表empty\n",
    "        l = out[j][np.where(out[j] != -1)[0]]\n",
    "        equal =  label_length[j] == len(l) and np.array_equal(l, y_test[j][:label_length[j][0]])\n",
    "        \n",
    "        is_long = is_long_label(y_test[j])\n",
    "        if is_long:\n",
    "            total_long_n=total_long_n+1\n",
    "        else:\n",
    "            total_short_n=total_short_n+1\n",
    "        if equal:\n",
    "            correct_number = correct_number+1\n",
    "            if is_long:\n",
    "                correct_long_n=correct_long_n+1\n",
    "            else:\n",
    "                correct_short_n=correct_short_n+1\n",
    "    l = 0\n",
    "    s = 0\n",
    "    if total_long_n>0: l=correct_long_n/total_long_n\n",
    "    if total_short_n>0: s=correct_short_n/total_short_n\n",
    "    \n",
    "    return correct_number/batch_num, s, l"
   ]
  },
  {
   "cell_type": "code",
   "execution_count": 23,
   "metadata": {
    "collapsed": true
   },
   "outputs": [],
   "source": [
    "from keras.callbacks import *\n",
    "\n",
    "class Evaluate(Callback):\n",
    "    def __init__(self):\n",
    "        self.accs = []\n",
    "    \n",
    "    def on_epoch_end(self, epoch, logs=None):\n",
    "        acc, s, l = evaluate(base_model)\n",
    "        self.accs.append(acc)\n",
    "        acc = acc *100\n",
    "        s = s * 100\n",
    "        l = l * 100\n",
    "        print(' acc: {}% long: {}% short: {}%'.format(acc, s, l))\n",
    "        \n",
    "        if acc > 95:\n",
    "            model.save_weights('v{}.wgt'.format(epoch))\n",
    "\n",
    "evaluator = Evaluate()"
   ]
  },
  {
   "cell_type": "code",
   "execution_count": 28,
   "metadata": {
    "collapsed": true
   },
   "outputs": [
    {
     "name": "stdout",
     "output_type": "stream",
     "text": [
      "____________________________________________________________________________________________________\n",
      "Layer (type)                     Output Shape          Param #     Connected to                     \n",
      "====================================================================================================\n",
      "the_input (InputLayer)           (None, 300, 45, 3)    0                                            \n",
      "____________________________________________________________________________________________________\n",
      "batchnormalization_12 (BatchNorm (None, 300, 45, 3)    12          the_input[0][0]                  \n",
      "____________________________________________________________________________________________________\n",
      "convolution2d_11 (Convolution2D) (None, 300, 45, 64)   1792        batchnormalization_12[0][0]      \n",
      "____________________________________________________________________________________________________\n",
      "batchnormalization_13 (BatchNorm (None, 300, 45, 64)   256         convolution2d_11[0][0]           \n",
      "____________________________________________________________________________________________________\n",
      "convolution2d_12 (Convolution2D) (None, 300, 45, 64)   36928       batchnormalization_13[0][0]      \n",
      "____________________________________________________________________________________________________\n",
      "batchnormalization_14 (BatchNorm (None, 300, 45, 64)   256         convolution2d_12[0][0]           \n",
      "____________________________________________________________________________________________________\n",
      "maxpooling2d_5 (MaxPooling2D)    (None, 150, 22, 64)   0           batchnormalization_14[0][0]      \n",
      "____________________________________________________________________________________________________\n",
      "convolution2d_13 (Convolution2D) (None, 150, 22, 128)  73856       maxpooling2d_5[0][0]             \n",
      "____________________________________________________________________________________________________\n",
      "batchnormalization_15 (BatchNorm (None, 150, 22, 128)  512         convolution2d_13[0][0]           \n",
      "____________________________________________________________________________________________________\n",
      "convolution2d_14 (Convolution2D) (None, 150, 22, 128)  147584      batchnormalization_15[0][0]      \n",
      "____________________________________________________________________________________________________\n",
      "batchnormalization_16 (BatchNorm (None, 150, 22, 128)  512         convolution2d_14[0][0]           \n",
      "____________________________________________________________________________________________________\n",
      "convolution2d_15 (Convolution2D) (None, 75, 11, 128)   8320        maxpooling2d_5[0][0]             \n",
      "____________________________________________________________________________________________________\n",
      "maxpooling2d_6 (MaxPooling2D)    (None, 75, 11, 128)   0           batchnormalization_16[0][0]      \n",
      "____________________________________________________________________________________________________\n",
      "batchnormalization_17 (BatchNorm (None, 75, 11, 128)   512         convolution2d_15[0][0]           \n",
      "____________________________________________________________________________________________________\n",
      "merge_3 (Merge)                  (None, 75, 11, 128)   0           maxpooling2d_6[0][0]             \n",
      "                                                                   batchnormalization_17[0][0]      \n",
      "____________________________________________________________________________________________________\n",
      "convolution2d_16 (Convolution2D) (None, 75, 11, 256)   295168      merge_3[0][0]                    \n",
      "____________________________________________________________________________________________________\n",
      "batchnormalization_18 (BatchNorm (None, 75, 11, 256)   1024        convolution2d_16[0][0]           \n",
      "____________________________________________________________________________________________________\n",
      "convolution2d_17 (Convolution2D) (None, 75, 11, 256)   590080      batchnormalization_18[0][0]      \n",
      "____________________________________________________________________________________________________\n",
      "batchnormalization_19 (BatchNorm (None, 75, 11, 256)   1024        convolution2d_17[0][0]           \n",
      "____________________________________________________________________________________________________\n",
      "maxpooling2d_7 (MaxPooling2D)    (None, 75, 5, 256)    0           batchnormalization_19[0][0]      \n",
      "____________________________________________________________________________________________________\n",
      "convolution2d_18 (Convolution2D) (None, 75, 6, 256)    33024       merge_3[0][0]                    \n",
      "____________________________________________________________________________________________________\n",
      "zeropadding2d_2 (ZeroPadding2D)  (None, 75, 6, 256)    0           maxpooling2d_7[0][0]             \n",
      "____________________________________________________________________________________________________\n",
      "batchnormalization_20 (BatchNorm (None, 75, 6, 256)    1024        convolution2d_18[0][0]           \n",
      "____________________________________________________________________________________________________\n",
      "merge_4 (Merge)                  (None, 75, 6, 256)    0           zeropadding2d_2[0][0]            \n",
      "                                                                   batchnormalization_20[0][0]      \n",
      "____________________________________________________________________________________________________\n",
      "convolution2d_19 (Convolution2D) (None, 75, 6, 512)    1180160     merge_4[0][0]                    \n",
      "____________________________________________________________________________________________________\n",
      "batchnormalization_21 (BatchNorm (None, 75, 6, 512)    2048        convolution2d_19[0][0]           \n",
      "____________________________________________________________________________________________________\n",
      "convolution2d_20 (Convolution2D) (None, 75, 6, 512)    2359808     batchnormalization_21[0][0]      \n",
      "____________________________________________________________________________________________________\n",
      "batchnormalization_22 (BatchNorm (None, 75, 6, 512)    2048        convolution2d_20[0][0]           \n",
      "____________________________________________________________________________________________________\n",
      "maxpooling2d_8 (MaxPooling2D)    (None, 75, 3, 512)    0           batchnormalization_22[0][0]      \n",
      "____________________________________________________________________________________________________\n",
      "reshape_2 (Reshape)              (None, 75, 1536)      0           maxpooling2d_8[0][0]             \n",
      "____________________________________________________________________________________________________\n",
      "bidirectional_3 (Bidirectional)  (None, 75, 256)       3672064     reshape_2[0][0]                  \n",
      "____________________________________________________________________________________________________\n",
      "batchnormalization_23 (BatchNorm (None, 75, 256)       1024        bidirectional_3[0][0]            \n",
      "____________________________________________________________________________________________________\n",
      "bidirectional_4 (Bidirectional)  (None, 75, 512)       1050624     batchnormalization_23[0][0]      \n",
      "____________________________________________________________________________________________________\n",
      "batchnormalization_24 (BatchNorm (None, 75, 512)       2048        bidirectional_4[0][0]            \n",
      "____________________________________________________________________________________________________\n",
      "dense_2 (Dense)                  (None, 75, 44)        22572       batchnormalization_24[0][0]      \n",
      "____________________________________________________________________________________________________\n",
      "the_labels (InputLayer)          (None, 30)            0                                            \n",
      "____________________________________________________________________________________________________\n",
      "input_length (InputLayer)        (None, 1)             0                                            \n",
      "____________________________________________________________________________________________________\n",
      "label_length (InputLayer)        (None, 1)             0                                            \n",
      "____________________________________________________________________________________________________\n",
      "ctc (Lambda)                     (None, 1)             0           dense_2[0][0]                    \n",
      "                                                                   the_labels[0][0]                 \n",
      "                                                                   input_length[0][0]               \n",
      "                                                                   label_length[0][0]               \n",
      "====================================================================================================\n",
      "Total params: 9,484,280\n",
      "Trainable params: 9,478,130\n",
      "Non-trainable params: 6,150\n",
      "____________________________________________________________________________________________________\n"
     ]
    }
   ],
   "source": [
    "ctc_time_lenght = 75\n",
    "input_shape=(img_gen.width, img_gen.height, 3)\n",
    "input_data = Input(name='the_input', shape=input_shape, dtype='float32')\n",
    "inner = BatchNormalization()(input_data)\n",
    "\n",
    "inner = Convolution2D(64, 3, 3,  activation='relu', border_mode='same')(inner)\n",
    "inner = BatchNormalization()(inner)\n",
    "inner = Convolution2D(64, 3, 3,  activation='relu', border_mode='same')(inner)\n",
    "inner = BatchNormalization()(inner)\n",
    "x = MaxPooling2D()(inner)\n",
    "\n",
    "\n",
    "inner = Convolution2D(128, 3, 3,  activation='relu', border_mode='same')(x)\n",
    "inner = BatchNormalization()(inner)\n",
    "inner = Convolution2D(128, 3, 3,  activation='relu', border_mode='same')(inner)\n",
    "inner = BatchNormalization()(inner)\n",
    "inner = MaxPooling2D()(inner)\n",
    "\n",
    "residual = Convolution2D(128, 1,1, subsample=(2,2))(x)\n",
    "residual = BatchNormalization()(residual)\n",
    "\n",
    "x = merge([inner, residual], mode='sum')\n",
    "\n",
    "inner = Convolution2D(256, 3, 3,  activation='relu', border_mode='same')(x)\n",
    "inner = BatchNormalization()(inner)\n",
    "inner = Convolution2D(256, 3, 3,  activation='relu', border_mode='same')(inner)\n",
    "inner = BatchNormalization()(inner)\n",
    "inner = MaxPooling2D((1,2))(inner)\n",
    "inner = ZeroPadding2D(padding={'left_pad':1})(inner)\n",
    "\n",
    "residual = Convolution2D(256, 1,1, subsample=(1,2))(x)\n",
    "residual = BatchNormalization()(residual)\n",
    "\n",
    "x = merge([inner, residual], mode='sum')\n",
    "\n",
    "inner = Convolution2D(512, 3, 3,  activation='relu', border_mode='same')(x)\n",
    "inner = BatchNormalization()(inner)\n",
    "inner = Convolution2D(512, 3, 3,  activation='relu', border_mode='same')(inner)\n",
    "inner = BatchNormalization()(inner)\n",
    "inner = MaxPooling2D((1,2))(inner)\n",
    "\n",
    "#inner = Lambda(map2seq, output_shape=map2seq_output_shape)(inner)\n",
    "inner = Reshape((ctc_time_lenght, -1))(inner)\n",
    "\n",
    "inner = Bidirectional(LSTM(256, return_sequences=True, inner_init='identity'), merge_mode='sum')(inner)\n",
    "inner = BatchNormalization()(inner)\n",
    "\n",
    "inner = Bidirectional(LSTM(256, return_sequences=True, inner_init='identity'), merge_mode='concat')(inner)\n",
    "inner = BatchNormalization()(inner)\n",
    "\n",
    "y_pred = Dense(len(img_gen.tokens), activation='softmax')(inner)\n",
    "\n",
    "base_model = Model(input=input_data, output=y_pred)\n",
    "\n",
    "labels = Input(name='the_labels', shape=(img_gen.label_length,), dtype='float32')\n",
    "input_length = Input(name='input_length', shape=(1,), dtype='int64')\n",
    "label_length = Input(name='label_length', shape=(1,), dtype='int64') \n",
    "\n",
    "loss_out = Lambda(ctc_lambda_func, output_shape=(1,), name='ctc')([y_pred, labels, input_length, label_length])\n",
    "\n",
    "model = Model([input_data, labels, input_length, label_length], loss_out)\n",
    "\n",
    "model.summary()"
   ]
  },
  {
   "cell_type": "code",
   "execution_count": 60,
   "metadata": {},
   "outputs": [
    {
     "name": "stdout",
     "output_type": "stream",
     "text": [
      "____________________________________________________________________________________________________\n",
      "Layer (type)                     Output Shape          Param #     Connected to                     \n",
      "====================================================================================================\n",
      "the_input (InputLayer)           (None, 400, 60, 3)    0                                            \n",
      "____________________________________________________________________________________________________\n",
      "batchnormalization_31 (BatchNorm (None, 400, 60, 3)    12          the_input[0][0]                  \n",
      "____________________________________________________________________________________________________\n",
      "convolution2d_25 (Convolution2D) (None, 398, 58, 32)   896         batchnormalization_31[0][0]      \n",
      "____________________________________________________________________________________________________\n",
      "batchnormalization_32 (BatchNorm (None, 398, 58, 32)   128         convolution2d_25[0][0]           \n",
      "____________________________________________________________________________________________________\n",
      "convolution2d_26 (Convolution2D) (None, 396, 56, 32)   9248        batchnormalization_32[0][0]      \n",
      "____________________________________________________________________________________________________\n",
      "batchnormalization_33 (BatchNorm (None, 396, 56, 32)   128         convolution2d_26[0][0]           \n",
      "____________________________________________________________________________________________________\n",
      "maxpooling2d_13 (MaxPooling2D)   (None, 198, 28, 32)   0           batchnormalization_33[0][0]      \n",
      "____________________________________________________________________________________________________\n",
      "convolution2d_27 (Convolution2D) (None, 196, 26, 64)   18496       maxpooling2d_13[0][0]            \n",
      "____________________________________________________________________________________________________\n",
      "batchnormalization_34 (BatchNorm (None, 196, 26, 64)   256         convolution2d_27[0][0]           \n",
      "____________________________________________________________________________________________________\n",
      "convolution2d_28 (Convolution2D) (None, 194, 24, 64)   36928       batchnormalization_34[0][0]      \n",
      "____________________________________________________________________________________________________\n",
      "batchnormalization_35 (BatchNorm (None, 194, 24, 64)   256         convolution2d_28[0][0]           \n",
      "____________________________________________________________________________________________________\n",
      "maxpooling2d_14 (MaxPooling2D)   (None, 97, 12, 64)    0           batchnormalization_35[0][0]      \n",
      "____________________________________________________________________________________________________\n",
      "convolution2d_29 (Convolution2D) (None, 95, 10, 128)   73856       maxpooling2d_14[0][0]            \n",
      "____________________________________________________________________________________________________\n",
      "batchnormalization_36 (BatchNorm (None, 95, 10, 128)   512         convolution2d_29[0][0]           \n",
      "____________________________________________________________________________________________________\n",
      "convolution2d_30 (Convolution2D) (None, 93, 8, 128)    147584      batchnormalization_36[0][0]      \n",
      "____________________________________________________________________________________________________\n",
      "batchnormalization_37 (BatchNorm (None, 93, 8, 128)    512         convolution2d_30[0][0]           \n",
      "____________________________________________________________________________________________________\n",
      "maxpooling2d_15 (MaxPooling2D)   (None, 93, 4, 128)    0           batchnormalization_37[0][0]      \n",
      "____________________________________________________________________________________________________\n",
      "convolution2d_31 (Convolution2D) (None, 93, 4, 256)    295168      maxpooling2d_15[0][0]            \n",
      "____________________________________________________________________________________________________\n",
      "batchnormalization_38 (BatchNorm (None, 93, 4, 256)    1024        convolution2d_31[0][0]           \n",
      "____________________________________________________________________________________________________\n",
      "convolution2d_32 (Convolution2D) (None, 93, 4, 256)    590080      batchnormalization_38[0][0]      \n",
      "____________________________________________________________________________________________________\n",
      "batchnormalization_39 (BatchNorm (None, 93, 4, 256)    1024        convolution2d_32[0][0]           \n",
      "____________________________________________________________________________________________________\n",
      "maxpooling2d_16 (MaxPooling2D)   (None, 93, 2, 256)    0           batchnormalization_39[0][0]      \n",
      "____________________________________________________________________________________________________\n",
      "reshape_4 (Reshape)              (None, 93, 512)       0           maxpooling2d_16[0][0]            \n",
      "____________________________________________________________________________________________________\n",
      "bidirectional_4 (Bidirectional)  (None, 93, 512)       4198400     reshape_4[0][0]                  \n",
      "____________________________________________________________________________________________________\n",
      "batchnormalization_40 (BatchNorm (None, 93, 512)       2048        bidirectional_4[0][0]            \n",
      "____________________________________________________________________________________________________\n",
      "dense_4 (Dense)                  (None, 93, 43)        22059       batchnormalization_40[0][0]      \n",
      "____________________________________________________________________________________________________\n",
      "the_labels (InputLayer)          (None, 30)            0                                            \n",
      "____________________________________________________________________________________________________\n",
      "input_length (InputLayer)        (None, 1)             0                                            \n",
      "____________________________________________________________________________________________________\n",
      "label_length (InputLayer)        (None, 1)             0                                            \n",
      "____________________________________________________________________________________________________\n",
      "ctc (Lambda)                     (None, 1)             0           dense_4[0][0]                    \n",
      "                                                                   the_labels[0][0]                 \n",
      "                                                                   input_length[0][0]               \n",
      "                                                                   label_length[0][0]               \n",
      "====================================================================================================\n",
      "Total params: 5,398,615\n",
      "Trainable params: 5,395,665\n",
      "Non-trainable params: 2,950\n",
      "____________________________________________________________________________________________________\n"
     ]
    }
   ],
   "source": [
    "\n",
    "input_shape=(img_gen.width, img_gen.height, 3)\n",
    "input_data = Input(name='the_input', shape=input_shape, dtype='float32')\n",
    "inner = BatchNormalization()(input_data)\n",
    "\n",
    "inner = Convolution2D(32, 3, 3)(inner)\n",
    "inner = BatchNormalization()(inner)\n",
    "inner = Convolution2D(32, 3, 3)(inner)\n",
    "inner = BatchNormalization()(inner)\n",
    "inner = MaxPooling2D()(inner)\n",
    "\n",
    "inner = Convolution2D(64, 3, 3)(inner)\n",
    "inner = BatchNormalization()(inner)\n",
    "inner = Convolution2D(64, 3, 3)(inner)\n",
    "inner = BatchNormalization()(inner)\n",
    "inner = MaxPooling2D()(inner)\n",
    "\n",
    "inner = Convolution2D(128, 3, 3)(inner)\n",
    "inner = BatchNormalization()(inner)\n",
    "inner = Convolution2D(128, 3, 3)(inner)\n",
    "inner = BatchNormalization()(inner)\n",
    "inner = MaxPooling2D((1,2))(inner)\n",
    "\n",
    "inner = Convolution2D(256, 3, 3, border_mode='same')(inner)\n",
    "inner = BatchNormalization()(inner)\n",
    "inner = Convolution2D(256, 3, 3, border_mode='same')(inner)\n",
    "inner = BatchNormalization()(inner)\n",
    "inner = MaxPooling2D((1,2))(inner)\n",
    "\n",
    "\n",
    "ctc_time_lenght = 93\n",
    "inner = Reshape((ctc_time_lenght, -1))(inner)\n",
    "\n",
    "inner = Bidirectional(LSTM(512, return_sequences=True, inner_init='identity'), merge_mode='sum')(inner)\n",
    "inner = BatchNormalization()(inner)\n",
    "\n",
    "\n",
    "y_pred = Dense(len(img_gen.tokens), activation='softmax')(inner)\n",
    "\n",
    "base_model = Model(input=input_data, output=y_pred)\n",
    "\n",
    "labels = Input(name='the_labels', shape=(img_gen.label_length,), dtype='float32')\n",
    "input_length = Input(name='input_length', shape=(1,), dtype='int64')\n",
    "label_length = Input(name='label_length', shape=(1,), dtype='int64') \n",
    "\n",
    "loss_out = Lambda(ctc_lambda_func, output_shape=(1,), name='ctc')([y_pred, labels, input_length, label_length])\n",
    "\n",
    "model = Model([input_data, labels, input_length, label_length], loss_out)\n",
    "    \n",
    "\n",
    "\n",
    "model.summary()"
   ]
  },
  {
   "cell_type": "code",
   "execution_count": 54,
   "metadata": {
    "collapsed": true
   },
   "outputs": [],
   "source": [
    "#x_trn_len = ((len(img_gen.trn_idxs)//batch_size)/10) * batch_size\n",
    "#x_val_len = ((len(img_gen.val_idxs)//batch_size)/10) * batch_size * 2\n",
    "x_trn_len = len(img_gen.trn_idxs)//batch_size * batch_size\n",
    "x_val_len = len(img_gen.val_idxs)//batch_size* batch_size"
   ]
  },
  {
   "cell_type": "code",
   "execution_count": null,
   "metadata": {},
   "outputs": [
    {
     "name": "stdout",
     "output_type": "stream",
     "text": [
      "Epoch 1/30\n",
      "89920/89920 [==============================] - 759s - loss: 20.7802 - val_loss: 2.7994\n",
      "Epoch 2/30\n",
      "89920/89920 [==============================] - 753s - loss: 3.8765 - val_loss: 1.6845\n",
      "Epoch 3/30\n",
      "89920/89920 [==============================] - 749s - loss: 2.9563 - val_loss: 1.2771\n",
      "Epoch 4/30\n",
      "89920/89920 [==============================] - 749s - loss: 2.5330 - val_loss: 1.0986\n",
      "Epoch 5/30\n",
      "89920/89920 [==============================] - 749s - loss: 2.2695 - val_loss: 1.0329\n",
      "Epoch 6/30\n",
      "89920/89920 [==============================] - 749s - loss: 2.0782 - val_loss: 0.9040\n",
      "Epoch 7/30\n",
      "89920/89920 [==============================] - 750s - loss: 1.9071 - val_loss: 0.8084\n",
      "Epoch 8/30\n",
      "89920/89920 [==============================] - 750s - loss: 1.8150 - val_loss: 0.7202\n",
      "Epoch 9/30\n",
      "89920/89920 [==============================] - 750s - loss: 1.7255 - val_loss: 0.7056\n",
      "Epoch 10/30\n",
      "89920/89920 [==============================] - 749s - loss: 1.6340 - val_loss: 0.6677\n",
      "Epoch 11/30\n",
      "89920/89920 [==============================] - 749s - loss: 1.5757 - val_loss: 0.6370\n",
      "Epoch 12/30\n",
      "89920/89920 [==============================] - 751s - loss: 1.5294 - val_loss: 0.5981\n",
      "Epoch 13/30\n",
      "89920/89920 [==============================] - 751s - loss: 1.4707 - val_loss: 0.5728\n",
      "Epoch 14/30\n",
      "89920/89920 [==============================] - 750s - loss: 1.4258 - val_loss: 0.5847\n",
      "Epoch 15/30\n",
      "89920/89920 [==============================] - 750s - loss: 1.3856 - val_loss: 0.5172\n",
      "Epoch 16/30\n",
      "89920/89920 [==============================] - 749s - loss: 1.3558 - val_loss: 0.5176\n",
      "Epoch 17/30\n",
      "89920/89920 [==============================] - 750s - loss: 1.3174 - val_loss: 0.5033\n",
      "Epoch 18/30\n",
      "89920/89920 [==============================] - 750s - loss: 1.2873 - val_loss: 0.4726\n",
      "Epoch 19/30\n",
      "89920/89920 [==============================] - 748s - loss: 1.2516 - val_loss: 0.4792\n",
      "Epoch 20/30\n",
      "89920/89920 [==============================] - 750s - loss: 1.2629 - val_loss: 0.4415\n",
      "Epoch 21/30\n",
      "89920/89920 [==============================] - 750s - loss: 1.2180 - val_loss: 0.4307\n",
      "Epoch 22/30\n",
      "89920/89920 [==============================] - 749s - loss: 1.1868 - val_loss: 0.4673\n",
      "Epoch 23/30\n",
      "89920/89920 [==============================] - 750s - loss: 1.1843 - val_loss: 0.4280\n",
      "Epoch 24/30\n",
      "89920/89920 [==============================] - 749s - loss: 1.1551 - val_loss: 0.4013\n",
      "Epoch 25/30\n",
      "89920/89920 [==============================] - 750s - loss: 1.1420 - val_loss: 0.4145\n",
      "Epoch 26/30\n",
      "89920/89920 [==============================] - 749s - loss: 1.1335 - val_loss: 0.4244\n",
      "Epoch 27/30\n",
      "89920/89920 [==============================] - 748s - loss: 1.1312 - val_loss: 0.4046\n",
      "Epoch 28/30\n",
      "89920/89920 [==============================] - 750s - loss: 1.1043 - val_loss: 0.3840\n",
      "Epoch 29/30\n",
      "89920/89920 [==============================] - 749s - loss: 1.0811 - val_loss: 0.3922\n",
      "Epoch 30/30\n",
      "89920/89920 [==============================] - 752s - loss: 1.0666 - val_loss: 0.3809\n"
     ]
    }
   ],
   "source": [
    "model.compile(loss={'ctc': lambda y_true, y_pred: y_pred}, optimizer='rmsprop')\n",
    "history2 = model.fit_generator(trn_gen(), x_trn_len, nb_epoch=30,\n",
    "                    validation_data=val_data(), nb_val_samples=x_val_len)"
   ]
  },
  {
   "cell_type": "code",
   "execution_count": null,
   "metadata": {},
   "outputs": [
    {
     "name": "stdout",
     "output_type": "stream",
     "text": [
      " acc: 90.9181636727% long: 0% short: 90.9181636727%\n",
      "Epoch 1/30\n",
      "89920/89920 [==============================] - 782s - loss: 1.0665 - val_loss: 0.3679\n",
      "Epoch 2/30\n",
      "89920/89920 [==============================] - 782s - loss: 1.0346 - val_loss: 0.3809\n",
      "Epoch 3/30\n",
      "89920/89920 [==============================] - 780s - loss: 1.0360 - val_loss: 0.3622\n",
      "Epoch 4/30\n",
      "89920/89920 [==============================] - 780s - loss: 1.0398 - val_loss: 0.3621\n",
      "Epoch 5/30\n",
      "89920/89920 [==============================] - 781s - loss: 1.0138 - val_loss: 0.3172\n",
      "Epoch 6/30\n",
      "89920/89920 [==============================] - 780s - loss: 1.0229 - val_loss: 0.3720\n",
      "Epoch 7/30\n",
      "89920/89920 [==============================] - 779s - loss: 0.9971 - val_loss: 0.3320\n",
      "Epoch 8/30\n",
      "89920/89920 [==============================] - 781s - loss: 1.0020 - val_loss: 0.3469\n",
      "Epoch 9/30\n",
      "89920/89920 [==============================] - 781s - loss: 0.9533 - val_loss: 0.3341\n",
      "Epoch 13/30\n",
      "89920/89920 [==============================] - 780s - loss: 0.9500 - val_loss: 0.3393\n",
      "Epoch 14/30\n",
      "89920/89920 [==============================] - 779s - loss: 0.9478 - val_loss: 0.3427\n",
      "Epoch 15/30\n",
      "89920/89920 [==============================] - 780s - loss: 0.9558 - val_loss: 0.3278\n",
      "Epoch 16/30\n",
      "89920/89920 [==============================] - 779s - loss: 0.9481 - val_loss: 0.2975\n",
      "Epoch 17/30\n",
      "89920/89920 [==============================] - 782s - loss: 0.9435 - val_loss: 0.3476\n",
      "Epoch 18/30\n",
      "89920/89920 [==============================] - 780s - loss: 0.9263 - val_loss: 0.3209\n",
      "Epoch 19/30\n",
      "89920/89920 [==============================] - 780s - loss: 0.9163 - val_loss: 0.2905\n",
      "Epoch 20/30\n",
      "89920/89920 [==============================] - 783s - loss: 0.9272 - val_loss: 0.3218\n",
      "Epoch 21/30\n",
      "89920/89920 [==============================] - 781s - loss: 0.9195 - val_loss: 0.2960\n",
      "Epoch 22/30\n",
      "89920/89920 [==============================] - 781s - loss: 0.9250 - val_loss: 0.2903\n",
      "Epoch 23/30\n",
      "89920/89920 [==============================] - 780s - loss: 0.9170 - val_loss: 0.3405\n",
      "Epoch 24/30\n",
      "89920/89920 [==============================] - 780s - loss: 0.8970 - val_loss: 0.3119\n",
      "Epoch 25/30\n",
      "89920/89920 [==============================] - 781s - loss: 0.9258 - val_loss: 0.3269\n",
      "Epoch 26/30\n",
      "89920/89920 [==============================] - 779s - loss: 0.9166 - val_loss: 0.3240\n",
      "Epoch 27/30\n",
      "89920/89920 [==============================] - 782s - loss: 0.8905 - val_loss: 0.3058\n",
      "Epoch 28/30\n",
      "89920/89920 [==============================] - 779s - loss: 0.8895 - val_loss: 0.3175\n",
      "Epoch 29/30\n",
      "89920/89920 [==============================] - 780s - loss: 0.8869 - val_loss: 0.2803\n",
      "Epoch 30/30\n",
      "89920/89920 [==============================] - 782s - loss: 0.9026 - val_loss: 0.2761\n"
     ]
    }
   ],
   "source": [
    "evaluator.on_epoch_end(10)\n",
    "history2 = model.fit_generator(trn_gen(), x_trn_len, nb_epoch=30,\n",
    "                    validation_data=val_data(), nb_val_samples=x_val_len)"
   ]
  },
  {
   "cell_type": "code",
   "execution_count": 94,
   "metadata": {},
   "outputs": [
    {
     "name": "stdout",
     "output_type": "stream",
     "text": [
      " acc: 92.8842315369% long: 0% short: 92.8842315369%\n"
     ]
    }
   ],
   "source": [
    "evaluator.on_epoch_end(30)"
   ]
  },
  {
   "cell_type": "markdown",
   "metadata": {},
   "source": [
    "### 8-cnn-32-256 + 1-512-rnn"
   ]
  },
  {
   "cell_type": "code",
   "execution_count": 27,
   "metadata": {
    "collapsed": true
   },
   "outputs": [
    {
     "name": "stdout",
     "output_type": "stream",
     "text": [
      "Epoch 1/15\n",
      "9024/8985 [==============================] - 71s - loss: 90.1488    "
     ]
    },
    {
     "name": "stderr",
     "output_type": "stream",
     "text": [
      "/home/viiv/anaconda2/lib/python2.7/site-packages/keras/engine/training.py:1573: UserWarning: Epoch comprised more than `samples_per_epoch` samples, which might affect learning results. Set `samples_per_epoch` correctly to avoid this warning.\n",
      "  warnings.warn('Epoch comprised more than '\n"
     ]
    },
    {
     "name": "stdout",
     "output_type": "stream",
     "text": [
      "\n",
      "Epoch 2/15\n",
      "9024/8985 [==============================] - 68s - loss: 46.0083    \n",
      "Epoch 3/15\n",
      "9024/8985 [==============================] - 67s - loss: 27.2347    \n",
      "Epoch 4/15\n",
      "9024/8985 [==============================] - 68s - loss: 21.1215    \n",
      "Epoch 5/15\n",
      "9024/8985 [==============================] - 72s - loss: 18.2949    \n",
      "Epoch 6/15\n",
      "9024/8985 [==============================] - 67s - loss: 14.8492    \n",
      "Epoch 7/15\n",
      "9024/8985 [==============================] - 68s - loss: 10.0249    \n",
      "Epoch 8/15\n",
      "9024/8985 [==============================] - 67s - loss: 7.9436    \n",
      "Epoch 9/15\n",
      "9024/8985 [==============================] - 68s - loss: 6.5874    \n",
      "Epoch 10/15\n",
      "9024/8985 [==============================] - 68s - loss: 5.8841    \n",
      "Epoch 11/15\n",
      "9024/8985 [==============================] - 79s - loss: 5.2141    \n",
      "Epoch 12/15\n",
      "9024/8985 [==============================] - 86s - loss: 4.9485    \n",
      "Epoch 13/15\n",
      "9024/8985 [==============================] - 83s - loss: 4.8576    \n",
      "Epoch 14/15\n",
      "9024/8985 [==============================] - 86s - loss: 4.2737    \n",
      "Epoch 15/15\n",
      "9024/8985 [==============================] - 85s - loss: 4.2388    \n"
     ]
    }
   ],
   "source": [
    "model.compile(loss={'ctc': lambda y_true, y_pred: y_pred}, optimizer='rmsprop')\n",
    "history1 = model.fit_generator(trn_gen(), x_trn_len, nb_epoch=15)"
   ]
  },
  {
   "cell_type": "code",
   "execution_count": 28,
   "metadata": {
    "collapsed": true
   },
   "outputs": [
    {
     "name": "stdout",
     "output_type": "stream",
     "text": [
      "Epoch 1/15\n",
      "9024/8985 [==============================] - 87s - loss: 3.9267    \n",
      "Epoch 2/15\n",
      "9024/8985 [==============================] - 87s - loss: 3.8514    \n",
      "Epoch 3/15\n",
      "9024/8985 [==============================] - 85s - loss: 3.6487    \n",
      "Epoch 4/15\n",
      "9024/8985 [==============================] - 85s - loss: 3.4395    \n",
      "Epoch 5/15\n",
      "9024/8985 [==============================] - 85s - loss: 3.3201    \n",
      "Epoch 6/15\n",
      "9024/8985 [==============================] - 86s - loss: 3.2385    \n",
      "Epoch 7/15\n",
      "9024/8985 [==============================] - 85s - loss: 3.2414    \n",
      "Epoch 8/15\n",
      "9024/8985 [==============================] - 86s - loss: 3.2149    \n",
      "Epoch 9/15\n",
      "9024/8985 [==============================] - 87s - loss: 2.9775    \n",
      "Epoch 10/15\n",
      "9024/8985 [==============================] - 85s - loss: 2.9278    \n",
      "Epoch 11/15\n",
      "9024/8985 [==============================] - 86s - loss: 2.9239    \n",
      "Epoch 12/15\n",
      "9024/8985 [==============================] - 86s - loss: 2.9076    \n",
      "Epoch 13/15\n",
      "9024/8985 [==============================] - 86s - loss: 2.8115    \n",
      "Epoch 14/15\n",
      "9024/8985 [==============================] - 86s - loss: 2.6236    \n",
      "Epoch 15/15\n",
      "9024/8985 [==============================] - 72s - loss: 2.7891    \n",
      " acc: 75.4784333168% long: 0% short: 75.4784333168%\n"
     ]
    }
   ],
   "source": [
    "history1 = model.fit_generator(trn_gen(), x_trn_len, nb_epoch=15)\n",
    "evaluator.on_epoch_end(30)"
   ]
  },
  {
   "cell_type": "code",
   "execution_count": 30,
   "metadata": {
    "collapsed": true
   },
   "outputs": [
    {
     "name": "stdout",
     "output_type": "stream",
     "text": [
      "Epoch 1/15\n",
      "9024/8985 [==============================] - 86s - loss: 2.6188    \n",
      "Epoch 2/15\n",
      "9024/8985 [==============================] - 85s - loss: 2.6276    \n",
      "Epoch 3/15\n",
      "9024/8985 [==============================] - 85s - loss: 2.5952    \n",
      "Epoch 4/15\n",
      "9024/8985 [==============================] - 86s - loss: 2.4569    \n",
      "Epoch 5/15\n",
      "9024/8985 [==============================] - 84s - loss: 2.4967    \n",
      "Epoch 6/15\n",
      "9024/8985 [==============================] - 84s - loss: 2.4359    \n",
      "Epoch 7/15\n",
      "9024/8985 [==============================] - 84s - loss: 2.4145    \n",
      "Epoch 8/15\n",
      "9024/8985 [==============================] - 82s - loss: 2.4683    \n",
      "Epoch 9/15\n",
      "9024/8985 [==============================] - 84s - loss: 2.3633    \n",
      "Epoch 10/15\n",
      "9024/8985 [==============================] - 84s - loss: 2.3208    \n",
      "Epoch 11/15\n",
      "9024/8985 [==============================] - 84s - loss: 2.2524    \n",
      "Epoch 12/15\n",
      "9024/8985 [==============================] - 85s - loss: 2.3088    \n",
      "Epoch 13/15\n",
      "9024/8985 [==============================] - 84s - loss: 2.2923    \n",
      "Epoch 14/15\n",
      "9024/8985 [==============================] - 85s - loss: 2.1500    \n",
      "Epoch 15/15\n",
      "9024/8985 [==============================] - 83s - loss: 2.2561    \n",
      " acc: 76.4997521071% long: 0% short: 76.4997521071%\n"
     ]
    }
   ],
   "source": [
    "history1 = model.fit_generator(trn_gen(), x_trn_len, nb_epoch=15)\n",
    "evaluator.on_epoch_end(30)"
   ]
  },
  {
   "cell_type": "code",
   "execution_count": 32,
   "metadata": {},
   "outputs": [
    {
     "name": "stdout",
     "output_type": "stream",
     "text": [
      "10085/10085 [==============================] - 27s    \n",
      "1.01440175172\n"
     ]
    }
   ],
   "source": [
    "vx, vy = val_data()\n",
    "print(model.evaluate(vx, vy))"
   ]
  },
  {
   "cell_type": "code",
   "execution_count": 33,
   "metadata": {
    "collapsed": true
   },
   "outputs": [
    {
     "name": "stdout",
     "output_type": "stream",
     "text": [
      "10085/10085 [==============================] - 26s    \n",
      "1.01440175172\n",
      "Epoch 1/15\n",
      "9024/8985 [==============================] - 86s - loss: 2.0742    \n",
      "Epoch 2/15\n",
      "9024/8985 [==============================] - 85s - loss: 2.1462    \n",
      "Epoch 3/15\n",
      "9024/8985 [==============================] - 84s - loss: 2.1073    \n",
      "Epoch 4/15\n",
      "9024/8985 [==============================] - 85s - loss: 2.0965    \n",
      "Epoch 5/15\n",
      "9024/8985 [==============================] - 85s - loss: 2.0373    \n",
      "Epoch 6/15\n",
      "9024/8985 [==============================] - 85s - loss: 2.0386    \n",
      "Epoch 7/15\n",
      "9024/8985 [==============================] - 84s - loss: 2.0292    \n",
      "Epoch 8/15\n",
      "9024/8985 [==============================] - 85s - loss: 2.1043    \n",
      "Epoch 9/15\n",
      "9024/8985 [==============================] - 84s - loss: 2.0165    \n",
      "Epoch 10/15\n",
      "9024/8985 [==============================] - 85s - loss: 1.9463    \n",
      "Epoch 11/15\n",
      "9024/8985 [==============================] - 85s - loss: 1.9341    \n",
      "Epoch 12/15\n",
      "9024/8985 [==============================] - 85s - loss: 1.9758    \n",
      "Epoch 13/15\n",
      "9024/8985 [==============================] - 84s - loss: 2.0170    \n",
      "Epoch 14/15\n",
      "9024/8985 [==============================] - 77s - loss: 1.9047    \n",
      "Epoch 15/15\n",
      "9024/8985 [==============================] - 68s - loss: 1.9206    \n",
      " acc: 83.1333663857% long: 0% short: 83.1333663857%\n"
     ]
    }
   ],
   "source": [
    "\n",
    "history1 = model.fit_generator(trn_gen(), x_trn_len, nb_epoch=15)\n",
    "evaluator.on_epoch_end(30)"
   ]
  },
  {
   "cell_type": "code",
   "execution_count": 34,
   "metadata": {},
   "outputs": [
    {
     "name": "stdout",
     "output_type": "stream",
     "text": [
      "10080/10085 [============================>.] - ETA: 0s0.699159664802\n"
     ]
    }
   ],
   "source": [
    "vx, vy = val_data()\n",
    "print(model.evaluate(vx, vy))"
   ]
  },
  {
   "cell_type": "code",
   "execution_count": 35,
   "metadata": {
    "collapsed": true
   },
   "outputs": [
    {
     "name": "stdout",
     "output_type": "stream",
     "text": [
      "Epoch 1/15\n",
      "9024/8985 [==============================] - 86s - loss: 1.8099    \n",
      "Epoch 2/15\n",
      "9024/8985 [==============================] - 85s - loss: 1.8616    \n",
      "Epoch 3/15\n",
      "9024/8985 [==============================] - 86s - loss: 1.8405    \n",
      "Epoch 4/15\n",
      "9024/8985 [==============================] - 85s - loss: 1.7582    \n",
      "Epoch 5/15\n",
      "9024/8985 [==============================] - 84s - loss: 1.8307    \n",
      "Epoch 6/15\n",
      "9024/8985 [==============================] - 85s - loss: 1.8303    \n",
      "Epoch 7/15\n",
      "9024/8985 [==============================] - 85s - loss: 1.8632    \n",
      "Epoch 8/15\n",
      "9024/8985 [==============================] - 84s - loss: 1.7842    \n",
      "Epoch 9/15\n",
      "9024/8985 [==============================] - 86s - loss: 1.7935    \n",
      "Epoch 10/15\n",
      "9024/8985 [==============================] - 84s - loss: 1.7541    \n",
      "Epoch 11/15\n",
      "9024/8985 [==============================] - 84s - loss: 1.7631    \n",
      "Epoch 12/15\n",
      "9024/8985 [==============================] - 84s - loss: 1.7030    \n",
      "Epoch 13/15\n",
      "9024/8985 [==============================] - 86s - loss: 1.7286    \n",
      "Epoch 14/15\n",
      "9024/8985 [==============================] - 85s - loss: 1.6659    \n",
      "Epoch 15/15\n",
      "9024/8985 [==============================] - 84s - loss: 1.6948    \n",
      " acc: 84.541398116% long: 0% short: 84.541398116%\n",
      "10080/10085 [============================>.] - ETA: 0s0.64743913233\n"
     ]
    }
   ],
   "source": [
    "history1 = model.fit_generator(trn_gen(), x_trn_len, nb_epoch=15)\n",
    "evaluator.on_epoch_end(30)\n",
    "vx, vy = val_data()\n",
    "print(model.evaluate(vx, vy))"
   ]
  },
  {
   "cell_type": "markdown",
   "metadata": {},
   "source": [
    "### 8-cnn-32-256 + 1-512-rnn  3-channel"
   ]
  },
  {
   "cell_type": "code",
   "execution_count": 40,
   "metadata": {
    "collapsed": true
   },
   "outputs": [
    {
     "name": "stdout",
     "output_type": "stream",
     "text": [
      "Epoch 1/15\n",
      "9024/8985 [==============================] - 80s - loss: 97.1160    \n",
      "Epoch 2/15\n",
      "9024/8985 [==============================] - 75s - loss: 52.6259    \n",
      "Epoch 3/15\n",
      "9024/8985 [==============================] - 76s - loss: 24.3447    \n",
      "Epoch 4/15\n",
      "9024/8985 [==============================] - 76s - loss: 14.4506    \n",
      "Epoch 5/15\n",
      "9024/8985 [==============================] - 76s - loss: 10.0137    \n",
      "Epoch 6/15\n",
      "9024/8985 [==============================] - 76s - loss: 8.0186    \n",
      "Epoch 7/15\n",
      "9024/8985 [==============================] - 76s - loss: 6.8855    \n",
      "Epoch 8/15\n",
      "9024/8985 [==============================] - 76s - loss: 5.9318    \n",
      "Epoch 9/15\n",
      "9024/8985 [==============================] - 76s - loss: 5.2727    \n",
      "Epoch 10/15\n",
      "9024/8985 [==============================] - 76s - loss: 4.9081    \n",
      "Epoch 11/15\n",
      "9024/8985 [==============================] - 75s - loss: 4.4005    \n",
      "Epoch 12/15\n",
      "9024/8985 [==============================] - 75s - loss: 4.3133    \n",
      "Epoch 13/15\n",
      "9024/8985 [==============================] - 76s - loss: 4.0673    \n",
      "Epoch 14/15\n",
      "9024/8985 [==============================] - 76s - loss: 3.7412    \n",
      "Epoch 15/15\n",
      "9024/8985 [==============================] - 75s - loss: 3.6589    \n",
      "9907/9907 [==============================] - 26s    \n",
      "2.13080439051\n",
      " acc: 58.8674674473% long: 0% short: 58.8674674473%\n"
     ]
    }
   ],
   "source": [
    "model.compile(loss={'ctc': lambda y_true, y_pred: y_pred}, optimizer='rmsprop')\n",
    "history1 = model.fit_generator(trn_gen(), x_trn_len, nb_epoch=15)\n",
    "vx, vy = val_data()\n",
    "print(model.evaluate(vx, vy))\n",
    "evaluator.on_epoch_end(30)"
   ]
  },
  {
   "cell_type": "code",
   "execution_count": 41,
   "metadata": {
    "collapsed": true
   },
   "outputs": [
    {
     "name": "stdout",
     "output_type": "stream",
     "text": [
      "Epoch 1/15\n",
      "9024/8985 [==============================] - 78s - loss: 3.3700    \n",
      "Epoch 2/15\n",
      "9024/8985 [==============================] - 75s - loss: 3.3249    \n",
      "Epoch 3/15\n",
      "9024/8985 [==============================] - 75s - loss: 3.2367    \n",
      "Epoch 4/15\n",
      "9024/8985 [==============================] - 75s - loss: 3.0145    \n",
      "Epoch 5/15\n",
      "9024/8985 [==============================] - 76s - loss: 2.9201    \n",
      "Epoch 6/15\n",
      "9024/8985 [==============================] - 76s - loss: 2.8751    \n",
      "Epoch 7/15\n",
      "9024/8985 [==============================] - 76s - loss: 3.0054    \n",
      "Epoch 8/15\n",
      "9024/8985 [==============================] - 76s - loss: 2.7649    \n",
      "Epoch 9/15\n",
      "9024/8985 [==============================] - 76s - loss: 2.6440    \n",
      "Epoch 10/15\n",
      "9024/8985 [==============================] - 77s - loss: 2.6610    \n",
      "Epoch 11/15\n",
      "9024/8985 [==============================] - 76s - loss: 2.5483    \n",
      "Epoch 12/15\n",
      "9024/8985 [==============================] - 76s - loss: 2.5756    \n",
      "Epoch 13/15\n",
      "9024/8985 [==============================] - 76s - loss: 2.5033    \n",
      "Epoch 14/15\n",
      "9024/8985 [==============================] - 76s - loss: 2.3540    \n",
      "Epoch 15/15\n",
      "9024/8985 [==============================] - 76s - loss: 2.4264    \n",
      "9907/9907 [==============================] - 25s    \n",
      "1.39631279679\n",
      " acc: 70.0514787524% long: 0% short: 70.0514787524%\n"
     ]
    }
   ],
   "source": [
    "history1 = model.fit_generator(trn_gen(), x_trn_len, nb_epoch=15)\n",
    "vx, vy = val_data()\n",
    "print(model.evaluate(vx, vy))\n",
    "evaluator.on_epoch_end(30)"
   ]
  },
  {
   "cell_type": "code",
   "execution_count": 42,
   "metadata": {
    "collapsed": true
   },
   "outputs": [
    {
     "name": "stdout",
     "output_type": "stream",
     "text": [
      "Epoch 1/15\n",
      "9024/8985 [==============================] - 78s - loss: 2.2957    \n",
      "Epoch 2/15\n",
      "9024/8985 [==============================] - 76s - loss: 2.2806    \n",
      "Epoch 3/15\n",
      "9024/8985 [==============================] - 76s - loss: 2.2443    \n",
      "Epoch 4/15\n",
      "9024/8985 [==============================] - 76s - loss: 2.1681    \n",
      "Epoch 5/15\n",
      "9024/8985 [==============================] - 76s - loss: 2.1429    \n",
      "Epoch 6/15\n",
      "9024/8985 [==============================] - 76s - loss: 2.1524    \n",
      "Epoch 7/15\n",
      "9024/8985 [==============================] - 76s - loss: 2.1952    \n",
      "Epoch 8/15\n",
      "9024/8985 [==============================] - 76s - loss: 2.0592    \n",
      "Epoch 9/15\n",
      "9024/8985 [==============================] - 76s - loss: 2.0375    \n",
      "Epoch 10/15\n",
      "9024/8985 [==============================] - 75s - loss: 2.0667    \n",
      "Epoch 11/15\n",
      "9024/8985 [==============================] - 76s - loss: 1.9205    \n",
      "Epoch 12/15\n",
      "9024/8985 [==============================] - 75s - loss: 1.9873    \n",
      "Epoch 13/15\n",
      "9024/8985 [==============================] - 76s - loss: 1.9811    \n",
      "Epoch 14/15\n",
      "9024/8985 [==============================] - 76s - loss: 1.8485    \n",
      "Epoch 15/15\n",
      "9024/8985 [==============================] - 72s - loss: 1.9545    \n",
      "9907/9907 [==============================] - 25s    \n",
      "0.965978410225\n",
      " acc: 78.7120218028% long: 0% short: 78.7120218028%\n"
     ]
    }
   ],
   "source": [
    "history1 = model.fit_generator(trn_gen(), x_trn_len, nb_epoch=15)\n",
    "vx, vy = val_data()\n",
    "print(model.evaluate(vx, vy))\n",
    "evaluator.on_epoch_end(30)"
   ]
  },
  {
   "cell_type": "code",
   "execution_count": 43,
   "metadata": {
    "collapsed": true
   },
   "outputs": [
    {
     "name": "stdout",
     "output_type": "stream",
     "text": [
      "Epoch 1/15\n",
      "9024/8985 [==============================] - 69s - loss: 1.8182    \n",
      "Epoch 2/15\n",
      "9024/8985 [==============================] - 69s - loss: 1.8458    \n",
      "Epoch 3/15\n",
      "9024/8985 [==============================] - 68s - loss: 1.8312    \n",
      "Epoch 4/15\n",
      "9024/8985 [==============================] - 68s - loss: 1.8137    \n",
      "Epoch 5/15\n",
      "9024/8985 [==============================] - 67s - loss: 1.7605    \n",
      "Epoch 6/15\n",
      "9024/8985 [==============================] - 68s - loss: 1.7512    \n",
      "Epoch 7/15\n",
      "9024/8985 [==============================] - 68s - loss: 1.8026    \n",
      "Epoch 8/15\n",
      "9024/8985 [==============================] - 67s - loss: 1.7826    \n",
      "Epoch 9/15\n",
      "9024/8985 [==============================] - 68s - loss: 1.6997    \n",
      "Epoch 10/15\n",
      "9024/8985 [==============================] - 68s - loss: 1.7407    \n",
      "Epoch 11/15\n",
      "9024/8985 [==============================] - 67s - loss: 1.6870    \n",
      "Epoch 12/15\n",
      "9024/8985 [==============================] - 68s - loss: 1.6492    \n",
      "Epoch 13/15\n",
      "9024/8985 [==============================] - 67s - loss: 1.6956    \n",
      "Epoch 14/15\n",
      "9024/8985 [==============================] - 68s - loss: 1.5623    \n",
      "Epoch 15/15\n",
      "9024/8985 [==============================] - 68s - loss: 1.6340    \n",
      "9907/9907 [==============================] - 26s    \n",
      "0.742995523403\n",
      " acc: 82.9009791057% long: 0% short: 82.9009791057%\n"
     ]
    }
   ],
   "source": [
    "history1 = model.fit_generator(trn_gen(), x_trn_len, nb_epoch=15)\n",
    "vx, vy = val_data()\n",
    "print(model.evaluate(vx, vy))\n",
    "evaluator.on_epoch_end(30)"
   ]
  },
  {
   "cell_type": "code",
   "execution_count": 44,
   "metadata": {
    "collapsed": true
   },
   "outputs": [
    {
     "name": "stdout",
     "output_type": "stream",
     "text": [
      "Epoch 1/15\n",
      "9024/8985 [==============================] - 69s - loss: 1.5516    \n",
      "Epoch 2/15\n",
      "9024/8985 [==============================] - 68s - loss: 1.6255    \n",
      "Epoch 3/15\n",
      "9024/8985 [==============================] - 84s - loss: 1.6326    \n",
      "Epoch 4/15\n",
      "9024/8985 [==============================] - 85s - loss: 1.4887    \n",
      "Epoch 5/15\n",
      "9024/8985 [==============================] - 85s - loss: 1.5734    \n",
      "Epoch 6/15\n",
      "9024/8985 [==============================] - 85s - loss: 1.5778    \n",
      "Epoch 7/15\n",
      "9024/8985 [==============================] - 85s - loss: 1.5715    \n",
      "Epoch 8/15\n",
      "9024/8985 [==============================] - 86s - loss: 1.5794    \n",
      "Epoch 9/15\n",
      "9024/8985 [==============================] - 87s - loss: 1.5243    \n",
      "Epoch 10/15\n",
      "9024/8985 [==============================] - 85s - loss: 1.5468    \n",
      "Epoch 11/15\n",
      "9024/8985 [==============================] - 87s - loss: 1.4467    \n",
      "Epoch 12/15\n",
      "9024/8985 [==============================] - 86s - loss: 1.5293    \n",
      "Epoch 13/15\n",
      "9024/8985 [==============================] - 85s - loss: 1.5258    \n",
      "Epoch 14/15\n",
      "9024/8985 [==============================] - 84s - loss: 1.4401    \n",
      "Epoch 15/15\n",
      "9024/8985 [==============================] - 85s - loss: 1.4972    \n",
      "9907/9907 [==============================] - 27s    \n",
      "0.648661120413\n",
      " acc: 85.162006662% long: 0% short: 85.162006662%\n"
     ]
    }
   ],
   "source": [
    "history1 = model.fit_generator(trn_gen(), x_trn_len, nb_epoch=15)\n",
    "vx, vy = val_data()\n",
    "print(model.evaluate(vx, vy))\n",
    "evaluator.on_epoch_end(30)"
   ]
  },
  {
   "cell_type": "code",
   "execution_count": 45,
   "metadata": {
    "collapsed": true
   },
   "outputs": [
    {
     "name": "stdout",
     "output_type": "stream",
     "text": [
      "Epoch 1/15\n",
      "9024/8985 [==============================] - 88s - loss: 1.3871    \n",
      "Epoch 2/15\n",
      "9024/8985 [==============================] - 85s - loss: 1.4443    \n",
      "Epoch 3/15\n",
      "9024/8985 [==============================] - 87s - loss: 1.4486    \n",
      "Epoch 4/15\n",
      "9024/8985 [==============================] - 85s - loss: 1.4057    \n",
      "Epoch 5/15\n",
      "9024/8985 [==============================] - 80s - loss: 1.3873    \n",
      "Epoch 6/15\n",
      "9024/8985 [==============================] - 68s - loss: 1.4381    \n",
      "Epoch 7/15\n",
      "9024/8985 [==============================] - 68s - loss: 1.4192    \n",
      "Epoch 8/15\n",
      "9024/8985 [==============================] - 68s - loss: 1.4447    \n",
      "Epoch 9/15\n",
      "9024/8985 [==============================] - 67s - loss: 1.4132    \n",
      "Epoch 10/15\n",
      "9024/8985 [==============================] - 67s - loss: 1.4050    \n",
      "Epoch 11/15\n",
      "9024/8985 [==============================] - 68s - loss: 1.3449    \n",
      "Epoch 12/15\n",
      "9024/8985 [==============================] - 68s - loss: 1.4049    \n",
      "Epoch 13/15\n",
      "9024/8985 [==============================] - 67s - loss: 1.3449    \n",
      "Epoch 14/15\n",
      "9024/8985 [==============================] - 79s - loss: 1.2811    \n",
      "Epoch 15/15\n",
      "9024/8985 [==============================] - 84s - loss: 1.3497    \n",
      "9907/9907 [==============================] - 26s    \n",
      "0.61084660133\n",
      " acc: 85.9493287574% long: 0% short: 85.9493287574%\n"
     ]
    }
   ],
   "source": [
    "history1 = model.fit_generator(trn_gen(), x_trn_len, nb_epoch=15)\n",
    "vx, vy = val_data()\n",
    "print(model.evaluate(vx, vy))\n",
    "evaluator.on_epoch_end(30)"
   ]
  },
  {
   "cell_type": "code",
   "execution_count": 49,
   "metadata": {
    "collapsed": true
   },
   "outputs": [
    {
     "name": "stdout",
     "output_type": "stream",
     "text": [
      "Epoch 1/30\n",
      "9024/8985 [==============================] - 69s - loss: 1.2941    \n",
      "Epoch 2/30\n",
      "9024/8985 [==============================] - 69s - loss: 1.3281    \n",
      "Epoch 3/30\n",
      "9024/8985 [==============================] - 78s - loss: 1.3439    \n",
      "Epoch 4/30\n",
      "9024/8985 [==============================] - 85s - loss: 1.2068    \n",
      "Epoch 5/30\n",
      "9024/8985 [==============================] - 86s - loss: 1.3412    \n",
      "Epoch 6/30\n",
      "9024/8985 [==============================] - 85s - loss: 1.3309    \n",
      "Epoch 7/30\n",
      "9024/8985 [==============================] - 85s - loss: 1.3249    \n",
      "Epoch 8/30\n",
      "9024/8985 [==============================] - 85s - loss: 1.3506    \n",
      "Epoch 9/30\n",
      "9024/8985 [==============================] - 85s - loss: 1.2825    \n",
      "Epoch 10/30\n",
      "9024/8985 [==============================] - 84s - loss: 1.3234    \n",
      "Epoch 11/30\n",
      "9024/8985 [==============================] - 86s - loss: 1.2231    \n",
      "Epoch 12/30\n",
      "9024/8985 [==============================] - 84s - loss: 1.2581    \n",
      "Epoch 13/30\n",
      "9024/8985 [==============================] - 85s - loss: 1.2391    \n",
      "Epoch 14/30\n",
      "9024/8985 [==============================] - 86s - loss: 1.2241    \n",
      "Epoch 15/30\n",
      "9024/8985 [==============================] - 85s - loss: 1.2539    \n",
      "Epoch 16/30\n",
      "2048/8985 [=====>........................] - ETA: 65s - loss: 1.2335"
     ]
    },
    {
     "ename": "KeyboardInterrupt",
     "evalue": "",
     "output_type": "error",
     "traceback": [
      "\u001b[0;31m---------------------------------------------------------------------------\u001b[0m",
      "\u001b[0;31mKeyboardInterrupt\u001b[0m                         Traceback (most recent call last)",
      "\u001b[0;32m<ipython-input-49-61179ffa4110>\u001b[0m in \u001b[0;36m<module>\u001b[0;34m()\u001b[0m\n\u001b[0;32m----> 1\u001b[0;31m \u001b[0mhistory1\u001b[0m \u001b[0;34m=\u001b[0m \u001b[0mmodel\u001b[0m\u001b[0;34m.\u001b[0m\u001b[0mfit_generator\u001b[0m\u001b[0;34m(\u001b[0m\u001b[0mtrn_gen\u001b[0m\u001b[0;34m(\u001b[0m\u001b[0;34m)\u001b[0m\u001b[0;34m,\u001b[0m \u001b[0mx_trn_len\u001b[0m\u001b[0;34m,\u001b[0m \u001b[0mnb_epoch\u001b[0m\u001b[0;34m=\u001b[0m\u001b[0;36m30\u001b[0m\u001b[0;34m)\u001b[0m\u001b[0;34m\u001b[0m\u001b[0m\n\u001b[0m\u001b[1;32m      2\u001b[0m \u001b[0mvx\u001b[0m\u001b[0;34m,\u001b[0m \u001b[0mvy\u001b[0m \u001b[0;34m=\u001b[0m \u001b[0mval_data\u001b[0m\u001b[0;34m(\u001b[0m\u001b[0;34m)\u001b[0m\u001b[0;34m\u001b[0m\u001b[0m\n\u001b[1;32m      3\u001b[0m \u001b[0;32mprint\u001b[0m\u001b[0;34m(\u001b[0m\u001b[0mmodel\u001b[0m\u001b[0;34m.\u001b[0m\u001b[0mevaluate\u001b[0m\u001b[0;34m(\u001b[0m\u001b[0mvx\u001b[0m\u001b[0;34m,\u001b[0m \u001b[0mvy\u001b[0m\u001b[0;34m)\u001b[0m\u001b[0;34m)\u001b[0m\u001b[0;34m\u001b[0m\u001b[0m\n\u001b[1;32m      4\u001b[0m \u001b[0mevaluator\u001b[0m\u001b[0;34m.\u001b[0m\u001b[0mon_epoch_end\u001b[0m\u001b[0;34m(\u001b[0m\u001b[0;36m30\u001b[0m\u001b[0;34m)\u001b[0m\u001b[0;34m\u001b[0m\u001b[0m\n",
      "\u001b[0;32m/home/viiv/anaconda2/lib/python2.7/site-packages/keras/engine/training.pyc\u001b[0m in \u001b[0;36mfit_generator\u001b[0;34m(self, generator, samples_per_epoch, nb_epoch, verbose, callbacks, validation_data, nb_val_samples, class_weight, max_q_size, nb_worker, pickle_safe, initial_epoch)\u001b[0m\n\u001b[1;32m   1555\u001b[0m                     outs = self.train_on_batch(x, y,\n\u001b[1;32m   1556\u001b[0m                                                \u001b[0msample_weight\u001b[0m\u001b[0;34m=\u001b[0m\u001b[0msample_weight\u001b[0m\u001b[0;34m,\u001b[0m\u001b[0;34m\u001b[0m\u001b[0m\n\u001b[0;32m-> 1557\u001b[0;31m                                                class_weight=class_weight)\n\u001b[0m\u001b[1;32m   1558\u001b[0m \u001b[0;34m\u001b[0m\u001b[0m\n\u001b[1;32m   1559\u001b[0m                     \u001b[0;32mif\u001b[0m \u001b[0;32mnot\u001b[0m \u001b[0misinstance\u001b[0m\u001b[0;34m(\u001b[0m\u001b[0mouts\u001b[0m\u001b[0;34m,\u001b[0m \u001b[0mlist\u001b[0m\u001b[0;34m)\u001b[0m\u001b[0;34m:\u001b[0m\u001b[0;34m\u001b[0m\u001b[0m\n",
      "\u001b[0;32m/home/viiv/anaconda2/lib/python2.7/site-packages/keras/engine/training.pyc\u001b[0m in \u001b[0;36mtrain_on_batch\u001b[0;34m(self, x, y, sample_weight, class_weight)\u001b[0m\n\u001b[1;32m   1318\u001b[0m             \u001b[0mins\u001b[0m \u001b[0;34m=\u001b[0m \u001b[0mx\u001b[0m \u001b[0;34m+\u001b[0m \u001b[0my\u001b[0m \u001b[0;34m+\u001b[0m \u001b[0msample_weights\u001b[0m\u001b[0;34m\u001b[0m\u001b[0m\n\u001b[1;32m   1319\u001b[0m         \u001b[0mself\u001b[0m\u001b[0;34m.\u001b[0m\u001b[0m_make_train_function\u001b[0m\u001b[0;34m(\u001b[0m\u001b[0;34m)\u001b[0m\u001b[0;34m\u001b[0m\u001b[0m\n\u001b[0;32m-> 1320\u001b[0;31m         \u001b[0moutputs\u001b[0m \u001b[0;34m=\u001b[0m \u001b[0mself\u001b[0m\u001b[0;34m.\u001b[0m\u001b[0mtrain_function\u001b[0m\u001b[0;34m(\u001b[0m\u001b[0mins\u001b[0m\u001b[0;34m)\u001b[0m\u001b[0;34m\u001b[0m\u001b[0m\n\u001b[0m\u001b[1;32m   1321\u001b[0m         \u001b[0;32mif\u001b[0m \u001b[0mlen\u001b[0m\u001b[0;34m(\u001b[0m\u001b[0moutputs\u001b[0m\u001b[0;34m)\u001b[0m \u001b[0;34m==\u001b[0m \u001b[0;36m1\u001b[0m\u001b[0;34m:\u001b[0m\u001b[0;34m\u001b[0m\u001b[0m\n\u001b[1;32m   1322\u001b[0m             \u001b[0;32mreturn\u001b[0m \u001b[0moutputs\u001b[0m\u001b[0;34m[\u001b[0m\u001b[0;36m0\u001b[0m\u001b[0;34m]\u001b[0m\u001b[0;34m\u001b[0m\u001b[0m\n",
      "\u001b[0;32m/home/viiv/anaconda2/lib/python2.7/site-packages/keras/backend/tensorflow_backend.pyc\u001b[0m in \u001b[0;36m__call__\u001b[0;34m(self, inputs)\u001b[0m\n\u001b[1;32m   1941\u001b[0m         \u001b[0msession\u001b[0m \u001b[0;34m=\u001b[0m \u001b[0mget_session\u001b[0m\u001b[0;34m(\u001b[0m\u001b[0;34m)\u001b[0m\u001b[0;34m\u001b[0m\u001b[0m\n\u001b[1;32m   1942\u001b[0m         updated = session.run(self.outputs + [self.updates_op],\n\u001b[0;32m-> 1943\u001b[0;31m                               feed_dict=feed_dict)\n\u001b[0m\u001b[1;32m   1944\u001b[0m         \u001b[0;32mreturn\u001b[0m \u001b[0mupdated\u001b[0m\u001b[0;34m[\u001b[0m\u001b[0;34m:\u001b[0m\u001b[0mlen\u001b[0m\u001b[0;34m(\u001b[0m\u001b[0mself\u001b[0m\u001b[0;34m.\u001b[0m\u001b[0moutputs\u001b[0m\u001b[0;34m)\u001b[0m\u001b[0;34m]\u001b[0m\u001b[0;34m\u001b[0m\u001b[0m\n\u001b[1;32m   1945\u001b[0m \u001b[0;34m\u001b[0m\u001b[0m\n",
      "\u001b[0;32m/home/viiv/anaconda2/lib/python2.7/site-packages/tensorflow/python/client/session.pyc\u001b[0m in \u001b[0;36mrun\u001b[0;34m(self, fetches, feed_dict, options, run_metadata)\u001b[0m\n\u001b[1;32m    715\u001b[0m     \u001b[0;32mtry\u001b[0m\u001b[0;34m:\u001b[0m\u001b[0;34m\u001b[0m\u001b[0m\n\u001b[1;32m    716\u001b[0m       result = self._run(None, fetches, feed_dict, options_ptr,\n\u001b[0;32m--> 717\u001b[0;31m                          run_metadata_ptr)\n\u001b[0m\u001b[1;32m    718\u001b[0m       \u001b[0;32mif\u001b[0m \u001b[0mrun_metadata\u001b[0m\u001b[0;34m:\u001b[0m\u001b[0;34m\u001b[0m\u001b[0m\n\u001b[1;32m    719\u001b[0m         \u001b[0mproto_data\u001b[0m \u001b[0;34m=\u001b[0m \u001b[0mtf_session\u001b[0m\u001b[0;34m.\u001b[0m\u001b[0mTF_GetBuffer\u001b[0m\u001b[0;34m(\u001b[0m\u001b[0mrun_metadata_ptr\u001b[0m\u001b[0;34m)\u001b[0m\u001b[0;34m\u001b[0m\u001b[0m\n",
      "\u001b[0;32m/home/viiv/anaconda2/lib/python2.7/site-packages/tensorflow/python/client/session.pyc\u001b[0m in \u001b[0;36m_run\u001b[0;34m(self, handle, fetches, feed_dict, options, run_metadata)\u001b[0m\n\u001b[1;32m    913\u001b[0m     \u001b[0;32mif\u001b[0m \u001b[0mfinal_fetches\u001b[0m \u001b[0;32mor\u001b[0m \u001b[0mfinal_targets\u001b[0m\u001b[0;34m:\u001b[0m\u001b[0;34m\u001b[0m\u001b[0m\n\u001b[1;32m    914\u001b[0m       results = self._do_run(handle, final_targets, final_fetches,\n\u001b[0;32m--> 915\u001b[0;31m                              feed_dict_string, options, run_metadata)\n\u001b[0m\u001b[1;32m    916\u001b[0m     \u001b[0;32melse\u001b[0m\u001b[0;34m:\u001b[0m\u001b[0;34m\u001b[0m\u001b[0m\n\u001b[1;32m    917\u001b[0m       \u001b[0mresults\u001b[0m \u001b[0;34m=\u001b[0m \u001b[0;34m[\u001b[0m\u001b[0;34m]\u001b[0m\u001b[0;34m\u001b[0m\u001b[0m\n",
      "\u001b[0;32m/home/viiv/anaconda2/lib/python2.7/site-packages/tensorflow/python/client/session.pyc\u001b[0m in \u001b[0;36m_do_run\u001b[0;34m(self, handle, target_list, fetch_list, feed_dict, options, run_metadata)\u001b[0m\n\u001b[1;32m    963\u001b[0m     \u001b[0;32mif\u001b[0m \u001b[0mhandle\u001b[0m \u001b[0;32mis\u001b[0m \u001b[0mNone\u001b[0m\u001b[0;34m:\u001b[0m\u001b[0;34m\u001b[0m\u001b[0m\n\u001b[1;32m    964\u001b[0m       return self._do_call(_run_fn, self._session, feed_dict, fetch_list,\n\u001b[0;32m--> 965\u001b[0;31m                            target_list, options, run_metadata)\n\u001b[0m\u001b[1;32m    966\u001b[0m     \u001b[0;32melse\u001b[0m\u001b[0;34m:\u001b[0m\u001b[0;34m\u001b[0m\u001b[0m\n\u001b[1;32m    967\u001b[0m       return self._do_call(_prun_fn, self._session, handle, feed_dict,\n",
      "\u001b[0;32m/home/viiv/anaconda2/lib/python2.7/site-packages/tensorflow/python/client/session.pyc\u001b[0m in \u001b[0;36m_do_call\u001b[0;34m(self, fn, *args)\u001b[0m\n\u001b[1;32m    970\u001b[0m   \u001b[0;32mdef\u001b[0m \u001b[0m_do_call\u001b[0m\u001b[0;34m(\u001b[0m\u001b[0mself\u001b[0m\u001b[0;34m,\u001b[0m \u001b[0mfn\u001b[0m\u001b[0;34m,\u001b[0m \u001b[0;34m*\u001b[0m\u001b[0margs\u001b[0m\u001b[0;34m)\u001b[0m\u001b[0;34m:\u001b[0m\u001b[0;34m\u001b[0m\u001b[0m\n\u001b[1;32m    971\u001b[0m     \u001b[0;32mtry\u001b[0m\u001b[0;34m:\u001b[0m\u001b[0;34m\u001b[0m\u001b[0m\n\u001b[0;32m--> 972\u001b[0;31m       \u001b[0;32mreturn\u001b[0m \u001b[0mfn\u001b[0m\u001b[0;34m(\u001b[0m\u001b[0;34m*\u001b[0m\u001b[0margs\u001b[0m\u001b[0;34m)\u001b[0m\u001b[0;34m\u001b[0m\u001b[0m\n\u001b[0m\u001b[1;32m    973\u001b[0m     \u001b[0;32mexcept\u001b[0m \u001b[0merrors\u001b[0m\u001b[0;34m.\u001b[0m\u001b[0mOpError\u001b[0m \u001b[0;32mas\u001b[0m \u001b[0me\u001b[0m\u001b[0;34m:\u001b[0m\u001b[0;34m\u001b[0m\u001b[0m\n\u001b[1;32m    974\u001b[0m       \u001b[0mmessage\u001b[0m \u001b[0;34m=\u001b[0m \u001b[0mcompat\u001b[0m\u001b[0;34m.\u001b[0m\u001b[0mas_text\u001b[0m\u001b[0;34m(\u001b[0m\u001b[0me\u001b[0m\u001b[0;34m.\u001b[0m\u001b[0mmessage\u001b[0m\u001b[0;34m)\u001b[0m\u001b[0;34m\u001b[0m\u001b[0m\n",
      "\u001b[0;32m/home/viiv/anaconda2/lib/python2.7/site-packages/tensorflow/python/client/session.pyc\u001b[0m in \u001b[0;36m_run_fn\u001b[0;34m(session, feed_dict, fetch_list, target_list, options, run_metadata)\u001b[0m\n\u001b[1;32m    952\u001b[0m         return tf_session.TF_Run(session, options,\n\u001b[1;32m    953\u001b[0m                                  \u001b[0mfeed_dict\u001b[0m\u001b[0;34m,\u001b[0m \u001b[0mfetch_list\u001b[0m\u001b[0;34m,\u001b[0m \u001b[0mtarget_list\u001b[0m\u001b[0;34m,\u001b[0m\u001b[0;34m\u001b[0m\u001b[0m\n\u001b[0;32m--> 954\u001b[0;31m                                  status, run_metadata)\n\u001b[0m\u001b[1;32m    955\u001b[0m \u001b[0;34m\u001b[0m\u001b[0m\n\u001b[1;32m    956\u001b[0m     \u001b[0;32mdef\u001b[0m \u001b[0m_prun_fn\u001b[0m\u001b[0;34m(\u001b[0m\u001b[0msession\u001b[0m\u001b[0;34m,\u001b[0m \u001b[0mhandle\u001b[0m\u001b[0;34m,\u001b[0m \u001b[0mfeed_dict\u001b[0m\u001b[0;34m,\u001b[0m \u001b[0mfetch_list\u001b[0m\u001b[0;34m)\u001b[0m\u001b[0;34m:\u001b[0m\u001b[0;34m\u001b[0m\u001b[0m\n",
      "\u001b[0;31mKeyboardInterrupt\u001b[0m: "
     ]
    }
   ],
   "source": [
    "history1 = model.fit_generator(trn_gen(), x_trn_len, nb_epoch=30)\n",
    "vx, vy = val_data()\n",
    "print(model.evaluate(vx, vy))\n",
    "evaluator.on_epoch_end(30)"
   ]
  },
  {
   "cell_type": "code",
   "execution_count": 50,
   "metadata": {},
   "outputs": [
    {
     "name": "stdout",
     "output_type": "stream",
     "text": [
      "9907/9907 [==============================] - 27s    \n",
      "0.568474260321\n",
      " acc: 86.5549611386% long: 0% short: 86.5549611386%\n"
     ]
    }
   ],
   "source": [
    "print(model.evaluate(vx, vy))\n",
    "evaluator.on_epoch_end(30)"
   ]
  },
  {
   "cell_type": "code",
   "execution_count": 51,
   "metadata": {
    "collapsed": true
   },
   "outputs": [],
   "source": [
    "model.save('86tmp.h5')\n"
   ]
  },
  {
   "cell_type": "code",
   "execution_count": 48,
   "metadata": {},
   "outputs": [
    {
     "data": {
      "text/plain": [
       "{'loss': [1.3871317839791588,\n",
       "  1.4442543425458543,\n",
       "  1.4486046458812469,\n",
       "  1.4056928665079969,\n",
       "  1.3873298041363979,\n",
       "  1.4381454532028091,\n",
       "  1.4191648047021095,\n",
       "  1.4447380604473412,\n",
       "  1.4132443510048778,\n",
       "  1.4050007864093104,\n",
       "  1.3448729058529467,\n",
       "  1.4048882735536454,\n",
       "  1.3449463070707117,\n",
       "  1.2811074941716296,\n",
       "  1.3496763693525435]}"
      ]
     },
     "execution_count": 48,
     "metadata": {},
     "output_type": "execute_result"
    }
   ],
   "source": [
    "history1.history"
   ]
  },
  {
   "cell_type": "markdown",
   "metadata": {},
   "source": [
    "# 8-cnn-32-256 + 1-512-rnn 3-channel full data"
   ]
  },
  {
   "cell_type": "code",
   "execution_count": null,
   "metadata": {},
   "outputs": [
    {
     "name": "stdout",
     "output_type": "stream",
     "text": [
      "Epoch 1/30\n",
      "90048/90048 [==============================] - 752s - loss: 26.3769 - val_loss: 3.8394\n",
      "Epoch 2/30\n",
      "90048/90048 [==============================] - 707s - loss: 3.9504 - val_loss: 2.1651\n",
      "Epoch 3/30\n",
      "90048/90048 [==============================] - 706s - loss: 2.7764 - val_loss: 1.2334\n",
      "Epoch 4/30\n",
      "90048/90048 [==============================] - 704s - loss: 2.2691 - val_loss: 1.2606\n",
      "Epoch 5/30\n",
      "90048/90048 [==============================] - 707s - loss: 1.9794 - val_loss: 1.0364\n",
      "Epoch 6/30\n",
      "90048/90048 [==============================] - 850s - loss: 1.7876 - val_loss: 0.7399\n",
      "Epoch 7/30\n",
      "90048/90048 [==============================] - 858s - loss: 1.6259 - val_loss: 0.7244\n",
      "Epoch 8/30\n",
      "90048/90048 [==============================] - 851s - loss: 1.5333 - val_loss: 0.7364\n",
      "Epoch 9/30\n",
      "90048/90048 [==============================] - 872s - loss: 1.4511 - val_loss: 0.6100\n",
      "Epoch 10/30\n",
      "90048/90048 [==============================] - 819s - loss: 1.3595 - val_loss: 0.7071\n",
      "Epoch 11/30\n",
      "90048/90048 [==============================] - 819s - loss: 1.3022 - val_loss: 0.6131\n",
      "Epoch 12/30\n",
      "90048/90048 [==============================] - 885s - loss: 1.2716 - val_loss: 0.5569\n",
      "Epoch 13/30\n",
      "90048/90048 [==============================] - 716s - loss: 1.2022 - val_loss: 0.5331\n",
      "Epoch 14/30\n",
      "90048/90048 [==============================] - 704s - loss: 1.1541 - val_loss: 0.4705\n",
      "Epoch 15/30\n",
      "90048/90048 [==============================] - 710s - loss: 1.1343 - val_loss: 0.4965\n",
      "Epoch 16/30\n",
      "90048/90048 [==============================] - 865s - loss: 1.0991 - val_loss: 0.4429\n",
      "Epoch 17/30\n",
      "90048/90048 [==============================] - 868s - loss: 1.0669 - val_loss: 0.4551\n",
      "Epoch 18/30\n",
      "90048/90048 [==============================] - 873s - loss: 1.0363 - val_loss: 0.4390\n",
      "Epoch 19/30\n",
      "90048/90048 [==============================] - 874s - loss: 1.0264 - val_loss: 0.4105\n",
      "Epoch 20/30\n",
      "90048/90048 [==============================] - 871s - loss: 0.9918 - val_loss: 0.4260\n",
      "Epoch 21/30\n",
      "90048/90048 [==============================] - 858s - loss: 0.9728 - val_loss: 0.3706\n",
      "Epoch 22/30\n",
      "90048/90048 [==============================] - 850s - loss: 0.9684 - val_loss: 0.4087\n",
      "Epoch 23/30\n",
      "90048/90048 [==============================] - 847s - loss: 0.9389 - val_loss: 0.3979\n",
      "Epoch 24/30\n",
      "90048/90048 [==============================] - 848s - loss: 0.9241 - val_loss: 0.4038\n",
      "Epoch 25/30\n",
      "90048/90048 [==============================] - 850s - loss: 0.9094 - val_loss: 0.4105\n",
      "Epoch 26/30\n",
      "90048/90048 [==============================] - 846s - loss: 0.8965 - val_loss: 0.4176\n",
      "Epoch 27/30\n",
      "90048/90048 [==============================] - 848s - loss: 0.8813 - val_loss: 0.4109\n",
      "Epoch 28/30\n",
      "90048/90048 [==============================] - 849s - loss: 0.8811 - val_loss: 0.3694\n",
      "Epoch 29/30\n",
      "90048/90048 [==============================] - 847s - loss: 0.8679 - val_loss: 0.3432\n",
      "Epoch 30/30\n",
      "90048/90048 [==============================] - 848s - loss: 0.8455 - val_loss: 0.3617\n"
     ]
    }
   ],
   "source": [
    "model.compile(loss={'ctc': lambda y_true, y_pred: y_pred}, optimizer='rmsprop')\n",
    "history2 = model.fit_generator(trn_gen(), x_trn_len, nb_epoch=30,\n",
    "                    validation_data=val_data(), nb_val_samples=x_val_len)"
   ]
  },
  {
   "cell_type": "code",
   "execution_count": null,
   "metadata": {},
   "outputs": [
    {
     "name": "stdout",
     "output_type": "stream",
     "text": [
      "9907/9907 [==============================] - 27s    \n",
      "0.361743472762\n",
      " acc: 91.1678611083% long: 0% short: 91.1678611083%\n",
      "Epoch 1/30\n",
      "90048/90048 [==============================] - 853s - loss: 0.8299 - val_loss: 0.3534\n",
      "Epoch 2/30\n",
      "90048/90048 [==============================] - 849s - loss: 0.8207 - val_loss: 0.3405\n",
      "Epoch 3/30\n",
      "90048/90048 [==============================] - 849s - loss: 0.8242 - val_loss: 0.3205\n",
      "Epoch 4/30\n",
      "90048/90048 [==============================] - 846s - loss: 0.8033 - val_loss: 0.3515\n",
      "Epoch 5/30\n",
      "90048/90048 [==============================] - 846s - loss: 0.7994 - val_loss: 0.3251\n",
      "Epoch 6/30\n",
      "90048/90048 [==============================] - 851s - loss: 0.8026 - val_loss: 0.3344\n",
      "Epoch 7/30\n",
      "90048/90048 [==============================] - 849s - loss: 0.7779 - val_loss: 0.3315\n",
      "Epoch 8/30\n",
      "90048/90048 [==============================] - 848s - loss: 0.7675 - val_loss: 0.3231\n",
      "Epoch 9/30\n",
      "90048/90048 [==============================] - 850s - loss: 0.7692 - val_loss: 0.3160\n",
      "Epoch 10/30\n",
      "90048/90048 [==============================] - 849s - loss: 0.7688 - val_loss: 0.3120\n",
      "Epoch 11/30\n",
      "90048/90048 [==============================] - 850s - loss: 0.7610 - val_loss: 0.3439\n",
      "Epoch 12/30\n",
      "90048/90048 [==============================] - 850s - loss: 0.7554 - val_loss: 0.3382\n",
      "Epoch 13/30\n",
      "90048/90048 [==============================] - 848s - loss: 0.7380 - val_loss: 0.3032\n",
      "Epoch 14/30\n",
      "90048/90048 [==============================] - 851s - loss: 0.7439 - val_loss: 0.3104\n",
      "Epoch 15/30\n",
      "90048/90048 [==============================] - 850s - loss: 0.7398 - val_loss: 0.3204\n",
      "Epoch 16/30\n",
      "90048/90048 [==============================] - 843s - loss: 0.7426 - val_loss: 0.2963\n",
      "Epoch 17/30\n",
      "90048/90048 [==============================] - 849s - loss: 0.7216 - val_loss: 0.2882\n",
      "Epoch 18/30\n",
      "90048/90048 [==============================] - 850s - loss: 0.7250 - val_loss: 0.2992\n",
      "Epoch 19/30\n",
      "90048/90048 [==============================] - 849s - loss: 0.7223 - val_loss: 0.3055\n",
      "Epoch 20/30\n",
      "90048/90048 [==============================] - 849s - loss: 0.7107 - val_loss: 0.3068\n",
      "Epoch 21/30\n",
      "90048/90048 [==============================] - 850s - loss: 0.7143 - val_loss: 0.2818\n",
      "Epoch 22/30\n",
      "90048/90048 [==============================] - 849s - loss: 0.7048 - val_loss: 0.2784\n",
      "Epoch 23/30\n",
      "90048/90048 [==============================] - 852s - loss: 0.7076 - val_loss: 0.2776\n",
      "Epoch 26/30\n",
      "90048/90048 [==============================] - 850s - loss: 0.7072 - val_loss: 0.2744\n",
      "Epoch 27/30\n",
      "90048/90048 [==============================] - 852s - loss: 0.6918 - val_loss: 0.2926\n",
      "Epoch 28/30\n",
      "90048/90048 [==============================] - 850s - loss: 0.6869 - val_loss: 0.2709\n",
      "Epoch 29/30\n",
      "90048/90048 [==============================] - 851s - loss: 0.6918 - val_loss: 0.2607\n",
      "Epoch 30/30\n",
      "90048/90048 [==============================] - 853s - loss: 0.6879 - val_loss: 0.2836\n"
     ]
    }
   ],
   "source": [
    "print(model.evaluate(vx, vy))\n",
    "evaluator.on_epoch_end(30)\n",
    "model.compile(loss={'ctc': lambda y_true, y_pred: y_pred}, optimizer='rmsprop')\n",
    "history2 = model.fit_generator(trn_gen(), x_trn_len, nb_epoch=30,\n",
    "                    validation_data=val_data(), nb_val_samples=x_val_len)"
   ]
  },
  {
   "cell_type": "code",
   "execution_count": 64,
   "metadata": {},
   "outputs": [
    {
     "name": "stdout",
     "output_type": "stream",
     "text": [
      " acc: 92.9544766327% long: 0% short: 92.9544766327%\n"
     ]
    }
   ],
   "source": [
    "evaluator.on_epoch_end(30)"
   ]
  },
  {
   "cell_type": "code",
   "execution_count": 72,
   "metadata": {
    "collapsed": true
   },
   "outputs": [],
   "source": [
    "checkpointer = ModelCheckpoint(filepath='v1/weights.hdf5', verbose=1, save_best_only=True)"
   ]
  },
  {
   "cell_type": "code",
   "execution_count": 73,
   "metadata": {
    "collapsed": true
   },
   "outputs": [],
   "source": [
    "model.save_weights('92.95.wgt')"
   ]
  },
  {
   "cell_type": "code",
   "execution_count": 83,
   "metadata": {
    "collapsed": true
   },
   "outputs": [],
   "source": [
    "model.load_weights('v1/weights.hdf5')"
   ]
  },
  {
   "cell_type": "code",
   "execution_count": 78,
   "metadata": {
    "collapsed": true
   },
   "outputs": [],
   "source": [
    "reduce_lr = ReduceLROnPlateau(monitor='val_loss', factor=0.1, patience=5, cooldown=2, mode='min')"
   ]
  },
  {
   "cell_type": "code",
   "execution_count": 77,
   "metadata": {},
   "outputs": [
    {
     "name": "stdout",
     "output_type": "stream",
     "text": [
      "Epoch 1/30\n",
      "89984/90048 [============================>.] - ETA: 0s - loss: 0.6935Epoch 00000: val_loss did not improve\n",
      "90048/90048 [==============================] - 858s - loss: 0.6935 - val_loss: 0.3001\n",
      "Epoch 2/30\n",
      "89984/90048 [============================>.] - ETA: 0s - loss: 0.7015Epoch 00001: val_loss did not improve\n",
      "90048/90048 [==============================] - 852s - loss: 0.7013 - val_loss: 0.2836\n",
      "Epoch 3/30\n",
      "89984/90048 [============================>.] - ETA: 0s - loss: 0.6812Epoch 00002: val_loss did not improve\n",
      "90048/90048 [==============================] - 854s - loss: 0.6814 - val_loss: 0.2960\n",
      "Epoch 4/30\n",
      "89984/90048 [============================>.] - ETA: 0s - loss: 0.6681Epoch 00003: val_loss did not improve\n",
      "90048/90048 [==============================] - 853s - loss: 0.6682 - val_loss: 0.2732\n",
      "Epoch 5/30\n",
      "89984/90048 [============================>.] - ETA: 0s - loss: 0.6715Epoch 00004: val_loss did not improve\n",
      "90048/90048 [==============================] - 854s - loss: 0.6715 - val_loss: 0.2611\n",
      "Epoch 6/30\n",
      "89984/90048 [============================>.] - ETA: 0s - loss: 0.6739Epoch 00005: val_loss did not improve\n",
      "90048/90048 [==============================] - 852s - loss: 0.6739 - val_loss: 0.2720\n",
      "Epoch 7/30\n",
      "89984/90048 [============================>.] - ETA: 0s - loss: 0.6778Epoch 00006: val_loss did not improve\n",
      "90048/90048 [==============================] - 854s - loss: 0.6776 - val_loss: 0.2952\n",
      "Epoch 8/30\n",
      "89984/90048 [============================>.] - ETA: 0s - loss: 0.6678Epoch 00007: val_loss did not improve\n",
      "90048/90048 [==============================] - 855s - loss: 0.6679 - val_loss: 0.2808\n",
      "Epoch 9/30\n",
      "89984/90048 [============================>.] - ETA: 0s - loss: 0.6676Epoch 00008: val_loss did not improve\n",
      "90048/90048 [==============================] - 857s - loss: 0.6674 - val_loss: 0.2701\n",
      "Epoch 10/30\n",
      "89984/90048 [============================>.] - ETA: 0s - loss: 0.6597Epoch 00009: val_loss did not improve\n",
      "90048/90048 [==============================] - 856s - loss: 0.6597 - val_loss: 0.3064\n",
      "Epoch 11/30\n",
      "89984/90048 [============================>.] - ETA: 0s - loss: 0.6606Epoch 00010: val_loss did not improve\n",
      "90048/90048 [==============================] - 856s - loss: 0.6608 - val_loss: 0.2949\n",
      "Epoch 12/30\n",
      "89984/90048 [============================>.] - ETA: 0s - loss: 0.6575Epoch 00011: val_loss did not improve\n",
      "90048/90048 [==============================] - 768s - loss: 0.6580 - val_loss: 0.2729\n",
      "Epoch 13/30\n",
      "89984/90048 [============================>.] - ETA: 0s - loss: 0.6614Epoch 00012: val_loss did not improve\n",
      "90048/90048 [==============================] - 763s - loss: 0.6615 - val_loss: 0.2663\n",
      "Epoch 14/30\n",
      "89984/90048 [============================>.] - ETA: 0s - loss: 0.6636Epoch 00013: val_loss did not improve\n",
      "90048/90048 [==============================] - 853s - loss: 0.6637 - val_loss: 0.3146\n",
      "Epoch 15/30\n",
      "89984/90048 [============================>.] - ETA: 0s - loss: 0.6636Epoch 00014: val_loss improved from 0.26092 to 0.25711, saving model to v1/weights.hdf5\n",
      "90048/90048 [==============================] - 855s - loss: 0.6635 - val_loss: 0.2571\n",
      "Epoch 16/30\n",
      "89984/90048 [============================>.] - ETA: 0s - loss: 0.6682Epoch 00015: val_loss did not improve\n",
      "90048/90048 [==============================] - 855s - loss: 0.6681 - val_loss: 0.2752\n",
      "Epoch 17/30\n",
      "89984/90048 [============================>.] - ETA: 0s - loss: 0.6660Epoch 00016: val_loss did not improve\n",
      "90048/90048 [==============================] - 855s - loss: 0.6657 - val_loss: 0.2670\n",
      "Epoch 18/30\n",
      "89984/90048 [============================>.] - ETA: 0s - loss: 0.6679Epoch 00017: val_loss did not improve\n",
      "90048/90048 [==============================] - 855s - loss: 0.6677 - val_loss: 0.2645\n",
      "Epoch 19/30\n",
      "89984/90048 [============================>.] - ETA: 0s - loss: 1.0712Epoch 00018: val_loss did not improve\n",
      "90048/90048 [==============================] - 856s - loss: 1.0708 - val_loss: 0.2719\n",
      "Epoch 20/30\n",
      "41600/90048 [============>.................] - ETA: 450s - loss: 0.6592"
     ]
    },
    {
     "ename": "KeyboardInterrupt",
     "evalue": "",
     "output_type": "error",
     "traceback": [
      "\u001b[0;31m---------------------------------------------------------------------------\u001b[0m",
      "\u001b[0;31mKeyboardInterrupt\u001b[0m                         Traceback (most recent call last)",
      "\u001b[0;32m<ipython-input-77-af6f487ed8ee>\u001b[0m in \u001b[0;36m<module>\u001b[0;34m()\u001b[0m\n\u001b[1;32m      1\u001b[0m \u001b[0mmodel\u001b[0m\u001b[0;34m.\u001b[0m\u001b[0mcompile\u001b[0m\u001b[0;34m(\u001b[0m\u001b[0mloss\u001b[0m\u001b[0;34m=\u001b[0m\u001b[0;34m{\u001b[0m\u001b[0;34m'ctc'\u001b[0m\u001b[0;34m:\u001b[0m \u001b[0;32mlambda\u001b[0m \u001b[0my_true\u001b[0m\u001b[0;34m,\u001b[0m \u001b[0my_pred\u001b[0m\u001b[0;34m:\u001b[0m \u001b[0my_pred\u001b[0m\u001b[0;34m}\u001b[0m\u001b[0;34m,\u001b[0m \u001b[0moptimizer\u001b[0m\u001b[0;34m=\u001b[0m\u001b[0;34m'rmsprop'\u001b[0m\u001b[0;34m)\u001b[0m\u001b[0;34m\u001b[0m\u001b[0m\n\u001b[1;32m      2\u001b[0m history2 = model.fit_generator(trn_gen(), x_trn_len, nb_epoch=30, callbacks=[checkpointer],\n\u001b[0;32m----> 3\u001b[0;31m                     validation_data=val_data(), nb_val_samples=x_val_len)\n\u001b[0m\u001b[1;32m      4\u001b[0m \u001b[0mevaluator\u001b[0m\u001b[0;34m.\u001b[0m\u001b[0mon_epoch_end\u001b[0m\u001b[0;34m(\u001b[0m\u001b[0;36m30\u001b[0m\u001b[0;34m)\u001b[0m\u001b[0;34m\u001b[0m\u001b[0m\n",
      "\u001b[0;32m/home/viiv/anaconda2/lib/python2.7/site-packages/keras/engine/training.pyc\u001b[0m in \u001b[0;36mfit_generator\u001b[0;34m(self, generator, samples_per_epoch, nb_epoch, verbose, callbacks, validation_data, nb_val_samples, class_weight, max_q_size, nb_worker, pickle_safe, initial_epoch)\u001b[0m\n\u001b[1;32m   1555\u001b[0m                     outs = self.train_on_batch(x, y,\n\u001b[1;32m   1556\u001b[0m                                                \u001b[0msample_weight\u001b[0m\u001b[0;34m=\u001b[0m\u001b[0msample_weight\u001b[0m\u001b[0;34m,\u001b[0m\u001b[0;34m\u001b[0m\u001b[0m\n\u001b[0;32m-> 1557\u001b[0;31m                                                class_weight=class_weight)\n\u001b[0m\u001b[1;32m   1558\u001b[0m \u001b[0;34m\u001b[0m\u001b[0m\n\u001b[1;32m   1559\u001b[0m                     \u001b[0;32mif\u001b[0m \u001b[0;32mnot\u001b[0m \u001b[0misinstance\u001b[0m\u001b[0;34m(\u001b[0m\u001b[0mouts\u001b[0m\u001b[0;34m,\u001b[0m \u001b[0mlist\u001b[0m\u001b[0;34m)\u001b[0m\u001b[0;34m:\u001b[0m\u001b[0;34m\u001b[0m\u001b[0m\n",
      "\u001b[0;32m/home/viiv/anaconda2/lib/python2.7/site-packages/keras/engine/training.pyc\u001b[0m in \u001b[0;36mtrain_on_batch\u001b[0;34m(self, x, y, sample_weight, class_weight)\u001b[0m\n\u001b[1;32m   1318\u001b[0m             \u001b[0mins\u001b[0m \u001b[0;34m=\u001b[0m \u001b[0mx\u001b[0m \u001b[0;34m+\u001b[0m \u001b[0my\u001b[0m \u001b[0;34m+\u001b[0m \u001b[0msample_weights\u001b[0m\u001b[0;34m\u001b[0m\u001b[0m\n\u001b[1;32m   1319\u001b[0m         \u001b[0mself\u001b[0m\u001b[0;34m.\u001b[0m\u001b[0m_make_train_function\u001b[0m\u001b[0;34m(\u001b[0m\u001b[0;34m)\u001b[0m\u001b[0;34m\u001b[0m\u001b[0m\n\u001b[0;32m-> 1320\u001b[0;31m         \u001b[0moutputs\u001b[0m \u001b[0;34m=\u001b[0m \u001b[0mself\u001b[0m\u001b[0;34m.\u001b[0m\u001b[0mtrain_function\u001b[0m\u001b[0;34m(\u001b[0m\u001b[0mins\u001b[0m\u001b[0;34m)\u001b[0m\u001b[0;34m\u001b[0m\u001b[0m\n\u001b[0m\u001b[1;32m   1321\u001b[0m         \u001b[0;32mif\u001b[0m \u001b[0mlen\u001b[0m\u001b[0;34m(\u001b[0m\u001b[0moutputs\u001b[0m\u001b[0;34m)\u001b[0m \u001b[0;34m==\u001b[0m \u001b[0;36m1\u001b[0m\u001b[0;34m:\u001b[0m\u001b[0;34m\u001b[0m\u001b[0m\n\u001b[1;32m   1322\u001b[0m             \u001b[0;32mreturn\u001b[0m \u001b[0moutputs\u001b[0m\u001b[0;34m[\u001b[0m\u001b[0;36m0\u001b[0m\u001b[0;34m]\u001b[0m\u001b[0;34m\u001b[0m\u001b[0m\n",
      "\u001b[0;32m/home/viiv/anaconda2/lib/python2.7/site-packages/keras/backend/tensorflow_backend.pyc\u001b[0m in \u001b[0;36m__call__\u001b[0;34m(self, inputs)\u001b[0m\n\u001b[1;32m   1941\u001b[0m         \u001b[0msession\u001b[0m \u001b[0;34m=\u001b[0m \u001b[0mget_session\u001b[0m\u001b[0;34m(\u001b[0m\u001b[0;34m)\u001b[0m\u001b[0;34m\u001b[0m\u001b[0m\n\u001b[1;32m   1942\u001b[0m         updated = session.run(self.outputs + [self.updates_op],\n\u001b[0;32m-> 1943\u001b[0;31m                               feed_dict=feed_dict)\n\u001b[0m\u001b[1;32m   1944\u001b[0m         \u001b[0;32mreturn\u001b[0m \u001b[0mupdated\u001b[0m\u001b[0;34m[\u001b[0m\u001b[0;34m:\u001b[0m\u001b[0mlen\u001b[0m\u001b[0;34m(\u001b[0m\u001b[0mself\u001b[0m\u001b[0;34m.\u001b[0m\u001b[0moutputs\u001b[0m\u001b[0;34m)\u001b[0m\u001b[0;34m]\u001b[0m\u001b[0;34m\u001b[0m\u001b[0m\n\u001b[1;32m   1945\u001b[0m \u001b[0;34m\u001b[0m\u001b[0m\n",
      "\u001b[0;32m/home/viiv/anaconda2/lib/python2.7/site-packages/tensorflow/python/client/session.pyc\u001b[0m in \u001b[0;36mrun\u001b[0;34m(self, fetches, feed_dict, options, run_metadata)\u001b[0m\n\u001b[1;32m    715\u001b[0m     \u001b[0;32mtry\u001b[0m\u001b[0;34m:\u001b[0m\u001b[0;34m\u001b[0m\u001b[0m\n\u001b[1;32m    716\u001b[0m       result = self._run(None, fetches, feed_dict, options_ptr,\n\u001b[0;32m--> 717\u001b[0;31m                          run_metadata_ptr)\n\u001b[0m\u001b[1;32m    718\u001b[0m       \u001b[0;32mif\u001b[0m \u001b[0mrun_metadata\u001b[0m\u001b[0;34m:\u001b[0m\u001b[0;34m\u001b[0m\u001b[0m\n\u001b[1;32m    719\u001b[0m         \u001b[0mproto_data\u001b[0m \u001b[0;34m=\u001b[0m \u001b[0mtf_session\u001b[0m\u001b[0;34m.\u001b[0m\u001b[0mTF_GetBuffer\u001b[0m\u001b[0;34m(\u001b[0m\u001b[0mrun_metadata_ptr\u001b[0m\u001b[0;34m)\u001b[0m\u001b[0;34m\u001b[0m\u001b[0m\n",
      "\u001b[0;32m/home/viiv/anaconda2/lib/python2.7/site-packages/tensorflow/python/client/session.pyc\u001b[0m in \u001b[0;36m_run\u001b[0;34m(self, handle, fetches, feed_dict, options, run_metadata)\u001b[0m\n\u001b[1;32m    913\u001b[0m     \u001b[0;32mif\u001b[0m \u001b[0mfinal_fetches\u001b[0m \u001b[0;32mor\u001b[0m \u001b[0mfinal_targets\u001b[0m\u001b[0;34m:\u001b[0m\u001b[0;34m\u001b[0m\u001b[0m\n\u001b[1;32m    914\u001b[0m       results = self._do_run(handle, final_targets, final_fetches,\n\u001b[0;32m--> 915\u001b[0;31m                              feed_dict_string, options, run_metadata)\n\u001b[0m\u001b[1;32m    916\u001b[0m     \u001b[0;32melse\u001b[0m\u001b[0;34m:\u001b[0m\u001b[0;34m\u001b[0m\u001b[0m\n\u001b[1;32m    917\u001b[0m       \u001b[0mresults\u001b[0m \u001b[0;34m=\u001b[0m \u001b[0;34m[\u001b[0m\u001b[0;34m]\u001b[0m\u001b[0;34m\u001b[0m\u001b[0m\n",
      "\u001b[0;32m/home/viiv/anaconda2/lib/python2.7/site-packages/tensorflow/python/client/session.pyc\u001b[0m in \u001b[0;36m_do_run\u001b[0;34m(self, handle, target_list, fetch_list, feed_dict, options, run_metadata)\u001b[0m\n\u001b[1;32m    963\u001b[0m     \u001b[0;32mif\u001b[0m \u001b[0mhandle\u001b[0m \u001b[0;32mis\u001b[0m \u001b[0mNone\u001b[0m\u001b[0;34m:\u001b[0m\u001b[0;34m\u001b[0m\u001b[0m\n\u001b[1;32m    964\u001b[0m       return self._do_call(_run_fn, self._session, feed_dict, fetch_list,\n\u001b[0;32m--> 965\u001b[0;31m                            target_list, options, run_metadata)\n\u001b[0m\u001b[1;32m    966\u001b[0m     \u001b[0;32melse\u001b[0m\u001b[0;34m:\u001b[0m\u001b[0;34m\u001b[0m\u001b[0m\n\u001b[1;32m    967\u001b[0m       return self._do_call(_prun_fn, self._session, handle, feed_dict,\n",
      "\u001b[0;32m/home/viiv/anaconda2/lib/python2.7/site-packages/tensorflow/python/client/session.pyc\u001b[0m in \u001b[0;36m_do_call\u001b[0;34m(self, fn, *args)\u001b[0m\n\u001b[1;32m    970\u001b[0m   \u001b[0;32mdef\u001b[0m \u001b[0m_do_call\u001b[0m\u001b[0;34m(\u001b[0m\u001b[0mself\u001b[0m\u001b[0;34m,\u001b[0m \u001b[0mfn\u001b[0m\u001b[0;34m,\u001b[0m \u001b[0;34m*\u001b[0m\u001b[0margs\u001b[0m\u001b[0;34m)\u001b[0m\u001b[0;34m:\u001b[0m\u001b[0;34m\u001b[0m\u001b[0m\n\u001b[1;32m    971\u001b[0m     \u001b[0;32mtry\u001b[0m\u001b[0;34m:\u001b[0m\u001b[0;34m\u001b[0m\u001b[0m\n\u001b[0;32m--> 972\u001b[0;31m       \u001b[0;32mreturn\u001b[0m \u001b[0mfn\u001b[0m\u001b[0;34m(\u001b[0m\u001b[0;34m*\u001b[0m\u001b[0margs\u001b[0m\u001b[0;34m)\u001b[0m\u001b[0;34m\u001b[0m\u001b[0m\n\u001b[0m\u001b[1;32m    973\u001b[0m     \u001b[0;32mexcept\u001b[0m \u001b[0merrors\u001b[0m\u001b[0;34m.\u001b[0m\u001b[0mOpError\u001b[0m \u001b[0;32mas\u001b[0m \u001b[0me\u001b[0m\u001b[0;34m:\u001b[0m\u001b[0;34m\u001b[0m\u001b[0m\n\u001b[1;32m    974\u001b[0m       \u001b[0mmessage\u001b[0m \u001b[0;34m=\u001b[0m \u001b[0mcompat\u001b[0m\u001b[0;34m.\u001b[0m\u001b[0mas_text\u001b[0m\u001b[0;34m(\u001b[0m\u001b[0me\u001b[0m\u001b[0;34m.\u001b[0m\u001b[0mmessage\u001b[0m\u001b[0;34m)\u001b[0m\u001b[0;34m\u001b[0m\u001b[0m\n",
      "\u001b[0;32m/home/viiv/anaconda2/lib/python2.7/site-packages/tensorflow/python/client/session.pyc\u001b[0m in \u001b[0;36m_run_fn\u001b[0;34m(session, feed_dict, fetch_list, target_list, options, run_metadata)\u001b[0m\n\u001b[1;32m    952\u001b[0m         return tf_session.TF_Run(session, options,\n\u001b[1;32m    953\u001b[0m                                  \u001b[0mfeed_dict\u001b[0m\u001b[0;34m,\u001b[0m \u001b[0mfetch_list\u001b[0m\u001b[0;34m,\u001b[0m \u001b[0mtarget_list\u001b[0m\u001b[0;34m,\u001b[0m\u001b[0;34m\u001b[0m\u001b[0m\n\u001b[0;32m--> 954\u001b[0;31m                                  status, run_metadata)\n\u001b[0m\u001b[1;32m    955\u001b[0m \u001b[0;34m\u001b[0m\u001b[0m\n\u001b[1;32m    956\u001b[0m     \u001b[0;32mdef\u001b[0m \u001b[0m_prun_fn\u001b[0m\u001b[0;34m(\u001b[0m\u001b[0msession\u001b[0m\u001b[0;34m,\u001b[0m \u001b[0mhandle\u001b[0m\u001b[0;34m,\u001b[0m \u001b[0mfeed_dict\u001b[0m\u001b[0;34m,\u001b[0m \u001b[0mfetch_list\u001b[0m\u001b[0;34m)\u001b[0m\u001b[0;34m:\u001b[0m\u001b[0;34m\u001b[0m\u001b[0m\n",
      "\u001b[0;31mKeyboardInterrupt\u001b[0m: "
     ]
    }
   ],
   "source": [
    "history2 = model.fit_generator(trn_gen(), x_trn_len, nb_epoch=30, callbacks=[checkpointer, reduce_lr, EarlyStopping(patience=10)],\n",
    "                    validation_data=val_data(), nb_val_samples=x_val_len)\n",
    "evaluator.on_epoch_end(30)"
   ]
  },
  {
   "cell_type": "code",
   "execution_count": 84,
   "metadata": {},
   "outputs": [
    {
     "name": "stdout",
     "output_type": "stream",
     "text": [
      " acc: 93.9739578076% long: 0% short: 93.9739578076%\n"
     ]
    }
   ],
   "source": [
    "evaluator.on_epoch_end(30)"
   ]
  },
  {
   "cell_type": "markdown",
   "metadata": {},
   "source": [
    "### two 256 rnn"
   ]
  },
  {
   "cell_type": "code",
   "execution_count": null,
   "metadata": {
    "collapsed": true
   },
   "outputs": [],
   "source": []
  },
  {
   "cell_type": "code",
   "execution_count": 50,
   "metadata": {},
   "outputs": [
    {
     "name": "stdout",
     "output_type": "stream",
     "text": [
      "Epoch 1/10\n",
      "9024/8992 [==============================] - 104s - loss: 92.5853   \n",
      "Epoch 2/10\n",
      "9024/8992 [==============================] - 99s - loss: 49.2063    \n",
      "Epoch 3/10\n",
      "9024/8992 [==============================] - 100s - loss: 23.3526   \n",
      "Epoch 4/10\n",
      "9024/8992 [==============================] - 99s - loss: 13.9416    \n",
      "Epoch 5/10\n",
      "9024/8992 [==============================] - 100s - loss: 10.3580   \n",
      "Epoch 6/10\n",
      "9024/8992 [==============================] - 100s - loss: 8.3825   \n",
      "Epoch 7/10\n",
      "9024/8992 [==============================] - 99s - loss: 7.0532    \n",
      "Epoch 8/10\n",
      "9024/8992 [==============================] - 99s - loss: 6.2068    \n",
      "Epoch 9/10\n",
      "9024/8992 [==============================] - 99s - loss: 5.5974    \n",
      "Epoch 10/10\n",
      "9024/8992 [==============================] - 100s - loss: 5.0745   \n"
     ]
    }
   ],
   "source": [
    "\n",
    "model.compile(loss={'ctc': lambda y_true, y_pred: y_pred}, optimizer='rmsprop')\n",
    "history1 = model.fit_generator(trn_gen(), x_trn_len, nb_epoch=10)"
   ]
  },
  {
   "cell_type": "code",
   "execution_count": 70,
   "metadata": {},
   "outputs": [
    {
     "name": "stdout",
     "output_type": "stream",
     "text": [
      "10020/10020 [==============================] - 22s    \n"
     ]
    },
    {
     "data": {
      "text/plain": [
       "2.1367193345300213"
      ]
     },
     "execution_count": 70,
     "metadata": {},
     "output_type": "execute_result"
    }
   ],
   "source": [
    "model.evaluate(vx, xy)"
   ]
  },
  {
   "cell_type": "code",
   "execution_count": 72,
   "metadata": {},
   "outputs": [
    {
     "name": "stdout",
     "output_type": "stream",
     "text": [
      "10016/10020 [============================>.] - ETA: 0s1.39598255248\n",
      " acc: 71.9161676647% long: 0% short: 71.9161676647%\n"
     ]
    }
   ],
   "source": [
    "print(model.evaluate(vx, xy))\n",
    "evaluator.on_epoch_end(10)"
   ]
  },
  {
   "cell_type": "code",
   "execution_count": 74,
   "metadata": {},
   "outputs": [
    {
     "name": "stdout",
     "output_type": "stream",
     "text": [
      "10016/10020 [============================>.] - ETA: 0s1.1713622506\n",
      " acc: 76.876247505% long: 0% short: 76.876247505%\n"
     ]
    }
   ],
   "source": [
    "print(model.evaluate(vx, xy))\n",
    "evaluator.on_epoch_end(10)"
   ]
  },
  {
   "cell_type": "code",
   "execution_count": 73,
   "metadata": {},
   "outputs": [
    {
     "name": "stdout",
     "output_type": "stream",
     "text": [
      "Epoch 1/15\n",
      "9024/8992 [==============================] - 67s - loss: 2.6341    \n",
      "Epoch 2/15\n",
      "9024/8992 [==============================] - 66s - loss: 2.7714    \n",
      "Epoch 3/15\n",
      "9024/8992 [==============================] - 66s - loss: 2.6891    \n",
      "Epoch 4/15\n",
      "9024/8992 [==============================] - 65s - loss: 2.4872    \n",
      "Epoch 5/15\n",
      "9024/8992 [==============================] - 66s - loss: 2.5630    \n",
      "Epoch 6/15\n",
      "9024/8992 [==============================] - 66s - loss: 2.4936    \n",
      "Epoch 7/15\n",
      "9024/8992 [==============================] - 66s - loss: 2.5310    \n",
      "Epoch 8/15\n",
      "9024/8992 [==============================] - 66s - loss: 2.5604    \n",
      "Epoch 9/15\n",
      "9024/8992 [==============================] - 65s - loss: 2.4137    \n",
      "Epoch 10/15\n",
      "9024/8992 [==============================] - 66s - loss: 2.4536    \n",
      "Epoch 11/15\n",
      "9024/8992 [==============================] - 66s - loss: 2.2648    \n",
      "Epoch 12/15\n",
      "9024/8992 [==============================] - 66s - loss: 2.3858    \n",
      "Epoch 13/15\n",
      "9024/8992 [==============================] - 66s - loss: 2.4061    \n",
      "Epoch 14/15\n",
      "9024/8992 [==============================] - 66s - loss: 2.2339    \n",
      "Epoch 15/15\n",
      "9024/8992 [==============================] - 66s - loss: 2.3013    \n"
     ]
    }
   ],
   "source": [
    "history1 = model.fit_generator(trn_gen(), x_trn_len, nb_epoch=15)\n"
   ]
  },
  {
   "cell_type": "code",
   "execution_count": 71,
   "metadata": {},
   "outputs": [
    {
     "name": "stdout",
     "output_type": "stream",
     "text": [
      "Epoch 1/15\n",
      "9024/8992 [==============================] - 67s - loss: 3.7914    \n",
      "Epoch 2/15\n",
      "9024/8992 [==============================] - 66s - loss: 3.7569    \n",
      "Epoch 3/15\n",
      "9024/8992 [==============================] - 66s - loss: 3.5893    \n",
      "Epoch 4/15\n",
      "9024/8992 [==============================] - 66s - loss: 3.3820    \n",
      "Epoch 5/15\n",
      "9024/8992 [==============================] - 66s - loss: 3.3403    \n",
      "Epoch 6/15\n",
      "9024/8992 [==============================] - 66s - loss: 3.2328    \n",
      "Epoch 7/15\n",
      "9024/8992 [==============================] - 66s - loss: 3.1929    \n",
      "Epoch 8/15\n",
      "9024/8992 [==============================] - 66s - loss: 3.1560    \n",
      "Epoch 9/15\n",
      "9024/8992 [==============================] - 66s - loss: 3.0409    \n",
      "Epoch 10/15\n",
      "9024/8992 [==============================] - 66s - loss: 3.0977    \n",
      "Epoch 11/15\n",
      "9024/8992 [==============================] - 66s - loss: 2.9097    \n",
      "Epoch 12/15\n",
      "9024/8992 [==============================] - 66s - loss: 2.9937    \n",
      "Epoch 13/15\n",
      "9024/8992 [==============================] - 65s - loss: 2.8457    \n",
      "Epoch 14/15\n",
      "9024/8992 [==============================] - 66s - loss: 2.7632    \n",
      "Epoch 15/15\n",
      "9024/8992 [==============================] - 66s - loss: 2.8232    \n"
     ]
    }
   ],
   "source": [
    "history1 = model.fit_generator(trn_gen(), x_trn_len, nb_epoch=15)\n"
   ]
  },
  {
   "cell_type": "code",
   "execution_count": null,
   "metadata": {
    "scrolled": true
   },
   "outputs": [
    {
     "name": "stdout",
     "output_type": "stream",
     "text": [
      "Epoch 1/15\n",
      "9024/8992 [==============================] - 71s - loss: 89.9057    \n",
      "Epoch 2/15\n",
      "9024/8992 [==============================] - 65s - loss: 31.5552    \n",
      "Epoch 3/15\n",
      "9024/8992 [==============================] - 67s - loss: 10.7403    \n",
      "Epoch 5/15\n",
      "9024/8992 [==============================] - 66s - loss: 8.6932    \n",
      "Epoch 6/15\n",
      "9024/8992 [==============================] - 66s - loss: 7.3043    \n",
      "Epoch 7/15\n",
      "9024/8992 [==============================] - 66s - loss: 6.3577    \n",
      "Epoch 8/15\n",
      "9024/8992 [==============================] - 66s - loss: 5.8425    \n",
      "Epoch 9/15\n",
      "9024/8992 [==============================] - 66s - loss: 5.3079    \n",
      "Epoch 10/15\n",
      "9024/8992 [==============================] - 67s - loss: 5.0625    \n",
      "Epoch 11/15\n",
      "9024/8992 [==============================] - 66s - loss: 4.6533    \n",
      "Epoch 12/15\n",
      "9024/8992 [==============================] - 66s - loss: 4.4005    \n",
      "Epoch 13/15\n",
      "9024/8992 [==============================] - 66s - loss: 4.3810    \n",
      "Epoch 14/15\n",
      "9024/8992 [==============================] - 66s - loss: 3.9948    \n",
      "Epoch 15/15\n",
      "9024/8992 [==============================] - 66s - loss: 4.0135    \n",
      "10020/10020 [==============================] - 26s    \n",
      " acc: 62.3453093812% long: 0% short: 62.3453093812%\n"
     ]
    }
   ],
   "source": [
    "model.compile(loss={'ctc': lambda y_true, y_pred: y_pred}, optimizer='rmsprop')\n",
    "history1 = model.fit_generator(trn_gen(), x_trn_len, nb_epoch=15)\n",
    "vx, xy = val_data()\n",
    "print(model.evaluate(vx, xy))\n",
    "evaluator.on_epoch_end(10)"
   ]
  },
  {
   "cell_type": "code",
   "execution_count": 88,
   "metadata": {},
   "outputs": [
    {
     "name": "stdout",
     "output_type": "stream",
     "text": [
      "Epoch 1/15\n",
      "9024/8992 [==============================] - 74s - loss: 90.3509    \n",
      "Epoch 2/15\n",
      "9024/8992 [==============================] - 69s - loss: 46.0820    \n",
      "Epoch 3/15\n",
      "9024/8992 [==============================] - 69s - loss: 21.4697    \n",
      "Epoch 4/15\n",
      "9024/8992 [==============================] - 70s - loss: 14.2570    \n",
      "Epoch 5/15\n",
      "9024/8992 [==============================] - 69s - loss: 10.8184    \n",
      "Epoch 6/15\n",
      "9024/8992 [==============================] - 69s - loss: 8.8233    \n",
      "Epoch 7/15\n",
      "9024/8992 [==============================] - 69s - loss: 7.7019    \n",
      "Epoch 8/15\n",
      "9024/8992 [==============================] - 69s - loss: 6.8158    \n",
      "Epoch 9/15\n",
      "9024/8992 [==============================] - 68s - loss: 6.2549    \n",
      "Epoch 10/15\n",
      "9024/8992 [==============================] - 69s - loss: 5.7015    \n",
      "Epoch 11/15\n",
      "9024/8992 [==============================] - 69s - loss: 5.3110    \n",
      "Epoch 12/15\n",
      "9024/8992 [==============================] - 69s - loss: 5.3094    \n",
      "Epoch 13/15\n",
      "9024/8992 [==============================] - 68s - loss: 4.9226    \n",
      "Epoch 14/15\n",
      "9024/8992 [==============================] - 69s - loss: 4.6509    \n",
      "Epoch 15/15\n",
      "9024/8992 [==============================] - 68s - loss: 4.3832    \n",
      "10020/10020 [==============================] - 28s    \n",
      "2.60507349254\n",
      " acc: 55.8083832335% long: 0% short: 55.8083832335%\n"
     ]
    }
   ],
   "source": [
    "model.compile(loss={'ctc': lambda y_true, y_pred: y_pred}, optimizer='adam')\n",
    "history1 = model.fit_generator(trn_gen(), x_trn_len, nb_epoch=15)\n",
    "vx, xy = val_data()\n",
    "print(model.evaluate(vx, xy))\n",
    "evaluator.on_epoch_end(10)"
   ]
  },
  {
   "cell_type": "markdown",
   "metadata": {},
   "source": [
    "### single 512 rnn"
   ]
  },
  {
   "cell_type": "code",
   "execution_count": 58,
   "metadata": {},
   "outputs": [
    {
     "name": "stdout",
     "output_type": "stream",
     "text": [
      "Epoch 1/15\n",
      "9024/8992 [==============================] - 72s - loss: 94.5323    \n",
      "Epoch 2/15\n",
      "9024/8992 [==============================] - 67s - loss: 50.8102    \n",
      "Epoch 3/15\n",
      "9024/8992 [==============================] - 67s - loss: 23.5489    \n",
      "Epoch 4/15\n",
      "9024/8992 [==============================] - 68s - loss: 13.7862    \n",
      "Epoch 5/15\n",
      "9024/8992 [==============================] - 67s - loss: 9.9866    \n",
      "Epoch 6/15\n",
      "9024/8992 [==============================] - 67s - loss: 8.0732    \n",
      "Epoch 7/15\n",
      "9024/8992 [==============================] - 68s - loss: 6.7811    \n",
      "Epoch 8/15\n",
      "9024/8992 [==============================] - 67s - loss: 5.9955    \n",
      "Epoch 9/15\n",
      "9024/8992 [==============================] - 68s - loss: 5.4649    \n",
      "Epoch 10/15\n",
      "9024/8992 [==============================] - 67s - loss: 5.0845    \n",
      "Epoch 11/15\n",
      "9024/8992 [==============================] - 68s - loss: 4.6171    \n",
      "Epoch 12/15\n",
      "9024/8992 [==============================] - 67s - loss: 4.4293    \n",
      "Epoch 13/15\n",
      "9024/8992 [==============================] - 67s - loss: 4.3222    \n",
      "Epoch 14/15\n",
      "9024/8992 [==============================] - 67s - loss: 3.8449    \n",
      "Epoch 15/15\n",
      "9024/8992 [==============================] - 68s - loss: 3.7608    \n",
      "10020/10020 [==============================] - 26s    \n"
     ]
    },
    {
     "data": {
      "text/plain": [
       "2.0100703792895622"
      ]
     },
     "execution_count": 58,
     "metadata": {},
     "output_type": "execute_result"
    }
   ],
   "source": [
    "\n",
    "model.compile(loss={'ctc': lambda y_true, y_pred: y_pred}, optimizer='rmsprop')\n",
    "history1 = model.fit_generator(trn_gen(), x_trn_len, nb_epoch=15)\n",
    "vx, xy = val_data()\n",
    "model.evaluate(vx, xy)"
   ]
  },
  {
   "cell_type": "code",
   "execution_count": 59,
   "metadata": {},
   "outputs": [
    {
     "name": "stdout",
     "output_type": "stream",
     "text": [
      " acc: 59.8103792415% long: 0% short: 59.8103792415%\n"
     ]
    }
   ],
   "source": [
    "evaluator.on_epoch_end(10)"
   ]
  },
  {
   "cell_type": "markdown",
   "metadata": {},
   "source": [
    "# single 256 rnn\n"
   ]
  },
  {
   "cell_type": "code",
   "execution_count": 34,
   "metadata": {},
   "outputs": [
    {
     "name": "stdout",
     "output_type": "stream",
     "text": [
      "Epoch 1/4\n",
      "9024/8992 [==============================] - 70s - loss: 86.9000    \n",
      "Epoch 2/4\n",
      "9024/8992 [==============================] - 67s - loss: 44.0234    \n",
      "Epoch 3/4\n",
      "9024/8992 [==============================] - 66s - loss: 21.6733    \n",
      "Epoch 4/4\n",
      "9024/8992 [==============================] - 66s - loss: 13.9119    \n",
      "10020/10020 [==============================] - 24s    \n"
     ]
    },
    {
     "data": {
      "text/plain": [
       "8.211456847809508"
      ]
     },
     "execution_count": 34,
     "metadata": {},
     "output_type": "execute_result"
    }
   ],
   "source": [
    "model.compile(loss={'ctc': lambda y_true, y_pred: y_pred}, optimizer='rmsprop')\n",
    "history1 = model.fit_generator(trn_gen(), x_trn_len, nb_epoch=4)\n",
    "\n"
   ]
  },
  {
   "cell_type": "code",
   "execution_count": 35,
   "metadata": {},
   "outputs": [
    {
     "name": "stdout",
     "output_type": "stream",
     "text": [
      "Epoch 1/4\n",
      "9024/8992 [==============================] - 70s - loss: 11.1183    \n",
      "Epoch 2/4\n",
      "9024/8992 [==============================] - 67s - loss: 8.7139    \n",
      "Epoch 3/4\n",
      "9024/8992 [==============================] - 67s - loss: 7.4312    \n",
      "Epoch 4/4\n",
      "9024/8992 [==============================] - 66s - loss: 6.4387    \n"
     ]
    }
   ],
   "source": [
    "history1 = model.fit_generator(trn_gen(), x_trn_len, nb_epoch=4)"
   ]
  },
  {
   "cell_type": "code",
   "execution_count": 37,
   "metadata": {},
   "outputs": [
    {
     "name": "stdout",
     "output_type": "stream",
     "text": [
      "Epoch 1/4\n",
      "9024/8992 [==============================] - 68s - loss: 5.8657    \n",
      "Epoch 2/4\n",
      "9024/8992 [==============================] - 67s - loss: 5.5964    \n",
      "Epoch 3/4\n",
      "9024/8992 [==============================] - 67s - loss: 5.1992    \n",
      "Epoch 4/4\n",
      "9024/8992 [==============================] - 67s - loss: 4.6448    \n"
     ]
    }
   ],
   "source": [
    "history1 = model.fit_generator(trn_gen(), x_trn_len, nb_epoch=4)"
   ]
  },
  {
   "cell_type": "code",
   "execution_count": 39,
   "metadata": {},
   "outputs": [
    {
     "name": "stdout",
     "output_type": "stream",
     "text": [
      "Epoch 1/4\n",
      "9024/8992 [==============================] - 68s - loss: 4.3601    \n",
      "Epoch 2/4\n",
      "9024/8992 [==============================] - 67s - loss: 4.2679    \n",
      "Epoch 3/4\n",
      "9024/8992 [==============================] - 67s - loss: 4.0454    \n",
      "Epoch 4/4\n",
      "9024/8992 [==============================] - 66s - loss: 3.8637    \n"
     ]
    }
   ],
   "source": [
    "history1 = model.fit_generator(trn_gen(), x_trn_len, nb_epoch=4)"
   ]
  },
  {
   "cell_type": "code",
   "execution_count": 40,
   "metadata": {},
   "outputs": [
    {
     "name": "stdout",
     "output_type": "stream",
     "text": [
      "10020/10020 [==============================] - 24s    \n"
     ]
    },
    {
     "data": {
      "text/plain": [
       "2.4675790379861158"
      ]
     },
     "execution_count": 40,
     "metadata": {},
     "output_type": "execute_result"
    }
   ],
   "source": [
    "vx, xy = val_data()\n",
    "model.evaluate(vx, xy)"
   ]
  },
  {
   "cell_type": "code",
   "execution_count": 41,
   "metadata": {},
   "outputs": [
    {
     "name": "stdout",
     "output_type": "stream",
     "text": [
      " acc: 52.8542914172% long: 0% short: 52.8542914172%\n"
     ]
    }
   ],
   "source": [
    "evaluator.on_epoch_end(10)"
   ]
  },
  {
   "cell_type": "code",
   "execution_count": 21,
   "metadata": {
    "scrolled": true
   },
   "outputs": [
    {
     "name": "stdout",
     "output_type": "stream",
     "text": [
      "Epoch 1/30\n",
      "8960/8992 [============================>.] - ETA: 0s - loss: 97.9486"
     ]
    },
    {
     "name": "stderr",
     "output_type": "stream",
     "text": [
      "/home/viiv/anaconda2/lib/python2.7/site-packages/keras/engine/training.py:1573: UserWarning: Epoch comprised more than `samples_per_epoch` samples, which might affect learning results. Set `samples_per_epoch` correctly to avoid this warning.\n",
      "  warnings.warn('Epoch comprised more than '\n"
     ]
    },
    {
     "name": "stdout",
     "output_type": "stream",
     "text": [
      "9024/8992 [==============================] - 162s - loss: 97.7789 - val_loss: 100.2675\n",
      "Epoch 2/30\n",
      "9024/8992 [==============================] - 157s - loss: 57.7083 - val_loss: 50.3655\n",
      "Epoch 3/30\n",
      "9024/8992 [==============================] - 157s - loss: 34.5343 - val_loss: 25.3586\n",
      "Epoch 4/30\n",
      "1984/8992 [=====>........................] - ETA: 95s - loss: 24.3038"
     ]
    },
    {
     "ename": "KeyboardInterrupt",
     "evalue": "",
     "output_type": "error",
     "traceback": [
      "\u001b[0;31m---------------------------------------------------------------------------\u001b[0m",
      "\u001b[0;31mKeyboardInterrupt\u001b[0m                         Traceback (most recent call last)",
      "\u001b[0;32m<ipython-input-21-149b59ebded8>\u001b[0m in \u001b[0;36m<module>\u001b[0;34m()\u001b[0m\n\u001b[1;32m      1\u001b[0m \u001b[0mmodel\u001b[0m\u001b[0;34m.\u001b[0m\u001b[0mcompile\u001b[0m\u001b[0;34m(\u001b[0m\u001b[0mloss\u001b[0m\u001b[0;34m=\u001b[0m\u001b[0;34m{\u001b[0m\u001b[0;34m'ctc'\u001b[0m\u001b[0;34m:\u001b[0m \u001b[0;32mlambda\u001b[0m \u001b[0my_true\u001b[0m\u001b[0;34m,\u001b[0m \u001b[0my_pred\u001b[0m\u001b[0;34m:\u001b[0m \u001b[0my_pred\u001b[0m\u001b[0;34m}\u001b[0m\u001b[0;34m,\u001b[0m \u001b[0moptimizer\u001b[0m\u001b[0;34m=\u001b[0m\u001b[0;34m'rmsprop'\u001b[0m\u001b[0;34m)\u001b[0m\u001b[0;34m\u001b[0m\u001b[0m\n\u001b[1;32m      2\u001b[0m history1 = model.fit_generator(trn_gen(), x_trn_len, nb_epoch=30,\n\u001b[0;32m----> 3\u001b[0;31m                     validation_data=val_data(), nb_val_samples=x_val_len)\n\u001b[0m",
      "\u001b[0;32m/home/viiv/anaconda2/lib/python2.7/site-packages/keras/engine/training.pyc\u001b[0m in \u001b[0;36mfit_generator\u001b[0;34m(self, generator, samples_per_epoch, nb_epoch, verbose, callbacks, validation_data, nb_val_samples, class_weight, max_q_size, nb_worker, pickle_safe, initial_epoch)\u001b[0m\n\u001b[1;32m   1555\u001b[0m                     outs = self.train_on_batch(x, y,\n\u001b[1;32m   1556\u001b[0m                                                \u001b[0msample_weight\u001b[0m\u001b[0;34m=\u001b[0m\u001b[0msample_weight\u001b[0m\u001b[0;34m,\u001b[0m\u001b[0;34m\u001b[0m\u001b[0m\n\u001b[0;32m-> 1557\u001b[0;31m                                                class_weight=class_weight)\n\u001b[0m\u001b[1;32m   1558\u001b[0m \u001b[0;34m\u001b[0m\u001b[0m\n\u001b[1;32m   1559\u001b[0m                     \u001b[0;32mif\u001b[0m \u001b[0;32mnot\u001b[0m \u001b[0misinstance\u001b[0m\u001b[0;34m(\u001b[0m\u001b[0mouts\u001b[0m\u001b[0;34m,\u001b[0m \u001b[0mlist\u001b[0m\u001b[0;34m)\u001b[0m\u001b[0;34m:\u001b[0m\u001b[0;34m\u001b[0m\u001b[0m\n",
      "\u001b[0;32m/home/viiv/anaconda2/lib/python2.7/site-packages/keras/engine/training.pyc\u001b[0m in \u001b[0;36mtrain_on_batch\u001b[0;34m(self, x, y, sample_weight, class_weight)\u001b[0m\n\u001b[1;32m   1318\u001b[0m             \u001b[0mins\u001b[0m \u001b[0;34m=\u001b[0m \u001b[0mx\u001b[0m \u001b[0;34m+\u001b[0m \u001b[0my\u001b[0m \u001b[0;34m+\u001b[0m \u001b[0msample_weights\u001b[0m\u001b[0;34m\u001b[0m\u001b[0m\n\u001b[1;32m   1319\u001b[0m         \u001b[0mself\u001b[0m\u001b[0;34m.\u001b[0m\u001b[0m_make_train_function\u001b[0m\u001b[0;34m(\u001b[0m\u001b[0;34m)\u001b[0m\u001b[0;34m\u001b[0m\u001b[0m\n\u001b[0;32m-> 1320\u001b[0;31m         \u001b[0moutputs\u001b[0m \u001b[0;34m=\u001b[0m \u001b[0mself\u001b[0m\u001b[0;34m.\u001b[0m\u001b[0mtrain_function\u001b[0m\u001b[0;34m(\u001b[0m\u001b[0mins\u001b[0m\u001b[0;34m)\u001b[0m\u001b[0;34m\u001b[0m\u001b[0m\n\u001b[0m\u001b[1;32m   1321\u001b[0m         \u001b[0;32mif\u001b[0m \u001b[0mlen\u001b[0m\u001b[0;34m(\u001b[0m\u001b[0moutputs\u001b[0m\u001b[0;34m)\u001b[0m \u001b[0;34m==\u001b[0m \u001b[0;36m1\u001b[0m\u001b[0;34m:\u001b[0m\u001b[0;34m\u001b[0m\u001b[0m\n\u001b[1;32m   1322\u001b[0m             \u001b[0;32mreturn\u001b[0m \u001b[0moutputs\u001b[0m\u001b[0;34m[\u001b[0m\u001b[0;36m0\u001b[0m\u001b[0;34m]\u001b[0m\u001b[0;34m\u001b[0m\u001b[0m\n",
      "\u001b[0;32m/home/viiv/anaconda2/lib/python2.7/site-packages/keras/backend/tensorflow_backend.pyc\u001b[0m in \u001b[0;36m__call__\u001b[0;34m(self, inputs)\u001b[0m\n\u001b[1;32m   1941\u001b[0m         \u001b[0msession\u001b[0m \u001b[0;34m=\u001b[0m \u001b[0mget_session\u001b[0m\u001b[0;34m(\u001b[0m\u001b[0;34m)\u001b[0m\u001b[0;34m\u001b[0m\u001b[0m\n\u001b[1;32m   1942\u001b[0m         updated = session.run(self.outputs + [self.updates_op],\n\u001b[0;32m-> 1943\u001b[0;31m                               feed_dict=feed_dict)\n\u001b[0m\u001b[1;32m   1944\u001b[0m         \u001b[0;32mreturn\u001b[0m \u001b[0mupdated\u001b[0m\u001b[0;34m[\u001b[0m\u001b[0;34m:\u001b[0m\u001b[0mlen\u001b[0m\u001b[0;34m(\u001b[0m\u001b[0mself\u001b[0m\u001b[0;34m.\u001b[0m\u001b[0moutputs\u001b[0m\u001b[0;34m)\u001b[0m\u001b[0;34m]\u001b[0m\u001b[0;34m\u001b[0m\u001b[0m\n\u001b[1;32m   1945\u001b[0m \u001b[0;34m\u001b[0m\u001b[0m\n",
      "\u001b[0;32m/home/viiv/anaconda2/lib/python2.7/site-packages/tensorflow/python/client/session.pyc\u001b[0m in \u001b[0;36mrun\u001b[0;34m(self, fetches, feed_dict, options, run_metadata)\u001b[0m\n\u001b[1;32m    715\u001b[0m     \u001b[0;32mtry\u001b[0m\u001b[0;34m:\u001b[0m\u001b[0;34m\u001b[0m\u001b[0m\n\u001b[1;32m    716\u001b[0m       result = self._run(None, fetches, feed_dict, options_ptr,\n\u001b[0;32m--> 717\u001b[0;31m                          run_metadata_ptr)\n\u001b[0m\u001b[1;32m    718\u001b[0m       \u001b[0;32mif\u001b[0m \u001b[0mrun_metadata\u001b[0m\u001b[0;34m:\u001b[0m\u001b[0;34m\u001b[0m\u001b[0m\n\u001b[1;32m    719\u001b[0m         \u001b[0mproto_data\u001b[0m \u001b[0;34m=\u001b[0m \u001b[0mtf_session\u001b[0m\u001b[0;34m.\u001b[0m\u001b[0mTF_GetBuffer\u001b[0m\u001b[0;34m(\u001b[0m\u001b[0mrun_metadata_ptr\u001b[0m\u001b[0;34m)\u001b[0m\u001b[0;34m\u001b[0m\u001b[0m\n",
      "\u001b[0;32m/home/viiv/anaconda2/lib/python2.7/site-packages/tensorflow/python/client/session.pyc\u001b[0m in \u001b[0;36m_run\u001b[0;34m(self, handle, fetches, feed_dict, options, run_metadata)\u001b[0m\n\u001b[1;32m    913\u001b[0m     \u001b[0;32mif\u001b[0m \u001b[0mfinal_fetches\u001b[0m \u001b[0;32mor\u001b[0m \u001b[0mfinal_targets\u001b[0m\u001b[0;34m:\u001b[0m\u001b[0;34m\u001b[0m\u001b[0m\n\u001b[1;32m    914\u001b[0m       results = self._do_run(handle, final_targets, final_fetches,\n\u001b[0;32m--> 915\u001b[0;31m                              feed_dict_string, options, run_metadata)\n\u001b[0m\u001b[1;32m    916\u001b[0m     \u001b[0;32melse\u001b[0m\u001b[0;34m:\u001b[0m\u001b[0;34m\u001b[0m\u001b[0m\n\u001b[1;32m    917\u001b[0m       \u001b[0mresults\u001b[0m \u001b[0;34m=\u001b[0m \u001b[0;34m[\u001b[0m\u001b[0;34m]\u001b[0m\u001b[0;34m\u001b[0m\u001b[0m\n",
      "\u001b[0;32m/home/viiv/anaconda2/lib/python2.7/site-packages/tensorflow/python/client/session.pyc\u001b[0m in \u001b[0;36m_do_run\u001b[0;34m(self, handle, target_list, fetch_list, feed_dict, options, run_metadata)\u001b[0m\n\u001b[1;32m    963\u001b[0m     \u001b[0;32mif\u001b[0m \u001b[0mhandle\u001b[0m \u001b[0;32mis\u001b[0m \u001b[0mNone\u001b[0m\u001b[0;34m:\u001b[0m\u001b[0;34m\u001b[0m\u001b[0m\n\u001b[1;32m    964\u001b[0m       return self._do_call(_run_fn, self._session, feed_dict, fetch_list,\n\u001b[0;32m--> 965\u001b[0;31m                            target_list, options, run_metadata)\n\u001b[0m\u001b[1;32m    966\u001b[0m     \u001b[0;32melse\u001b[0m\u001b[0;34m:\u001b[0m\u001b[0;34m\u001b[0m\u001b[0m\n\u001b[1;32m    967\u001b[0m       return self._do_call(_prun_fn, self._session, handle, feed_dict,\n",
      "\u001b[0;32m/home/viiv/anaconda2/lib/python2.7/site-packages/tensorflow/python/client/session.pyc\u001b[0m in \u001b[0;36m_do_call\u001b[0;34m(self, fn, *args)\u001b[0m\n\u001b[1;32m    970\u001b[0m   \u001b[0;32mdef\u001b[0m \u001b[0m_do_call\u001b[0m\u001b[0;34m(\u001b[0m\u001b[0mself\u001b[0m\u001b[0;34m,\u001b[0m \u001b[0mfn\u001b[0m\u001b[0;34m,\u001b[0m \u001b[0;34m*\u001b[0m\u001b[0margs\u001b[0m\u001b[0;34m)\u001b[0m\u001b[0;34m:\u001b[0m\u001b[0;34m\u001b[0m\u001b[0m\n\u001b[1;32m    971\u001b[0m     \u001b[0;32mtry\u001b[0m\u001b[0;34m:\u001b[0m\u001b[0;34m\u001b[0m\u001b[0m\n\u001b[0;32m--> 972\u001b[0;31m       \u001b[0;32mreturn\u001b[0m \u001b[0mfn\u001b[0m\u001b[0;34m(\u001b[0m\u001b[0;34m*\u001b[0m\u001b[0margs\u001b[0m\u001b[0;34m)\u001b[0m\u001b[0;34m\u001b[0m\u001b[0m\n\u001b[0m\u001b[1;32m    973\u001b[0m     \u001b[0;32mexcept\u001b[0m \u001b[0merrors\u001b[0m\u001b[0;34m.\u001b[0m\u001b[0mOpError\u001b[0m \u001b[0;32mas\u001b[0m \u001b[0me\u001b[0m\u001b[0;34m:\u001b[0m\u001b[0;34m\u001b[0m\u001b[0m\n\u001b[1;32m    974\u001b[0m       \u001b[0mmessage\u001b[0m \u001b[0;34m=\u001b[0m \u001b[0mcompat\u001b[0m\u001b[0;34m.\u001b[0m\u001b[0mas_text\u001b[0m\u001b[0;34m(\u001b[0m\u001b[0me\u001b[0m\u001b[0;34m.\u001b[0m\u001b[0mmessage\u001b[0m\u001b[0;34m)\u001b[0m\u001b[0;34m\u001b[0m\u001b[0m\n",
      "\u001b[0;32m/home/viiv/anaconda2/lib/python2.7/site-packages/tensorflow/python/client/session.pyc\u001b[0m in \u001b[0;36m_run_fn\u001b[0;34m(session, feed_dict, fetch_list, target_list, options, run_metadata)\u001b[0m\n\u001b[1;32m    952\u001b[0m         return tf_session.TF_Run(session, options,\n\u001b[1;32m    953\u001b[0m                                  \u001b[0mfeed_dict\u001b[0m\u001b[0;34m,\u001b[0m \u001b[0mfetch_list\u001b[0m\u001b[0;34m,\u001b[0m \u001b[0mtarget_list\u001b[0m\u001b[0;34m,\u001b[0m\u001b[0;34m\u001b[0m\u001b[0m\n\u001b[0;32m--> 954\u001b[0;31m                                  status, run_metadata)\n\u001b[0m\u001b[1;32m    955\u001b[0m \u001b[0;34m\u001b[0m\u001b[0m\n\u001b[1;32m    956\u001b[0m     \u001b[0;32mdef\u001b[0m \u001b[0m_prun_fn\u001b[0m\u001b[0;34m(\u001b[0m\u001b[0msession\u001b[0m\u001b[0;34m,\u001b[0m \u001b[0mhandle\u001b[0m\u001b[0;34m,\u001b[0m \u001b[0mfeed_dict\u001b[0m\u001b[0;34m,\u001b[0m \u001b[0mfetch_list\u001b[0m\u001b[0;34m)\u001b[0m\u001b[0;34m:\u001b[0m\u001b[0;34m\u001b[0m\u001b[0m\n",
      "\u001b[0;31mKeyboardInterrupt\u001b[0m: "
     ]
    }
   ],
   "source": [
    "model.compile(loss={'ctc': lambda y_true, y_pred: y_pred}, optimizer='rmsprop')\n",
    "history1 = model.fit_generator(trn_gen(), x_trn_len, nb_epoch=30,\n",
    "                    validation_data=val_data(), nb_val_samples=x_val_len)"
   ]
  },
  {
   "cell_type": "code",
   "execution_count": 109,
   "metadata": {},
   "outputs": [
    {
     "name": "stdout",
     "output_type": "stream",
     "text": [
      "Epoch 1/30\n",
      "9024/9011 [==============================] - 193s - loss: 93.8059 - val_loss: 121.8682\n",
      "Epoch 2/30\n",
      "9024/9011 [==============================] - 186s - loss: 55.4666 - val_loss: 55.5006\n",
      "Epoch 3/30\n",
      "9024/9011 [==============================] - 186s - loss: 28.7007 - val_loss: 23.3613\n",
      "Epoch 4/30\n",
      "9024/9011 [==============================] - 187s - loss: 16.1600 - val_loss: 11.1086\n",
      "Epoch 5/30\n",
      "9024/9011 [==============================] - 187s - loss: 11.4267 - val_loss: 8.8418\n",
      "Epoch 6/30\n",
      "9024/9011 [==============================] - 187s - loss: 8.9788 - val_loss: 5.8765\n",
      "Epoch 7/30\n",
      "9024/9011 [==============================] - 187s - loss: 7.5568 - val_loss: 5.2343\n",
      "Epoch 8/30\n",
      "9024/9011 [==============================] - 187s - loss: 6.6458 - val_loss: 4.4940\n",
      "Epoch 9/30\n",
      "9024/9011 [==============================] - 188s - loss: 5.9083 - val_loss: 8.0724\n",
      "Epoch 10/30\n",
      "9024/9011 [==============================] - 187s - loss: 5.4093 - val_loss: 3.4098\n",
      "Epoch 11/30\n",
      "9024/9011 [==============================] - 187s - loss: 4.9619 - val_loss: 4.7021\n",
      "Epoch 12/30\n",
      "9024/9011 [==============================] - 187s - loss: 4.7886 - val_loss: 2.7821\n",
      "Epoch 13/30\n",
      "9024/9011 [==============================] - 187s - loss: 4.4284 - val_loss: 2.6802\n",
      "Epoch 14/30\n",
      "9024/9011 [==============================] - 186s - loss: 4.1404 - val_loss: 2.9865\n",
      "Epoch 15/30\n",
      "9024/9011 [==============================] - 186s - loss: 3.9453 - val_loss: 2.1177\n",
      "Epoch 16/30\n",
      "9024/9011 [==============================] - 187s - loss: 3.6930 - val_loss: 2.9514\n",
      "Epoch 17/30\n",
      "9024/9011 [==============================] - 186s - loss: 3.5880 - val_loss: 2.1219\n",
      "Epoch 18/30\n",
      "9024/9011 [==============================] - 187s - loss: 3.4231 - val_loss: 1.7744\n",
      "Epoch 19/30\n",
      "9024/9011 [==============================] - 186s - loss: 3.2808 - val_loss: 1.5178\n",
      "Epoch 20/30\n",
      "9024/9011 [==============================] - 187s - loss: 3.1801 - val_loss: 1.6164\n",
      "Epoch 21/30\n",
      "9024/9011 [==============================] - 187s - loss: 3.0278 - val_loss: 1.5587\n",
      "Epoch 22/30\n",
      "9024/9011 [==============================] - 186s - loss: 3.0213 - val_loss: 1.5786\n",
      "Epoch 23/30\n",
      "9024/9011 [==============================] - 186s - loss: 2.9973 - val_loss: 1.4542\n",
      "Epoch 24/30\n",
      "9024/9011 [==============================] - 186s - loss: 2.8128 - val_loss: 3.0693\n",
      "Epoch 25/30\n",
      "9024/9011 [==============================] - 186s - loss: 2.8767 - val_loss: 1.3833\n",
      "Epoch 26/30\n",
      "9024/9011 [==============================] - 186s - loss: 2.6325 - val_loss: 1.4429\n",
      "Epoch 27/30\n",
      "9024/9011 [==============================] - 186s - loss: 2.6738 - val_loss: 1.2084\n",
      "Epoch 28/30\n",
      "9024/9011 [==============================] - 186s - loss: 2.6277 - val_loss: 1.3045\n",
      "Epoch 29/30\n",
      "9024/9011 [==============================] - 187s - loss: 2.5065 - val_loss: 1.1704\n",
      "Epoch 30/30\n",
      "9024/9011 [==============================] - 186s - loss: 2.5330 - val_loss: 1.2871\n"
     ]
    }
   ],
   "source": [
    "model.compile(loss={'ctc': lambda y_true, y_pred: y_pred}, optimizer='rmsprop')\n",
    "history1 = model.fit_generator(trn_gen(), x_trn_len, nb_epoch=30,\n",
    "                    validation_data=val_data(), nb_val_samples=x_val_len)"
   ]
  },
  {
   "cell_type": "code",
   "execution_count": 64,
   "metadata": {},
   "outputs": [
    {
     "name": "stdout",
     "output_type": "stream",
     "text": [
      "Epoch 1/30\n",
      "89856/89984 [============================>.] - ETA: 1s - loss: 60.5136 acc: 0.0% long: 0% short: 0.0%\n",
      "89984/89984 [==============================] - 784s - loss: 60.4604 - val_loss: 35.9978\n",
      "Epoch 2/30\n",
      "89856/89984 [============================>.] - ETA: 1s - loss: 11.7424 acc: 30.6658583409% long: 0% short: 30.6658583409%\n",
      "89984/89984 [==============================] - 779s - loss: 11.7352 - val_loss: 3.7134\n",
      "Epoch 3/30\n",
      "89856/89984 [============================>.] - ETA: 1s - loss: 5.0964 acc: 36.9707992321% long: 0% short: 36.9707992321%\n",
      "89984/89984 [==============================] - 781s - loss: 5.0956 - val_loss: 3.2039\n",
      "Epoch 4/30\n",
      "89856/89984 [============================>.] - ETA: 1s - loss: 3.5220 acc: 61.6348388401% long: 0% short: 61.6348388401%\n",
      "89984/89984 [==============================] - 780s - loss: 3.5221 - val_loss: 1.6335\n",
      "Epoch 5/30\n",
      "89856/89984 [============================>.] - ETA: 1s - loss: 2.8494 acc: 69.4149742346% long: 0% short: 69.4149742346%\n",
      "89984/89984 [==============================] - 778s - loss: 2.8496 - val_loss: 1.2290\n",
      "Epoch 6/30\n",
      "89856/89984 [============================>.] - ETA: 1s - loss: 2.4467 acc: 68.2833181772% long: 0% short: 68.2833181772%\n",
      "89984/89984 [==============================] - 779s - loss: 2.4471 - val_loss: 1.2697\n",
      "Epoch 7/30\n",
      "89856/89984 [============================>.] - ETA: 1s - loss: 2.1788 acc: 77.1850055572% long: 0% short: 77.1850055572%\n",
      "89984/89984 [==============================] - 778s - loss: 2.1788 - val_loss: 0.8673\n",
      "Epoch 8/30\n",
      "89856/89984 [============================>.] - ETA: 1s - loss: 1.9701 acc: 76.1745983631% long: 0% short: 76.1745983631%\n",
      "89984/89984 [==============================] - 781s - loss: 1.9713 - val_loss: 0.8966\n",
      "Epoch 9/30\n",
      "89856/89984 [============================>.] - ETA: 1s - loss: 1.8466 acc: 81.4085076286% long: 0% short: 81.4085076286%\n",
      "89984/89984 [==============================] - 779s - loss: 1.8470 - val_loss: 0.7030\n",
      "Epoch 10/30\n",
      "89856/89984 [============================>.] - ETA: 1s - loss: 1.7056 acc: 79.6605031828% long: 0% short: 79.6605031828%\n",
      "89984/89984 [==============================] - 780s - loss: 1.7064 - val_loss: 0.7733\n",
      "Epoch 11/30\n",
      "89856/89984 [============================>.] - ETA: 1s - loss: 1.6132 acc: 83.227240578% long: 0% short: 83.227240578%\n",
      "89984/89984 [==============================] - 777s - loss: 1.6130 - val_loss: 0.6344\n",
      "Epoch 12/30\n",
      "89856/89984 [============================>.] - ETA: 1s - loss: 1.5203 acc: 81.0750732545% long: 0% short: 81.0750732545%\n",
      "89984/89984 [==============================] - 780s - loss: 1.5210 - val_loss: 0.7090\n",
      "Epoch 13/30\n",
      "89856/89984 [============================>.] - ETA: 1s - loss: 1.4492 acc: 87.2183489946% long: 0% short: 87.2183489946%\n",
      "89984/89984 [==============================] - 786s - loss: 1.4491 - val_loss: 0.4849\n",
      "Epoch 14/30\n",
      "89856/89984 [============================>.] - ETA: 1s - loss: 1.3997 acc: 86.8748105487% long: 0% short: 86.8748105487%\n",
      "89984/89984 [==============================] - 851s - loss: 1.3994 - val_loss: 0.4809\n",
      "Epoch 15/30\n",
      "89856/89984 [============================>.] - ETA: 1s - loss: 1.3391 acc: 87.4911589371% long: 0% short: 87.4911589371%\n",
      "89984/89984 [==============================] - 849s - loss: 1.3393 - val_loss: 0.4675\n",
      "Epoch 16/30\n",
      "89856/89984 [============================>.] - ETA: 1s - loss: 1.2909 acc: 86.642416894% long: 0% short: 86.642416894%\n",
      "89984/89984 [==============================] - 849s - loss: 1.2905 - val_loss: 0.4880\n",
      "Epoch 17/30\n",
      "89856/89984 [============================>.] - ETA: 1s - loss: 1.2366 acc: 86.9556431242% long: 0% short: 86.9556431242%\n",
      "89984/89984 [==============================] - 849s - loss: 1.2369 - val_loss: 0.4658\n",
      "Epoch 18/30\n",
      "89856/89984 [============================>.] - ETA: 1s - loss: 1.2140 acc: 87.5618874406% long: 0% short: 87.5618874406%\n",
      "89984/89984 [==============================] - 849s - loss: 1.2141 - val_loss: 0.4583\n",
      "Epoch 19/30\n",
      "89856/89984 [============================>.] - ETA: 1s - loss: 1.1744 acc: 87.9660503183% long: 0% short: 87.9660503183%\n",
      "89984/89984 [==============================] - 847s - loss: 1.1744 - val_loss: 0.4383\n",
      "Epoch 20/30\n",
      "89856/89984 [============================>.] - ETA: 1s - loss: 1.1503 acc: 88.2691724765% long: 0% short: 88.2691724765%\n",
      "89984/89984 [==============================] - 851s - loss: 1.1502 - val_loss: 0.4343\n",
      "Epoch 21/30\n",
      "89856/89984 [============================>.] - ETA: 1s - loss: 1.1157 acc: 88.6834394261% long: 0% short: 88.6834394261%\n",
      "89984/89984 [==============================] - 849s - loss: 1.1155 - val_loss: 0.4062\n",
      "Epoch 22/30\n",
      "89856/89984 [============================>.] - ETA: 1s - loss: 1.1024 acc: 88.360109124% long: 0% short: 88.360109124%\n",
      "89984/89984 [==============================] - 852s - loss: 1.1026 - val_loss: 0.4180\n",
      "Epoch 23/30\n",
      "89856/89984 [============================>.] - ETA: 1s - loss: 1.0734 acc: 89.9666565626% long: 0% short: 89.9666565626%\n",
      "89984/89984 [==============================] - 848s - loss: 1.0737 - val_loss: 0.3717\n",
      "Epoch 24/30\n",
      "89856/89984 [============================>.] - ETA: 1s - loss: 1.0535 acc: 90.3101950086% long: 0% short: 90.3101950086%\n",
      "89984/89984 [==============================] - 847s - loss: 1.0538 - val_loss: 0.3527\n",
      "Epoch 25/30\n",
      "89856/89984 [============================>.] - ETA: 1s - loss: 1.0122 acc: 90.3506112964% long: 0% short: 90.3506112964%\n",
      "89984/89984 [==============================] - 849s - loss: 1.0128 - val_loss: 0.3571\n",
      "Epoch 26/30\n",
      "89856/89984 [============================>.] - ETA: 1s - loss: 1.0040 acc: 89.9969687784% long: 0% short: 89.9969687784%\n",
      "89984/89984 [==============================] - 851s - loss: 1.0040 - val_loss: 0.3553\n",
      "Epoch 27/30\n",
      "89856/89984 [============================>.] - ETA: 1s - loss: 0.9828 acc: 90.3910275841% long: 0% short: 90.3910275841%\n",
      "89984/89984 [==============================] - 851s - loss: 0.9833 - val_loss: 0.3446\n",
      "Epoch 28/30\n",
      "89856/89984 [============================>.] - ETA: 1s - loss: 0.9663 acc: 90.8760230373% long: 0% short: 90.8760230373%\n",
      "89984/89984 [==============================] - 849s - loss: 0.9662 - val_loss: 0.3324\n",
      "Epoch 29/30\n",
      "89856/89984 [============================>.] - ETA: 1s - loss: 0.9525 acc: 91.3812266343% long: 0% short: 91.3812266343%\n",
      "89984/89984 [==============================] - 852s - loss: 0.9527 - val_loss: 0.3215\n",
      "Epoch 30/30\n",
      "89856/89984 [============================>.] - ETA: 1s - loss: 0.9464 acc: 90.4213397999% long: 0% short: 90.4213397999%\n",
      "89984/89984 [==============================] - 849s - loss: 0.9465 - val_loss: 0.3469\n"
     ]
    }
   ],
   "source": [
    "model.compile(loss={'ctc': lambda y_true, y_pred: y_pred}, optimizer='rmsprop')\n",
    "history1 = model.fit_generator(trn_gen(), x_trn_len, nb_epoch=30, callbacks=[evaluator],\n",
    "                    validation_data=val_data(), nb_val_samples=x_val_len)"
   ]
  },
  {
   "cell_type": "code",
   "execution_count": 65,
   "metadata": {
    "scrolled": true
   },
   "outputs": [
    {
     "name": "stdout",
     "output_type": "stream",
     "text": [
      "Epoch 1/30\n",
      "89856/89984 [============================>.] - ETA: 1s - loss: 0.9304 acc: 89.0876023037% long: 0% short: 89.0876023037%\n",
      "89984/89984 [==============================] - 854s - loss: 0.9307 - val_loss: 0.3982\n",
      "Epoch 2/30\n",
      "89856/89984 [============================>.] - ETA: 1s - loss: 0.9008 acc: 91.3711225624% long: 0% short: 91.3711225624%\n",
      "89984/89984 [==============================] - 849s - loss: 0.9010 - val_loss: 0.3079\n",
      "Epoch 3/30\n",
      "89856/89984 [============================>.] - ETA: 1s - loss: 0.9063 acc: 91.2397696272% long: 0% short: 91.2397696272%\n",
      "89984/89984 [==============================] - 851s - loss: 0.9063 - val_loss: 0.3064\n",
      "Epoch 4/30\n",
      "89856/89984 [============================>.] - ETA: 1s - loss: 0.8896 acc: 90.4516520158% long: 0% short: 90.4516520158%\n",
      "89984/89984 [==============================] - 852s - loss: 0.8896 - val_loss: 0.3362\n",
      "Epoch 5/30\n",
      "14720/89984 [===>..........................] - ETA: 656s - loss: 0.9058"
     ]
    },
    {
     "ename": "KeyboardInterrupt",
     "evalue": "",
     "output_type": "error",
     "traceback": [
      "\u001b[0;31m---------------------------------------------------------------------------\u001b[0m",
      "\u001b[0;31mKeyboardInterrupt\u001b[0m                         Traceback (most recent call last)",
      "\u001b[0;32m<ipython-input-65-d38b49b9f77c>\u001b[0m in \u001b[0;36m<module>\u001b[0;34m()\u001b[0m\n\u001b[1;32m      2\u001b[0m \u001b[0mmodel\u001b[0m\u001b[0;34m.\u001b[0m\u001b[0mcompile\u001b[0m\u001b[0;34m(\u001b[0m\u001b[0mloss\u001b[0m\u001b[0;34m=\u001b[0m\u001b[0;34m{\u001b[0m\u001b[0;34m'ctc'\u001b[0m\u001b[0;34m:\u001b[0m \u001b[0;32mlambda\u001b[0m \u001b[0my_true\u001b[0m\u001b[0;34m,\u001b[0m \u001b[0my_pred\u001b[0m\u001b[0;34m:\u001b[0m \u001b[0my_pred\u001b[0m\u001b[0;34m}\u001b[0m\u001b[0;34m,\u001b[0m \u001b[0moptimizer\u001b[0m\u001b[0;34m=\u001b[0m\u001b[0;34m'rmsprop'\u001b[0m\u001b[0;34m)\u001b[0m\u001b[0;34m\u001b[0m\u001b[0m\n\u001b[1;32m      3\u001b[0m history2 = model.fit_generator(trn_gen(), x_trn_len, nb_epoch=30, callbacks=[evaluator],\n\u001b[0;32m----> 4\u001b[0;31m                     validation_data=val_data(), nb_val_samples=x_val_len)\n\u001b[0m",
      "\u001b[0;32m/home/viiv/anaconda2/lib/python2.7/site-packages/keras/engine/training.pyc\u001b[0m in \u001b[0;36mfit_generator\u001b[0;34m(self, generator, samples_per_epoch, nb_epoch, verbose, callbacks, validation_data, nb_val_samples, class_weight, max_q_size, nb_worker, pickle_safe, initial_epoch)\u001b[0m\n\u001b[1;32m   1555\u001b[0m                     outs = self.train_on_batch(x, y,\n\u001b[1;32m   1556\u001b[0m                                                \u001b[0msample_weight\u001b[0m\u001b[0;34m=\u001b[0m\u001b[0msample_weight\u001b[0m\u001b[0;34m,\u001b[0m\u001b[0;34m\u001b[0m\u001b[0m\n\u001b[0;32m-> 1557\u001b[0;31m                                                class_weight=class_weight)\n\u001b[0m\u001b[1;32m   1558\u001b[0m \u001b[0;34m\u001b[0m\u001b[0m\n\u001b[1;32m   1559\u001b[0m                     \u001b[0;32mif\u001b[0m \u001b[0;32mnot\u001b[0m \u001b[0misinstance\u001b[0m\u001b[0;34m(\u001b[0m\u001b[0mouts\u001b[0m\u001b[0;34m,\u001b[0m \u001b[0mlist\u001b[0m\u001b[0;34m)\u001b[0m\u001b[0;34m:\u001b[0m\u001b[0;34m\u001b[0m\u001b[0m\n",
      "\u001b[0;32m/home/viiv/anaconda2/lib/python2.7/site-packages/keras/engine/training.pyc\u001b[0m in \u001b[0;36mtrain_on_batch\u001b[0;34m(self, x, y, sample_weight, class_weight)\u001b[0m\n\u001b[1;32m   1318\u001b[0m             \u001b[0mins\u001b[0m \u001b[0;34m=\u001b[0m \u001b[0mx\u001b[0m \u001b[0;34m+\u001b[0m \u001b[0my\u001b[0m \u001b[0;34m+\u001b[0m \u001b[0msample_weights\u001b[0m\u001b[0;34m\u001b[0m\u001b[0m\n\u001b[1;32m   1319\u001b[0m         \u001b[0mself\u001b[0m\u001b[0;34m.\u001b[0m\u001b[0m_make_train_function\u001b[0m\u001b[0;34m(\u001b[0m\u001b[0;34m)\u001b[0m\u001b[0;34m\u001b[0m\u001b[0m\n\u001b[0;32m-> 1320\u001b[0;31m         \u001b[0moutputs\u001b[0m \u001b[0;34m=\u001b[0m \u001b[0mself\u001b[0m\u001b[0;34m.\u001b[0m\u001b[0mtrain_function\u001b[0m\u001b[0;34m(\u001b[0m\u001b[0mins\u001b[0m\u001b[0;34m)\u001b[0m\u001b[0;34m\u001b[0m\u001b[0m\n\u001b[0m\u001b[1;32m   1321\u001b[0m         \u001b[0;32mif\u001b[0m \u001b[0mlen\u001b[0m\u001b[0;34m(\u001b[0m\u001b[0moutputs\u001b[0m\u001b[0;34m)\u001b[0m \u001b[0;34m==\u001b[0m \u001b[0;36m1\u001b[0m\u001b[0;34m:\u001b[0m\u001b[0;34m\u001b[0m\u001b[0m\n\u001b[1;32m   1322\u001b[0m             \u001b[0;32mreturn\u001b[0m \u001b[0moutputs\u001b[0m\u001b[0;34m[\u001b[0m\u001b[0;36m0\u001b[0m\u001b[0;34m]\u001b[0m\u001b[0;34m\u001b[0m\u001b[0m\n",
      "\u001b[0;32m/home/viiv/anaconda2/lib/python2.7/site-packages/keras/backend/tensorflow_backend.pyc\u001b[0m in \u001b[0;36m__call__\u001b[0;34m(self, inputs)\u001b[0m\n\u001b[1;32m   1941\u001b[0m         \u001b[0msession\u001b[0m \u001b[0;34m=\u001b[0m \u001b[0mget_session\u001b[0m\u001b[0;34m(\u001b[0m\u001b[0;34m)\u001b[0m\u001b[0;34m\u001b[0m\u001b[0m\n\u001b[1;32m   1942\u001b[0m         updated = session.run(self.outputs + [self.updates_op],\n\u001b[0;32m-> 1943\u001b[0;31m                               feed_dict=feed_dict)\n\u001b[0m\u001b[1;32m   1944\u001b[0m         \u001b[0;32mreturn\u001b[0m \u001b[0mupdated\u001b[0m\u001b[0;34m[\u001b[0m\u001b[0;34m:\u001b[0m\u001b[0mlen\u001b[0m\u001b[0;34m(\u001b[0m\u001b[0mself\u001b[0m\u001b[0;34m.\u001b[0m\u001b[0moutputs\u001b[0m\u001b[0;34m)\u001b[0m\u001b[0;34m]\u001b[0m\u001b[0;34m\u001b[0m\u001b[0m\n\u001b[1;32m   1945\u001b[0m \u001b[0;34m\u001b[0m\u001b[0m\n",
      "\u001b[0;32m/home/viiv/anaconda2/lib/python2.7/site-packages/tensorflow/python/client/session.pyc\u001b[0m in \u001b[0;36mrun\u001b[0;34m(self, fetches, feed_dict, options, run_metadata)\u001b[0m\n\u001b[1;32m    715\u001b[0m     \u001b[0;32mtry\u001b[0m\u001b[0;34m:\u001b[0m\u001b[0;34m\u001b[0m\u001b[0m\n\u001b[1;32m    716\u001b[0m       result = self._run(None, fetches, feed_dict, options_ptr,\n\u001b[0;32m--> 717\u001b[0;31m                          run_metadata_ptr)\n\u001b[0m\u001b[1;32m    718\u001b[0m       \u001b[0;32mif\u001b[0m \u001b[0mrun_metadata\u001b[0m\u001b[0;34m:\u001b[0m\u001b[0;34m\u001b[0m\u001b[0m\n\u001b[1;32m    719\u001b[0m         \u001b[0mproto_data\u001b[0m \u001b[0;34m=\u001b[0m \u001b[0mtf_session\u001b[0m\u001b[0;34m.\u001b[0m\u001b[0mTF_GetBuffer\u001b[0m\u001b[0;34m(\u001b[0m\u001b[0mrun_metadata_ptr\u001b[0m\u001b[0;34m)\u001b[0m\u001b[0;34m\u001b[0m\u001b[0m\n",
      "\u001b[0;32m/home/viiv/anaconda2/lib/python2.7/site-packages/tensorflow/python/client/session.pyc\u001b[0m in \u001b[0;36m_run\u001b[0;34m(self, handle, fetches, feed_dict, options, run_metadata)\u001b[0m\n\u001b[1;32m    913\u001b[0m     \u001b[0;32mif\u001b[0m \u001b[0mfinal_fetches\u001b[0m \u001b[0;32mor\u001b[0m \u001b[0mfinal_targets\u001b[0m\u001b[0;34m:\u001b[0m\u001b[0;34m\u001b[0m\u001b[0m\n\u001b[1;32m    914\u001b[0m       results = self._do_run(handle, final_targets, final_fetches,\n\u001b[0;32m--> 915\u001b[0;31m                              feed_dict_string, options, run_metadata)\n\u001b[0m\u001b[1;32m    916\u001b[0m     \u001b[0;32melse\u001b[0m\u001b[0;34m:\u001b[0m\u001b[0;34m\u001b[0m\u001b[0m\n\u001b[1;32m    917\u001b[0m       \u001b[0mresults\u001b[0m \u001b[0;34m=\u001b[0m \u001b[0;34m[\u001b[0m\u001b[0;34m]\u001b[0m\u001b[0;34m\u001b[0m\u001b[0m\n",
      "\u001b[0;32m/home/viiv/anaconda2/lib/python2.7/site-packages/tensorflow/python/client/session.pyc\u001b[0m in \u001b[0;36m_do_run\u001b[0;34m(self, handle, target_list, fetch_list, feed_dict, options, run_metadata)\u001b[0m\n\u001b[1;32m    963\u001b[0m     \u001b[0;32mif\u001b[0m \u001b[0mhandle\u001b[0m \u001b[0;32mis\u001b[0m \u001b[0mNone\u001b[0m\u001b[0;34m:\u001b[0m\u001b[0;34m\u001b[0m\u001b[0m\n\u001b[1;32m    964\u001b[0m       return self._do_call(_run_fn, self._session, feed_dict, fetch_list,\n\u001b[0;32m--> 965\u001b[0;31m                            target_list, options, run_metadata)\n\u001b[0m\u001b[1;32m    966\u001b[0m     \u001b[0;32melse\u001b[0m\u001b[0;34m:\u001b[0m\u001b[0;34m\u001b[0m\u001b[0m\n\u001b[1;32m    967\u001b[0m       return self._do_call(_prun_fn, self._session, handle, feed_dict,\n",
      "\u001b[0;32m/home/viiv/anaconda2/lib/python2.7/site-packages/tensorflow/python/client/session.pyc\u001b[0m in \u001b[0;36m_do_call\u001b[0;34m(self, fn, *args)\u001b[0m\n\u001b[1;32m    970\u001b[0m   \u001b[0;32mdef\u001b[0m \u001b[0m_do_call\u001b[0m\u001b[0;34m(\u001b[0m\u001b[0mself\u001b[0m\u001b[0;34m,\u001b[0m \u001b[0mfn\u001b[0m\u001b[0;34m,\u001b[0m \u001b[0;34m*\u001b[0m\u001b[0margs\u001b[0m\u001b[0;34m)\u001b[0m\u001b[0;34m:\u001b[0m\u001b[0;34m\u001b[0m\u001b[0m\n\u001b[1;32m    971\u001b[0m     \u001b[0;32mtry\u001b[0m\u001b[0;34m:\u001b[0m\u001b[0;34m\u001b[0m\u001b[0m\n\u001b[0;32m--> 972\u001b[0;31m       \u001b[0;32mreturn\u001b[0m \u001b[0mfn\u001b[0m\u001b[0;34m(\u001b[0m\u001b[0;34m*\u001b[0m\u001b[0margs\u001b[0m\u001b[0;34m)\u001b[0m\u001b[0;34m\u001b[0m\u001b[0m\n\u001b[0m\u001b[1;32m    973\u001b[0m     \u001b[0;32mexcept\u001b[0m \u001b[0merrors\u001b[0m\u001b[0;34m.\u001b[0m\u001b[0mOpError\u001b[0m \u001b[0;32mas\u001b[0m \u001b[0me\u001b[0m\u001b[0;34m:\u001b[0m\u001b[0;34m\u001b[0m\u001b[0m\n\u001b[1;32m    974\u001b[0m       \u001b[0mmessage\u001b[0m \u001b[0;34m=\u001b[0m \u001b[0mcompat\u001b[0m\u001b[0;34m.\u001b[0m\u001b[0mas_text\u001b[0m\u001b[0;34m(\u001b[0m\u001b[0me\u001b[0m\u001b[0;34m.\u001b[0m\u001b[0mmessage\u001b[0m\u001b[0;34m)\u001b[0m\u001b[0;34m\u001b[0m\u001b[0m\n",
      "\u001b[0;32m/home/viiv/anaconda2/lib/python2.7/site-packages/tensorflow/python/client/session.pyc\u001b[0m in \u001b[0;36m_run_fn\u001b[0;34m(session, feed_dict, fetch_list, target_list, options, run_metadata)\u001b[0m\n\u001b[1;32m    952\u001b[0m         return tf_session.TF_Run(session, options,\n\u001b[1;32m    953\u001b[0m                                  \u001b[0mfeed_dict\u001b[0m\u001b[0;34m,\u001b[0m \u001b[0mfetch_list\u001b[0m\u001b[0;34m,\u001b[0m \u001b[0mtarget_list\u001b[0m\u001b[0;34m,\u001b[0m\u001b[0;34m\u001b[0m\u001b[0m\n\u001b[0;32m--> 954\u001b[0;31m                                  status, run_metadata)\n\u001b[0m\u001b[1;32m    955\u001b[0m \u001b[0;34m\u001b[0m\u001b[0m\n\u001b[1;32m    956\u001b[0m     \u001b[0;32mdef\u001b[0m \u001b[0m_prun_fn\u001b[0m\u001b[0;34m(\u001b[0m\u001b[0msession\u001b[0m\u001b[0;34m,\u001b[0m \u001b[0mhandle\u001b[0m\u001b[0;34m,\u001b[0m \u001b[0mfeed_dict\u001b[0m\u001b[0;34m,\u001b[0m \u001b[0mfetch_list\u001b[0m\u001b[0;34m)\u001b[0m\u001b[0;34m:\u001b[0m\u001b[0;34m\u001b[0m\u001b[0m\n",
      "\u001b[0;31mKeyboardInterrupt\u001b[0m: "
     ]
    }
   ],
   "source": [
    "model.optimizer.lr = 0.0001\n",
    "model.compile(loss={'ctc': lambda y_true, y_pred: y_pred}, optimizer='rmsprop')\n",
    "history2 = model.fit_generator(trn_gen(), x_trn_len, nb_epoch=30, callbacks=[evaluator],\n",
    "                    validation_data=val_data(), nb_val_samples=x_val_len)"
   ]
  },
  {
   "cell_type": "code",
   "execution_count": 63,
   "metadata": {},
   "outputs": [
    {
     "name": "stdout",
     "output_type": "stream",
     "text": [
      "Epoch 1/1\n",
      "89856/89920 [============================>.] - ETA: 0s - loss: 1.7546 acc: 62.771902%\n",
      " short: 0.000000%\n",
      " l: 62.771902%\n",
      "89920/89920 [==============================] - 928s - loss: 1.7543 - val_loss: 1.7435\n"
     ]
    }
   ],
   "source": [
    "model.compile(loss={'ctc': lambda y_true, y_pred: y_pred}, optimizer='rmsprop')\n",
    "history1 = model.fit_generator(trn_gen(), x_trn_len, nb_epoch=1, callbacks=[evaluator],\n",
    "                    validation_data=val_data(), nb_val_samples=x_val_len)"
   ]
  },
  {
   "cell_type": "code",
   "execution_count": 101,
   "metadata": {
    "collapsed": true
   },
   "outputs": [
    {
     "name": "stdout",
     "output_type": "stream",
     "text": [
      "Epoch 1/20\n",
      "89920/89984 [============================>.] - ETA: 0s - loss: 13.4784 acc: 55.311905%\n",
      " short: 0.000000%\n",
      " l: 55.311905%\n",
      "89984/89984 [==============================] - 1140s - loss: 13.4700 - val_loss: 2.0453\n",
      "Epoch 2/20\n",
      "89920/89984 [============================>.] - ETA: 0s - loss: 1.2172 acc: 68.509062%\n",
      " short: 0.000000%\n",
      " l: 68.509062%\n",
      "89984/89984 [==============================] - 1127s - loss: 1.2171 - val_loss: 1.3251\n",
      "Epoch 3/20\n",
      "89920/89984 [============================>.] - ETA: 0s - loss: 0.7752 acc: 80.744968%\n",
      " short: 0.000000%\n",
      " l: 80.744968%\n",
      "89984/89984 [==============================] - 1138s - loss: 0.7752 - val_loss: 0.7840\n",
      "Epoch 4/20\n",
      "89920/89984 [============================>.] - ETA: 0s - loss: 0.5837[ 0 13  6 13 11 14  2 13 10  7 14 13  1  2  0 19  5 15 13  8  9 15  3 10 11  6 15 10 11  1  1]\n",
      " acc: 80.915190%\n",
      " short: 0.000000%\n",
      " l: 80.915190%\n",
      "89984/89984 [==============================] - 1128s - loss: 0.5837 - val_loss: 0.7762\n",
      "Epoch 5/20\n",
      "89920/89984 [============================>.] - ETA: 0s - loss: 0.4716 acc: 85.611295%\n",
      " short: 0.000000%\n",
      " l: 85.611295%\n",
      "89984/89984 [==============================] - 1128s - loss: 0.4715 - val_loss: 0.5687\n",
      "Epoch 6/20\n",
      "89920/89984 [============================>.] - ETA: 0s - loss: 0.4021 acc: 84.990488%\n",
      " short: 0.000000%\n",
      " l: 84.990488%\n",
      "89984/89984 [==============================] - 1128s - loss: 0.4021 - val_loss: 0.6238\n",
      "Epoch 7/20\n",
      "89920/89984 [============================>.] - ETA: 0s - loss: 0.3387 acc: 88.124562%\n",
      " short: 0.000000%\n",
      " l: 88.124562%\n",
      "89984/89984 [==============================] - 1129s - loss: 0.3388 - val_loss: 0.4731\n",
      "Epoch 8/20\n",
      "89920/89984 [============================>.] - ETA: 0s - loss: 0.3030 acc: 86.442375%\n",
      " short: 0.000000%\n",
      " l: 86.442375%\n",
      "89984/89984 [==============================] - 1128s - loss: 0.3031 - val_loss: 0.5457\n",
      "Epoch 9/20\n",
      "89920/89984 [============================>.] - ETA: 0s - loss: 0.2681 acc: 87.313508%\n",
      " short: 0.000000%\n",
      " l: 87.313508%\n",
      "89984/89984 [==============================] - 1130s - loss: 0.2681 - val_loss: 0.5701\n",
      "Epoch 10/20\n",
      "89920/89984 [============================>.] - ETA: 0s - loss: 0.2490 acc: 88.765395%\n",
      " short: 0.000000%\n",
      " l: 88.765395%\n",
      "89984/89984 [==============================] - 1129s - loss: 0.2489 - val_loss: 0.5083\n",
      "Epoch 11/20\n",
      " 3520/89984 [>.............................] - ETA: 1015s - loss: 0.2212"
     ]
    },
    {
     "ename": "KeyboardInterrupt",
     "evalue": "",
     "output_type": "error",
     "traceback": [
      "\u001b[0;31m---------------------------------------------------------------------------\u001b[0m",
      "\u001b[0;31mKeyboardInterrupt\u001b[0m                         Traceback (most recent call last)",
      "\u001b[0;32m<ipython-input-101-20d46ab8850b>\u001b[0m in \u001b[0;36m<module>\u001b[0;34m()\u001b[0m\n\u001b[1;32m      1\u001b[0m \u001b[0mmodel\u001b[0m\u001b[0;34m.\u001b[0m\u001b[0mcompile\u001b[0m\u001b[0;34m(\u001b[0m\u001b[0mloss\u001b[0m\u001b[0;34m=\u001b[0m\u001b[0;34m{\u001b[0m\u001b[0;34m'ctc'\u001b[0m\u001b[0;34m:\u001b[0m \u001b[0;32mlambda\u001b[0m \u001b[0my_true\u001b[0m\u001b[0;34m,\u001b[0m \u001b[0my_pred\u001b[0m\u001b[0;34m:\u001b[0m \u001b[0my_pred\u001b[0m\u001b[0;34m}\u001b[0m\u001b[0;34m,\u001b[0m \u001b[0moptimizer\u001b[0m\u001b[0;34m=\u001b[0m\u001b[0;34m'rmsprop'\u001b[0m\u001b[0;34m)\u001b[0m\u001b[0;34m\u001b[0m\u001b[0m\n\u001b[1;32m      2\u001b[0m history1 = model.fit_generator(trn_gen(), x_trn_len, nb_epoch=20, callbacks=[evaluator],\n\u001b[0;32m----> 3\u001b[0;31m                     validation_data=val_data(), nb_val_samples=x_val_len)\n\u001b[0m",
      "\u001b[0;32m/home/viiv/anaconda2/lib/python2.7/site-packages/keras/engine/training.pyc\u001b[0m in \u001b[0;36mfit_generator\u001b[0;34m(self, generator, samples_per_epoch, nb_epoch, verbose, callbacks, validation_data, nb_val_samples, class_weight, max_q_size, nb_worker, pickle_safe, initial_epoch)\u001b[0m\n\u001b[1;32m   1555\u001b[0m                     outs = self.train_on_batch(x, y,\n\u001b[1;32m   1556\u001b[0m                                                \u001b[0msample_weight\u001b[0m\u001b[0;34m=\u001b[0m\u001b[0msample_weight\u001b[0m\u001b[0;34m,\u001b[0m\u001b[0;34m\u001b[0m\u001b[0m\n\u001b[0;32m-> 1557\u001b[0;31m                                                class_weight=class_weight)\n\u001b[0m\u001b[1;32m   1558\u001b[0m \u001b[0;34m\u001b[0m\u001b[0m\n\u001b[1;32m   1559\u001b[0m                     \u001b[0;32mif\u001b[0m \u001b[0;32mnot\u001b[0m \u001b[0misinstance\u001b[0m\u001b[0;34m(\u001b[0m\u001b[0mouts\u001b[0m\u001b[0;34m,\u001b[0m \u001b[0mlist\u001b[0m\u001b[0;34m)\u001b[0m\u001b[0;34m:\u001b[0m\u001b[0;34m\u001b[0m\u001b[0m\n",
      "\u001b[0;32m/home/viiv/anaconda2/lib/python2.7/site-packages/keras/engine/training.pyc\u001b[0m in \u001b[0;36mtrain_on_batch\u001b[0;34m(self, x, y, sample_weight, class_weight)\u001b[0m\n\u001b[1;32m   1318\u001b[0m             \u001b[0mins\u001b[0m \u001b[0;34m=\u001b[0m \u001b[0mx\u001b[0m \u001b[0;34m+\u001b[0m \u001b[0my\u001b[0m \u001b[0;34m+\u001b[0m \u001b[0msample_weights\u001b[0m\u001b[0;34m\u001b[0m\u001b[0m\n\u001b[1;32m   1319\u001b[0m         \u001b[0mself\u001b[0m\u001b[0;34m.\u001b[0m\u001b[0m_make_train_function\u001b[0m\u001b[0;34m(\u001b[0m\u001b[0;34m)\u001b[0m\u001b[0;34m\u001b[0m\u001b[0m\n\u001b[0;32m-> 1320\u001b[0;31m         \u001b[0moutputs\u001b[0m \u001b[0;34m=\u001b[0m \u001b[0mself\u001b[0m\u001b[0;34m.\u001b[0m\u001b[0mtrain_function\u001b[0m\u001b[0;34m(\u001b[0m\u001b[0mins\u001b[0m\u001b[0;34m)\u001b[0m\u001b[0;34m\u001b[0m\u001b[0m\n\u001b[0m\u001b[1;32m   1321\u001b[0m         \u001b[0;32mif\u001b[0m \u001b[0mlen\u001b[0m\u001b[0;34m(\u001b[0m\u001b[0moutputs\u001b[0m\u001b[0;34m)\u001b[0m \u001b[0;34m==\u001b[0m \u001b[0;36m1\u001b[0m\u001b[0;34m:\u001b[0m\u001b[0;34m\u001b[0m\u001b[0m\n\u001b[1;32m   1322\u001b[0m             \u001b[0;32mreturn\u001b[0m \u001b[0moutputs\u001b[0m\u001b[0;34m[\u001b[0m\u001b[0;36m0\u001b[0m\u001b[0;34m]\u001b[0m\u001b[0;34m\u001b[0m\u001b[0m\n",
      "\u001b[0;32m/home/viiv/anaconda2/lib/python2.7/site-packages/keras/backend/tensorflow_backend.pyc\u001b[0m in \u001b[0;36m__call__\u001b[0;34m(self, inputs)\u001b[0m\n\u001b[1;32m   1941\u001b[0m         \u001b[0msession\u001b[0m \u001b[0;34m=\u001b[0m \u001b[0mget_session\u001b[0m\u001b[0;34m(\u001b[0m\u001b[0;34m)\u001b[0m\u001b[0;34m\u001b[0m\u001b[0m\n\u001b[1;32m   1942\u001b[0m         updated = session.run(self.outputs + [self.updates_op],\n\u001b[0;32m-> 1943\u001b[0;31m                               feed_dict=feed_dict)\n\u001b[0m\u001b[1;32m   1944\u001b[0m         \u001b[0;32mreturn\u001b[0m \u001b[0mupdated\u001b[0m\u001b[0;34m[\u001b[0m\u001b[0;34m:\u001b[0m\u001b[0mlen\u001b[0m\u001b[0;34m(\u001b[0m\u001b[0mself\u001b[0m\u001b[0;34m.\u001b[0m\u001b[0moutputs\u001b[0m\u001b[0;34m)\u001b[0m\u001b[0;34m]\u001b[0m\u001b[0;34m\u001b[0m\u001b[0m\n\u001b[1;32m   1945\u001b[0m \u001b[0;34m\u001b[0m\u001b[0m\n",
      "\u001b[0;32m/home/viiv/anaconda2/lib/python2.7/site-packages/tensorflow/python/client/session.pyc\u001b[0m in \u001b[0;36mrun\u001b[0;34m(self, fetches, feed_dict, options, run_metadata)\u001b[0m\n\u001b[1;32m    715\u001b[0m     \u001b[0;32mtry\u001b[0m\u001b[0;34m:\u001b[0m\u001b[0;34m\u001b[0m\u001b[0m\n\u001b[1;32m    716\u001b[0m       result = self._run(None, fetches, feed_dict, options_ptr,\n\u001b[0;32m--> 717\u001b[0;31m                          run_metadata_ptr)\n\u001b[0m\u001b[1;32m    718\u001b[0m       \u001b[0;32mif\u001b[0m \u001b[0mrun_metadata\u001b[0m\u001b[0;34m:\u001b[0m\u001b[0;34m\u001b[0m\u001b[0m\n\u001b[1;32m    719\u001b[0m         \u001b[0mproto_data\u001b[0m \u001b[0;34m=\u001b[0m \u001b[0mtf_session\u001b[0m\u001b[0;34m.\u001b[0m\u001b[0mTF_GetBuffer\u001b[0m\u001b[0;34m(\u001b[0m\u001b[0mrun_metadata_ptr\u001b[0m\u001b[0;34m)\u001b[0m\u001b[0;34m\u001b[0m\u001b[0m\n",
      "\u001b[0;32m/home/viiv/anaconda2/lib/python2.7/site-packages/tensorflow/python/client/session.pyc\u001b[0m in \u001b[0;36m_run\u001b[0;34m(self, handle, fetches, feed_dict, options, run_metadata)\u001b[0m\n\u001b[1;32m    913\u001b[0m     \u001b[0;32mif\u001b[0m \u001b[0mfinal_fetches\u001b[0m \u001b[0;32mor\u001b[0m \u001b[0mfinal_targets\u001b[0m\u001b[0;34m:\u001b[0m\u001b[0;34m\u001b[0m\u001b[0m\n\u001b[1;32m    914\u001b[0m       results = self._do_run(handle, final_targets, final_fetches,\n\u001b[0;32m--> 915\u001b[0;31m                              feed_dict_string, options, run_metadata)\n\u001b[0m\u001b[1;32m    916\u001b[0m     \u001b[0;32melse\u001b[0m\u001b[0;34m:\u001b[0m\u001b[0;34m\u001b[0m\u001b[0m\n\u001b[1;32m    917\u001b[0m       \u001b[0mresults\u001b[0m \u001b[0;34m=\u001b[0m \u001b[0;34m[\u001b[0m\u001b[0;34m]\u001b[0m\u001b[0;34m\u001b[0m\u001b[0m\n",
      "\u001b[0;32m/home/viiv/anaconda2/lib/python2.7/site-packages/tensorflow/python/client/session.pyc\u001b[0m in \u001b[0;36m_do_run\u001b[0;34m(self, handle, target_list, fetch_list, feed_dict, options, run_metadata)\u001b[0m\n\u001b[1;32m    963\u001b[0m     \u001b[0;32mif\u001b[0m \u001b[0mhandle\u001b[0m \u001b[0;32mis\u001b[0m \u001b[0mNone\u001b[0m\u001b[0;34m:\u001b[0m\u001b[0;34m\u001b[0m\u001b[0m\n\u001b[1;32m    964\u001b[0m       return self._do_call(_run_fn, self._session, feed_dict, fetch_list,\n\u001b[0;32m--> 965\u001b[0;31m                            target_list, options, run_metadata)\n\u001b[0m\u001b[1;32m    966\u001b[0m     \u001b[0;32melse\u001b[0m\u001b[0;34m:\u001b[0m\u001b[0;34m\u001b[0m\u001b[0m\n\u001b[1;32m    967\u001b[0m       return self._do_call(_prun_fn, self._session, handle, feed_dict,\n",
      "\u001b[0;32m/home/viiv/anaconda2/lib/python2.7/site-packages/tensorflow/python/client/session.pyc\u001b[0m in \u001b[0;36m_do_call\u001b[0;34m(self, fn, *args)\u001b[0m\n\u001b[1;32m    970\u001b[0m   \u001b[0;32mdef\u001b[0m \u001b[0m_do_call\u001b[0m\u001b[0;34m(\u001b[0m\u001b[0mself\u001b[0m\u001b[0;34m,\u001b[0m \u001b[0mfn\u001b[0m\u001b[0;34m,\u001b[0m \u001b[0;34m*\u001b[0m\u001b[0margs\u001b[0m\u001b[0;34m)\u001b[0m\u001b[0;34m:\u001b[0m\u001b[0;34m\u001b[0m\u001b[0m\n\u001b[1;32m    971\u001b[0m     \u001b[0;32mtry\u001b[0m\u001b[0;34m:\u001b[0m\u001b[0;34m\u001b[0m\u001b[0m\n\u001b[0;32m--> 972\u001b[0;31m       \u001b[0;32mreturn\u001b[0m \u001b[0mfn\u001b[0m\u001b[0;34m(\u001b[0m\u001b[0;34m*\u001b[0m\u001b[0margs\u001b[0m\u001b[0;34m)\u001b[0m\u001b[0;34m\u001b[0m\u001b[0m\n\u001b[0m\u001b[1;32m    973\u001b[0m     \u001b[0;32mexcept\u001b[0m \u001b[0merrors\u001b[0m\u001b[0;34m.\u001b[0m\u001b[0mOpError\u001b[0m \u001b[0;32mas\u001b[0m \u001b[0me\u001b[0m\u001b[0;34m:\u001b[0m\u001b[0;34m\u001b[0m\u001b[0m\n\u001b[1;32m    974\u001b[0m       \u001b[0mmessage\u001b[0m \u001b[0;34m=\u001b[0m \u001b[0mcompat\u001b[0m\u001b[0;34m.\u001b[0m\u001b[0mas_text\u001b[0m\u001b[0;34m(\u001b[0m\u001b[0me\u001b[0m\u001b[0;34m.\u001b[0m\u001b[0mmessage\u001b[0m\u001b[0;34m)\u001b[0m\u001b[0;34m\u001b[0m\u001b[0m\n",
      "\u001b[0;32m/home/viiv/anaconda2/lib/python2.7/site-packages/tensorflow/python/client/session.pyc\u001b[0m in \u001b[0;36m_run_fn\u001b[0;34m(session, feed_dict, fetch_list, target_list, options, run_metadata)\u001b[0m\n\u001b[1;32m    952\u001b[0m         return tf_session.TF_Run(session, options,\n\u001b[1;32m    953\u001b[0m                                  \u001b[0mfeed_dict\u001b[0m\u001b[0;34m,\u001b[0m \u001b[0mfetch_list\u001b[0m\u001b[0;34m,\u001b[0m \u001b[0mtarget_list\u001b[0m\u001b[0;34m,\u001b[0m\u001b[0;34m\u001b[0m\u001b[0m\n\u001b[0;32m--> 954\u001b[0;31m                                  status, run_metadata)\n\u001b[0m\u001b[1;32m    955\u001b[0m \u001b[0;34m\u001b[0m\u001b[0m\n\u001b[1;32m    956\u001b[0m     \u001b[0;32mdef\u001b[0m \u001b[0m_prun_fn\u001b[0m\u001b[0;34m(\u001b[0m\u001b[0msession\u001b[0m\u001b[0;34m,\u001b[0m \u001b[0mhandle\u001b[0m\u001b[0;34m,\u001b[0m \u001b[0mfeed_dict\u001b[0m\u001b[0;34m,\u001b[0m \u001b[0mfetch_list\u001b[0m\u001b[0;34m)\u001b[0m\u001b[0;34m:\u001b[0m\u001b[0;34m\u001b[0m\u001b[0m\n",
      "\u001b[0;31mKeyboardInterrupt\u001b[0m: "
     ]
    }
   ],
   "source": [
    "model.compile(loss={'ctc': lambda y_true, y_pred: y_pred}, optimizer='rmsprop')\n",
    "history1 = model.fit_generator(trn_gen(), x_trn_len, nb_epoch=20, callbacks=[evaluator],\n",
    "                    validation_data=val_data(), nb_val_samples=x_val_len)\n"
   ]
  },
  {
   "cell_type": "code",
   "execution_count": null,
   "metadata": {},
   "outputs": [
    {
     "name": "stdout",
     "output_type": "stream",
     "text": [
      "Epoch 1/20\n",
      "89920/89984 [============================>.] - ETA: 0s - loss: 13.9007 acc: 72.233904%\n",
      " short: 0.000000%\n",
      " l: 72.233904%\n",
      "89984/89984 [==============================] - 1102s - loss: 13.8911 - val_loss: 1.1992\n",
      "Epoch 2/20\n",
      "89920/89984 [============================>.] - ETA: 0s - loss: 0.6437 acc: 87.513768%\n",
      " short: 0.000000%\n",
      " l: 87.513768%\n",
      "89984/89984 [==============================] - 1092s - loss: 0.6434 - val_loss: 0.5349\n",
      "Epoch 3/20\n",
      "89920/89984 [============================>.] - ETA: 0s - loss: 0.3808 acc: 89.696606%\n",
      " short: 0.000000%\n",
      " l: 89.696606%\n",
      "89984/89984 [==============================] - 1094s - loss: 0.3807 - val_loss: 0.4391\n",
      "Epoch 4/20\n",
      "89920/89984 [============================>.] - ETA: 0s - loss: 0.2809 acc: 91.989586%\n",
      " short: 0.000000%\n",
      " l: 91.989586%\n",
      "89984/89984 [==============================] - 1092s - loss: 0.2809 - val_loss: 0.3645\n",
      "Epoch 5/20\n",
      "89920/89984 [============================>.] - ETA: 0s - loss: 0.2190 acc: 89.015720%\n",
      " short: 0.000000%\n",
      " l: 89.015720%\n",
      "89984/89984 [==============================] - 1091s - loss: 0.2189 - val_loss: 0.5410\n",
      "Epoch 6/20\n",
      "89920/89984 [============================>.] - ETA: 0s - loss: 0.1805 acc: 92.179834%\n",
      " short: 0.000000%\n",
      " l: 92.179834%\n",
      "89984/89984 [==============================] - 1093s - loss: 0.1804 - val_loss: 0.3614\n",
      "Epoch 7/20\n",
      "89920/89984 [============================>.] - ETA: 0s - loss: 0.1582 acc: 92.770602%\n",
      " short: 0.000000%\n",
      " l: 92.770602%\n",
      "89984/89984 [==============================] - 1092s - loss: 0.1582 - val_loss: 0.3681\n",
      "Epoch 8/20\n",
      "89920/89984 [============================>.] - ETA: 0s - loss: 0.1307 acc: 93.481526%\n",
      " short: 0.000000%\n",
      " l: 93.481526%\n",
      "89984/89984 [==============================] - 1090s - loss: 0.1307 - val_loss: 0.3423\n",
      "Epoch 9/20\n",
      "89920/89984 [============================>.] - ETA: 0s - loss: 0.0602 acc: 95.854611%\n",
      " short: 0.000000%\n",
      " l: 95.854611%\n",
      "89984/89984 [==============================] - 1090s - loss: 0.0602 - val_loss: 0.2402\n",
      "Epoch 20/20\n",
      "89920/89984 [============================>.] - ETA: 0s - loss: 0.0601 acc: 95.654351%\n",
      " short: 0.000000%\n",
      " l: 95.654351%\n",
      "89984/89984 [==============================] - 1092s - loss: 0.0600 - val_loss: 0.2553\n",
      "Epoch 1/20\n",
      " 1792/89984 [..............................] - ETA: 1001s - loss: 0.0722"
     ]
    },
    {
     "ename": "KeyboardInterrupt",
     "evalue": "",
     "output_type": "error",
     "traceback": [
      "\u001b[0;31m---------------------------------------------------------------------------\u001b[0m",
      "\u001b[0;31mKeyboardInterrupt\u001b[0m                         Traceback (most recent call last)",
      "\u001b[0;32m<ipython-input-89-4cf215ac8d0e>\u001b[0m in \u001b[0;36m<module>\u001b[0;34m()\u001b[0m\n\u001b[1;32m      5\u001b[0m \u001b[0mmodel\u001b[0m\u001b[0;34m.\u001b[0m\u001b[0moptimizer\u001b[0m\u001b[0;34m.\u001b[0m\u001b[0mlr\u001b[0m\u001b[0;34m=\u001b[0m\u001b[0;36m0.0001\u001b[0m\u001b[0;34m\u001b[0m\u001b[0m\n\u001b[1;32m      6\u001b[0m history2 = model.fit_generator(trn_gen(), x_trn_len, nb_epoch=20, callbacks=[evaluator],\n\u001b[0;32m----> 7\u001b[0;31m                     validation_data=val_data(), nb_val_samples=x_val_len)\n\u001b[0m",
      "\u001b[0;32m/home/viiv/anaconda2/lib/python2.7/site-packages/keras/engine/training.pyc\u001b[0m in \u001b[0;36mfit_generator\u001b[0;34m(self, generator, samples_per_epoch, nb_epoch, verbose, callbacks, validation_data, nb_val_samples, class_weight, max_q_size, nb_worker, pickle_safe, initial_epoch)\u001b[0m\n\u001b[1;32m   1555\u001b[0m                     outs = self.train_on_batch(x, y,\n\u001b[1;32m   1556\u001b[0m                                                \u001b[0msample_weight\u001b[0m\u001b[0;34m=\u001b[0m\u001b[0msample_weight\u001b[0m\u001b[0;34m,\u001b[0m\u001b[0;34m\u001b[0m\u001b[0m\n\u001b[0;32m-> 1557\u001b[0;31m                                                class_weight=class_weight)\n\u001b[0m\u001b[1;32m   1558\u001b[0m \u001b[0;34m\u001b[0m\u001b[0m\n\u001b[1;32m   1559\u001b[0m                     \u001b[0;32mif\u001b[0m \u001b[0;32mnot\u001b[0m \u001b[0misinstance\u001b[0m\u001b[0;34m(\u001b[0m\u001b[0mouts\u001b[0m\u001b[0;34m,\u001b[0m \u001b[0mlist\u001b[0m\u001b[0;34m)\u001b[0m\u001b[0;34m:\u001b[0m\u001b[0;34m\u001b[0m\u001b[0m\n",
      "\u001b[0;32m/home/viiv/anaconda2/lib/python2.7/site-packages/keras/engine/training.pyc\u001b[0m in \u001b[0;36mtrain_on_batch\u001b[0;34m(self, x, y, sample_weight, class_weight)\u001b[0m\n\u001b[1;32m   1318\u001b[0m             \u001b[0mins\u001b[0m \u001b[0;34m=\u001b[0m \u001b[0mx\u001b[0m \u001b[0;34m+\u001b[0m \u001b[0my\u001b[0m \u001b[0;34m+\u001b[0m \u001b[0msample_weights\u001b[0m\u001b[0;34m\u001b[0m\u001b[0m\n\u001b[1;32m   1319\u001b[0m         \u001b[0mself\u001b[0m\u001b[0;34m.\u001b[0m\u001b[0m_make_train_function\u001b[0m\u001b[0;34m(\u001b[0m\u001b[0;34m)\u001b[0m\u001b[0;34m\u001b[0m\u001b[0m\n\u001b[0;32m-> 1320\u001b[0;31m         \u001b[0moutputs\u001b[0m \u001b[0;34m=\u001b[0m \u001b[0mself\u001b[0m\u001b[0;34m.\u001b[0m\u001b[0mtrain_function\u001b[0m\u001b[0;34m(\u001b[0m\u001b[0mins\u001b[0m\u001b[0;34m)\u001b[0m\u001b[0;34m\u001b[0m\u001b[0m\n\u001b[0m\u001b[1;32m   1321\u001b[0m         \u001b[0;32mif\u001b[0m \u001b[0mlen\u001b[0m\u001b[0;34m(\u001b[0m\u001b[0moutputs\u001b[0m\u001b[0;34m)\u001b[0m \u001b[0;34m==\u001b[0m \u001b[0;36m1\u001b[0m\u001b[0;34m:\u001b[0m\u001b[0;34m\u001b[0m\u001b[0m\n\u001b[1;32m   1322\u001b[0m             \u001b[0;32mreturn\u001b[0m \u001b[0moutputs\u001b[0m\u001b[0;34m[\u001b[0m\u001b[0;36m0\u001b[0m\u001b[0;34m]\u001b[0m\u001b[0;34m\u001b[0m\u001b[0m\n",
      "\u001b[0;32m/home/viiv/anaconda2/lib/python2.7/site-packages/keras/backend/tensorflow_backend.pyc\u001b[0m in \u001b[0;36m__call__\u001b[0;34m(self, inputs)\u001b[0m\n\u001b[1;32m   1941\u001b[0m         \u001b[0msession\u001b[0m \u001b[0;34m=\u001b[0m \u001b[0mget_session\u001b[0m\u001b[0;34m(\u001b[0m\u001b[0;34m)\u001b[0m\u001b[0;34m\u001b[0m\u001b[0m\n\u001b[1;32m   1942\u001b[0m         updated = session.run(self.outputs + [self.updates_op],\n\u001b[0;32m-> 1943\u001b[0;31m                               feed_dict=feed_dict)\n\u001b[0m\u001b[1;32m   1944\u001b[0m         \u001b[0;32mreturn\u001b[0m \u001b[0mupdated\u001b[0m\u001b[0;34m[\u001b[0m\u001b[0;34m:\u001b[0m\u001b[0mlen\u001b[0m\u001b[0;34m(\u001b[0m\u001b[0mself\u001b[0m\u001b[0;34m.\u001b[0m\u001b[0moutputs\u001b[0m\u001b[0;34m)\u001b[0m\u001b[0;34m]\u001b[0m\u001b[0;34m\u001b[0m\u001b[0m\n\u001b[1;32m   1945\u001b[0m \u001b[0;34m\u001b[0m\u001b[0m\n",
      "\u001b[0;32m/home/viiv/anaconda2/lib/python2.7/site-packages/tensorflow/python/client/session.pyc\u001b[0m in \u001b[0;36mrun\u001b[0;34m(self, fetches, feed_dict, options, run_metadata)\u001b[0m\n\u001b[1;32m    715\u001b[0m     \u001b[0;32mtry\u001b[0m\u001b[0;34m:\u001b[0m\u001b[0;34m\u001b[0m\u001b[0m\n\u001b[1;32m    716\u001b[0m       result = self._run(None, fetches, feed_dict, options_ptr,\n\u001b[0;32m--> 717\u001b[0;31m                          run_metadata_ptr)\n\u001b[0m\u001b[1;32m    718\u001b[0m       \u001b[0;32mif\u001b[0m \u001b[0mrun_metadata\u001b[0m\u001b[0;34m:\u001b[0m\u001b[0;34m\u001b[0m\u001b[0m\n\u001b[1;32m    719\u001b[0m         \u001b[0mproto_data\u001b[0m \u001b[0;34m=\u001b[0m \u001b[0mtf_session\u001b[0m\u001b[0;34m.\u001b[0m\u001b[0mTF_GetBuffer\u001b[0m\u001b[0;34m(\u001b[0m\u001b[0mrun_metadata_ptr\u001b[0m\u001b[0;34m)\u001b[0m\u001b[0;34m\u001b[0m\u001b[0m\n",
      "\u001b[0;32m/home/viiv/anaconda2/lib/python2.7/site-packages/tensorflow/python/client/session.pyc\u001b[0m in \u001b[0;36m_run\u001b[0;34m(self, handle, fetches, feed_dict, options, run_metadata)\u001b[0m\n\u001b[1;32m    913\u001b[0m     \u001b[0;32mif\u001b[0m \u001b[0mfinal_fetches\u001b[0m \u001b[0;32mor\u001b[0m \u001b[0mfinal_targets\u001b[0m\u001b[0;34m:\u001b[0m\u001b[0;34m\u001b[0m\u001b[0m\n\u001b[1;32m    914\u001b[0m       results = self._do_run(handle, final_targets, final_fetches,\n\u001b[0;32m--> 915\u001b[0;31m                              feed_dict_string, options, run_metadata)\n\u001b[0m\u001b[1;32m    916\u001b[0m     \u001b[0;32melse\u001b[0m\u001b[0;34m:\u001b[0m\u001b[0;34m\u001b[0m\u001b[0m\n\u001b[1;32m    917\u001b[0m       \u001b[0mresults\u001b[0m \u001b[0;34m=\u001b[0m \u001b[0;34m[\u001b[0m\u001b[0;34m]\u001b[0m\u001b[0;34m\u001b[0m\u001b[0m\n",
      "\u001b[0;32m/home/viiv/anaconda2/lib/python2.7/site-packages/tensorflow/python/client/session.pyc\u001b[0m in \u001b[0;36m_do_run\u001b[0;34m(self, handle, target_list, fetch_list, feed_dict, options, run_metadata)\u001b[0m\n\u001b[1;32m    963\u001b[0m     \u001b[0;32mif\u001b[0m \u001b[0mhandle\u001b[0m \u001b[0;32mis\u001b[0m \u001b[0mNone\u001b[0m\u001b[0;34m:\u001b[0m\u001b[0;34m\u001b[0m\u001b[0m\n\u001b[1;32m    964\u001b[0m       return self._do_call(_run_fn, self._session, feed_dict, fetch_list,\n\u001b[0;32m--> 965\u001b[0;31m                            target_list, options, run_metadata)\n\u001b[0m\u001b[1;32m    966\u001b[0m     \u001b[0;32melse\u001b[0m\u001b[0;34m:\u001b[0m\u001b[0;34m\u001b[0m\u001b[0m\n\u001b[1;32m    967\u001b[0m       return self._do_call(_prun_fn, self._session, handle, feed_dict,\n",
      "\u001b[0;32m/home/viiv/anaconda2/lib/python2.7/site-packages/tensorflow/python/client/session.pyc\u001b[0m in \u001b[0;36m_do_call\u001b[0;34m(self, fn, *args)\u001b[0m\n\u001b[1;32m    970\u001b[0m   \u001b[0;32mdef\u001b[0m \u001b[0m_do_call\u001b[0m\u001b[0;34m(\u001b[0m\u001b[0mself\u001b[0m\u001b[0;34m,\u001b[0m \u001b[0mfn\u001b[0m\u001b[0;34m,\u001b[0m \u001b[0;34m*\u001b[0m\u001b[0margs\u001b[0m\u001b[0;34m)\u001b[0m\u001b[0;34m:\u001b[0m\u001b[0;34m\u001b[0m\u001b[0m\n\u001b[1;32m    971\u001b[0m     \u001b[0;32mtry\u001b[0m\u001b[0;34m:\u001b[0m\u001b[0;34m\u001b[0m\u001b[0m\n\u001b[0;32m--> 972\u001b[0;31m       \u001b[0;32mreturn\u001b[0m \u001b[0mfn\u001b[0m\u001b[0;34m(\u001b[0m\u001b[0;34m*\u001b[0m\u001b[0margs\u001b[0m\u001b[0;34m)\u001b[0m\u001b[0;34m\u001b[0m\u001b[0m\n\u001b[0m\u001b[1;32m    973\u001b[0m     \u001b[0;32mexcept\u001b[0m \u001b[0merrors\u001b[0m\u001b[0;34m.\u001b[0m\u001b[0mOpError\u001b[0m \u001b[0;32mas\u001b[0m \u001b[0me\u001b[0m\u001b[0;34m:\u001b[0m\u001b[0;34m\u001b[0m\u001b[0m\n\u001b[1;32m    974\u001b[0m       \u001b[0mmessage\u001b[0m \u001b[0;34m=\u001b[0m \u001b[0mcompat\u001b[0m\u001b[0;34m.\u001b[0m\u001b[0mas_text\u001b[0m\u001b[0;34m(\u001b[0m\u001b[0me\u001b[0m\u001b[0;34m.\u001b[0m\u001b[0mmessage\u001b[0m\u001b[0;34m)\u001b[0m\u001b[0;34m\u001b[0m\u001b[0m\n",
      "\u001b[0;32m/home/viiv/anaconda2/lib/python2.7/site-packages/tensorflow/python/client/session.pyc\u001b[0m in \u001b[0;36m_run_fn\u001b[0;34m(session, feed_dict, fetch_list, target_list, options, run_metadata)\u001b[0m\n\u001b[1;32m    952\u001b[0m         return tf_session.TF_Run(session, options,\n\u001b[1;32m    953\u001b[0m                                  \u001b[0mfeed_dict\u001b[0m\u001b[0;34m,\u001b[0m \u001b[0mfetch_list\u001b[0m\u001b[0;34m,\u001b[0m \u001b[0mtarget_list\u001b[0m\u001b[0;34m,\u001b[0m\u001b[0;34m\u001b[0m\u001b[0m\n\u001b[0;32m--> 954\u001b[0;31m                                  status, run_metadata)\n\u001b[0m\u001b[1;32m    955\u001b[0m \u001b[0;34m\u001b[0m\u001b[0m\n\u001b[1;32m    956\u001b[0m     \u001b[0;32mdef\u001b[0m \u001b[0m_prun_fn\u001b[0m\u001b[0;34m(\u001b[0m\u001b[0msession\u001b[0m\u001b[0;34m,\u001b[0m \u001b[0mhandle\u001b[0m\u001b[0;34m,\u001b[0m \u001b[0mfeed_dict\u001b[0m\u001b[0;34m,\u001b[0m \u001b[0mfetch_list\u001b[0m\u001b[0;34m)\u001b[0m\u001b[0;34m:\u001b[0m\u001b[0;34m\u001b[0m\u001b[0m\n",
      "\u001b[0;31mKeyboardInterrupt\u001b[0m: "
     ]
    }
   ],
   "source": [
    "model.compile(loss={'ctc': lambda y_true, y_pred: y_pred}, optimizer='rmsprop')\n",
    "history1 = model.fit_generator(trn_gen(), x_trn_len, nb_epoch=20, callbacks=[evaluator],\n",
    "                    validation_data=val_data(), nb_val_samples=x_val_len)\n",
    "\n",
    "model.optimizer.lr=0.0001\n",
    "history2 = model.fit_generator(trn_gen(), x_trn_len, nb_epoch=20, callbacks=[evaluator],\n",
    "                    validation_data=val_data(), nb_val_samples=x_val_len)"
   ]
  },
  {
   "cell_type": "code",
   "execution_count": 85,
   "metadata": {
    "scrolled": true
   },
   "outputs": [
    {
     "ename": "KeyError",
     "evalue": "'val_loss'",
     "output_type": "error",
     "traceback": [
      "\u001b[0;31m---------------------------------------------------------------------------\u001b[0m",
      "\u001b[0;31mKeyError\u001b[0m                                  Traceback (most recent call last)",
      "\u001b[0;32m<ipython-input-85-a40f81d67ea7>\u001b[0m in \u001b[0;36m<module>\u001b[0;34m()\u001b[0m\n\u001b[1;32m      1\u001b[0m \u001b[0mloss\u001b[0m \u001b[0;34m=\u001b[0m \u001b[0mhistory1\u001b[0m\u001b[0;34m.\u001b[0m\u001b[0mhistory\u001b[0m\u001b[0;34m[\u001b[0m\u001b[0;34m'loss'\u001b[0m\u001b[0;34m]\u001b[0m\u001b[0;34m\u001b[0m\u001b[0m\n\u001b[0;32m----> 2\u001b[0;31m \u001b[0mval_loss\u001b[0m \u001b[0;34m=\u001b[0m \u001b[0mhistory1\u001b[0m\u001b[0;34m.\u001b[0m\u001b[0mhistory\u001b[0m\u001b[0;34m[\u001b[0m\u001b[0;34m'val_loss'\u001b[0m\u001b[0;34m]\u001b[0m\u001b[0;34m\u001b[0m\u001b[0m\n\u001b[0m\u001b[1;32m      3\u001b[0m \u001b[0;34m\u001b[0m\u001b[0m\n\u001b[1;32m      4\u001b[0m \u001b[0mepochs\u001b[0m \u001b[0;34m=\u001b[0m \u001b[0mrange\u001b[0m\u001b[0;34m(\u001b[0m\u001b[0mlen\u001b[0m\u001b[0;34m(\u001b[0m\u001b[0mloss\u001b[0m\u001b[0;34m)\u001b[0m\u001b[0;34m)\u001b[0m\u001b[0;34m\u001b[0m\u001b[0m\n\u001b[1;32m      5\u001b[0m \u001b[0mplt\u001b[0m\u001b[0;34m.\u001b[0m\u001b[0mplot\u001b[0m\u001b[0;34m(\u001b[0m\u001b[0mepochs\u001b[0m\u001b[0;34m,\u001b[0m \u001b[0mloss\u001b[0m\u001b[0;34m,\u001b[0m \u001b[0;34m'bo'\u001b[0m\u001b[0;34m)\u001b[0m\u001b[0;34m\u001b[0m\u001b[0m\n",
      "\u001b[0;31mKeyError\u001b[0m: 'val_loss'"
     ]
    }
   ],
   "source": [
    "loss = history1.history['loss']\n",
    "val_loss = history1.history['val_loss']\n",
    "\n",
    "epochs = range(len(loss))\n",
    "plt.plot(epochs, loss, 'bo')\n",
    "plt.plot(epochs, val_loss, 'b')\n",
    "\n",
    "plt.show()\n"
   ]
  },
  {
   "cell_type": "code",
   "execution_count": null,
   "metadata": {
    "collapsed": true
   },
   "outputs": [
    {
     "name": "stdout",
     "output_type": "stream",
     "text": [
      "Epoch 1/20\n",
      "215488/215552 [============================>.] - ETA: 0s - loss: 2.5804[ 0 39  5 13 13  7 12  9  2  0  0  8  7  7 14 11  2  8  6 10 11 15  1  1  2 11 14  6 11 11  1]\n",
      "[ 0 14 10 13 15  8  2  0  0 10  8 14  9 14  4 39  5 11  9  6  8  6  1  1  4  1 14  9 10 10  1]\n",
      " acc: 69.959228%\n",
      " short: 91.786268%\n",
      " l: 33.765363%\n",
      "215552/215552 [==============================] - 824s - loss: 2.5802 - val_loss: 1.9581\n",
      "Epoch 2/20\n",
      "215488/215552 [============================>.] - ETA: 0s - loss: 3.6731[ 0 19  5 13 13  7 12 15  2  0  0  8  7  7 14 11  2  8  6 10 11 15  1  1  2 11 14  6 11 11  1]\n",
      "[ 0  9 11 10 13  8  2  7 15 14  7 15  1  4  0  9 13 14 14 13  1  2 25  5 13  7 10  6 13 15  1]\n",
      "[ 0  9  7  7 12  6  6  3  0 27  5 13  7  6  6 12  2 11  6  7 14  6  1  1  4 12 10  7 13  8  1]\n",
      " acc: 71.535455%\n",
      " short: 90.802507%\n",
      " l: 39.586592%\n",
      "215552/215552 [==============================] - 825s - loss: 3.6725 - val_loss: 1.6757\n",
      "Epoch 3/20\n",
      "215488/215552 [============================>.] - ETA: 0s - loss: 2.2219 acc: 74.074230%\n",
      " short: 93.106933%\n",
      " l: 42.513966%\n",
      "215552/215552 [==============================] - 820s - loss: 2.2216 - val_loss: 1.4904\n",
      "Epoch 4/20\n",
      "215488/215552 [============================>.] - ETA: 0s - loss: 2.4418[ 0  0 35  5  9  7  7 13  6  3  8  9 15  6 15  1  1  4  7  6 12 13  6 10  1  2 12 13 15  9 15]\n",
      " acc: 73.498382%\n",
      " short: 93.140624%\n",
      " l: 40.927374%\n",
      "215552/215552 [==============================] - 822s - loss: 2.4415 - val_loss: 1.5915\n",
      "Epoch 5/20\n",
      "215488/215552 [============================>.] - ETA: 0s - loss: 1.6839[27  5  9  7 14  8 11  2  0  2  0  0  9  9 10 15 15  4 11 10  9 12  8  1  3  7 11 12 10 14  1]\n",
      "[28  5  8  9 12 15 15  4  0  4  0  0 10 15 10  8 11  4 13 10  6 15 12  1  3 15 10 14 11 14  1]\n",
      " acc: 75.545374%\n",
      " short: 93.349505%\n",
      " l: 46.022346%\n",
      "215552/215552 [==============================] - 823s - loss: 1.6837 - val_loss: 1.3611\n",
      "Epoch 6/20\n",
      "215488/215552 [============================>.] - ETA: 0s - loss: 1.7104 acc: 77.857173%\n",
      " short: 94.340004%\n",
      " l: 50.525140%\n",
      "215552/215552 [==============================] - 822s - loss: 1.7102 - val_loss: 1.1833\n",
      "Epoch 9/20\n",
      "215488/215552 [============================>.] - ETA: 0s - loss: 1.1746 acc: 79.530074%\n",
      " short: 94.737551%\n",
      " l: 54.312849%\n",
      "215552/215552 [==============================] - 822s - loss: 1.1745 - val_loss: 1.0704\n",
      "Epoch 10/20\n",
      " 19520/215552 [=>............................] - ETA: 688s - loss: 3.7150"
     ]
    },
    {
     "ename": "KeyboardInterrupt",
     "evalue": "",
     "output_type": "error",
     "traceback": [
      "\u001b[0;31m---------------------------------------------------------------------------\u001b[0m",
      "\u001b[0;31mKeyboardInterrupt\u001b[0m                         Traceback (most recent call last)",
      "\u001b[0;32m<ipython-input-51-d59d41f693c7>\u001b[0m in \u001b[0;36m<module>\u001b[0;34m()\u001b[0m\n\u001b[1;32m      1\u001b[0m \u001b[0mmodel\u001b[0m\u001b[0;34m.\u001b[0m\u001b[0moptimizer\u001b[0m\u001b[0;34m.\u001b[0m\u001b[0mlr\u001b[0m\u001b[0;34m=\u001b[0m\u001b[0;36m0.00001\u001b[0m\u001b[0;34m\u001b[0m\u001b[0m\n\u001b[1;32m      2\u001b[0m history3 = model.fit_generator(trn_gen(), x_trn_len, nb_epoch=20, callbacks=[evaluator],\n\u001b[0;32m----> 3\u001b[0;31m                     validation_data=val_data(), nb_val_samples=x_val_len)\n\u001b[0m",
      "\u001b[0;32m/home/viiv/anaconda2/lib/python2.7/site-packages/keras/engine/training.pyc\u001b[0m in \u001b[0;36mfit_generator\u001b[0;34m(self, generator, samples_per_epoch, nb_epoch, verbose, callbacks, validation_data, nb_val_samples, class_weight, max_q_size, nb_worker, pickle_safe, initial_epoch)\u001b[0m\n\u001b[1;32m   1555\u001b[0m                     outs = self.train_on_batch(x, y,\n\u001b[1;32m   1556\u001b[0m                                                \u001b[0msample_weight\u001b[0m\u001b[0;34m=\u001b[0m\u001b[0msample_weight\u001b[0m\u001b[0;34m,\u001b[0m\u001b[0;34m\u001b[0m\u001b[0m\n\u001b[0;32m-> 1557\u001b[0;31m                                                class_weight=class_weight)\n\u001b[0m\u001b[1;32m   1558\u001b[0m \u001b[0;34m\u001b[0m\u001b[0m\n\u001b[1;32m   1559\u001b[0m                     \u001b[0;32mif\u001b[0m \u001b[0;32mnot\u001b[0m \u001b[0misinstance\u001b[0m\u001b[0;34m(\u001b[0m\u001b[0mouts\u001b[0m\u001b[0;34m,\u001b[0m \u001b[0mlist\u001b[0m\u001b[0;34m)\u001b[0m\u001b[0;34m:\u001b[0m\u001b[0;34m\u001b[0m\u001b[0m\n",
      "\u001b[0;32m/home/viiv/anaconda2/lib/python2.7/site-packages/keras/engine/training.pyc\u001b[0m in \u001b[0;36mtrain_on_batch\u001b[0;34m(self, x, y, sample_weight, class_weight)\u001b[0m\n\u001b[1;32m   1318\u001b[0m             \u001b[0mins\u001b[0m \u001b[0;34m=\u001b[0m \u001b[0mx\u001b[0m \u001b[0;34m+\u001b[0m \u001b[0my\u001b[0m \u001b[0;34m+\u001b[0m \u001b[0msample_weights\u001b[0m\u001b[0;34m\u001b[0m\u001b[0m\n\u001b[1;32m   1319\u001b[0m         \u001b[0mself\u001b[0m\u001b[0;34m.\u001b[0m\u001b[0m_make_train_function\u001b[0m\u001b[0;34m(\u001b[0m\u001b[0;34m)\u001b[0m\u001b[0;34m\u001b[0m\u001b[0m\n\u001b[0;32m-> 1320\u001b[0;31m         \u001b[0moutputs\u001b[0m \u001b[0;34m=\u001b[0m \u001b[0mself\u001b[0m\u001b[0;34m.\u001b[0m\u001b[0mtrain_function\u001b[0m\u001b[0;34m(\u001b[0m\u001b[0mins\u001b[0m\u001b[0;34m)\u001b[0m\u001b[0;34m\u001b[0m\u001b[0m\n\u001b[0m\u001b[1;32m   1321\u001b[0m         \u001b[0;32mif\u001b[0m \u001b[0mlen\u001b[0m\u001b[0;34m(\u001b[0m\u001b[0moutputs\u001b[0m\u001b[0;34m)\u001b[0m \u001b[0;34m==\u001b[0m \u001b[0;36m1\u001b[0m\u001b[0;34m:\u001b[0m\u001b[0;34m\u001b[0m\u001b[0m\n\u001b[1;32m   1322\u001b[0m             \u001b[0;32mreturn\u001b[0m \u001b[0moutputs\u001b[0m\u001b[0;34m[\u001b[0m\u001b[0;36m0\u001b[0m\u001b[0;34m]\u001b[0m\u001b[0;34m\u001b[0m\u001b[0m\n",
      "\u001b[0;32m/home/viiv/anaconda2/lib/python2.7/site-packages/keras/backend/tensorflow_backend.pyc\u001b[0m in \u001b[0;36m__call__\u001b[0;34m(self, inputs)\u001b[0m\n\u001b[1;32m   1941\u001b[0m         \u001b[0msession\u001b[0m \u001b[0;34m=\u001b[0m \u001b[0mget_session\u001b[0m\u001b[0;34m(\u001b[0m\u001b[0;34m)\u001b[0m\u001b[0;34m\u001b[0m\u001b[0m\n\u001b[1;32m   1942\u001b[0m         updated = session.run(self.outputs + [self.updates_op],\n\u001b[0;32m-> 1943\u001b[0;31m                               feed_dict=feed_dict)\n\u001b[0m\u001b[1;32m   1944\u001b[0m         \u001b[0;32mreturn\u001b[0m \u001b[0mupdated\u001b[0m\u001b[0;34m[\u001b[0m\u001b[0;34m:\u001b[0m\u001b[0mlen\u001b[0m\u001b[0;34m(\u001b[0m\u001b[0mself\u001b[0m\u001b[0;34m.\u001b[0m\u001b[0moutputs\u001b[0m\u001b[0;34m)\u001b[0m\u001b[0;34m]\u001b[0m\u001b[0;34m\u001b[0m\u001b[0m\n\u001b[1;32m   1945\u001b[0m \u001b[0;34m\u001b[0m\u001b[0m\n",
      "\u001b[0;32m/home/viiv/anaconda2/lib/python2.7/site-packages/tensorflow/python/client/session.pyc\u001b[0m in \u001b[0;36mrun\u001b[0;34m(self, fetches, feed_dict, options, run_metadata)\u001b[0m\n\u001b[1;32m    715\u001b[0m     \u001b[0;32mtry\u001b[0m\u001b[0;34m:\u001b[0m\u001b[0;34m\u001b[0m\u001b[0m\n\u001b[1;32m    716\u001b[0m       result = self._run(None, fetches, feed_dict, options_ptr,\n\u001b[0;32m--> 717\u001b[0;31m                          run_metadata_ptr)\n\u001b[0m\u001b[1;32m    718\u001b[0m       \u001b[0;32mif\u001b[0m \u001b[0mrun_metadata\u001b[0m\u001b[0;34m:\u001b[0m\u001b[0;34m\u001b[0m\u001b[0m\n\u001b[1;32m    719\u001b[0m         \u001b[0mproto_data\u001b[0m \u001b[0;34m=\u001b[0m \u001b[0mtf_session\u001b[0m\u001b[0;34m.\u001b[0m\u001b[0mTF_GetBuffer\u001b[0m\u001b[0;34m(\u001b[0m\u001b[0mrun_metadata_ptr\u001b[0m\u001b[0;34m)\u001b[0m\u001b[0;34m\u001b[0m\u001b[0m\n",
      "\u001b[0;32m/home/viiv/anaconda2/lib/python2.7/site-packages/tensorflow/python/client/session.pyc\u001b[0m in \u001b[0;36m_run\u001b[0;34m(self, handle, fetches, feed_dict, options, run_metadata)\u001b[0m\n\u001b[1;32m    913\u001b[0m     \u001b[0;32mif\u001b[0m \u001b[0mfinal_fetches\u001b[0m \u001b[0;32mor\u001b[0m \u001b[0mfinal_targets\u001b[0m\u001b[0;34m:\u001b[0m\u001b[0;34m\u001b[0m\u001b[0m\n\u001b[1;32m    914\u001b[0m       results = self._do_run(handle, final_targets, final_fetches,\n\u001b[0;32m--> 915\u001b[0;31m                              feed_dict_string, options, run_metadata)\n\u001b[0m\u001b[1;32m    916\u001b[0m     \u001b[0;32melse\u001b[0m\u001b[0;34m:\u001b[0m\u001b[0;34m\u001b[0m\u001b[0m\n\u001b[1;32m    917\u001b[0m       \u001b[0mresults\u001b[0m \u001b[0;34m=\u001b[0m \u001b[0;34m[\u001b[0m\u001b[0;34m]\u001b[0m\u001b[0;34m\u001b[0m\u001b[0m\n",
      "\u001b[0;32m/home/viiv/anaconda2/lib/python2.7/site-packages/tensorflow/python/client/session.pyc\u001b[0m in \u001b[0;36m_do_run\u001b[0;34m(self, handle, target_list, fetch_list, feed_dict, options, run_metadata)\u001b[0m\n\u001b[1;32m    963\u001b[0m     \u001b[0;32mif\u001b[0m \u001b[0mhandle\u001b[0m \u001b[0;32mis\u001b[0m \u001b[0mNone\u001b[0m\u001b[0;34m:\u001b[0m\u001b[0;34m\u001b[0m\u001b[0m\n\u001b[1;32m    964\u001b[0m       return self._do_call(_run_fn, self._session, feed_dict, fetch_list,\n\u001b[0;32m--> 965\u001b[0;31m                            target_list, options, run_metadata)\n\u001b[0m\u001b[1;32m    966\u001b[0m     \u001b[0;32melse\u001b[0m\u001b[0;34m:\u001b[0m\u001b[0;34m\u001b[0m\u001b[0m\n\u001b[1;32m    967\u001b[0m       return self._do_call(_prun_fn, self._session, handle, feed_dict,\n",
      "\u001b[0;32m/home/viiv/anaconda2/lib/python2.7/site-packages/tensorflow/python/client/session.pyc\u001b[0m in \u001b[0;36m_do_call\u001b[0;34m(self, fn, *args)\u001b[0m\n\u001b[1;32m    970\u001b[0m   \u001b[0;32mdef\u001b[0m \u001b[0m_do_call\u001b[0m\u001b[0;34m(\u001b[0m\u001b[0mself\u001b[0m\u001b[0;34m,\u001b[0m \u001b[0mfn\u001b[0m\u001b[0;34m,\u001b[0m \u001b[0;34m*\u001b[0m\u001b[0margs\u001b[0m\u001b[0;34m)\u001b[0m\u001b[0;34m:\u001b[0m\u001b[0;34m\u001b[0m\u001b[0m\n\u001b[1;32m    971\u001b[0m     \u001b[0;32mtry\u001b[0m\u001b[0;34m:\u001b[0m\u001b[0;34m\u001b[0m\u001b[0m\n\u001b[0;32m--> 972\u001b[0;31m       \u001b[0;32mreturn\u001b[0m \u001b[0mfn\u001b[0m\u001b[0;34m(\u001b[0m\u001b[0;34m*\u001b[0m\u001b[0margs\u001b[0m\u001b[0;34m)\u001b[0m\u001b[0;34m\u001b[0m\u001b[0m\n\u001b[0m\u001b[1;32m    973\u001b[0m     \u001b[0;32mexcept\u001b[0m \u001b[0merrors\u001b[0m\u001b[0;34m.\u001b[0m\u001b[0mOpError\u001b[0m \u001b[0;32mas\u001b[0m \u001b[0me\u001b[0m\u001b[0;34m:\u001b[0m\u001b[0;34m\u001b[0m\u001b[0m\n\u001b[1;32m    974\u001b[0m       \u001b[0mmessage\u001b[0m \u001b[0;34m=\u001b[0m \u001b[0mcompat\u001b[0m\u001b[0;34m.\u001b[0m\u001b[0mas_text\u001b[0m\u001b[0;34m(\u001b[0m\u001b[0me\u001b[0m\u001b[0;34m.\u001b[0m\u001b[0mmessage\u001b[0m\u001b[0;34m)\u001b[0m\u001b[0;34m\u001b[0m\u001b[0m\n",
      "\u001b[0;32m/home/viiv/anaconda2/lib/python2.7/site-packages/tensorflow/python/client/session.pyc\u001b[0m in \u001b[0;36m_run_fn\u001b[0;34m(session, feed_dict, fetch_list, target_list, options, run_metadata)\u001b[0m\n\u001b[1;32m    952\u001b[0m         return tf_session.TF_Run(session, options,\n\u001b[1;32m    953\u001b[0m                                  \u001b[0mfeed_dict\u001b[0m\u001b[0;34m,\u001b[0m \u001b[0mfetch_list\u001b[0m\u001b[0;34m,\u001b[0m \u001b[0mtarget_list\u001b[0m\u001b[0;34m,\u001b[0m\u001b[0;34m\u001b[0m\u001b[0m\n\u001b[0;32m--> 954\u001b[0;31m                                  status, run_metadata)\n\u001b[0m\u001b[1;32m    955\u001b[0m \u001b[0;34m\u001b[0m\u001b[0m\n\u001b[1;32m    956\u001b[0m     \u001b[0;32mdef\u001b[0m \u001b[0m_prun_fn\u001b[0m\u001b[0;34m(\u001b[0m\u001b[0msession\u001b[0m\u001b[0;34m,\u001b[0m \u001b[0mhandle\u001b[0m\u001b[0;34m,\u001b[0m \u001b[0mfeed_dict\u001b[0m\u001b[0;34m,\u001b[0m \u001b[0mfetch_list\u001b[0m\u001b[0;34m)\u001b[0m\u001b[0;34m:\u001b[0m\u001b[0;34m\u001b[0m\u001b[0m\n",
      "\u001b[0;31mKeyboardInterrupt\u001b[0m: "
     ]
    }
   ],
   "source": [
    "model.optimizer.lr=0.00001\n",
    "history3 = model.fit_generator(trn_gen(), x_trn_len, nb_epoch=20, callbacks=[evaluator],\n",
    "                    validation_data=val_data(), nb_val_samples=x_val_len)"
   ]
  },
  {
   "cell_type": "code",
   "execution_count": 26,
   "metadata": {
    "collapsed": true
   },
   "outputs": [],
   "source": [
    "def show_result(base_model, batch_num=None):\n",
    "    [X_test, y_test, _, _], _  = val_data()\n",
    "    if batch_num is None: batch_num = len(X_test)\n",
    "    out = base_model.predict(X_test[:batch_num])\n",
    "    correct_number = 0\n",
    "    for j in range(out.shape[0]):\n",
    "        out_best = list(np.argmax(out[j, 2:], 1))\n",
    "        out_best = np.array([k for k, g in itertools.groupby(out_best)])\n",
    "        l = out_best[np.where(out_best != img_gen.zero_idx)[0]]\n",
    "        \n",
    "        print(img_gen.to_pretty_label(l))\n",
    "        plots(np.expand_dims(np.transpose(X_test[j], (1,0,2)), axis=0))\n",
    "    "
   ]
  },
  {
   "cell_type": "code",
   "execution_count": 67,
   "metadata": {
    "collapsed": true
   },
   "outputs": [],
   "source": [
    "def show_wrong_result(base_model, batch_num=None):\n",
    "    [X_test, y_test, _, label_length], _  = val_data()\n",
    "    if batch_num is None: batch_num = len(X_test)\n",
    "    pred = base_model.predict(X_test[:batch_num])\n",
    "    correct_number = 0\n",
    "    \n",
    "    shape = pred[:,2:,:].shape\n",
    "    out = K.get_value(K.ctc_decode(pred[:,2:,:], input_length=np.ones(shape[0])*shape[1])[0][0])\n",
    "    \n",
    "    for j in range(out.shape[0]):\n",
    "        l = out[j][np.where(out[j] != -1)[0]]\n",
    "        \n",
    "        if label_length[j] != len(l) or not np.array_equal(l, y_test[j][:label_length[j][0]]):\n",
    "            print(u'{}  {}'.format(img_gen.to_pretty_label(l), img_gen.to_pretty_label(y_test[j])))\n",
    "            plt.figure(figsize=(10,60), frameon=True)\n",
    "            plt.imshow(X_test[j].transpose(1,0,2).reshape(60,400,3))\n",
    "            #plots(np.expand_dims(np.transpose(X_test[j], (1,0,2)), axis=0))\n",
    "            \n",
    "    "
   ]
  },
  {
   "cell_type": "code",
   "execution_count": 70,
   "metadata": {
    "collapsed": true
   },
   "outputs": [
    {
     "name": "stdout",
     "output_type": "stream",
     "text": [
      "柳=29839\n",
      "柳=6075\n",
      "91656+(82642-(回/46950+8842))\n",
      "锁=67574\n",
      "塘*(复/85814-77494-43109)\n",
      "柳-(65454*(奔/26836-7834))\n",
      "水=22871\n",
      "锁=35473\n",
      "深=44448\n",
      "((81984+27327)-烧)*奔/43062\n"
     ]
    },
    {
     "data": {
      "image/png": "[encoded data removed]",
      "text/plain": [
       "<matplotlib.figure.Figure at 0x7f66603dcdd0>"
      ]
     },
     "metadata": {},
     "output_type": "display_data"
    },
    {
     "data": {
      "image/png": "[encoded data removed]",
      "text/plain": [
       "<matplotlib.figure.Figure at 0x7f66603dc510>"
      ]
     },
     "metadata": {},
     "output_type": "display_data"
    },
    {
     "data": {
      "image/png": "[encoded data removed]",
      "text/plain": [
       "<matplotlib.figure.Figure at 0x7f66603dc3d0>"
      ]
     },
     "metadata": {},
     "output_type": "display_data"
    },
    {
     "data": {
      "image/png": "[encoded data removed]",
      "text/plain": [
       "<matplotlib.figure.Figure at 0x7f66605d93d0>"
      ]
     },
     "metadata": {},
     "output_type": "display_data"
    },
    {
     "data": {
      "image/png": "[encoded data removed]",
      "text/plain": [
       "<matplotlib.figure.Figure at 0x7f70f5ab1150>"
      ]
     },
     "metadata": {},
     "output_type": "display_data"
    },
    {
     "data": {
      "image/png": "[encoded data removed]",
      "text/plain": [
       "<matplotlib.figure.Figure at 0x7f66845034d0>"
      ]
     },
     "metadata": {},
     "output_type": "display_data"
    },
    {
     "data": {
      "image/png": "[encoded data removed]",
      "text/plain": [
       "<matplotlib.figure.Figure at 0x7f70f7dd84d0>"
      ]
     },
     "metadata": {},
     "output_type": "display_data"
    },
    {
     "data": {
      "image/png": "[encoded data removed]",
      "text/plain": [
       "<matplotlib.figure.Figure at 0x7f668c2d4fd0>"
      ]
     },
     "metadata": {},
     "output_type": "display_data"
    },
    {
     "data": {
      "image/png": "[encoded data removed]",
      "text/plain": [
       "<matplotlib.figure.Figure at 0x7f70f5c08690>"
      ]
     },
     "metadata": {},
     "output_type": "display_data"
    },
    {
     "data": {
      "image/png": "[encoded data removed]",
      "text/plain": [
       "<matplotlib.figure.Figure at 0x7f666051b250>"
      ]
     },
     "metadata": {},
     "output_type": "display_data"
    }
   ],
   "source": [
    "show_result(base_model, 10)"
   ]
  },
  {
   "cell_type": "code",
   "execution_count": 86,
   "metadata": {},
   "outputs": [
    {
     "name": "stdout",
     "output_type": "stream",
     "text": [
      "((河/57749*圳)+19133)*69954  ((河/67749*圳)+19133)*69954\n",
      "海/43307-(87100+71129)-19331  流/43307-(87100+71129)-19331\n",
      "((锁+之/28815)*66484)+22851  ((锁+之/28615)*66484)+22851\n",
      "君/92770-99898+塘-43138  河/92770-99898+塘-43138\n",
      "见/1695*35014+(25010*柳)  见/41695*35014+(25010*柳)\n"
     ]
    },
    {
     "data": {
      "image/png": "[encoded data removed]",
      "text/plain": [
       "<matplotlib.figure.Figure at 0x7f8e492e1350>"
      ]
     },
     "metadata": {},
     "output_type": "display_data"
    },
    {
     "data": {
      "image/png": "[encoded data removed]",
      "text/plain": [
       "<matplotlib.figure.Figure at 0x7f8e42cc7a50>"
      ]
     },
     "metadata": {},
     "output_type": "display_data"
    },
    {
     "data": {
      "image/png": "[encoded data removed]",
      "text/plain": [
       "<matplotlib.figure.Figure at 0x7f8e42c1cad0>"
      ]
     },
     "metadata": {},
     "output_type": "display_data"
    },
    {
     "data": {
      "image/png": "[encoded data removed]",
      "text/plain": [
       "<matplotlib.figure.Figure at 0x7f8e42b9bd10>"
      ]
     },
     "metadata": {},
     "output_type": "display_data"
    },
    {
     "data": {
      "image/png": "[encoded data removed]",
      "text/plain": [
       "<matplotlib.figure.Figure at 0x7f8e42b2cf50>"
      ]
     },
     "metadata": {},
     "output_type": "display_data"
    }
   ],
   "source": [
    "show_wrong_result(base_model, 100)"
   ]
  },
  {
   "cell_type": "code",
   "execution_count": 61,
   "metadata": {
    "collapsed": true
   },
   "outputs": [],
   "source": [
    "model.save_weights('l2_first_54.wgt')"
   ]
  },
  {
   "cell_type": "code",
   "execution_count": 92,
   "metadata": {
    "collapsed": true
   },
   "outputs": [],
   "source": [
    "model.load_weights('l2_first_54.wgt')"
   ]
  },
  {
   "cell_type": "code",
   "execution_count": 95,
   "metadata": {
    "collapsed": true
   },
   "outputs": [],
   "source": [
    "model.save('l2_first_54.h5')"
   ]
  },
  {
   "cell_type": "code",
   "execution_count": 59,
   "metadata": {
    "collapsed": true
   },
   "outputs": [],
   "source": [
    "model.save_weights('xxx.wgt')"
   ]
  },
  {
   "cell_type": "code",
   "execution_count": 22,
   "metadata": {
    "collapsed": true
   },
   "outputs": [],
   "source": [
    "model.load_weights('xxx.wgt')"
   ]
  },
  {
   "cell_type": "code",
   "execution_count": null,
   "metadata": {
    "collapsed": true
   },
   "outputs": [],
   "source": [
    "model"
   ]
  }
 ],
 "metadata": {
  "kernelspec": {
   "display_name": "Python [conda root]",
   "language": "python",
   "name": "conda-root-py"
  },
  "language_info": {
   "codemirror_mode": {
    "name": "ipython",
    "version": 2
   },
   "file_extension": ".py",
   "mimetype": "text/x-python",
   "name": "python",
   "nbconvert_exporter": "python",
   "pygments_lexer": "ipython2",
   "version": "2.7.13"
  }
 },
 "nbformat": 4,
 "nbformat_minor": 2
}
