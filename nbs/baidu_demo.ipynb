{
 "cells": [
  {
   "cell_type": "code",
   "execution_count": 5,
   "metadata": {},
   "outputs": [
    {
     "name": "stderr",
     "output_type": "stream",
     "text": [
      "WARNING (theano.sandbox.cuda): The cuda backend is deprecated and will be removed in the next release (v0.10).  Please switch to the gpuarray backend. You can get more information about how to switch at this URL:\n",
      " https://github.com/Theano/Theano/wiki/Converting-to-the-new-gpu-back-end%28gpuarray%29\n",
      "\n",
      "Using gpu device 0: GeForce GTX 760 (CNMeM is disabled, cuDNN 5103)\n",
      "Using Theano backend.\n"
     ]
    }
   ],
   "source": [
    "%matplotlib inline\n",
    "from __future__ import print_function, division\n",
    "path = \"data/baidu/\"\n",
    "#path = \"data/state/sample/\"\n",
    "import utils; reload(utils)\n",
    "from utils import *\n",
    "from IPython.display import FileLink"
   ]
  },
  {
   "cell_type": "code",
   "execution_count": 3,
   "metadata": {
    "collapsed": true
   },
   "outputs": [],
   "source": [
    "tokens = ['0','1','2', '3','4','5','6','7','8','9','(',')', '+', '-', '*', 'N']"
   ]
  },
  {
   "cell_type": "markdown",
   "metadata": {},
   "source": [
    "# 准备数据"
   ]
  },
  {
   "cell_type": "markdown",
   "metadata": {},
   "source": [
    "### 加载图片"
   ]
  },
  {
   "cell_type": "code",
   "execution_count": 4,
   "metadata": {},
   "outputs": [
    {
     "name": "stdout",
     "output_type": "stream",
     "text": [
      "Found 100000 images belonging to 1 classes.\n"
     ]
    }
   ],
   "source": [
    "gen = image.ImageDataGenerator()\n",
    "batches = gen.flow_from_directory(path+'/image_contest_level_1', \n",
    "                                  batch_size=1, \n",
    "                                  target_size=(30,90),\n",
    "                                  shuffle=False,\n",
    "                                  class_mode=None,\n",
    "                                  color_mode='grayscale'\n",
    "                                 )\n"
   ]
  },
  {
   "cell_type": "code",
   "execution_count": 5,
   "metadata": {
    "collapsed": true
   },
   "outputs": [],
   "source": [
    "#imgs = np.concatenate([batches.next() for i in range(batches.nb_sample)])\n",
    "\n",
    "imgs = load_array(path+'imgs0.dat')   #一般直接加载保存好的数据，快速加载"
   ]
  },
  {
   "cell_type": "markdown",
   "metadata": {},
   "source": [
    "### 处理标签"
   ]
  },
  {
   "cell_type": "code",
   "execution_count": 6,
   "metadata": {
    "collapsed": true
   },
   "outputs": [],
   "source": [
    "x2label_idx = [int(f[8:][:-4]) for f in batches.filenames]\n",
    "label_texts = []\n",
    "lines = []\n",
    "with open(path+'labels.txt') as f:\n",
    "    lines = f.readlines()\n",
    "label_texts = [l.strip().split()[0].ljust(7, 'N') for l in lines]\n",
    "token2idx={char:i for i, char in enumerate(tokens)}\n",
    "labels = np.array([[token2idx[token] for token in ts] for ts in label_texts])"
   ]
  },
  {
   "cell_type": "code",
   "execution_count": 7,
   "metadata": {
    "collapsed": true
   },
   "outputs": [],
   "source": [
    "idxs = np.random.permutation(imgs.shape[0])\n",
    "mask = np.random.rand(len(imgs)) < 0.8\n",
    "trn_idxs = idxs[mask]\n",
    "val_idxs = idxs[~mask]\n",
    "\n",
    "x_trn = imgs[trn_idxs]\n",
    "y_trn_m = labels[np.array(x2label_idx)[trn_idxs]]\n",
    "y_trn = np.expand_dims(np.stack(y_trn_m, axis=0), -1)\n",
    "\n",
    "x_val = imgs[val_idxs]\n",
    "y_val_m = labels[np.array(x2label_idx)[val_idxs]]\n",
    "y_val = np.expand_dims(np.stack(y_val_m, axis=0), -1)"
   ]
  },
  {
   "cell_type": "markdown",
   "metadata": {},
   "source": [
    "# 训练"
   ]
  },
  {
   "cell_type": "code",
   "execution_count": 8,
   "metadata": {
    "collapsed": true
   },
   "outputs": [],
   "source": [
    "def get_model():\n",
    "    return Sequential([\n",
    "            BatchNormalization(axis=1, input_shape=(1, 30, 90)),\n",
    "        \n",
    "            Convolution2D(16,3,3, activation='relu'),\n",
    "            BatchNormalization(axis=1),\n",
    "            Convolution2D(32,3,3, activation='relu'),\n",
    "            BatchNormalization(axis=1),\n",
    "            MaxPooling2D(),\n",
    "        \n",
    "            Convolution2D(64,3,3, activation='relu'),\n",
    "            BatchNormalization(axis=1),\n",
    "            Convolution2D(128,3,3, activation='relu'),\n",
    "            BatchNormalization(axis=1),\n",
    "            MaxPooling2D(),\n",
    "\n",
    "            Flatten(),\n",
    "            BatchNormalization(),\n",
    "\n",
    "            Dense(98, activation='relu'),\n",
    "            BatchNormalization(),\n",
    "\n",
    "            Dense(98, activation='relu'),\n",
    "            BatchNormalization(),\n",
    "        \n",
    "            Reshape((7, 14)),\n",
    "            TimeDistributed(Dense(16, activation='softmax'))\n",
    "        ])"
   ]
  },
  {
   "cell_type": "markdown",
   "metadata": {},
   "source": [
    "### 8-2划分测试集 验证集"
   ]
  },
  {
   "cell_type": "code",
   "execution_count": 9,
   "metadata": {
    "scrolled": true
   },
   "outputs": [
    {
     "name": "stdout",
     "output_type": "stream",
     "text": [
      "Epoch 1/1\n",
      "80187/80187 [==============================] - 90s - loss: 0.4456 - acc: 0.8793 - val_loss: 0.0273 - val_acc: 0.9945\n",
      "Epoch 1/5\n",
      "80187/80187 [==============================] - 90s - loss: 0.0472 - acc: 0.9875 - val_loss: 0.0101 - val_acc: 0.9976\n",
      "Epoch 2/5\n",
      "80187/80187 [==============================] - 90s - loss: 0.0297 - acc: 0.9916 - val_loss: 0.0057 - val_acc: 0.9985\n",
      "Epoch 3/5\n",
      "80187/80187 [==============================] - 90s - loss: 0.0234 - acc: 0.9932 - val_loss: 0.0051 - val_acc: 0.9987\n",
      "Epoch 4/5\n",
      "80187/80187 [==============================] - 90s - loss: 0.0219 - acc: 0.9936 - val_loss: 0.0036 - val_acc: 0.9991\n",
      "Epoch 5/5\n",
      "80187/80187 [==============================] - 91s - loss: 0.0175 - acc: 0.9948 - val_loss: 0.0036 - val_acc: 0.9991\n",
      "Epoch 1/5\n",
      "80187/80187 [==============================] - 91s - loss: 0.0147 - acc: 0.9957 - val_loss: 0.0021 - val_acc: 0.9994\n",
      "Epoch 2/5\n",
      "80187/80187 [==============================] - 91s - loss: 0.0128 - acc: 0.9963 - val_loss: 0.0060 - val_acc: 0.9984\n",
      "Epoch 3/5\n",
      "80187/80187 [==============================] - 91s - loss: 0.0135 - acc: 0.9961 - val_loss: 0.0033 - val_acc: 0.9992\n",
      "Epoch 4/5\n",
      "80187/80187 [==============================] - 91s - loss: 0.0117 - acc: 0.9966 - val_loss: 0.0023 - val_acc: 0.9992\n",
      "Epoch 5/5\n",
      "80187/80187 [==============================] - 92s - loss: 0.0102 - acc: 0.9971 - val_loss: 0.0015 - val_acc: 0.9995\n",
      "Epoch 1/5\n",
      "80187/80187 [==============================] - 91s - loss: 0.0106 - acc: 0.9969 - val_loss: 0.0013 - val_acc: 0.9996\n",
      "Epoch 2/5\n",
      "80187/80187 [==============================] - 92s - loss: 0.0092 - acc: 0.9972 - val_loss: 0.0024 - val_acc: 0.9993\n",
      "Epoch 3/5\n",
      "80187/80187 [==============================] - 92s - loss: 0.0086 - acc: 0.9974 - val_loss: 0.0011 - val_acc: 0.9997\n",
      "Epoch 4/5\n",
      "80187/80187 [==============================] - 92s - loss: 0.0081 - acc: 0.9976 - val_loss: 0.0016 - val_acc: 0.9995\n",
      "Epoch 5/5\n",
      "80187/80187 [==============================] - 92s - loss: 0.0078 - acc: 0.9977 - val_loss: 0.0010 - val_acc: 0.9997\n",
      "Epoch 1/5\n",
      "80187/80187 [==============================] - 92s - loss: 0.0086 - acc: 0.9975 - val_loss: 0.0014 - val_acc: 0.9996\n",
      "Epoch 2/5\n",
      "80187/80187 [==============================] - 92s - loss: 0.0069 - acc: 0.9980 - val_loss: 8.5838e-04 - val_acc: 0.9998\n",
      "Epoch 3/5\n",
      "80187/80187 [==============================] - 92s - loss: 0.0077 - acc: 0.9978 - val_loss: 0.0015 - val_acc: 0.9996\n",
      "Epoch 4/5\n",
      "80187/80187 [==============================] - 92s - loss: 0.0064 - acc: 0.9981 - val_loss: 8.8761e-04 - val_acc: 0.9997\n",
      "Epoch 5/5\n",
      "80187/80187 [==============================] - 92s - loss: 0.0070 - acc: 0.9980 - val_loss: 6.3478e-04 - val_acc: 0.9998\n",
      "Epoch 1/5\n",
      "80187/80187 [==============================] - 92s - loss: 0.0065 - acc: 0.9982 - val_loss: 8.9228e-04 - val_acc: 0.9997\n",
      "Epoch 2/5\n",
      "80187/80187 [==============================] - 92s - loss: 0.0061 - acc: 0.9983 - val_loss: 6.4949e-04 - val_acc: 0.9998\n",
      "Epoch 3/5\n",
      "80187/80187 [==============================] - 92s - loss: 0.0063 - acc: 0.9982 - val_loss: 4.4718e-04 - val_acc: 0.9999\n",
      "Epoch 4/5\n",
      "80187/80187 [==============================] - 92s - loss: 0.0049 - acc: 0.9986 - val_loss: 8.2613e-04 - val_acc: 0.9998\n",
      "Epoch 5/5\n",
      "80187/80187 [==============================] - 92s - loss: 0.0055 - acc: 0.9984 - val_loss: 6.8995e-04 - val_acc: 0.9998\n"
     ]
    },
    {
     "data": {
      "text/plain": [
       "<keras.callbacks.History at 0x7f16b491d850>"
      ]
     },
     "execution_count": 9,
     "metadata": {},
     "output_type": "execute_result"
    }
   ],
   "source": [
    "#这里做数据增强 \n",
    "da = image.ImageDataGenerator(zoom_range=0.05, shear_range=0.05, channel_shift_range=20,\n",
    "                             rotation_range=5, height_shift_range=0.03, width_shift_range=0.03)\n",
    "trn_batches = da.flow(x_trn, y_trn, batch_size=64, shuffle=True)\n",
    "\n",
    "model = get_model()\n",
    "model.compile(Adam(), loss='sparse_categorical_crossentropy', metrics=['accuracy'])\n",
    "model.fit_generator(trn_batches, len(x_trn), nb_epoch=1, validation_data=(x_val, y_val))\n",
    "\n",
    "model.optimizer.lr=0.1\n",
    "model.fit_generator(trn_batches, len(x_trn), nb_epoch=5, validation_data=(x_val, y_val))\n",
    "\n",
    "model.optimizer.lr=0.05\n",
    "model.fit_generator(trn_batches, len(x_trn), nb_epoch=10, validation_data=(x_val, y_val))\n",
    "\n",
    "model.optimizer.lr=0.0125\n",
    "model.fit_generator(trn_batches, len(x_trn), nb_epoch=10, validation_data=(x_val, y_val))\n",
    "\n",
    "model.optimizer.lr=0.0015625\n",
    "model.fit_generator(trn_batches, len(x_trn), nb_epoch=10, validation_data=(x_val, y_val))"
   ]
  },
  {
   "cell_type": "code",
   "execution_count": 15,
   "metadata": {},
   "outputs": [
    {
     "name": "stdout",
     "output_type": "stream",
     "text": [
      "Epoch 1/5\n",
      "80187/80187 [==============================] - 92s - loss: 0.0042 - acc: 0.9987 - val_loss: 6.4543e-04 - val_acc: 0.9998\n",
      "Epoch 2/5\n",
      "80187/80187 [==============================] - 93s - loss: 0.0046 - acc: 0.9986 - val_loss: 9.1711e-04 - val_acc: 0.9997\n",
      "Epoch 3/5\n",
      "80187/80187 [==============================] - 92s - loss: 0.0053 - acc: 0.9985 - val_loss: 7.2364e-04 - val_acc: 0.9998\n",
      "Epoch 4/5\n",
      "80187/80187 [==============================] - 92s - loss: 0.0050 - acc: 0.9986 - val_loss: 6.3280e-04 - val_acc: 0.9998\n",
      "Epoch 5/5\n",
      "80187/80187 [==============================] - 92s - loss: 0.0042 - acc: 0.9988 - val_loss: 7.6617e-04 - val_acc: 0.9998\n"
     ]
    },
    {
     "data": {
      "text/plain": [
       "<keras.callbacks.History at 0x7f168cbc2b90>"
      ]
     },
     "execution_count": 15,
     "metadata": {},
     "output_type": "execute_result"
    }
   ],
   "source": [
    "model.optimizer.lr=0.003125\n",
    "model.fit_generator(trn_batches, len(x_trn), nb_epoch=5, validation_data=(x_val, y_val))"
   ]
  },
  {
   "cell_type": "code",
   "execution_count": 17,
   "metadata": {},
   "outputs": [
    {
     "name": "stdout",
     "output_type": "stream",
     "text": [
      "Epoch 1/10\n",
      "80187/80187 [==============================] - 90s - loss: 0.0039 - acc: 0.9989 - val_loss: 8.0066e-04 - val_acc: 0.9997\n",
      "Epoch 2/10\n",
      "80187/80187 [==============================] - 90s - loss: 0.0045 - acc: 0.9987 - val_loss: 0.0025 - val_acc: 0.9991\n",
      "Epoch 3/10\n",
      "80187/80187 [==============================] - 90s - loss: 0.0044 - acc: 0.9987 - val_loss: 5.1622e-04 - val_acc: 0.9998\n",
      "Epoch 4/10\n",
      "80187/80187 [==============================] - 91s - loss: 0.0041 - acc: 0.9987 - val_loss: 5.3912e-04 - val_acc: 0.9998\n",
      "Epoch 5/10\n",
      "80187/80187 [==============================] - 91s - loss: 0.0036 - acc: 0.9989 - val_loss: 0.0016 - val_acc: 0.9995\n",
      "Epoch 6/10\n",
      "80187/80187 [==============================] - 91s - loss: 0.0038 - acc: 0.9990 - val_loss: 7.1333e-04 - val_acc: 0.9998\n",
      "Epoch 7/10\n",
      "80187/80187 [==============================] - 92s - loss: 0.0035 - acc: 0.9990 - val_loss: 2.6773e-04 - val_acc: 0.9999\n",
      "Epoch 8/10\n",
      "80187/80187 [==============================] - 92s - loss: 0.0039 - acc: 0.9989 - val_loss: 3.7888e-04 - val_acc: 0.9999\n",
      "Epoch 9/10\n",
      "80187/80187 [==============================] - 92s - loss: 0.0039 - acc: 0.9988 - val_loss: 0.0011 - val_acc: 0.9997\n",
      "Epoch 10/10\n",
      "80187/80187 [==============================] - 91s - loss: 0.0040 - acc: 0.9988 - val_loss: 5.3762e-04 - val_acc: 0.9999\n"
     ]
    },
    {
     "data": {
      "text/plain": [
       "<keras.callbacks.History at 0x7f168cbc2b10>"
      ]
     },
     "execution_count": 17,
     "metadata": {},
     "output_type": "execute_result"
    }
   ],
   "source": [
    "model.optimizer.lr=0.001\n",
    "model.fit_generator(trn_batches, len(x_trn), nb_epoch=10, validation_data=(x_val, y_val))"
   ]
  },
  {
   "cell_type": "code",
   "execution_count": 20,
   "metadata": {},
   "outputs": [
    {
     "name": "stdout",
     "output_type": "stream",
     "text": [
      "Epoch 1/5\n",
      "80187/80187 [==============================] - 90s - loss: 0.0033 - acc: 0.9991 - val_loss: 4.9209e-04 - val_acc: 0.9998\n",
      "Epoch 2/5\n",
      "80187/80187 [==============================] - 90s - loss: 0.0033 - acc: 0.9990 - val_loss: 2.5661e-04 - val_acc: 0.9999\n",
      "Epoch 3/5\n",
      "80187/80187 [==============================] - 91s - loss: 0.0035 - acc: 0.9990 - val_loss: 5.8768e-04 - val_acc: 0.9998\n",
      "Epoch 4/5\n",
      "80187/80187 [==============================] - 91s - loss: 0.0032 - acc: 0.9991 - val_loss: 3.8933e-04 - val_acc: 0.9999\n",
      "Epoch 5/5\n",
      "80187/80187 [==============================] - 92s - loss: 0.0030 - acc: 0.9991 - val_loss: 2.9430e-04 - val_acc: 0.9999\n"
     ]
    },
    {
     "data": {
      "text/plain": [
       "<keras.callbacks.History at 0x7f168cbc2850>"
      ]
     },
     "execution_count": 20,
     "metadata": {},
     "output_type": "execute_result"
    }
   ],
   "source": [
    "model.optimizer.lr=0.0001\n",
    "model.fit_generator(trn_batches, len(x_trn), nb_epoch=5, validation_data=(x_val, y_val))"
   ]
  },
  {
   "cell_type": "code",
   "execution_count": 21,
   "metadata": {},
   "outputs": [
    {
     "name": "stdout",
     "output_type": "stream",
     "text": [
      "Epoch 1/5\n",
      "80187/80187 [==============================] - 90s - loss: 0.0033 - acc: 0.9990 - val_loss: 4.4056e-04 - val_acc: 0.9999\n",
      "Epoch 2/5\n",
      "80187/80187 [==============================] - 91s - loss: 0.0037 - acc: 0.9989 - val_loss: 4.4841e-04 - val_acc: 0.9999\n",
      "Epoch 3/5\n",
      "80187/80187 [==============================] - 92s - loss: 0.0029 - acc: 0.9992 - val_loss: 3.9159e-04 - val_acc: 0.9999\n",
      "Epoch 4/5\n",
      "80187/80187 [==============================] - 92s - loss: 0.0035 - acc: 0.9990 - val_loss: 3.9782e-04 - val_acc: 0.9999\n",
      "Epoch 5/5\n",
      "80187/80187 [==============================] - 92s - loss: 0.0035 - acc: 0.9990 - val_loss: 3.4561e-04 - val_acc: 0.9999\n"
     ]
    },
    {
     "data": {
      "text/plain": [
       "<keras.callbacks.History at 0x7f168cbc2410>"
      ]
     },
     "execution_count": 21,
     "metadata": {},
     "output_type": "execute_result"
    }
   ],
   "source": [
    "model.optimizer.lr=0.00005\n",
    "model.fit_generator(trn_batches, len(x_trn), nb_epoch=5, validation_data=(x_val, y_val))"
   ]
  },
  {
   "cell_type": "code",
   "execution_count": 3,
   "metadata": {},
   "outputs": [
    {
     "data": {
      "text/plain": [
       "array([[ 20.],\n",
       "       [ 20.],\n",
       "       [ 20.],\n",
       "       [ 20.],\n",
       "       [ 20.],\n",
       "       [ 20.],\n",
       "       [ 20.],\n",
       "       [ 20.],\n",
       "       [ 20.],\n",
       "       [ 20.],\n",
       "       [ 20.],\n",
       "       [ 20.]])"
      ]
     },
     "execution_count": 3,
     "metadata": {},
     "output_type": "execute_result"
    }
   ],
   "source": [
    "import numpy as np\n",
    "\n",
    "np.zeros([12, 1]) + 20"
   ]
  },
  {
   "cell_type": "code",
   "execution_count": 4,
   "metadata": {},
   "outputs": [
    {
     "name": "stdout",
     "output_type": "stream",
     "text": [
      "Object `K.ctc_batch_cost` not found.\n"
     ]
    }
   ],
   "source": []
  },
  {
   "cell_type": "code",
   "execution_count": 6,
   "metadata": {
    "collapsed": true
   },
   "outputs": [],
   "source": [
    "??K.ctc_batch_cost"
   ]
  },
  {
   "cell_type": "code",
   "execution_count": null,
   "metadata": {
    "collapsed": true
   },
   "outputs": [],
   "source": []
  }
 ],
 "metadata": {
  "kernelspec": {
   "display_name": "Python [conda root]",
   "language": "python",
   "name": "conda-root-py"
  },
  "language_info": {
   "codemirror_mode": {
    "name": "ipython",
    "version": 2
   },
   "file_extension": ".py",
   "mimetype": "text/x-python",
   "name": "python",
   "nbconvert_exporter": "python",
   "pygments_lexer": "ipython2",
   "version": "2.7.13"
  }
 },
 "nbformat": 4,
 "nbformat_minor": 2
}
