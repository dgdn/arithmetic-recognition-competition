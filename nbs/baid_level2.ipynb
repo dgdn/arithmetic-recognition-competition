{
 "cells": [
  {
   "cell_type": "code",
   "execution_count": 12,
   "metadata": {},
   "outputs": [],
   "source": [
    "%matplotlib inline\n",
    "from __future__ import print_function, division\n",
    "path = \"data/baidu/\"\n",
    "#path = \"data/state/sample/\"\n",
    "import utils; reload(utils)\n",
    "from utils import *\n",
    "from IPython.display import FileLink"
   ]
  },
  {
   "cell_type": "code",
   "execution_count": 2,
   "metadata": {
    "collapsed": true
   },
   "outputs": [],
   "source": [
    "train_path = 'data/baidu/image_contest_level_2_train/'\n",
    "label_exp_count = load_array('data/baidu/label_exp_num.data')"
   ]
  },
  {
   "cell_type": "code",
   "execution_count": 13,
   "metadata": {
    "collapsed": true
   },
   "outputs": [],
   "source": [
    "??SeparableConv2D"
   ]
  },
  {
   "cell_type": "code",
   "execution_count": 3,
   "metadata": {
    "collapsed": true
   },
   "outputs": [],
   "source": [
    "label_exp_files = []\n",
    "for i, cnthttp://jp.hangdl.com:4480/notebooks/workspace/baid_level2.ipynb# in enumerate(label_exp_count):\n",
    "    for c in range(cnt):\n",
    "        label_exp_files.append('{}-{}-{}.png'.format(i, cnt-c, cnt))"
   ]
  },
  {
   "cell_type": "markdown",
   "metadata": {},
   "source": [
    "### 划分数据集"
   ]
  },
  {
   "cell_type": "code",
   "execution_count": 4,
   "metadata": {
    "collapsed": true
   },
   "outputs": [],
   "source": [
    "idxs = np.random.permutation(len(label_exp_files))\n",
    "mask = np.random.rand(len(label_exp_files)) < 0.9\n",
    "trn_idxs = idxs[mask]\n",
    "val_idxs = idxs[~mask]"
   ]
  },
  {
   "cell_type": "code",
   "execution_count": 5,
   "metadata": {},
   "outputs": [
    {
     "data": {
      "text/plain": [
       "(239380, 26427)"
      ]
     },
     "execution_count": 5,
     "metadata": {},
     "output_type": "execute_result"
    }
   ],
   "source": [
    "len(trn_idxs), len(val_idxs)"
   ]
  },
  {
   "cell_type": "code",
   "execution_count": 11,
   "metadata": {
    "scrolled": true
   },
   "outputs": [
    {
     "name": "stdout",
     "output_type": "stream",
     "text": [
      "圳=86\n"
     ]
    },
    {
     "data": {
      "image/png": "[encoded data removed]",
      "text/plain": [
       "<matplotlib.figure.Figure at 0x7f978654fed0>"
      ]
     },
     "metadata": {},
     "output_type": "display_data"
    }
   ],
   "source": [
    "show_img_exp(1)"
   ]
  },
  {
   "cell_type": "code",
   "execution_count": 10,
   "metadata": {
    "collapsed": true
   },
   "outputs": [],
   "source": [
    "def show_img_exp(idx):\n",
    "    print(exp_labels[idx])\n",
    "    img = image.load_img(train_path+label_exp_files[idx])\n",
    "    f=plt.figure(figsize=(20,20), frameon=True)\n",
    "    plt.title(u'出差')\n",
    "    plt.imshow(img)"
   ]
  },
  {
   "cell_type": "code",
   "execution_count": 6,
   "metadata": {
    "collapsed": true
   },
   "outputs": [],
   "source": [
    "label_path = 'data/baidu/level2_labels.txt'\n",
    "raw_label_list = []\n",
    "with open(label_path) as f:\n",
    "    raw_label_list = f.readlines()\n",
    "raw_label_list = [x.strip() for x in raw_label_list]\n",
    "label_exp_num_length= []\n",
    "exp_labels = []\n",
    "exp_lens =[]\n",
    "for line in raw_label_list:\n",
    "    parts = line.split(' ')\n",
    "    exprs = parts[0]\n",
    "    result = parts[1]\n",
    "    label_exp_num_length.append(len(exprs.split(';')))\n",
    "    for exp in exprs.split(';'):\n",
    "        exp_labels.append(exp.decode('utf8'))\n",
    "        exp_lens.append(len(exp.decode('utf8')))"
   ]
  },
  {
   "cell_type": "code",
   "execution_count": 8,
   "metadata": {},
   "outputs": [
    {
     "data": {
      "image/png": "[encoded data removed]",
      "text/plain": [
       "<matplotlib.figure.Figure at 0x7f7d1128f810>"
      ]
     },
     "metadata": {},
     "output_type": "display_data"
    }
   ],
   "source": [
    "plt.hist(exp_lens, bins='auto')  # arguments are passed to np.histogram\n",
    "plt.show()"
   ]
  },
  {
   "cell_type": "code",
   "execution_count": 9,
   "metadata": {},
   "outputs": [
    {
     "name": "stdout",
     "output_type": "stream",
     "text": [
      "((36087*79420)+河/25196)-100000\n"
     ]
    }
   ],
   "source": [
    "l = np.where(np.array(exp_lens) == 30)[0][0]\n",
    "print(exp_labels[l])"
   ]
  },
  {
   "cell_type": "code",
   "execution_count": 10,
   "metadata": {
    "collapsed": true
   },
   "outputs": [],
   "source": [
    "token_counts = {}\n",
    "for exp in exp_labels:\n",
    "    for c in exp:\n",
    "        if c in token_counts:\n",
    "            token_counts[c] += 1\n",
    "        else:\n",
    "            token_counts[c] = 1"
   ]
  },
  {
   "cell_type": "code",
   "execution_count": 11,
   "metadata": {
    "collapsed": true
   },
   "outputs": [],
   "source": [
    "tokens = sorted(token_counts.keys()) + ['N']"
   ]
  },
  {
   "cell_type": "code",
   "execution_count": 12,
   "metadata": {
    "collapsed": true
   },
   "outputs": [],
   "source": [
    "token_idxs = dict()\n",
    "for i,token in enumerate(tokens):\n",
    "    token_idxs[token] = i"
   ]
  },
  {
   "cell_type": "code",
   "execution_count": 13,
   "metadata": {
    "collapsed": true
   },
   "outputs": [],
   "source": [
    "actual_labels = []\n",
    "label_length = 30\n",
    "for exp in exp_labels:\n",
    "    a = np.full(label_length, len(tokens)-1)\n",
    "    for i, token in enumerate(exp):\n",
    "        a[i] = token_idxs[token]\n",
    "    actual_labels.append(a)"
   ]
  },
  {
   "cell_type": "code",
   "execution_count": 14,
   "metadata": {
    "collapsed": true
   },
   "outputs": [],
   "source": [
    "def to_pretty_label(label):\n",
    "    s =''\n",
    "    for token in label:\n",
    "        if token != len(tokens)-1:\n",
    "             s = s+tokens[token]\n",
    "    return s"
   ]
  },
  {
   "cell_type": "code",
   "execution_count": 15,
   "metadata": {},
   "outputs": [
    {
     "name": "stdout",
     "output_type": "stream",
     "text": [
      "(98319*上/60469+68041)*塘\n",
      "(98319*上/60469+68041)*塘\n"
     ]
    }
   ],
   "source": [
    "print(to_pretty_label(actual_labels[-1]))\n",
    "print(exp_labels[-1])"
   ]
  },
  {
   "cell_type": "code",
   "execution_count": 46,
   "metadata": {
    "collapsed": true
   },
   "outputs": [],
   "source": [
    "import cv2\n",
    "def fetch_img_by_idxs(idxs):\n",
    "    imgs = []\n",
    "    for f in np.array(label_exp_files)[idxs]:\n",
    "        img = cv2.imread(train_path+f)\n",
    "        img = cv2.resize(img, (300, 45), interpolation = cv2.INTER_LINEAR)\n",
    "        img = np.transpose(np.asarray(img), (2, 0, 1))\n",
    "        imgs.append(img)\n",
    "    return np.array(imgs)"
   ]
  },
  {
   "cell_type": "code",
   "execution_count": 127,
   "metadata": {
    "collapsed": true
   },
   "outputs": [],
   "source": [
    "def data_generator(idxs, batch_size, shuffle=True):\n",
    "    if shuffle:  idxs = np.random.permutation(idxs)\n",
    "    cur = 0\n",
    "    idxs_len = len(idxs)\n",
    "    while True:\n",
    "        out = []\n",
    "        next_cur = cur + batch_size\n",
    "        if next_cur < idxs_len:\n",
    "            out = idxs[cur: next_cur]\n",
    "            cur = next_cur\n",
    "        else:\n",
    "            exceed = next_cur - idxs_len\n",
    "            out = idxs[cur: idxs_len]\n",
    "            if shuffle:  idxs = np.random.permutation(idxs)\n",
    "            out = np.concatenate([out, idxs[0: exceed]]) \n",
    "            cur = exceed\n",
    "        yield fetch_img_by_idxs(out), np.expand_dims(np.asarray(actual_labels)[out], axis=-1)"
   ]
  },
  {
   "cell_type": "code",
   "execution_count": 38,
   "metadata": {
    "collapsed": true
   },
   "outputs": [
    {
     "name": "stdout",
     "output_type": "stream",
     "text": [
      "(28726-2940-89493)*来/83756\n",
      "铁=67650\n",
      "51188-72965-(77188-回/34427)\n",
      "(铁-见/11724)+86577+92414\n",
      "铁=3350\n",
      "复=34295\n",
      "((柳+52173)-87638)+复/24941\n",
      "不/49735-(柳*92254-7109)\n",
      "板*(67983-(回/15675-51849))\n",
      "上=62303\n",
      "黄=63401\n",
      "(12010-海/93703)-(54695*烟)\n",
      "深=60178\n",
      "复=41794\n",
      "(84530-21215)*(80946*见/4402)\n",
      "42676*68633+之/77343-圳\n",
      "黄/7447-铁*44075*13817\n",
      "43212-(黄/2227-(烧-8053))\n",
      "奔=6629\n",
      "锁=44270\n"
     ]
    },
    {
     "data": {
      "text/plain": [
       "<matplotlib.figure.Figure at 0x7f7ce99323d0>"
      ]
     },
     "metadata": {},
     "output_type": "display_data"
    },
    {
     "data": {
      "text/plain": [
       "<matplotlib.figure.Figure at 0x7f7ce993a190>"
      ]
     },
     "metadata": {},
     "output_type": "display_data"
    },
    {
     "data": {
      "text/plain": [
       "<matplotlib.figure.Figure at 0x7f7ce92bc210>"
      ]
     },
     "metadata": {},
     "output_type": "display_data"
    },
    {
     "data": {
      "text/plain": [
       "<matplotlib.figure.Figure at 0x7f7ce92bcf10>"
      ]
     },
     "metadata": {},
     "output_type": "display_data"
    },
    {
     "data": {
      "text/plain": [
       "<matplotlib.figure.Figure at 0x7f7ce92bcd10>"
      ]
     },
     "metadata": {},
     "output_type": "display_data"
    },
    {
     "data": {
      "text/plain": [
       "<matplotlib.figure.Figure at 0x7f7ce993ff90>"
      ]
     },
     "metadata": {},
     "output_type": "display_data"
    },
    {
     "data": {
      "text/plain": [
       "<matplotlib.figure.Figure at 0x7f7ce92cf450>"
      ]
     },
     "metadata": {},
     "output_type": "display_data"
    },
    {
     "data": {
      "text/plain": [
       "<matplotlib.figure.Figure at 0x7f7ce92cfed0>"
      ]
     },
     "metadata": {},
     "output_type": "display_data"
    },
    {
     "data": {
      "text/plain": [
       "<matplotlib.figure.Figure at 0x7f7ce92fb250>"
      ]
     },
     "metadata": {},
     "output_type": "display_data"
    },
    {
     "data": {
      "text/plain": [
       "<matplotlib.figure.Figure at 0x7f7ce92fb850>"
      ]
     },
     "metadata": {},
     "output_type": "display_data"
    },
    {
     "data": {
      "text/plain": [
       "<matplotlib.figure.Figure at 0x7f7ce92fbc10>"
      ]
     },
     "metadata": {},
     "output_type": "display_data"
    },
    {
     "data": {
      "text/plain": [
       "<matplotlib.figure.Figure at 0x7f7ce848ca50>"
      ]
     },
     "metadata": {},
     "output_type": "display_data"
    },
    {
     "data": {
      "text/plain": [
       "<matplotlib.figure.Figure at 0x7f7ce848c790>"
      ]
     },
     "metadata": {},
     "output_type": "display_data"
    },
    {
     "data": {
      "text/plain": [
       "<matplotlib.figure.Figure at 0x7f7ce842bf50>"
      ]
     },
     "metadata": {},
     "output_type": "display_data"
    },
    {
     "data": {
      "text/plain": [
       "<matplotlib.figure.Figure at 0x7f7ce842bb90>"
      ]
     },
     "metadata": {},
     "output_type": "display_data"
    },
    {
     "data": {
      "text/plain": [
       "<matplotlib.figure.Figure at 0x7f7ce842ba50>"
      ]
     },
     "metadata": {},
     "output_type": "display_data"
    },
    {
     "data": {
      "text/plain": [
       "<matplotlib.figure.Figure at 0x7f7ce841b590>"
      ]
     },
     "metadata": {},
     "output_type": "display_data"
    },
    {
     "data": {
      "text/plain": [
       "<matplotlib.figure.Figure at 0x7f7ce841b450>"
      ]
     },
     "metadata": {},
     "output_type": "display_data"
    },
    {
     "data": {
      "text/plain": [
       "<matplotlib.figure.Figure at 0x7f7ce8439e90>"
      ]
     },
     "metadata": {},
     "output_type": "display_data"
    },
    {
     "data": {
      "text/plain": [
       "<matplotlib.figure.Figure at 0x7f7ce8439250>"
      ]
     },
     "metadata": {},
     "output_type": "display_data"
    }
   ],
   "source": [
    "trn_imgs, trn_labels = next(dg)\n",
    "for i in range(len(trn_imgs)):\n",
    "    print(to_pretty_label(trn_labels[i]))\n",
    "    f=plt.figure(figsize=(20,20), frameon=True)\n",
    "    #plt.title(title)\n",
    "    #plt.imshow(trn_imgs[i])"
   ]
  },
  {
   "cell_type": "code",
   "execution_count": null,
   "metadata": {
    "collapsed": true
   },
   "outputs": [],
   "source": [
    "## 93%\n",
    "def get_model_v1():\n",
    "    return Sequential([\n",
    "           BatchNormalization(axis=1, input_shape=(3, 45, 300)),\n",
    "            \n",
    "            Convolution2D(32,3,3, activation='relu'),\n",
    "            BatchNormalization(axis=1),\n",
    "            Convolution2D(32,3,3, activation='relu'),\n",
    "            BatchNormalization(axis=1),\n",
    "            MaxPooling2D(),\n",
    "        \n",
    "            Convolution2D(64,3,3, activation='relu'),\n",
    "            BatchNormalization(axis=1),\n",
    "            Convolution2D(64,3,3, activation='relu'),\n",
    "            BatchNormalization(axis=1),\n",
    "            MaxPooling2D(),\n",
    "        \n",
    "            Convolution2D(128,3,3, activation='relu'),\n",
    "            BatchNormalization(axis=1),\n",
    "            Convolution2D(128,3,3, activation='relu'),\n",
    "            BatchNormalization(axis=1),\n",
    "            MaxPooling2D(),\n",
    "\n",
    "            Flatten(),\n",
    "            BatchNormalization(),\n",
    "\n",
    "            Dense(label_length*10, activation='relu'),\n",
    "            BatchNormalization(),\n",
    "\n",
    "            Dense(label_length*10, activation='relu'),\n",
    "            BatchNormalization(),\n",
    "        \n",
    "            Reshape((label_length, 10)),\n",
    "            TimeDistributed(Dense(len(tokens), activation='softmax'))\n",
    "        ])"
   ]
  },
  {
   "cell_type": "code",
   "execution_count": 159,
   "metadata": {
    "collapsed": true
   },
   "outputs": [],
   "source": [
    "## 76%\n",
    "def get_model_a1():\n",
    "    return Sequential([\n",
    "           BatchNormalization(axis=1, input_shape=(3, 45, 300)),\n",
    "            \n",
    "            Convolution2D(32,3,3, activation='relu'),\n",
    "            BatchNormalization(axis=1),\n",
    "            Convolution2D(32,3,3, activation='relu'),\n",
    "            BatchNormalization(axis=1),\n",
    "            MaxPooling2D(),\n",
    "        \n",
    "            Convolution2D(64,3,3, activation='relu'),\n",
    "            BatchNormalization(axis=1),\n",
    "            Convolution2D(64,3,3, activation='relu'),\n",
    "            BatchNormalization(axis=1),\n",
    "            MaxPooling2D(),\n",
    "        \n",
    "            Flatten(),\n",
    "            BatchNormalization(),\n",
    "\n",
    "            Dense(label_length*10, activation='relu'),\n",
    "            BatchNormalization(),\n",
    "        \n",
    "            Reshape((label_length, 10)),\n",
    "            TimeDistributed(Dense(len(tokens), activation='softmax'))\n",
    "        ])"
   ]
  },
  {
   "cell_type": "code",
   "execution_count": null,
   "metadata": {
    "collapsed": true
   },
   "outputs": [],
   "source": [
    "## 91%\n",
    "def get_model_a2():\n",
    "    return Sequential([\n",
    "           BatchNormalization(axis=1, input_shape=(3, 45, 300)),\n",
    "            \n",
    "            Convolution2D(64,3,3, activation='relu'),\n",
    "            BatchNormalization(axis=1),\n",
    "            Convolution2D(64,3,3, activation='relu'),\n",
    "            BatchNormalization(axis=1),\n",
    "            MaxPooling2D(),\n",
    "        \n",
    "            Convolution2D(128,3,3, activation='relu'),\n",
    "            BatchNormalization(axis=1),\n",
    "            Convolution2D(128,3,3, activation='relu'),\n",
    "            BatchNormalization(axis=1),\n",
    "            MaxPooling2D(),\n",
    "        \n",
    "            Convolution2D(256,3,3, activation='relu'),\n",
    "            BatchNormalization(axis=1),\n",
    "            Convolution2D(256,3,3, activation='relu'),\n",
    "            BatchNormalization(axis=1),\n",
    "            MaxPooling2D(),\n",
    "        \n",
    "            Flatten(),\n",
    "            BatchNormalization(),\n",
    "\n",
    "            Dense(label_length*10, activation='relu'),\n",
    "            BatchNormalization(),\n",
    "        \n",
    "            Dense(label_length*10, activation='relu'),\n",
    "            BatchNormalization(),\n",
    "        \n",
    "            Reshape((label_length, 10)),\n",
    "            TimeDistributed(Dense(len(tokens), activation='softmax'))\n",
    "        ])"
   ]
  },
  {
   "cell_type": "code",
   "execution_count": 153,
   "metadata": {
    "collapsed": true
   },
   "outputs": [],
   "source": [
    "## 78%\n",
    "def get_model_v2():\n",
    "    return Sequential([\n",
    "           BatchNormalization(axis=1, input_shape=(3, 45, 300)),\n",
    "            \n",
    "            Convolution2D(64,3,3, activation='relu'),\n",
    "            BatchNormalization(axis=1),\n",
    "            MaxPooling2D(),\n",
    "        \n",
    "            Convolution2D(128,3,3, activation='relu'),\n",
    "            BatchNormalization(axis=1),\n",
    "            MaxPooling2D(),\n",
    "        \n",
    "            Convolution2D(256,3,3, activation='relu'),\n",
    "            BatchNormalization(axis=1),\n",
    "            Convolution2D(256,3,3, activation='relu'),\n",
    "            BatchNormalization(axis=1),\n",
    "            MaxPooling2D(),\n",
    "\n",
    "            Flatten(),\n",
    "            BatchNormalization(),\n",
    "\n",
    "            Dense(label_length*10, activation='relu'),\n",
    "            BatchNormalization(),\n",
    "\n",
    "            Dense(label_length*10, activation='relu'),\n",
    "            BatchNormalization(),\n",
    "        \n",
    "            Reshape((label_length, 10)),\n",
    "            TimeDistributed(Dense(len(tokens), activation='softmax'))\n",
    "        ])"
   ]
  },
  {
   "cell_type": "code",
   "execution_count": 155,
   "metadata": {
    "collapsed": true
   },
   "outputs": [
    {
     "name": "stdout",
     "output_type": "stream",
     "text": [
      "____________________________________________________________________________________________________\n",
      "Layer (type)                     Output Shape          Param #     Connected to                     \n",
      "====================================================================================================\n",
      "batchnormalization_156 (BatchNor (None, 3, 45, 300)    12          batchnormalization_input_21[0][0]\n",
      "____________________________________________________________________________________________________\n",
      "convolution2d_77 (Convolution2D) (None, 64, 43, 298)   1792        batchnormalization_156[0][0]     \n",
      "____________________________________________________________________________________________________\n",
      "batchnormalization_157 (BatchNor (None, 64, 43, 298)   256         convolution2d_77[0][0]           \n",
      "____________________________________________________________________________________________________\n",
      "maxpooling2d_40 (MaxPooling2D)   (None, 64, 21, 149)   0           batchnormalization_157[0][0]     \n",
      "____________________________________________________________________________________________________\n",
      "convolution2d_78 (Convolution2D) (None, 128, 19, 147)  73856       maxpooling2d_40[0][0]            \n",
      "____________________________________________________________________________________________________\n",
      "batchnormalization_158 (BatchNor (None, 128, 19, 147)  512         convolution2d_78[0][0]           \n",
      "____________________________________________________________________________________________________\n",
      "maxpooling2d_41 (MaxPooling2D)   (None, 128, 9, 73)    0           batchnormalization_158[0][0]     \n",
      "____________________________________________________________________________________________________\n",
      "convolution2d_79 (Convolution2D) (None, 256, 7, 71)    295168      maxpooling2d_41[0][0]            \n",
      "____________________________________________________________________________________________________\n",
      "batchnormalization_159 (BatchNor (None, 256, 7, 71)    1024        convolution2d_79[0][0]           \n",
      "____________________________________________________________________________________________________\n",
      "convolution2d_80 (Convolution2D) (None, 256, 5, 69)    590080      batchnormalization_159[0][0]     \n",
      "____________________________________________________________________________________________________\n",
      "batchnormalization_160 (BatchNor (None, 256, 5, 69)    1024        convolution2d_80[0][0]           \n",
      "____________________________________________________________________________________________________\n",
      "maxpooling2d_42 (MaxPooling2D)   (None, 256, 2, 34)    0           batchnormalization_160[0][0]     \n",
      "____________________________________________________________________________________________________\n",
      "flatten_22 (Flatten)             (None, 17408)         0           maxpooling2d_42[0][0]            \n",
      "____________________________________________________________________________________________________\n",
      "batchnormalization_161 (BatchNor (None, 17408)         69632       flatten_22[0][0]                 \n",
      "____________________________________________________________________________________________________\n",
      "dense_58 (Dense)                 (None, 300)           5222700     batchnormalization_161[0][0]     \n",
      "____________________________________________________________________________________________________\n",
      "batchnormalization_162 (BatchNor (None, 300)           1200        dense_58[0][0]                   \n",
      "____________________________________________________________________________________________________\n",
      "dense_59 (Dense)                 (None, 300)           90300       batchnormalization_162[0][0]     \n",
      "____________________________________________________________________________________________________\n",
      "batchnormalization_163 (BatchNor (None, 300)           1200        dense_59[0][0]                   \n",
      "____________________________________________________________________________________________________\n",
      "reshape_16 (Reshape)             (None, 30, 10)        0           batchnormalization_163[0][0]     \n",
      "____________________________________________________________________________________________________\n",
      "timedistributed_12 (TimeDistribu (None, 30, 44)        484         reshape_16[0][0]                 \n",
      "====================================================================================================\n",
      "Total params: 6,349,240\n",
      "Trainable params: 6,311,810\n",
      "Non-trainable params: 37,430\n",
      "____________________________________________________________________________________________________\n"
     ]
    }
   ],
   "source": [
    "model = get_model_v2()\n",
    "model.summary()"
   ]
  },
  {
   "cell_type": "code",
   "execution_count": 136,
   "metadata": {
    "collapsed": true
   },
   "outputs": [],
   "source": [
    "batches = data_generator(trn_idxs, len(trn_idxs), shuffle=False)\n",
    "imgs, labels = next(batches)\n",
    "save_array('data/baidu/trn_imgs.dat', imgs)\n",
    "save_array('data/baidu/trn_labels.dat', labels)"
   ]
  },
  {
   "cell_type": "code",
   "execution_count": null,
   "metadata": {
    "collapsed": true
   },
   "outputs": [],
   "source": [
    "trn_imgs = load_array('data/baidu/trn_imgs.dat')\n",
    "trn_labels = load_array('data/baidu/trn_labels.dat')"
   ]
  },
  {
   "cell_type": "code",
   "execution_count": 140,
   "metadata": {
    "collapsed": true
   },
   "outputs": [],
   "source": []
  },
  {
   "cell_type": "code",
   "execution_count": 141,
   "metadata": {
    "collapsed": true
   },
   "outputs": [],
   "source": []
  },
  {
   "cell_type": "code",
   "execution_count": 143,
   "metadata": {
    "collapsed": true
   },
   "outputs": [],
   "source": [
    "#这里做数据增强 \n",
    "da = image.ImageDataGenerator(zoom_range=0.05, shear_range=0.05, channel_shift_range=20,\n",
    "                             rotation_range=5, height_shift_range=0.03, width_shift_range=0.03)\n",
    "trn_batches = da.flow(trn_imgs, trn_labels, batch_size=64, shuffle=True)"
   ]
  },
  {
   "cell_type": "code",
   "execution_count": 151,
   "metadata": {
    "collapsed": true
   },
   "outputs": [],
   "source": [
    "model.save_weights('v1.wgt')\n"
   ]
  },
  {
   "cell_type": "code",
   "execution_count": 160,
   "metadata": {
    "collapsed": true
   },
   "outputs": [],
   "source": [
    "def train_model(model):\n",
    "    model.summary()\n",
    "    \n",
    "    model.compile(Adam(), loss='sparse_categorical_crossentropy', metrics=['accuracy'])\n",
    "    model.fit_generator(trn_batches, len(trn_imgs), nb_epoch=1, \n",
    "                        validation_data=data_generator(val_idxs, 256, shuffle=False), nb_val_samples=len(val_idxs))\n",
    "    \n",
    "    model.optimizer.lr = 0.1\n",
    "    model.fit_generator(trn_batches, len(trn_imgs), nb_epoch=1, \n",
    "                    validation_data=data_generator(val_idxs, 256, shuffle=False), nb_val_samples=len(val_idxs))\n",
    "    \n",
    "    model.optimizer.lr = 0.01\n",
    "    model.fit_generator(trn_batches, len(trn_imgs), nb_epoch=10, \n",
    "                    validation_data=data_generator(val_idxs, 256, shuffle=False), nb_val_samples=len(val_idxs))\n",
    "    \n",
    "    model.optimizer.lr = 0.001\n",
    "    model.fit_generator(trn_batches, len(trn_imgs), nb_epoch=10, \n",
    "                    validation_data=data_generator(val_idxs, 256, shuffle=False), nb_val_samples=len(val_idxs))\n",
    "    \n",
    "    model.optimizer.lr = 0.0001\n",
    "    model.fit_generator(trn_batches, len(trn_imgs), nb_epoch=10, \n",
    "                    validation_data=data_generator(val_idxs, 256, shuffle=False), nb_val_samples=len(val_idxs))"
   ]
  },
  {
   "cell_type": "code",
   "execution_count": 161,
   "metadata": {
    "collapsed": true
   },
   "outputs": [
    {
     "name": "stdout",
     "output_type": "stream",
     "text": [
      "____________________________________________________________________________________________________\n",
      "Layer (type)                     Output Shape          Param #     Connected to                     \n",
      "====================================================================================================\n",
      "batchnormalization_164 (BatchNor (None, 3, 45, 300)    12          batchnormalization_input_22[0][0]\n",
      "____________________________________________________________________________________________________\n",
      "convolution2d_81 (Convolution2D) (None, 32, 43, 298)   896         batchnormalization_164[0][0]     \n",
      "____________________________________________________________________________________________________\n",
      "batchnormalization_165 (BatchNor (None, 32, 43, 298)   128         convolution2d_81[0][0]           \n",
      "____________________________________________________________________________________________________\n",
      "convolution2d_82 (Convolution2D) (None, 32, 41, 296)   9248        batchnormalization_165[0][0]     \n",
      "____________________________________________________________________________________________________\n",
      "batchnormalization_166 (BatchNor (None, 32, 41, 296)   128         convolution2d_82[0][0]           \n",
      "____________________________________________________________________________________________________\n",
      "maxpooling2d_43 (MaxPooling2D)   (None, 32, 20, 148)   0           batchnormalization_166[0][0]     \n",
      "____________________________________________________________________________________________________\n",
      "convolution2d_83 (Convolution2D) (None, 64, 18, 146)   18496       maxpooling2d_43[0][0]            \n",
      "____________________________________________________________________________________________________\n",
      "batchnormalization_167 (BatchNor (None, 64, 18, 146)   256         convolution2d_83[0][0]           \n",
      "____________________________________________________________________________________________________\n",
      "convolution2d_84 (Convolution2D) (None, 64, 16, 144)   36928       batchnormalization_167[0][0]     \n",
      "____________________________________________________________________________________________________\n",
      "batchnormalization_168 (BatchNor (None, 64, 16, 144)   256         convolution2d_84[0][0]           \n",
      "____________________________________________________________________________________________________\n",
      "maxpooling2d_44 (MaxPooling2D)   (None, 64, 8, 72)     0           batchnormalization_168[0][0]     \n",
      "____________________________________________________________________________________________________\n",
      "flatten_23 (Flatten)             (None, 36864)         0           maxpooling2d_44[0][0]            \n",
      "____________________________________________________________________________________________________\n",
      "batchnormalization_169 (BatchNor (None, 36864)         147456      flatten_23[0][0]                 \n",
      "____________________________________________________________________________________________________\n",
      "dense_61 (Dense)                 (None, 300)           11059500    batchnormalization_169[0][0]     \n",
      "____________________________________________________________________________________________________\n",
      "batchnormalization_170 (BatchNor (None, 300)           1200        dense_61[0][0]                   \n",
      "____________________________________________________________________________________________________\n",
      "reshape_17 (Reshape)             (None, 30, 10)        0           batchnormalization_170[0][0]     \n",
      "____________________________________________________________________________________________________\n",
      "timedistributed_13 (TimeDistribu (None, 30, 44)        484         reshape_17[0][0]                 \n",
      "====================================================================================================\n",
      "Total params: 11,274,988\n",
      "Trainable params: 11,200,270\n",
      "Non-trainable params: 74,718\n",
      "____________________________________________________________________________________________________\n"
     ]
    },
    {
     "name": "stderr",
     "output_type": "stream",
     "text": [
      "INFO (theano.gof.compilelock): Refreshing lock /home/viiv/.theano/compiledir_Linux-4.8--generic-x86_64-with-debian-stretch-sid-x86_64-2.7.13-64/lock_dir/lock\n"
     ]
    },
    {
     "name": "stdout",
     "output_type": "stream",
     "text": [
      "Epoch 1/1\n",
      "239380/239380 [==============================] - 518s - loss: 1.2218 - acc: 0.6324 - val_loss: 1.0103 - val_acc: 0.6633\n",
      "Epoch 1/1\n",
      "239380/239380 [==============================] - 514s - loss: 0.9552 - acc: 0.6759 - val_loss: 0.8678 - val_acc: 0.7016\n",
      "Epoch 1/10\n",
      "239380/239380 [==============================] - 518s - loss: 0.8603 - acc: 0.7075 - val_loss: 0.8282 - val_acc: 0.7207\n",
      "Epoch 2/10\n",
      "239380/239380 [==============================] - 510s - loss: 0.7900 - acc: 0.7339 - val_loss: 0.7732 - val_acc: 0.7408\n",
      "Epoch 3/10\n",
      "239380/239380 [==============================] - 513s - loss: 0.7478 - acc: 0.7497 - val_loss: 0.8115 - val_acc: 0.7467\n",
      "Epoch 4/10\n",
      "239380/239380 [==============================] - 516s - loss: 0.7190 - acc: 0.7619 - val_loss: 0.8421 - val_acc: 0.7368\n",
      "Epoch 5/10\n",
      " 64896/239380 [=======>......................] - ETA: 343s - loss: 0.7064 - acc: 0.7671"
     ]
    },
    {
     "ename": "KeyboardInterrupt",
     "evalue": "",
     "output_type": "error",
     "traceback": [
      "\u001b[0;31m---------------------------------------------------------------------------\u001b[0m",
      "\u001b[0;31mKeyboardInterrupt\u001b[0m                         Traceback (most recent call last)",
      "\u001b[0;32m<ipython-input-161-4b6419bfdeff>\u001b[0m in \u001b[0;36m<module>\u001b[0;34m()\u001b[0m\n\u001b[0;32m----> 1\u001b[0;31m \u001b[0mtrain_model\u001b[0m\u001b[0;34m(\u001b[0m\u001b[0mget_model_a1\u001b[0m\u001b[0;34m(\u001b[0m\u001b[0;34m)\u001b[0m\u001b[0;34m)\u001b[0m\u001b[0;34m\u001b[0m\u001b[0m\n\u001b[0m",
      "\u001b[0;32m<ipython-input-160-225a4e829af2>\u001b[0m in \u001b[0;36mtrain_model\u001b[0;34m(model)\u001b[0m\n\u001b[1;32m     12\u001b[0m     \u001b[0mmodel\u001b[0m\u001b[0;34m.\u001b[0m\u001b[0moptimizer\u001b[0m\u001b[0;34m.\u001b[0m\u001b[0mlr\u001b[0m \u001b[0;34m=\u001b[0m \u001b[0;36m0.01\u001b[0m\u001b[0;34m\u001b[0m\u001b[0m\n\u001b[1;32m     13\u001b[0m     model.fit_generator(trn_batches, len(trn_imgs), nb_epoch=10, \n\u001b[0;32m---> 14\u001b[0;31m                     validation_data=data_generator(val_idxs, 256, shuffle=False), nb_val_samples=len(val_idxs))\n\u001b[0m\u001b[1;32m     15\u001b[0m \u001b[0;34m\u001b[0m\u001b[0m\n\u001b[1;32m     16\u001b[0m     \u001b[0mmodel\u001b[0m\u001b[0;34m.\u001b[0m\u001b[0moptimizer\u001b[0m\u001b[0;34m.\u001b[0m\u001b[0mlr\u001b[0m \u001b[0;34m=\u001b[0m \u001b[0;36m0.001\u001b[0m\u001b[0;34m\u001b[0m\u001b[0m\n",
      "\u001b[0;32m/home/viiv/anaconda2/lib/python2.7/site-packages/keras/models.pyc\u001b[0m in \u001b[0;36mfit_generator\u001b[0;34m(self, generator, samples_per_epoch, nb_epoch, verbose, callbacks, validation_data, nb_val_samples, class_weight, max_q_size, nb_worker, pickle_safe, initial_epoch, **kwargs)\u001b[0m\n\u001b[1;32m    933\u001b[0m                                         \u001b[0mnb_worker\u001b[0m\u001b[0;34m=\u001b[0m\u001b[0mnb_worker\u001b[0m\u001b[0;34m,\u001b[0m\u001b[0;34m\u001b[0m\u001b[0m\n\u001b[1;32m    934\u001b[0m                                         \u001b[0mpickle_safe\u001b[0m\u001b[0;34m=\u001b[0m\u001b[0mpickle_safe\u001b[0m\u001b[0;34m,\u001b[0m\u001b[0;34m\u001b[0m\u001b[0m\n\u001b[0;32m--> 935\u001b[0;31m                                         initial_epoch=initial_epoch)\n\u001b[0m\u001b[1;32m    936\u001b[0m \u001b[0;34m\u001b[0m\u001b[0m\n\u001b[1;32m    937\u001b[0m     def evaluate_generator(self, generator, val_samples,\n",
      "\u001b[0;32m/home/viiv/anaconda2/lib/python2.7/site-packages/keras/engine/training.pyc\u001b[0m in \u001b[0;36mfit_generator\u001b[0;34m(self, generator, samples_per_epoch, nb_epoch, verbose, callbacks, validation_data, nb_val_samples, class_weight, max_q_size, nb_worker, pickle_safe, initial_epoch)\u001b[0m\n\u001b[1;32m   1555\u001b[0m                     outs = self.train_on_batch(x, y,\n\u001b[1;32m   1556\u001b[0m                                                \u001b[0msample_weight\u001b[0m\u001b[0;34m=\u001b[0m\u001b[0msample_weight\u001b[0m\u001b[0;34m,\u001b[0m\u001b[0;34m\u001b[0m\u001b[0m\n\u001b[0;32m-> 1557\u001b[0;31m                                                class_weight=class_weight)\n\u001b[0m\u001b[1;32m   1558\u001b[0m \u001b[0;34m\u001b[0m\u001b[0m\n\u001b[1;32m   1559\u001b[0m                     \u001b[0;32mif\u001b[0m \u001b[0;32mnot\u001b[0m \u001b[0misinstance\u001b[0m\u001b[0;34m(\u001b[0m\u001b[0mouts\u001b[0m\u001b[0;34m,\u001b[0m \u001b[0mlist\u001b[0m\u001b[0;34m)\u001b[0m\u001b[0;34m:\u001b[0m\u001b[0;34m\u001b[0m\u001b[0m\n",
      "\u001b[0;32m/home/viiv/anaconda2/lib/python2.7/site-packages/keras/engine/training.pyc\u001b[0m in \u001b[0;36mtrain_on_batch\u001b[0;34m(self, x, y, sample_weight, class_weight)\u001b[0m\n\u001b[1;32m   1318\u001b[0m             \u001b[0mins\u001b[0m \u001b[0;34m=\u001b[0m \u001b[0mx\u001b[0m \u001b[0;34m+\u001b[0m \u001b[0my\u001b[0m \u001b[0;34m+\u001b[0m \u001b[0msample_weights\u001b[0m\u001b[0;34m\u001b[0m\u001b[0m\n\u001b[1;32m   1319\u001b[0m         \u001b[0mself\u001b[0m\u001b[0;34m.\u001b[0m\u001b[0m_make_train_function\u001b[0m\u001b[0;34m(\u001b[0m\u001b[0;34m)\u001b[0m\u001b[0;34m\u001b[0m\u001b[0m\n\u001b[0;32m-> 1320\u001b[0;31m         \u001b[0moutputs\u001b[0m \u001b[0;34m=\u001b[0m \u001b[0mself\u001b[0m\u001b[0;34m.\u001b[0m\u001b[0mtrain_function\u001b[0m\u001b[0;34m(\u001b[0m\u001b[0mins\u001b[0m\u001b[0;34m)\u001b[0m\u001b[0;34m\u001b[0m\u001b[0m\n\u001b[0m\u001b[1;32m   1321\u001b[0m         \u001b[0;32mif\u001b[0m \u001b[0mlen\u001b[0m\u001b[0;34m(\u001b[0m\u001b[0moutputs\u001b[0m\u001b[0;34m)\u001b[0m \u001b[0;34m==\u001b[0m \u001b[0;36m1\u001b[0m\u001b[0;34m:\u001b[0m\u001b[0;34m\u001b[0m\u001b[0m\n\u001b[1;32m   1322\u001b[0m             \u001b[0;32mreturn\u001b[0m \u001b[0moutputs\u001b[0m\u001b[0;34m[\u001b[0m\u001b[0;36m0\u001b[0m\u001b[0;34m]\u001b[0m\u001b[0;34m\u001b[0m\u001b[0m\n",
      "\u001b[0;32m/home/viiv/anaconda2/lib/python2.7/site-packages/keras/backend/theano_backend.pyc\u001b[0m in \u001b[0;36m__call__\u001b[0;34m(self, inputs)\u001b[0m\n\u001b[1;32m    957\u001b[0m     \u001b[0;32mdef\u001b[0m \u001b[0m__call__\u001b[0m\u001b[0;34m(\u001b[0m\u001b[0mself\u001b[0m\u001b[0;34m,\u001b[0m \u001b[0minputs\u001b[0m\u001b[0;34m)\u001b[0m\u001b[0;34m:\u001b[0m\u001b[0;34m\u001b[0m\u001b[0m\n\u001b[1;32m    958\u001b[0m         \u001b[0;32massert\u001b[0m \u001b[0misinstance\u001b[0m\u001b[0;34m(\u001b[0m\u001b[0minputs\u001b[0m\u001b[0;34m,\u001b[0m \u001b[0;34m(\u001b[0m\u001b[0mlist\u001b[0m\u001b[0;34m,\u001b[0m \u001b[0mtuple\u001b[0m\u001b[0;34m)\u001b[0m\u001b[0;34m)\u001b[0m\u001b[0;34m\u001b[0m\u001b[0m\n\u001b[0;32m--> 959\u001b[0;31m         \u001b[0;32mreturn\u001b[0m \u001b[0mself\u001b[0m\u001b[0;34m.\u001b[0m\u001b[0mfunction\u001b[0m\u001b[0;34m(\u001b[0m\u001b[0;34m*\u001b[0m\u001b[0minputs\u001b[0m\u001b[0;34m)\u001b[0m\u001b[0;34m\u001b[0m\u001b[0m\n\u001b[0m\u001b[1;32m    960\u001b[0m \u001b[0;34m\u001b[0m\u001b[0m\n\u001b[1;32m    961\u001b[0m \u001b[0;34m\u001b[0m\u001b[0m\n",
      "\u001b[0;32m/home/viiv/anaconda2/lib/python2.7/site-packages/theano/compile/function_module.pyc\u001b[0m in \u001b[0;36m__call__\u001b[0;34m(self, *args, **kwargs)\u001b[0m\n\u001b[1;32m    882\u001b[0m         \u001b[0;32mtry\u001b[0m\u001b[0;34m:\u001b[0m\u001b[0;34m\u001b[0m\u001b[0m\n\u001b[1;32m    883\u001b[0m             \u001b[0moutputs\u001b[0m \u001b[0;34m=\u001b[0m\u001b[0;31m\\\u001b[0m\u001b[0;34m\u001b[0m\u001b[0m\n\u001b[0;32m--> 884\u001b[0;31m                 \u001b[0mself\u001b[0m\u001b[0;34m.\u001b[0m\u001b[0mfn\u001b[0m\u001b[0;34m(\u001b[0m\u001b[0;34m)\u001b[0m \u001b[0;32mif\u001b[0m \u001b[0moutput_subset\u001b[0m \u001b[0;32mis\u001b[0m \u001b[0mNone\u001b[0m \u001b[0;32melse\u001b[0m\u001b[0;31m\\\u001b[0m\u001b[0;34m\u001b[0m\u001b[0m\n\u001b[0m\u001b[1;32m    885\u001b[0m                 \u001b[0mself\u001b[0m\u001b[0;34m.\u001b[0m\u001b[0mfn\u001b[0m\u001b[0;34m(\u001b[0m\u001b[0moutput_subset\u001b[0m\u001b[0;34m=\u001b[0m\u001b[0moutput_subset\u001b[0m\u001b[0;34m)\u001b[0m\u001b[0;34m\u001b[0m\u001b[0m\n\u001b[1;32m    886\u001b[0m         \u001b[0;32mexcept\u001b[0m \u001b[0mException\u001b[0m\u001b[0;34m:\u001b[0m\u001b[0;34m\u001b[0m\u001b[0m\n",
      "\u001b[0;31mKeyboardInterrupt\u001b[0m: "
     ]
    }
   ],
   "source": [
    "train_model(get_model_a1())"
   ]
  },
  {
   "cell_type": "code",
   "execution_count": null,
   "metadata": {},
   "outputs": [
    {
     "name": "stdout",
     "output_type": "stream",
     "text": [
      "____________________________________________________________________________________________________\n",
      "Layer (type)                     Output Shape          Param #     Connected to                     \n",
      "====================================================================================================\n",
      "batchnormalization_171 (BatchNor (None, 3, 45, 300)    12          batchnormalization_input_23[0][0]\n",
      "____________________________________________________________________________________________________\n",
      "convolution2d_85 (Convolution2D) (None, 64, 43, 298)   1792        batchnormalization_171[0][0]     \n",
      "____________________________________________________________________________________________________\n",
      "batchnormalization_172 (BatchNor (None, 64, 43, 298)   256         convolution2d_85[0][0]           \n",
      "____________________________________________________________________________________________________\n",
      "maxpooling2d_45 (MaxPooling2D)   (None, 64, 21, 149)   0           batchnormalization_172[0][0]     \n",
      "____________________________________________________________________________________________________\n",
      "convolution2d_86 (Convolution2D) (None, 128, 19, 147)  73856       maxpooling2d_45[0][0]            \n",
      "____________________________________________________________________________________________________\n",
      "batchnormalization_173 (BatchNor (None, 128, 19, 147)  512         convolution2d_86[0][0]           \n",
      "____________________________________________________________________________________________________\n",
      "maxpooling2d_46 (MaxPooling2D)   (None, 128, 9, 73)    0           batchnormalization_173[0][0]     \n",
      "____________________________________________________________________________________________________\n",
      "convolution2d_87 (Convolution2D) (None, 256, 7, 71)    295168      maxpooling2d_46[0][0]            \n",
      "____________________________________________________________________________________________________\n",
      "batchnormalization_174 (BatchNor (None, 256, 7, 71)    1024        convolution2d_87[0][0]           \n",
      "____________________________________________________________________________________________________\n",
      "convolution2d_88 (Convolution2D) (None, 256, 5, 69)    590080      batchnormalization_174[0][0]     \n",
      "____________________________________________________________________________________________________\n",
      "batchnormalization_175 (BatchNor (None, 256, 5, 69)    1024        convolution2d_88[0][0]           \n",
      "____________________________________________________________________________________________________\n",
      "maxpooling2d_47 (MaxPooling2D)   (None, 256, 2, 34)    0           batchnormalization_175[0][0]     \n",
      "____________________________________________________________________________________________________\n",
      "flatten_24 (Flatten)             (None, 17408)         0           maxpooling2d_47[0][0]            \n",
      "____________________________________________________________________________________________________\n",
      "batchnormalization_176 (BatchNor (None, 17408)         69632       flatten_24[0][0]                 \n",
      "____________________________________________________________________________________________________\n",
      "dense_63 (Dense)                 (None, 300)           5222700     batchnormalization_176[0][0]     \n",
      "____________________________________________________________________________________________________\n",
      "batchnormalization_177 (BatchNor (None, 300)           1200        dense_63[0][0]                   \n",
      "____________________________________________________________________________________________________\n",
      "dense_64 (Dense)                 (None, 300)           90300       batchnormalization_177[0][0]     \n",
      "____________________________________________________________________________________________________\n",
      "batchnormalization_178 (BatchNor (None, 300)           1200        dense_64[0][0]                   \n",
      "____________________________________________________________________________________________________\n",
      "reshape_18 (Reshape)             (None, 30, 10)        0           batchnormalization_178[0][0]     \n",
      "____________________________________________________________________________________________________\n",
      "timedistributed_14 (TimeDistribu (None, 30, 44)        484         reshape_18[0][0]                 \n",
      "====================================================================================================\n",
      "Total params: 6,349,240\n",
      "Trainable params: 6,311,810\n",
      "Non-trainable params: 37,430\n",
      "____________________________________________________________________________________________________\n",
      "Epoch 1/1\n",
      "239380/239380 [==============================] - 521s - loss: 1.1754 - acc: 0.6387 - val_loss: 0.8523 - val_acc: 0.6878\n",
      "Epoch 1/1\n",
      "239380/239380 [==============================] - 518s - loss: 0.7749 - acc: 0.7267 - val_loss: 0.6075 - val_acc: 0.7834\n",
      "Epoch 1/10\n",
      "239380/239380 [==============================] - 522s - loss: 0.6354 - acc: 0.7771 - val_loss: 0.5323 - val_acc: 0.8108\n",
      "Epoch 2/10\n",
      "239380/239380 [==============================] - 518s - loss: 0.5730 - acc: 0.7986 - val_loss: 0.4815 - val_acc: 0.8279\n",
      "Epoch 3/10\n",
      "239380/239380 [==============================] - 517s - loss: 0.5327 - acc: 0.8139 - val_loss: 0.4550 - val_acc: 0.8397\n",
      "Epoch 4/10\n",
      "239380/239380 [==============================] - 516s - loss: 0.5016 - acc: 0.8261 - val_loss: 0.4249 - val_acc: 0.8519\n",
      "Epoch 5/10\n",
      "239380/239380 [==============================] - 518s - loss: 0.4753 - acc: 0.8363 - val_loss: 0.4084 - val_acc: 0.8599\n",
      "Epoch 6/10\n",
      "239380/239380 [==============================] - 517s - loss: 0.4543 - acc: 0.8444 - val_loss: 0.3849 - val_acc: 0.8693\n",
      "Epoch 7/10\n",
      "239380/239380 [==============================] - 523s - loss: 0.4349 - acc: 0.8519 - val_loss: 0.3687 - val_acc: 0.8762\n",
      "Epoch 8/10\n",
      "239380/239380 [==============================] - 512s - loss: 0.4200 - acc: 0.8574 - val_loss: 0.3495 - val_acc: 0.8809\n",
      "Epoch 9/10\n",
      "239380/239380 [==============================] - 513s - loss: 0.4075 - acc: 0.8619 - val_loss: 0.3349 - val_acc: 0.8863\n",
      "Epoch 10/10\n",
      "239380/239380 [==============================] - 516s - loss: 0.3949 - acc: 0.8665 - val_loss: 0.3302 - val_acc: 0.8885\n",
      "Epoch 1/10\n",
      "239380/239380 [==============================] - 515s - loss: 0.3856 - acc: 0.8697 - val_loss: 0.3157 - val_acc: 0.8928\n",
      "Epoch 2/10\n",
      "239380/239380 [==============================] - 525s - loss: 0.3775 - acc: 0.8728 - val_loss: 0.3307 - val_acc: 0.8892\n",
      "Epoch 3/10\n",
      "239380/239380 [==============================] - 529s - loss: 0.3714 - acc: 0.8748 - val_loss: 0.3138 - val_acc: 0.8945\n",
      "Epoch 4/10\n",
      "239380/239380 [==============================] - 518s - loss: 0.3614 - acc: 0.8784 - val_loss: 0.3325 - val_acc: 0.8946\n",
      "Epoch 5/10\n",
      "239380/239380 [==============================] - 519s - loss: 0.3577 - acc: 0.8797 - val_loss: 0.2995 - val_acc: 0.8987\n",
      "Epoch 6/10\n",
      "239380/239380 [==============================] - 513s - loss: 0.3365 - acc: 0.8873 - val_loss: 0.2806 - val_acc: 0.9061\n",
      "Epoch 10/10\n",
      "239380/239380 [==============================] - 517s - loss: 0.3304 - acc: 0.8893 - val_loss: 0.3840 - val_acc: 0.8814\n",
      "Epoch 1/10\n",
      "239380/239380 [==============================] - 527s - loss: 0.3274 - acc: 0.8903 - val_loss: 0.2683 - val_acc: 0.9109\n",
      "Epoch 2/10\n",
      "239380/239380 [==============================] - 525s - loss: 0.3239 - acc: 0.8916 - val_loss: 0.2648 - val_acc: 0.9118\n",
      "Epoch 3/10\n",
      "239380/239380 [==============================] - 518s - loss: 0.3193 - acc: 0.8932 - val_loss: 0.2683 - val_acc: 0.9110\n",
      "Epoch 4/10\n",
      "239380/239380 [==============================] - 518s - loss: 0.3153 - acc: 0.8945 - val_loss: 0.2558 - val_acc: 0.9147\n",
      "Epoch 5/10\n",
      "239380/239380 [==============================] - 515s - loss: 0.3138 - acc: 0.8952 - val_loss: 0.2644 - val_acc: 0.9119\n",
      "Epoch 6/10\n",
      "239380/239380 [==============================] - 518s - loss: 0.3107 - acc: 0.8961 - val_loss: 0.2515 - val_acc: 0.9158\n",
      "Epoch 7/10\n",
      "239380/239380 [==============================] - 511s - loss: 0.3074 - acc: 0.8974 - val_loss: 0.2486 - val_acc: 0.9178\n",
      "Epoch 8/10\n",
      "239380/239380 [==============================] - 517s - loss: 0.3039 - acc: 0.8984 - val_loss: 0.2510 - val_acc: 0.9176\n",
      "Epoch 9/10\n",
      "239380/239380 [==============================] - 516s - loss: 0.3015 - acc: 0.8995 - val_loss: 0.2442 - val_acc: 0.9186\n",
      "Epoch 10/10\n"
     ]
    },
    {
     "name": "stdout",
     "output_type": "stream",
     "text": [
      "239380/239380 [==============================] - 520s - loss: 0.3011 - acc: 0.8995 - val_loss: 0.2511 - val_acc: 0.9168\n"
     ]
    }
   ],
   "source": [
    "train_model(get_model_v2())"
   ]
  },
  {
   "cell_type": "code",
   "execution_count": null,
   "metadata": {
    "collapsed": true
   },
   "outputs": [],
   "source": []
  }
 ],
 "metadata": {
  "kernelspec": {
   "display_name": "Python [conda root]",
   "language": "python",
   "name": "conda-root-py"
  },
  "language_info": {
   "codemirror_mode": {
    "name": "ipython",
    "version": 2
   },
   "file_extension": ".py",
   "mimetype": "text/x-python",
   "name": "python",
   "nbconvert_exporter": "python",
   "pygments_lexer": "ipython2",
   "version": "2.7.13"
  }
 },
 "nbformat": 4,
 "nbformat_minor": 2
}
