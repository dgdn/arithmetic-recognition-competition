{
 "cells": [
  {
   "cell_type": "code",
   "execution_count": 11,
   "metadata": {},
   "outputs": [],
   "source": [
    "%matplotlib inline\n",
    "from __future__ import print_function, division\n",
    "path = \"data/baidu/\"\n",
    "#path = \"data/state/sample/\"\n",
    "import utils; reload(utils)\n",
    "from utils import *\n",
    "from IPython.display import FileLink"
   ]
  },
  {
   "cell_type": "code",
   "execution_count": 12,
   "metadata": {
    "collapsed": true
   },
   "outputs": [],
   "source": [
    "def plots(ims, interp=False, titles=None):\n",
    "    ims=np.array(ims)\n",
    "    mn,mx=ims.min(),ims.max()\n",
    "    f = plt.figure(figsize=(12,24))\n",
    "    for i in range(len(ims)):\n",
    "        sp=f.add_subplot(1, len(ims), i+1)\n",
    "        if not titles is None: sp.set_title(titles[i], fontsize=18)\n",
    "        plt.imshow(ims[i], interpolation=None if interp else 'none', vmin=mn,vmax=mx)\n",
    "\n",
    "def plot(im, interp=False):\n",
    "    f = plt.figure(figsize=(3,6), frameon=True)\n",
    "    plt.imshow(im, interpolation=None if interp else 'none')\n",
    "\n",
    "plt.gray()\n",
    "plt.close()"
   ]
  },
  {
   "cell_type": "code",
   "execution_count": 13,
   "metadata": {
    "collapsed": true
   },
   "outputs": [],
   "source": [
    "tokens = ['0','1','2', '3','4','5','6','7','8','9','(',')', '+', '-', '*', 'N']"
   ]
  },
  {
   "cell_type": "code",
   "execution_count": 4,
   "metadata": {
    "collapsed": true
   },
   "outputs": [],
   "source": [
    "gen = image.ImageDataGenerator()"
   ]
  },
  {
   "cell_type": "code",
   "execution_count": 5,
   "metadata": {},
   "outputs": [
    {
     "name": "stdout",
     "output_type": "stream",
     "text": [
      "Found 100000 images belonging to 1 classes.\n"
     ]
    }
   ],
   "source": [
    "batches = gen.flow_from_directory(path+'/image_contest_level_1', \n",
    "                                  batch_size=1, \n",
    "                                  target_size=(30,90),\n",
    "                                  shuffle=False,\n",
    "                                  class_mode=None,\n",
    "                                  color_mode='grayscale'\n",
    "                                 )"
   ]
  },
  {
   "cell_type": "code",
   "execution_count": 6,
   "metadata": {
    "collapsed": true
   },
   "outputs": [
    {
     "name": "stdout",
     "output_type": "stream",
     "text": [
      "Found 200000 images belonging to 1 classes.\n"
     ]
    },
    {
     "ename": "KeyboardInterrupt",
     "evalue": "",
     "output_type": "error",
     "traceback": [
      "\u001b[0;31m---------------------------------------------------------------------------\u001b[0m",
      "\u001b[0;31mKeyboardInterrupt\u001b[0m                         Traceback (most recent call last)",
      "\u001b[0;32m<ipython-input-6-43b20cf45eca>\u001b[0m in \u001b[0;36m<module>\u001b[0;34m()\u001b[0m\n\u001b[1;32m      9\u001b[0m \u001b[0mseq2img\u001b[0m \u001b[0;34m=\u001b[0m \u001b[0mdict\u001b[0m\u001b[0;34m(\u001b[0m\u001b[0;34m)\u001b[0m\u001b[0;34m\u001b[0m\u001b[0m\n\u001b[1;32m     10\u001b[0m \u001b[0;32mfor\u001b[0m \u001b[0mi\u001b[0m \u001b[0;32min\u001b[0m \u001b[0mrange\u001b[0m\u001b[0;34m(\u001b[0m\u001b[0mtest_batches\u001b[0m\u001b[0;34m.\u001b[0m\u001b[0mnb_sample\u001b[0m\u001b[0;34m)\u001b[0m\u001b[0;34m:\u001b[0m\u001b[0;34m\u001b[0m\u001b[0m\n\u001b[0;32m---> 11\u001b[0;31m     \u001b[0mimg\u001b[0m \u001b[0;34m=\u001b[0m \u001b[0mtest_batches\u001b[0m\u001b[0;34m.\u001b[0m\u001b[0mnext\u001b[0m\u001b[0;34m(\u001b[0m\u001b[0;34m)\u001b[0m\u001b[0;34m[\u001b[0m\u001b[0;36m0\u001b[0m\u001b[0;34m]\u001b[0m\u001b[0;34m\u001b[0m\u001b[0m\n\u001b[0m\u001b[1;32m     12\u001b[0m     \u001b[0mno\u001b[0m \u001b[0;34m=\u001b[0m \u001b[0mtest_batches\u001b[0m\u001b[0;34m.\u001b[0m\u001b[0mfilenames\u001b[0m\u001b[0;34m[\u001b[0m\u001b[0mi\u001b[0m\u001b[0;34m]\u001b[0m\u001b[0;34m[\u001b[0m\u001b[0;36m8\u001b[0m\u001b[0;34m:\u001b[0m\u001b[0;34m]\u001b[0m\u001b[0;34m[\u001b[0m\u001b[0;34m:\u001b[0m\u001b[0;34m-\u001b[0m\u001b[0;36m4\u001b[0m\u001b[0;34m]\u001b[0m\u001b[0;34m\u001b[0m\u001b[0m\n\u001b[1;32m     13\u001b[0m     \u001b[0mseq2img\u001b[0m\u001b[0;34m[\u001b[0m\u001b[0mint\u001b[0m\u001b[0;34m(\u001b[0m\u001b[0mno\u001b[0m\u001b[0;34m)\u001b[0m\u001b[0;34m]\u001b[0m\u001b[0;34m=\u001b[0m\u001b[0mimg\u001b[0m\u001b[0;34m\u001b[0m\u001b[0m\n",
      "\u001b[0;32m/home/viiv/anaconda2/lib/python2.7/site-packages/keras/preprocessing/image.pyc\u001b[0m in \u001b[0;36mnext\u001b[0;34m(self)\u001b[0m\n\u001b[1;32m    830\u001b[0m             img = load_img(os.path.join(self.directory, fname),\n\u001b[1;32m    831\u001b[0m                            \u001b[0mgrayscale\u001b[0m\u001b[0;34m=\u001b[0m\u001b[0mgrayscale\u001b[0m\u001b[0;34m,\u001b[0m\u001b[0;34m\u001b[0m\u001b[0m\n\u001b[0;32m--> 832\u001b[0;31m                            target_size=self.target_size)\n\u001b[0m\u001b[1;32m    833\u001b[0m             \u001b[0mx\u001b[0m \u001b[0;34m=\u001b[0m \u001b[0mimg_to_array\u001b[0m\u001b[0;34m(\u001b[0m\u001b[0mimg\u001b[0m\u001b[0;34m,\u001b[0m \u001b[0mdim_ordering\u001b[0m\u001b[0;34m=\u001b[0m\u001b[0mself\u001b[0m\u001b[0;34m.\u001b[0m\u001b[0mdim_ordering\u001b[0m\u001b[0;34m)\u001b[0m\u001b[0;34m\u001b[0m\u001b[0m\n\u001b[1;32m    834\u001b[0m             \u001b[0mx\u001b[0m \u001b[0;34m=\u001b[0m \u001b[0mself\u001b[0m\u001b[0;34m.\u001b[0m\u001b[0mimage_data_generator\u001b[0m\u001b[0;34m.\u001b[0m\u001b[0mrandom_transform\u001b[0m\u001b[0;34m(\u001b[0m\u001b[0mx\u001b[0m\u001b[0;34m)\u001b[0m\u001b[0;34m\u001b[0m\u001b[0m\n",
      "\u001b[0;32m/home/viiv/anaconda2/lib/python2.7/site-packages/keras/preprocessing/image.pyc\u001b[0m in \u001b[0;36mload_img\u001b[0;34m(path, grayscale, target_size)\u001b[0m\n\u001b[1;32m    296\u001b[0m     \u001b[0mimg\u001b[0m \u001b[0;34m=\u001b[0m \u001b[0mpil_image\u001b[0m\u001b[0;34m.\u001b[0m\u001b[0mopen\u001b[0m\u001b[0;34m(\u001b[0m\u001b[0mpath\u001b[0m\u001b[0;34m)\u001b[0m\u001b[0;34m\u001b[0m\u001b[0m\n\u001b[1;32m    297\u001b[0m     \u001b[0;32mif\u001b[0m \u001b[0mgrayscale\u001b[0m\u001b[0;34m:\u001b[0m\u001b[0;34m\u001b[0m\u001b[0m\n\u001b[0;32m--> 298\u001b[0;31m         \u001b[0mimg\u001b[0m \u001b[0;34m=\u001b[0m \u001b[0mimg\u001b[0m\u001b[0;34m.\u001b[0m\u001b[0mconvert\u001b[0m\u001b[0;34m(\u001b[0m\u001b[0;34m'L'\u001b[0m\u001b[0;34m)\u001b[0m\u001b[0;34m\u001b[0m\u001b[0m\n\u001b[0m\u001b[1;32m    299\u001b[0m     \u001b[0;32melse\u001b[0m\u001b[0;34m:\u001b[0m  \u001b[0;31m# Ensure 3 channel even when loaded image is grayscale\u001b[0m\u001b[0;34m\u001b[0m\u001b[0m\n\u001b[1;32m    300\u001b[0m         \u001b[0mimg\u001b[0m \u001b[0;34m=\u001b[0m \u001b[0mimg\u001b[0m\u001b[0;34m.\u001b[0m\u001b[0mconvert\u001b[0m\u001b[0;34m(\u001b[0m\u001b[0;34m'RGB'\u001b[0m\u001b[0;34m)\u001b[0m\u001b[0;34m\u001b[0m\u001b[0m\n",
      "\u001b[0;32m/home/viiv/anaconda2/lib/python2.7/site-packages/PIL/Image.pyc\u001b[0m in \u001b[0;36mconvert\u001b[0;34m(self, mode, matrix, dither, palette, colors)\u001b[0m\n\u001b[1;32m    855\u001b[0m                 \u001b[0;32mreturn\u001b[0m \u001b[0mself\u001b[0m\u001b[0;34m.\u001b[0m\u001b[0mcopy\u001b[0m\u001b[0;34m(\u001b[0m\u001b[0;34m)\u001b[0m\u001b[0;34m\u001b[0m\u001b[0m\n\u001b[1;32m    856\u001b[0m \u001b[0;34m\u001b[0m\u001b[0m\n\u001b[0;32m--> 857\u001b[0;31m         \u001b[0mself\u001b[0m\u001b[0;34m.\u001b[0m\u001b[0mload\u001b[0m\u001b[0;34m(\u001b[0m\u001b[0;34m)\u001b[0m\u001b[0;34m\u001b[0m\u001b[0m\n\u001b[0m\u001b[1;32m    858\u001b[0m \u001b[0;34m\u001b[0m\u001b[0m\n\u001b[1;32m    859\u001b[0m         \u001b[0;32mif\u001b[0m \u001b[0mmatrix\u001b[0m\u001b[0;34m:\u001b[0m\u001b[0;34m\u001b[0m\u001b[0m\n",
      "\u001b[0;32m/home/viiv/anaconda2/lib/python2.7/site-packages/PIL/ImageFile.pyc\u001b[0m in \u001b[0;36mload\u001b[0;34m(self)\u001b[0m\n\u001b[1;32m    232\u001b[0m \u001b[0;34m\u001b[0m\u001b[0m\n\u001b[1;32m    233\u001b[0m                         \u001b[0mb\u001b[0m \u001b[0;34m=\u001b[0m \u001b[0mb\u001b[0m \u001b[0;34m+\u001b[0m \u001b[0ms\u001b[0m\u001b[0;34m\u001b[0m\u001b[0m\n\u001b[0;32m--> 234\u001b[0;31m                         \u001b[0mn\u001b[0m\u001b[0;34m,\u001b[0m \u001b[0merr_code\u001b[0m \u001b[0;34m=\u001b[0m \u001b[0mdecoder\u001b[0m\u001b[0;34m.\u001b[0m\u001b[0mdecode\u001b[0m\u001b[0;34m(\u001b[0m\u001b[0mb\u001b[0m\u001b[0;34m)\u001b[0m\u001b[0;34m\u001b[0m\u001b[0m\n\u001b[0m\u001b[1;32m    235\u001b[0m                         \u001b[0;32mif\u001b[0m \u001b[0mn\u001b[0m \u001b[0;34m<\u001b[0m \u001b[0;36m0\u001b[0m\u001b[0;34m:\u001b[0m\u001b[0;34m\u001b[0m\u001b[0m\n\u001b[1;32m    236\u001b[0m                             \u001b[0;32mbreak\u001b[0m\u001b[0;34m\u001b[0m\u001b[0m\n",
      "\u001b[0;31mKeyboardInterrupt\u001b[0m: "
     ]
    }
   ],
   "source": [
    "import collections\n",
    "test_batches = gen.flow_from_directory(path+'/test', \n",
    "                                  batch_size=1, \n",
    "                                  target_size=(30,90),\n",
    "                                  shuffle=False,\n",
    "                                  class_mode=None,\n",
    "                                  color_mode='grayscale'\n",
    "                                 )\n",
    "seq2img = dict()\n",
    "for i in range(test_batches.nb_sample):\n",
    "    img = test_batches.next()[0]\n",
    "    no = test_batches.filenames[i][8:][:-4]\n",
    "    seq2img[int(no)]=img\n",
    "test_imgs = []\n",
    "od = collections.OrderedDict(sorted(seq2img.items()))\n",
    "test_imgs = np.array([v for k,v in od.iteritems()])"
   ]
  },
  {
   "cell_type": "code",
   "execution_count": 28,
   "metadata": {
    "collapsed": true
   },
   "outputs": [],
   "source": [
    "save_array(path+'test_imgs.dat', test_imgs)"
   ]
  },
  {
   "cell_type": "code",
   "execution_count": 3,
   "metadata": {
    "collapsed": true
   },
   "outputs": [],
   "source": [
    "test_imgs = load_array(path+'test_imgs.dat')"
   ]
  },
  {
   "cell_type": "code",
   "execution_count": 8,
   "metadata": {},
   "outputs": [
    {
     "data": {
      "image/png": "[encoded data removed]",
      "text/plain": [
       "<PIL.PngImagePlugin.PngImageFile image mode=RGB size=180x60 at 0x7FDC37CB6510>"
      ]
     },
     "execution_count": 8,
     "metadata": {},
     "output_type": "execute_result"
    }
   ],
   "source": [
    "Image.open(path+'/test/unknown/199999.png')  ##17141"
   ]
  },
  {
   "cell_type": "code",
   "execution_count": 4,
   "metadata": {
    "collapsed": true
   },
   "outputs": [],
   "source": [
    "imgs = np.concatenate([batches.next() for i in range(batches.nb_sample)])"
   ]
  },
  {
   "cell_type": "code",
   "execution_count": 6,
   "metadata": {
    "collapsed": true
   },
   "outputs": [],
   "source": [
    "save_array(path+'imgs0.dat', imgs)"
   ]
  },
  {
   "cell_type": "code",
   "execution_count": 5,
   "metadata": {
    "collapsed": true
   },
   "outputs": [],
   "source": [
    "imgs = load_array(path+'imgs0.dat')"
   ]
  },
  {
   "cell_type": "code",
   "execution_count": 6,
   "metadata": {},
   "outputs": [
    {
     "data": {
      "image/png": "[encoded data removed]",
      "text/plain": [
       "<matplotlib.figure.Figure at 0x7f919bfcfdd0>"
      ]
     },
     "metadata": {},
     "output_type": "display_data"
    }
   ],
   "source": [
    "plots(imgs[:5].reshape((-1,30,90)))"
   ]
  },
  {
   "cell_type": "code",
   "execution_count": 7,
   "metadata": {
    "collapsed": true
   },
   "outputs": [],
   "source": [
    "x2label_idx = [int(f[8:][:-4]) for f in batches.filenames]"
   ]
  },
  {
   "cell_type": "code",
   "execution_count": 8,
   "metadata": {},
   "outputs": [
    {
     "data": {
      "text/plain": [
       "[81314, 42703, 94273, 72552, 17141, 50750, 48773, 94926, 47470, 13306]"
      ]
     },
     "execution_count": 8,
     "metadata": {},
     "output_type": "execute_result"
    }
   ],
   "source": [
    "x2label_idx[:10]"
   ]
  },
  {
   "cell_type": "code",
   "execution_count": 9,
   "metadata": {
    "collapsed": true
   },
   "outputs": [],
   "source": [
    "label_texts = []\n",
    "lines = []\n",
    "with open(path+'labels.txt') as f:\n",
    "    lines = f.readlines()\n",
    "label_texts = [l.strip().split()[0].ljust(7, 'N') for l in lines]"
   ]
  },
  {
   "cell_type": "code",
   "execution_count": 10,
   "metadata": {
    "collapsed": true
   },
   "outputs": [
    {
     "data": {
      "text/plain": [
       "['(4*8)+8',\n",
       " '7+3*0NN',\n",
       " '5+(5+2)',\n",
       " '(8-0)-8',\n",
       " '0+(0+2)',\n",
       " '(2*5)+0',\n",
       " '0+(1+8)',\n",
       " '2+(4+9)',\n",
       " '7*2+4NN',\n",
       " '0-(7*1)']"
      ]
     },
     "execution_count": 10,
     "metadata": {},
     "output_type": "execute_result"
    }
   ],
   "source": [
    "label_texts[:10]"
   ]
  },
  {
   "cell_type": "code",
   "execution_count": 13,
   "metadata": {
    "collapsed": true
   },
   "outputs": [],
   "source": [
    "token2idx={char:i for i, char in enumerate(tokens)}"
   ]
  },
  {
   "cell_type": "code",
   "execution_count": 14,
   "metadata": {
    "collapsed": true
   },
   "outputs": [],
   "source": [
    "labels = np.array([[token2idx[token] for token in ts] for ts in label_texts])"
   ]
  },
  {
   "cell_type": "code",
   "execution_count": 15,
   "metadata": {},
   "outputs": [
    {
     "data": {
      "text/plain": [
       "(100000, 7)"
      ]
     },
     "execution_count": 15,
     "metadata": {},
     "output_type": "execute_result"
    }
   ],
   "source": [
    "labels.shape"
   ]
  },
  {
   "cell_type": "code",
   "execution_count": 17,
   "metadata": {
    "collapsed": true
   },
   "outputs": [],
   "source": [
    "idxs = np.random.permutation(imgs.shape[0])\n",
    "mask = np.random.rand(len(imgs)) < 0.8\n",
    "trn_idxs = idxs[mask]\n",
    "val_idxs = idxs[~mask]"
   ]
  },
  {
   "cell_type": "code",
   "execution_count": 18,
   "metadata": {},
   "outputs": [
    {
     "data": {
      "text/plain": [
       "(79931, 20069)"
      ]
     },
     "execution_count": 18,
     "metadata": {},
     "output_type": "execute_result"
    }
   ],
   "source": [
    "len(trn_idxs), len(val_idxs)"
   ]
  },
  {
   "cell_type": "code",
   "execution_count": 19,
   "metadata": {
    "collapsed": true
   },
   "outputs": [],
   "source": [
    "x_trn = imgs[trn_idxs]\n",
    "y_trn_m = labels[np.array(x2label_idx)[trn_idxs]]\n",
    "\n",
    "y_trn = np.expand_dims(np.stack(y_trn_m, axis=0), -1)"
   ]
  },
  {
   "cell_type": "code",
   "execution_count": 20,
   "metadata": {},
   "outputs": [
    {
     "data": {
      "text/plain": [
       "((79931, 1, 30, 90), (79931, 7, 1))"
      ]
     },
     "execution_count": 20,
     "metadata": {},
     "output_type": "execute_result"
    }
   ],
   "source": [
    "x_trn.shape, y_trn.shape"
   ]
  },
  {
   "cell_type": "code",
   "execution_count": 21,
   "metadata": {},
   "outputs": [
    {
     "data": {
      "text/plain": [
       "(79931, 7, 1)"
      ]
     },
     "execution_count": 21,
     "metadata": {},
     "output_type": "execute_result"
    }
   ],
   "source": [
    "y_trn.shape"
   ]
  },
  {
   "cell_type": "code",
   "execution_count": 22,
   "metadata": {
    "collapsed": true
   },
   "outputs": [],
   "source": [
    "x_val = imgs[val_idxs]\n",
    "y_val_m = labels[np.array(x2label_idx)[val_idxs]]\n",
    "y_val = np.expand_dims(np.stack(y_val_m, axis=0), -1)"
   ]
  },
  {
   "cell_type": "code",
   "execution_count": 23,
   "metadata": {},
   "outputs": [
    {
     "data": {
      "text/plain": [
       "((20069, 1, 30, 90), (20069, 7, 1))"
      ]
     },
     "execution_count": 23,
     "metadata": {},
     "output_type": "execute_result"
    }
   ],
   "source": [
    "x_val.shape, y_val.shape"
   ]
  },
  {
   "cell_type": "code",
   "execution_count": 24,
   "metadata": {
    "collapsed": true
   },
   "outputs": [],
   "source": [
    "mean_px = x_trn.mean().astype(np.float32)\n",
    "std_px = x_trn.std().astype(np.float32)"
   ]
  },
  {
   "cell_type": "code",
   "execution_count": 25,
   "metadata": {
    "collapsed": true
   },
   "outputs": [],
   "source": [
    "def norm_input(x): return (x-mean_px)/std_px"
   ]
  },
  {
   "cell_type": "markdown",
   "metadata": {},
   "source": [
    "# Batchnorm"
   ]
  },
  {
   "cell_type": "code",
   "execution_count": 26,
   "metadata": {
    "collapsed": true
   },
   "outputs": [],
   "source": [
    "def get_model():\n",
    "    model = Sequential([\n",
    "            BatchNormalization(axis=1, input_shape=(1,30,90)),\n",
    "            Convolution2D(32,3,3, activation='relu'),\n",
    "            BatchNormalization(axis=1),\n",
    "            Convolution2D(32,3,3, activation='relu'),\n",
    "            BatchNormalization(axis=1),\n",
    "            MaxPooling2D(),\n",
    "            Convolution2D(64,3,3, activation='relu'),\n",
    "            BatchNormalization(axis=1),\n",
    "            Convolution2D(64,3,3, activation='relu'),\n",
    "            BatchNormalization(axis=1),\n",
    "            MaxPooling2D(),\n",
    "\n",
    "            Flatten(),\n",
    "            BatchNormalization(),\n",
    "\n",
    "            \n",
    "            Dense(70, activation='relu'),\n",
    "            BatchNormalization(),\n",
    "            Dropout(0.3),\n",
    "\n",
    "            Dense(70, activation='relu'),\n",
    "            BatchNormalization(),\n",
    "            Dropout(0.3),\n",
    "        \n",
    "            Reshape((7, 10)),\n",
    "            TimeDistributed(Dense(16, activation='softmax'))\n",
    "        ])\n",
    "    model.compile(Adam(), loss='sparse_categorical_crossentropy', metrics=['accuracy'])\n",
    "    return model"
   ]
  },
  {
   "cell_type": "code",
   "execution_count": 450,
   "metadata": {
    "collapsed": true
   },
   "outputs": [],
   "source": [
    "def fit_model():\n",
    "    model = get_model()\n",
    "    model.fit(x_trn, y_trn, batch_size=64, nb_epoch=1, validation_data=(x_val, y_val))\n",
    "    da = image.ImageDataGenerator(rotation_range=8,height_shift_range=0.05, zoom_range=0.08)\n",
    "    trn_batches = da.flow(x_trn, y_trn, batch_size=64, shuffle=True)\n",
    "    model.optimizer.lr=0.1\n",
    "    model.fit_generator(trn_batches, len(x_trn), nb_epoch=1, validation_data=(x_val, y_val))\n",
    "    model.optimizer.lr=0.01\n",
    "    model.fit_generator(trn_batches, len(x_trn), nb_epoch=1, validation_data=(x_val, y_val))\n",
    "    model.optimizer.lr=0.001\n",
    "    model.fit_generator(trn_batches, len(x_trn), nb_epoch=1, validation_data=(x_val, y_val))\n",
    "    return model"
   ]
  },
  {
   "cell_type": "code",
   "execution_count": 451,
   "metadata": {
    "collapsed": true
   },
   "outputs": [
    {
     "name": "stdout",
     "output_type": "stream",
     "text": [
      "Train on 80112 samples, validate on 19888 samples\n",
      "Epoch 1/1\n",
      "80112/80112 [==============================] - 91s - loss: 1.0009 - acc: 0.6675 - val_loss: 0.1573 - val_acc: 0.9820\n",
      "Epoch 1/1\n",
      "80112/80112 [==============================] - 93s - loss: 0.5065 - acc: 0.8212 - val_loss: 0.0472 - val_acc: 0.9963\n",
      "Epoch 1/1\n",
      "80112/80112 [==============================] - 92s - loss: 0.3493 - acc: 0.8736 - val_loss: 0.0234 - val_acc: 0.9976\n",
      "Epoch 1/1\n",
      "80112/80112 [==============================] - 92s - loss: 0.2929 - acc: 0.8926 - val_loss: 0.0128 - val_acc: 0.9983\n",
      "Train on 80112 samples, validate on 19888 samples\n",
      "Epoch 1/1\n",
      "80112/80112 [==============================] - 92s - loss: 1.0018 - acc: 0.6553 - val_loss: 0.1856 - val_acc: 0.9677\n",
      "Epoch 1/1\n",
      "80112/80112 [==============================] - 94s - loss: 0.5167 - acc: 0.8071 - val_loss: 0.0744 - val_acc: 0.9912\n",
      "Epoch 1/1\n",
      "80112/80112 [==============================] - 93s - loss: 0.3666 - acc: 0.8642 - val_loss: 0.0380 - val_acc: 0.9955\n",
      "Epoch 1/1\n",
      "80112/80112 [==============================] - 93s - loss: 0.3051 - acc: 0.8857 - val_loss: 0.0196 - val_acc: 0.9975\n",
      "Train on 80112 samples, validate on 19888 samples\n",
      "Epoch 1/1\n",
      "80112/80112 [==============================] - 91s - loss: 0.9982 - acc: 0.6768 - val_loss: 0.1427 - val_acc: 0.9840\n",
      "Epoch 1/1\n",
      "80112/80112 [==============================] - 93s - loss: 0.4968 - acc: 0.8261 - val_loss: 0.0479 - val_acc: 0.9933\n",
      "Epoch 1/1\n",
      "80112/80112 [==============================] - 93s - loss: 0.3365 - acc: 0.8783 - val_loss: 0.0294 - val_acc: 0.9954\n",
      "Epoch 1/1\n",
      "80112/80112 [==============================] - 93s - loss: 0.2874 - acc: 0.8947 - val_loss: 0.0181 - val_acc: 0.9974\n",
      "Train on 80112 samples, validate on 19888 samples\n",
      "Epoch 1/1\n",
      "80112/80112 [==============================] - 91s - loss: 1.1139 - acc: 0.6292 - val_loss: 0.2544 - val_acc: 0.9669\n",
      "Epoch 1/1\n",
      "80112/80112 [==============================] - 93s - loss: 0.5651 - acc: 0.7977 - val_loss: 0.0877 - val_acc: 0.9906\n",
      "Epoch 1/1\n",
      "80112/80112 [==============================] - 92s - loss: 0.3720 - acc: 0.8644 - val_loss: 0.0316 - val_acc: 0.9969\n",
      "Epoch 1/1\n",
      "80112/80112 [==============================] - 92s - loss: 0.3029 - acc: 0.8886 - val_loss: 0.0178 - val_acc: 0.9982\n",
      "Train on 80112 samples, validate on 19888 samples\n",
      "Epoch 1/1\n",
      "80112/80112 [==============================] - 92s - loss: 1.0310 - acc: 0.6631 - val_loss: 0.1439 - val_acc: 0.9818\n",
      "Epoch 1/1\n",
      "80112/80112 [==============================] - 93s - loss: 0.5147 - acc: 0.8197 - val_loss: 0.0516 - val_acc: 0.9929\n",
      "Epoch 1/1\n",
      "80112/80112 [==============================] - 93s - loss: 0.3461 - acc: 0.8764 - val_loss: 0.0366 - val_acc: 0.9953\n",
      "Epoch 1/1\n",
      "80112/80112 [==============================] - 93s - loss: 0.2920 - acc: 0.8942 - val_loss: 0.0193 - val_acc: 0.9973\n",
      "Train on 80112 samples, validate on 19888 samples\n",
      "Epoch 1/1\n",
      "80112/80112 [==============================] - 91s - loss: 0.9905 - acc: 0.6545 - val_loss: 0.2063 - val_acc: 0.9231\n",
      "Epoch 1/1\n",
      "80112/80112 [==============================] - 93s - loss: 0.5378 - acc: 0.7767 - val_loss: 0.1618 - val_acc: 0.9210\n",
      "Epoch 1/1\n",
      "80112/80112 [==============================] - 92s - loss: 0.4037 - acc: 0.8204 - val_loss: 0.1378 - val_acc: 0.9487\n",
      "Epoch 1/1\n",
      "80112/80112 [==============================] - 92s - loss: 0.3579 - acc: 0.8450 - val_loss: 0.0842 - val_acc: 0.9844\n"
     ]
    }
   ],
   "source": [
    "models = [fit_model() for i in range(6)]"
   ]
  },
  {
   "cell_type": "code",
   "execution_count": 465,
   "metadata": {
    "collapsed": true
   },
   "outputs": [],
   "source": [
    "for i, m in enumerate(models):\n",
    "    m.save_weights(path+'m'+str(i)+'.wgt')"
   ]
  },
  {
   "cell_type": "code",
   "execution_count": 53,
   "metadata": {
    "collapsed": true
   },
   "outputs": [],
   "source": [
    "model = Sequential([\n",
    "    Lambda(norm_input, input_shape=(1,30,90), output_shape=(1,30,90)),\n",
    "    Convolution2D(32,3,3, activation='relu'),\n",
    "    BatchNormalization(axis=1),\n",
    "    Convolution2D(32,3,3, activation='relu'),\n",
    "    BatchNormalization(axis=1),\n",
    "    MaxPooling2D(),\n",
    "    Convolution2D(64,3,3, activation='relu'),\n",
    "    BatchNormalization(axis=1),\n",
    "    Convolution2D(64,3,3, activation='relu'),\n",
    "    BatchNormalization(axis=1),\n",
    "    MaxPooling2D(),\n",
    "    \n",
    "    Flatten(),\n",
    "    BatchNormalization(),\n",
    "    \n",
    "    Dense(70, activation='relu'),\n",
    "    BatchNormalization(),\n",
    "    Dropout(0.3),\n",
    "    \n",
    "    Dense(70, activation='relu'),\n",
    "    BatchNormalization(),\n",
    "    Dropout(0.3),\n",
    "    \n",
    "    Reshape((7, 10)),\n",
    "    TimeDistributed(Dense(16, activation='softmax'))\n",
    "])"
   ]
  },
  {
   "cell_type": "code",
   "execution_count": 55,
   "metadata": {
    "collapsed": true
   },
   "outputs": [
    {
     "name": "stdout",
     "output_type": "stream",
     "text": [
      "____________________________________________________________________________________________________\n",
      "Layer (type)                     Output Shape          Param #     Connected to                     \n",
      "====================================================================================================\n",
      "lambda_6 (Lambda)                (None, 1, 30, 90)     0           lambda_input_6[0][0]             \n",
      "____________________________________________________________________________________________________\n",
      "convolution2d_21 (Convolution2D) (None, 32, 28, 88)    320         lambda_6[0][0]                   \n",
      "____________________________________________________________________________________________________\n",
      "batchnormalization_36 (BatchNorm (None, 32, 28, 88)    128         convolution2d_21[0][0]           \n",
      "____________________________________________________________________________________________________\n",
      "convolution2d_22 (Convolution2D) (None, 32, 26, 86)    9248        batchnormalization_36[0][0]      \n",
      "____________________________________________________________________________________________________\n",
      "batchnormalization_37 (BatchNorm (None, 32, 26, 86)    128         convolution2d_22[0][0]           \n",
      "____________________________________________________________________________________________________\n",
      "maxpooling2d_11 (MaxPooling2D)   (None, 32, 13, 43)    0           batchnormalization_37[0][0]      \n",
      "____________________________________________________________________________________________________\n",
      "convolution2d_23 (Convolution2D) (None, 64, 11, 41)    18496       maxpooling2d_11[0][0]            \n",
      "____________________________________________________________________________________________________\n",
      "batchnormalization_38 (BatchNorm (None, 64, 11, 41)    256         convolution2d_23[0][0]           \n",
      "____________________________________________________________________________________________________\n",
      "convolution2d_24 (Convolution2D) (None, 64, 9, 39)     36928       batchnormalization_38[0][0]      \n",
      "____________________________________________________________________________________________________\n",
      "batchnormalization_39 (BatchNorm (None, 64, 9, 39)     256         convolution2d_24[0][0]           \n",
      "____________________________________________________________________________________________________\n",
      "maxpooling2d_12 (MaxPooling2D)   (None, 64, 4, 19)     0           batchnormalization_39[0][0]      \n",
      "____________________________________________________________________________________________________\n",
      "flatten_6 (Flatten)              (None, 4864)          0           maxpooling2d_12[0][0]            \n",
      "____________________________________________________________________________________________________\n",
      "batchnormalization_40 (BatchNorm (None, 4864)          19456       flatten_6[0][0]                  \n",
      "____________________________________________________________________________________________________\n",
      "dense_16 (Dense)                 (None, 70)            340550      batchnormalization_40[0][0]      \n",
      "____________________________________________________________________________________________________\n",
      "batchnormalization_41 (BatchNorm (None, 70)            280         dense_16[0][0]                   \n",
      "____________________________________________________________________________________________________\n",
      "dropout_11 (Dropout)             (None, 70)            0           batchnormalization_41[0][0]      \n",
      "____________________________________________________________________________________________________\n",
      "dense_17 (Dense)                 (None, 70)            4970        dropout_11[0][0]                 \n",
      "____________________________________________________________________________________________________\n",
      "batchnormalization_42 (BatchNorm (None, 70)            280         dense_17[0][0]                   \n",
      "____________________________________________________________________________________________________\n",
      "dropout_12 (Dropout)             (None, 70)            0           batchnormalization_42[0][0]      \n",
      "____________________________________________________________________________________________________\n",
      "reshape_6 (Reshape)              (None, 7, 10)         0           dropout_12[0][0]                 \n",
      "____________________________________________________________________________________________________\n",
      "timedistributed_6 (TimeDistribut (None, 7, 16)         176         reshape_6[0][0]                  \n",
      "====================================================================================================\n",
      "Total params: 431,472\n",
      "Trainable params: 421,080\n",
      "Non-trainable params: 10,392\n",
      "____________________________________________________________________________________________________\n"
     ]
    }
   ],
   "source": [
    "model.summary()"
   ]
  },
  {
   "cell_type": "code",
   "execution_count": 47,
   "metadata": {},
   "outputs": [
    {
     "name": "stdout",
     "output_type": "stream",
     "text": [
      "Train on 79892 samples, validate on 20108 samples\n",
      "Epoch 1/1\n",
      "79892/79892 [==============================] - 91s - loss: 1.0296 - acc: 0.6656 - val_loss: 0.1479 - val_acc: 0.9771\n"
     ]
    }
   ],
   "source": [
    "model.compile(Adam(), loss='sparse_categorical_crossentropy', metrics=['accuracy'])\n",
    "model.fit(x_trn, y_trn, batch_size=64, nb_epoch=1, validation_data=(x_val, y_val))\n",
    "model.save_weights(path+'test.pkl')"
   ]
  },
  {
   "cell_type": "code",
   "execution_count": 48,
   "metadata": {},
   "outputs": [
    {
     "name": "stdout",
     "output_type": "stream",
     "text": [
      "Epoch 1/1\n",
      "79892/79892 [==============================] - 97s - loss: 0.5112 - acc: 0.8200 - val_loss: 0.0645 - val_acc: 0.9913\n"
     ]
    },
    {
     "data": {
      "text/plain": [
       "<keras.callbacks.History at 0x7f3e253970d0>"
      ]
     },
     "execution_count": 48,
     "metadata": {},
     "output_type": "execute_result"
    }
   ],
   "source": [
    "model.load_weights(path+'test.pkl')\n",
    "da = image.ImageDataGenerator(rotation_range=8,height_shift_range=0.05, zoom_range=0.08)\n",
    "trn_batches = da.flow(x_trn, y_trn, batch_size=64, shuffle=True)\n",
    "\n",
    "model.optimizer.lr=0.1\n",
    "model.fit_generator(trn_batches, len(x_trn), nb_epoch=1, validation_data=(x_val, y_val))"
   ]
  },
  {
   "cell_type": "code",
   "execution_count": 54,
   "metadata": {},
   "outputs": [
    {
     "name": "stdout",
     "output_type": "stream",
     "text": [
      "Epoch 1/1\n",
      "79892/79892 [==============================] - 96s - loss: 0.9557 - acc: 0.6140 - val_loss: 0.7994 - val_acc: 0.7818\n"
     ]
    },
    {
     "data": {
      "text/plain": [
       "<keras.callbacks.History at 0x7f3e1c339150>"
      ]
     },
     "execution_count": 54,
     "metadata": {},
     "output_type": "execute_result"
    }
   ],
   "source": [
    "da = image.ImageDataGenerator()\n",
    "trn_batches = da.flow(x_trn, y_trn, batch_size=64, shuffle=True)\n",
    "model.compile(Adam(), loss='sparse_categorical_crossentropy', metrics=['accuracy'])\n",
    "model.load_weights(path+'test.pkl')\n",
    "model.optimizer.lr=0.1\n",
    "model.fit_generator(trn_batches, len(x_trn), nb_epoch=1, validation_data=(x_val, y_val))"
   ]
  },
  {
   "cell_type": "code",
   "execution_count": 28,
   "metadata": {},
   "outputs": [
    {
     "name": "stdout",
     "output_type": "stream",
     "text": [
      "Train on 79892 samples, validate on 20108 samples\n",
      "Epoch 1/1\n",
      "79892/79892 [==============================] - 90s - loss: 1.0179 - acc: 0.6539 - val_loss: 0.1925 - val_acc: 0.9668\n",
      "Epoch 1/1\n",
      "79892/79892 [==============================] - 96s - loss: 0.3705 - acc: 0.8640 - val_loss: 0.0433 - val_acc: 0.9928\n",
      "Epoch 1/1\n",
      "79892/79892 [==============================] - 91s - loss: 0.2729 - acc: 0.8965 - val_loss: 0.0239 - val_acc: 0.9964\n",
      "Epoch 1/1\n",
      "79892/79892 [==============================] - 91s - loss: 0.2389 - acc: 0.9086 - val_loss: 0.0154 - val_acc: 0.9978\n"
     ]
    },
    {
     "data": {
      "text/plain": [
       "<keras.callbacks.History at 0x7f3ed8ce5510>"
      ]
     },
     "execution_count": 28,
     "metadata": {},
     "output_type": "execute_result"
    }
   ],
   "source": [
    "model.compile(Adam(), loss='sparse_categorical_crossentropy', metrics=['accuracy'])\n",
    "\n",
    "model.fit(x_trn, y_trn, batch_size=64, nb_epoch=1, validation_data=(x_val, y_val))\n",
    "da = image.ImageDataGenerator(rotation_range=8,height_shift_range=0.05, zoom_range=0.08)\n",
    "#da = image.ImageDataGenerator()\n",
    "trn_batches = da.flow(x_trn, y_trn, batch_size=64, shuffle=True)\n",
    "\n",
    "\n",
    "model.optimizer.lr=0.1\n",
    "model.fit_generator(trn_batches, len(x_trn), nb_epoch=1, validation_data=(x_val, y_val))\n",
    "\n",
    "model.optimizer.lr=0.01\n",
    "model.fit_generator(trn_batches, len(x_trn), nb_epoch=1, validation_data=(x_val, y_val))\n",
    "\n",
    "model.optimizer.lr=0.001\n",
    "model.fit_generator(trn_batches, len(x_trn), nb_epoch=1, validation_data=(x_val, y_val))"
   ]
  },
  {
   "cell_type": "code",
   "execution_count": 329,
   "metadata": {},
   "outputs": [
    {
     "name": "stdout",
     "output_type": "stream",
     "text": [
      "Train on 80112 samples, validate on 19888 samples\n",
      "Epoch 1/1\n",
      "80112/80112 [==============================] - 90s - loss: 0.6116 - acc: 0.8283 - val_loss: 0.0529 - val_acc: 0.9904\n"
     ]
    },
    {
     "data": {
      "text/plain": [
       "<keras.callbacks.History at 0x7f65df12d150>"
      ]
     },
     "execution_count": 329,
     "metadata": {},
     "output_type": "execute_result"
    }
   ],
   "source": [
    "model.fit(x_trn, y_trn, batch_size=64, nb_epoch=1, validation_data=(x_val, y_val))"
   ]
  },
  {
   "cell_type": "code",
   "execution_count": 330,
   "metadata": {
    "collapsed": true
   },
   "outputs": [],
   "source": [
    "model.optimizer.lr=0.1"
   ]
  },
  {
   "cell_type": "code",
   "execution_count": 62,
   "metadata": {
    "collapsed": true
   },
   "outputs": [],
   "source": [
    "da = image.ImageDataGenerator(rotation_range=8,\n",
    "                               height_shift_range=0.05, zoom_range=0.08, channel_shift_range=10)\n",
    "trn_batches = da.flow(x_trn, y_trn, batch_size=64, shuffle=False)"
   ]
  },
  {
   "cell_type": "code",
   "execution_count": 333,
   "metadata": {},
   "outputs": [
    {
     "name": "stdout",
     "output_type": "stream",
     "text": [
      "Epoch 1/1\n",
      "80112/80112 [==============================] - 90s - loss: 0.1628 - acc: 0.9439 - val_loss: 0.0152 - val_acc: 0.9966\n"
     ]
    },
    {
     "data": {
      "text/plain": [
       "<keras.callbacks.History at 0x7f65df12b8d0>"
      ]
     },
     "execution_count": 333,
     "metadata": {},
     "output_type": "execute_result"
    }
   ],
   "source": [
    "model.fit_generator(trn_batches, len(x_trn), nb_epoch=1, validation_data=(x_val, y_val))"
   ]
  },
  {
   "cell_type": "code",
   "execution_count": 334,
   "metadata": {
    "collapsed": true
   },
   "outputs": [],
   "source": [
    "model.optimizer.lr=0.01"
   ]
  },
  {
   "cell_type": "code",
   "execution_count": 335,
   "metadata": {},
   "outputs": [
    {
     "name": "stdout",
     "output_type": "stream",
     "text": [
      "Epoch 1/1\n",
      "80112/80112 [==============================] - 90s - loss: 0.1359 - acc: 0.9513 - val_loss: 0.0111 - val_acc: 0.9972\n"
     ]
    },
    {
     "data": {
      "text/plain": [
       "<keras.callbacks.History at 0x7f65df12b210>"
      ]
     },
     "execution_count": 335,
     "metadata": {},
     "output_type": "execute_result"
    }
   ],
   "source": [
    "model.fit_generator(trn_batches, len(x_trn), nb_epoch=1, validation_data=(x_val, y_val))"
   ]
  },
  {
   "cell_type": "code",
   "execution_count": 294,
   "metadata": {
    "collapsed": true
   },
   "outputs": [],
   "source": [
    "model.optimizer.lr=0.001"
   ]
  },
  {
   "cell_type": "code",
   "execution_count": 295,
   "metadata": {},
   "outputs": [
    {
     "name": "stdout",
     "output_type": "stream",
     "text": [
      "Epoch 1/1\n",
      "80112/80112 [==============================] - 93s - loss: 0.0265 - acc: 0.9923 - val_loss: 0.0101 - val_acc: 0.9977\n"
     ]
    },
    {
     "data": {
      "text/plain": [
       "<keras.callbacks.History at 0x7f65ea7cbf10>"
      ]
     },
     "execution_count": 295,
     "metadata": {},
     "output_type": "execute_result"
    }
   ],
   "source": [
    "model.fit_generator(trn_batches, len(x_trn), nb_epoch=1, validation_data=(x_val, y_val))"
   ]
  },
  {
   "cell_type": "code",
   "execution_count": 284,
   "metadata": {
    "collapsed": true
   },
   "outputs": [],
   "source": [
    "model.optimizer.lr=0.0001"
   ]
  },
  {
   "cell_type": "code",
   "execution_count": 285,
   "metadata": {},
   "outputs": [
    {
     "name": "stdout",
     "output_type": "stream",
     "text": [
      "Epoch 1/1\n",
      "80112/80112 [==============================] - 91s - loss: 0.0193 - acc: 0.9947 - val_loss: 0.0068 - val_acc: 0.9985\n"
     ]
    },
    {
     "data": {
      "text/plain": [
       "<keras.callbacks.History at 0x7f65ee31ab10>"
      ]
     },
     "execution_count": 285,
     "metadata": {},
     "output_type": "execute_result"
    }
   ],
   "source": [
    "model.fit_generator(trn_batches, len(x_trn), nb_epoch=1, validation_data=(x_val, y_val))"
   ]
  },
  {
   "cell_type": "code",
   "execution_count": 184,
   "metadata": {
    "collapsed": true
   },
   "outputs": [],
   "source": [
    "model.save_weights(path+'norm3.wgt')"
   ]
  },
  {
   "cell_type": "code",
   "execution_count": 97,
   "metadata": {
    "collapsed": true
   },
   "outputs": [],
   "source": [
    "??image.ImageDataGenerator"
   ]
  },
  {
   "cell_type": "code",
   "execution_count": 38,
   "metadata": {
    "collapsed": true
   },
   "outputs": [],
   "source": [
    "actual = np.array(y_val.reshape((-1, 7)))"
   ]
  },
  {
   "cell_type": "code",
   "execution_count": 133,
   "metadata": {},
   "outputs": [],
   "source": [
    "def inspect_models(models):\n",
    "    for m in models:\n",
    "        (p, w) = predict_all(m)\n",
    "        statistic(p, w)"
   ]
  },
  {
   "cell_type": "code",
   "execution_count": 41,
   "metadata": {
    "collapsed": true
   },
   "outputs": [],
   "source": [
    "def statistic(preds, wrong):\n",
    "    print(\n",
    "    (len(preds)*7-len(wrong))/(len(preds)*7),\n",
    "    (len(preds)-len(set(wrong)))/len(preds),\n",
    "    len(wrong),\n",
    "    len(set(wrong)), \n",
    "    list(set(wrong))[:10])"
   ]
  },
  {
   "cell_type": "code",
   "execution_count": 153,
   "metadata": {
    "collapsed": true
   },
   "outputs": [],
   "source": [
    "def plot_result(preds, idx):\n",
    "    #print('pred:'+''.join([tokens[i] for i in preds[idx]])+' label:'+''.join([tokens[i] for i in actual[idx]]))\n",
    "    plot(x_val[idx].reshape((30,90)))"
   ]
  },
  {
   "cell_type": "code",
   "execution_count": 45,
   "metadata": {
    "collapsed": true
   },
   "outputs": [],
   "source": [
    "def show_result(preds, idxs):\n",
    "    for idx in idxs:\n",
    "        print('pred:'+''.join([tokens[i] for i in preds[idx]])+' label:'+''.join([tokens[i] for i in actual[idx]]))"
   ]
  },
  {
   "cell_type": "code",
   "execution_count": 143,
   "metadata": {
    "collapsed": true
   },
   "outputs": [],
   "source": [
    "def predict_ensemble(models):\n",
    "    all_preds = np.stack([m.predict(x_val, batch_size=256) for m in models])\n",
    "    avg_preds = all_preds.mean(axis=0)\n",
    "    preds = np.array([[np.argmax(i) for i in p] for p in avg_preds])\n",
    "    close = np.isclose(preds, actual)\n",
    "    wrong = np.where(np.invert(close))[0]\n",
    "    statistic(preds,wrong)\n",
    "    show_result(preds, list(set(wrong)))\n",
    "    for i in range(len(set(wrong))): plot_result(preds, list(set(wrong))[i])"
   ]
  },
  {
   "cell_type": "code",
   "execution_count": 145,
   "metadata": {
    "collapsed": true
   },
   "outputs": [],
   "source": [
    "def predict_single(model):\n",
    "    ps = model.predict(x_val, verbose=1)\n",
    "    preds = np.array([[np.argmax(i) for i in p] for p in ps])\n",
    "    close = np.isclose(preds, actual)\n",
    "    wrong = np.where(np.invert(close))[0]\n",
    "    statistic(preds,wrong)\n",
    "    show_result(preds, list(set(wrong)))\n",
    "    for i in range(len(set(wrong))): plot_result(preds, list(set(wrong))[i])"
   ]
  },
  {
   "cell_type": "code",
   "execution_count": 141,
   "metadata": {},
   "outputs": [
    {
     "name": "stdout",
     "output_type": "stream",
     "text": [
      "0.999985763402 0.999900343814 2 2 [1692, 11294]\n",
      "pred:(5-9)+8 label:(5-9)*8\n",
      "pred:7+(4-0) label:7+(4-7)\n"
     ]
    }
   ],
   "source": [
    "statistic(preds,wrong)\n",
    "show_result(preds, list(set(wrong)))"
   ]
  },
  {
   "cell_type": "code",
   "execution_count": 142,
   "metadata": {
    "scrolled": true
   },
   "outputs": [
    {
     "name": "stdout",
     "output_type": "stream",
     "text": [
      "pred:(5-9)+8 label:(5-9)*8\n",
      "pred:7+(4-0) label:7+(4-7)\n"
     ]
    },
    {
     "data": {
      "image/png": "[encoded data removed]",
      "text/plain": [
       "<matplotlib.figure.Figure at 0x7f90ce9c0350>"
      ]
     },
     "metadata": {},
     "output_type": "display_data"
    },
    {
     "data": {
      "image/png": "[encoded data removed]",
      "text/plain": [
       "<matplotlib.figure.Figure at 0x7f90ce057e50>"
      ]
     },
     "metadata": {},
     "output_type": "display_data"
    }
   ],
   "source": [
    "for i in range(len(set(wrong))): plot_result(preds, list(set(wrong))[i])"
   ]
  },
  {
   "cell_type": "code",
   "execution_count": 458,
   "metadata": {},
   "outputs": [
    {
     "data": {
      "text/plain": [
       "array(0.9993247985839844, dtype=float32)"
      ]
     },
     "execution_count": 458,
     "metadata": {},
     "output_type": "execute_result"
    }
   ],
   "source": [
    "keras.metrics.sparse_categorical_accuracy(y_val, avg_preds).eval()"
   ]
  },
  {
   "cell_type": "code",
   "execution_count": 343,
   "metadata": {
    "collapsed": true
   },
   "outputs": [
    {
     "name": "stdout",
     "output_type": "stream",
     "text": [
      "pred:(3-4)-5 label:(3-4)-2\n",
      "pred:(3-8)+2 label:(3-8)*2\n",
      "pred:(1*5)+6 label:(1+5)+6\n",
      "pred:1+(9+6) label:1+(9*6)\n",
      "pred:(5+0)-6 label:(5+5)-6\n",
      "pred:(5-1)+7 label:(5-1)*7\n",
      "pred:8*(9*6) label:8*(9+6)\n",
      "pred:(6-1)+3 label:(6-1)*3\n",
      "pred:1-1+7NN label:1-1+6NN\n",
      "pred:4-(4-5) label:4-(4*5)\n"
     ]
    },
    {
     "data": {
      "image/png": "[encoded data removed]",
      "text/plain": [
       "<matplotlib.figure.Figure at 0x7f65e89e3bd0>"
      ]
     },
     "metadata": {},
     "output_type": "display_data"
    },
    {
     "data": {
      "image/png": "[encoded data removed]",
      "text/plain": [
       "<matplotlib.figure.Figure at 0x7f65e88626d0>"
      ]
     },
     "metadata": {},
     "output_type": "display_data"
    },
    {
     "data": {
      "image/png": "[encoded data removed]",
      "text/plain": [
       "<matplotlib.figure.Figure at 0x7f65e87313d0>"
      ]
     },
     "metadata": {},
     "output_type": "display_data"
    },
    {
     "data": {
      "image/png": "[encoded data removed]",
      "text/plain": [
       "<matplotlib.figure.Figure at 0x7f65e86607d0>"
      ]
     },
     "metadata": {},
     "output_type": "display_data"
    },
    {
     "data": {
      "image/png": "[encoded data removed]",
      "text/plain": [
       "<matplotlib.figure.Figure at 0x7f65e83345d0>"
      ]
     },
     "metadata": {},
     "output_type": "display_data"
    },
    {
     "data": {
      "image/png": "[encoded data removed]",
      "text/plain": [
       "<matplotlib.figure.Figure at 0x7f65e8233410>"
      ]
     },
     "metadata": {},
     "output_type": "display_data"
    },
    {
     "data": {
      "image/png": "[encoded data removed]",
      "text/plain": [
       "<matplotlib.figure.Figure at 0x7f65e80c7210>"
      ]
     },
     "metadata": {},
     "output_type": "display_data"
    },
    {
     "data": {
      "image/png": "[encoded data removed]",
      "text/plain": [
       "<matplotlib.figure.Figure at 0x7f65de07a950>"
      ]
     },
     "metadata": {},
     "output_type": "display_data"
    },
    {
     "data": {
      "image/png": "[encoded data removed]",
      "text/plain": [
       "<matplotlib.figure.Figure at 0x7f65de00d750>"
      ]
     },
     "metadata": {},
     "output_type": "display_data"
    },
    {
     "data": {
      "image/png": "[encoded data removed]",
      "text/plain": [
       "<matplotlib.figure.Figure at 0x7f65ddf7fe90>"
      ]
     },
     "metadata": {},
     "output_type": "display_data"
    }
   ],
   "source": [
    "for x in list(set(wrong))[:10]:\n",
    "    plot_result(x)"
   ]
  },
  {
   "cell_type": "code",
   "execution_count": 50,
   "metadata": {
    "collapsed": true
   },
   "outputs": [],
   "source": [
    "token2idx = { token:idx for idx,token in enumerate(tokens)}"
   ]
  },
  {
   "cell_type": "code",
   "execution_count": 66,
   "metadata": {},
   "outputs": [
    {
     "name": "stdout",
     "output_type": "stream",
     "text": [
      "[[ 5952     0     0     0     0     0     0     0     0     0     0     0     0     0     0     0]\n",
      " [    0  6043     0     0     0     0     0     0     0     0     0     0     0     0     0     0]\n",
      " [    0     0  6144     0     0     0     0     0     0     0     0     0     0     0     0     0]\n",
      " [    0     0     0  5969     0     0     0     0     0     0     0     0     0     0     0     0]\n",
      " [    0     0     0     0  5974     0     0     0     0     0     0     0     0     0     0     0]\n",
      " [    0     1     0     0     0  6127     0     0     0     0     0     0     0     0     0     0]\n",
      " [    0     0     0     0     0     0  6128     0     0     0     0     0     0     0     0     0]\n",
      " [    0     0     0     0     0     1     0  5870     0     0     0     0     0     0     0     0]\n",
      " [    0     0     0     0     0     0     0     0  5928     0     0     0     0     0     0     0]\n",
      " [    0     0     0     0     0     0     0     0     1  6069     0     0     0     0     0     0]\n",
      " [    0     0     0     0     0     0     0     0     0     0 13352     0     0     0     0     0]\n",
      " [    0     0     0     0     0     0     0     0     0     0     0 13352     0     0     0     0]\n",
      " [    0     0     0     0     0     0     0     0     0     0     0     0 13434     0     2     0]\n",
      " [    0     0     0     0     0     0     0     0     0     0     0     0     0 13367     0     0]\n",
      " [    0     0     0     0     0     0     0     0     0     0     0     0     2     0 13333     0]\n",
      " [    0     0     0     0     0     0     0     0     0     0     0     0     0     0     0 13434]]\n"
     ]
    },
    {
     "data": {
      "image/png": "[encoded data removed]",
      "text/plain": [
       "<matplotlib.figure.Figure at 0x7f90cb9a3a90>"
      ]
     },
     "metadata": {},
     "output_type": "display_data"
    }
   ],
   "source": [
    "cm=confusion_matrix(np.concatenate(actual), np.concatenate(preds))\n",
    "plot_confusion_matrix(cm, token2idx)"
   ]
  },
  {
   "cell_type": "code",
   "execution_count": 52,
   "metadata": {
    "collapsed": true
   },
   "outputs": [],
   "source": [
    "??confusion_matrix"
   ]
  },
  {
   "cell_type": "code",
   "execution_count": 119,
   "metadata": {
    "collapsed": true
   },
   "outputs": [],
   "source": [
    "model.optimizer.lr=0.01"
   ]
  },
  {
   "cell_type": "code",
   "execution_count": 81,
   "metadata": {},
   "outputs": [
    {
     "name": "stdout",
     "output_type": "stream",
     "text": [
      "Train on 79860 samples, validate on 20140 samples\n",
      "Epoch 1/1\n",
      "79860/79860 [==============================] - 91s - loss: 0.0753 - acc: 0.9889 - val_loss: 0.2449 - val_acc: 0.9757\n"
     ]
    },
    {
     "data": {
      "text/plain": [
       "<keras.callbacks.History at 0x7f8f1d4f2350>"
      ]
     },
     "execution_count": 81,
     "metadata": {},
     "output_type": "execute_result"
    }
   ],
   "source": [
    "model.fit(x_trn, y_trn, batch_size=64, nb_epoch=1, validation_data=(x_val, y_val))"
   ]
  },
  {
   "cell_type": "code",
   "execution_count": 121,
   "metadata": {
    "collapsed": true
   },
   "outputs": [],
   "source": [
    "model.optimizer.lr=0.001"
   ]
  },
  {
   "cell_type": "code",
   "execution_count": 38,
   "metadata": {
    "collapsed": true
   },
   "outputs": [
    {
     "name": "stdout",
     "output_type": "stream",
     "text": [
      "Train on 8038 samples, validate on 1962 samples\n",
      "Epoch 1/4\n",
      "8038/8038 [==============================] - 9s - loss: 0.0413 - acc: 0.9878 - val_loss: 1.5496 - val_acc: 0.8078\n",
      "Epoch 2/4\n",
      "8038/8038 [==============================] - 9s - loss: 0.0438 - acc: 0.9870 - val_loss: 0.1985 - val_acc: 0.9568\n",
      "Epoch 3/4\n",
      "8038/8038 [==============================] - 9s - loss: 0.0343 - acc: 0.9897 - val_loss: 0.2150 - val_acc: 0.9503\n",
      "Epoch 4/4\n",
      "8038/8038 [==============================] - 9s - loss: 0.0300 - acc: 0.9909 - val_loss: 0.5148 - val_acc: 0.9139\n"
     ]
    },
    {
     "data": {
      "text/plain": [
       "<keras.callbacks.History at 0x7f40ac9e1d10>"
      ]
     },
     "execution_count": 38,
     "metadata": {},
     "output_type": "execute_result"
    }
   ],
   "source": [
    "model.fit(x_trn, y_trn, batch_size=64, nb_epoch=4, validation_data=(x_val, y_val))"
   ]
  },
  {
   "cell_type": "markdown",
   "metadata": {},
   "source": [
    "# dropout"
   ]
  },
  {
   "cell_type": "code",
   "execution_count": 169,
   "metadata": {
    "collapsed": true
   },
   "outputs": [],
   "source": [
    "model = Sequential([\n",
    "    Lambda(norm_input, input_shape=(1,30,90)),\n",
    "    #BatchNormalization(axis=1, input_shape=(1,30,90)),\n",
    "    Convolution2D(64,3,3, activation='relu'),\n",
    "    BatchNormalization(axis=1),\n",
    "    Convolution2D(64,3,3, activation='relu'),\n",
    "    BatchNormalization(axis=1),\n",
    "    MaxPooling2D(),\n",
    "    Convolution2D(128,3,3, activation='relu'),\n",
    "    BatchNormalization(axis=1),\n",
    "    Convolution2D(128,3,3, activation='relu'),\n",
    "    BatchNormalization(axis=1),\n",
    "    MaxPooling2D(),\n",
    "    Flatten(),\n",
    "    BatchNormalization(),\n",
    "    Dense(140, activation='relu'),\n",
    "    BatchNormalization(),\n",
    "    Dropout(0),\n",
    "    Reshape((7, 20)),\n",
    "    TimeDistributed(Dense(16, activation='softmax'))\n",
    "])"
   ]
  },
  {
   "cell_type": "code",
   "execution_count": 26,
   "metadata": {
    "collapsed": true
   },
   "outputs": [],
   "source": [
    "model.compile(Adam(lr=0.1), loss='sparse_categorical_crossentropy', metrics=['accuracy'])"
   ]
  },
  {
   "cell_type": "code",
   "execution_count": 34,
   "metadata": {
    "collapsed": true
   },
   "outputs": [
    {
     "name": "stdout",
     "output_type": "stream",
     "text": [
      "____________________________________________________________________________________________________\n",
      "Layer (type)                     Output Shape          Param #     Connected to                     \n",
      "====================================================================================================\n",
      "lambda_3 (Lambda)                (None, 1, 30, 90)     0           lambda_input_3[0][0]             \n",
      "____________________________________________________________________________________________________\n",
      "convolution2d_9 (Convolution2D)  (None, 64, 28, 88)    640         lambda_3[0][0]                   \n",
      "____________________________________________________________________________________________________\n",
      "batchnormalization_13 (BatchNorm (None, 64, 28, 88)    256         convolution2d_9[0][0]            \n",
      "____________________________________________________________________________________________________\n",
      "convolution2d_10 (Convolution2D) (None, 64, 26, 86)    36928       batchnormalization_13[0][0]      \n",
      "____________________________________________________________________________________________________\n",
      "batchnormalization_14 (BatchNorm (None, 64, 26, 86)    256         convolution2d_10[0][0]           \n",
      "____________________________________________________________________________________________________\n",
      "maxpooling2d_5 (MaxPooling2D)    (None, 64, 13, 43)    0           batchnormalization_14[0][0]      \n",
      "____________________________________________________________________________________________________\n",
      "convolution2d_11 (Convolution2D) (None, 128, 11, 41)   73856       maxpooling2d_5[0][0]             \n",
      "____________________________________________________________________________________________________\n",
      "batchnormalization_15 (BatchNorm (None, 128, 11, 41)   512         convolution2d_11[0][0]           \n",
      "____________________________________________________________________________________________________\n",
      "convolution2d_12 (Convolution2D) (None, 128, 9, 39)    147584      batchnormalization_15[0][0]      \n",
      "____________________________________________________________________________________________________\n",
      "batchnormalization_16 (BatchNorm (None, 128, 9, 39)    512         convolution2d_12[0][0]           \n",
      "____________________________________________________________________________________________________\n",
      "maxpooling2d_6 (MaxPooling2D)    (None, 128, 4, 19)    0           batchnormalization_16[0][0]      \n",
      "____________________________________________________________________________________________________\n",
      "flatten_3 (Flatten)              (None, 9728)          0           maxpooling2d_6[0][0]             \n",
      "____________________________________________________________________________________________________\n",
      "batchnormalization_17 (BatchNorm (None, 9728)          38912       flatten_3[0][0]                  \n",
      "____________________________________________________________________________________________________\n",
      "dense_5 (Dense)                  (None, 350)           3405150     batchnormalization_17[0][0]      \n",
      "____________________________________________________________________________________________________\n",
      "batchnormalization_18 (BatchNorm (None, 350)           1400        dense_5[0][0]                    \n",
      "____________________________________________________________________________________________________\n",
      "dropout_3 (Dropout)              (None, 350)           0           batchnormalization_18[0][0]      \n",
      "____________________________________________________________________________________________________\n",
      "reshape_3 (Reshape)              (None, 7, 50)         0           dropout_3[0][0]                  \n",
      "____________________________________________________________________________________________________\n",
      "timedistributed_3 (TimeDistribut (None, 7, 16)         816         reshape_3[0][0]                  \n",
      "====================================================================================================\n",
      "Total params: 3,706,822\n",
      "Trainable params: 3,685,898\n",
      "Non-trainable params: 20,924\n",
      "____________________________________________________________________________________________________\n"
     ]
    }
   ],
   "source": [
    "model.summary()"
   ]
  },
  {
   "cell_type": "code",
   "execution_count": null,
   "metadata": {},
   "outputs": [
    {
     "name": "stdout",
     "output_type": "stream",
     "text": [
      "Train on 80102 samples, validate on 19898 samples\n",
      "Epoch 1/2\n",
      "80102/80102 [==============================] - 204s - loss: 0.1966 - acc: 0.9313 - val_loss: 0.0641 - val_acc: 0.9851\n",
      "Epoch 2/2\n",
      "76160/80102 [===========================>..] - ETA: 9s - loss: 0.0469 - acc: 0.9888"
     ]
    }
   ],
   "source": [
    "model.fit(x_trn, y_trn, batch_size=64, nb_epoch=1, validation_data=(x_val, y_val))"
   ]
  },
  {
   "cell_type": "code",
   "execution_count": 35,
   "metadata": {
    "collapsed": true
   },
   "outputs": [],
   "source": [
    "model.optimizer.lr=0.01"
   ]
  },
  {
   "cell_type": "code",
   "execution_count": 30,
   "metadata": {},
   "outputs": [
    {
     "name": "stdout",
     "output_type": "stream",
     "text": [
      "Train on 79839 samples, validate on 20161 samples\n",
      "Epoch 1/4\n",
      "79839/79839 [==============================] - 89s - loss: 0.3963 - acc: 0.8363 - val_loss: 0.8403 - val_acc: 0.8315\n",
      "Epoch 2/4\n",
      "79839/79839 [==============================] - 89s - loss: 0.3875 - acc: 0.8404 - val_loss: 3.3851 - val_acc: 0.6475 1s - loss: 0.38\n",
      "Epoch 3/4\n",
      "79839/79839 [==============================] - 89s - loss: 0.3835 - acc: 0.8417 - val_loss: 6.5607 - val_acc: 0.4533\n",
      "Epoch 4/4\n",
      "79839/79839 [==============================] - 89s - loss: 0.3713 - acc: 0.8450 - val_loss: 2.1141 - val_acc: 0.8101\n"
     ]
    },
    {
     "data": {
      "text/plain": [
       "<keras.callbacks.History at 0x7fe8371ef290>"
      ]
     },
     "execution_count": 30,
     "metadata": {},
     "output_type": "execute_result"
    }
   ],
   "source": [
    "model.fit(x_trn, y_trn, batch_size=64, nb_epoch=4, validation_data=(x_val, y_val))"
   ]
  },
  {
   "cell_type": "code",
   "execution_count": 31,
   "metadata": {},
   "outputs": [
    {
     "name": "stdout",
     "output_type": "stream",
     "text": [
      "Train on 79839 samples, validate on 20161 samples\n",
      "Epoch 1/4\n",
      "79839/79839 [==============================] - 89s - loss: 0.3769 - acc: 0.8441 - val_loss: 2.9895 - val_acc: 0.6867\n",
      "Epoch 2/4\n",
      "79839/79839 [==============================] - 89s - loss: 0.3579 - acc: 0.8507 - val_loss: 3.0588 - val_acc: 0.6825\n",
      "Epoch 3/4\n",
      "79839/79839 [==============================] - 89s - loss: 0.3675 - acc: 0.8478 - val_loss: 5.7585 - val_acc: 0.5478\n",
      "Epoch 4/4\n",
      "79839/79839 [==============================] - 89s - loss: 0.3513 - acc: 0.8528 - val_loss: 2.4509 - val_acc: 0.6909\n"
     ]
    },
    {
     "data": {
      "text/plain": [
       "<keras.callbacks.History at 0x7fe875cec850>"
      ]
     },
     "execution_count": 31,
     "metadata": {},
     "output_type": "execute_result"
    }
   ],
   "source": [
    "model.optimizer.lr=0.001\n",
    "model.fit(x_trn, y_trn, batch_size=64, nb_epoch=4, validation_data=(x_val, y_val))"
   ]
  },
  {
   "cell_type": "code",
   "execution_count": 56,
   "metadata": {},
   "outputs": [
    {
     "name": "stdout",
     "output_type": "stream",
     "text": [
      "Train on 8038 samples, validate on 1962 samples\n",
      "Epoch 1/4\n",
      "8038/8038 [==============================] - 9s - loss: 0.5158 - acc: 0.7775 - val_loss: 0.1391 - val_acc: 0.9531\n",
      "Epoch 2/4\n",
      "8038/8038 [==============================] - 9s - loss: 0.5123 - acc: 0.7785 - val_loss: 0.1634 - val_acc: 0.9352\n",
      "Epoch 3/4\n",
      "8038/8038 [==============================] - 9s - loss: 0.5007 - acc: 0.7837 - val_loss: 0.1569 - val_acc: 0.9380\n",
      "Epoch 4/4\n",
      "8038/8038 [==============================] - 9s - loss: 0.4903 - acc: 0.7907 - val_loss: 0.1245 - val_acc: 0.9543\n"
     ]
    },
    {
     "data": {
      "text/plain": [
       "<keras.callbacks.History at 0x7f4090ed0390>"
      ]
     },
     "execution_count": 56,
     "metadata": {},
     "output_type": "execute_result"
    }
   ],
   "source": [
    "model.fit(x_trn, y_trn, batch_size=64, nb_epoch=4, validation_data=(x_val, y_val))"
   ]
  },
  {
   "cell_type": "code",
   "execution_count": 57,
   "metadata": {},
   "outputs": [
    {
     "name": "stdout",
     "output_type": "stream",
     "text": [
      "Train on 8038 samples, validate on 1962 samples\n",
      "Epoch 1/4\n",
      "8038/8038 [==============================] - 9s - loss: 0.4862 - acc: 0.7901 - val_loss: 0.2018 - val_acc: 0.9251\n",
      "Epoch 2/4\n",
      "8038/8038 [==============================] - 9s - loss: 0.4848 - acc: 0.7899 - val_loss: 0.1457 - val_acc: 0.9459\n",
      "Epoch 3/4\n",
      "8038/8038 [==============================] - 9s - loss: 0.4692 - acc: 0.8000 - val_loss: 0.2247 - val_acc: 0.9250\n",
      "Epoch 4/4\n",
      "8038/8038 [==============================] - 9s - loss: 0.4854 - acc: 0.7940 - val_loss: 0.1235 - val_acc: 0.9567\n"
     ]
    },
    {
     "data": {
      "text/plain": [
       "<keras.callbacks.History at 0x7f40946b2d90>"
      ]
     },
     "execution_count": 57,
     "metadata": {},
     "output_type": "execute_result"
    }
   ],
   "source": [
    "model.fit(x_trn, y_trn, batch_size=64, nb_epoch=4, validation_data=(x_val, y_val))"
   ]
  },
  {
   "cell_type": "markdown",
   "metadata": {},
   "source": [
    "# experiment Data argumentation"
   ]
  },
  {
   "cell_type": "code",
   "execution_count": 26,
   "metadata": {
    "collapsed": true
   },
   "outputs": [],
   "source": [
    "model = Sequential([\n",
    "    BatchNormalization(axis=1, input_shape=(1,30,90)),\n",
    "    Convolution2D(32,3,3, activation='relu'),\n",
    "    BatchNormalization(axis=1),\n",
    "    MaxPooling2D(),\n",
    "    Convolution2D(64,3,3, activation='relu'),\n",
    "    BatchNormalization(axis=1),\n",
    "    MaxPooling2D(),\n",
    "    Flatten(),\n",
    "    BatchNormalization(),\n",
    "    Dense(140, activation='relu'),\n",
    "    BatchNormalization(),\n",
    "    Reshape((7, 20)),\n",
    "    TimeDistributed(Dense(16, activation='softmax'))\n",
    "])"
   ]
  },
  {
   "cell_type": "code",
   "execution_count": 27,
   "metadata": {
    "collapsed": true
   },
   "outputs": [],
   "source": [
    "def get_test_model():\n",
    "    return Sequential([\n",
    "            BatchNormalization(axis=1, input_shape=(1,30,90)),\n",
    "            Convolution2D(32,3,3, activation='relu'),\n",
    "            BatchNormalization(axis=1),\n",
    "            MaxPooling2D(),\n",
    "            Convolution2D(64,3,3, activation='relu'),\n",
    "            BatchNormalization(axis=1),\n",
    "            MaxPooling2D(),\n",
    "            Flatten(),\n",
    "            BatchNormalization(),\n",
    "            Dense(140, activation='relu'),\n",
    "            BatchNormalization(),\n",
    "            Reshape((7, 20)),\n",
    "            TimeDistributed(Dense(16, activation='softmax'))\n",
    "        ])"
   ]
  },
  {
   "cell_type": "code",
   "execution_count": 28,
   "metadata": {
    "collapsed": true
   },
   "outputs": [],
   "source": [
    "def trn_model(da):\n",
    "    evals = []\n",
    "    for _ in range(3):\n",
    "        model=get_test_model()\n",
    "        model.compile(Adam(), loss='sparse_categorical_crossentropy', metrics=['accuracy'])\n",
    "        trn_batches = da.flow(x_trn, y_trn, batch_size=64, shuffle=True)\n",
    "        model.fit_generator(trn_batches, len(x_trn), nb_epoch=2, validation_data=(x_val, y_val))\n",
    "        evals.append(model.evaluate(x_val, y_val, batch_size=256))\n",
    "    print(np.array(evals).mean(axis=0))"
   ]
  },
  {
   "cell_type": "code",
   "execution_count": 29,
   "metadata": {
    "collapsed": true
   },
   "outputs": [
    {
     "name": "stdout",
     "output_type": "stream",
     "text": [
      "Epoch 1/2\n",
      "80005/80005 [==============================] - 58s - loss: 0.2621 - acc: 0.9337 - val_loss: 0.0655 - val_acc: 0.9834\n",
      "Epoch 2/2\n",
      "80005/80005 [==============================] - 58s - loss: 0.0293 - acc: 0.9924 - val_loss: 0.0342 - val_acc: 0.9909\n",
      "19712/19995 [============================>.] - ETA: 0sEpoch 1/2\n",
      "80005/80005 [==============================] - 58s - loss: 0.2480 - acc: 0.9381 - val_loss: 0.0734 - val_acc: 0.9831\n",
      "Epoch 2/2\n",
      "80005/80005 [==============================] - 57s - loss: 0.0312 - acc: 0.9916 - val_loss: 0.1191 - val_acc: 0.9606\n",
      "19712/19995 [============================>.] - ETA: 0sEpoch 1/2\n",
      "80005/80005 [==============================] - 58s - loss: 0.2549 - acc: 0.9336 - val_loss: 0.0993 - val_acc: 0.9694\n",
      "Epoch 2/2\n",
      "80005/80005 [==============================] - 58s - loss: 0.0388 - acc: 0.9893 - val_loss: 0.0303 - val_acc: 0.9917\n",
      "19712/19995 [============================>.] - ETA: 0s[ 0.0612  0.9811]\n"
     ]
    }
   ],
   "source": [
    "da = image.ImageDataGenerator()\n",
    "trn_model(da)"
   ]
  },
  {
   "cell_type": "code",
   "execution_count": 32,
   "metadata": {},
   "outputs": [
    {
     "name": "stdout",
     "output_type": "stream",
     "text": [
      "Epoch 1/2\n",
      "80005/80005 [==============================] - 57s - loss: 0.2520 - acc: 0.9373 - val_loss: 0.1101 - val_acc: 0.9705\n",
      "Epoch 2/2\n",
      "80005/80005 [==============================] - 57s - loss: 0.0293 - acc: 0.9924 - val_loss: 0.0367 - val_acc: 0.9900\n",
      "19712/19995 [============================>.] - ETA: 0sEpoch 1/2\n",
      "80005/80005 [==============================] - 57s - loss: 0.2483 - acc: 0.9367 - val_loss: 0.0819 - val_acc: 0.9801\n",
      "Epoch 2/2\n",
      "80005/80005 [==============================] - 57s - loss: 0.0292 - acc: 0.9923 - val_loss: 0.0675 - val_acc: 0.9786\n",
      "19712/19995 [============================>.] - ETA: 0sEpoch 1/2\n",
      "80005/80005 [==============================] - 57s - loss: 0.2600 - acc: 0.9343 - val_loss: 0.0802 - val_acc: 0.9808\n",
      "Epoch 2/2\n",
      "80005/80005 [==============================] - 57s - loss: 0.0334 - acc: 0.9912 - val_loss: 0.0467 - val_acc: 0.9861\n",
      "19712/19995 [============================>.] - ETA: 0s[ 0.0503  0.9849]\n"
     ]
    }
   ],
   "source": [
    "da = image.ImageDataGenerator()\n",
    "trn_model(da)"
   ]
  },
  {
   "cell_type": "code",
   "execution_count": 30,
   "metadata": {
    "collapsed": true
   },
   "outputs": [
    {
     "name": "stdout",
     "output_type": "stream",
     "text": [
      "Epoch 1/2\n",
      "80005/80005 [==============================] - 57s - loss: 0.3405 - acc: 0.9101 - val_loss: 0.1076 - val_acc: 0.9715\n",
      "Epoch 2/2\n",
      "80005/80005 [==============================] - 57s - loss: 0.0571 - acc: 0.9838 - val_loss: 0.0585 - val_acc: 0.9850\n",
      "19712/19995 [============================>.] - ETA: 0sEpoch 1/2\n",
      "80005/80005 [==============================] - 57s - loss: 0.3218 - acc: 0.9139 - val_loss: 0.0775 - val_acc: 0.9821\n",
      "Epoch 2/2\n",
      "80005/80005 [==============================] - 57s - loss: 0.0547 - acc: 0.9845 - val_loss: 0.0526 - val_acc: 0.9865\n",
      "19712/19995 [============================>.] - ETA: 0sEpoch 1/2\n",
      "80005/80005 [==============================] - 57s - loss: 0.3167 - acc: 0.9157 - val_loss: 0.0724 - val_acc: 0.9835\n",
      "Epoch 2/2\n",
      "80005/80005 [==============================] - 57s - loss: 0.0563 - acc: 0.9838 - val_loss: 0.1351 - val_acc: 0.9539\n",
      "19712/19995 [============================>.] - ETA: 0s[ 0.0821  0.9751]\n"
     ]
    }
   ],
   "source": [
    "da = image.ImageDataGenerator(width_shift_range=0.05)\n",
    "trn_model(da)"
   ]
  },
  {
   "cell_type": "code",
   "execution_count": 31,
   "metadata": {},
   "outputs": [
    {
     "name": "stdout",
     "output_type": "stream",
     "text": [
      "Epoch 1/2\n",
      "80005/80005 [==============================] - 57s - loss: 0.2726 - acc: 0.9292 - val_loss: 0.0783 - val_acc: 0.9783\n",
      "Epoch 2/2\n",
      "80005/80005 [==============================] - 57s - loss: 0.0424 - acc: 0.9878 - val_loss: 0.0459 - val_acc: 0.9876\n",
      "19712/19995 [============================>.] - ETA: 0sEpoch 1/2\n",
      "80005/80005 [==============================] - 57s - loss: 0.2871 - acc: 0.9257 - val_loss: 0.0820 - val_acc: 0.9744\n",
      "Epoch 2/2\n",
      "80005/80005 [==============================] - 57s - loss: 0.0503 - acc: 0.9855 - val_loss: 0.1354 - val_acc: 0.9523\n",
      "19712/19995 [============================>.] - ETA: 0sEpoch 1/2\n",
      "80005/80005 [==============================] - 57s - loss: 0.2720 - acc: 0.9300 - val_loss: 0.0578 - val_acc: 0.9876\n",
      "Epoch 2/2\n",
      "80005/80005 [==============================] - 57s - loss: 0.0419 - acc: 0.9883 - val_loss: 0.0378 - val_acc: 0.9888\n",
      "19712/19995 [============================>.] - ETA: 0s[ 0.073   0.9762]\n"
     ]
    }
   ],
   "source": [
    "da = image.ImageDataGenerator(width_shift_range=0.03)\n",
    "trn_model(da)"
   ]
  },
  {
   "cell_type": "markdown",
   "metadata": {},
   "source": [
    "### height shift range"
   ]
  },
  {
   "cell_type": "code",
   "execution_count": 33,
   "metadata": {
    "collapsed": true
   },
   "outputs": [
    {
     "name": "stdout",
     "output_type": "stream",
     "text": [
      "Epoch 1/2\n",
      "80005/80005 [==============================] - 57s - loss: 0.2739 - acc: 0.9268 - val_loss: 0.0603 - val_acc: 0.9851\n",
      "Epoch 2/2\n",
      "80005/80005 [==============================] - 57s - loss: 0.0431 - acc: 0.9875 - val_loss: 0.1165 - val_acc: 0.9583\n",
      "19712/19995 [============================>.] - ETA: 0sEpoch 1/2\n",
      "80005/80005 [==============================] - 57s - loss: 0.2754 - acc: 0.9283 - val_loss: 0.0656 - val_acc: 0.9846\n",
      "Epoch 2/2\n",
      "80005/80005 [==============================] - 57s - loss: 0.0460 - acc: 0.9866 - val_loss: 0.0670 - val_acc: 0.9786\n",
      "19712/19995 [============================>.] - ETA: 0sEpoch 1/2\n",
      "80005/80005 [==============================] - 57s - loss: 0.2752 - acc: 0.9250 - val_loss: 0.0691 - val_acc: 0.9826\n",
      "Epoch 2/2\n",
      "80005/80005 [==============================] - 57s - loss: 0.0487 - acc: 0.9857 - val_loss: 0.0479 - val_acc: 0.9851\n",
      "19712/19995 [============================>.] - ETA: 0s[ 0.0771  0.974 ]\n"
     ]
    }
   ],
   "source": [
    "da = image.ImageDataGenerator(height_shift_range=0.04)\n",
    "trn_model(da)"
   ]
  },
  {
   "cell_type": "code",
   "execution_count": 34,
   "metadata": {},
   "outputs": [
    {
     "name": "stdout",
     "output_type": "stream",
     "text": [
      "Epoch 1/2\n",
      "80005/80005 [==============================] - 57s - loss: 0.2727 - acc: 0.9291 - val_loss: 0.0764 - val_acc: 0.9794\n",
      "Epoch 2/2\n",
      "80005/80005 [==============================] - 57s - loss: 0.0416 - acc: 0.9882 - val_loss: 0.0324 - val_acc: 0.9909\n",
      "19712/19995 [============================>.] - ETA: 0sEpoch 1/2\n",
      "80005/80005 [==============================] - 57s - loss: 0.2858 - acc: 0.9256 - val_loss: 0.0770 - val_acc: 0.9793\n",
      "Epoch 2/2\n",
      "80005/80005 [==============================] - 57s - loss: 0.0424 - acc: 0.9879 - val_loss: 0.0400 - val_acc: 0.9879\n",
      "19712/19995 [============================>.] - ETA: 0sEpoch 1/2\n",
      "80005/80005 [==============================] - 57s - loss: 0.2781 - acc: 0.9278 - val_loss: 0.0668 - val_acc: 0.9836\n",
      "Epoch 2/2\n",
      "80005/80005 [==============================] - 57s - loss: 0.0396 - acc: 0.9888 - val_loss: 0.0378 - val_acc: 0.9904\n",
      "19712/19995 [============================>.] - ETA: 0s[ 0.0367  0.9897]\n"
     ]
    }
   ],
   "source": [
    "da = image.ImageDataGenerator(height_shift_range=0.03)\n",
    "trn_model(da)"
   ]
  },
  {
   "cell_type": "markdown",
   "metadata": {},
   "source": [
    "### rotation range"
   ]
  },
  {
   "cell_type": "code",
   "execution_count": 35,
   "metadata": {
    "collapsed": true
   },
   "outputs": [
    {
     "name": "stdout",
     "output_type": "stream",
     "text": [
      "Epoch 1/2\n",
      "80005/80005 [==============================] - 57s - loss: 0.4402 - acc: 0.8696 - val_loss: 0.1111 - val_acc: 0.9700\n",
      "Epoch 2/2\n",
      "80005/80005 [==============================] - 57s - loss: 0.1060 - acc: 0.9663 - val_loss: 0.0773 - val_acc: 0.9752\n",
      "19712/19995 [============================>.] - ETA: 0sEpoch 1/2\n",
      "80005/80005 [==============================] - 57s - loss: 0.4368 - acc: 0.8699 - val_loss: 0.1541 - val_acc: 0.9570\n",
      "Epoch 2/2\n",
      "80005/80005 [==============================] - 57s - loss: 0.1072 - acc: 0.9657 - val_loss: 0.0684 - val_acc: 0.9820\n",
      "19712/19995 [============================>.] - ETA: 0sEpoch 1/2\n",
      "80005/80005 [==============================] - 57s - loss: 0.4362 - acc: 0.8694 - val_loss: 0.1260 - val_acc: 0.9625\n",
      "Epoch 2/2\n",
      "80005/80005 [==============================] - 57s - loss: 0.1047 - acc: 0.9665 - val_loss: 0.0768 - val_acc: 0.9796\n",
      "19712/19995 [============================>.] - ETA: 0s[ 0.0742  0.979 ]\n"
     ]
    }
   ],
   "source": [
    "da = image.ImageDataGenerator(rotation_range=15)\n",
    "trn_model(da)"
   ]
  },
  {
   "cell_type": "code",
   "execution_count": 36,
   "metadata": {
    "collapsed": true
   },
   "outputs": [
    {
     "name": "stdout",
     "output_type": "stream",
     "text": [
      "Epoch 1/2\n",
      "80005/80005 [==============================] - 57s - loss: 0.3754 - acc: 0.8930 - val_loss: 0.1200 - val_acc: 0.9709\n",
      "Epoch 2/2\n",
      "80005/80005 [==============================] - 57s - loss: 0.0818 - acc: 0.9745 - val_loss: 0.0605 - val_acc: 0.9817\n",
      "19712/19995 [============================>.] - ETA: 0sEpoch 1/2\n",
      "80005/80005 [==============================] - 57s - loss: 0.3775 - acc: 0.8934 - val_loss: 0.0797 - val_acc: 0.9812\n",
      "Epoch 2/2\n",
      "80005/80005 [==============================] - 57s - loss: 0.0746 - acc: 0.9771 - val_loss: 0.0520 - val_acc: 0.9854\n",
      "19712/19995 [============================>.] - ETA: 0sEpoch 1/2\n",
      "80005/80005 [==============================] - 57s - loss: 0.3619 - acc: 0.8963 - val_loss: 0.0893 - val_acc: 0.9790\n",
      "Epoch 2/2\n",
      "80005/80005 [==============================] - 57s - loss: 0.0782 - acc: 0.9759 - val_loss: 0.0673 - val_acc: 0.9815\n",
      "19712/19995 [============================>.] - ETA: 0s[ 0.0599  0.9829]\n"
     ]
    }
   ],
   "source": [
    "da = image.ImageDataGenerator(rotation_range=10)\n",
    "trn_model(da)"
   ]
  },
  {
   "cell_type": "code",
   "execution_count": 37,
   "metadata": {},
   "outputs": [
    {
     "name": "stdout",
     "output_type": "stream",
     "text": [
      "Epoch 1/2\n",
      "80005/80005 [==============================] - 57s - loss: 0.2981 - acc: 0.9191 - val_loss: 0.0703 - val_acc: 0.9827\n",
      "Epoch 2/2\n",
      "80005/80005 [==============================] - 57s - loss: 0.0525 - acc: 0.9845 - val_loss: 0.0796 - val_acc: 0.9728\n",
      "19712/19995 [============================>.] - ETA: 0sEpoch 1/2\n",
      "80005/80005 [==============================] - 57s - loss: 0.3053 - acc: 0.9182 - val_loss: 0.0794 - val_acc: 0.9813\n",
      "Epoch 2/2\n",
      "80005/80005 [==============================] - 57s - loss: 0.0508 - acc: 0.9851 - val_loss: 0.0431 - val_acc: 0.9889\n",
      "19712/19995 [============================>.] - ETA: 0sEpoch 1/2\n",
      "80005/80005 [==============================] - 57s - loss: 0.3071 - acc: 0.9178 - val_loss: 0.0841 - val_acc: 0.9787\n",
      "Epoch 2/2\n",
      "80005/80005 [==============================] - 57s - loss: 0.0496 - acc: 0.9855 - val_loss: 0.0491 - val_acc: 0.9852\n",
      "19712/19995 [============================>.] - ETA: 0s[ 0.0573  0.9823]\n"
     ]
    }
   ],
   "source": [
    "da = image.ImageDataGenerator(rotation_range=5)\n",
    "trn_model(da)"
   ]
  },
  {
   "cell_type": "code",
   "execution_count": 38,
   "metadata": {
    "collapsed": true
   },
   "outputs": [
    {
     "name": "stdout",
     "output_type": "stream",
     "text": [
      "Epoch 1/2\n",
      "80005/80005 [==============================] - 57s - loss: 0.3465 - acc: 0.9031 - val_loss: 0.0760 - val_acc: 0.9817\n",
      "Epoch 2/2\n",
      "80005/80005 [==============================] - 57s - loss: 0.0669 - acc: 0.9796 - val_loss: 0.0457 - val_acc: 0.9876\n",
      "19712/19995 [============================>.] - ETA: 0sEpoch 1/2\n",
      "80005/80005 [==============================] - 57s - loss: 0.3526 - acc: 0.9005 - val_loss: 0.1018 - val_acc: 0.9745\n",
      "Epoch 2/2\n",
      "80005/80005 [==============================] - 57s - loss: 0.0769 - acc: 0.9767 - val_loss: 0.0720 - val_acc: 0.9766\n",
      "19712/19995 [============================>.] - ETA: 0sEpoch 1/2\n",
      "80005/80005 [==============================] - 57s - loss: 0.3444 - acc: 0.9045 - val_loss: 0.1008 - val_acc: 0.9692\n",
      "Epoch 2/2\n",
      "80005/80005 [==============================] - 57s - loss: 0.0660 - acc: 0.9801 - val_loss: 0.0513 - val_acc: 0.9869\n",
      "19712/19995 [============================>.] - ETA: 0s[ 0.0563  0.9837]\n"
     ]
    }
   ],
   "source": [
    "da = image.ImageDataGenerator(rotation_range=8)\n",
    "trn_model(da)"
   ]
  },
  {
   "cell_type": "code",
   "execution_count": 39,
   "metadata": {},
   "outputs": [
    {
     "name": "stdout",
     "output_type": "stream",
     "text": [
      "Epoch 1/2\n",
      "80005/80005 [==============================] - 57s - loss: 0.2783 - acc: 0.9291 - val_loss: 0.0982 - val_acc: 0.9736\n",
      "Epoch 2/2\n",
      "80005/80005 [==============================] - 57s - loss: 0.0400 - acc: 0.9891 - val_loss: 0.0328 - val_acc: 0.9904\n",
      "19712/19995 [============================>.] - ETA: 0sEpoch 1/2\n",
      "80005/80005 [==============================] - 57s - loss: 0.2624 - acc: 0.9335 - val_loss: 0.0590 - val_acc: 0.9862\n",
      "Epoch 2/2\n",
      "80005/80005 [==============================] - 57s - loss: 0.0402 - acc: 0.9890 - val_loss: 0.0316 - val_acc: 0.9918\n",
      "19712/19995 [============================>.] - ETA: 0sEpoch 1/2\n",
      "80005/80005 [==============================] - 57s - loss: 0.2759 - acc: 0.9291 - val_loss: 0.0794 - val_acc: 0.9817\n",
      "Epoch 2/2\n",
      "80005/80005 [==============================] - 57s - loss: 0.0360 - acc: 0.9904 - val_loss: 0.0340 - val_acc: 0.9906\n",
      "19712/19995 [============================>.] - ETA: 0s[ 0.0328  0.9909]\n"
     ]
    }
   ],
   "source": [
    "da = image.ImageDataGenerator(channel_shift_range=20)\n",
    "trn_model(da)"
   ]
  },
  {
   "cell_type": "code",
   "execution_count": 40,
   "metadata": {
    "collapsed": true
   },
   "outputs": [
    {
     "name": "stdout",
     "output_type": "stream",
     "text": [
      "Epoch 1/2\n",
      "80005/80005 [==============================] - 58s - loss: 0.2640 - acc: 0.9331 - val_loss: 0.0529 - val_acc: 0.9879\n",
      "Epoch 2/2\n",
      "80005/80005 [==============================] - 58s - loss: 0.0335 - acc: 0.9912 - val_loss: 0.0376 - val_acc: 0.9889\n",
      "19712/19995 [============================>.] - ETA: 0sEpoch 1/2\n",
      "80005/80005 [==============================] - 58s - loss: 0.2515 - acc: 0.9356 - val_loss: 0.0750 - val_acc: 0.9827\n",
      "Epoch 2/2\n",
      "80005/80005 [==============================] - 58s - loss: 0.0350 - acc: 0.9906 - val_loss: 0.0370 - val_acc: 0.9887\n",
      "19712/19995 [============================>.] - ETA: 0sEpoch 1/2\n",
      "80005/80005 [==============================] - 57s - loss: 0.2552 - acc: 0.9352 - val_loss: 0.0720 - val_acc: 0.9796\n",
      "Epoch 2/2\n",
      "80005/80005 [==============================] - 57s - loss: 0.0322 - acc: 0.9914 - val_loss: 0.0299 - val_acc: 0.9917\n",
      "19712/19995 [============================>.] - ETA: 0s[ 0.0348  0.9897]\n"
     ]
    }
   ],
   "source": [
    "da = image.ImageDataGenerator(channel_shift_range=10)\n",
    "trn_model(da)"
   ]
  },
  {
   "cell_type": "code",
   "execution_count": 41,
   "metadata": {
    "collapsed": true
   },
   "outputs": [
    {
     "name": "stdout",
     "output_type": "stream",
     "text": [
      "Epoch 1/2\n",
      "80005/80005 [==============================] - 58s - loss: 0.2976 - acc: 0.9251 - val_loss: 0.0751 - val_acc: 0.9819\n",
      "Epoch 2/2\n",
      "80005/80005 [==============================] - 58s - loss: 0.0472 - acc: 0.9873 - val_loss: 0.0336 - val_acc: 0.9900\n",
      "19712/19995 [============================>.] - ETA: 0sEpoch 1/2\n",
      "80005/80005 [==============================] - 57s - loss: 0.2875 - acc: 0.9272 - val_loss: 0.0679 - val_acc: 0.9839\n",
      "Epoch 2/2\n",
      "80005/80005 [==============================] - 57s - loss: 0.0445 - acc: 0.9881 - val_loss: 0.0363 - val_acc: 0.9896\n",
      "19712/19995 [============================>.] - ETA: 0sEpoch 1/2\n",
      "80005/80005 [==============================] - 58s - loss: 0.2840 - acc: 0.9277 - val_loss: 0.0837 - val_acc: 0.9786\n",
      "Epoch 2/2\n",
      "80005/80005 [==============================] - 58s - loss: 0.0431 - acc: 0.9882 - val_loss: 0.0314 - val_acc: 0.9907\n",
      "19712/19995 [============================>.] - ETA: 0s[ 0.0338  0.9901]\n"
     ]
    }
   ],
   "source": [
    "da = image.ImageDataGenerator(channel_shift_range=30)\n",
    "trn_model(da)"
   ]
  },
  {
   "cell_type": "code",
   "execution_count": 42,
   "metadata": {
    "collapsed": true
   },
   "outputs": [
    {
     "name": "stdout",
     "output_type": "stream",
     "text": [
      "Epoch 1/2\n",
      "80005/80005 [==============================] - 57s - loss: 0.3043 - acc: 0.9183 - val_loss: 0.0744 - val_acc: 0.9812\n",
      "Epoch 2/2\n",
      "80005/80005 [==============================] - 57s - loss: 0.0525 - acc: 0.9846 - val_loss: 0.0481 - val_acc: 0.9865\n",
      "19712/19995 [============================>.] - ETA: 0sEpoch 1/2\n",
      "80005/80005 [==============================] - 57s - loss: 0.3161 - acc: 0.9159 - val_loss: 0.1022 - val_acc: 0.9728\n",
      "Epoch 2/2\n",
      "80005/80005 [==============================] - 57s - loss: 0.0464 - acc: 0.9868 - val_loss: 0.0515 - val_acc: 0.9842\n",
      "19712/19995 [============================>.] - ETA: 0sEpoch 1/2\n",
      "80005/80005 [==============================] - 57s - loss: 0.3109 - acc: 0.9173 - val_loss: 0.0781 - val_acc: 0.9809\n",
      "Epoch 2/2\n",
      "80005/80005 [==============================] - 57s - loss: 0.0496 - acc: 0.9855 - val_loss: 0.0439 - val_acc: 0.9876\n",
      "19712/19995 [============================>.] - ETA: 0s[ 0.0478  0.9861]\n"
     ]
    }
   ],
   "source": [
    "da = image.ImageDataGenerator(shear_range=0.1)\n",
    "trn_model(da)"
   ]
  },
  {
   "cell_type": "code",
   "execution_count": 44,
   "metadata": {},
   "outputs": [
    {
     "name": "stdout",
     "output_type": "stream",
     "text": [
      "Epoch 1/2\n",
      "80005/80005 [==============================] - 58s - loss: 0.2746 - acc: 0.9294 - val_loss: 0.0935 - val_acc: 0.9740\n",
      "Epoch 2/2\n",
      "80005/80005 [==============================] - 58s - loss: 0.0386 - acc: 0.9892 - val_loss: 0.0380 - val_acc: 0.9895\n",
      "19712/19995 [============================>.] - ETA: 0sEpoch 1/2\n",
      "80005/80005 [==============================] - 57s - loss: 0.2684 - acc: 0.9301 - val_loss: 0.0680 - val_acc: 0.9835\n",
      "Epoch 2/2\n",
      "80005/80005 [==============================] - 57s - loss: 0.0356 - acc: 0.9902 - val_loss: 0.0385 - val_acc: 0.9900\n",
      "19712/19995 [============================>.] - ETA: 0sEpoch 1/2\n",
      "80005/80005 [==============================] - 58s - loss: 0.2691 - acc: 0.9309 - val_loss: 0.0692 - val_acc: 0.9827\n",
      "Epoch 2/2\n",
      "80005/80005 [==============================] - 58s - loss: 0.0377 - acc: 0.9895 - val_loss: 0.0464 - val_acc: 0.9870\n",
      "19712/19995 [============================>.] - ETA: 0s[ 0.041   0.9888]\n"
     ]
    }
   ],
   "source": [
    "da = image.ImageDataGenerator(shear_range=0.05)\n",
    "trn_model(da)"
   ]
  },
  {
   "cell_type": "code",
   "execution_count": 45,
   "metadata": {
    "collapsed": true
   },
   "outputs": [
    {
     "name": "stdout",
     "output_type": "stream",
     "text": [
      "Epoch 1/2\n",
      "80005/80005 [==============================] - 57s - loss: 0.2989 - acc: 0.9204 - val_loss: 0.0785 - val_acc: 0.9791\n",
      "Epoch 2/2\n",
      "80005/80005 [==============================] - 57s - loss: 0.0450 - acc: 0.9871 - val_loss: 0.0470 - val_acc: 0.9859\n",
      "19712/19995 [============================>.] - ETA: 0sEpoch 1/2\n",
      "80005/80005 [==============================] - 59s - loss: 0.2949 - acc: 0.9213 - val_loss: 0.0655 - val_acc: 0.9834\n",
      "Epoch 2/2\n",
      "80005/80005 [==============================] - 59s - loss: 0.0436 - acc: 0.9875 - val_loss: 0.4136 - val_acc: 0.9057\n",
      "19712/19995 [============================>.] - ETA: 0sEpoch 1/2\n",
      "80005/80005 [==============================] - 57s - loss: 0.2894 - acc: 0.9234 - val_loss: 0.0686 - val_acc: 0.9841\n",
      "Epoch 2/2\n",
      "80005/80005 [==============================] - 57s - loss: 0.0442 - acc: 0.9877 - val_loss: 0.0431 - val_acc: 0.9881\n",
      "19712/19995 [============================>.] - ETA: 0s[ 0.1679  0.9599]\n"
     ]
    }
   ],
   "source": [
    "da = image.ImageDataGenerator(shear_range=0.08)\n",
    "trn_model(da)"
   ]
  },
  {
   "cell_type": "code",
   "execution_count": 46,
   "metadata": {
    "collapsed": true
   },
   "outputs": [
    {
     "name": "stdout",
     "output_type": "stream",
     "text": [
      "Epoch 1/2\n",
      "80005/80005 [==============================] - 58s - loss: 0.2809 - acc: 0.9288 - val_loss: 0.0948 - val_acc: 0.9688\n",
      "Epoch 2/2\n",
      "80005/80005 [==============================] - 58s - loss: 0.0609 - acc: 0.9814 - val_loss: 0.0426 - val_acc: 0.9869\n",
      "19712/19995 [============================>.] - ETA: 0sEpoch 1/2\n",
      "80005/80005 [==============================] - 57s - loss: 0.2973 - acc: 0.9229 - val_loss: 0.0605 - val_acc: 0.9845\n",
      "Epoch 2/2\n",
      "80005/80005 [==============================] - 57s - loss: 0.0521 - acc: 0.9851 - val_loss: 0.0406 - val_acc: 0.9892\n",
      "19712/19995 [============================>.] - ETA: 0sEpoch 1/2\n",
      "80005/80005 [==============================] - 59s - loss: 0.2878 - acc: 0.9252 - val_loss: 0.0645 - val_acc: 0.9844\n",
      "Epoch 2/2\n",
      "80005/80005 [==============================] - 59s - loss: 0.0463 - acc: 0.9867 - val_loss: 0.0534 - val_acc: 0.9838\n",
      "19712/19995 [============================>.] - ETA: 0s[ 0.0455  0.9866]\n"
     ]
    }
   ],
   "source": [
    "da = image.ImageDataGenerator(zoom_range=0.08)\n",
    "trn_model(da)"
   ]
  },
  {
   "cell_type": "code",
   "execution_count": 47,
   "metadata": {},
   "outputs": [
    {
     "name": "stdout",
     "output_type": "stream",
     "text": [
      "Epoch 1/2\n",
      "80005/80005 [==============================] - 57s - loss: 0.2834 - acc: 0.9269 - val_loss: 0.0786 - val_acc: 0.9800\n",
      "Epoch 2/2\n",
      "80005/80005 [==============================] - 57s - loss: 0.0441 - acc: 0.9876 - val_loss: 0.0416 - val_acc: 0.9894\n",
      "19712/19995 [============================>.] - ETA: 0sEpoch 1/2\n",
      "80005/80005 [==============================] - 59s - loss: 0.2843 - acc: 0.9258 - val_loss: 0.0617 - val_acc: 0.9853\n",
      "Epoch 2/2\n",
      "80005/80005 [==============================] - 59s - loss: 0.0384 - acc: 0.9893 - val_loss: 0.0308 - val_acc: 0.9920\n",
      "19712/19995 [============================>.] - ETA: 0sEpoch 1/2\n",
      "80005/80005 [==============================] - 57s - loss: 0.2762 - acc: 0.9292 - val_loss: 0.0578 - val_acc: 0.9865\n",
      "Epoch 2/2\n",
      "80005/80005 [==============================] - 57s - loss: 0.0387 - acc: 0.9892 - val_loss: 0.0398 - val_acc: 0.9880\n",
      "19712/19995 [============================>.] - ETA: 0s[ 0.0374  0.9898]\n"
     ]
    }
   ],
   "source": [
    "da = image.ImageDataGenerator(zoom_range=0.05)\n",
    "trn_model(da)"
   ]
  },
  {
   "cell_type": "code",
   "execution_count": 48,
   "metadata": {},
   "outputs": [
    {
     "name": "stdout",
     "output_type": "stream",
     "text": [
      "Epoch 1/2\n",
      "80005/80005 [==============================] - 59s - loss: 0.4376 - acc: 0.8715 - val_loss: 0.0776 - val_acc: 0.9790\n",
      "Epoch 2/2\n",
      "80005/80005 [==============================] - 59s - loss: 0.1105 - acc: 0.9657 - val_loss: 0.0616 - val_acc: 0.9778\n",
      "19712/19995 [============================>.] - ETA: 0sEpoch 1/2\n",
      "80005/80005 [==============================] - 58s - loss: 0.4363 - acc: 0.8717 - val_loss: 0.0809 - val_acc: 0.9822\n",
      "Epoch 2/2\n",
      "80005/80005 [==============================] - 58s - loss: 0.1037 - acc: 0.9677 - val_loss: 0.0381 - val_acc: 0.9899\n",
      "19712/19995 [============================>.] - ETA: 0sEpoch 1/2\n",
      "80005/80005 [==============================] - 59s - loss: 0.4360 - acc: 0.8717 - val_loss: 0.1294 - val_acc: 0.9677\n",
      "Epoch 2/2\n",
      "80005/80005 [==============================] - 59s - loss: 0.1103 - acc: 0.9657 - val_loss: 0.0373 - val_acc: 0.9893\n",
      "19712/19995 [============================>.] - ETA: 0s[ 0.0457  0.9857]\n"
     ]
    }
   ],
   "source": [
    "da = image.ImageDataGenerator(zoom_range=0.05, shear_range=0.05, channel_shift_range=20,\n",
    "                             rotation_range=5, height_shift_range=0.03, width_shift_range=0.03)\n",
    "trn_model(da)"
   ]
  },
  {
   "cell_type": "code",
   "execution_count": 49,
   "metadata": {},
   "outputs": [
    {
     "name": "stdout",
     "output_type": "stream",
     "text": [
      "Epoch 1/1\n",
      "80005/80005 [==============================] - 58s - loss: 0.4360 - acc: 0.8730 - val_loss: 0.0973 - val_acc: 0.9779\n"
     ]
    },
    {
     "data": {
      "text/plain": [
       "<keras.callbacks.History at 0x7f130c700fd0>"
      ]
     },
     "execution_count": 49,
     "metadata": {},
     "output_type": "execute_result"
    }
   ],
   "source": [
    "model=get_test_model()\n",
    "model.compile(Adam(), loss='sparse_categorical_crossentropy', metrics=['accuracy'])\n",
    "trn_batches = da.flow(x_trn, y_trn, batch_size=64, shuffle=True)\n",
    "model.fit_generator(trn_batches, len(x_trn), nb_epoch=1, validation_data=(x_val, y_val))"
   ]
  },
  {
   "cell_type": "code",
   "execution_count": 50,
   "metadata": {
    "collapsed": true
   },
   "outputs": [],
   "source": [
    "model.optimizer.lr=0.1"
   ]
  },
  {
   "cell_type": "code",
   "execution_count": 51,
   "metadata": {},
   "outputs": [
    {
     "name": "stdout",
     "output_type": "stream",
     "text": [
      "Epoch 1/1\n",
      "80005/80005 [==============================] - 46s - loss: 0.1093 - acc: 0.9658 - val_loss: 0.1236 - val_acc: 0.9582\n"
     ]
    },
    {
     "data": {
      "text/plain": [
       "<keras.callbacks.History at 0x7f131ca03350>"
      ]
     },
     "execution_count": 51,
     "metadata": {},
     "output_type": "execute_result"
    }
   ],
   "source": [
    "model.fit_generator(trn_batches, len(x_trn), nb_epoch=1, validation_data=(x_val, y_val))"
   ]
  },
  {
   "cell_type": "code",
   "execution_count": 52,
   "metadata": {},
   "outputs": [
    {
     "name": "stdout",
     "output_type": "stream",
     "text": [
      "Epoch 1/1\n",
      "80005/80005 [==============================] - 46s - loss: 0.0775 - acc: 0.9758 - val_loss: 0.0876 - val_acc: 0.9723\n"
     ]
    },
    {
     "data": {
      "text/plain": [
       "<keras.callbacks.History at 0x7f131c6e5850>"
      ]
     },
     "execution_count": 52,
     "metadata": {},
     "output_type": "execute_result"
    }
   ],
   "source": [
    "model.fit_generator(trn_batches, len(x_trn), nb_epoch=1, validation_data=(x_val, y_val))"
   ]
  },
  {
   "cell_type": "code",
   "execution_count": 53,
   "metadata": {
    "collapsed": true
   },
   "outputs": [],
   "source": [
    "model.optimizer.lr=0.001"
   ]
  },
  {
   "cell_type": "code",
   "execution_count": 54,
   "metadata": {},
   "outputs": [
    {
     "name": "stdout",
     "output_type": "stream",
     "text": [
      "Epoch 1/1\n",
      "80005/80005 [==============================] - 46s - loss: 0.0597 - acc: 0.9810 - val_loss: 0.0285 - val_acc: 0.9908\n"
     ]
    },
    {
     "data": {
      "text/plain": [
       "<keras.callbacks.History at 0x7f130e054850>"
      ]
     },
     "execution_count": 54,
     "metadata": {},
     "output_type": "execute_result"
    }
   ],
   "source": [
    "model.fit_generator(trn_batches, len(x_trn), nb_epoch=1, validation_data=(x_val, y_val))"
   ]
  },
  {
   "cell_type": "code",
   "execution_count": 55,
   "metadata": {},
   "outputs": [
    {
     "name": "stdout",
     "output_type": "stream",
     "text": [
      "Epoch 1/1\n",
      "80005/80005 [==============================] - 46s - loss: 0.0534 - acc: 0.9830 - val_loss: 0.0434 - val_acc: 0.9864\n"
     ]
    },
    {
     "data": {
      "text/plain": [
       "<keras.callbacks.History at 0x7f131c6e51d0>"
      ]
     },
     "execution_count": 55,
     "metadata": {},
     "output_type": "execute_result"
    }
   ],
   "source": [
    "model.fit_generator(trn_batches, len(x_trn), nb_epoch=1, validation_data=(x_val, y_val))"
   ]
  },
  {
   "cell_type": "code",
   "execution_count": 56,
   "metadata": {},
   "outputs": [
    {
     "name": "stdout",
     "output_type": "stream",
     "text": [
      "Epoch 1/1\n",
      "80005/80005 [==============================] - 46s - loss: 0.0480 - acc: 0.9848 - val_loss: 0.0202 - val_acc: 0.9936\n"
     ]
    },
    {
     "data": {
      "text/plain": [
       "<keras.callbacks.History at 0x7f130e054090>"
      ]
     },
     "execution_count": 56,
     "metadata": {},
     "output_type": "execute_result"
    }
   ],
   "source": [
    "model.fit_generator(trn_batches, len(x_trn), nb_epoch=1, validation_data=(x_val, y_val))"
   ]
  },
  {
   "cell_type": "code",
   "execution_count": 57,
   "metadata": {
    "collapsed": true
   },
   "outputs": [],
   "source": [
    "model.optimizer.lr=0.0001"
   ]
  },
  {
   "cell_type": "code",
   "execution_count": 58,
   "metadata": {
    "collapsed": true
   },
   "outputs": [
    {
     "name": "stdout",
     "output_type": "stream",
     "text": [
      "Epoch 1/5\n",
      "80005/80005 [==============================] - 46s - loss: 0.0434 - acc: 0.9862 - val_loss: 0.0351 - val_acc: 0.9881\n",
      "Epoch 2/5\n",
      "80005/80005 [==============================] - 46s - loss: 0.0394 - acc: 0.9874 - val_loss: 0.0166 - val_acc: 0.9949\n",
      "Epoch 3/5\n",
      "80005/80005 [==============================] - 46s - loss: 0.0389 - acc: 0.9875 - val_loss: 0.0125 - val_acc: 0.9964\n",
      "Epoch 4/5\n",
      "80005/80005 [==============================] - 46s - loss: 0.0347 - acc: 0.9888 - val_loss: 0.0175 - val_acc: 0.9946\n",
      "Epoch 5/5\n",
      "80005/80005 [==============================] - 46s - loss: 0.0341 - acc: 0.9891 - val_loss: 0.0309 - val_acc: 0.9900\n"
     ]
    },
    {
     "data": {
      "text/plain": [
       "<keras.callbacks.History at 0x7f131ca03910>"
      ]
     },
     "execution_count": 58,
     "metadata": {},
     "output_type": "execute_result"
    }
   ],
   "source": [
    "model.fit_generator(trn_batches, len(x_trn), nb_epoch=5, validation_data=(x_val, y_val))"
   ]
  },
  {
   "cell_type": "code",
   "execution_count": 59,
   "metadata": {
    "collapsed": true
   },
   "outputs": [
    {
     "name": "stdout",
     "output_type": "stream",
     "text": [
      "Epoch 1/5\n",
      "80005/80005 [==============================] - 46s - loss: 0.0330 - acc: 0.9894 - val_loss: 0.0189 - val_acc: 0.9936\n",
      "Epoch 2/5\n",
      "80005/80005 [==============================] - 46s - loss: 0.0325 - acc: 0.9896 - val_loss: 0.0136 - val_acc: 0.9956\n",
      "Epoch 3/5\n",
      "80005/80005 [==============================] - 46s - loss: 0.0300 - acc: 0.9903 - val_loss: 0.0137 - val_acc: 0.9957\n",
      "Epoch 4/5\n",
      "80005/80005 [==============================] - 46s - loss: 0.0287 - acc: 0.9906 - val_loss: 0.0092 - val_acc: 0.9972\n",
      "Epoch 5/5\n",
      "80005/80005 [==============================] - 46s - loss: 0.0272 - acc: 0.9912 - val_loss: 0.0233 - val_acc: 0.9927\n"
     ]
    },
    {
     "data": {
      "text/plain": [
       "<keras.callbacks.History at 0x7f130c700490>"
      ]
     },
     "execution_count": 59,
     "metadata": {},
     "output_type": "execute_result"
    }
   ],
   "source": [
    "model.fit_generator(trn_batches, len(x_trn), nb_epoch=5, validation_data=(x_val, y_val))"
   ]
  },
  {
   "cell_type": "code",
   "execution_count": 60,
   "metadata": {
    "collapsed": true
   },
   "outputs": [
    {
     "name": "stdout",
     "output_type": "stream",
     "text": [
      "Epoch 1/5\n",
      "80005/80005 [==============================] - 46s - loss: 0.0279 - acc: 0.9910 - val_loss: 0.0135 - val_acc: 0.9954\n",
      "Epoch 2/5\n",
      "80005/80005 [==============================] - 46s - loss: 0.0274 - acc: 0.9913 - val_loss: 0.0089 - val_acc: 0.9971\n",
      "Epoch 3/5\n",
      "80005/80005 [==============================] - 46s - loss: 0.0268 - acc: 0.9913 - val_loss: 0.0120 - val_acc: 0.9961\n",
      "Epoch 4/5\n",
      "80005/80005 [==============================] - 46s - loss: 0.0252 - acc: 0.9917 - val_loss: 0.0110 - val_acc: 0.9965\n",
      "Epoch 5/5\n",
      "80005/80005 [==============================] - 46s - loss: 0.0246 - acc: 0.9920 - val_loss: 0.0144 - val_acc: 0.9950\n"
     ]
    },
    {
     "data": {
      "text/plain": [
       "<keras.callbacks.History at 0x7f12efb35490>"
      ]
     },
     "execution_count": 60,
     "metadata": {},
     "output_type": "execute_result"
    }
   ],
   "source": [
    "model.fit_generator(trn_batches, len(x_trn), nb_epoch=5, validation_data=(x_val, y_val))"
   ]
  },
  {
   "cell_type": "code",
   "execution_count": 61,
   "metadata": {
    "collapsed": true
   },
   "outputs": [
    {
     "name": "stdout",
     "output_type": "stream",
     "text": [
      "Epoch 1/10\n",
      "80005/80005 [==============================] - 46s - loss: 0.0245 - acc: 0.9923 - val_loss: 0.0132 - val_acc: 0.9955\n",
      "Epoch 2/10\n",
      "80005/80005 [==============================] - 46s - loss: 0.0233 - acc: 0.9925 - val_loss: 0.0135 - val_acc: 0.9955\n",
      "Epoch 3/10\n",
      "80005/80005 [==============================] - 46s - loss: 0.0230 - acc: 0.9926 - val_loss: 0.0217 - val_acc: 0.9925\n",
      "Epoch 4/10\n",
      "80005/80005 [==============================] - 46s - loss: 0.0227 - acc: 0.9926 - val_loss: 0.0305 - val_acc: 0.9889\n",
      "Epoch 5/10\n",
      "80005/80005 [==============================] - 46s - loss: 0.0221 - acc: 0.9929 - val_loss: 0.0120 - val_acc: 0.9961\n",
      "Epoch 6/10\n",
      "80005/80005 [==============================] - 46s - loss: 0.0210 - acc: 0.9932 - val_loss: 0.0110 - val_acc: 0.9962\n",
      "Epoch 7/10\n",
      "80005/80005 [==============================] - 46s - loss: 0.0206 - acc: 0.9933 - val_loss: 0.0219 - val_acc: 0.9928\n",
      "Epoch 8/10\n",
      "80005/80005 [==============================] - 46s - loss: 0.0202 - acc: 0.9935 - val_loss: 0.0148 - val_acc: 0.9948\n",
      "Epoch 9/10\n",
      "80005/80005 [==============================] - 46s - loss: 0.0208 - acc: 0.9935 - val_loss: 0.0054 - val_acc: 0.9983\n",
      "Epoch 10/10\n",
      "80005/80005 [==============================] - 46s - loss: 0.0206 - acc: 0.9934 - val_loss: 0.0129 - val_acc: 0.9960\n"
     ]
    },
    {
     "data": {
      "text/plain": [
       "<keras.callbacks.History at 0x7f130e0546d0>"
      ]
     },
     "execution_count": 61,
     "metadata": {},
     "output_type": "execute_result"
    }
   ],
   "source": [
    "model.fit_generator(trn_batches, len(x_trn), nb_epoch=10, validation_data=(x_val, y_val))"
   ]
  },
  {
   "cell_type": "code",
   "execution_count": 62,
   "metadata": {
    "collapsed": true
   },
   "outputs": [],
   "source": [
    "model.optimizer.lr=0.00001"
   ]
  },
  {
   "cell_type": "code",
   "execution_count": 63,
   "metadata": {
    "collapsed": true
   },
   "outputs": [
    {
     "name": "stdout",
     "output_type": "stream",
     "text": [
      "Epoch 1/10\n",
      "80005/80005 [==============================] - 46s - loss: 0.0206 - acc: 0.9933 - val_loss: 0.0079 - val_acc: 0.9976\n",
      "Epoch 2/10\n",
      "80005/80005 [==============================] - 46s - loss: 0.0182 - acc: 0.9941 - val_loss: 0.0095 - val_acc: 0.9970\n",
      "Epoch 3/10\n",
      "80005/80005 [==============================] - 46s - loss: 0.0209 - acc: 0.9932 - val_loss: 0.0303 - val_acc: 0.9917\n",
      "Epoch 4/10\n",
      "80005/80005 [==============================] - 46s - loss: 0.0214 - acc: 0.9931 - val_loss: 0.0094 - val_acc: 0.9970\n",
      "Epoch 5/10\n",
      "80005/80005 [==============================] - 46s - loss: 0.0206 - acc: 0.9935 - val_loss: 0.0135 - val_acc: 0.9957\n",
      "Epoch 6/10\n",
      "80005/80005 [==============================] - 46s - loss: 0.0202 - acc: 0.9934 - val_loss: 0.0073 - val_acc: 0.9977\n",
      "Epoch 7/10\n",
      "80005/80005 [==============================] - 46s - loss: 0.0190 - acc: 0.9940 - val_loss: 0.0058 - val_acc: 0.9981\n",
      "Epoch 8/10\n",
      "80005/80005 [==============================] - 46s - loss: 0.0169 - acc: 0.9946 - val_loss: 0.0096 - val_acc: 0.9968\n",
      "Epoch 9/10\n",
      "80005/80005 [==============================] - 46s - loss: 0.0181 - acc: 0.9940 - val_loss: 0.0064 - val_acc: 0.9980\n",
      "Epoch 10/10\n",
      "80005/80005 [==============================] - 46s - loss: 0.0172 - acc: 0.9945 - val_loss: 0.0096 - val_acc: 0.9967\n"
     ]
    },
    {
     "data": {
      "text/plain": [
       "<keras.callbacks.History at 0x7f130dfa3150>"
      ]
     },
     "execution_count": 63,
     "metadata": {},
     "output_type": "execute_result"
    }
   ],
   "source": [
    "model.fit_generator(trn_batches, len(x_trn), nb_epoch=10, validation_data=(x_val, y_val))"
   ]
  },
  {
   "cell_type": "code",
   "execution_count": 64,
   "metadata": {
    "collapsed": true
   },
   "outputs": [
    {
     "name": "stdout",
     "output_type": "stream",
     "text": [
      "Epoch 1/10\n",
      "80005/80005 [==============================] - 46s - loss: 0.0192 - acc: 0.9940 - val_loss: 0.0088 - val_acc: 0.9971\n",
      "Epoch 2/10\n",
      "80005/80005 [==============================] - 46s - loss: 0.0175 - acc: 0.9943 - val_loss: 0.0079 - val_acc: 0.9975\n",
      "Epoch 3/10\n",
      "80005/80005 [==============================] - 46s - loss: 0.0165 - acc: 0.9946 - val_loss: 0.0068 - val_acc: 0.9981\n",
      "Epoch 4/10\n",
      "80005/80005 [==============================] - 46s - loss: 0.0174 - acc: 0.9944 - val_loss: 0.0151 - val_acc: 0.9948\n",
      "Epoch 5/10\n",
      "80005/80005 [==============================] - 46s - loss: 0.0170 - acc: 0.9944 - val_loss: 0.0054 - val_acc: 0.9982\n",
      "Epoch 6/10\n",
      "80005/80005 [==============================] - 46s - loss: 0.0189 - acc: 0.9938 - val_loss: 0.0157 - val_acc: 0.9953\n",
      "Epoch 7/10\n",
      "80005/80005 [==============================] - 46s - loss: 0.0192 - acc: 0.9937 - val_loss: 0.0100 - val_acc: 0.9967\n",
      "Epoch 8/10\n",
      "80005/80005 [==============================] - 46s - loss: 0.0171 - acc: 0.9944 - val_loss: 0.0065 - val_acc: 0.9978\n",
      "Epoch 9/10\n",
      "80005/80005 [==============================] - 46s - loss: 0.0171 - acc: 0.9944 - val_loss: 0.0075 - val_acc: 0.9975\n",
      "Epoch 10/10\n",
      "80005/80005 [==============================] - 46s - loss: 0.0162 - acc: 0.9947 - val_loss: 0.0058 - val_acc: 0.9981\n"
     ]
    },
    {
     "data": {
      "text/plain": [
       "<keras.callbacks.History at 0x7f131ca03a10>"
      ]
     },
     "execution_count": 64,
     "metadata": {},
     "output_type": "execute_result"
    }
   ],
   "source": [
    "model.fit_generator(trn_batches, len(x_trn), nb_epoch=10, validation_data=(x_val, y_val))"
   ]
  },
  {
   "cell_type": "code",
   "execution_count": 77,
   "metadata": {
    "collapsed": true
   },
   "outputs": [],
   "source": [
    "model.optimizer.lr=0.0001"
   ]
  },
  {
   "cell_type": "code",
   "execution_count": 78,
   "metadata": {
    "collapsed": true
   },
   "outputs": [
    {
     "name": "stdout",
     "output_type": "stream",
     "text": [
      "Epoch 1/10\n",
      "80005/80005 [==============================] - 46s - loss: 0.0164 - acc: 0.9946 - val_loss: 0.0069 - val_acc: 0.9978\n",
      "Epoch 2/10\n",
      "80005/80005 [==============================] - 46s - loss: 0.0186 - acc: 0.9941 - val_loss: 0.0093 - val_acc: 0.9970\n",
      "Epoch 3/10\n",
      "80005/80005 [==============================] - 46s - loss: 0.0170 - acc: 0.9945 - val_loss: 0.0098 - val_acc: 0.9968\n",
      "Epoch 4/10\n",
      "80005/80005 [==============================] - 46s - loss: 0.0160 - acc: 0.9948 - val_loss: 0.0047 - val_acc: 0.9985\n",
      "Epoch 5/10\n",
      "80005/80005 [==============================] - 46s - loss: 0.0155 - acc: 0.9950 - val_loss: 0.0101 - val_acc: 0.9966\n",
      "Epoch 6/10\n",
      "80005/80005 [==============================] - 46s - loss: 0.0154 - acc: 0.9949 - val_loss: 0.0130 - val_acc: 0.9954\n",
      "Epoch 7/10\n",
      "80005/80005 [==============================] - 46s - loss: 0.0161 - acc: 0.9948 - val_loss: 0.0084 - val_acc: 0.9971\n",
      "Epoch 8/10\n",
      "80005/80005 [==============================] - 46s - loss: 0.0155 - acc: 0.9950 - val_loss: 0.0069 - val_acc: 0.9977\n",
      "Epoch 9/10\n",
      "80005/80005 [==============================] - 46s - loss: 0.0155 - acc: 0.9950 - val_loss: 0.0070 - val_acc: 0.9977\n",
      "Epoch 10/10\n",
      "80005/80005 [==============================] - 46s - loss: 0.0161 - acc: 0.9947 - val_loss: 0.0121 - val_acc: 0.9957\n"
     ]
    },
    {
     "data": {
      "text/plain": [
       "<keras.callbacks.History at 0x7f12f4904110>"
      ]
     },
     "execution_count": 78,
     "metadata": {},
     "output_type": "execute_result"
    }
   ],
   "source": [
    "model.fit_generator(trn_batches, len(x_trn), nb_epoch=10, validation_data=(x_val, y_val))"
   ]
  },
  {
   "cell_type": "code",
   "execution_count": 52,
   "metadata": {
    "collapsed": true
   },
   "outputs": [],
   "source": [
    "def get_model():\n",
    "    return Sequential([\n",
    "            BatchNormalization(axis=1, input_shape=(1,30,90)),\n",
    "            #Lambda(norm_input, input_shape=(1,30,90), output_shape=(1,30,90)),\n",
    "            Convolution2D(32,3,3, activation='relu'),\n",
    "            BatchNormalization(axis=1),\n",
    "            Convolution2D(32,3,3, activation='relu'),\n",
    "            BatchNormalization(axis=1),\n",
    "            MaxPooling2D(),\n",
    "            Convolution2D(64,3,3, activation='relu'),\n",
    "            BatchNormalization(axis=1),\n",
    "            Convolution2D(64,3,3, activation='relu'),\n",
    "            BatchNormalization(axis=1),\n",
    "            MaxPooling2D(),\n",
    "\n",
    "            Flatten(),\n",
    "            BatchNormalization(),\n",
    "\n",
    "            \n",
    "            Dense(70, activation='relu'),\n",
    "            BatchNormalization(),\n",
    "\n",
    "            Dense(70, activation='relu'),\n",
    "            BatchNormalization(),\n",
    "        \n",
    "            Reshape((7, 10)),\n",
    "            TimeDistributed(Dense(16, activation='softmax'))\n",
    "        ])\n"
   ]
  },
  {
   "cell_type": "code",
   "execution_count": 28,
   "metadata": {
    "collapsed": true
   },
   "outputs": [],
   "source": [
    "model = Sequential([\n",
    "            BatchNormalization(axis=1, input_shape=(1,30,90)),\n",
    "            #Lambda(norm_input, input_shape=(1,30,90), output_shape=(1,30,90)),\n",
    "            Convolution2D(32,3,3, activation='relu'),\n",
    "            BatchNormalization(axis=1),\n",
    "            Convolution2D(32,3,3, activation='relu'),\n",
    "            BatchNormalization(axis=1),\n",
    "            MaxPooling2D(),\n",
    "            Convolution2D(64,3,3, activation='relu'),\n",
    "            BatchNormalization(axis=1),\n",
    "            Convolution2D(64,3,3, activation='relu'),\n",
    "            BatchNormalization(axis=1),\n",
    "            MaxPooling2D(),\n",
    "\n",
    "            Flatten(),\n",
    "            BatchNormalization(),\n",
    "\n",
    "            \n",
    "            Dense(70, activation='relu'),\n",
    "            BatchNormalization(),\n",
    "\n",
    "            Dense(70, activation='relu'),\n",
    "            BatchNormalization(),\n",
    "        \n",
    "            Reshape((7, 10)),\n",
    "            TimeDistributed(Dense(16, activation='softmax'))\n",
    "        ])\n",
    "model.compile(Adam(), loss='sparse_categorical_crossentropy', metrics=['accuracy'])"
   ]
  },
  {
   "cell_type": "code",
   "execution_count": 29,
   "metadata": {
    "collapsed": true
   },
   "outputs": [],
   "source": [
    "da = image.ImageDataGenerator(zoom_range=0.05, shear_range=0.05, channel_shift_range=20,\n",
    "                             rotation_range=5, height_shift_range=0.03, width_shift_range=0.03)\n",
    "trn_batches = da.flow(x_trn, y_trn, batch_size=64, shuffle=True)"
   ]
  },
  {
   "cell_type": "code",
   "execution_count": 30,
   "metadata": {},
   "outputs": [
    {
     "name": "stdout",
     "output_type": "stream",
     "text": [
      "Epoch 1/1\n",
      "79931/79931 [==============================] - 96s - loss: 0.6516 - acc: 0.8142 - val_loss: 0.0400 - val_acc: 0.9939\n"
     ]
    },
    {
     "data": {
      "text/plain": [
       "<keras.callbacks.History at 0x7f90fbadf350>"
      ]
     },
     "execution_count": 30,
     "metadata": {},
     "output_type": "execute_result"
    }
   ],
   "source": [
    "model.fit_generator(trn_batches, len(x_trn), nb_epoch=1, validation_data=(x_val, y_val))"
   ]
  },
  {
   "cell_type": "code",
   "execution_count": 31,
   "metadata": {
    "collapsed": true
   },
   "outputs": [],
   "source": [
    "model.optimizer.lr=0.1"
   ]
  },
  {
   "cell_type": "code",
   "execution_count": 32,
   "metadata": {},
   "outputs": [
    {
     "name": "stdout",
     "output_type": "stream",
     "text": [
      "Epoch 1/4\n",
      "79931/79931 [==============================] - 96s - loss: 0.0668 - acc: 0.9832 - val_loss: 0.0106 - val_acc: 0.9979\n",
      "Epoch 2/4\n",
      "79931/79931 [==============================] - 96s - loss: 0.0424 - acc: 0.9883 - val_loss: 0.0067 - val_acc: 0.9986\n",
      "Epoch 3/4\n",
      "79931/79931 [==============================] - 96s - loss: 0.0302 - acc: 0.9916 - val_loss: 0.0074 - val_acc: 0.9981\n",
      "Epoch 4/4\n",
      "79931/79931 [==============================] - 95s - loss: 0.0252 - acc: 0.9928 - val_loss: 0.0041 - val_acc: 0.9989\n"
     ]
    },
    {
     "data": {
      "text/plain": [
       "<keras.callbacks.History at 0x7f90fbadffd0>"
      ]
     },
     "execution_count": 32,
     "metadata": {},
     "output_type": "execute_result"
    }
   ],
   "source": [
    "model.fit_generator(trn_batches, len(x_trn), nb_epoch=4, validation_data=(x_val, y_val))"
   ]
  },
  {
   "cell_type": "code",
   "execution_count": 33,
   "metadata": {
    "collapsed": true
   },
   "outputs": [],
   "source": [
    "model.optimizer.lr=0.01"
   ]
  },
  {
   "cell_type": "code",
   "execution_count": 34,
   "metadata": {
    "collapsed": true
   },
   "outputs": [
    {
     "name": "stdout",
     "output_type": "stream",
     "text": [
      "Epoch 1/10\n",
      "79931/79931 [==============================] - 96s - loss: 0.0201 - acc: 0.9942 - val_loss: 0.0059 - val_acc: 0.9984\n",
      "Epoch 2/10\n",
      "79931/79931 [==============================] - 96s - loss: 0.0207 - acc: 0.9941 - val_loss: 0.0025 - val_acc: 0.9994\n",
      "Epoch 3/10\n",
      "79931/79931 [==============================] - 96s - loss: 0.0165 - acc: 0.9953 - val_loss: 0.0030 - val_acc: 0.9993\n",
      "Epoch 4/10\n",
      "79931/79931 [==============================] - 96s - loss: 0.0143 - acc: 0.9959 - val_loss: 0.0031 - val_acc: 0.9992\n",
      "Epoch 5/10\n",
      "79931/79931 [==============================] - 96s - loss: 0.0144 - acc: 0.9958 - val_loss: 0.0017 - val_acc: 0.9996\n",
      "Epoch 6/10\n",
      "79931/79931 [==============================] - 97s - loss: 0.0119 - acc: 0.9966 - val_loss: 0.0013 - val_acc: 0.9997\n",
      "Epoch 7/10\n",
      "79931/79931 [==============================] - 97s - loss: 0.0131 - acc: 0.9963 - val_loss: 0.0010 - val_acc: 0.9998\n",
      "Epoch 8/10\n",
      "79931/79931 [==============================] - 98s - loss: 0.0112 - acc: 0.9968 - val_loss: 0.0017 - val_acc: 0.9997\n",
      "Epoch 9/10\n",
      "79931/79931 [==============================] - 97s - loss: 0.0099 - acc: 0.9972 - val_loss: 0.0011 - val_acc: 0.9997\n",
      "Epoch 10/10\n",
      "79931/79931 [==============================] - 97s - loss: 0.0106 - acc: 0.9971 - val_loss: 0.0015 - val_acc: 0.9996\n"
     ]
    },
    {
     "data": {
      "text/plain": [
       "<keras.callbacks.History at 0x7f90f8e93750>"
      ]
     },
     "execution_count": 34,
     "metadata": {},
     "output_type": "execute_result"
    }
   ],
   "source": [
    "model.fit_generator(trn_batches, len(x_trn), nb_epoch=10, validation_data=(x_val, y_val))"
   ]
  },
  {
   "cell_type": "code",
   "execution_count": 35,
   "metadata": {
    "collapsed": true
   },
   "outputs": [],
   "source": [
    "model.optimizer.lr=0.001"
   ]
  },
  {
   "cell_type": "code",
   "execution_count": 36,
   "metadata": {
    "collapsed": true
   },
   "outputs": [
    {
     "name": "stdout",
     "output_type": "stream",
     "text": [
      "Epoch 1/10\n",
      "79931/79931 [==============================] - 97s - loss: 0.0094 - acc: 0.9973 - val_loss: 0.0010 - val_acc: 0.9997\n",
      "Epoch 2/10\n",
      "79931/79931 [==============================] - 98s - loss: 0.0088 - acc: 0.9975 - val_loss: 0.0026 - val_acc: 0.9992\n",
      "Epoch 3/10\n",
      "79931/79931 [==============================] - 98s - loss: 0.0090 - acc: 0.9975 - val_loss: 0.0010 - val_acc: 0.9997\n",
      "Epoch 4/10\n",
      "79931/79931 [==============================] - 98s - loss: 0.0083 - acc: 0.9976 - val_loss: 0.0021 - val_acc: 0.9993\n",
      "Epoch 5/10\n",
      "79931/79931 [==============================] - 98s - loss: 0.0092 - acc: 0.9974 - val_loss: 0.0013 - val_acc: 0.9997\n",
      "Epoch 6/10\n",
      "79931/79931 [==============================] - 98s - loss: 0.0081 - acc: 0.9977 - val_loss: 0.0012 - val_acc: 0.9997\n",
      "Epoch 7/10\n",
      "79931/79931 [==============================] - 98s - loss: 0.0071 - acc: 0.9979 - val_loss: 0.0012 - val_acc: 0.9996\n",
      "Epoch 8/10\n",
      "79931/79931 [==============================] - 98s - loss: 0.0081 - acc: 0.9977 - val_loss: 6.7062e-04 - val_acc: 0.9998\n",
      "Epoch 9/10\n",
      "79931/79931 [==============================] - 98s - loss: 0.0070 - acc: 0.9981 - val_loss: 9.1794e-04 - val_acc: 0.9998\n",
      "Epoch 10/10\n",
      "79931/79931 [==============================] - 98s - loss: 0.0077 - acc: 0.9978 - val_loss: 6.6269e-04 - val_acc: 0.9998\n"
     ]
    },
    {
     "data": {
      "text/plain": [
       "<keras.callbacks.History at 0x7f90fbadfe90>"
      ]
     },
     "execution_count": 36,
     "metadata": {},
     "output_type": "execute_result"
    }
   ],
   "source": [
    "model.fit_generator(trn_batches, len(x_trn), nb_epoch=10, validation_data=(x_val, y_val))"
   ]
  },
  {
   "cell_type": "code",
   "execution_count": 53,
   "metadata": {
    "collapsed": true
   },
   "outputs": [],
   "source": [
    "def fit_model():\n",
    "    model = get_model()\n",
    "    model.compile(Adam(), loss='sparse_categorical_crossentropy', metrics=['accuracy'])\n",
    "    model.fit_generator(trn_batches, len(x_trn), nb_epoch=1, validation_data=(x_val, y_val))\n",
    "    \n",
    "    model.optimizer.lr=0.1\n",
    "    model.fit_generator(trn_batches, len(x_trn), nb_epoch=4, validation_data=(x_val, y_val))\n",
    "    \n",
    "    model.optimizer.lr=0.01\n",
    "    model.fit_generator(trn_batches, len(x_trn), nb_epoch=10, validation_data=(x_val, y_val))\n",
    "    \n",
    "    model.optimizer.lr=0.001\n",
    "    model.fit_generator(trn_batches, len(x_trn), nb_epoch=10, validation_data=(x_val, y_val))\n",
    "    return model"
   ]
  },
  {
   "cell_type": "code",
   "execution_count": 55,
   "metadata": {
    "scrolled": true
   },
   "outputs": [
    {
     "name": "stdout",
     "output_type": "stream",
     "text": [
      "Epoch 1/1\n",
      "79931/79931 [==============================] - 94s - loss: 0.6302 - acc: 0.8168 - val_loss: 0.0349 - val_acc: 0.9950\n",
      "Epoch 1/4\n",
      "79931/79931 [==============================] - 94s - loss: 0.0665 - acc: 0.9836 - val_loss: 0.0287 - val_acc: 0.9933\n",
      "Epoch 2/4\n",
      "79931/79931 [==============================] - 94s - loss: 0.0375 - acc: 0.9898 - val_loss: 0.0166 - val_acc: 0.9950\n",
      "Epoch 3/4\n",
      "79931/79931 [==============================] - 94s - loss: 0.0271 - acc: 0.9926 - val_loss: 0.0049 - val_acc: 0.9988\n",
      "Epoch 4/4\n",
      "79931/79931 [==============================] - 95s - loss: 0.0246 - acc: 0.9930 - val_loss: 0.0060 - val_acc: 0.9984\n",
      "Epoch 1/10\n",
      "79931/79931 [==============================] - 95s - loss: 0.0183 - acc: 0.9949 - val_loss: 0.0030 - val_acc: 0.9993\n",
      "Epoch 2/10\n",
      "79931/79931 [==============================] - 95s - loss: 0.0174 - acc: 0.9951 - val_loss: 0.0032 - val_acc: 0.9992\n",
      "Epoch 3/10\n",
      "79931/79931 [==============================] - 95s - loss: 0.0157 - acc: 0.9956 - val_loss: 0.0045 - val_acc: 0.9989\n",
      "Epoch 4/10\n",
      "79931/79931 [==============================] - 96s - loss: 0.0133 - acc: 0.9961 - val_loss: 0.0028 - val_acc: 0.9994\n",
      "Epoch 5/10\n",
      "79931/79931 [==============================] - 96s - loss: 0.0127 - acc: 0.9963 - val_loss: 0.0019 - val_acc: 0.9995\n",
      "Epoch 6/10\n",
      "79931/79931 [==============================] - 97s - loss: 0.0141 - acc: 0.9960 - val_loss: 0.0047 - val_acc: 0.9989\n",
      "Epoch 7/10\n",
      "79931/79931 [==============================] - 97s - loss: 0.0128 - acc: 0.9963 - val_loss: 0.0033 - val_acc: 0.9992\n",
      "Epoch 8/10\n",
      "79931/79931 [==============================] - 97s - loss: 0.0100 - acc: 0.9971 - val_loss: 0.0012 - val_acc: 0.9997\n",
      "Epoch 9/10\n",
      "79931/79931 [==============================] - 97s - loss: 0.0096 - acc: 0.9972 - val_loss: 0.0014 - val_acc: 0.9996\n",
      "Epoch 10/10\n",
      "79931/79931 [==============================] - 98s - loss: 0.0103 - acc: 0.9971 - val_loss: 0.0025 - val_acc: 0.9994\n",
      "Epoch 1/10\n",
      "79931/79931 [==============================] - 97s - loss: 0.0084 - acc: 0.9976 - val_loss: 0.0011 - val_acc: 0.9997\n",
      "Epoch 2/10\n",
      "79931/79931 [==============================] - 97s - loss: 0.0084 - acc: 0.9976 - val_loss: 0.0014 - val_acc: 0.9996\n",
      "Epoch 3/10\n",
      "79931/79931 [==============================] - 97s - loss: 0.0097 - acc: 0.9972 - val_loss: 0.0027 - val_acc: 0.9992\n",
      "Epoch 4/10\n",
      "79931/79931 [==============================] - 97s - loss: 0.0081 - acc: 0.9976 - val_loss: 6.3260e-04 - val_acc: 0.9998\n",
      "Epoch 5/10\n",
      "79931/79931 [==============================] - 97s - loss: 0.0073 - acc: 0.9979 - val_loss: 0.0010 - val_acc: 0.9997\n",
      "Epoch 6/10\n",
      "79931/79931 [==============================] - 97s - loss: 0.0076 - acc: 0.9978 - val_loss: 9.3619e-04 - val_acc: 0.9998\n",
      "Epoch 7/10\n",
      "79931/79931 [==============================] - 98s - loss: 0.0083 - acc: 0.9976 - val_loss: 6.6745e-04 - val_acc: 0.9999\n",
      "Epoch 8/10\n",
      "79931/79931 [==============================] - 97s - loss: 0.0069 - acc: 0.9980 - val_loss: 0.0013 - val_acc: 0.9996\n",
      "Epoch 9/10\n",
      "79931/79931 [==============================] - 97s - loss: 0.0068 - acc: 0.9981 - val_loss: 5.9462e-04 - val_acc: 0.9999\n",
      "Epoch 10/10\n",
      "79931/79931 [==============================] - 97s - loss: 0.0075 - acc: 0.9978 - val_loss: 5.4941e-04 - val_acc: 0.9998\n",
      "Epoch 1/1\n",
      "79931/79931 [==============================] - 99s - loss: 0.6437 - acc: 0.8181 - val_loss: 0.0427 - val_acc: 0.9940\n",
      "Epoch 1/4\n",
      "79931/79931 [==============================] - 99s - loss: 0.0704 - acc: 0.9824 - val_loss: 0.0346 - val_acc: 0.9912\n",
      "Epoch 2/4\n",
      "79931/79931 [==============================] - 100s - loss: 0.0409 - acc: 0.9889 - val_loss: 0.0130 - val_acc: 0.9967\n",
      "Epoch 3/4\n",
      "79931/79931 [==============================] - 99s - loss: 0.0306 - acc: 0.9914 - val_loss: 0.0077 - val_acc: 0.9982\n",
      "Epoch 4/4\n",
      "79931/79931 [==============================] - 100s - loss: 0.0262 - acc: 0.9926 - val_loss: 0.0064 - val_acc: 0.9985\n",
      "Epoch 1/10\n",
      "79931/79931 [==============================] - 99s - loss: 0.0198 - acc: 0.9944 - val_loss: 0.0030 - val_acc: 0.9993\n",
      "Epoch 2/10\n",
      "79931/79931 [==============================] - 100s - loss: 0.0191 - acc: 0.9947 - val_loss: 0.0024 - val_acc: 0.9994\n",
      "Epoch 3/10\n",
      "79931/79931 [==============================] - 100s - loss: 0.0175 - acc: 0.9951 - val_loss: 0.0037 - val_acc: 0.9990\n",
      "Epoch 4/10\n",
      "79931/79931 [==============================] - 100s - loss: 0.0150 - acc: 0.9958 - val_loss: 0.0024 - val_acc: 0.9994\n",
      "Epoch 5/10\n",
      "79931/79931 [==============================] - 100s - loss: 0.0128 - acc: 0.9963 - val_loss: 0.0021 - val_acc: 0.9994\n",
      "Epoch 6/10\n",
      "79931/79931 [==============================] - 99s - loss: 0.0133 - acc: 0.9961 - val_loss: 0.0032 - val_acc: 0.9992\n",
      "Epoch 7/10\n",
      "79931/79931 [==============================] - 100s - loss: 0.0119 - acc: 0.9966 - val_loss: 0.0026 - val_acc: 0.9993\n",
      "Epoch 8/10\n",
      "79931/79931 [==============================] - 100s - loss: 0.0114 - acc: 0.9968 - val_loss: 0.0141 - val_acc: 0.9954\n",
      "Epoch 9/10\n",
      "79931/79931 [==============================] - 99s - loss: 0.0105 - acc: 0.9969 - val_loss: 9.5843e-04 - val_acc: 0.9998\n",
      "Epoch 10/10\n",
      "79931/79931 [==============================] - 100s - loss: 0.0097 - acc: 0.9972 - val_loss: 0.0016 - val_acc: 0.9995\n",
      "Epoch 1/10\n",
      "79931/79931 [==============================] - 100s - loss: 0.0102 - acc: 0.9971 - val_loss: 0.0165 - val_acc: 0.9950\n",
      "Epoch 2/10\n",
      "79931/79931 [==============================] - 99s - loss: 0.0087 - acc: 0.9975 - val_loss: 0.0023 - val_acc: 0.9994\n",
      "Epoch 3/10\n",
      "79931/79931 [==============================] - 100s - loss: 0.0084 - acc: 0.9976 - val_loss: 0.0015 - val_acc: 0.9995\n",
      "Epoch 4/10\n",
      "79931/79931 [==============================] - 100s - loss: 0.0088 - acc: 0.9975 - val_loss: 8.9259e-04 - val_acc: 0.9998\n",
      "Epoch 5/10\n",
      "79931/79931 [==============================] - 99s - loss: 0.0080 - acc: 0.9978 - val_loss: 0.0019 - val_acc: 0.9996\n",
      "Epoch 6/10\n",
      "79931/79931 [==============================] - 100s - loss: 0.0076 - acc: 0.9979 - val_loss: 0.0025 - val_acc: 0.9993\n",
      "Epoch 7/10\n",
      "79931/79931 [==============================] - 100s - loss: 0.0073 - acc: 0.9979 - val_loss: 0.0011 - val_acc: 0.9997\n",
      "Epoch 8/10\n",
      "79931/79931 [==============================] - 99s - loss: 0.0088 - acc: 0.9976 - val_loss: 0.0015 - val_acc: 0.9996\n",
      "Epoch 9/10\n",
      "79931/79931 [==============================] - 99s - loss: 0.0061 - acc: 0.9983 - val_loss: 6.4943e-04 - val_acc: 0.9998\n",
      "Epoch 10/10\n",
      "79931/79931 [==============================] - 100s - loss: 0.0078 - acc: 0.9978 - val_loss: 9.7373e-04 - val_acc: 0.9997\n",
      "Epoch 1/1\n",
      "79931/79931 [==============================] - 98s - loss: 0.6451 - acc: 0.8228 - val_loss: 0.0415 - val_acc: 0.9936\n",
      "Epoch 1/4\n",
      "79931/79931 [==============================] - 99s - loss: 0.0680 - acc: 0.9833 - val_loss: 0.0116 - val_acc: 0.9977\n",
      "Epoch 2/4\n",
      "79931/79931 [==============================] - 98s - loss: 0.0368 - acc: 0.9901 - val_loss: 0.0252 - val_acc: 0.9928\n",
      "Epoch 3/4\n",
      "79931/79931 [==============================] - 98s - loss: 0.0317 - acc: 0.9910 - val_loss: 0.0062 - val_acc: 0.9986\n",
      "Epoch 4/4\n",
      "79931/79931 [==============================] - 98s - loss: 0.0220 - acc: 0.9938 - val_loss: 0.0036 - val_acc: 0.9991\n",
      "Epoch 1/10\n",
      "79931/79931 [==============================] - 99s - loss: 0.0237 - acc: 0.9934 - val_loss: 0.0034 - val_acc: 0.9992\n",
      "Epoch 2/10\n",
      "79931/79931 [==============================] - 98s - loss: 0.0163 - acc: 0.9954 - val_loss: 0.0030 - val_acc: 0.9993\n",
      "Epoch 3/10\n",
      "79931/79931 [==============================] - 98s - loss: 0.0160 - acc: 0.9954 - val_loss: 0.0076 - val_acc: 0.9979\n",
      "Epoch 4/10\n",
      "79931/79931 [==============================] - 98s - loss: 0.0147 - acc: 0.9958 - val_loss: 0.0028 - val_acc: 0.9993\n",
      "Epoch 5/10\n",
      "79931/79931 [==============================] - 98s - loss: 0.0125 - acc: 0.9965 - val_loss: 0.0021 - val_acc: 0.9995\n",
      "Epoch 6/10\n",
      "79931/79931 [==============================] - 97s - loss: 0.0129 - acc: 0.9964 - val_loss: 0.0022 - val_acc: 0.9994\n",
      "Epoch 7/10\n",
      "79931/79931 [==============================] - 98s - loss: 0.0113 - acc: 0.9968 - val_loss: 0.0013 - val_acc: 0.9997\n",
      "Epoch 8/10\n",
      "79931/79931 [==============================] - 98s - loss: 0.0113 - acc: 0.9968 - val_loss: 0.0030 - val_acc: 0.9991\n",
      "Epoch 9/10\n"
     ]
    },
    {
     "name": "stdout",
     "output_type": "stream",
     "text": [
      "79931/79931 [==============================] - 98s - loss: 0.0110 - acc: 0.9969 - val_loss: 0.0013 - val_acc: 0.9996\n",
      "Epoch 10/10\n",
      "79931/79931 [==============================] - 98s - loss: 0.0094 - acc: 0.9974 - val_loss: 0.0014 - val_acc: 0.9996\n",
      "Epoch 1/10\n",
      "79931/79931 [==============================] - 97s - loss: 0.0102 - acc: 0.9972 - val_loss: 0.0014 - val_acc: 0.9996\n",
      "Epoch 2/10\n",
      "79931/79931 [==============================] - 98s - loss: 0.0089 - acc: 0.9975 - val_loss: 0.0030 - val_acc: 0.9991\n",
      "Epoch 3/10\n",
      "79931/79931 [==============================] - 98s - loss: 0.0069 - acc: 0.9980 - val_loss: 0.0014 - val_acc: 0.9996\n",
      "Epoch 4/10\n",
      "79931/79931 [==============================] - 98s - loss: 0.0089 - acc: 0.9975 - val_loss: 0.0013 - val_acc: 0.9997\n",
      "Epoch 5/10\n",
      "79931/79931 [==============================] - 98s - loss: 0.0083 - acc: 0.9977 - val_loss: 0.0014 - val_acc: 0.9997\n",
      "Epoch 6/10\n",
      "79931/79931 [==============================] - 98s - loss: 0.0070 - acc: 0.9980 - val_loss: 7.5386e-04 - val_acc: 0.9998\n",
      "Epoch 7/10\n",
      "79931/79931 [==============================] - 98s - loss: 0.0084 - acc: 0.9977 - val_loss: 9.7635e-04 - val_acc: 0.9998\n",
      "Epoch 8/10\n",
      "79931/79931 [==============================] - 98s - loss: 0.0068 - acc: 0.9980 - val_loss: 8.3539e-04 - val_acc: 0.9998\n",
      "Epoch 9/10\n",
      "79931/79931 [==============================] - 98s - loss: 0.0081 - acc: 0.9977 - val_loss: 6.9825e-04 - val_acc: 0.9998\n",
      "Epoch 10/10\n",
      "79931/79931 [==============================] - 98s - loss: 0.0073 - acc: 0.9980 - val_loss: 6.4255e-04 - val_acc: 0.9999\n",
      "Epoch 1/1\n",
      "79931/79931 [==============================] - 97s - loss: 0.6462 - acc: 0.8082 - val_loss: 0.0471 - val_acc: 0.9937\n",
      "Epoch 1/4\n",
      "79931/79931 [==============================] - 99s - loss: 0.0665 - acc: 0.9838 - val_loss: 0.0141 - val_acc: 0.9973\n",
      "Epoch 2/4\n",
      "79931/79931 [==============================] - 98s - loss: 0.0371 - acc: 0.9903 - val_loss: 0.0063 - val_acc: 0.9986\n",
      "Epoch 3/4\n",
      "79931/79931 [==============================] - 99s - loss: 0.0306 - acc: 0.9916 - val_loss: 0.0051 - val_acc: 0.9989\n",
      "Epoch 4/4\n",
      "79931/79931 [==============================] - 98s - loss: 0.0230 - acc: 0.9935 - val_loss: 0.0040 - val_acc: 0.9990\n",
      "Epoch 1/10\n",
      "79931/79931 [==============================] - 98s - loss: 0.0207 - acc: 0.9940 - val_loss: 0.0028 - val_acc: 0.9993\n",
      "Epoch 2/10\n",
      "79931/79931 [==============================] - 99s - loss: 0.0180 - acc: 0.9949 - val_loss: 0.0030 - val_acc: 0.9993\n",
      "Epoch 3/10\n",
      "79931/79931 [==============================] - 98s - loss: 0.0155 - acc: 0.9956 - val_loss: 0.0052 - val_acc: 0.9986\n",
      "Epoch 4/10\n",
      "79931/79931 [==============================] - 98s - loss: 0.0167 - acc: 0.9953 - val_loss: 0.0038 - val_acc: 0.9990\n",
      "Epoch 5/10\n",
      "79931/79931 [==============================] - 98s - loss: 0.0134 - acc: 0.9962 - val_loss: 0.0016 - val_acc: 0.9996\n",
      "Epoch 6/10\n",
      "79931/79931 [==============================] - 98s - loss: 0.0119 - acc: 0.9966 - val_loss: 0.0031 - val_acc: 0.9992\n",
      "Epoch 7/10\n",
      "79931/79931 [==============================] - 98s - loss: 0.0113 - acc: 0.9967 - val_loss: 0.0021 - val_acc: 0.9995\n",
      "Epoch 8/10\n",
      "79931/79931 [==============================] - 98s - loss: 0.0114 - acc: 0.9967 - val_loss: 0.0021 - val_acc: 0.9996\n",
      "Epoch 9/10\n",
      "79931/79931 [==============================] - 98s - loss: 0.0109 - acc: 0.9969 - val_loss: 0.0032 - val_acc: 0.9992\n",
      "Epoch 10/10\n",
      "79931/79931 [==============================] - 98s - loss: 0.0102 - acc: 0.9971 - val_loss: 0.0014 - val_acc: 0.9996\n",
      "Epoch 1/10\n",
      "79931/79931 [==============================] - 98s - loss: 0.0092 - acc: 0.9973 - val_loss: 0.0012 - val_acc: 0.9997\n",
      "Epoch 2/10\n",
      "79931/79931 [==============================] - 98s - loss: 0.0094 - acc: 0.9973 - val_loss: 0.0011 - val_acc: 0.9997\n",
      "Epoch 3/10\n",
      "79931/79931 [==============================] - 98s - loss: 0.0081 - acc: 0.9977 - val_loss: 0.0022 - val_acc: 0.9994\n",
      "Epoch 4/10\n",
      "79931/79931 [==============================] - 99s - loss: 0.0081 - acc: 0.9977 - val_loss: 0.0026 - val_acc: 0.9993\n",
      "Epoch 5/10\n",
      "79931/79931 [==============================] - 98s - loss: 0.0079 - acc: 0.9977 - val_loss: 7.5359e-04 - val_acc: 0.9998\n",
      "Epoch 6/10\n",
      "79931/79931 [==============================] - 98s - loss: 0.0073 - acc: 0.9979 - val_loss: 0.0023 - val_acc: 0.9993\n",
      "Epoch 7/10\n",
      "79931/79931 [==============================] - 98s - loss: 0.0074 - acc: 0.9979 - val_loss: 0.0013 - val_acc: 0.9997\n",
      "Epoch 8/10\n",
      "79931/79931 [==============================] - 98s - loss: 0.0080 - acc: 0.9978 - val_loss: 0.0013 - val_acc: 0.9996\n",
      "Epoch 9/10\n",
      "79931/79931 [==============================] - 98s - loss: 0.0068 - acc: 0.9980 - val_loss: 0.0019 - val_acc: 0.9995\n",
      "Epoch 10/10\n",
      "79931/79931 [==============================] - 99s - loss: 0.0064 - acc: 0.9982 - val_loss: 8.0800e-04 - val_acc: 0.9998\n",
      "Epoch 1/1\n",
      "79931/79931 [==============================] - 98s - loss: 0.6008 - acc: 0.8353 - val_loss: 0.0415 - val_acc: 0.9935\n",
      "Epoch 1/4\n",
      "79931/79931 [==============================] - 100s - loss: 0.0636 - acc: 0.9841 - val_loss: 0.0110 - val_acc: 0.9981\n",
      "Epoch 2/4\n",
      "79931/79931 [==============================] - 99s - loss: 0.0373 - acc: 0.9898 - val_loss: 0.0070 - val_acc: 0.9985\n",
      "Epoch 3/4\n",
      "79931/79931 [==============================] - 98s - loss: 0.0278 - acc: 0.9922 - val_loss: 0.0068 - val_acc: 0.9983\n",
      "Epoch 4/4\n",
      "79931/79931 [==============================] - 98s - loss: 0.0236 - acc: 0.9933 - val_loss: 0.0087 - val_acc: 0.9977\n",
      "Epoch 1/10\n",
      "79931/79931 [==============================] - 99s - loss: 0.0203 - acc: 0.9942 - val_loss: 0.0086 - val_acc: 0.9973\n",
      "Epoch 2/10\n",
      "79931/79931 [==============================] - 99s - loss: 0.0188 - acc: 0.9945 - val_loss: 0.0033 - val_acc: 0.9990\n",
      "Epoch 3/10\n",
      "79931/79931 [==============================] - 99s - loss: 0.0160 - acc: 0.9954 - val_loss: 0.0021 - val_acc: 0.9995\n",
      "Epoch 4/10\n",
      "79931/79931 [==============================] - 98s - loss: 0.0146 - acc: 0.9960 - val_loss: 0.0025 - val_acc: 0.9994\n",
      "Epoch 5/10\n",
      "79931/79931 [==============================] - 98s - loss: 0.0123 - acc: 0.9963 - val_loss: 0.0061 - val_acc: 0.9984\n",
      "Epoch 6/10\n",
      "79931/79931 [==============================] - 99s - loss: 0.0116 - acc: 0.9967 - val_loss: 0.0017 - val_acc: 0.9996\n",
      "Epoch 7/10\n",
      "79931/79931 [==============================] - 98s - loss: 0.0120 - acc: 0.9965 - val_loss: 0.0022 - val_acc: 0.9994\n",
      "Epoch 8/10\n",
      "79931/79931 [==============================] - 99s - loss: 0.0107 - acc: 0.9969 - val_loss: 0.0031 - val_acc: 0.9993\n",
      "Epoch 9/10\n",
      "79931/79931 [==============================] - 98s - loss: 0.0106 - acc: 0.9970 - val_loss: 0.0016 - val_acc: 0.9996\n",
      "Epoch 10/10\n",
      "79931/79931 [==============================] - 99s - loss: 0.0106 - acc: 0.9970 - val_loss: 0.0024 - val_acc: 0.9993\n",
      "Epoch 1/10\n",
      "79931/79931 [==============================] - 98s - loss: 0.0083 - acc: 0.9976 - val_loss: 0.0024 - val_acc: 0.9993\n",
      "Epoch 2/10\n",
      "79931/79931 [==============================] - 99s - loss: 0.0092 - acc: 0.9974 - val_loss: 0.0012 - val_acc: 0.9997\n",
      "Epoch 3/10\n",
      "79931/79931 [==============================] - 98s - loss: 0.0100 - acc: 0.9971 - val_loss: 0.0013 - val_acc: 0.9998\n",
      "Epoch 4/10\n",
      "79931/79931 [==============================] - 99s - loss: 0.0076 - acc: 0.9979 - val_loss: 0.0021 - val_acc: 0.9995\n",
      "Epoch 5/10\n",
      "79931/79931 [==============================] - 99s - loss: 0.0077 - acc: 0.9979 - val_loss: 0.0019 - val_acc: 0.9995\n",
      "Epoch 6/10\n",
      "79931/79931 [==============================] - 98s - loss: 0.0084 - acc: 0.9976 - val_loss: 0.0012 - val_acc: 0.9997\n",
      "Epoch 7/10\n",
      "79931/79931 [==============================] - 98s - loss: 0.0062 - acc: 0.9982 - val_loss: 0.0013 - val_acc: 0.9997\n",
      "Epoch 8/10\n",
      "79931/79931 [==============================] - 98s - loss: 0.0073 - acc: 0.9980 - val_loss: 0.0012 - val_acc: 0.9997\n",
      "Epoch 9/10\n",
      "79931/79931 [==============================] - 98s - loss: 0.0071 - acc: 0.9979 - val_loss: 0.0026 - val_acc: 0.9993\n",
      "Epoch 10/10\n",
      "79931/79931 [==============================] - 98s - loss: 0.0076 - acc: 0.9979 - val_loss: 8.0483e-04 - val_acc: 0.9998\n",
      "Epoch 1/1\n",
      "79931/79931 [==============================] - 98s - loss: 0.6225 - acc: 0.8302 - val_loss: 0.0615 - val_acc: 0.9874\n",
      "Epoch 1/4\n"
     ]
    },
    {
     "name": "stdout",
     "output_type": "stream",
     "text": [
      "79931/79931 [==============================] - 99s - loss: 0.0696 - acc: 0.9826 - val_loss: 0.0145 - val_acc: 0.9969\n",
      "Epoch 2/4\n",
      "79931/79931 [==============================] - 99s - loss: 0.0371 - acc: 0.9901 - val_loss: 0.0106 - val_acc: 0.9975\n",
      "Epoch 3/4\n",
      "79931/79931 [==============================] - 99s - loss: 0.0285 - acc: 0.9921 - val_loss: 0.0052 - val_acc: 0.9988\n",
      "Epoch 4/4\n",
      "79931/79931 [==============================] - 100s - loss: 0.0256 - acc: 0.9929 - val_loss: 0.0035 - val_acc: 0.9991\n",
      "Epoch 1/10\n",
      "79931/79931 [==============================] - 99s - loss: 0.0209 - acc: 0.9939 - val_loss: 0.0067 - val_acc: 0.9982\n",
      "Epoch 2/10\n",
      "79931/79931 [==============================] - 99s - loss: 0.0173 - acc: 0.9950 - val_loss: 0.0054 - val_acc: 0.9984\n",
      "Epoch 3/10\n",
      "79931/79931 [==============================] - 99s - loss: 0.0175 - acc: 0.9950 - val_loss: 0.0029 - val_acc: 0.9993\n",
      "Epoch 4/10\n",
      "79931/79931 [==============================] - 99s - loss: 0.0143 - acc: 0.9958 - val_loss: 0.0023 - val_acc: 0.9995\n",
      "Epoch 5/10\n",
      "79931/79931 [==============================] - 99s - loss: 0.0124 - acc: 0.9964 - val_loss: 0.0023 - val_acc: 0.9993\n",
      "Epoch 6/10\n",
      "79931/79931 [==============================] - 99s - loss: 0.0120 - acc: 0.9965 - val_loss: 0.0017 - val_acc: 0.9996\n",
      "Epoch 7/10\n",
      "79931/79931 [==============================] - 99s - loss: 0.0117 - acc: 0.9966 - val_loss: 0.0020 - val_acc: 0.9995\n",
      "Epoch 8/10\n",
      "79931/79931 [==============================] - 99s - loss: 0.0115 - acc: 0.9968 - val_loss: 0.0021 - val_acc: 0.9994\n",
      "Epoch 9/10\n",
      "79931/79931 [==============================] - 98s - loss: 0.0104 - acc: 0.9971 - val_loss: 0.0016 - val_acc: 0.9996\n",
      "Epoch 10/10\n",
      "79931/79931 [==============================] - 99s - loss: 0.0103 - acc: 0.9970 - val_loss: 0.0013 - val_acc: 0.9997\n",
      "Epoch 1/10\n",
      "79931/79931 [==============================] - 99s - loss: 0.0085 - acc: 0.9975 - val_loss: 8.8736e-04 - val_acc: 0.9998\n",
      "Epoch 2/10\n",
      "79931/79931 [==============================] - 99s - loss: 0.0097 - acc: 0.9973 - val_loss: 0.0013 - val_acc: 0.9996\n",
      "Epoch 3/10\n",
      "79931/79931 [==============================] - 99s - loss: 0.0094 - acc: 0.9974 - val_loss: 0.0017 - val_acc: 0.9996\n",
      "Epoch 4/10\n",
      "79931/79931 [==============================] - 98s - loss: 0.0083 - acc: 0.9977 - val_loss: 0.0012 - val_acc: 0.9997\n",
      "Epoch 5/10\n",
      "79931/79931 [==============================] - 99s - loss: 0.0086 - acc: 0.9976 - val_loss: 8.1662e-04 - val_acc: 0.9998\n",
      "Epoch 6/10\n",
      "79931/79931 [==============================] - 99s - loss: 0.0081 - acc: 0.9977 - val_loss: 7.7088e-04 - val_acc: 0.9998\n",
      "Epoch 7/10\n",
      "79931/79931 [==============================] - 98s - loss: 0.0074 - acc: 0.9979 - val_loss: 0.0016 - val_acc: 0.9995\n",
      "Epoch 8/10\n",
      "79931/79931 [==============================] - 99s - loss: 0.0079 - acc: 0.9978 - val_loss: 8.2203e-04 - val_acc: 0.9998\n",
      "Epoch 9/10\n",
      "79931/79931 [==============================] - 98s - loss: 0.0061 - acc: 0.9982 - val_loss: 0.0012 - val_acc: 0.9996\n",
      "Epoch 10/10\n",
      "79931/79931 [==============================] - 100s - loss: 0.0069 - acc: 0.9980 - val_loss: 7.9200e-04 - val_acc: 0.9998\n"
     ]
    }
   ],
   "source": [
    "models = [fit_model() for i in range(6)]"
   ]
  },
  {
   "cell_type": "code",
   "execution_count": 56,
   "metadata": {
    "collapsed": true
   },
   "outputs": [],
   "source": [
    "for i, m in enumerate(models):\n",
    "    m.save_weights(path+'mf'+str(i)+'.wgt')"
   ]
  },
  {
   "cell_type": "code",
   "execution_count": 112,
   "metadata": {
    "collapsed": true
   },
   "outputs": [],
   "source": [
    "all_preds = np.stack([m.predict(x_val, batch_size=256) for m in models])"
   ]
  },
  {
   "cell_type": "code",
   "execution_count": 113,
   "metadata": {
    "collapsed": true
   },
   "outputs": [],
   "source": [
    "avg_preds = all_preds.mean(axis=0)\n",
    "\n",
    "preds = np.array([[np.argmax(i) for i in p] for p in avg_preds])\n",
    "close = np.isclose(preds, actual)\n",
    "wrong = np.where(np.invert(close))[0]"
   ]
  },
  {
   "cell_type": "code",
   "execution_count": 65,
   "metadata": {
    "collapsed": true
   },
   "outputs": [
    {
     "name": "stdout",
     "output_type": "stream",
     "text": [
      "____________________________________________________________________________________________________\n",
      "Layer (type)                     Output Shape          Param #     Connected to                     \n",
      "====================================================================================================\n",
      "batchnormalization_9 (BatchNorma (None, 1, 30, 90)     4           batchnormalization_input_2[0][0] \n",
      "____________________________________________________________________________________________________\n",
      "convolution2d_5 (Convolution2D)  (None, 32, 28, 88)    320         batchnormalization_9[0][0]       \n",
      "____________________________________________________________________________________________________\n",
      "batchnormalization_10 (BatchNorm (None, 32, 28, 88)    128         convolution2d_5[0][0]            \n",
      "____________________________________________________________________________________________________\n",
      "convolution2d_6 (Convolution2D)  (None, 32, 26, 86)    9248        batchnormalization_10[0][0]      \n",
      "____________________________________________________________________________________________________\n",
      "batchnormalization_11 (BatchNorm (None, 32, 26, 86)    128         convolution2d_6[0][0]            \n",
      "____________________________________________________________________________________________________\n",
      "maxpooling2d_3 (MaxPooling2D)    (None, 32, 13, 43)    0           batchnormalization_11[0][0]      \n",
      "____________________________________________________________________________________________________\n",
      "convolution2d_7 (Convolution2D)  (None, 64, 11, 41)    18496       maxpooling2d_3[0][0]             \n",
      "____________________________________________________________________________________________________\n",
      "batchnormalization_12 (BatchNorm (None, 64, 11, 41)    256         convolution2d_7[0][0]            \n",
      "____________________________________________________________________________________________________\n",
      "convolution2d_8 (Convolution2D)  (None, 64, 9, 39)     36928       batchnormalization_12[0][0]      \n",
      "____________________________________________________________________________________________________\n",
      "batchnormalization_13 (BatchNorm (None, 64, 9, 39)     256         convolution2d_8[0][0]            \n",
      "____________________________________________________________________________________________________\n",
      "maxpooling2d_4 (MaxPooling2D)    (None, 64, 4, 19)     0           batchnormalization_13[0][0]      \n",
      "____________________________________________________________________________________________________\n",
      "flatten_2 (Flatten)              (None, 4864)          0           maxpooling2d_4[0][0]             \n",
      "____________________________________________________________________________________________________\n",
      "batchnormalization_14 (BatchNorm (None, 4864)          19456       flatten_2[0][0]                  \n",
      "____________________________________________________________________________________________________\n",
      "dense_4 (Dense)                  (None, 70)            340550      batchnormalization_14[0][0]      \n",
      "____________________________________________________________________________________________________\n",
      "batchnormalization_15 (BatchNorm (None, 70)            280         dense_4[0][0]                    \n",
      "____________________________________________________________________________________________________\n",
      "dense_5 (Dense)                  (None, 70)            4970        batchnormalization_15[0][0]      \n",
      "____________________________________________________________________________________________________\n",
      "batchnormalization_16 (BatchNorm (None, 70)            280         dense_5[0][0]                    \n",
      "____________________________________________________________________________________________________\n",
      "reshape_2 (Reshape)              (None, 7, 10)         0           batchnormalization_16[0][0]      \n",
      "____________________________________________________________________________________________________\n",
      "timedistributed_2 (TimeDistribut (None, 7, 16)         176         reshape_2[0][0]                  \n",
      "====================================================================================================\n",
      "Total params: 431,476\n",
      "Trainable params: 421,082\n",
      "Non-trainable params: 10,394\n",
      "____________________________________________________________________________________________________\n"
     ]
    }
   ],
   "source": [
    "model.summary()"
   ]
  },
  {
   "cell_type": "code",
   "execution_count": 79,
   "metadata": {},
   "outputs": [],
   "source": [
    "model = Sequential([\n",
    "            BatchNormalization(axis=1, input_shape=(1,30,90)),\n",
    "            #Lambda(norm_input, input_shape=(1,30,90), output_shape=(1,30,90)),\n",
    "            Convolution2D(32,3,3, activation='relu'),\n",
    "            BatchNormalization(axis=1),\n",
    "            Convolution2D(32,3,3, activation='relu'),\n",
    "            BatchNormalization(axis=1),\n",
    "            MaxPooling2D(),\n",
    "            Convolution2D(64,3,3, activation='relu'),\n",
    "            BatchNormalization(axis=1),\n",
    "            Convolution2D(64,3,3, activation='relu'),\n",
    "            BatchNormalization(axis=1),\n",
    "            MaxPooling2D(),\n",
    "\n",
    "            Flatten(),\n",
    "            BatchNormalization(),\n",
    "\n",
    "            \n",
    "            Dense(70, activation='relu'),\n",
    "            BatchNormalization(),\n",
    "\n",
    "            Dense(70, activation='relu'),\n",
    "            BatchNormalization(),\n",
    "        \n",
    "            Reshape((7, 10)),\n",
    "            TimeDistributed(Dense(16, activation='softmax'))\n",
    "        ])\n",
    "model.compile(Adam(), loss='sparse_categorical_crossentropy', metrics=['accuracy'])"
   ]
  },
  {
   "cell_type": "code",
   "execution_count": 68,
   "metadata": {
    "collapsed": true
   },
   "outputs": [
    {
     "name": "stdout",
     "output_type": "stream",
     "text": [
      "____________________________________________________________________________________________________\n",
      "Layer (type)                     Output Shape          Param #     Connected to                     \n",
      "====================================================================================================\n",
      "batchnormalization_65 (BatchNorm (None, 1, 30, 90)     4           batchnormalization_input_9[0][0] \n",
      "____________________________________________________________________________________________________\n",
      "convolution2d_33 (Convolution2D) (None, 32, 28, 88)    320         batchnormalization_65[0][0]      \n",
      "____________________________________________________________________________________________________\n",
      "batchnormalization_66 (BatchNorm (None, 32, 28, 88)    128         convolution2d_33[0][0]           \n",
      "____________________________________________________________________________________________________\n",
      "convolution2d_34 (Convolution2D) (None, 32, 26, 86)    9248        batchnormalization_66[0][0]      \n",
      "____________________________________________________________________________________________________\n",
      "batchnormalization_67 (BatchNorm (None, 32, 26, 86)    128         convolution2d_34[0][0]           \n",
      "____________________________________________________________________________________________________\n",
      "maxpooling2d_17 (MaxPooling2D)   (None, 32, 13, 43)    0           batchnormalization_67[0][0]      \n",
      "____________________________________________________________________________________________________\n",
      "convolution2d_35 (Convolution2D) (None, 64, 11, 41)    18496       maxpooling2d_17[0][0]            \n",
      "____________________________________________________________________________________________________\n",
      "batchnormalization_68 (BatchNorm (None, 64, 11, 41)    256         convolution2d_35[0][0]           \n",
      "____________________________________________________________________________________________________\n",
      "convolution2d_36 (Convolution2D) (None, 64, 9, 39)     36928       batchnormalization_68[0][0]      \n",
      "____________________________________________________________________________________________________\n",
      "batchnormalization_69 (BatchNorm (None, 64, 9, 39)     256         convolution2d_36[0][0]           \n",
      "____________________________________________________________________________________________________\n",
      "maxpooling2d_18 (MaxPooling2D)   (None, 64, 4, 19)     0           batchnormalization_69[0][0]      \n",
      "____________________________________________________________________________________________________\n",
      "flatten_9 (Flatten)              (None, 4864)          0           maxpooling2d_18[0][0]            \n",
      "____________________________________________________________________________________________________\n",
      "batchnormalization_70 (BatchNorm (None, 4864)          19456       flatten_9[0][0]                  \n",
      "____________________________________________________________________________________________________\n",
      "dense_25 (Dense)                 (None, 140)           681100      batchnormalization_70[0][0]      \n",
      "____________________________________________________________________________________________________\n",
      "batchnormalization_71 (BatchNorm (None, 140)           560         dense_25[0][0]                   \n",
      "____________________________________________________________________________________________________\n",
      "dense_26 (Dense)                 (None, 140)           19740       batchnormalization_71[0][0]      \n",
      "____________________________________________________________________________________________________\n",
      "batchnormalization_72 (BatchNorm (None, 140)           560         dense_26[0][0]                   \n",
      "____________________________________________________________________________________________________\n",
      "reshape_9 (Reshape)              (None, 7, 20)         0           batchnormalization_72[0][0]      \n",
      "____________________________________________________________________________________________________\n",
      "timedistributed_9 (TimeDistribut (None, 7, 16)         336         reshape_9[0][0]                  \n",
      "====================================================================================================\n",
      "Total params: 787,516\n",
      "Trainable params: 776,842\n",
      "Non-trainable params: 10,674\n",
      "____________________________________________________________________________________________________\n"
     ]
    }
   ],
   "source": [
    "model.summary()"
   ]
  },
  {
   "cell_type": "code",
   "execution_count": 80,
   "metadata": {
    "collapsed": true
   },
   "outputs": [
    {
     "name": "stdout",
     "output_type": "stream",
     "text": [
      "Epoch 1/1\n",
      "79931/79931 [==============================] - 95s - loss: 0.6335 - acc: 0.8265 - val_loss: 0.0653 - val_acc: 0.9875\n",
      "Epoch 1/4\n",
      "79931/79931 [==============================] - 95s - loss: 0.0617 - acc: 0.9851 - val_loss: 0.0151 - val_acc: 0.9968\n",
      "Epoch 2/4\n",
      "79931/79931 [==============================] - 95s - loss: 0.0379 - acc: 0.9898 - val_loss: 0.0057 - val_acc: 0.9988\n",
      "Epoch 3/4\n",
      "79931/79931 [==============================] - 95s - loss: 0.0281 - acc: 0.9922 - val_loss: 0.0046 - val_acc: 0.9989\n",
      "Epoch 4/4\n",
      "79931/79931 [==============================] - 96s - loss: 0.0231 - acc: 0.9935 - val_loss: 0.0087 - val_acc: 0.9980\n",
      "Epoch 1/12\n",
      "79931/79931 [==============================] - 96s - loss: 0.0203 - acc: 0.9942 - val_loss: 0.0030 - val_acc: 0.9992\n",
      "Epoch 2/12\n",
      "79931/79931 [==============================] - 96s - loss: 0.0175 - acc: 0.9950 - val_loss: 0.0075 - val_acc: 0.9982\n",
      "Epoch 3/12\n",
      "79931/79931 [==============================] - 97s - loss: 0.0160 - acc: 0.9954 - val_loss: 0.0031 - val_acc: 0.9992\n",
      "Epoch 4/12\n",
      "79931/79931 [==============================] - 97s - loss: 0.0167 - acc: 0.9952 - val_loss: 0.0017 - val_acc: 0.9996\n",
      "Epoch 5/12\n",
      "79931/79931 [==============================] - 98s - loss: 0.0142 - acc: 0.9959 - val_loss: 0.0041 - val_acc: 0.9988\n",
      "Epoch 6/12\n",
      "79931/79931 [==============================] - 98s - loss: 0.0116 - acc: 0.9967 - val_loss: 0.0020 - val_acc: 0.9996\n",
      "Epoch 7/12\n",
      "79931/79931 [==============================] - 98s - loss: 0.0104 - acc: 0.9970 - val_loss: 0.0017 - val_acc: 0.9996\n",
      "Epoch 8/12\n",
      "79931/79931 [==============================] - 98s - loss: 0.0107 - acc: 0.9970 - val_loss: 0.0018 - val_acc: 0.9996\n",
      "Epoch 9/12\n",
      "79931/79931 [==============================] - 98s - loss: 0.0106 - acc: 0.9969 - val_loss: 0.0059 - val_acc: 0.9984\n",
      "Epoch 10/12\n",
      "79931/79931 [==============================] - 99s - loss: 0.0108 - acc: 0.9969 - val_loss: 0.0012 - val_acc: 0.9997\n",
      "Epoch 11/12\n",
      "79931/79931 [==============================] - 98s - loss: 0.0102 - acc: 0.9972 - val_loss: 8.9833e-04 - val_acc: 0.9998\n",
      "Epoch 12/12\n",
      "79931/79931 [==============================] - 99s - loss: 0.0089 - acc: 0.9975 - val_loss: 7.9078e-04 - val_acc: 0.9998\n",
      "Epoch 1/20\n",
      "79931/79931 [==============================] - 99s - loss: 0.0082 - acc: 0.9977 - val_loss: 0.0012 - val_acc: 0.9997\n",
      "Epoch 2/20\n",
      "79931/79931 [==============================] - 99s - loss: 0.0084 - acc: 0.9976 - val_loss: 9.9086e-04 - val_acc: 0.9997\n",
      "Epoch 3/20\n",
      "79931/79931 [==============================] - 98s - loss: 0.0086 - acc: 0.9976 - val_loss: 0.0013 - val_acc: 0.9997\n",
      "Epoch 4/20\n",
      "79931/79931 [==============================] - 99s - loss: 0.0077 - acc: 0.9979 - val_loss: 9.5993e-04 - val_acc: 0.9997\n",
      "Epoch 5/20\n",
      "79931/79931 [==============================] - 98s - loss: 0.0074 - acc: 0.9979 - val_loss: 7.9797e-04 - val_acc: 0.9998\n",
      "Epoch 6/20\n",
      "79931/79931 [==============================] - 99s - loss: 0.0081 - acc: 0.9978 - val_loss: 0.0016 - val_acc: 0.9995\n",
      "Epoch 7/20\n",
      "79931/79931 [==============================] - 98s - loss: 0.0070 - acc: 0.9980 - val_loss: 0.0016 - val_acc: 0.9996\n",
      "Epoch 8/20\n",
      "79931/79931 [==============================] - 98s - loss: 0.0072 - acc: 0.9979 - val_loss: 0.0017 - val_acc: 0.9996\n",
      "Epoch 9/20\n",
      "79931/79931 [==============================] - 99s - loss: 0.0069 - acc: 0.9980 - val_loss: 0.0022 - val_acc: 0.9995\n",
      "Epoch 10/20\n",
      "79931/79931 [==============================] - 98s - loss: 0.0068 - acc: 0.9981 - val_loss: 0.0010 - val_acc: 0.9998\n",
      "Epoch 11/20\n",
      "79931/79931 [==============================] - 99s - loss: 0.0073 - acc: 0.9980 - val_loss: 0.0012 - val_acc: 0.9997\n",
      "Epoch 12/20\n",
      "79931/79931 [==============================] - 98s - loss: 0.0062 - acc: 0.9982 - val_loss: 7.0733e-04 - val_acc: 0.9998\n",
      "Epoch 13/20\n",
      "79931/79931 [==============================] - 98s - loss: 0.0061 - acc: 0.9982 - val_loss: 4.9266e-04 - val_acc: 0.9999\n",
      "Epoch 14/20\n",
      "79931/79931 [==============================] - 98s - loss: 0.0074 - acc: 0.9978 - val_loss: 6.2524e-04 - val_acc: 0.9998\n",
      "Epoch 15/20\n",
      "79931/79931 [==============================] - 99s - loss: 0.0058 - acc: 0.9983 - val_loss: 8.7891e-04 - val_acc: 0.9998\n",
      "Epoch 16/20\n",
      "79931/79931 [==============================] - 98s - loss: 0.0059 - acc: 0.9983 - val_loss: 0.0013 - val_acc: 0.9996\n",
      "Epoch 17/20\n",
      "79931/79931 [==============================] - 98s - loss: 0.0050 - acc: 0.9986 - val_loss: 0.0014 - val_acc: 0.9996\n",
      "Epoch 18/20\n",
      "79931/79931 [==============================] - 98s - loss: 0.0053 - acc: 0.9985 - val_loss: 5.9009e-04 - val_acc: 0.9999\n",
      "Epoch 19/20\n",
      "79931/79931 [==============================] - 98s - loss: 0.0056 - acc: 0.9984 - val_loss: 5.9375e-04 - val_acc: 0.9998\n",
      "Epoch 20/20\n",
      "79931/79931 [==============================] - 98s - loss: 0.0054 - acc: 0.9985 - val_loss: 6.3120e-04 - val_acc: 0.9998\n"
     ]
    },
    {
     "data": {
      "text/plain": [
       "<keras.callbacks.History at 0x7f90cb5c9750>"
      ]
     },
     "execution_count": 80,
     "metadata": {},
     "output_type": "execute_result"
    }
   ],
   "source": [
    "model.compile(Adam(), loss='sparse_categorical_crossentropy', metrics=['accuracy'])\n",
    "model.fit_generator(trn_batches, len(x_trn), nb_epoch=1, validation_data=(x_val, y_val))\n",
    "\n",
    "model.optimizer.lr=0.1\n",
    "model.fit_generator(trn_batches, len(x_trn), nb_epoch=4, validation_data=(x_val, y_val))\n",
    "\n",
    "model.optimizer.lr=0.01\n",
    "model.fit_generator(trn_batches, len(x_trn), nb_epoch=12, validation_data=(x_val, y_val))\n",
    "\n",
    "model.optimizer.lr=0.001\n",
    "model.fit_generator(trn_batches, len(x_trn), nb_epoch=20, validation_data=(x_val, y_val))"
   ]
  },
  {
   "cell_type": "code",
   "execution_count": 81,
   "metadata": {},
   "outputs": [
    {
     "name": "stdout",
     "output_type": "stream",
     "text": [
      "Epoch 1/10\n",
      "79931/79931 [==============================] - 95s - loss: 0.0052 - acc: 0.9985 - val_loss: 3.8324e-04 - val_acc: 0.9999\n",
      "Epoch 2/10\n",
      "79931/79931 [==============================] - 97s - loss: 0.0055 - acc: 0.9985 - val_loss: 5.7890e-04 - val_acc: 0.9998\n",
      "Epoch 3/10\n",
      "79931/79931 [==============================] - 97s - loss: 0.0046 - acc: 0.9987 - val_loss: 0.0027 - val_acc: 0.9992\n",
      "Epoch 4/10\n",
      "79931/79931 [==============================] - 98s - loss: 0.0054 - acc: 0.9985 - val_loss: 6.5734e-04 - val_acc: 0.9998\n",
      "Epoch 5/10\n",
      "79931/79931 [==============================] - 98s - loss: 0.0053 - acc: 0.9985 - val_loss: 4.4704e-04 - val_acc: 0.9999\n",
      "Epoch 6/10\n",
      "79931/79931 [==============================] - 98s - loss: 0.0053 - acc: 0.9985 - val_loss: 8.0786e-04 - val_acc: 0.9998\n",
      "Epoch 7/10\n",
      "79931/79931 [==============================] - 97s - loss: 0.0047 - acc: 0.9987 - val_loss: 4.2752e-04 - val_acc: 0.9999\n",
      "Epoch 8/10\n",
      "79931/79931 [==============================] - 98s - loss: 0.0051 - acc: 0.9986 - val_loss: 8.2622e-04 - val_acc: 0.9998\n",
      "Epoch 9/10\n",
      "79931/79931 [==============================] - 97s - loss: 0.0046 - acc: 0.9987 - val_loss: 5.7329e-04 - val_acc: 0.9998\n",
      "Epoch 10/10\n",
      "79931/79931 [==============================] - 98s - loss: 0.0040 - acc: 0.9988 - val_loss: 6.5905e-04 - val_acc: 0.9998\n"
     ]
    },
    {
     "data": {
      "text/plain": [
       "<keras.callbacks.History at 0x7f90c14589d0>"
      ]
     },
     "execution_count": 81,
     "metadata": {},
     "output_type": "execute_result"
    }
   ],
   "source": [
    "model.optimizer.lr=0.0001\n",
    "model.fit_generator(trn_batches, len(x_trn), nb_epoch=10, validation_data=(x_val, y_val))"
   ]
  },
  {
   "cell_type": "code",
   "execution_count": 71,
   "metadata": {
    "collapsed": true
   },
   "outputs": [
    {
     "name": "stdout",
     "output_type": "stream",
     "text": [
      "Epoch 1/10\n",
      "79931/79931 [==============================] - 98s - loss: 0.0047 - acc: 0.9985 - val_loss: 6.1415e-04 - val_acc: 0.9998\n",
      "Epoch 2/10\n",
      "79931/79931 [==============================] - 100s - loss: 0.0062 - acc: 0.9981 - val_loss: 7.4318e-04 - val_acc: 0.9998\n",
      "Epoch 3/10\n",
      "79931/79931 [==============================] - 100s - loss: 0.0053 - acc: 0.9984 - val_loss: 0.0011 - val_acc: 0.9996\n",
      "Epoch 4/10\n",
      "79931/79931 [==============================] - 100s - loss: 0.0051 - acc: 0.9984 - val_loss: 4.0498e-04 - val_acc: 0.9999\n",
      "Epoch 5/10\n",
      "79931/79931 [==============================] - 100s - loss: 0.0051 - acc: 0.9985 - val_loss: 6.0496e-04 - val_acc: 0.9998\n",
      "Epoch 6/10\n",
      "79931/79931 [==============================] - 100s - loss: 0.0051 - acc: 0.9984 - val_loss: 4.1483e-04 - val_acc: 0.9999\n",
      "Epoch 7/10\n",
      "79931/79931 [==============================] - 100s - loss: 0.0055 - acc: 0.9984 - val_loss: 0.0010 - val_acc: 0.9998\n",
      "Epoch 8/10\n",
      "79931/79931 [==============================] - 100s - loss: 0.0046 - acc: 0.9986 - val_loss: 7.0035e-04 - val_acc: 0.9998\n",
      "Epoch 9/10\n",
      "79931/79931 [==============================] - 100s - loss: 0.0046 - acc: 0.9985 - val_loss: 8.3854e-04 - val_acc: 0.9998\n",
      "Epoch 10/10\n",
      "79931/79931 [==============================] - 100s - loss: 0.0043 - acc: 0.9987 - val_loss: 6.1556e-04 - val_acc: 0.9998\n"
     ]
    },
    {
     "data": {
      "text/plain": [
       "<keras.callbacks.History at 0x7f90cae9bcd0>"
      ]
     },
     "execution_count": 71,
     "metadata": {},
     "output_type": "execute_result"
    }
   ],
   "source": [
    "model.fit_generator(trn_batches, len(x_trn), nb_epoch=10, validation_data=(x_val, y_val))"
   ]
  },
  {
   "cell_type": "code",
   "execution_count": 72,
   "metadata": {
    "collapsed": true
   },
   "outputs": [
    {
     "name": "stdout",
     "output_type": "stream",
     "text": [
      "Epoch 1/10\n",
      "79931/79931 [==============================] - 98s - loss: 0.0040 - acc: 0.9987 - val_loss: 5.6326e-04 - val_acc: 0.9998\n",
      "Epoch 2/10\n",
      "79931/79931 [==============================] - 100s - loss: 0.0051 - acc: 0.9984 - val_loss: 5.7534e-04 - val_acc: 0.9998\n",
      "Epoch 3/10\n",
      "79931/79931 [==============================] - 100s - loss: 0.0045 - acc: 0.9986 - val_loss: 4.2918e-04 - val_acc: 0.9999\n",
      "Epoch 4/10\n",
      "79931/79931 [==============================] - 100s - loss: 0.0044 - acc: 0.9986 - val_loss: 7.5536e-04 - val_acc: 0.9998\n",
      "Epoch 5/10\n",
      "79931/79931 [==============================] - 100s - loss: 0.0051 - acc: 0.9984 - val_loss: 6.0741e-04 - val_acc: 0.9998\n",
      "Epoch 6/10\n",
      "79931/79931 [==============================] - 100s - loss: 0.0044 - acc: 0.9986 - val_loss: 6.4157e-04 - val_acc: 0.9998\n",
      "Epoch 7/10\n",
      "79931/79931 [==============================] - 99s - loss: 0.0040 - acc: 0.9988 - val_loss: 2.8191e-04 - val_acc: 0.9999\n",
      "Epoch 8/10\n",
      "79931/79931 [==============================] - 100s - loss: 0.0041 - acc: 0.9987 - val_loss: 9.2417e-04 - val_acc: 0.9997\n",
      "Epoch 9/10\n",
      "79931/79931 [==============================] - 99s - loss: 0.0044 - acc: 0.9987 - val_loss: 4.9883e-04 - val_acc: 0.9998\n",
      "Epoch 10/10\n",
      "79931/79931 [==============================] - 99s - loss: 0.0040 - acc: 0.9987 - val_loss: 4.0026e-04 - val_acc: 0.9999\n"
     ]
    },
    {
     "data": {
      "text/plain": [
       "<keras.callbacks.History at 0x7f90cae837d0>"
      ]
     },
     "execution_count": 72,
     "metadata": {},
     "output_type": "execute_result"
    }
   ],
   "source": [
    "model.optimizer.lr=0.0001\n",
    "model.fit_generator(trn_batches, len(x_trn), nb_epoch=10, validation_data=(x_val, y_val))"
   ]
  },
  {
   "cell_type": "code",
   "execution_count": 82,
   "metadata": {},
   "outputs": [
    {
     "name": "stdout",
     "output_type": "stream",
     "text": [
      "Epoch 1/10\n",
      "79931/79931 [==============================] - 94s - loss: 0.0054 - acc: 0.9985 - val_loss: 4.9042e-04 - val_acc: 0.9999\n",
      "Epoch 2/10\n",
      "79931/79931 [==============================] - 96s - loss: 0.0042 - acc: 0.9988 - val_loss: 2.7006e-04 - val_acc: 0.9999\n",
      "Epoch 3/10\n",
      "79931/79931 [==============================] - 96s - loss: 0.0045 - acc: 0.9987 - val_loss: 3.4201e-04 - val_acc: 0.9999\n",
      "Epoch 4/10\n",
      "79931/79931 [==============================] - 98s - loss: 0.0039 - acc: 0.9989 - val_loss: 2.1719e-04 - val_acc: 1.0000\n",
      "Epoch 5/10\n",
      "79931/79931 [==============================] - 98s - loss: 0.0047 - acc: 0.9987 - val_loss: 6.9159e-04 - val_acc: 0.9998\n",
      "Epoch 6/10\n",
      "79931/79931 [==============================] - 96s - loss: 0.0043 - acc: 0.9988 - val_loss: 0.0017 - val_acc: 0.9995\n",
      "Epoch 7/10\n",
      "79931/79931 [==============================] - 97s - loss: 0.0040 - acc: 0.9989 - val_loss: 3.6684e-04 - val_acc: 0.9999\n",
      "Epoch 8/10\n",
      "79931/79931 [==============================] - 97s - loss: 0.0048 - acc: 0.9986 - val_loss: 1.9811e-04 - val_acc: 1.0000\n",
      "Epoch 9/10\n",
      "79931/79931 [==============================] - 97s - loss: 0.0042 - acc: 0.9989 - val_loss: 5.2053e-04 - val_acc: 0.9999\n",
      "Epoch 10/10\n",
      "79931/79931 [==============================] - 97s - loss: 0.0034 - acc: 0.9990 - val_loss: 3.9140e-04 - val_acc: 0.9999\n"
     ]
    },
    {
     "data": {
      "text/plain": [
       "<keras.callbacks.History at 0x7f90c1458990>"
      ]
     },
     "execution_count": 82,
     "metadata": {},
     "output_type": "execute_result"
    }
   ],
   "source": [
    "model.optimizer.lr=0.00001\n",
    "model.fit_generator(trn_batches, len(x_trn), nb_epoch=10, validation_data=(x_val, y_val))"
   ]
  },
  {
   "cell_type": "code",
   "execution_count": 88,
   "metadata": {},
   "outputs": [
    {
     "name": "stdout",
     "output_type": "stream",
     "text": [
      "Epoch 1/1\n",
      "79931/79931 [==============================] - 95s - loss: 0.0045 - acc: 0.9988 - val_loss: 3.3873e-04 - val_acc: 0.9999\n"
     ]
    },
    {
     "data": {
      "text/plain": [
       "<keras.callbacks.History at 0x7f90f25b1190>"
      ]
     },
     "execution_count": 88,
     "metadata": {},
     "output_type": "execute_result"
    }
   ],
   "source": [
    "model.fit_generator(trn_batches, len(x_trn), nb_epoch=1, validation_data=(x_val, y_val))"
   ]
  },
  {
   "cell_type": "code",
   "execution_count": 89,
   "metadata": {},
   "outputs": [
    {
     "name": "stdout",
     "output_type": "stream",
     "text": [
      "Epoch 1/1\n",
      "79931/79931 [==============================] - 95s - loss: 0.0039 - acc: 0.9989 - val_loss: 4.4313e-04 - val_acc: 0.9999\n"
     ]
    },
    {
     "data": {
      "text/plain": [
       "<keras.callbacks.History at 0x7f90c17ec890>"
      ]
     },
     "execution_count": 89,
     "metadata": {},
     "output_type": "execute_result"
    }
   ],
   "source": [
    "model.fit_generator(trn_batches, len(x_trn), nb_epoch=1, validation_data=(x_val, y_val))"
   ]
  },
  {
   "cell_type": "code",
   "execution_count": 90,
   "metadata": {},
   "outputs": [
    {
     "name": "stdout",
     "output_type": "stream",
     "text": [
      "Epoch 1/1\n",
      "79931/79931 [==============================] - 95s - loss: 0.0044 - acc: 0.9988 - val_loss: 4.9007e-04 - val_acc: 0.9998\n"
     ]
    },
    {
     "data": {
      "text/plain": [
       "<keras.callbacks.History at 0x7f90cb5099d0>"
      ]
     },
     "execution_count": 90,
     "metadata": {},
     "output_type": "execute_result"
    }
   ],
   "source": [
    "model.fit_generator(trn_batches, len(x_trn), nb_epoch=1, validation_data=(x_val, y_val))"
   ]
  },
  {
   "cell_type": "code",
   "execution_count": 91,
   "metadata": {},
   "outputs": [
    {
     "name": "stdout",
     "output_type": "stream",
     "text": [
      "Epoch 1/1\n",
      "79931/79931 [==============================] - 95s - loss: 0.0041 - acc: 0.9989 - val_loss: 2.9947e-04 - val_acc: 0.9999\n"
     ]
    },
    {
     "data": {
      "text/plain": [
       "<keras.callbacks.History at 0x7f90f283afd0>"
      ]
     },
     "execution_count": 91,
     "metadata": {},
     "output_type": "execute_result"
    }
   ],
   "source": [
    "model.fit_generator(trn_batches, len(x_trn), nb_epoch=1, validation_data=(x_val, y_val))"
   ]
  },
  {
   "cell_type": "code",
   "execution_count": 95,
   "metadata": {},
   "outputs": [
    {
     "name": "stdout",
     "output_type": "stream",
     "text": [
      "Epoch 1/1\n",
      "79931/79931 [==============================] - 94s - loss: 0.0045 - acc: 0.9987 - val_loss: 6.5789e-04 - val_acc: 0.9998\n"
     ]
    },
    {
     "data": {
      "text/plain": [
       "<keras.callbacks.History at 0x7f90c0c04310>"
      ]
     },
     "execution_count": 95,
     "metadata": {},
     "output_type": "execute_result"
    }
   ],
   "source": [
    "model.fit_generator(trn_batches, len(x_trn), nb_epoch=1, validation_data=(x_val, y_val))"
   ]
  },
  {
   "cell_type": "code",
   "execution_count": 96,
   "metadata": {},
   "outputs": [
    {
     "name": "stdout",
     "output_type": "stream",
     "text": [
      "Epoch 1/1\n",
      "79931/79931 [==============================] - 94s - loss: 0.0038 - acc: 0.9989 - val_loss: 2.2624e-04 - val_acc: 0.9999\n"
     ]
    },
    {
     "data": {
      "text/plain": [
       "<keras.callbacks.History at 0x7f90cb55e150>"
      ]
     },
     "execution_count": 96,
     "metadata": {},
     "output_type": "execute_result"
    }
   ],
   "source": [
    "model.fit_generator(trn_batches, len(x_trn), nb_epoch=1, validation_data=(x_val, y_val))"
   ]
  },
  {
   "cell_type": "code",
   "execution_count": 101,
   "metadata": {
    "collapsed": true
   },
   "outputs": [],
   "source": [
    "model.save_weights('best_1.wgt')"
   ]
  },
  {
   "cell_type": "code",
   "execution_count": 102,
   "metadata": {},
   "outputs": [
    {
     "name": "stdout",
     "output_type": "stream",
     "text": [
      "20000/20069 [============================>.] - ETA: 0s"
     ]
    },
    {
     "data": {
      "text/plain": [
       "[0.00022624152223153611, 0.99992881728142891]"
      ]
     },
     "execution_count": 102,
     "metadata": {},
     "output_type": "execute_result"
    }
   ],
   "source": [
    "model.evaluate(x_val, y_val)"
   ]
  },
  {
   "cell_type": "code",
   "execution_count": 111,
   "metadata": {
    "collapsed": true
   },
   "outputs": [],
   "source": [
    "models=best_models"
   ]
  },
  {
   "cell_type": "code",
   "execution_count": 116,
   "metadata": {},
   "outputs": [
    {
     "name": "stdout",
     "output_type": "stream",
     "text": [
      "Epoch 1/1\n",
      "79931/79931 [==============================] - 94s - loss: 0.0033 - acc: 0.9991 - val_loss: 2.7912e-04 - val_acc: 0.9999\n",
      "20000/20069 [============================>.] - ETA: 0sEpoch 1/1\n",
      "79931/79931 [==============================] - 94s - loss: 0.0032 - acc: 0.9991 - val_loss: 3.3171e-04 - val_acc: 0.9999\n",
      "20000/20069 [============================>.] - ETA: 0sEpoch 1/1\n",
      "79931/79931 [==============================] - 94s - loss: 0.0031 - acc: 0.9991 - val_loss: 2.5320e-04 - val_acc: 1.0000\n",
      "20000/20069 [============================>.] - ETA: 0sEpoch 1/1\n",
      "79931/79931 [==============================] - 94s - loss: 0.0037 - acc: 0.9990 - val_loss: 1.9373e-04 - val_acc: 0.9999\n",
      "20000/20069 [============================>.] - ETA: 0sEpoch 1/1\n",
      "79931/79931 [==============================] - 95s - loss: 0.0030 - acc: 0.9991 - val_loss: 2.7544e-04 - val_acc: 0.9999\n",
      "20000/20069 [============================>.] - ETA: 0sEpoch 1/1\n",
      "79931/79931 [==============================] - 95s - loss: 0.0029 - acc: 0.9992 - val_loss: 3.7824e-04 - val_acc: 0.9999\n",
      "20000/20069 [============================>.] - ETA: 0sEpoch 1/1\n",
      "79931/79931 [==============================] - 95s - loss: 0.0030 - acc: 0.9991 - val_loss: 2.4787e-04 - val_acc: 0.9999\n",
      "20000/20069 [============================>.] - ETA: 0sEpoch 1/1\n",
      "79931/79931 [==============================] - 95s - loss: 0.0034 - acc: 0.9990 - val_loss: 2.6517e-04 - val_acc: 0.9999\n",
      "20000/20069 [============================>.] - ETA: 0sEpoch 1/1\n",
      "79931/79931 [==============================] - 95s - loss: 0.0027 - acc: 0.9992 - val_loss: 3.8228e-04 - val_acc: 0.9999\n",
      "20000/20069 [============================>.] - ETA: 0sEpoch 1/1\n",
      "79931/79931 [==============================] - 95s - loss: 0.0032 - acc: 0.9991 - val_loss: 2.1242e-04 - val_acc: 0.9999\n",
      "20000/20069 [============================>.] - ETA: 0sEpoch 1/1\n",
      "79931/79931 [==============================] - 95s - loss: 0.0030 - acc: 0.9991 - val_loss: 2.3795e-04 - val_acc: 1.0000\n",
      "20000/20069 [============================>.] - ETA: 0sEpoch 1/1\n",
      "79931/79931 [==============================] - 95s - loss: 0.0036 - acc: 0.9990 - val_loss: 7.3200e-04 - val_acc: 0.9998\n",
      "20000/20069 [============================>.] - ETA: 0sEpoch 1/1\n",
      "79931/79931 [==============================] - 95s - loss: 0.0029 - acc: 0.9992 - val_loss: 2.2004e-04 - val_acc: 1.0000\n",
      "20000/20069 [============================>.] - ETA: 0sEpoch 1/1\n",
      "79931/79931 [==============================] - 95s - loss: 0.0027 - acc: 0.9992 - val_loss: 2.6283e-04 - val_acc: 0.9999\n",
      "20000/20069 [============================>.] - ETA: 0sEpoch 1/1\n",
      "79931/79931 [==============================] - 95s - loss: 0.0037 - acc: 0.9990 - val_loss: 1.9525e-04 - val_acc: 0.9999\n",
      "20000/20069 [============================>.] - ETA: 0sEpoch 1/1\n",
      "79931/79931 [==============================] - 95s - loss: 0.0028 - acc: 0.9992 - val_loss: 2.2275e-04 - val_acc: 0.9999\n",
      "20000/20069 [============================>.] - ETA: 0sEpoch 1/1\n",
      "79931/79931 [==============================] - 95s - loss: 0.0032 - acc: 0.9991 - val_loss: 5.6115e-04 - val_acc: 0.9998\n",
      "20000/20069 [============================>.] - ETA: 0sEpoch 1/1\n",
      "79931/79931 [==============================] - 95s - loss: 0.0029 - acc: 0.9991 - val_loss: 2.4891e-04 - val_acc: 0.9999\n",
      "20000/20069 [============================>.] - ETA: 0sEpoch 1/1\n",
      "79931/79931 [==============================] - 95s - loss: 0.0035 - acc: 0.9990 - val_loss: 2.2621e-04 - val_acc: 0.9999\n",
      "20000/20069 [============================>.] - ETA: 0sEpoch 1/1\n",
      "79931/79931 [==============================] - 95s - loss: 0.0029 - acc: 0.9992 - val_loss: 2.1742e-04 - val_acc: 0.9999\n",
      "20000/20069 [============================>.] - ETA: 0sEpoch 1/1\n",
      "79931/79931 [==============================] - 95s - loss: 0.0028 - acc: 0.9992 - val_loss: 2.4863e-04 - val_acc: 0.9999\n",
      "20000/20069 [============================>.] - ETA: 0sEpoch 1/1\n",
      "79931/79931 [==============================] - 95s - loss: 0.0027 - acc: 0.9992 - val_loss: 2.4570e-04 - val_acc: 0.9999\n",
      "20000/20069 [============================>.] - ETA: 0sEpoch 1/1\n",
      "79931/79931 [==============================] - 95s - loss: 0.0026 - acc: 0.9992 - val_loss: 1.6092e-04 - val_acc: 1.0000\n",
      "20000/20069 [============================>.] - ETA: 0sEpoch 1/1\n",
      "79931/79931 [==============================] - 95s - loss: 0.0031 - acc: 0.9991 - val_loss: 2.1872e-04 - val_acc: 0.9999\n",
      "20000/20069 [============================>.] - ETA: 0sEpoch 1/1\n",
      "79931/79931 [==============================] - 95s - loss: 0.0027 - acc: 0.9992 - val_loss: 2.1105e-04 - val_acc: 0.9999\n",
      "20000/20069 [============================>.] - ETA: 0sEpoch 1/1\n",
      "79931/79931 [==============================] - 95s - loss: 0.0030 - acc: 0.9991 - val_loss: 4.9000e-04 - val_acc: 0.9999\n",
      "20000/20069 [============================>.] - ETA: 0sEpoch 1/1\n",
      "79931/79931 [==============================] - 95s - loss: 0.0030 - acc: 0.9991 - val_loss: 2.4445e-04 - val_acc: 0.9999\n",
      "20000/20069 [============================>.] - ETA: 0sEpoch 1/1\n",
      "79931/79931 [==============================] - 95s - loss: 0.0029 - acc: 0.9992 - val_loss: 2.0750e-04 - val_acc: 0.9999\n",
      "20000/20069 [============================>.] - ETA: 0sEpoch 1/1\n",
      "79931/79931 [==============================] - 95s - loss: 0.0028 - acc: 0.9992 - val_loss: 1.4770e-04 - val_acc: 0.9999\n",
      "20000/20069 [============================>.] - ETA: 0sEpoch 1/1\n",
      "79931/79931 [==============================] - 95s - loss: 0.0024 - acc: 0.9993 - val_loss: 2.4706e-04 - val_acc: 0.9999\n",
      "20000/20069 [============================>.] - ETA: 0sEpoch 1/1\n",
      "79931/79931 [==============================] - 95s - loss: 0.0026 - acc: 0.9993 - val_loss: 1.8644e-04 - val_acc: 1.0000\n",
      "20000/20069 [============================>.] - ETA: 0sEpoch 1/1\n",
      "79931/79931 [==============================] - 95s - loss: 0.0032 - acc: 0.9991 - val_loss: 1.8152e-04 - val_acc: 1.0000\n",
      "20000/20069 [============================>.] - ETA: 0sEpoch 1/1\n",
      " 3392/79931 [>.............................] - ETA: 85s - loss: 0.0013 - acc: 0.9996"
     ]
    },
    {
     "ename": "KeyboardInterrupt",
     "evalue": "",
     "output_type": "error",
     "traceback": [
      "\u001b[0;31m---------------------------------------------------------------------------\u001b[0m",
      "\u001b[0;31mKeyboardInterrupt\u001b[0m                         Traceback (most recent call last)",
      "\u001b[0;32m<ipython-input-116-faa24ee6a242>\u001b[0m in \u001b[0;36m<module>\u001b[0;34m()\u001b[0m\n\u001b[1;32m      1\u001b[0m \u001b[0mcount\u001b[0m \u001b[0;34m=\u001b[0m\u001b[0;36m0\u001b[0m\u001b[0;34m\u001b[0m\u001b[0m\n\u001b[1;32m      2\u001b[0m \u001b[0;32mwhile\u001b[0m \u001b[0mcount\u001b[0m\u001b[0;34m<=\u001b[0m\u001b[0;36m6\u001b[0m\u001b[0;34m:\u001b[0m\u001b[0;34m\u001b[0m\u001b[0m\n\u001b[0;32m----> 3\u001b[0;31m     \u001b[0mmodel\u001b[0m\u001b[0;34m.\u001b[0m\u001b[0mfit_generator\u001b[0m\u001b[0;34m(\u001b[0m\u001b[0mtrn_batches\u001b[0m\u001b[0;34m,\u001b[0m \u001b[0mlen\u001b[0m\u001b[0;34m(\u001b[0m\u001b[0mx_trn\u001b[0m\u001b[0;34m)\u001b[0m\u001b[0;34m,\u001b[0m \u001b[0mnb_epoch\u001b[0m\u001b[0;34m=\u001b[0m\u001b[0;36m1\u001b[0m\u001b[0;34m,\u001b[0m \u001b[0mvalidation_data\u001b[0m\u001b[0;34m=\u001b[0m\u001b[0;34m(\u001b[0m\u001b[0mx_val\u001b[0m\u001b[0;34m,\u001b[0m \u001b[0my_val\u001b[0m\u001b[0;34m)\u001b[0m\u001b[0;34m)\u001b[0m\u001b[0;34m\u001b[0m\u001b[0m\n\u001b[0m\u001b[1;32m      4\u001b[0m     \u001b[0mevl\u001b[0m\u001b[0;34m=\u001b[0m\u001b[0mmodel\u001b[0m\u001b[0;34m.\u001b[0m\u001b[0mevaluate\u001b[0m\u001b[0;34m(\u001b[0m\u001b[0mx_val\u001b[0m\u001b[0;34m,\u001b[0m \u001b[0my_val\u001b[0m\u001b[0;34m)\u001b[0m\u001b[0;34m\u001b[0m\u001b[0m\n\u001b[1;32m      5\u001b[0m     \u001b[0;32mif\u001b[0m \u001b[0mevl\u001b[0m\u001b[0;34m[\u001b[0m\u001b[0;36m0\u001b[0m\u001b[0;34m]\u001b[0m \u001b[0;34m<\u001b[0m \u001b[0;36m2.0e-4\u001b[0m\u001b[0;34m:\u001b[0m\u001b[0;34m\u001b[0m\u001b[0m\n",
      "\u001b[0;32m/home/viiv/anaconda2/lib/python2.7/site-packages/keras/models.pyc\u001b[0m in \u001b[0;36mfit_generator\u001b[0;34m(self, generator, samples_per_epoch, nb_epoch, verbose, callbacks, validation_data, nb_val_samples, class_weight, max_q_size, nb_worker, pickle_safe, initial_epoch, **kwargs)\u001b[0m\n\u001b[1;32m    933\u001b[0m                                         \u001b[0mnb_worker\u001b[0m\u001b[0;34m=\u001b[0m\u001b[0mnb_worker\u001b[0m\u001b[0;34m,\u001b[0m\u001b[0;34m\u001b[0m\u001b[0m\n\u001b[1;32m    934\u001b[0m                                         \u001b[0mpickle_safe\u001b[0m\u001b[0;34m=\u001b[0m\u001b[0mpickle_safe\u001b[0m\u001b[0;34m,\u001b[0m\u001b[0;34m\u001b[0m\u001b[0m\n\u001b[0;32m--> 935\u001b[0;31m                                         initial_epoch=initial_epoch)\n\u001b[0m\u001b[1;32m    936\u001b[0m \u001b[0;34m\u001b[0m\u001b[0m\n\u001b[1;32m    937\u001b[0m     def evaluate_generator(self, generator, val_samples,\n",
      "\u001b[0;32m/home/viiv/anaconda2/lib/python2.7/site-packages/keras/engine/training.pyc\u001b[0m in \u001b[0;36mfit_generator\u001b[0;34m(self, generator, samples_per_epoch, nb_epoch, verbose, callbacks, validation_data, nb_val_samples, class_weight, max_q_size, nb_worker, pickle_safe, initial_epoch)\u001b[0m\n\u001b[1;32m   1555\u001b[0m                     outs = self.train_on_batch(x, y,\n\u001b[1;32m   1556\u001b[0m                                                \u001b[0msample_weight\u001b[0m\u001b[0;34m=\u001b[0m\u001b[0msample_weight\u001b[0m\u001b[0;34m,\u001b[0m\u001b[0;34m\u001b[0m\u001b[0m\n\u001b[0;32m-> 1557\u001b[0;31m                                                class_weight=class_weight)\n\u001b[0m\u001b[1;32m   1558\u001b[0m \u001b[0;34m\u001b[0m\u001b[0m\n\u001b[1;32m   1559\u001b[0m                     \u001b[0;32mif\u001b[0m \u001b[0;32mnot\u001b[0m \u001b[0misinstance\u001b[0m\u001b[0;34m(\u001b[0m\u001b[0mouts\u001b[0m\u001b[0;34m,\u001b[0m \u001b[0mlist\u001b[0m\u001b[0;34m)\u001b[0m\u001b[0;34m:\u001b[0m\u001b[0;34m\u001b[0m\u001b[0m\n",
      "\u001b[0;32m/home/viiv/anaconda2/lib/python2.7/site-packages/keras/engine/training.pyc\u001b[0m in \u001b[0;36mtrain_on_batch\u001b[0;34m(self, x, y, sample_weight, class_weight)\u001b[0m\n\u001b[1;32m   1318\u001b[0m             \u001b[0mins\u001b[0m \u001b[0;34m=\u001b[0m \u001b[0mx\u001b[0m \u001b[0;34m+\u001b[0m \u001b[0my\u001b[0m \u001b[0;34m+\u001b[0m \u001b[0msample_weights\u001b[0m\u001b[0;34m\u001b[0m\u001b[0m\n\u001b[1;32m   1319\u001b[0m         \u001b[0mself\u001b[0m\u001b[0;34m.\u001b[0m\u001b[0m_make_train_function\u001b[0m\u001b[0;34m(\u001b[0m\u001b[0;34m)\u001b[0m\u001b[0;34m\u001b[0m\u001b[0m\n\u001b[0;32m-> 1320\u001b[0;31m         \u001b[0moutputs\u001b[0m \u001b[0;34m=\u001b[0m \u001b[0mself\u001b[0m\u001b[0;34m.\u001b[0m\u001b[0mtrain_function\u001b[0m\u001b[0;34m(\u001b[0m\u001b[0mins\u001b[0m\u001b[0;34m)\u001b[0m\u001b[0;34m\u001b[0m\u001b[0m\n\u001b[0m\u001b[1;32m   1321\u001b[0m         \u001b[0;32mif\u001b[0m \u001b[0mlen\u001b[0m\u001b[0;34m(\u001b[0m\u001b[0moutputs\u001b[0m\u001b[0;34m)\u001b[0m \u001b[0;34m==\u001b[0m \u001b[0;36m1\u001b[0m\u001b[0;34m:\u001b[0m\u001b[0;34m\u001b[0m\u001b[0m\n\u001b[1;32m   1322\u001b[0m             \u001b[0;32mreturn\u001b[0m \u001b[0moutputs\u001b[0m\u001b[0;34m[\u001b[0m\u001b[0;36m0\u001b[0m\u001b[0;34m]\u001b[0m\u001b[0;34m\u001b[0m\u001b[0m\n",
      "\u001b[0;32m/home/viiv/anaconda2/lib/python2.7/site-packages/keras/backend/theano_backend.pyc\u001b[0m in \u001b[0;36m__call__\u001b[0;34m(self, inputs)\u001b[0m\n\u001b[1;32m    957\u001b[0m     \u001b[0;32mdef\u001b[0m \u001b[0m__call__\u001b[0m\u001b[0;34m(\u001b[0m\u001b[0mself\u001b[0m\u001b[0;34m,\u001b[0m \u001b[0minputs\u001b[0m\u001b[0;34m)\u001b[0m\u001b[0;34m:\u001b[0m\u001b[0;34m\u001b[0m\u001b[0m\n\u001b[1;32m    958\u001b[0m         \u001b[0;32massert\u001b[0m \u001b[0misinstance\u001b[0m\u001b[0;34m(\u001b[0m\u001b[0minputs\u001b[0m\u001b[0;34m,\u001b[0m \u001b[0;34m(\u001b[0m\u001b[0mlist\u001b[0m\u001b[0;34m,\u001b[0m \u001b[0mtuple\u001b[0m\u001b[0;34m)\u001b[0m\u001b[0;34m)\u001b[0m\u001b[0;34m\u001b[0m\u001b[0m\n\u001b[0;32m--> 959\u001b[0;31m         \u001b[0;32mreturn\u001b[0m \u001b[0mself\u001b[0m\u001b[0;34m.\u001b[0m\u001b[0mfunction\u001b[0m\u001b[0;34m(\u001b[0m\u001b[0;34m*\u001b[0m\u001b[0minputs\u001b[0m\u001b[0;34m)\u001b[0m\u001b[0;34m\u001b[0m\u001b[0m\n\u001b[0m\u001b[1;32m    960\u001b[0m \u001b[0;34m\u001b[0m\u001b[0m\n\u001b[1;32m    961\u001b[0m \u001b[0;34m\u001b[0m\u001b[0m\n",
      "\u001b[0;32m/home/viiv/anaconda2/lib/python2.7/site-packages/theano/compile/function_module.pyc\u001b[0m in \u001b[0;36m__call__\u001b[0;34m(self, *args, **kwargs)\u001b[0m\n\u001b[1;32m    882\u001b[0m         \u001b[0;32mtry\u001b[0m\u001b[0;34m:\u001b[0m\u001b[0;34m\u001b[0m\u001b[0m\n\u001b[1;32m    883\u001b[0m             \u001b[0moutputs\u001b[0m \u001b[0;34m=\u001b[0m\u001b[0;31m\\\u001b[0m\u001b[0;34m\u001b[0m\u001b[0m\n\u001b[0;32m--> 884\u001b[0;31m                 \u001b[0mself\u001b[0m\u001b[0;34m.\u001b[0m\u001b[0mfn\u001b[0m\u001b[0;34m(\u001b[0m\u001b[0;34m)\u001b[0m \u001b[0;32mif\u001b[0m \u001b[0moutput_subset\u001b[0m \u001b[0;32mis\u001b[0m \u001b[0mNone\u001b[0m \u001b[0;32melse\u001b[0m\u001b[0;31m\\\u001b[0m\u001b[0;34m\u001b[0m\u001b[0m\n\u001b[0m\u001b[1;32m    885\u001b[0m                 \u001b[0mself\u001b[0m\u001b[0;34m.\u001b[0m\u001b[0mfn\u001b[0m\u001b[0;34m(\u001b[0m\u001b[0moutput_subset\u001b[0m\u001b[0;34m=\u001b[0m\u001b[0moutput_subset\u001b[0m\u001b[0;34m)\u001b[0m\u001b[0;34m\u001b[0m\u001b[0m\n\u001b[1;32m    886\u001b[0m         \u001b[0;32mexcept\u001b[0m \u001b[0mException\u001b[0m\u001b[0;34m:\u001b[0m\u001b[0;34m\u001b[0m\u001b[0m\n",
      "\u001b[0;32m/home/viiv/anaconda2/lib/python2.7/site-packages/theano/ifelse.pyc\u001b[0m in \u001b[0;36mthunk\u001b[0;34m()\u001b[0m\n\u001b[1;32m    244\u001b[0m         \u001b[0moutputs\u001b[0m \u001b[0;34m=\u001b[0m \u001b[0mnode\u001b[0m\u001b[0;34m.\u001b[0m\u001b[0moutputs\u001b[0m\u001b[0;34m\u001b[0m\u001b[0m\n\u001b[1;32m    245\u001b[0m \u001b[0;34m\u001b[0m\u001b[0m\n\u001b[0;32m--> 246\u001b[0;31m         \u001b[0;32mdef\u001b[0m \u001b[0mthunk\u001b[0m\u001b[0;34m(\u001b[0m\u001b[0;34m)\u001b[0m\u001b[0;34m:\u001b[0m\u001b[0;34m\u001b[0m\u001b[0m\n\u001b[0m\u001b[1;32m    247\u001b[0m             \u001b[0;32mif\u001b[0m \u001b[0;32mnot\u001b[0m \u001b[0mcompute_map\u001b[0m\u001b[0;34m[\u001b[0m\u001b[0mcond\u001b[0m\u001b[0;34m]\u001b[0m\u001b[0;34m[\u001b[0m\u001b[0;36m0\u001b[0m\u001b[0;34m]\u001b[0m\u001b[0;34m:\u001b[0m\u001b[0;34m\u001b[0m\u001b[0m\n\u001b[1;32m    248\u001b[0m                 \u001b[0;32mreturn\u001b[0m \u001b[0;34m[\u001b[0m\u001b[0;36m0\u001b[0m\u001b[0;34m]\u001b[0m\u001b[0;34m\u001b[0m\u001b[0m\n",
      "\u001b[0;31mKeyboardInterrupt\u001b[0m: "
     ]
    }
   ],
   "source": [
    "count =0\n",
    "while count<=6:\n",
    "    model.fit_generator(trn_batches, len(x_trn), nb_epoch=1, validation_data=(x_val, y_val))\n",
    "    evl=model.evaluate(x_val, y_val)\n",
    "    if evl[0] < 2.0e-4:\n",
    "        model.save_weights('best_2.wgt'+str(count))\n",
    "        best_models.append(model)\n",
    "        count=count+1"
   ]
  },
  {
   "cell_type": "code",
   "execution_count": 118,
   "metadata": {},
   "outputs": [],
   "source": [
    "model.optimizer.lr=0.000001"
   ]
  },
  {
   "cell_type": "code",
   "execution_count": 121,
   "metadata": {
    "scrolled": true
   },
   "outputs": [
    {
     "name": "stdout",
     "output_type": "stream",
     "text": [
      "Epoch 1/1\n",
      "79931/79931 [==============================] - 94s - loss: 0.0030 - acc: 0.9991 - val_loss: 7.5774e-04 - val_acc: 0.9998\n",
      "20000/20069 [============================>.] - ETA: 0sEpoch 1/1\n",
      "79931/79931 [==============================] - 94s - loss: 0.0026 - acc: 0.9992 - val_loss: 2.0431e-04 - val_acc: 0.9999\n",
      " 4512/20069 [=====>........................] - ETA: 6s"
     ]
    },
    {
     "ename": "KeyboardInterrupt",
     "evalue": "",
     "output_type": "error",
     "traceback": [
      "\u001b[0;31m---------------------------------------------------------------------------\u001b[0m",
      "\u001b[0;31mKeyboardInterrupt\u001b[0m                         Traceback (most recent call last)",
      "\u001b[0;32m<ipython-input-121-8b40087eb1d1>\u001b[0m in \u001b[0;36m<module>\u001b[0;34m()\u001b[0m\n\u001b[1;32m      2\u001b[0m \u001b[0;32mwhile\u001b[0m \u001b[0mcount\u001b[0m\u001b[0;34m<=\u001b[0m\u001b[0;36m6\u001b[0m\u001b[0;34m:\u001b[0m\u001b[0;34m\u001b[0m\u001b[0m\n\u001b[1;32m      3\u001b[0m     \u001b[0mmodel\u001b[0m\u001b[0;34m.\u001b[0m\u001b[0mfit_generator\u001b[0m\u001b[0;34m(\u001b[0m\u001b[0mtrn_batches\u001b[0m\u001b[0;34m,\u001b[0m \u001b[0mlen\u001b[0m\u001b[0;34m(\u001b[0m\u001b[0mx_trn\u001b[0m\u001b[0;34m)\u001b[0m\u001b[0;34m,\u001b[0m \u001b[0mnb_epoch\u001b[0m\u001b[0;34m=\u001b[0m\u001b[0;36m1\u001b[0m\u001b[0;34m,\u001b[0m \u001b[0mvalidation_data\u001b[0m\u001b[0;34m=\u001b[0m\u001b[0;34m(\u001b[0m\u001b[0mx_val\u001b[0m\u001b[0;34m,\u001b[0m \u001b[0my_val\u001b[0m\u001b[0;34m)\u001b[0m\u001b[0;34m)\u001b[0m\u001b[0;34m\u001b[0m\u001b[0m\n\u001b[0;32m----> 4\u001b[0;31m     \u001b[0mevl\u001b[0m\u001b[0;34m=\u001b[0m\u001b[0mmodel\u001b[0m\u001b[0;34m.\u001b[0m\u001b[0mevaluate\u001b[0m\u001b[0;34m(\u001b[0m\u001b[0mx_val\u001b[0m\u001b[0;34m,\u001b[0m \u001b[0my_val\u001b[0m\u001b[0;34m)\u001b[0m\u001b[0;34m\u001b[0m\u001b[0m\n\u001b[0m\u001b[1;32m      5\u001b[0m     \u001b[0;32mif\u001b[0m \u001b[0mevl\u001b[0m\u001b[0;34m[\u001b[0m\u001b[0;36m0\u001b[0m\u001b[0;34m]\u001b[0m \u001b[0;34m<\u001b[0m \u001b[0;36m2.0e-4\u001b[0m\u001b[0;34m:\u001b[0m\u001b[0;34m\u001b[0m\u001b[0m\n\u001b[1;32m      6\u001b[0m         \u001b[0mmodel\u001b[0m\u001b[0;34m.\u001b[0m\u001b[0msave_weights\u001b[0m\u001b[0;34m(\u001b[0m\u001b[0;34m'best_3.wgt'\u001b[0m\u001b[0;34m+\u001b[0m\u001b[0mstr\u001b[0m\u001b[0;34m(\u001b[0m\u001b[0mcount\u001b[0m\u001b[0;34m)\u001b[0m\u001b[0;34m)\u001b[0m\u001b[0;34m\u001b[0m\u001b[0m\n",
      "\u001b[0;32m/home/viiv/anaconda2/lib/python2.7/site-packages/keras/models.pyc\u001b[0m in \u001b[0;36mevaluate\u001b[0;34m(self, x, y, batch_size, verbose, sample_weight, **kwargs)\u001b[0m\n\u001b[1;32m    706\u001b[0m                                    \u001b[0mbatch_size\u001b[0m\u001b[0;34m=\u001b[0m\u001b[0mbatch_size\u001b[0m\u001b[0;34m,\u001b[0m\u001b[0;34m\u001b[0m\u001b[0m\n\u001b[1;32m    707\u001b[0m                                    \u001b[0mverbose\u001b[0m\u001b[0;34m=\u001b[0m\u001b[0mverbose\u001b[0m\u001b[0;34m,\u001b[0m\u001b[0;34m\u001b[0m\u001b[0m\n\u001b[0;32m--> 708\u001b[0;31m                                    sample_weight=sample_weight)\n\u001b[0m\u001b[1;32m    709\u001b[0m \u001b[0;34m\u001b[0m\u001b[0m\n\u001b[1;32m    710\u001b[0m     \u001b[0;32mdef\u001b[0m \u001b[0mpredict\u001b[0m\u001b[0;34m(\u001b[0m\u001b[0mself\u001b[0m\u001b[0;34m,\u001b[0m \u001b[0mx\u001b[0m\u001b[0;34m,\u001b[0m \u001b[0mbatch_size\u001b[0m\u001b[0;34m=\u001b[0m\u001b[0;36m32\u001b[0m\u001b[0;34m,\u001b[0m \u001b[0mverbose\u001b[0m\u001b[0;34m=\u001b[0m\u001b[0;36m0\u001b[0m\u001b[0;34m)\u001b[0m\u001b[0;34m:\u001b[0m\u001b[0;34m\u001b[0m\u001b[0m\n",
      "\u001b[0;32m/home/viiv/anaconda2/lib/python2.7/site-packages/keras/engine/training.pyc\u001b[0m in \u001b[0;36mevaluate\u001b[0;34m(self, x, y, batch_size, verbose, sample_weight)\u001b[0m\n\u001b[1;32m   1234\u001b[0m         return self._test_loop(f, ins,\n\u001b[1;32m   1235\u001b[0m                                \u001b[0mbatch_size\u001b[0m\u001b[0;34m=\u001b[0m\u001b[0mbatch_size\u001b[0m\u001b[0;34m,\u001b[0m\u001b[0;34m\u001b[0m\u001b[0m\n\u001b[0;32m-> 1236\u001b[0;31m                                verbose=verbose)\n\u001b[0m\u001b[1;32m   1237\u001b[0m \u001b[0;34m\u001b[0m\u001b[0m\n\u001b[1;32m   1238\u001b[0m     \u001b[0;32mdef\u001b[0m \u001b[0mpredict\u001b[0m\u001b[0;34m(\u001b[0m\u001b[0mself\u001b[0m\u001b[0;34m,\u001b[0m \u001b[0mx\u001b[0m\u001b[0;34m,\u001b[0m \u001b[0mbatch_size\u001b[0m\u001b[0;34m=\u001b[0m\u001b[0;36m32\u001b[0m\u001b[0;34m,\u001b[0m \u001b[0mverbose\u001b[0m\u001b[0;34m=\u001b[0m\u001b[0;36m0\u001b[0m\u001b[0;34m)\u001b[0m\u001b[0;34m:\u001b[0m\u001b[0;34m\u001b[0m\u001b[0m\n",
      "\u001b[0;32m/home/viiv/anaconda2/lib/python2.7/site-packages/keras/engine/training.pyc\u001b[0m in \u001b[0;36m_test_loop\u001b[0;34m(self, f, ins, batch_size, verbose)\u001b[0m\n\u001b[1;32m    988\u001b[0m                 \u001b[0mins_batch\u001b[0m \u001b[0;34m=\u001b[0m \u001b[0mslice_X\u001b[0m\u001b[0;34m(\u001b[0m\u001b[0mins\u001b[0m\u001b[0;34m,\u001b[0m \u001b[0mbatch_ids\u001b[0m\u001b[0;34m)\u001b[0m\u001b[0;34m\u001b[0m\u001b[0m\n\u001b[1;32m    989\u001b[0m \u001b[0;34m\u001b[0m\u001b[0m\n\u001b[0;32m--> 990\u001b[0;31m             \u001b[0mbatch_outs\u001b[0m \u001b[0;34m=\u001b[0m \u001b[0mf\u001b[0m\u001b[0;34m(\u001b[0m\u001b[0mins_batch\u001b[0m\u001b[0;34m)\u001b[0m\u001b[0;34m\u001b[0m\u001b[0m\n\u001b[0m\u001b[1;32m    991\u001b[0m             \u001b[0;32mif\u001b[0m \u001b[0misinstance\u001b[0m\u001b[0;34m(\u001b[0m\u001b[0mbatch_outs\u001b[0m\u001b[0;34m,\u001b[0m \u001b[0mlist\u001b[0m\u001b[0;34m)\u001b[0m\u001b[0;34m:\u001b[0m\u001b[0;34m\u001b[0m\u001b[0m\n\u001b[1;32m    992\u001b[0m                 \u001b[0;32mif\u001b[0m \u001b[0mbatch_index\u001b[0m \u001b[0;34m==\u001b[0m \u001b[0;36m0\u001b[0m\u001b[0;34m:\u001b[0m\u001b[0;34m\u001b[0m\u001b[0m\n",
      "\u001b[0;32m/home/viiv/anaconda2/lib/python2.7/site-packages/keras/backend/theano_backend.pyc\u001b[0m in \u001b[0;36m__call__\u001b[0;34m(self, inputs)\u001b[0m\n\u001b[1;32m    957\u001b[0m     \u001b[0;32mdef\u001b[0m \u001b[0m__call__\u001b[0m\u001b[0;34m(\u001b[0m\u001b[0mself\u001b[0m\u001b[0;34m,\u001b[0m \u001b[0minputs\u001b[0m\u001b[0;34m)\u001b[0m\u001b[0;34m:\u001b[0m\u001b[0;34m\u001b[0m\u001b[0m\n\u001b[1;32m    958\u001b[0m         \u001b[0;32massert\u001b[0m \u001b[0misinstance\u001b[0m\u001b[0;34m(\u001b[0m\u001b[0minputs\u001b[0m\u001b[0;34m,\u001b[0m \u001b[0;34m(\u001b[0m\u001b[0mlist\u001b[0m\u001b[0;34m,\u001b[0m \u001b[0mtuple\u001b[0m\u001b[0;34m)\u001b[0m\u001b[0;34m)\u001b[0m\u001b[0;34m\u001b[0m\u001b[0m\n\u001b[0;32m--> 959\u001b[0;31m         \u001b[0;32mreturn\u001b[0m \u001b[0mself\u001b[0m\u001b[0;34m.\u001b[0m\u001b[0mfunction\u001b[0m\u001b[0;34m(\u001b[0m\u001b[0;34m*\u001b[0m\u001b[0minputs\u001b[0m\u001b[0;34m)\u001b[0m\u001b[0;34m\u001b[0m\u001b[0m\n\u001b[0m\u001b[1;32m    960\u001b[0m \u001b[0;34m\u001b[0m\u001b[0m\n\u001b[1;32m    961\u001b[0m \u001b[0;34m\u001b[0m\u001b[0m\n",
      "\u001b[0;32m/home/viiv/anaconda2/lib/python2.7/site-packages/theano/compile/function_module.pyc\u001b[0m in \u001b[0;36m__call__\u001b[0;34m(self, *args, **kwargs)\u001b[0m\n\u001b[1;32m    882\u001b[0m         \u001b[0;32mtry\u001b[0m\u001b[0;34m:\u001b[0m\u001b[0;34m\u001b[0m\u001b[0m\n\u001b[1;32m    883\u001b[0m             \u001b[0moutputs\u001b[0m \u001b[0;34m=\u001b[0m\u001b[0;31m\\\u001b[0m\u001b[0;34m\u001b[0m\u001b[0m\n\u001b[0;32m--> 884\u001b[0;31m                 \u001b[0mself\u001b[0m\u001b[0;34m.\u001b[0m\u001b[0mfn\u001b[0m\u001b[0;34m(\u001b[0m\u001b[0;34m)\u001b[0m \u001b[0;32mif\u001b[0m \u001b[0moutput_subset\u001b[0m \u001b[0;32mis\u001b[0m \u001b[0mNone\u001b[0m \u001b[0;32melse\u001b[0m\u001b[0;31m\\\u001b[0m\u001b[0;34m\u001b[0m\u001b[0m\n\u001b[0m\u001b[1;32m    885\u001b[0m                 \u001b[0mself\u001b[0m\u001b[0;34m.\u001b[0m\u001b[0mfn\u001b[0m\u001b[0;34m(\u001b[0m\u001b[0moutput_subset\u001b[0m\u001b[0;34m=\u001b[0m\u001b[0moutput_subset\u001b[0m\u001b[0;34m)\u001b[0m\u001b[0;34m\u001b[0m\u001b[0m\n\u001b[1;32m    886\u001b[0m         \u001b[0;32mexcept\u001b[0m \u001b[0mException\u001b[0m\u001b[0;34m:\u001b[0m\u001b[0;34m\u001b[0m\u001b[0m\n",
      "\u001b[0;32m/home/viiv/anaconda2/lib/python2.7/site-packages/theano/ifelse.pyc\u001b[0m in \u001b[0;36mthunk\u001b[0;34m()\u001b[0m\n\u001b[1;32m    244\u001b[0m         \u001b[0moutputs\u001b[0m \u001b[0;34m=\u001b[0m \u001b[0mnode\u001b[0m\u001b[0;34m.\u001b[0m\u001b[0moutputs\u001b[0m\u001b[0;34m\u001b[0m\u001b[0m\n\u001b[1;32m    245\u001b[0m \u001b[0;34m\u001b[0m\u001b[0m\n\u001b[0;32m--> 246\u001b[0;31m         \u001b[0;32mdef\u001b[0m \u001b[0mthunk\u001b[0m\u001b[0;34m(\u001b[0m\u001b[0;34m)\u001b[0m\u001b[0;34m:\u001b[0m\u001b[0;34m\u001b[0m\u001b[0m\n\u001b[0m\u001b[1;32m    247\u001b[0m             \u001b[0;32mif\u001b[0m \u001b[0;32mnot\u001b[0m \u001b[0mcompute_map\u001b[0m\u001b[0;34m[\u001b[0m\u001b[0mcond\u001b[0m\u001b[0;34m]\u001b[0m\u001b[0;34m[\u001b[0m\u001b[0;36m0\u001b[0m\u001b[0;34m]\u001b[0m\u001b[0;34m:\u001b[0m\u001b[0;34m\u001b[0m\u001b[0m\n\u001b[1;32m    248\u001b[0m                 \u001b[0;32mreturn\u001b[0m \u001b[0;34m[\u001b[0m\u001b[0;36m0\u001b[0m\u001b[0;34m]\u001b[0m\u001b[0;34m\u001b[0m\u001b[0m\n",
      "\u001b[0;31mKeyboardInterrupt\u001b[0m: "
     ]
    }
   ],
   "source": [
    "count =0\n",
    "while count<=6:\n",
    "    model.fit_generator(trn_batches, len(x_trn), nb_epoch=1, validation_data=(x_val, y_val))\n",
    "    evl=model.evaluate(x_val, y_val)\n",
    "    if evl[0] < 2.0e-4:\n",
    "        model.save_weights('best_3.wgt'+str(count))\n",
    "        best_models.append(model)\n",
    "        count=count+1"
   ]
  },
  {
   "cell_type": "code",
   "execution_count": 4,
   "metadata": {},
   "outputs": [],
   "source": [
    "def get_model():\n",
    "    return Sequential([\n",
    "            BatchNormalization(axis=1, input_shape=(1,30,90)),\n",
    "            #Lambda(norm_input, input_shape=(1,30,90), output_shape=(1,30,90)),\n",
    "            Convolution2D(32,3,3, activation='relu'),\n",
    "            BatchNormalization(axis=1),\n",
    "            Convolution2D(32,3,3, activation='relu'),\n",
    "            BatchNormalization(axis=1),\n",
    "            MaxPooling2D(),\n",
    "            Convolution2D(64,3,3, activation='relu'),\n",
    "            BatchNormalization(axis=1),\n",
    "            Convolution2D(64,3,3, activation='relu'),\n",
    "            BatchNormalization(axis=1),\n",
    "            MaxPooling2D(),\n",
    "\n",
    "            Flatten(),\n",
    "            BatchNormalization(),\n",
    "\n",
    "            \n",
    "            Dense(70, activation='relu'),\n",
    "            BatchNormalization(),\n",
    "\n",
    "            Dense(70, activation='relu'),\n",
    "            BatchNormalization(),\n",
    "        \n",
    "            Reshape((7, 10)),\n",
    "            TimeDistributed(Dense(16, activation='softmax'))\n",
    "        ])"
   ]
  },
  {
   "cell_type": "code",
   "execution_count": 5,
   "metadata": {
    "collapsed": true
   },
   "outputs": [],
   "source": [
    "best_models = []"
   ]
  },
  {
   "cell_type": "code",
   "execution_count": 128,
   "metadata": {
    "collapsed": true
   },
   "outputs": [],
   "source": [
    "for i in range(6):\n",
    "    m = get_model()\n",
    "    m.load_weights('best_2.wgt'+str(i))\n",
    "    best_models.append(m)"
   ]
  },
  {
   "cell_type": "code",
   "execution_count": 147,
   "metadata": {},
   "outputs": [
    {
     "name": "stdout",
     "output_type": "stream",
     "text": [
      "20064/20069 [============================>.] - ETA: 0s0.99992881701 0.999501719069 10 10 [5508, 10181, 7846, 8967, 14279, 14494, 1692, 5405, 11294, 18751]\n",
      "20000/20069 [============================>.] - ETA: 0s0.999943053608 0.999601375255 8 8 [5508, 7846, 14279, 15047, 5782, 4, 1692, 11294]\n",
      "20032/20069 [============================>.] - ETA: 0s0.999950171907 0.999651203348 7 7 [4132, 14279, 11606, 19449, 5508, 1692, 11294]\n",
      "20069/20069 [==============================] - 7s     \n",
      "0.999935935309 0.999551547162 9 9 [1472, 19297, 6018, 7051, 14867, 4664, 19449, 1692, 11294]\n",
      "20069/20069 [==============================] - 7s     \n",
      "0.999964408505 0.999750859535 5 5 [1472, 10417, 14867, 11294, 14279]\n",
      "20032/20069 [============================>.] - ETA: 0s0.999957290206 0.999701031442 6 6 [5508, 13415, 4664, 19449, 1692, 11294]\n"
     ]
    }
   ],
   "source": [
    "inspect_models(best_models)"
   ]
  },
  {
   "cell_type": "code",
   "execution_count": 148,
   "metadata": {
    "collapsed": true
   },
   "outputs": [],
   "source": [
    "best_2_models = []\n",
    "for i in range(6):\n",
    "    m = get_model()\n",
    "    m.load_weights('best_1.wgt'+str(i))\n",
    "    best_2_models.append(m)"
   ]
  },
  {
   "cell_type": "code",
   "execution_count": 149,
   "metadata": {},
   "outputs": [
    {
     "name": "stdout",
     "output_type": "stream",
     "text": [
      "20069/20069 [==============================] - 7s     \n",
      "0.999935935309 0.999601375255 9 8 [5782, 8967, 13415, 14279, 11606, 4664, 1692, 11294]\n",
      "20032/20069 [============================>.] - ETA: 0s0.999935935309 0.999551547162 9 9 [1472, 5508, 15047, 7051, 11606, 19449, 4132, 11294, 14975]\n",
      "20000/20069 [============================>.] - ETA: 0s0.999971526804 0.999800687628 4 4 [14647, 11294, 5782, 14391]\n",
      "20032/20069 [============================>.] - ETA: 0s0.99992881701 0.999501719069 10 10 [6018, 5508, 8967, 11784, 7051, 10551, 12612, 1692, 11294, 1439]\n",
      "20000/20069 [============================>.] - ETA: 0s0.999950171907 0.999651203348 7 7 [1472, 5508, 8967, 5782, 19449, 1692, 11294]\n",
      "20032/20069 [============================>.] - ETA: 0s0.999950171907 0.999651203348 7 7 [5508, 15973, 14279, 8967, 19449, 1692, 11294]\n"
     ]
    }
   ],
   "source": [
    "inspect_models(best_2_models)"
   ]
  },
  {
   "cell_type": "code",
   "execution_count": 151,
   "metadata": {
    "collapsed": true
   },
   "outputs": [
    {
     "name": "stdout",
     "output_type": "stream",
     "text": [
      "0.999985763402 0.999900343814 2 2 [1692, 11294]\n",
      "pred:(5-9)+8 label:(5-9)*8\n",
      "pred:7+(4-0) label:7+(4-7)\n",
      "pred:(5-9)+8 label:(5-9)*8\n",
      "pred:7+(4-0) label:7+(4-7)\n"
     ]
    },
    {
     "data": {
      "image/png": "[encoded data removed]",
      "text/plain": [
       "<matplotlib.figure.Figure at 0x7f90cea9b050>"
      ]
     },
     "metadata": {},
     "output_type": "display_data"
    },
    {
     "data": {
      "image/png": "[encoded data removed]",
      "text/plain": [
       "<matplotlib.figure.Figure at 0x7f90c0a04310>"
      ]
     },
     "metadata": {},
     "output_type": "display_data"
    }
   ],
   "source": [
    "predict_ensemble(best_models)"
   ]
  },
  {
   "cell_type": "code",
   "execution_count": 150,
   "metadata": {
    "collapsed": true
   },
   "outputs": [
    {
     "name": "stdout",
     "output_type": "stream",
     "text": [
      "0.999964408505 0.999750859535 5 5 [5508, 1692, 11294, 5782, 8967]\n",
      "pred:(2-7)-9 label:(2*7)-9\n",
      "pred:(5-9)+8 label:(5-9)*8\n",
      "pred:7+(4-0) label:7+(4-7)\n",
      "pred:5+1*5NN label:5*1*5NN\n",
      "pred:2*(9+9) label:2*(9+3)\n",
      "pred:(2-7)-9 label:(2*7)-9\n",
      "pred:(5-9)+8 label:(5-9)*8\n",
      "pred:7+(4-0) label:7+(4-7)\n",
      "pred:5+1*5NN label:5*1*5NN\n",
      "pred:2*(9+9) label:2*(9+3)\n"
     ]
    },
    {
     "data": {
      "image/png": "[encoded data removed]",
      "text/plain": [
       "<matplotlib.figure.Figure at 0x7f90dd85a790>"
      ]
     },
     "metadata": {},
     "output_type": "display_data"
    },
    {
     "data": {
      "image/png": "[encoded data removed]",
      "text/plain": [
       "<matplotlib.figure.Figure at 0x7f90c0a84d10>"
      ]
     },
     "metadata": {},
     "output_type": "display_data"
    },
    {
     "data": {
      "image/png": "[encoded data removed]",
      "text/plain": [
       "<matplotlib.figure.Figure at 0x7f90c094bf50>"
      ]
     },
     "metadata": {},
     "output_type": "display_data"
    },
    {
     "data": {
      "image/png": "[encoded data removed]",
      "text/plain": [
       "<matplotlib.figure.Figure at 0x7f90c0242150>"
      ]
     },
     "metadata": {},
     "output_type": "display_data"
    },
    {
     "data": {
      "image/png": "[encoded data removed]",
      "text/plain": [
       "<matplotlib.figure.Figure at 0x7f90c074c710>"
      ]
     },
     "metadata": {},
     "output_type": "display_data"
    }
   ],
   "source": [
    "predict_ensemble(best_2_models)"
   ]
  },
  {
   "cell_type": "code",
   "execution_count": 154,
   "metadata": {
    "collapsed": true
   },
   "outputs": [
    {
     "name": "stdout",
     "output_type": "stream",
     "text": [
      "20032/20069 [============================>.] - ETA: 0s0.999935935309 0.999551547162 9 9 [13415, 7051, 1810, 5782, 4664, 19449, 14279, 11294, 18751]\n",
      "pred:5-(6*6) label:5-(6*1)\n",
      "pred:9-1*5NN label:9-1+5NN\n",
      "pred:9*1-4NN label:9+1-4NN\n",
      "pred:5+1*5NN label:5*1*5NN\n",
      "pred:4+4-1NN label:4+4-0NN\n",
      "pred:9+8-4NN label:9+9-4NN\n",
      "pred:(2*3)*9 label:(2*3)+9\n",
      "pred:7+(4-8) label:7+(4-7)\n",
      "pred:6+(0+6) label:6+(1+6)\n"
     ]
    },
    {
     "data": {
      "image/png": "[encoded data removed]",
      "text/plain": [
       "<matplotlib.figure.Figure at 0x7f90cfc9c690>"
      ]
     },
     "metadata": {},
     "output_type": "display_data"
    },
    {
     "data": {
      "image/png": "[encoded data removed]",
      "text/plain": [
       "<matplotlib.figure.Figure at 0x7f90c10b24d0>"
      ]
     },
     "metadata": {},
     "output_type": "display_data"
    },
    {
     "data": {
      "image/png": "[encoded data removed]",
      "text/plain": [
       "<matplotlib.figure.Figure at 0x7f90dd8ddcd0>"
      ]
     },
     "metadata": {},
     "output_type": "display_data"
    },
    {
     "data": {
      "image/png": "[encoded data removed]",
      "text/plain": [
       "<matplotlib.figure.Figure at 0x7f90c0426f10>"
      ]
     },
     "metadata": {},
     "output_type": "display_data"
    },
    {
     "data": {
      "image/png": "[encoded data removed]",
      "text/plain": [
       "<matplotlib.figure.Figure at 0x7f90c1234ed0>"
      ]
     },
     "metadata": {},
     "output_type": "display_data"
    },
    {
     "data": {
      "image/png": "[encoded data removed]",
      "text/plain": [
       "<matplotlib.figure.Figure at 0x7f90c1034150>"
      ]
     },
     "metadata": {},
     "output_type": "display_data"
    },
    {
     "data": {
      "image/png": "[encoded data removed]",
      "text/plain": [
       "<matplotlib.figure.Figure at 0x7f90c07a6110>"
      ]
     },
     "metadata": {},
     "output_type": "display_data"
    },
    {
     "data": {
      "image/png": "[encoded data removed]",
      "text/plain": [
       "<matplotlib.figure.Figure at 0x7f90c038e410>"
      ]
     },
     "metadata": {},
     "output_type": "display_data"
    },
    {
     "data": {
      "image/png": "[encoded data removed]",
      "text/plain": [
       "<matplotlib.figure.Figure at 0x7f90c101b310>"
      ]
     },
     "metadata": {},
     "output_type": "display_data"
    }
   ],
   "source": [
    "predict_single(model)"
   ]
  },
  {
   "cell_type": "code",
   "execution_count": 1,
   "metadata": {},
   "outputs": [
    {
     "ename": "NameError",
     "evalue": "name 'get_model' is not defined",
     "output_type": "error",
     "traceback": [
      "\u001b[0;31m---------------------------------------------------------------------------\u001b[0m",
      "\u001b[0;31mNameError\u001b[0m                                 Traceback (most recent call last)",
      "\u001b[0;32m<ipython-input-1-fa84c650e5c9>\u001b[0m in \u001b[0;36m<module>\u001b[0;34m()\u001b[0m\n\u001b[0;32m----> 1\u001b[0;31m \u001b[0mmodel\u001b[0m \u001b[0;34m=\u001b[0m \u001b[0mget_model\u001b[0m\u001b[0;34m(\u001b[0m\u001b[0;34m)\u001b[0m\u001b[0;34m\u001b[0m\u001b[0m\n\u001b[0m\u001b[1;32m      2\u001b[0m \u001b[0mmodel\u001b[0m\u001b[0;34m.\u001b[0m\u001b[0mcompile\u001b[0m\u001b[0;34m(\u001b[0m\u001b[0mAdam\u001b[0m\u001b[0;34m(\u001b[0m\u001b[0;34m)\u001b[0m\u001b[0;34m,\u001b[0m \u001b[0mloss\u001b[0m\u001b[0;34m=\u001b[0m\u001b[0;34m'sparse_categorical_crossentropy'\u001b[0m\u001b[0;34m,\u001b[0m \u001b[0mmetrics\u001b[0m\u001b[0;34m=\u001b[0m\u001b[0;34m[\u001b[0m\u001b[0;34m'accuracy'\u001b[0m\u001b[0;34m]\u001b[0m\u001b[0;34m)\u001b[0m\u001b[0;34m\u001b[0m\u001b[0m\n\u001b[1;32m      3\u001b[0m \u001b[0mmodel\u001b[0m\u001b[0;34m.\u001b[0m\u001b[0mfit_generator\u001b[0m\u001b[0;34m(\u001b[0m\u001b[0mtrn_batches\u001b[0m\u001b[0;34m,\u001b[0m \u001b[0mlen\u001b[0m\u001b[0;34m(\u001b[0m\u001b[0mx_trn\u001b[0m\u001b[0;34m)\u001b[0m\u001b[0;34m,\u001b[0m \u001b[0mnb_epoch\u001b[0m\u001b[0;34m=\u001b[0m\u001b[0;36m1\u001b[0m\u001b[0;34m,\u001b[0m \u001b[0mvalidation_data\u001b[0m\u001b[0;34m=\u001b[0m\u001b[0;34m(\u001b[0m\u001b[0mx_val\u001b[0m\u001b[0;34m,\u001b[0m \u001b[0my_val\u001b[0m\u001b[0;34m)\u001b[0m\u001b[0;34m)\u001b[0m\u001b[0;34m\u001b[0m\u001b[0m\n\u001b[1;32m      4\u001b[0m \u001b[0;34m\u001b[0m\u001b[0m\n\u001b[1;32m      5\u001b[0m \u001b[0mmodel\u001b[0m\u001b[0;34m.\u001b[0m\u001b[0moptimizer\u001b[0m\u001b[0;34m.\u001b[0m\u001b[0mlr\u001b[0m\u001b[0;34m=\u001b[0m\u001b[0;36m0.1\u001b[0m\u001b[0;34m\u001b[0m\u001b[0m\n",
      "\u001b[0;31mNameError\u001b[0m: name 'get_model' is not defined"
     ]
    }
   ],
   "source": [
    "model = get_model()\n",
    "model.compile(Adam(), loss='sparse_categorical_crossentropy', metrics=['accuracy'])\n",
    "model.fit_generator(trn_batches, len(x_trn), nb_epoch=1, validation_data=(x_val, y_val))\n",
    "\n",
    "model.optimizer.lr=0.1\n",
    "model.fit_generator(trn_batches, len(x_trn), nb_epoch=4, validation_data=(x_val, y_val))\n",
    "\n",
    "model.optimizer.lr=0.01\n",
    "model.fit_generator(trn_batches, len(x_trn), nb_epoch=12, validation_data=(x_val, y_val))\n",
    "\n",
    "model.optimizer.lr=0.001\n",
    "model.fit_generator(trn_batches, len(x_trn), nb_epoch=12, validation_data=(x_val, y_val))\n",
    "\n",
    "model.optimizer.lr=0.0001\n",
    "model.fit_generator(trn_batches, len(x_trn), nb_epoch=10, validation_data=(x_val, y_val))"
   ]
  },
  {
   "cell_type": "code",
   "execution_count": 6,
   "metadata": {
    "collapsed": true
   },
   "outputs": [],
   "source": [
    "final_models = []\n",
    "for i in range(6):\n",
    "    m = get_model()\n",
    "    m.load_weights('best_2.wgt'+str(i))\n",
    "    final_models.append(m)"
   ]
  },
  {
   "cell_type": "code",
   "execution_count": null,
   "metadata": {},
   "outputs": [
    {
     "name": "stdout",
     "output_type": "stream",
     "text": [
      "0.0\n",
      "1.0\n",
      "17416|7*(+)\n",
      "2.0\n",
      "3.0\n",
      "4.0\n",
      "5.0\n",
      "6.0\n",
      "7.0\n",
      "8.0\n",
      "9.0\n",
      "95303|(+++)\n",
      "10.0\n",
      "102187|(+(*))\n",
      "11.0\n"
     ]
    }
   ],
   "source": [
    "exps = []\n",
    "test_val = test_imgs\n",
    "all_preds=[]\n",
    "avg_preds=[]\n",
    "for i in xrange(0, len(test_val), 1000):\n",
    "    if i%10000==0:\n",
    "        print(i/10000)\n",
    "    ridx = i + 1000\n",
    "    if ridx > len(test_val):\n",
    "        ridx = len(test_val)\n",
    "    all_preds = np.stack([m.predict(test_val[i:ridx], batch_size=256) for m in final_models])\n",
    "    avg_preds = all_preds.mean(axis=0)\n",
    "    preds = np.array([[np.argmax(i) for i in p] for p in avg_preds])\n",
    "    for idx in range(len(preds)):\n",
    "        exp = ''.join([tokens[i].rstrip('N') for i in preds[idx]]) \n",
    "        r=0\n",
    "        try:\n",
    "            r=eval(exp)\n",
    "        except SyntaxError:\n",
    "            print(str(len(exps)) +'|'+ exp)\n",
    "            #plot(test_val[len(exps)].reshape((30,90)))\n",
    "        exps.append(exp+' '+str(r))\n"
   ]
  },
  {
   "cell_type": "code",
   "execution_count": 9,
   "metadata": {
    "collapsed": true
   },
   "outputs": [
    {
     "data": {
      "text/plain": [
       "['1-1*4-3',\n",
       " '(1-8)*4-28',\n",
       " '1+(8*5)41',\n",
       " '7+0*97',\n",
       " '(8-1)-8-1',\n",
       " '(6+7)-67',\n",
       " '(4+3)-70',\n",
       " '(5*1)+05',\n",
       " '8+7*08',\n",
       " '2*9-117',\n",
       " '0+5+05',\n",
       " '(5-6)+21',\n",
       " '(1+7)*00',\n",
       " '3+3-7-1',\n",
       " '1+(4+6)11',\n",
       " '7+8*223',\n",
       " '7-3*6-11',\n",
       " '9-(7-4)6',\n",
       " '(7*0)+00',\n",
       " '5-2-8-5']"
      ]
     },
     "execution_count": 9,
     "metadata": {},
     "output_type": "execute_result"
    }
   ],
   "source": [
    "exps[:20]"
   ]
  },
  {
   "cell_type": "code",
   "execution_count": null,
   "metadata": {
    "collapsed": true
   },
   "outputs": [],
   "source": [
    "with open('somefile.txt', 'a') as the_file:\n",
    "    the_file.write('Hello\\n')\n",
    "    "
   ]
  },
  {
   "cell_type": "code",
   "execution_count": 22,
   "metadata": {},
   "outputs": [
    {
     "data": {
      "image/png": "[encoded data removed]",
      "text/plain": [
       "<matplotlib.figure.Figure at 0x7fdba8b0a450>"
      ]
     },
     "metadata": {},
     "output_type": "display_data"
    },
    {
     "data": {
      "image/png": "[encoded data removed]",
      "text/plain": [
       "<matplotlib.figure.Figure at 0x7fdba89f5410>"
      ]
     },
     "metadata": {},
     "output_type": "display_data"
    },
    {
     "data": {
      "image/png": "[encoded data removed]",
      "text/plain": [
       "<matplotlib.figure.Figure at 0x7fdba8988290>"
      ]
     },
     "metadata": {},
     "output_type": "display_data"
    }
   ],
   "source": [
    "##17416.png，95303.png，142660.png\n",
    "for img in test_val: \n",
    "    plot(img.reshape(30,90))"
   ]
  },
  {
   "cell_type": "code",
   "execution_count": 23,
   "metadata": {},
   "outputs": [
    {
     "data": {
      "text/plain": [
       "['7*(+)', '(+++)', '(*(5)']"
      ]
     },
     "execution_count": 23,
     "metadata": {},
     "output_type": "execute_result"
    }
   ],
   "source": [
    "exps"
   ]
  },
  {
   "cell_type": "code",
   "execution_count": 27,
   "metadata": {},
   "outputs": [
    {
     "name": "stdout",
     "output_type": "stream",
     "text": [
      "(+++)\n"
     ]
    }
   ],
   "source": [
    "try:\n",
    "    eval(\"1 + 2) + 3\")\n",
    "except SyntaxError:\n",
    "    print('(+++)')"
   ]
  },
  {
   "cell_type": "code",
   "execution_count": 8,
   "metadata": {},
   "outputs": [
    {
     "data": {
      "text/plain": [
       "(30, 90)"
      ]
     },
     "execution_count": 8,
     "metadata": {},
     "output_type": "execute_result"
    }
   ],
   "source": [
    "test_imgs[102187].reshape((30,90)).shape"
   ]
  },
  {
   "cell_type": "code",
   "execution_count": 10,
   "metadata": {},
   "outputs": [
    {
     "data": {
      "image/png": "[encoded data removed]",
      "text/plain": [
       "<matplotlib.figure.Figure at 0x7f8ddfbfad10>"
      ]
     },
     "metadata": {},
     "output_type": "display_data"
    }
   ],
   "source": [
    "plot(test_imgs[102187].reshape((30,90)))"
   ]
  },
  {
   "cell_type": "code",
   "execution_count": null,
   "metadata": {
    "collapsed": true
   },
   "outputs": [],
   "source": []
  }
 ],
 "metadata": {
  "kernelspec": {
   "display_name": "Python [conda root]",
   "language": "python",
   "name": "conda-root-py"
  },
  "language_info": {
   "codemirror_mode": {
    "name": "ipython",
    "version": 2
   },
   "file_extension": ".py",
   "mimetype": "text/x-python",
   "name": "python",
   "nbconvert_exporter": "python",
   "pygments_lexer": "ipython2",
   "version": "2.7.13"
  },
  "widgets": {
   "application/vnd.jupyter.widget-state+json": {
    "state": {},
    "version_major": 1,
    "version_minor": 0
   }
  }
 },
 "nbformat": 4,
 "nbformat_minor": 2
}
